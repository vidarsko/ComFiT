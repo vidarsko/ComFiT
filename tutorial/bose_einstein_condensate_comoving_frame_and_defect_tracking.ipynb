{
 "cells": [
  {
   "cell_type": "markdown",
   "id": "45971f8a-27ce-4bee-ba57-2b4b25bd48b5",
   "metadata": {},
   "source": [
    "# 2.1 - BoseEinsteinCondensate tutorial: comoving frame and defect tracking"
   ]
  },
  {
   "cell_type": "markdown",
   "id": "b5d5fe99",
   "metadata": {},
   "source": [
    "Here we are going to show how the BoseEinsteinCondensate can be evolved in the comoving frame. We start by initialising a BoseEinsteinCondensate with a gaussian potential a bit forward in the computational domain. The ground state of this configuration is found by initialising the Thomas-Fermi ground state and evolving this in imaginary time.  \n",
    "\n",
    "A constant (in time) potential is implemented in the code as the function bec.V_ext(t). The  default a function given as self.V_ext = lambda t: 0. This can be changed by using the function bec.conf_external_potential(V_ext, additive=False) \n",
    "\n",
    "We provide two functions that calculates some commonly used potentials. The gaussian and the harmonic potential. They are given by the functions:\n",
    "\n",
    "bec.calc_gaussian_stirring_potential(size, strength, position) and\n",
    "bec.calc_harmonic_potential(R_tf)\n",
    "\n",
    "where R_tf is the Thomas-Fermi radius (the size of the condensate, see documentation for details). "
   ]
  },
  {
   "cell_type": "code",
   "execution_count": null,
   "id": "281b3394",
   "metadata": {},
   "outputs": [],
   "source": [
    "!pip install comfit -q"
   ]
  },
  {
   "cell_type": "code",
   "execution_count": null,
   "id": "1bd9260f",
   "metadata": {},
   "outputs": [],
   "source": [
    "import numpy as np\n",
    "import matplotlib.pyplot as plt\n",
    "import comfit as cf\n",
    "\n",
    "bec = cf.BoseEinsteinCondensate(2,xRes=256,yRes=128,gamma=0,dt=0.05)\n",
    "\n",
    "### task 1: Set the potiential to a constant gaussian at this position [bec.xmid+50,bec.ymid] with size = 5 and\n",
    "# strength = 4\n",
    "#Set the potential by defininf V0 = ...\n",
    "# and calling the function bec.conf_external_potential(V0)\n",
    "\n",
    "\n"
   ]
  },
  {
   "cell_type": "markdown",
   "id": "a004f6dd",
   "metadata": {},
   "source": [
    "We now need to initialise the wave function. A convinient starting point is the ground state of the system with the given potential. Since we don't have any analytic expression for this state we find it by starting out from a guess and remove energy by evolving in imaginary time (see previous notebook and documentation). The first guess is usualy the Thomas-Fermi ground state which is implemented as the function:\n",
    "\n",
    "bec.conf_initial_condition_Thomas_Fermi()\n"
   ]
  },
  {
   "cell_type": "code",
   "execution_count": null,
   "id": "b9b2facd",
   "metadata": {},
   "outputs": [],
   "source": [
    "### task 2: Initialise the wavefunction using the Thomas-Fermi ground state and relax the system in imaginary time \n",
    "# for 50 time steps. Plot the absolut value squared of the wave function\n",
    "#(Hint: the evolvers vere discussed in the previous notebook)\n",
    "\n",
    "\n",
    "bec.plot_field(np.abs(bec.psi)**2,cmap_symmetric=False,colormap = 'winter')\n",
    "plt.show()"
   ]
  },
  {
   "cell_type": "markdown",
   "id": "893f0384",
   "metadata": {},
   "source": [
    "Now we sett bec.gamma to be zero inside the computational domain and 1 on the edges. This can be done with the function bec.conf_dissipative_frame(d=7, wx=50, wy=50, wz=50). Here wx/wy/wz is the distance from the midle to the start of the dissipative frame in the x/y/z direction. In two dimensions wz is not used. d is the size of the interface between the bulk and the dissipative frame. \n",
    "\n"
   ]
  },
  {
   "cell_type": "code",
   "execution_count": null,
   "id": "a7915c77",
   "metadata": {},
   "outputs": [],
   "source": [
    "#### task 3. make a dissipative frame with d=7, wx = 100 and wy = 50. plot bec.gamma\n",
    "\n",
    "\n"
   ]
  },
  {
   "cell_type": "markdown",
   "id": "79b98bc6",
   "metadata": {},
   "source": [
    "Now we want to evolve the system in the comoving frame and we want to use the function bec.calc_vortex_nodes() to find the vortices."
   ]
  },
  {
   "cell_type": "code",
   "execution_count": null,
   "id": "da56ea22",
   "metadata": {},
   "outputs": [],
   "source": [
    "### task 4. evolve the system in the comoving frame with vel_x = 0.4. Make an animation of the absolut value squared \n",
    "# of the wavefunction and mark the position of the defects.   \n",
    "\n",
    "\n",
    "\n",
    "\n"
   ]
  },
  {
   "cell_type": "code",
   "execution_count": null,
   "id": "4887dd66",
   "metadata": {},
   "outputs": [],
   "source": [
    "### We can now plot the vortices you traced \n",
    "\n",
    "fig, ax=bec.plot_field(np.abs(bec.psi)**2,cmap_symmetric=False,colormap = 'gray')\n",
    "bec.plot_vortex_nodes(nodes,ax=ax)\n",
    "plt.show()"
   ]
  },
  {
   "cell_type": "code",
   "execution_count": null,
   "id": "a70b367f",
   "metadata": {},
   "outputs": [],
   "source": []
  },
  {
   "cell_type": "markdown",
   "id": "9e3a5142",
   "metadata": {},
   "source": [
    "# Solutions"
   ]
  },
  {
   "cell_type": "code",
   "execution_count": null,
   "id": "dca4da0d",
   "metadata": {},
   "outputs": [],
   "source": [
    "\n",
    "import numpy as np\n",
    "import matplotlib.pyplot as plt\n",
    "import comfit as cf\n",
    "\n",
    "bec = cf.BoseEinsteinCondensate(2,xRes=256,yRes=128,gamma=0,dt=0.05)\n",
    "\n",
    "### task 1 and 2\n",
    "\n",
    "\n",
    "pot = bec.calc_gaussian_stirring_potential(5, 4, [bec.xmid+50,bec.ymid] )\n",
    "bec.conf_external_potential(pot, additive=False)\n",
    "\n",
    "bec.conf_initial_condition_Thomas_Fermi()\n",
    "\n",
    "bec.evolve_relax(50, method='ETD2RK') \n",
    "\n",
    "bec.plot_field(np.abs(bec.psi)**2,cmap_symmetric=False,colormap = 'winter')\n",
    "plt.show()"
   ]
  },
  {
   "cell_type": "code",
   "execution_count": null,
   "id": "c6d14d64",
   "metadata": {},
   "outputs": [],
   "source": [
    "# task 3\n",
    "bec.conf_dissipative_frame(wx=100,wy=50)\n",
    "\n",
    "bec.plot_field(bec.gamma,cmap_symmetric=False,colormap = 'winter')\n",
    "plt.show()"
   ]
  },
  {
   "cell_type": "code",
   "execution_count": null,
   "id": "d45c3a5f",
   "metadata": {},
   "outputs": [],
   "source": [
    "#task 4\n",
    "vel_x = 0.40\n",
    "\n",
    "\n",
    "\n",
    "N= 800\n",
    "\n",
    "for n in range(N):\n",
    "    psi_prev = np.copy(bec.psi)\n",
    "    \n",
    "    bec.evolve_comoving_dGPE(10,vel_x,method='ETD4RK')\n",
    "    \n",
    "    dt_psi = (bec.psi - psi_prev)/(bec.dt*10)\n",
    "    nodes = bec.calc_vortex_nodes(dt_psi=dt_psi)\n",
    "\n",
    "    fig,ax=bec.plot_field(np.abs(bec.psi)**2,cmap_symmetric=False,colormap = 'gray')\n",
    "    \n",
    "    bec.plot_vortex_nodes(nodes,ax=ax)\n",
    "    cf.tool_save_plot(n)\n",
    "\n",
    "cf.tool_make_animation_gif(n)\n"
   ]
  },
  {
   "cell_type": "code",
   "execution_count": null,
   "id": "967ef552",
   "metadata": {},
   "outputs": [],
   "source": []
  },
  {
   "cell_type": "code",
   "execution_count": null,
   "id": "a6c8f4f4",
   "metadata": {},
   "outputs": [],
   "source": []
  }
 ],
 "metadata": {
  "kernelspec": {
   "display_name": "COMFIT",
   "language": "python",
   "name": "comfit"
  },
  "language_info": {
   "codemirror_mode": {
    "name": "ipython",
    "version": 3
   },
   "file_extension": ".py",
   "mimetype": "text/x-python",
   "name": "python",
   "nbconvert_exporter": "python",
   "pygments_lexer": "ipython3",
   "version": "3.9.18"
  }
 },
 "nbformat": 4,
 "nbformat_minor": 5
}
