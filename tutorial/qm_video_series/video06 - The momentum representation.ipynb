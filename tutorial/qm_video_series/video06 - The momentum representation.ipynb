{
 "cells": [
  {
   "cell_type": "code",
   "execution_count": 1,
   "metadata": {},
   "outputs": [],
   "source": [
    "import comfit as cf"
   ]
  },
  {
   "cell_type": "code",
   "execution_count": 11,
   "metadata": {},
   "outputs": [],
   "source": [
    "qm = cf.QuantumMechanics(1,xlim=[-10,10],xRes=201)"
   ]
  },
  {
   "cell_type": "code",
   "execution_count": 14,
   "metadata": {},
   "outputs": [],
   "source": [
    "qm.conf_initial_condition_Gaussian(width=1)"
   ]
  },
  {
   "cell_type": "code",
   "execution_count": 15,
   "metadata": {},
   "outputs": [
    {
     "data": {
      "application/vnd.plotly.v1+json": {
       "config": {
        "plotlyServerURL": "https://plot.ly"
       },
       "data": [
        {
         "fill": "tozeroy",
         "fillcolor": "rgb(163,255,76)",
         "hoverinfo": "skip",
         "line": {
          "color": "rgba(0,0,0,0)"
         },
         "mode": "lines",
         "showlegend": false,
         "type": "scatter",
         "x": [
          -5,
          -4.975
         ],
         "xaxis": "x",
         "y": [
          2.636463358652408e-16,
          5.158204360509237e-16
         ],
         "yaxis": "y"
        },
        {
         "fill": "tozeroy",
         "fillcolor": "rgb(167,76,255)",
         "hoverinfo": "skip",
         "line": {
          "color": "rgba(0,0,0,0)"
         },
         "mode": "lines",
         "showlegend": false,
         "type": "scatter",
         "x": [
          -4.975,
          -4.95
         ],
         "xaxis": "x",
         "y": [
          5.158204360509237e-16,
          7.679945362366067e-16
         ],
         "yaxis": "y"
        },
        {
         "fill": "tozeroy",
         "fillcolor": "rgb(167,76,255)",
         "hoverinfo": "skip",
         "line": {
          "color": "rgba(0,0,0,0)"
         },
         "mode": "lines",
         "showlegend": false,
         "type": "scatter",
         "x": [
          -4.95,
          -4.925000000000001
         ],
         "xaxis": "x",
         "y": [
          7.679945362366067e-16,
          1.0298836023139208e-15
         ],
         "yaxis": "y"
        },
        {
         "fill": "tozeroy",
         "fillcolor": "rgb(159,255,76)",
         "hoverinfo": "skip",
         "line": {
          "color": "rgba(0,0,0,0)"
         },
         "mode": "lines",
         "showlegend": false,
         "type": "scatter",
         "x": [
          -4.924999999999999,
          -4.8999999999999995
         ],
         "xaxis": "x",
         "y": [
          1.0298836023139208e-15,
          1.291772668391235e-15
         ],
         "yaxis": "y"
        },
        {
         "fill": "tozeroy",
         "fillcolor": "rgb(159,255,76)",
         "hoverinfo": "skip",
         "line": {
          "color": "rgba(0,0,0,0)"
         },
         "mode": "lines",
         "showlegend": false,
         "type": "scatter",
         "x": [
          -4.8999999999999995,
          -4.875
         ],
         "xaxis": "x",
         "y": [
          1.291772668391235e-15,
          1.5472638780015086e-15
         ],
         "yaxis": "y"
        },
        {
         "fill": "tozeroy",
         "fillcolor": "rgb(176,76,255)",
         "hoverinfo": "skip",
         "line": {
          "color": "rgba(0,0,0,0)"
         },
         "mode": "lines",
         "showlegend": false,
         "type": "scatter",
         "x": [
          -4.875,
          -4.85
         ],
         "xaxis": "x",
         "y": [
          1.5472638780015086e-15,
          1.8027550876117822e-15
         ],
         "yaxis": "y"
        },
        {
         "fill": "tozeroy",
         "fillcolor": "rgb(176,76,255)",
         "hoverinfo": "skip",
         "line": {
          "color": "rgba(0,0,0,0)"
         },
         "mode": "lines",
         "showlegend": false,
         "type": "scatter",
         "x": [
          -4.85,
          -4.824999999999999
         ],
         "xaxis": "x",
         "y": [
          1.8027550876117822e-15,
          2.06450619241989e-15
         ],
         "yaxis": "y"
        },
        {
         "fill": "tozeroy",
         "fillcolor": "rgb(155,255,76)",
         "hoverinfo": "skip",
         "line": {
          "color": "rgba(0,0,0,0)"
         },
         "mode": "lines",
         "showlegend": false,
         "type": "scatter",
         "x": [
          -4.824999999999999,
          -4.8
         ],
         "xaxis": "x",
         "y": [
          2.06450619241989e-15,
          2.3262572972279978e-15
         ],
         "yaxis": "y"
        },
        {
         "fill": "tozeroy",
         "fillcolor": "rgb(155,255,76)",
         "hoverinfo": "skip",
         "line": {
          "color": "rgba(0,0,0,0)"
         },
         "mode": "lines",
         "showlegend": false,
         "type": "scatter",
         "x": [
          -4.8,
          -4.775
         ],
         "xaxis": "x",
         "y": [
          2.3262572972279978e-15,
          2.5847396524216495e-15
         ],
         "yaxis": "y"
        },
        {
         "fill": "tozeroy",
         "fillcolor": "rgb(180,76,255)",
         "hoverinfo": "skip",
         "line": {
          "color": "rgba(0,0,0,0)"
         },
         "mode": "lines",
         "showlegend": false,
         "type": "scatter",
         "x": [
          -4.775,
          -4.75
         ],
         "xaxis": "x",
         "y": [
          2.5847396524216495e-15,
          2.8432220076153012e-15
         ],
         "yaxis": "y"
        },
        {
         "fill": "tozeroy",
         "fillcolor": "rgb(180,76,255)",
         "hoverinfo": "skip",
         "line": {
          "color": "rgba(0,0,0,0)"
         },
         "mode": "lines",
         "showlegend": false,
         "type": "scatter",
         "x": [
          -4.75,
          -4.725
         ],
         "xaxis": "x",
         "y": [
          2.8432220076153012e-15,
          3.109555704362424e-15
         ],
         "yaxis": "y"
        },
        {
         "fill": "tozeroy",
         "fillcolor": "rgb(146,255,76)",
         "hoverinfo": "skip",
         "line": {
          "color": "rgba(0,0,0,0)"
         },
         "mode": "lines",
         "showlegend": false,
         "type": "scatter",
         "x": [
          -4.725,
          -4.7
         ],
         "xaxis": "x",
         "y": [
          3.109555704362424e-15,
          3.375889401109547e-15
         ],
         "yaxis": "y"
        },
        {
         "fill": "tozeroy",
         "fillcolor": "rgb(146,255,76)",
         "hoverinfo": "skip",
         "line": {
          "color": "rgba(0,0,0,0)"
         },
         "mode": "lines",
         "showlegend": false,
         "type": "scatter",
         "x": [
          -4.7,
          -4.675000000000001
         ],
         "xaxis": "x",
         "y": [
          3.375889401109547e-15,
          3.637197715163392e-15
         ],
         "yaxis": "y"
        },
        {
         "fill": "tozeroy",
         "fillcolor": "rgb(184,76,255)",
         "hoverinfo": "skip",
         "line": {
          "color": "rgba(0,0,0,0)"
         },
         "mode": "lines",
         "showlegend": false,
         "type": "scatter",
         "x": [
          -4.674999999999999,
          -4.6499999999999995
         ],
         "xaxis": "x",
         "y": [
          3.637197715163392e-15,
          3.898506029217237e-15
         ],
         "yaxis": "y"
        },
        {
         "fill": "tozeroy",
         "fillcolor": "rgb(184,76,255)",
         "hoverinfo": "skip",
         "line": {
          "color": "rgba(0,0,0,0)"
         },
         "mode": "lines",
         "showlegend": false,
         "type": "scatter",
         "x": [
          -4.6499999999999995,
          -4.625
         ],
         "xaxis": "x",
         "y": [
          3.898506029217237e-15,
          4.168768161431717e-15
         ],
         "yaxis": "y"
        },
        {
         "fill": "tozeroy",
         "fillcolor": "rgb(142,255,76)",
         "hoverinfo": "skip",
         "line": {
          "color": "rgba(0,0,0,0)"
         },
         "mode": "lines",
         "showlegend": false,
         "type": "scatter",
         "x": [
          -4.625,
          -4.6
         ],
         "xaxis": "x",
         "y": [
          4.168768161431717e-15,
          4.439030293646195e-15
         ],
         "yaxis": "y"
        },
        {
         "fill": "tozeroy",
         "fillcolor": "rgb(142,255,76)",
         "hoverinfo": "skip",
         "line": {
          "color": "rgba(0,0,0,0)"
         },
         "mode": "lines",
         "showlegend": false,
         "type": "scatter",
         "x": [
          -4.6,
          -4.574999999999999
         ],
         "xaxis": "x",
         "y": [
          4.439030293646195e-15,
          4.703511084155623e-15
         ],
         "yaxis": "y"
        },
        {
         "fill": "tozeroy",
         "fillcolor": "rgb(193,76,255)",
         "hoverinfo": "skip",
         "line": {
          "color": "rgba(0,0,0,0)"
         },
         "mode": "lines",
         "showlegend": false,
         "type": "scatter",
         "x": [
          -4.574999999999999,
          -4.55
         ],
         "xaxis": "x",
         "y": [
          4.703511084155623e-15,
          4.967991874665051e-15
         ],
         "yaxis": "y"
        },
        {
         "fill": "tozeroy",
         "fillcolor": "rgb(193,76,255)",
         "hoverinfo": "skip",
         "line": {
          "color": "rgba(0,0,0,0)"
         },
         "mode": "lines",
         "showlegend": false,
         "type": "scatter",
         "x": [
          -4.55,
          -4.525
         ],
         "xaxis": "x",
         "y": [
          4.967991874665051e-15,
          5.244940818894534e-15
         ],
         "yaxis": "y"
        },
        {
         "fill": "tozeroy",
         "fillcolor": "rgb(138,255,76)",
         "hoverinfo": "skip",
         "line": {
          "color": "rgba(0,0,0,0)"
         },
         "mode": "lines",
         "showlegend": false,
         "type": "scatter",
         "x": [
          -4.525,
          -4.5
         ],
         "xaxis": "x",
         "y": [
          5.244940818894534e-15,
          5.5218897631240165e-15
         ],
         "yaxis": "y"
        },
        {
         "fill": "tozeroy",
         "fillcolor": "rgb(138,255,76)",
         "hoverinfo": "skip",
         "line": {
          "color": "rgba(0,0,0,0)"
         },
         "mode": "lines",
         "showlegend": false,
         "type": "scatter",
         "x": [
          -4.5,
          -4.475
         ],
         "xaxis": "x",
         "y": [
          5.5218897631240165e-15,
          5.7937661688861664e-15
         ],
         "yaxis": "y"
        },
        {
         "fill": "tozeroy",
         "fillcolor": "rgb(197,76,255)",
         "hoverinfo": "skip",
         "line": {
          "color": "rgba(0,0,0,0)"
         },
         "mode": "lines",
         "showlegend": false,
         "type": "scatter",
         "x": [
          -4.475,
          -4.45
         ],
         "xaxis": "x",
         "y": [
          5.7937661688861664e-15,
          6.065642574648317e-15
         ],
         "yaxis": "y"
        },
        {
         "fill": "tozeroy",
         "fillcolor": "rgb(197,76,255)",
         "hoverinfo": "skip",
         "line": {
          "color": "rgba(0,0,0,0)"
         },
         "mode": "lines",
         "showlegend": false,
         "type": "scatter",
         "x": [
          -4.45,
          -4.425000000000001
         ],
         "xaxis": "x",
         "y": [
          6.065642574648317e-15,
          6.34967360037188e-15
         ],
         "yaxis": "y"
        },
        {
         "fill": "tozeroy",
         "fillcolor": "rgb(134,255,76)",
         "hoverinfo": "skip",
         "line": {
          "color": "rgba(0,0,0,0)"
         },
         "mode": "lines",
         "showlegend": false,
         "type": "scatter",
         "x": [
          -4.424999999999999,
          -4.3999999999999995
         ],
         "xaxis": "x",
         "y": [
          6.34967360037188e-15,
          6.6337046260954435e-15
         ],
         "yaxis": "y"
        },
        {
         "fill": "tozeroy",
         "fillcolor": "rgb(134,255,76)",
         "hoverinfo": "skip",
         "line": {
          "color": "rgba(0,0,0,0)"
         },
         "mode": "lines",
         "showlegend": false,
         "type": "scatter",
         "x": [
          -4.3999999999999995,
          -4.375
         ],
         "xaxis": "x",
         "y": [
          6.6337046260954435e-15,
          6.908917126177027e-15
         ],
         "yaxis": "y"
        },
        {
         "fill": "tozeroy",
         "fillcolor": "rgb(201,76,255)",
         "hoverinfo": "skip",
         "line": {
          "color": "rgba(0,0,0,0)"
         },
         "mode": "lines",
         "showlegend": false,
         "type": "scatter",
         "x": [
          -4.375,
          -4.35
         ],
         "xaxis": "x",
         "y": [
          6.908917126177027e-15,
          7.18412962625861e-15
         ],
         "yaxis": "y"
        },
        {
         "fill": "tozeroy",
         "fillcolor": "rgb(201,76,255)",
         "hoverinfo": "skip",
         "line": {
          "color": "rgba(0,0,0,0)"
         },
         "mode": "lines",
         "showlegend": false,
         "type": "scatter",
         "x": [
          -4.35,
          -4.324999999999999
         ],
         "xaxis": "x",
         "y": [
          7.18412962625861e-15,
          7.480573514197022e-15
         ],
         "yaxis": "y"
        },
        {
         "fill": "tozeroy",
         "fillcolor": "rgb(125,255,76)",
         "hoverinfo": "skip",
         "line": {
          "color": "rgba(0,0,0,0)"
         },
         "mode": "lines",
         "showlegend": false,
         "type": "scatter",
         "x": [
          -4.324999999999999,
          -4.3
         ],
         "xaxis": "x",
         "y": [
          7.480573514197022e-15,
          7.777017402135434e-15
         ],
         "yaxis": "y"
        },
        {
         "fill": "tozeroy",
         "fillcolor": "rgb(125,255,76)",
         "hoverinfo": "skip",
         "line": {
          "color": "rgba(0,0,0,0)"
         },
         "mode": "lines",
         "showlegend": false,
         "type": "scatter",
         "x": [
          -4.3,
          -4.275
         ],
         "xaxis": "x",
         "y": [
          7.777017402135434e-15,
          8.063538694738076e-15
         ],
         "yaxis": "y"
        },
        {
         "fill": "tozeroy",
         "fillcolor": "rgb(205,76,255)",
         "hoverinfo": "skip",
         "line": {
          "color": "rgba(0,0,0,0)"
         },
         "mode": "lines",
         "showlegend": false,
         "type": "scatter",
         "x": [
          -4.275,
          -4.25
         ],
         "xaxis": "x",
         "y": [
          8.063538694738076e-15,
          8.350059987340719e-15
         ],
         "yaxis": "y"
        },
        {
         "fill": "tozeroy",
         "fillcolor": "rgb(205,76,255)",
         "hoverinfo": "skip",
         "line": {
          "color": "rgba(0,0,0,0)"
         },
         "mode": "lines",
         "showlegend": false,
         "type": "scatter",
         "x": [
          -4.25,
          -4.225
         ],
         "xaxis": "x",
         "y": [
          8.350059987340719e-15,
          8.649379047238242e-15
         ],
         "yaxis": "y"
        },
        {
         "fill": "tozeroy",
         "fillcolor": "rgb(121,255,76)",
         "hoverinfo": "skip",
         "line": {
          "color": "rgba(0,0,0,0)"
         },
         "mode": "lines",
         "showlegend": false,
         "type": "scatter",
         "x": [
          -4.225,
          -4.2
         ],
         "xaxis": "x",
         "y": [
          8.649379047238242e-15,
          8.948698107135766e-15
         ],
         "yaxis": "y"
        },
        {
         "fill": "tozeroy",
         "fillcolor": "rgb(121,255,76)",
         "hoverinfo": "skip",
         "line": {
          "color": "rgba(0,0,0,0)"
         },
         "mode": "lines",
         "showlegend": false,
         "type": "scatter",
         "x": [
          -4.2,
          -4.175000000000001
         ],
         "xaxis": "x",
         "y": [
          8.948698107135766e-15,
          9.24977281230224e-15
         ],
         "yaxis": "y"
        },
        {
         "fill": "tozeroy",
         "fillcolor": "rgb(214,76,255)",
         "hoverinfo": "skip",
         "line": {
          "color": "rgba(0,0,0,0)"
         },
         "mode": "lines",
         "showlegend": false,
         "type": "scatter",
         "x": [
          -4.175000000000001,
          -4.15
         ],
         "xaxis": "x",
         "y": [
          9.24977281230224e-15,
          9.550847517468712e-15
         ],
         "yaxis": "y"
        },
        {
         "fill": "tozeroy",
         "fillcolor": "rgb(214,76,255)",
         "hoverinfo": "skip",
         "line": {
          "color": "rgba(0,0,0,0)"
         },
         "mode": "lines",
         "showlegend": false,
         "type": "scatter",
         "x": [
          -4.15,
          -4.125
         ],
         "xaxis": "x",
         "y": [
          9.550847517468712e-15,
          9.859740734982399e-15
         ],
         "yaxis": "y"
        },
        {
         "fill": "tozeroy",
         "fillcolor": "rgb(117,255,76)",
         "hoverinfo": "skip",
         "line": {
          "color": "rgba(0,0,0,0)"
         },
         "mode": "lines",
         "showlegend": false,
         "type": "scatter",
         "x": [
          -4.125,
          -4.1
         ],
         "xaxis": "x",
         "y": [
          9.859740734982399e-15,
          1.0168633952496086e-14
         ],
         "yaxis": "y"
        },
        {
         "fill": "tozeroy",
         "fillcolor": "rgb(117,255,76)",
         "hoverinfo": "skip",
         "line": {
          "color": "rgba(0,0,0,0)"
         },
         "mode": "lines",
         "showlegend": false,
         "type": "scatter",
         "x": [
          -4.1,
          -4.074999999999999
         ],
         "xaxis": "x",
         "y": [
          1.0168633952496086e-14,
          1.0483368878120576e-14
         ],
         "yaxis": "y"
        },
        {
         "fill": "tozeroy",
         "fillcolor": "rgb(218,76,255)",
         "hoverinfo": "skip",
         "line": {
          "color": "rgba(0,0,0,0)"
         },
         "mode": "lines",
         "showlegend": false,
         "type": "scatter",
         "x": [
          -4.074999999999999,
          -4.05
         ],
         "xaxis": "x",
         "y": [
          1.0483368878120576e-14,
          1.0798103803745068e-14
         ],
         "yaxis": "y"
        },
        {
         "fill": "tozeroy",
         "fillcolor": "rgb(218,76,255)",
         "hoverinfo": "skip",
         "line": {
          "color": "rgba(0,0,0,0)"
         },
         "mode": "lines",
         "showlegend": false,
         "type": "scatter",
         "x": [
          -4.05,
          -4.025
         ],
         "xaxis": "x",
         "y": [
          1.0798103803745068e-14,
          1.1122700488926356e-14
         ],
         "yaxis": "y"
        },
        {
         "fill": "tozeroy",
         "fillcolor": "rgb(108,255,76)",
         "hoverinfo": "skip",
         "line": {
          "color": "rgba(0,0,0,0)"
         },
         "mode": "lines",
         "showlegend": false,
         "type": "scatter",
         "x": [
          -4.025,
          -4
         ],
         "xaxis": "x",
         "y": [
          1.1122700488926356e-14,
          1.1447297174107646e-14
         ],
         "yaxis": "y"
        },
        {
         "fill": "tozeroy",
         "fillcolor": "rgb(108,255,76)",
         "hoverinfo": "skip",
         "line": {
          "color": "rgba(0,0,0,0)"
         },
         "mode": "lines",
         "showlegend": false,
         "type": "scatter",
         "x": [
          -4,
          -3.975
         ],
         "xaxis": "x",
         "y": [
          1.1447297174107646e-14,
          1.1783129926849392e-14
         ],
         "yaxis": "y"
        },
        {
         "fill": "tozeroy",
         "fillcolor": "rgb(222,76,255)",
         "hoverinfo": "skip",
         "line": {
          "color": "rgba(0,0,0,0)"
         },
         "mode": "lines",
         "showlegend": false,
         "type": "scatter",
         "x": [
          -3.975,
          -3.95
         ],
         "xaxis": "x",
         "y": [
          1.1783129926849392e-14,
          1.2118962679591135e-14
         ],
         "yaxis": "y"
        },
        {
         "fill": "tozeroy",
         "fillcolor": "rgb(222,76,255)",
         "hoverinfo": "skip",
         "line": {
          "color": "rgba(0,0,0,0)"
         },
         "mode": "lines",
         "showlegend": false,
         "type": "scatter",
         "x": [
          -3.95,
          -3.9250000000000003
         ],
         "xaxis": "x",
         "y": [
          1.2118962679591135e-14,
          1.244255963821541e-14
         ],
         "yaxis": "y"
        },
        {
         "fill": "tozeroy",
         "fillcolor": "rgb(104,255,76)",
         "hoverinfo": "skip",
         "line": {
          "color": "rgba(0,0,0,0)"
         },
         "mode": "lines",
         "showlegend": false,
         "type": "scatter",
         "x": [
          -3.925,
          -3.9
         ],
         "xaxis": "x",
         "y": [
          1.244255963821541e-14,
          1.2766156596839686e-14
         ],
         "yaxis": "y"
        },
        {
         "fill": "tozeroy",
         "fillcolor": "rgb(104,255,76)",
         "hoverinfo": "skip",
         "line": {
          "color": "rgba(0,0,0,0)"
         },
         "mode": "lines",
         "showlegend": false,
         "type": "scatter",
         "x": [
          -3.9,
          -3.875
         ],
         "xaxis": "x",
         "y": [
          1.2766156596839686e-14,
          1.3118412871933323e-14
         ],
         "yaxis": "y"
        },
        {
         "fill": "tozeroy",
         "fillcolor": "rgb(226,76,255)",
         "hoverinfo": "skip",
         "line": {
          "color": "rgba(0,0,0,0)"
         },
         "mode": "lines",
         "showlegend": false,
         "type": "scatter",
         "x": [
          -3.875,
          -3.85
         ],
         "xaxis": "x",
         "y": [
          1.3118412871933323e-14,
          1.3470669147026963e-14
         ],
         "yaxis": "y"
        },
        {
         "fill": "tozeroy",
         "fillcolor": "rgb(226,76,255)",
         "hoverinfo": "skip",
         "line": {
          "color": "rgba(0,0,0,0)"
         },
         "mode": "lines",
         "showlegend": false,
         "type": "scatter",
         "x": [
          -3.85,
          -3.825
         ],
         "xaxis": "x",
         "y": [
          1.3470669147026963e-14,
          1.3819326670839153e-14
         ],
         "yaxis": "y"
        },
        {
         "fill": "tozeroy",
         "fillcolor": "rgb(100,255,76)",
         "hoverinfo": "skip",
         "line": {
          "color": "rgba(0,0,0,0)"
         },
         "mode": "lines",
         "showlegend": false,
         "type": "scatter",
         "x": [
          -3.8249999999999997,
          -3.8
         ],
         "xaxis": "x",
         "y": [
          1.3819326670839153e-14,
          1.4167984194651343e-14
         ],
         "yaxis": "y"
        },
        {
         "fill": "tozeroy",
         "fillcolor": "rgb(100,255,76)",
         "hoverinfo": "skip",
         "line": {
          "color": "rgba(0,0,0,0)"
         },
         "mode": "lines",
         "showlegend": false,
         "type": "scatter",
         "x": [
          -3.8,
          -3.775
         ],
         "xaxis": "x",
         "y": [
          1.4167984194651343e-14,
          1.4535834686421535e-14
         ],
         "yaxis": "y"
        },
        {
         "fill": "tozeroy",
         "fillcolor": "rgb(235,76,255)",
         "hoverinfo": "skip",
         "line": {
          "color": "rgba(0,0,0,0)"
         },
         "mode": "lines",
         "showlegend": false,
         "type": "scatter",
         "x": [
          -3.7749999999999995,
          -3.7499999999999996
         ],
         "xaxis": "x",
         "y": [
          1.4535834686421535e-14,
          1.490368517819173e-14
         ],
         "yaxis": "y"
        },
        {
         "fill": "tozeroy",
         "fillcolor": "rgb(235,76,255)",
         "hoverinfo": "skip",
         "line": {
          "color": "rgba(0,0,0,0)"
         },
         "mode": "lines",
         "showlegend": false,
         "type": "scatter",
         "x": [
          -3.7499999999999996,
          -3.7249999999999996
         ],
         "xaxis": "x",
         "y": [
          1.490368517819173e-14,
          1.527034159887583e-14
         ],
         "yaxis": "y"
        },
        {
         "fill": "tozeroy",
         "fillcolor": "rgb(96,255,76)",
         "hoverinfo": "skip",
         "line": {
          "color": "rgba(0,0,0,0)"
         },
         "mode": "lines",
         "showlegend": false,
         "type": "scatter",
         "x": [
          -3.725,
          -3.7
         ],
         "xaxis": "x",
         "y": [
          1.527034159887583e-14,
          1.563699801955993e-14
         ],
         "yaxis": "y"
        },
        {
         "fill": "tozeroy",
         "fillcolor": "rgb(96,255,76)",
         "hoverinfo": "skip",
         "line": {
          "color": "rgba(0,0,0,0)"
         },
         "mode": "lines",
         "showlegend": false,
         "type": "scatter",
         "x": [
          -3.7,
          -3.6750000000000003
         ],
         "xaxis": "x",
         "y": [
          1.563699801955993e-14,
          1.6027230424131295e-14
         ],
         "yaxis": "y"
        },
        {
         "fill": "tozeroy",
         "fillcolor": "rgb(239,76,255)",
         "hoverinfo": "skip",
         "line": {
          "color": "rgba(0,0,0,0)"
         },
         "mode": "lines",
         "showlegend": false,
         "type": "scatter",
         "x": [
          -3.675,
          -3.65
         ],
         "xaxis": "x",
         "y": [
          1.6027230424131295e-14,
          1.6417462828702663e-14
         ],
         "yaxis": "y"
        },
        {
         "fill": "tozeroy",
         "fillcolor": "rgb(239,76,255)",
         "hoverinfo": "skip",
         "line": {
          "color": "rgba(0,0,0,0)"
         },
         "mode": "lines",
         "showlegend": false,
         "type": "scatter",
         "x": [
          -3.65,
          -3.625
         ],
         "xaxis": "x",
         "y": [
          1.6417462828702663e-14,
          1.6810860451822377e-14
         ],
         "yaxis": "y"
        },
        {
         "fill": "tozeroy",
         "fillcolor": "rgb(87,255,76)",
         "hoverinfo": "skip",
         "line": {
          "color": "rgba(0,0,0,0)"
         },
         "mode": "lines",
         "showlegend": false,
         "type": "scatter",
         "x": [
          -3.625,
          -3.6
         ],
         "xaxis": "x",
         "y": [
          1.6810860451822377e-14,
          1.7204258074942094e-14
         ],
         "yaxis": "y"
        },
        {
         "fill": "tozeroy",
         "fillcolor": "rgb(87,255,76)",
         "hoverinfo": "skip",
         "line": {
          "color": "rgba(0,0,0,0)"
         },
         "mode": "lines",
         "showlegend": false,
         "type": "scatter",
         "x": [
          -3.6,
          -3.575
         ],
         "xaxis": "x",
         "y": [
          1.7204258074942094e-14,
          1.7611872219361333e-14
         ],
         "yaxis": "y"
        },
        {
         "fill": "tozeroy",
         "fillcolor": "rgb(243,76,255)",
         "hoverinfo": "skip",
         "line": {
          "color": "rgba(0,0,0,0)"
         },
         "mode": "lines",
         "showlegend": false,
         "type": "scatter",
         "x": [
          -3.575,
          -3.5500000000000003
         ],
         "xaxis": "x",
         "y": [
          1.7611872219361333e-14,
          1.8019486363780568e-14
         ],
         "yaxis": "y"
        },
        {
         "fill": "tozeroy",
         "fillcolor": "rgb(243,76,255)",
         "hoverinfo": "skip",
         "line": {
          "color": "rgba(0,0,0,0)"
         },
         "mode": "lines",
         "showlegend": false,
         "type": "scatter",
         "x": [
          -3.5500000000000003,
          -3.5250000000000004
         ],
         "xaxis": "x",
         "y": [
          1.8019486363780568e-14,
          1.8434813450612358e-14
         ],
         "yaxis": "y"
        },
        {
         "fill": "tozeroy",
         "fillcolor": "rgb(83,255,76)",
         "hoverinfo": "skip",
         "line": {
          "color": "rgba(0,0,0,0)"
         },
         "mode": "lines",
         "showlegend": false,
         "type": "scatter",
         "x": [
          -3.525,
          -3.5
         ],
         "xaxis": "x",
         "y": [
          1.8434813450612358e-14,
          1.8850140537444144e-14
         ],
         "yaxis": "y"
        },
        {
         "fill": "tozeroy",
         "fillcolor": "rgb(83,255,76)",
         "hoverinfo": "skip",
         "line": {
          "color": "rgba(0,0,0,0)"
         },
         "mode": "lines",
         "showlegend": false,
         "type": "scatter",
         "x": [
          -3.5,
          -3.475
         ],
         "xaxis": "x",
         "y": [
          1.8850140537444144e-14,
          1.928865420365071e-14
         ],
         "yaxis": "y"
        },
        {
         "fill": "tozeroy",
         "fillcolor": "rgb(252,76,255)",
         "hoverinfo": "skip",
         "line": {
          "color": "rgba(0,0,0,0)"
         },
         "mode": "lines",
         "showlegend": false,
         "type": "scatter",
         "x": [
          -3.475,
          -3.45
         ],
         "xaxis": "x",
         "y": [
          1.928865420365071e-14,
          1.9727167869857278e-14
         ],
         "yaxis": "y"
        },
        {
         "fill": "tozeroy",
         "fillcolor": "rgb(252,76,255)",
         "hoverinfo": "skip",
         "line": {
          "color": "rgba(0,0,0,0)"
         },
         "mode": "lines",
         "showlegend": false,
         "type": "scatter",
         "x": [
          -3.45,
          -3.4250000000000003
         ],
         "xaxis": "x",
         "y": [
          1.9727167869857278e-14,
          2.0170711559604145e-14
         ],
         "yaxis": "y"
        },
        {
         "fill": "tozeroy",
         "fillcolor": "rgb(79,255,76)",
         "hoverinfo": "skip",
         "line": {
          "color": "rgba(0,0,0,0)"
         },
         "mode": "lines",
         "showlegend": false,
         "type": "scatter",
         "x": [
          -3.425,
          -3.4
         ],
         "xaxis": "x",
         "y": [
          2.0170711559604145e-14,
          2.0614255249351016e-14
         ],
         "yaxis": "y"
        },
        {
         "fill": "tozeroy",
         "fillcolor": "rgb(79,255,76)",
         "hoverinfo": "skip",
         "line": {
          "color": "rgba(0,0,0,0)"
         },
         "mode": "lines",
         "showlegend": false,
         "type": "scatter",
         "x": [
          -3.4,
          -3.375
         ],
         "xaxis": "x",
         "y": [
          2.0614255249351016e-14,
          2.1091829408628514e-14
         ],
         "yaxis": "y"
        },
        {
         "fill": "tozeroy",
         "fillcolor": "rgb(255,76,253)",
         "hoverinfo": "skip",
         "line": {
          "color": "rgba(0,0,0,0)"
         },
         "mode": "lines",
         "showlegend": false,
         "type": "scatter",
         "x": [
          -3.3749999999999996,
          -3.3499999999999996
         ],
         "xaxis": "x",
         "y": [
          2.1091829408628514e-14,
          2.156940356790601e-14
         ],
         "yaxis": "y"
        },
        {
         "fill": "tozeroy",
         "fillcolor": "rgb(255,76,253)",
         "hoverinfo": "skip",
         "line": {
          "color": "rgba(0,0,0,0)"
         },
         "mode": "lines",
         "showlegend": false,
         "type": "scatter",
         "x": [
          -3.3499999999999996,
          -3.3249999999999997
         ],
         "xaxis": "x",
         "y": [
          2.156940356790601e-14,
          2.2035555553713686e-14
         ],
         "yaxis": "y"
        },
        {
         "fill": "tozeroy",
         "fillcolor": "rgb(76,255,77)",
         "hoverinfo": "skip",
         "line": {
          "color": "rgba(0,0,0,0)"
         },
         "mode": "lines",
         "showlegend": false,
         "type": "scatter",
         "x": [
          -3.3249999999999997,
          -3.3
         ],
         "xaxis": "x",
         "y": [
          2.2035555553713686e-14,
          2.2501707539521358e-14
         ],
         "yaxis": "y"
        },
        {
         "fill": "tozeroy",
         "fillcolor": "rgb(76,255,77)",
         "hoverinfo": "skip",
         "line": {
          "color": "rgba(0,0,0,0)"
         },
         "mode": "lines",
         "showlegend": false,
         "type": "scatter",
         "x": [
          -3.3,
          -3.275
         ],
         "xaxis": "x",
         "y": [
          2.2501707539521358e-14,
          2.300234141712784e-14
         ],
         "yaxis": "y"
        },
        {
         "fill": "tozeroy",
         "fillcolor": "rgb(255,76,249)",
         "hoverinfo": "skip",
         "line": {
          "color": "rgba(0,0,0,0)"
         },
         "mode": "lines",
         "showlegend": false,
         "type": "scatter",
         "x": [
          -3.2749999999999995,
          -3.2499999999999996
         ],
         "xaxis": "x",
         "y": [
          2.300234141712784e-14,
          2.3502975294734327e-14
         ],
         "yaxis": "y"
        },
        {
         "fill": "tozeroy",
         "fillcolor": "rgb(255,76,249)",
         "hoverinfo": "skip",
         "line": {
          "color": "rgba(0,0,0,0)"
         },
         "mode": "lines",
         "showlegend": false,
         "type": "scatter",
         "x": [
          -3.2499999999999996,
          -3.2249999999999996
         ],
         "xaxis": "x",
         "y": [
          2.3502975294734327e-14,
          2.4016432269975477e-14
         ],
         "yaxis": "y"
        },
        {
         "fill": "tozeroy",
         "fillcolor": "rgb(76,255,86)",
         "hoverinfo": "skip",
         "line": {
          "color": "rgba(0,0,0,0)"
         },
         "mode": "lines",
         "showlegend": false,
         "type": "scatter",
         "x": [
          -3.225,
          -3.2
         ],
         "xaxis": "x",
         "y": [
          2.4016432269975477e-14,
          2.4529889245216628e-14
         ],
         "yaxis": "y"
        },
        {
         "fill": "tozeroy",
         "fillcolor": "rgb(76,255,86)",
         "hoverinfo": "skip",
         "line": {
          "color": "rgba(0,0,0,0)"
         },
         "mode": "lines",
         "showlegend": false,
         "type": "scatter",
         "x": [
          -3.2,
          -3.1750000000000003
         ],
         "xaxis": "x",
         "y": [
          2.4529889245216628e-14,
          2.507205017964882e-14
         ],
         "yaxis": "y"
        },
        {
         "fill": "tozeroy",
         "fillcolor": "rgb(255,76,245)",
         "hoverinfo": "skip",
         "line": {
          "color": "rgba(0,0,0,0)"
         },
         "mode": "lines",
         "showlegend": false,
         "type": "scatter",
         "x": [
          -3.1750000000000003,
          -3.1500000000000004
         ],
         "xaxis": "x",
         "y": [
          2.507205017964882e-14,
          2.561421111408101e-14
         ],
         "yaxis": "y"
        },
        {
         "fill": "tozeroy",
         "fillcolor": "rgb(255,76,245)",
         "hoverinfo": "skip",
         "line": {
          "color": "rgba(0,0,0,0)"
         },
         "mode": "lines",
         "showlegend": false,
         "type": "scatter",
         "x": [
          -3.1500000000000004,
          -3.1250000000000004
         ],
         "xaxis": "x",
         "y": [
          2.561421111408101e-14,
          2.6168373350497722e-14
         ],
         "yaxis": "y"
        },
        {
         "fill": "tozeroy",
         "fillcolor": "rgb(76,255,90)",
         "hoverinfo": "skip",
         "line": {
          "color": "rgba(0,0,0,0)"
         },
         "mode": "lines",
         "showlegend": false,
         "type": "scatter",
         "x": [
          -3.125,
          -3.1
         ],
         "xaxis": "x",
         "y": [
          2.6168373350497722e-14,
          2.6722535586914438e-14
         ],
         "yaxis": "y"
        },
        {
         "fill": "tozeroy",
         "fillcolor": "rgb(76,255,90)",
         "hoverinfo": "skip",
         "line": {
          "color": "rgba(0,0,0,0)"
         },
         "mode": "lines",
         "showlegend": false,
         "type": "scatter",
         "x": [
          -3.1,
          -3.075
         ],
         "xaxis": "x",
         "y": [
          2.6722535586914438e-14,
          2.730125455136575e-14
         ],
         "yaxis": "y"
        },
        {
         "fill": "tozeroy",
         "fillcolor": "rgb(255,76,236)",
         "hoverinfo": "skip",
         "line": {
          "color": "rgba(0,0,0,0)"
         },
         "mode": "lines",
         "showlegend": false,
         "type": "scatter",
         "x": [
          -3.075,
          -3.0500000000000003
         ],
         "xaxis": "x",
         "y": [
          2.730125455136575e-14,
          2.787997351581706e-14
         ],
         "yaxis": "y"
        },
        {
         "fill": "tozeroy",
         "fillcolor": "rgb(255,76,236)",
         "hoverinfo": "skip",
         "line": {
          "color": "rgba(0,0,0,0)"
         },
         "mode": "lines",
         "showlegend": false,
         "type": "scatter",
         "x": [
          -3.0500000000000003,
          -3.0250000000000004
         ],
         "xaxis": "x",
         "y": [
          2.787997351581706e-14,
          2.848066460560847e-14
         ],
         "yaxis": "y"
        },
        {
         "fill": "tozeroy",
         "fillcolor": "rgb(76,255,94)",
         "hoverinfo": "skip",
         "line": {
          "color": "rgba(0,0,0,0)"
         },
         "mode": "lines",
         "showlegend": false,
         "type": "scatter",
         "x": [
          -3.025,
          -3
         ],
         "xaxis": "x",
         "y": [
          2.848066460560847e-14,
          2.9081355695399874e-14
         ],
         "yaxis": "y"
        },
        {
         "fill": "tozeroy",
         "fillcolor": "rgb(76,255,94)",
         "hoverinfo": "skip",
         "line": {
          "color": "rgba(0,0,0,0)"
         },
         "mode": "lines",
         "showlegend": false,
         "type": "scatter",
         "x": [
          -3,
          -2.975
         ],
         "xaxis": "x",
         "y": [
          2.9081355695399874e-14,
          2.970917630065073e-14
         ],
         "yaxis": "y"
        },
        {
         "fill": "tozeroy",
         "fillcolor": "rgb(255,76,232)",
         "hoverinfo": "skip",
         "line": {
          "color": "rgba(0,0,0,0)"
         },
         "mode": "lines",
         "showlegend": false,
         "type": "scatter",
         "x": [
          -2.9749999999999996,
          -2.9499999999999997
         ],
         "xaxis": "x",
         "y": [
          2.970917630065073e-14,
          3.033699690590158e-14
         ],
         "yaxis": "y"
        },
        {
         "fill": "tozeroy",
         "fillcolor": "rgb(255,76,232)",
         "hoverinfo": "skip",
         "line": {
          "color": "rgba(0,0,0,0)"
         },
         "mode": "lines",
         "showlegend": false,
         "type": "scatter",
         "x": [
          -2.9499999999999997,
          -2.925
         ],
         "xaxis": "x",
         "y": [
          3.033699690590158e-14,
          3.099771455919599e-14
         ],
         "yaxis": "y"
        },
        {
         "fill": "tozeroy",
         "fillcolor": "rgb(76,255,103)",
         "hoverinfo": "skip",
         "line": {
          "color": "rgba(0,0,0,0)"
         },
         "mode": "lines",
         "showlegend": false,
         "type": "scatter",
         "x": [
          -2.925,
          -2.9
         ],
         "xaxis": "x",
         "y": [
          3.099771455919599e-14,
          3.1658432212490394e-14
         ],
         "yaxis": "y"
        },
        {
         "fill": "tozeroy",
         "fillcolor": "rgb(76,255,103)",
         "hoverinfo": "skip",
         "line": {
          "color": "rgba(0,0,0,0)"
         },
         "mode": "lines",
         "showlegend": false,
         "type": "scatter",
         "x": [
          -2.9,
          -2.875
         ],
         "xaxis": "x",
         "y": [
          3.1658432212490394e-14,
          3.2333204479451625e-14
         ],
         "yaxis": "y"
        },
        {
         "fill": "tozeroy",
         "fillcolor": "rgb(255,76,228)",
         "hoverinfo": "skip",
         "line": {
          "color": "rgba(0,0,0,0)"
         },
         "mode": "lines",
         "showlegend": false,
         "type": "scatter",
         "x": [
          -2.8749999999999996,
          -2.8499999999999996
         ],
         "xaxis": "x",
         "y": [
          3.2333204479451625e-14,
          3.300797674641286e-14
         ],
         "yaxis": "y"
        },
        {
         "fill": "tozeroy",
         "fillcolor": "rgb(255,76,228)",
         "hoverinfo": "skip",
         "line": {
          "color": "rgba(0,0,0,0)"
         },
         "mode": "lines",
         "showlegend": false,
         "type": "scatter",
         "x": [
          -2.8499999999999996,
          -2.8249999999999997
         ],
         "xaxis": "x",
         "y": [
          3.300797674641286e-14,
          3.3730664568796536e-14
         ],
         "yaxis": "y"
        },
        {
         "fill": "tozeroy",
         "fillcolor": "rgb(76,255,107)",
         "hoverinfo": "skip",
         "line": {
          "color": "rgba(0,0,0,0)"
         },
         "mode": "lines",
         "showlegend": false,
         "type": "scatter",
         "x": [
          -2.8249999999999997,
          -2.8
         ],
         "xaxis": "x",
         "y": [
          3.3730664568796536e-14,
          3.4453352391180216e-14
         ],
         "yaxis": "y"
        },
        {
         "fill": "tozeroy",
         "fillcolor": "rgb(76,255,107)",
         "hoverinfo": "skip",
         "line": {
          "color": "rgba(0,0,0,0)"
         },
         "mode": "lines",
         "showlegend": false,
         "type": "scatter",
         "x": [
          -2.8,
          -2.775
         ],
         "xaxis": "x",
         "y": [
          3.4453352391180216e-14,
          3.519552617461869e-14
         ],
         "yaxis": "y"
        },
        {
         "fill": "tozeroy",
         "fillcolor": "rgb(255,76,224)",
         "hoverinfo": "skip",
         "line": {
          "color": "rgba(0,0,0,0)"
         },
         "mode": "lines",
         "showlegend": false,
         "type": "scatter",
         "x": [
          -2.7750000000000004,
          -2.7500000000000004
         ],
         "xaxis": "x",
         "y": [
          3.519552617461869e-14,
          3.593769995805717e-14
         ],
         "yaxis": "y"
        },
        {
         "fill": "tozeroy",
         "fillcolor": "rgb(255,76,224)",
         "hoverinfo": "skip",
         "line": {
          "color": "rgba(0,0,0,0)"
         },
         "mode": "lines",
         "showlegend": false,
         "type": "scatter",
         "x": [
          -2.7500000000000004,
          -2.7250000000000005
         ],
         "xaxis": "x",
         "y": [
          3.593769995805717e-14,
          3.672532857294188e-14
         ],
         "yaxis": "y"
        },
        {
         "fill": "tozeroy",
         "fillcolor": "rgb(76,255,111)",
         "hoverinfo": "skip",
         "line": {
          "color": "rgba(0,0,0,0)"
         },
         "mode": "lines",
         "showlegend": false,
         "type": "scatter",
         "x": [
          -2.725,
          -2.7
         ],
         "xaxis": "x",
         "y": [
          3.672532857294188e-14,
          3.7512957187826595e-14
         ],
         "yaxis": "y"
        },
        {
         "fill": "tozeroy",
         "fillcolor": "rgb(76,255,111)",
         "hoverinfo": "skip",
         "line": {
          "color": "rgba(0,0,0,0)"
         },
         "mode": "lines",
         "showlegend": false,
         "type": "scatter",
         "x": [
          -2.7,
          -2.6750000000000003
         ],
         "xaxis": "x",
         "y": [
          3.7512957187826595e-14,
          3.8325980006517497e-14
         ],
         "yaxis": "y"
        },
        {
         "fill": "tozeroy",
         "fillcolor": "rgb(255,76,215)",
         "hoverinfo": "skip",
         "line": {
          "color": "rgba(0,0,0,0)"
         },
         "mode": "lines",
         "showlegend": false,
         "type": "scatter",
         "x": [
          -2.6750000000000003,
          -2.6500000000000004
         ],
         "xaxis": "x",
         "y": [
          3.8325980006517497e-14,
          3.913900282520839e-14
         ],
         "yaxis": "y"
        },
        {
         "fill": "tozeroy",
         "fillcolor": "rgb(255,76,215)",
         "hoverinfo": "skip",
         "line": {
          "color": "rgba(0,0,0,0)"
         },
         "mode": "lines",
         "showlegend": false,
         "type": "scatter",
         "x": [
          -2.6500000000000004,
          -2.6250000000000004
         ],
         "xaxis": "x",
         "y": [
          3.913900282520839e-14,
          4.000253307595327e-14
         ],
         "yaxis": "y"
        },
        {
         "fill": "tozeroy",
         "fillcolor": "rgb(76,255,115)",
         "hoverinfo": "skip",
         "line": {
          "color": "rgba(0,0,0,0)"
         },
         "mode": "lines",
         "showlegend": false,
         "type": "scatter",
         "x": [
          -2.625,
          -2.6
         ],
         "xaxis": "x",
         "y": [
          4.000253307595327e-14,
          4.086606332669815e-14
         ],
         "yaxis": "y"
        },
        {
         "fill": "tozeroy",
         "fillcolor": "rgb(76,255,115)",
         "hoverinfo": "skip",
         "line": {
          "color": "rgba(0,0,0,0)"
         },
         "mode": "lines",
         "showlegend": false,
         "type": "scatter",
         "x": [
          -2.6,
          -2.575
         ],
         "xaxis": "x",
         "y": [
          4.086606332669815e-14,
          4.176090919119455e-14
         ],
         "yaxis": "y"
        },
        {
         "fill": "tozeroy",
         "fillcolor": "rgb(255,76,211)",
         "hoverinfo": "skip",
         "line": {
          "color": "rgba(0,0,0,0)"
         },
         "mode": "lines",
         "showlegend": false,
         "type": "scatter",
         "x": [
          -2.5749999999999997,
          -2.55
         ],
         "xaxis": "x",
         "y": [
          4.176090919119455e-14,
          4.265575505569094e-14
         ],
         "yaxis": "y"
        },
        {
         "fill": "tozeroy",
         "fillcolor": "rgb(255,76,211)",
         "hoverinfo": "skip",
         "line": {
          "color": "rgba(0,0,0,0)"
         },
         "mode": "lines",
         "showlegend": false,
         "type": "scatter",
         "x": [
          -2.55,
          -2.525
         ],
         "xaxis": "x",
         "y": [
          4.265575505569094e-14,
          4.361142548170627e-14
         ],
         "yaxis": "y"
        },
        {
         "fill": "tozeroy",
         "fillcolor": "rgb(76,255,124)",
         "hoverinfo": "skip",
         "line": {
          "color": "rgba(0,0,0,0)"
         },
         "mode": "lines",
         "showlegend": false,
         "type": "scatter",
         "x": [
          -2.525,
          -2.5
         ],
         "xaxis": "x",
         "y": [
          4.361142548170627e-14,
          4.456709590772159e-14
         ],
         "yaxis": "y"
        },
        {
         "fill": "tozeroy",
         "fillcolor": "rgb(76,255,124)",
         "hoverinfo": "skip",
         "line": {
          "color": "rgba(0,0,0,0)"
         },
         "mode": "lines",
         "showlegend": false,
         "type": "scatter",
         "x": [
          -2.5,
          -2.475
         ],
         "xaxis": "x",
         "y": [
          4.456709590772159e-14,
          4.5559932653161895e-14
         ],
         "yaxis": "y"
        },
        {
         "fill": "tozeroy",
         "fillcolor": "rgb(255,76,207)",
         "hoverinfo": "skip",
         "line": {
          "color": "rgba(0,0,0,0)"
         },
         "mode": "lines",
         "showlegend": false,
         "type": "scatter",
         "x": [
          -2.4749999999999996,
          -2.4499999999999997
         ],
         "xaxis": "x",
         "y": [
          4.5559932653161895e-14,
          4.65527693986022e-14
         ],
         "yaxis": "y"
        },
        {
         "fill": "tozeroy",
         "fillcolor": "rgb(255,76,207)",
         "hoverinfo": "skip",
         "line": {
          "color": "rgba(0,0,0,0)"
         },
         "mode": "lines",
         "showlegend": false,
         "type": "scatter",
         "x": [
          -2.4499999999999997,
          -2.425
         ],
         "xaxis": "x",
         "y": [
          4.65527693986022e-14,
          4.7606077472692035e-14
         ],
         "yaxis": "y"
        },
        {
         "fill": "tozeroy",
         "fillcolor": "rgb(76,255,128)",
         "hoverinfo": "skip",
         "line": {
          "color": "rgba(0,0,0,0)"
         },
         "mode": "lines",
         "showlegend": false,
         "type": "scatter",
         "x": [
          -2.425,
          -2.4
         ],
         "xaxis": "x",
         "y": [
          4.7606077472692035e-14,
          4.865938554678186e-14
         ],
         "yaxis": "y"
        },
        {
         "fill": "tozeroy",
         "fillcolor": "rgb(76,255,128)",
         "hoverinfo": "skip",
         "line": {
          "color": "rgba(0,0,0,0)"
         },
         "mode": "lines",
         "showlegend": false,
         "type": "scatter",
         "x": [
          -2.4,
          -2.375
         ],
         "xaxis": "x",
         "y": [
          4.865938554678186e-14,
          4.976121387709986e-14
         ],
         "yaxis": "y"
        },
        {
         "fill": "tozeroy",
         "fillcolor": "rgb(255,76,198)",
         "hoverinfo": "skip",
         "line": {
          "color": "rgba(0,0,0,0)"
         },
         "mode": "lines",
         "showlegend": false,
         "type": "scatter",
         "x": [
          -2.375,
          -2.35
         ],
         "xaxis": "x",
         "y": [
          4.976121387709986e-14,
          5.086304220741786e-14
         ],
         "yaxis": "y"
        },
        {
         "fill": "tozeroy",
         "fillcolor": "rgb(255,76,198)",
         "hoverinfo": "skip",
         "line": {
          "color": "rgba(0,0,0,0)"
         },
         "mode": "lines",
         "showlegend": false,
         "type": "scatter",
         "x": [
          -2.35,
          -2.325
         ],
         "xaxis": "x",
         "y": [
          5.086304220741786e-14,
          5.202866595626639e-14
         ],
         "yaxis": "y"
        },
        {
         "fill": "tozeroy",
         "fillcolor": "rgb(76,255,132)",
         "hoverinfo": "skip",
         "line": {
          "color": "rgba(0,0,0,0)"
         },
         "mode": "lines",
         "showlegend": false,
         "type": "scatter",
         "x": [
          -2.3249999999999997,
          -2.3
         ],
         "xaxis": "x",
         "y": [
          5.202866595626639e-14,
          5.319428970511493e-14
         ],
         "yaxis": "y"
        },
        {
         "fill": "tozeroy",
         "fillcolor": "rgb(76,255,132)",
         "hoverinfo": "skip",
         "line": {
          "color": "rgba(0,0,0,0)"
         },
         "mode": "lines",
         "showlegend": false,
         "type": "scatter",
         "x": [
          -2.3,
          -2.275
         ],
         "xaxis": "x",
         "y": [
          5.319428970511493e-14,
          5.442417989922235e-14
         ],
         "yaxis": "y"
        },
        {
         "fill": "tozeroy",
         "fillcolor": "rgb(255,76,194)",
         "hoverinfo": "skip",
         "line": {
          "color": "rgba(0,0,0,0)"
         },
         "mode": "lines",
         "showlegend": false,
         "type": "scatter",
         "x": [
          -2.275,
          -2.25
         ],
         "xaxis": "x",
         "y": [
          5.442417989922235e-14,
          5.565407009332977e-14
         ],
         "yaxis": "y"
        },
        {
         "fill": "tozeroy",
         "fillcolor": "rgb(255,76,194)",
         "hoverinfo": "skip",
         "line": {
          "color": "rgba(0,0,0,0)"
         },
         "mode": "lines",
         "showlegend": false,
         "type": "scatter",
         "x": [
          -2.25,
          -2.225
         ],
         "xaxis": "x",
         "y": [
          5.565407009332977e-14,
          5.695398113245543e-14
         ],
         "yaxis": "y"
        },
        {
         "fill": "tozeroy",
         "fillcolor": "rgb(76,255,136)",
         "hoverinfo": "skip",
         "line": {
          "color": "rgba(0,0,0,0)"
         },
         "mode": "lines",
         "showlegend": false,
         "type": "scatter",
         "x": [
          -2.2249999999999996,
          -2.1999999999999997
         ],
         "xaxis": "x",
         "y": [
          5.695398113245543e-14,
          5.825389217158111e-14
         ],
         "yaxis": "y"
        },
        {
         "fill": "tozeroy",
         "fillcolor": "rgb(76,255,136)",
         "hoverinfo": "skip",
         "line": {
          "color": "rgba(0,0,0,0)"
         },
         "mode": "lines",
         "showlegend": false,
         "type": "scatter",
         "x": [
          -2.1999999999999997,
          -2.175
         ],
         "xaxis": "x",
         "y": [
          5.825389217158111e-14,
          5.963321418718273e-14
         ],
         "yaxis": "y"
        },
        {
         "fill": "tozeroy",
         "fillcolor": "rgb(255,76,190)",
         "hoverinfo": "skip",
         "line": {
          "color": "rgba(0,0,0,0)"
         },
         "mode": "lines",
         "showlegend": false,
         "type": "scatter",
         "x": [
          -2.175,
          -2.15
         ],
         "xaxis": "x",
         "y": [
          5.963321418718273e-14,
          6.101253620278435e-14
         ],
         "yaxis": "y"
        },
        {
         "fill": "tozeroy",
         "fillcolor": "rgb(255,76,190)",
         "hoverinfo": "skip",
         "line": {
          "color": "rgba(0,0,0,0)"
         },
         "mode": "lines",
         "showlegend": false,
         "type": "scatter",
         "x": [
          -2.15,
          -2.125
         ],
         "xaxis": "x",
         "y": [
          6.101253620278435e-14,
          6.247135375612718e-14
         ],
         "yaxis": "y"
        },
        {
         "fill": "tozeroy",
         "fillcolor": "rgb(76,255,145)",
         "hoverinfo": "skip",
         "line": {
          "color": "rgba(0,0,0,0)"
         },
         "mode": "lines",
         "showlegend": false,
         "type": "scatter",
         "x": [
          -2.125,
          -2.1
         ],
         "xaxis": "x",
         "y": [
          6.247135375612718e-14,
          6.393017130947001e-14
         ],
         "yaxis": "y"
        },
        {
         "fill": "tozeroy",
         "fillcolor": "rgb(76,255,145)",
         "hoverinfo": "skip",
         "line": {
          "color": "rgba(0,0,0,0)"
         },
         "mode": "lines",
         "showlegend": false,
         "type": "scatter",
         "x": [
          -2.1,
          -2.075
         ],
         "xaxis": "x",
         "y": [
          6.393017130947001e-14,
          6.547195649867832e-14
         ],
         "yaxis": "y"
        },
        {
         "fill": "tozeroy",
         "fillcolor": "rgb(255,76,186)",
         "hoverinfo": "skip",
         "line": {
          "color": "rgba(0,0,0,0)"
         },
         "mode": "lines",
         "showlegend": false,
         "type": "scatter",
         "x": [
          -2.0749999999999997,
          -2.05
         ],
         "xaxis": "x",
         "y": [
          6.547195649867832e-14,
          6.701374168788663e-14
         ],
         "yaxis": "y"
        },
        {
         "fill": "tozeroy",
         "fillcolor": "rgb(255,76,186)",
         "hoverinfo": "skip",
         "line": {
          "color": "rgba(0,0,0,0)"
         },
         "mode": "lines",
         "showlegend": false,
         "type": "scatter",
         "x": [
          -2.05,
          -2.025
         ],
         "xaxis": "x",
         "y": [
          6.701374168788663e-14,
          6.865712331090446e-14
         ],
         "yaxis": "y"
        },
        {
         "fill": "tozeroy",
         "fillcolor": "rgb(76,255,149)",
         "hoverinfo": "skip",
         "line": {
          "color": "rgba(0,0,0,0)"
         },
         "mode": "lines",
         "showlegend": false,
         "type": "scatter",
         "x": [
          -2.025,
          -2
         ],
         "xaxis": "x",
         "y": [
          6.865712331090446e-14,
          7.030050493392229e-14
         ],
         "yaxis": "y"
        },
        {
         "fill": "tozeroy",
         "fillcolor": "rgb(76,255,149)",
         "hoverinfo": "skip",
         "line": {
          "color": "rgba(0,0,0,0)"
         },
         "mode": "lines",
         "showlegend": false,
         "type": "scatter",
         "x": [
          -2,
          -1.975
         ],
         "xaxis": "x",
         "y": [
          7.030050493392229e-14,
          7.203858227928554e-14
         ],
         "yaxis": "y"
        },
        {
         "fill": "tozeroy",
         "fillcolor": "rgb(255,76,177)",
         "hoverinfo": "skip",
         "line": {
          "color": "rgba(0,0,0,0)"
         },
         "mode": "lines",
         "showlegend": false,
         "type": "scatter",
         "x": [
          -1.9749999999999999,
          -1.95
         ],
         "xaxis": "x",
         "y": [
          7.203858227928554e-14,
          7.377665962464878e-14
         ],
         "yaxis": "y"
        },
        {
         "fill": "tozeroy",
         "fillcolor": "rgb(255,76,177)",
         "hoverinfo": "skip",
         "line": {
          "color": "rgba(0,0,0,0)"
         },
         "mode": "lines",
         "showlegend": false,
         "type": "scatter",
         "x": [
          -1.95,
          -1.925
         ],
         "xaxis": "x",
         "y": [
          7.377665962464878e-14,
          7.562882677888213e-14
         ],
         "yaxis": "y"
        },
        {
         "fill": "tozeroy",
         "fillcolor": "rgb(76,255,153)",
         "hoverinfo": "skip",
         "line": {
          "color": "rgba(0,0,0,0)"
         },
         "mode": "lines",
         "showlegend": false,
         "type": "scatter",
         "x": [
          -1.9249999999999998,
          -1.9
         ],
         "xaxis": "x",
         "y": [
          7.562882677888213e-14,
          7.748099393311549e-14
         ],
         "yaxis": "y"
        },
        {
         "fill": "tozeroy",
         "fillcolor": "rgb(76,255,153)",
         "hoverinfo": "skip",
         "line": {
          "color": "rgba(0,0,0,0)"
         },
         "mode": "lines",
         "showlegend": false,
         "type": "scatter",
         "x": [
          -1.9,
          -1.875
         ],
         "xaxis": "x",
         "y": [
          7.748099393311549e-14,
          7.945419588938598e-14
         ],
         "yaxis": "y"
        },
        {
         "fill": "tozeroy",
         "fillcolor": "rgb(255,76,173)",
         "hoverinfo": "skip",
         "line": {
          "color": "rgba(0,0,0,0)"
         },
         "mode": "lines",
         "showlegend": false,
         "type": "scatter",
         "x": [
          -1.875,
          -1.85
         ],
         "xaxis": "x",
         "y": [
          7.945419588938598e-14,
          8.142739784565649e-14
         ],
         "yaxis": "y"
        },
        {
         "fill": "tozeroy",
         "fillcolor": "rgb(255,76,173)",
         "hoverinfo": "skip",
         "line": {
          "color": "rgba(0,0,0,0)"
         },
         "mode": "lines",
         "showlegend": false,
         "type": "scatter",
         "x": [
          -1.85,
          -1.8250000000000002
         ],
         "xaxis": "x",
         "y": [
          8.142739784565649e-14,
          8.352705303523062e-14
         ],
         "yaxis": "y"
        },
        {
         "fill": "tozeroy",
         "fillcolor": "rgb(76,255,162)",
         "hoverinfo": "skip",
         "line": {
          "color": "rgba(0,0,0,0)"
         },
         "mode": "lines",
         "showlegend": false,
         "type": "scatter",
         "x": [
          -1.825,
          -1.8
         ],
         "xaxis": "x",
         "y": [
          8.352705303523062e-14,
          8.562670822480476e-14
         ],
         "yaxis": "y"
        },
        {
         "fill": "tozeroy",
         "fillcolor": "rgb(76,255,162)",
         "hoverinfo": "skip",
         "line": {
          "color": "rgba(0,0,0,0)"
         },
         "mode": "lines",
         "showlegend": false,
         "type": "scatter",
         "x": [
          -1.8,
          -1.7750000000000001
         ],
         "xaxis": "x",
         "y": [
          8.562670822480476e-14,
          8.786824456303449e-14
         ],
         "yaxis": "y"
        },
        {
         "fill": "tozeroy",
         "fillcolor": "rgb(255,76,169)",
         "hoverinfo": "skip",
         "line": {
          "color": "rgba(0,0,0,0)"
         },
         "mode": "lines",
         "showlegend": false,
         "type": "scatter",
         "x": [
          -1.775,
          -1.75
         ],
         "xaxis": "x",
         "y": [
          8.786824456303449e-14,
          9.010978090126421e-14
         ],
         "yaxis": "y"
        },
        {
         "fill": "tozeroy",
         "fillcolor": "rgb(255,76,169)",
         "hoverinfo": "skip",
         "line": {
          "color": "rgba(0,0,0,0)"
         },
         "mode": "lines",
         "showlegend": false,
         "type": "scatter",
         "x": [
          -1.75,
          -1.725
         ],
         "xaxis": "x",
         "y": [
          9.010978090126421e-14,
          9.250215399179677e-14
         ],
         "yaxis": "y"
        },
        {
         "fill": "tozeroy",
         "fillcolor": "rgb(76,255,166)",
         "hoverinfo": "skip",
         "line": {
          "color": "rgba(0,0,0,0)"
         },
         "mode": "lines",
         "showlegend": false,
         "type": "scatter",
         "x": [
          -1.7249999999999999,
          -1.7
         ],
         "xaxis": "x",
         "y": [
          9.250215399179677e-14,
          9.489452708232931e-14
         ],
         "yaxis": "y"
        },
        {
         "fill": "tozeroy",
         "fillcolor": "rgb(76,255,166)",
         "hoverinfo": "skip",
         "line": {
          "color": "rgba(0,0,0,0)"
         },
         "mode": "lines",
         "showlegend": false,
         "type": "scatter",
         "x": [
          -1.7,
          -1.675
         ],
         "xaxis": "x",
         "y": [
          9.489452708232931e-14,
          9.745254336422393e-14
         ],
         "yaxis": "y"
        },
        {
         "fill": "tozeroy",
         "fillcolor": "rgb(255,76,165)",
         "hoverinfo": "skip",
         "line": {
          "color": "rgba(0,0,0,0)"
         },
         "mode": "lines",
         "showlegend": false,
         "type": "scatter",
         "x": [
          -1.6749999999999998,
          -1.65
         ],
         "xaxis": "x",
         "y": [
          9.745254336422393e-14,
          1.0001055964611855e-13
         ],
         "yaxis": "y"
        },
        {
         "fill": "tozeroy",
         "fillcolor": "rgb(255,76,165)",
         "hoverinfo": "skip",
         "line": {
          "color": "rgba(0,0,0,0)"
         },
         "mode": "lines",
         "showlegend": false,
         "type": "scatter",
         "x": [
          -1.65,
          -1.625
         ],
         "xaxis": "x",
         "y": [
          1.0001055964611855e-13,
          1.0274891674851815e-13
         ],
         "yaxis": "y"
        },
        {
         "fill": "tozeroy",
         "fillcolor": "rgb(76,255,170)",
         "hoverinfo": "skip",
         "line": {
          "color": "rgba(0,0,0,0)"
         },
         "mode": "lines",
         "showlegend": false,
         "type": "scatter",
         "x": [
          -1.625,
          -1.6
         ],
         "xaxis": "x",
         "y": [
          1.0274891674851815e-13,
          1.0548727385091776e-13
         ],
         "yaxis": "y"
        },
        {
         "fill": "tozeroy",
         "fillcolor": "rgb(76,255,170)",
         "hoverinfo": "skip",
         "line": {
          "color": "rgba(0,0,0,0)"
         },
         "mode": "lines",
         "showlegend": false,
         "type": "scatter",
         "x": [
          -1.6,
          -1.5750000000000002
         ],
         "xaxis": "x",
         "y": [
          1.0548727385091776e-13,
          1.0841804218981143e-13
         ],
         "yaxis": "y"
        },
        {
         "fill": "tozeroy",
         "fillcolor": "rgb(255,76,156)",
         "hoverinfo": "skip",
         "line": {
          "color": "rgba(0,0,0,0)"
         },
         "mode": "lines",
         "showlegend": false,
         "type": "scatter",
         "x": [
          -1.575,
          -1.55
         ],
         "xaxis": "x",
         "y": [
          1.0841804218981143e-13,
          1.1134881052870509e-13
         ],
         "yaxis": "y"
        },
        {
         "fill": "tozeroy",
         "fillcolor": "rgb(255,76,156)",
         "hoverinfo": "skip",
         "line": {
          "color": "rgba(0,0,0,0)"
         },
         "mode": "lines",
         "showlegend": false,
         "type": "scatter",
         "x": [
          -1.55,
          -1.5250000000000001
         ],
         "xaxis": "x",
         "y": [
          1.1134881052870509e-13,
          1.1449126634622839e-13
         ],
         "yaxis": "y"
        },
        {
         "fill": "tozeroy",
         "fillcolor": "rgb(76,255,174)",
         "hoverinfo": "skip",
         "line": {
          "color": "rgba(0,0,0,0)"
         },
         "mode": "lines",
         "showlegend": false,
         "type": "scatter",
         "x": [
          -1.525,
          -1.5
         ],
         "xaxis": "x",
         "y": [
          1.1449126634622839e-13,
          1.1763372216375167e-13
         ],
         "yaxis": "y"
        },
        {
         "fill": "tozeroy",
         "fillcolor": "rgb(76,255,174)",
         "hoverinfo": "skip",
         "line": {
          "color": "rgba(0,0,0,0)"
         },
         "mode": "lines",
         "showlegend": false,
         "type": "scatter",
         "x": [
          -1.5,
          -1.475
         ],
         "xaxis": "x",
         "y": [
          1.1763372216375167e-13,
          1.210016694537144e-13
         ],
         "yaxis": "y"
        },
        {
         "fill": "tozeroy",
         "fillcolor": "rgb(255,76,152)",
         "hoverinfo": "skip",
         "line": {
          "color": "rgba(0,0,0,0)"
         },
         "mode": "lines",
         "showlegend": false,
         "type": "scatter",
         "x": [
          -1.4749999999999999,
          -1.45
         ],
         "xaxis": "x",
         "y": [
          1.210016694537144e-13,
          1.2436961674367715e-13
         ],
         "yaxis": "y"
        },
        {
         "fill": "tozeroy",
         "fillcolor": "rgb(255,76,152)",
         "hoverinfo": "skip",
         "line": {
          "color": "rgba(0,0,0,0)"
         },
         "mode": "lines",
         "showlegend": false,
         "type": "scatter",
         "x": [
          -1.45,
          -1.425
         ],
         "xaxis": "x",
         "y": [
          1.2436961674367715e-13,
          1.2799130716613655e-13
         ],
         "yaxis": "y"
        },
        {
         "fill": "tozeroy",
         "fillcolor": "rgb(76,255,183)",
         "hoverinfo": "skip",
         "line": {
          "color": "rgba(0,0,0,0)"
         },
         "mode": "lines",
         "showlegend": false,
         "type": "scatter",
         "x": [
          -1.4249999999999998,
          -1.4
         ],
         "xaxis": "x",
         "y": [
          1.2799130716613655e-13,
          1.3161299758859595e-13
         ],
         "yaxis": "y"
        },
        {
         "fill": "tozeroy",
         "fillcolor": "rgb(76,255,183)",
         "hoverinfo": "skip",
         "line": {
          "color": "rgba(0,0,0,0)"
         },
         "mode": "lines",
         "showlegend": false,
         "type": "scatter",
         "x": [
          -1.4,
          -1.375
         ],
         "xaxis": "x",
         "y": [
          1.3161299758859595e-13,
          1.3550155976321713e-13
         ],
         "yaxis": "y"
        },
        {
         "fill": "tozeroy",
         "fillcolor": "rgb(255,76,148)",
         "hoverinfo": "skip",
         "line": {
          "color": "rgba(0,0,0,0)"
         },
         "mode": "lines",
         "showlegend": false,
         "type": "scatter",
         "x": [
          -1.375,
          -1.35
         ],
         "xaxis": "x",
         "y": [
          1.3550155976321713e-13,
          1.3939012193783833e-13
         ],
         "yaxis": "y"
        },
        {
         "fill": "tozeroy",
         "fillcolor": "rgb(255,76,148)",
         "hoverinfo": "skip",
         "line": {
          "color": "rgba(0,0,0,0)"
         },
         "mode": "lines",
         "showlegend": false,
         "type": "scatter",
         "x": [
          -1.35,
          -1.3250000000000002
         ],
         "xaxis": "x",
         "y": [
          1.3939012193783833e-13,
          1.4357302390781306e-13
         ],
         "yaxis": "y"
        },
        {
         "fill": "tozeroy",
         "fillcolor": "rgb(76,255,187)",
         "hoverinfo": "skip",
         "line": {
          "color": "rgba(0,0,0,0)"
         },
         "mode": "lines",
         "showlegend": false,
         "type": "scatter",
         "x": [
          -1.325,
          -1.3
         ],
         "xaxis": "x",
         "y": [
          1.4357302390781306e-13,
          1.477559258777878e-13
         ],
         "yaxis": "y"
        },
        {
         "fill": "tozeroy",
         "fillcolor": "rgb(76,255,187)",
         "hoverinfo": "skip",
         "line": {
          "color": "rgba(0,0,0,0)"
         },
         "mode": "lines",
         "showlegend": false,
         "type": "scatter",
         "x": [
          -1.3,
          -1.2750000000000001
         ],
         "xaxis": "x",
         "y": [
          1.477559258777878e-13,
          1.5225094772592845e-13
         ],
         "yaxis": "y"
        },
        {
         "fill": "tozeroy",
         "fillcolor": "rgb(255,76,139)",
         "hoverinfo": "skip",
         "line": {
          "color": "rgba(0,0,0,0)"
         },
         "mode": "lines",
         "showlegend": false,
         "type": "scatter",
         "x": [
          -1.275,
          -1.25
         ],
         "xaxis": "x",
         "y": [
          1.5225094772592845e-13,
          1.5674596957406908e-13
         ],
         "yaxis": "y"
        },
        {
         "fill": "tozeroy",
         "fillcolor": "rgb(255,76,139)",
         "hoverinfo": "skip",
         "line": {
          "color": "rgba(0,0,0,0)"
         },
         "mode": "lines",
         "showlegend": false,
         "type": "scatter",
         "x": [
          -1.25,
          -1.225
         ],
         "xaxis": "x",
         "y": [
          1.5674596957406908e-13,
          1.615831912702498e-13
         ],
         "yaxis": "y"
        },
        {
         "fill": "tozeroy",
         "fillcolor": "rgb(76,255,191)",
         "hoverinfo": "skip",
         "line": {
          "color": "rgba(0,0,0,0)"
         },
         "mode": "lines",
         "showlegend": false,
         "type": "scatter",
         "x": [
          -1.2249999999999999,
          -1.2
         ],
         "xaxis": "x",
         "y": [
          1.615831912702498e-13,
          1.6642041296643053e-13
         ],
         "yaxis": "y"
        },
        {
         "fill": "tozeroy",
         "fillcolor": "rgb(76,255,191)",
         "hoverinfo": "skip",
         "line": {
          "color": "rgba(0,0,0,0)"
         },
         "mode": "lines",
         "showlegend": false,
         "type": "scatter",
         "x": [
          -1.2,
          -1.175
         ],
         "xaxis": "x",
         "y": [
          1.6642041296643053e-13,
          1.7162652868073856e-13
         ],
         "yaxis": "y"
        },
        {
         "fill": "tozeroy",
         "fillcolor": "rgb(255,76,135)",
         "hoverinfo": "skip",
         "line": {
          "color": "rgba(0,0,0,0)"
         },
         "mode": "lines",
         "showlegend": false,
         "type": "scatter",
         "x": [
          -1.1749999999999998,
          -1.15
         ],
         "xaxis": "x",
         "y": [
          1.7162652868073856e-13,
          1.768326443950466e-13
         ],
         "yaxis": "y"
        },
        {
         "fill": "tozeroy",
         "fillcolor": "rgb(255,76,135)",
         "hoverinfo": "skip",
         "line": {
          "color": "rgba(0,0,0,0)"
         },
         "mode": "lines",
         "showlegend": false,
         "type": "scatter",
         "x": [
          -1.15,
          -1.125
         ],
         "xaxis": "x",
         "y": [
          1.768326443950466e-13,
          1.8243429664893116e-13
         ],
         "yaxis": "y"
        },
        {
         "fill": "tozeroy",
         "fillcolor": "rgb(76,255,195)",
         "hoverinfo": "skip",
         "line": {
          "color": "rgba(0,0,0,0)"
         },
         "mode": "lines",
         "showlegend": false,
         "type": "scatter",
         "x": [
          -1.1249999999999998,
          -1.0999999999999999
         ],
         "xaxis": "x",
         "y": [
          1.8243429664893116e-13,
          1.8803594890281576e-13
         ],
         "yaxis": "y"
        },
        {
         "fill": "tozeroy",
         "fillcolor": "rgb(76,255,195)",
         "hoverinfo": "skip",
         "line": {
          "color": "rgba(0,0,0,0)"
         },
         "mode": "lines",
         "showlegend": false,
         "type": "scatter",
         "x": [
          -1.0999999999999999,
          -1.075
         ],
         "xaxis": "x",
         "y": [
          1.8803594890281576e-13,
          1.940581982087698e-13
         ],
         "yaxis": "y"
        },
        {
         "fill": "tozeroy",
         "fillcolor": "rgb(255,76,131)",
         "hoverinfo": "skip",
         "line": {
          "color": "rgba(0,0,0,0)"
         },
         "mode": "lines",
         "showlegend": false,
         "type": "scatter",
         "x": [
          -1.075,
          -1.05
         ],
         "xaxis": "x",
         "y": [
          1.940581982087698e-13,
          2.0008044751472383e-13
         ],
         "yaxis": "y"
        },
        {
         "fill": "tozeroy",
         "fillcolor": "rgb(255,76,131)",
         "hoverinfo": "skip",
         "line": {
          "color": "rgba(0,0,0,0)"
         },
         "mode": "lines",
         "showlegend": false,
         "type": "scatter",
         "x": [
          -1.05,
          -1.0250000000000001
         ],
         "xaxis": "x",
         "y": [
          2.0008044751472383e-13,
          2.0654769713933065e-13
         ],
         "yaxis": "y"
        },
        {
         "fill": "tozeroy",
         "fillcolor": "rgb(76,255,204)",
         "hoverinfo": "skip",
         "line": {
          "color": "rgba(0,0,0,0)"
         },
         "mode": "lines",
         "showlegend": false,
         "type": "scatter",
         "x": [
          -1.025,
          -1
         ],
         "xaxis": "x",
         "y": [
          2.0654769713933065e-13,
          2.1301494676393744e-13
         ],
         "yaxis": "y"
        },
        {
         "fill": "tozeroy",
         "fillcolor": "rgb(76,255,204)",
         "hoverinfo": "skip",
         "line": {
          "color": "rgba(0,0,0,0)"
         },
         "mode": "lines",
         "showlegend": false,
         "type": "scatter",
         "x": [
          -1,
          -0.9750000000000001
         ],
         "xaxis": "x",
         "y": [
          2.1301494676393744e-13,
          2.2001705020783248e-13
         ],
         "yaxis": "y"
        },
        {
         "fill": "tozeroy",
         "fillcolor": "rgb(255,76,127)",
         "hoverinfo": "skip",
         "line": {
          "color": "rgba(0,0,0,0)"
         },
         "mode": "lines",
         "showlegend": false,
         "type": "scatter",
         "x": [
          -0.9749999999999999,
          -0.95
         ],
         "xaxis": "x",
         "y": [
          2.2001705020783248e-13,
          2.270191536517275e-13
         ],
         "yaxis": "y"
        },
        {
         "fill": "tozeroy",
         "fillcolor": "rgb(255,76,127)",
         "hoverinfo": "skip",
         "line": {
          "color": "rgba(0,0,0,0)"
         },
         "mode": "lines",
         "showlegend": false,
         "type": "scatter",
         "x": [
          -0.95,
          -0.925
         ],
         "xaxis": "x",
         "y": [
          2.270191536517275e-13,
          2.320914972249976e-13
         ],
         "yaxis": "y"
        },
        {
         "fill": "tozeroy",
         "fillcolor": "rgb(76,255,208)",
         "hoverinfo": "skip",
         "line": {
          "color": "rgba(0,0,0,0)"
         },
         "mode": "lines",
         "showlegend": false,
         "type": "scatter",
         "x": [
          -0.9249999999999999,
          -0.9
         ],
         "xaxis": "x",
         "y": [
          2.320914972249976e-13,
          2.3716384079826765e-13
         ],
         "yaxis": "y"
        },
        {
         "fill": "tozeroy",
         "fillcolor": "rgb(76,255,208)",
         "hoverinfo": "skip",
         "line": {
          "color": "rgba(0,0,0,0)"
         },
         "mode": "lines",
         "showlegend": false,
         "type": "scatter",
         "x": [
          -0.9,
          -0.8750000000000001
         ],
         "xaxis": "x",
         "y": [
          2.3716384079826765e-13,
          3.2042646606217683e-13
         ],
         "yaxis": "y"
        },
        {
         "fill": "tozeroy",
         "fillcolor": "rgb(255,76,118)",
         "hoverinfo": "skip",
         "line": {
          "color": "rgba(0,0,0,0)"
         },
         "mode": "lines",
         "showlegend": false,
         "type": "scatter",
         "x": [
          -0.8749999999999999,
          -0.85
         ],
         "xaxis": "x",
         "y": [
          3.2042646606217683e-13,
          4.0368909132608595e-13
         ],
         "yaxis": "y"
        },
        {
         "fill": "tozeroy",
         "fillcolor": "rgb(255,76,118)",
         "hoverinfo": "skip",
         "line": {
          "color": "rgba(0,0,0,0)"
         },
         "mode": "lines",
         "showlegend": false,
         "type": "scatter",
         "x": [
          -0.85,
          -0.8250000000000001
         ],
         "xaxis": "x",
         "y": [
          4.0368909132608595e-13,
          1.9607443722460856e-12
         ],
         "yaxis": "y"
        },
        {
         "fill": "tozeroy",
         "fillcolor": "rgb(255,76,118)",
         "hoverinfo": "skip",
         "line": {
          "color": "rgba(0,0,0,0)"
         },
         "mode": "lines",
         "showlegend": false,
         "type": "scatter",
         "x": [
          -0.825,
          -0.8
         ],
         "xaxis": "x",
         "y": [
          1.9607443722460856e-12,
          3.5177996531660855e-12
         ],
         "yaxis": "y"
        },
        {
         "fill": "tozeroy",
         "fillcolor": "rgb(255,76,118)",
         "hoverinfo": "skip",
         "line": {
          "color": "rgba(0,0,0,0)"
         },
         "mode": "lines",
         "showlegend": false,
         "type": "scatter",
         "x": [
          -0.8,
          -0.7750000000000001
         ],
         "xaxis": "x",
         "y": [
          3.5177996531660855e-12,
          4.232942768435659e-11
         ],
         "yaxis": "y"
        },
        {
         "fill": "tozeroy",
         "fillcolor": "rgb(255,76,114)",
         "hoverinfo": "skip",
         "line": {
          "color": "rgba(0,0,0,0)"
         },
         "mode": "lines",
         "showlegend": false,
         "type": "scatter",
         "x": [
          -0.7749999999999999,
          -0.75
         ],
         "xaxis": "x",
         "y": [
          4.232942768435659e-11,
          8.11410557155471e-11
         ],
         "yaxis": "y"
        },
        {
         "fill": "tozeroy",
         "fillcolor": "rgb(255,76,114)",
         "hoverinfo": "skip",
         "line": {
          "color": "rgba(0,0,0,0)"
         },
         "mode": "lines",
         "showlegend": false,
         "type": "scatter",
         "x": [
          -0.75,
          -0.7250000000000001
         ],
         "xaxis": "x",
         "y": [
          8.11410557155471e-11,
          7.478280894030875e-10
         ],
         "yaxis": "y"
        },
        {
         "fill": "tozeroy",
         "fillcolor": "rgb(255,76,110)",
         "hoverinfo": "skip",
         "line": {
          "color": "rgba(0,0,0,0)"
         },
         "mode": "lines",
         "showlegend": false,
         "type": "scatter",
         "x": [
          -0.7249999999999999,
          -0.7
         ],
         "xaxis": "x",
         "y": [
          7.478280894030875e-10,
          1.414515123090628e-9
         ],
         "yaxis": "y"
        },
        {
         "fill": "tozeroy",
         "fillcolor": "rgb(255,76,110)",
         "hoverinfo": "skip",
         "line": {
          "color": "rgba(0,0,0,0)"
         },
         "mode": "lines",
         "showlegend": false,
         "type": "scatter",
         "x": [
          -0.7,
          -0.675
         ],
         "xaxis": "x",
         "y": [
          1.414515123090628e-9,
          1.0869400246630542e-8
         ],
         "yaxis": "y"
        },
        {
         "fill": "tozeroy",
         "fillcolor": "rgb(255,76,110)",
         "hoverinfo": "skip",
         "line": {
          "color": "rgba(0,0,0,0)"
         },
         "mode": "lines",
         "showlegend": false,
         "type": "scatter",
         "x": [
          -0.6749999999999999,
          -0.65
         ],
         "xaxis": "x",
         "y": [
          1.0869400246630542e-8,
          2.0324285370170456e-8
         ],
         "yaxis": "y"
        },
        {
         "fill": "tozeroy",
         "fillcolor": "rgb(255,76,110)",
         "hoverinfo": "skip",
         "line": {
          "color": "rgba(0,0,0,0)"
         },
         "mode": "lines",
         "showlegend": false,
         "type": "scatter",
         "x": [
          -0.65,
          -0.6250000000000001
         ],
         "xaxis": "x",
         "y": [
          2.0324285370170456e-8,
          1.2998957457863074e-7
         ],
         "yaxis": "y"
        },
        {
         "fill": "tozeroy",
         "fillcolor": "rgb(255,76,106)",
         "hoverinfo": "skip",
         "line": {
          "color": "rgba(0,0,0,0)"
         },
         "mode": "lines",
         "showlegend": false,
         "type": "scatter",
         "x": [
          -0.6249999999999999,
          -0.6
         ],
         "xaxis": "x",
         "y": [
          1.2998957457863074e-7,
          2.3965486378709104e-7
         ],
         "yaxis": "y"
        },
        {
         "fill": "tozeroy",
         "fillcolor": "rgb(255,76,106)",
         "hoverinfo": "skip",
         "line": {
          "color": "rgba(0,0,0,0)"
         },
         "mode": "lines",
         "showlegend": false,
         "type": "scatter",
         "x": [
          -0.6,
          -0.5750000000000001
         ],
         "xaxis": "x",
         "y": [
          2.3965486378709104e-7,
          0.000001279697517317404
         ],
         "yaxis": "y"
        },
        {
         "fill": "tozeroy",
         "fillcolor": "rgb(255,76,106)",
         "hoverinfo": "skip",
         "line": {
          "color": "rgba(0,0,0,0)"
         },
         "mode": "lines",
         "showlegend": false,
         "type": "scatter",
         "x": [
          -0.5749999999999998,
          -0.5499999999999999
         ],
         "xaxis": "x",
         "y": [
          0.000001279697517317404,
          0.000002319740170847717
         ],
         "yaxis": "y"
        },
        {
         "fill": "tozeroy",
         "fillcolor": "rgb(255,76,106)",
         "hoverinfo": "skip",
         "line": {
          "color": "rgba(0,0,0,0)"
         },
         "mode": "lines",
         "showlegend": false,
         "type": "scatter",
         "x": [
          -0.5499999999999999,
          -0.525
         ],
         "xaxis": "x",
         "y": [
          0.000002319740170847717,
          0.000010375719325779678
         ],
         "yaxis": "y"
        },
        {
         "fill": "tozeroy",
         "fillcolor": "rgb(255,76,101)",
         "hoverinfo": "skip",
         "line": {
          "color": "rgba(0,0,0,0)"
         },
         "mode": "lines",
         "showlegend": false,
         "type": "scatter",
         "x": [
          -0.5249999999999999,
          -0.5
         ],
         "xaxis": "x",
         "y": [
          0.000010375719325779678,
          0.000018431698480711638
         ],
         "yaxis": "y"
        },
        {
         "fill": "tozeroy",
         "fillcolor": "rgb(255,76,101)",
         "hoverinfo": "skip",
         "line": {
          "color": "rgba(0,0,0,0)"
         },
         "mode": "lines",
         "showlegend": false,
         "type": "scatter",
         "x": [
          -0.5,
          -0.4750000000000001
         ],
         "xaxis": "x",
         "y": [
          0.000018431698480711638,
          0.00006932424969918538
         ],
         "yaxis": "y"
        },
        {
         "fill": "tozeroy",
         "fillcolor": "rgb(255,76,97)",
         "hoverinfo": "skip",
         "line": {
          "color": "rgba(0,0,0,0)"
         },
         "mode": "lines",
         "showlegend": false,
         "type": "scatter",
         "x": [
          -0.4749999999999999,
          -0.45
         ],
         "xaxis": "x",
         "y": [
          0.00006932424969918538,
          0.0001202168009176591
         ],
         "yaxis": "y"
        },
        {
         "fill": "tozeroy",
         "fillcolor": "rgb(255,76,97)",
         "hoverinfo": "skip",
         "line": {
          "color": "rgba(0,0,0,0)"
         },
         "mode": "lines",
         "showlegend": false,
         "type": "scatter",
         "x": [
          -0.45,
          -0.4250000000000001
         ],
         "xaxis": "x",
         "y": [
          0.0001202168009176591,
          0.00038192517180554394
         ],
         "yaxis": "y"
        },
        {
         "fill": "tozeroy",
         "fillcolor": "rgb(255,76,97)",
         "hoverinfo": "skip",
         "line": {
          "color": "rgba(0,0,0,0)"
         },
         "mode": "lines",
         "showlegend": false,
         "type": "scatter",
         "x": [
          -0.42499999999999993,
          -0.4
         ],
         "xaxis": "x",
         "y": [
          0.00038192517180554394,
          0.0006436335426934288
         ],
         "yaxis": "y"
        },
        {
         "fill": "tozeroy",
         "fillcolor": "rgb(255,76,97)",
         "hoverinfo": "skip",
         "line": {
          "color": "rgba(0,0,0,0)"
         },
         "mode": "lines",
         "showlegend": false,
         "type": "scatter",
         "x": [
          -0.4,
          -0.3750000000000001
         ],
         "xaxis": "x",
         "y": [
          0.0006436335426934288,
          0.0017361634772248258
         ],
         "yaxis": "y"
        },
        {
         "fill": "tozeroy",
         "fillcolor": "rgb(255,76,93)",
         "hoverinfo": "skip",
         "line": {
          "color": "rgba(0,0,0,0)"
         },
         "mode": "lines",
         "showlegend": false,
         "type": "scatter",
         "x": [
          -0.3749999999999999,
          -0.35
         ],
         "xaxis": "x",
         "y": [
          0.0017361634772248258,
          0.0028286934117562226
         ],
         "yaxis": "y"
        },
        {
         "fill": "tozeroy",
         "fillcolor": "rgb(255,76,93)",
         "hoverinfo": "skip",
         "line": {
          "color": "rgba(0,0,0,0)"
         },
         "mode": "lines",
         "showlegend": false,
         "type": "scatter",
         "x": [
          -0.35,
          -0.32500000000000007
         ],
         "xaxis": "x",
         "y": [
          0.0028286934117562226,
          0.006516773683268941
         ],
         "yaxis": "y"
        },
        {
         "fill": "tozeroy",
         "fillcolor": "rgb(255,76,89)",
         "hoverinfo": "skip",
         "line": {
          "color": "rgba(0,0,0,0)"
         },
         "mode": "lines",
         "showlegend": false,
         "type": "scatter",
         "x": [
          -0.3249999999999999,
          -0.3
         ],
         "xaxis": "x",
         "y": [
          0.006516773683268941,
          0.010204853954781658
         ],
         "yaxis": "y"
        },
        {
         "fill": "tozeroy",
         "fillcolor": "rgb(255,76,89)",
         "hoverinfo": "skip",
         "line": {
          "color": "rgba(0,0,0,0)"
         },
         "mode": "lines",
         "showlegend": false,
         "type": "scatter",
         "x": [
          -0.3,
          -0.2750000000000001
         ],
         "xaxis": "x",
         "y": [
          0.010204853954781658,
          0.02021266892600593
         ],
         "yaxis": "y"
        },
        {
         "fill": "tozeroy",
         "fillcolor": "rgb(255,76,89)",
         "hoverinfo": "skip",
         "line": {
          "color": "rgba(0,0,0,0)"
         },
         "mode": "lines",
         "showlegend": false,
         "type": "scatter",
         "x": [
          -0.2749999999999999,
          -0.25
         ],
         "xaxis": "x",
         "y": [
          0.02021266892600593,
          0.030220483897230206
         ],
         "yaxis": "y"
        },
        {
         "fill": "tozeroy",
         "fillcolor": "rgb(255,76,89)",
         "hoverinfo": "skip",
         "line": {
          "color": "rgba(0,0,0,0)"
         },
         "mode": "lines",
         "showlegend": false,
         "type": "scatter",
         "x": [
          -0.25,
          -0.2250000000000001
         ],
         "xaxis": "x",
         "y": [
          0.030220483897230206,
          0.05184183330601477
         ],
         "yaxis": "y"
        },
        {
         "fill": "tozeroy",
         "fillcolor": "rgb(255,76,84)",
         "hoverinfo": "skip",
         "line": {
          "color": "rgba(0,0,0,0)"
         },
         "mode": "lines",
         "showlegend": false,
         "type": "scatter",
         "x": [
          -0.22499999999999992,
          -0.2
         ],
         "xaxis": "x",
         "y": [
          0.05184183330601477,
          0.07346318271479933
         ],
         "yaxis": "y"
        },
        {
         "fill": "tozeroy",
         "fillcolor": "rgb(255,76,84)",
         "hoverinfo": "skip",
         "line": {
          "color": "rgba(0,0,0,0)"
         },
         "mode": "lines",
         "showlegend": false,
         "type": "scatter",
         "x": [
          -0.2,
          -0.1750000000000001
         ],
         "xaxis": "x",
         "y": [
          0.07346318271479933,
          0.110027844643622
         ],
         "yaxis": "y"
        },
        {
         "fill": "tozeroy",
         "fillcolor": "rgb(255,76,80)",
         "hoverinfo": "skip",
         "line": {
          "color": "rgba(0,0,0,0)"
         },
         "mode": "lines",
         "showlegend": false,
         "type": "scatter",
         "x": [
          -0.1749999999999999,
          -0.15
         ],
         "xaxis": "x",
         "y": [
          0.110027844643622,
          0.14659250657244466
         ],
         "yaxis": "y"
        },
        {
         "fill": "tozeroy",
         "fillcolor": "rgb(255,76,80)",
         "hoverinfo": "skip",
         "line": {
          "color": "rgba(0,0,0,0)"
         },
         "mode": "lines",
         "showlegend": false,
         "type": "scatter",
         "x": [
          -0.15,
          -0.12500000000000008
         ],
         "xaxis": "x",
         "y": [
          0.14659250657244466,
          0.19335602457522072
         ],
         "yaxis": "y"
        },
        {
         "fill": "tozeroy",
         "fillcolor": "rgb(255,76,80)",
         "hoverinfo": "skip",
         "line": {
          "color": "rgba(0,0,0,0)"
         },
         "mode": "lines",
         "showlegend": false,
         "type": "scatter",
         "x": [
          -0.12499999999999992,
          -0.1
         ],
         "xaxis": "x",
         "y": [
          0.19335602457522072,
          0.2401195425779968
         ],
         "yaxis": "y"
        },
        {
         "fill": "tozeroy",
         "fillcolor": "rgb(255,76,80)",
         "hoverinfo": "skip",
         "line": {
          "color": "rgba(0,0,0,0)"
         },
         "mode": "lines",
         "showlegend": false,
         "type": "scatter",
         "x": [
          -0.1,
          -0.0750000000000001
         ],
         "xaxis": "x",
         "y": [
          0.2401195425779968,
          0.281490777439558
         ],
         "yaxis": "y"
        },
        {
         "fill": "tozeroy",
         "fillcolor": "rgb(255,76,76)",
         "hoverinfo": "skip",
         "line": {
          "color": "rgba(0,0,0,0)"
         },
         "mode": "lines",
         "showlegend": false,
         "type": "scatter",
         "x": [
          -0.07499999999999991,
          -0.05
         ],
         "xaxis": "x",
         "y": [
          0.281490777439558,
          0.3228620123011192
         ],
         "yaxis": "y"
        },
        {
         "fill": "tozeroy",
         "fillcolor": "rgb(255,76,76)",
         "hoverinfo": "skip",
         "line": {
          "color": "rgba(0,0,0,0)"
         },
         "mode": "lines",
         "showlegend": false,
         "type": "scatter",
         "x": [
          -0.05,
          -0.02500000000000009
         ],
         "xaxis": "x",
         "y": [
          0.3228620123011192,
          0.33960737373903604
         ],
         "yaxis": "y"
        },
        {
         "fill": "tozeroy",
         "fillcolor": "rgb(255,76,76)",
         "hoverinfo": "skip",
         "line": {
          "color": "rgba(0,0,0,0)"
         },
         "mode": "lines",
         "showlegend": false,
         "type": "scatter",
         "x": [
          -0.02499999999999991,
          0
         ],
         "xaxis": "x",
         "y": [
          0.33960737373903604,
          0.35635273517695293
         ],
         "yaxis": "y"
        },
        {
         "fill": "tozeroy",
         "fillcolor": "rgb(255,76,76)",
         "hoverinfo": "skip",
         "line": {
          "color": "rgba(0,0,0,0)"
         },
         "mode": "lines",
         "showlegend": false,
         "type": "scatter",
         "x": [
          0,
          0.02499999999999991
         ],
         "xaxis": "x",
         "y": [
          0.35635273517695293,
          0.33960737373903604
         ],
         "yaxis": "y"
        },
        {
         "fill": "tozeroy",
         "fillcolor": "rgb(255,76,76)",
         "hoverinfo": "skip",
         "line": {
          "color": "rgba(0,0,0,0)"
         },
         "mode": "lines",
         "showlegend": false,
         "type": "scatter",
         "x": [
          0.02500000000000009,
          0.05
         ],
         "xaxis": "x",
         "y": [
          0.33960737373903604,
          0.3228620123011192
         ],
         "yaxis": "y"
        },
        {
         "fill": "tozeroy",
         "fillcolor": "rgb(255,76,76)",
         "hoverinfo": "skip",
         "line": {
          "color": "rgba(0,0,0,0)"
         },
         "mode": "lines",
         "showlegend": false,
         "type": "scatter",
         "x": [
          0.05,
          0.07499999999999991
         ],
         "xaxis": "x",
         "y": [
          0.3228620123011192,
          0.281490777439558
         ],
         "yaxis": "y"
        },
        {
         "fill": "tozeroy",
         "fillcolor": "rgb(255,80,76)",
         "hoverinfo": "skip",
         "line": {
          "color": "rgba(0,0,0,0)"
         },
         "mode": "lines",
         "showlegend": false,
         "type": "scatter",
         "x": [
          0.0750000000000001,
          0.1
         ],
         "xaxis": "x",
         "y": [
          0.281490777439558,
          0.2401195425779968
         ],
         "yaxis": "y"
        },
        {
         "fill": "tozeroy",
         "fillcolor": "rgb(255,80,76)",
         "hoverinfo": "skip",
         "line": {
          "color": "rgba(0,0,0,0)"
         },
         "mode": "lines",
         "showlegend": false,
         "type": "scatter",
         "x": [
          0.1,
          0.12499999999999992
         ],
         "xaxis": "x",
         "y": [
          0.2401195425779968,
          0.19335602457522072
         ],
         "yaxis": "y"
        },
        {
         "fill": "tozeroy",
         "fillcolor": "rgb(255,80,76)",
         "hoverinfo": "skip",
         "line": {
          "color": "rgba(0,0,0,0)"
         },
         "mode": "lines",
         "showlegend": false,
         "type": "scatter",
         "x": [
          0.12500000000000008,
          0.15
         ],
         "xaxis": "x",
         "y": [
          0.19335602457522072,
          0.14659250657244466
         ],
         "yaxis": "y"
        },
        {
         "fill": "tozeroy",
         "fillcolor": "rgb(255,80,76)",
         "hoverinfo": "skip",
         "line": {
          "color": "rgba(0,0,0,0)"
         },
         "mode": "lines",
         "showlegend": false,
         "type": "scatter",
         "x": [
          0.15,
          0.1749999999999999
         ],
         "xaxis": "x",
         "y": [
          0.14659250657244466,
          0.110027844643622
         ],
         "yaxis": "y"
        },
        {
         "fill": "tozeroy",
         "fillcolor": "rgb(255,84,76)",
         "hoverinfo": "skip",
         "line": {
          "color": "rgba(0,0,0,0)"
         },
         "mode": "lines",
         "showlegend": false,
         "type": "scatter",
         "x": [
          0.1750000000000001,
          0.2
         ],
         "xaxis": "x",
         "y": [
          0.110027844643622,
          0.07346318271479933
         ],
         "yaxis": "y"
        },
        {
         "fill": "tozeroy",
         "fillcolor": "rgb(255,84,76)",
         "hoverinfo": "skip",
         "line": {
          "color": "rgba(0,0,0,0)"
         },
         "mode": "lines",
         "showlegend": false,
         "type": "scatter",
         "x": [
          0.2,
          0.22499999999999992
         ],
         "xaxis": "x",
         "y": [
          0.07346318271479933,
          0.05184183330601477
         ],
         "yaxis": "y"
        },
        {
         "fill": "tozeroy",
         "fillcolor": "rgb(255,89,76)",
         "hoverinfo": "skip",
         "line": {
          "color": "rgba(0,0,0,0)"
         },
         "mode": "lines",
         "showlegend": false,
         "type": "scatter",
         "x": [
          0.2250000000000001,
          0.25
         ],
         "xaxis": "x",
         "y": [
          0.05184183330601477,
          0.030220483897230206
         ],
         "yaxis": "y"
        },
        {
         "fill": "tozeroy",
         "fillcolor": "rgb(255,89,76)",
         "hoverinfo": "skip",
         "line": {
          "color": "rgba(0,0,0,0)"
         },
         "mode": "lines",
         "showlegend": false,
         "type": "scatter",
         "x": [
          0.25,
          0.2749999999999999
         ],
         "xaxis": "x",
         "y": [
          0.030220483897230206,
          0.02021266892600593
         ],
         "yaxis": "y"
        },
        {
         "fill": "tozeroy",
         "fillcolor": "rgb(255,89,76)",
         "hoverinfo": "skip",
         "line": {
          "color": "rgba(0,0,0,0)"
         },
         "mode": "lines",
         "showlegend": false,
         "type": "scatter",
         "x": [
          0.2750000000000001,
          0.3
         ],
         "xaxis": "x",
         "y": [
          0.02021266892600593,
          0.010204853954781658
         ],
         "yaxis": "y"
        },
        {
         "fill": "tozeroy",
         "fillcolor": "rgb(255,89,76)",
         "hoverinfo": "skip",
         "line": {
          "color": "rgba(0,0,0,0)"
         },
         "mode": "lines",
         "showlegend": false,
         "type": "scatter",
         "x": [
          0.3,
          0.3249999999999999
         ],
         "xaxis": "x",
         "y": [
          0.010204853954781658,
          0.006516773683268941
         ],
         "yaxis": "y"
        },
        {
         "fill": "tozeroy",
         "fillcolor": "rgb(255,93,76)",
         "hoverinfo": "skip",
         "line": {
          "color": "rgba(0,0,0,0)"
         },
         "mode": "lines",
         "showlegend": false,
         "type": "scatter",
         "x": [
          0.32500000000000007,
          0.35
         ],
         "xaxis": "x",
         "y": [
          0.006516773683268941,
          0.0028286934117562226
         ],
         "yaxis": "y"
        },
        {
         "fill": "tozeroy",
         "fillcolor": "rgb(255,93,76)",
         "hoverinfo": "skip",
         "line": {
          "color": "rgba(0,0,0,0)"
         },
         "mode": "lines",
         "showlegend": false,
         "type": "scatter",
         "x": [
          0.35,
          0.3749999999999999
         ],
         "xaxis": "x",
         "y": [
          0.0028286934117562226,
          0.0017361634772248258
         ],
         "yaxis": "y"
        },
        {
         "fill": "tozeroy",
         "fillcolor": "rgb(255,97,76)",
         "hoverinfo": "skip",
         "line": {
          "color": "rgba(0,0,0,0)"
         },
         "mode": "lines",
         "showlegend": false,
         "type": "scatter",
         "x": [
          0.3750000000000001,
          0.4
         ],
         "xaxis": "x",
         "y": [
          0.0017361634772248258,
          0.0006436335426934288
         ],
         "yaxis": "y"
        },
        {
         "fill": "tozeroy",
         "fillcolor": "rgb(255,97,76)",
         "hoverinfo": "skip",
         "line": {
          "color": "rgba(0,0,0,0)"
         },
         "mode": "lines",
         "showlegend": false,
         "type": "scatter",
         "x": [
          0.4,
          0.42499999999999993
         ],
         "xaxis": "x",
         "y": [
          0.0006436335426934288,
          0.00038192517180554394
         ],
         "yaxis": "y"
        },
        {
         "fill": "tozeroy",
         "fillcolor": "rgb(255,97,76)",
         "hoverinfo": "skip",
         "line": {
          "color": "rgba(0,0,0,0)"
         },
         "mode": "lines",
         "showlegend": false,
         "type": "scatter",
         "x": [
          0.4250000000000001,
          0.45
         ],
         "xaxis": "x",
         "y": [
          0.00038192517180554394,
          0.0001202168009176591
         ],
         "yaxis": "y"
        },
        {
         "fill": "tozeroy",
         "fillcolor": "rgb(255,97,76)",
         "hoverinfo": "skip",
         "line": {
          "color": "rgba(0,0,0,0)"
         },
         "mode": "lines",
         "showlegend": false,
         "type": "scatter",
         "x": [
          0.45,
          0.4749999999999999
         ],
         "xaxis": "x",
         "y": [
          0.0001202168009176591,
          0.00006932424969918538
         ],
         "yaxis": "y"
        },
        {
         "fill": "tozeroy",
         "fillcolor": "rgb(255,101,76)",
         "hoverinfo": "skip",
         "line": {
          "color": "rgba(0,0,0,0)"
         },
         "mode": "lines",
         "showlegend": false,
         "type": "scatter",
         "x": [
          0.4750000000000001,
          0.5
         ],
         "xaxis": "x",
         "y": [
          0.00006932424969918538,
          0.000018431698480711638
         ],
         "yaxis": "y"
        },
        {
         "fill": "tozeroy",
         "fillcolor": "rgb(255,101,76)",
         "hoverinfo": "skip",
         "line": {
          "color": "rgba(0,0,0,0)"
         },
         "mode": "lines",
         "showlegend": false,
         "type": "scatter",
         "x": [
          0.5,
          0.5249999999999999
         ],
         "xaxis": "x",
         "y": [
          0.000018431698480711638,
          0.000010375719325779678
         ],
         "yaxis": "y"
        },
        {
         "fill": "tozeroy",
         "fillcolor": "rgb(255,106,76)",
         "hoverinfo": "skip",
         "line": {
          "color": "rgba(0,0,0,0)"
         },
         "mode": "lines",
         "showlegend": false,
         "type": "scatter",
         "x": [
          0.525,
          0.5499999999999999
         ],
         "xaxis": "x",
         "y": [
          0.000010375719325779678,
          0.000002319740170847717
         ],
         "yaxis": "y"
        },
        {
         "fill": "tozeroy",
         "fillcolor": "rgb(255,106,76)",
         "hoverinfo": "skip",
         "line": {
          "color": "rgba(0,0,0,0)"
         },
         "mode": "lines",
         "showlegend": false,
         "type": "scatter",
         "x": [
          0.5499999999999999,
          0.5749999999999998
         ],
         "xaxis": "x",
         "y": [
          0.000002319740170847717,
          0.000001279697517317404
         ],
         "yaxis": "y"
        },
        {
         "fill": "tozeroy",
         "fillcolor": "rgb(255,106,76)",
         "hoverinfo": "skip",
         "line": {
          "color": "rgba(0,0,0,0)"
         },
         "mode": "lines",
         "showlegend": false,
         "type": "scatter",
         "x": [
          0.5750000000000001,
          0.6
         ],
         "xaxis": "x",
         "y": [
          0.000001279697517317404,
          2.3965486378709104e-7
         ],
         "yaxis": "y"
        },
        {
         "fill": "tozeroy",
         "fillcolor": "rgb(255,106,76)",
         "hoverinfo": "skip",
         "line": {
          "color": "rgba(0,0,0,0)"
         },
         "mode": "lines",
         "showlegend": false,
         "type": "scatter",
         "x": [
          0.6,
          0.6249999999999999
         ],
         "xaxis": "x",
         "y": [
          2.3965486378709104e-7,
          1.2998957457863074e-7
         ],
         "yaxis": "y"
        },
        {
         "fill": "tozeroy",
         "fillcolor": "rgb(255,110,76)",
         "hoverinfo": "skip",
         "line": {
          "color": "rgba(0,0,0,0)"
         },
         "mode": "lines",
         "showlegend": false,
         "type": "scatter",
         "x": [
          0.6250000000000001,
          0.65
         ],
         "xaxis": "x",
         "y": [
          1.2998957457863074e-7,
          2.0324285370170456e-8
         ],
         "yaxis": "y"
        },
        {
         "fill": "tozeroy",
         "fillcolor": "rgb(255,110,76)",
         "hoverinfo": "skip",
         "line": {
          "color": "rgba(0,0,0,0)"
         },
         "mode": "lines",
         "showlegend": false,
         "type": "scatter",
         "x": [
          0.65,
          0.6749999999999999
         ],
         "xaxis": "x",
         "y": [
          2.0324285370170456e-8,
          1.0869400246630542e-8
         ],
         "yaxis": "y"
        },
        {
         "fill": "tozeroy",
         "fillcolor": "rgb(255,110,76)",
         "hoverinfo": "skip",
         "line": {
          "color": "rgba(0,0,0,0)"
         },
         "mode": "lines",
         "showlegend": false,
         "type": "scatter",
         "x": [
          0.675,
          0.7
         ],
         "xaxis": "x",
         "y": [
          1.0869400246630542e-8,
          1.414515123090628e-9
         ],
         "yaxis": "y"
        },
        {
         "fill": "tozeroy",
         "fillcolor": "rgb(255,110,76)",
         "hoverinfo": "skip",
         "line": {
          "color": "rgba(0,0,0,0)"
         },
         "mode": "lines",
         "showlegend": false,
         "type": "scatter",
         "x": [
          0.7,
          0.7249999999999999
         ],
         "xaxis": "x",
         "y": [
          1.414515123090628e-9,
          7.478280894030875e-10
         ],
         "yaxis": "y"
        },
        {
         "fill": "tozeroy",
         "fillcolor": "rgb(255,114,76)",
         "hoverinfo": "skip",
         "line": {
          "color": "rgba(0,0,0,0)"
         },
         "mode": "lines",
         "showlegend": false,
         "type": "scatter",
         "x": [
          0.7250000000000001,
          0.75
         ],
         "xaxis": "x",
         "y": [
          7.478280894030875e-10,
          8.11410557155471e-11
         ],
         "yaxis": "y"
        },
        {
         "fill": "tozeroy",
         "fillcolor": "rgb(255,114,76)",
         "hoverinfo": "skip",
         "line": {
          "color": "rgba(0,0,0,0)"
         },
         "mode": "lines",
         "showlegend": false,
         "type": "scatter",
         "x": [
          0.75,
          0.7749999999999999
         ],
         "xaxis": "x",
         "y": [
          8.11410557155471e-11,
          4.232942768435659e-11
         ],
         "yaxis": "y"
        },
        {
         "fill": "tozeroy",
         "fillcolor": "rgb(255,118,76)",
         "hoverinfo": "skip",
         "line": {
          "color": "rgba(0,0,0,0)"
         },
         "mode": "lines",
         "showlegend": false,
         "type": "scatter",
         "x": [
          0.7750000000000001,
          0.8
         ],
         "xaxis": "x",
         "y": [
          4.232942768435659e-11,
          3.5177996531660855e-12
         ],
         "yaxis": "y"
        },
        {
         "fill": "tozeroy",
         "fillcolor": "rgb(255,118,76)",
         "hoverinfo": "skip",
         "line": {
          "color": "rgba(0,0,0,0)"
         },
         "mode": "lines",
         "showlegend": false,
         "type": "scatter",
         "x": [
          0.8,
          0.825
         ],
         "xaxis": "x",
         "y": [
          3.5177996531660855e-12,
          1.9607443722460856e-12
         ],
         "yaxis": "y"
        },
        {
         "fill": "tozeroy",
         "fillcolor": "rgb(255,118,76)",
         "hoverinfo": "skip",
         "line": {
          "color": "rgba(0,0,0,0)"
         },
         "mode": "lines",
         "showlegend": false,
         "type": "scatter",
         "x": [
          0.8250000000000001,
          0.85
         ],
         "xaxis": "x",
         "y": [
          1.9607443722460856e-12,
          4.0368909132608595e-13
         ],
         "yaxis": "y"
        },
        {
         "fill": "tozeroy",
         "fillcolor": "rgb(255,118,76)",
         "hoverinfo": "skip",
         "line": {
          "color": "rgba(0,0,0,0)"
         },
         "mode": "lines",
         "showlegend": false,
         "type": "scatter",
         "x": [
          0.85,
          0.8749999999999999
         ],
         "xaxis": "x",
         "y": [
          4.0368909132608595e-13,
          3.2042646606217683e-13
         ],
         "yaxis": "y"
        },
        {
         "fill": "tozeroy",
         "fillcolor": "rgb(76,208,255)",
         "hoverinfo": "skip",
         "line": {
          "color": "rgba(0,0,0,0)"
         },
         "mode": "lines",
         "showlegend": false,
         "type": "scatter",
         "x": [
          0.8750000000000001,
          0.9
         ],
         "xaxis": "x",
         "y": [
          3.2042646606217683e-13,
          2.3716384079826765e-13
         ],
         "yaxis": "y"
        },
        {
         "fill": "tozeroy",
         "fillcolor": "rgb(76,208,255)",
         "hoverinfo": "skip",
         "line": {
          "color": "rgba(0,0,0,0)"
         },
         "mode": "lines",
         "showlegend": false,
         "type": "scatter",
         "x": [
          0.9,
          0.9249999999999999
         ],
         "xaxis": "x",
         "y": [
          2.3716384079826765e-13,
          2.320914972249976e-13
         ],
         "yaxis": "y"
        },
        {
         "fill": "tozeroy",
         "fillcolor": "rgb(255,127,76)",
         "hoverinfo": "skip",
         "line": {
          "color": "rgba(0,0,0,0)"
         },
         "mode": "lines",
         "showlegend": false,
         "type": "scatter",
         "x": [
          0.925,
          0.95
         ],
         "xaxis": "x",
         "y": [
          2.320914972249976e-13,
          2.270191536517275e-13
         ],
         "yaxis": "y"
        },
        {
         "fill": "tozeroy",
         "fillcolor": "rgb(255,127,76)",
         "hoverinfo": "skip",
         "line": {
          "color": "rgba(0,0,0,0)"
         },
         "mode": "lines",
         "showlegend": false,
         "type": "scatter",
         "x": [
          0.95,
          0.9749999999999999
         ],
         "xaxis": "x",
         "y": [
          2.270191536517275e-13,
          2.2001705020783248e-13
         ],
         "yaxis": "y"
        },
        {
         "fill": "tozeroy",
         "fillcolor": "rgb(76,204,255)",
         "hoverinfo": "skip",
         "line": {
          "color": "rgba(0,0,0,0)"
         },
         "mode": "lines",
         "showlegend": false,
         "type": "scatter",
         "x": [
          0.9750000000000001,
          1
         ],
         "xaxis": "x",
         "y": [
          2.2001705020783248e-13,
          2.1301494676393744e-13
         ],
         "yaxis": "y"
        },
        {
         "fill": "tozeroy",
         "fillcolor": "rgb(76,204,255)",
         "hoverinfo": "skip",
         "line": {
          "color": "rgba(0,0,0,0)"
         },
         "mode": "lines",
         "showlegend": false,
         "type": "scatter",
         "x": [
          1,
          1.025
         ],
         "xaxis": "x",
         "y": [
          2.1301494676393744e-13,
          2.0654769713933065e-13
         ],
         "yaxis": "y"
        },
        {
         "fill": "tozeroy",
         "fillcolor": "rgb(255,131,76)",
         "hoverinfo": "skip",
         "line": {
          "color": "rgba(0,0,0,0)"
         },
         "mode": "lines",
         "showlegend": false,
         "type": "scatter",
         "x": [
          1.0250000000000001,
          1.05
         ],
         "xaxis": "x",
         "y": [
          2.0654769713933065e-13,
          2.0008044751472383e-13
         ],
         "yaxis": "y"
        },
        {
         "fill": "tozeroy",
         "fillcolor": "rgb(255,131,76)",
         "hoverinfo": "skip",
         "line": {
          "color": "rgba(0,0,0,0)"
         },
         "mode": "lines",
         "showlegend": false,
         "type": "scatter",
         "x": [
          1.05,
          1.075
         ],
         "xaxis": "x",
         "y": [
          2.0008044751472383e-13,
          1.940581982087698e-13
         ],
         "yaxis": "y"
        },
        {
         "fill": "tozeroy",
         "fillcolor": "rgb(76,195,255)",
         "hoverinfo": "skip",
         "line": {
          "color": "rgba(0,0,0,0)"
         },
         "mode": "lines",
         "showlegend": false,
         "type": "scatter",
         "x": [
          1.075,
          1.0999999999999999
         ],
         "xaxis": "x",
         "y": [
          1.940581982087698e-13,
          1.8803594890281576e-13
         ],
         "yaxis": "y"
        },
        {
         "fill": "tozeroy",
         "fillcolor": "rgb(76,195,255)",
         "hoverinfo": "skip",
         "line": {
          "color": "rgba(0,0,0,0)"
         },
         "mode": "lines",
         "showlegend": false,
         "type": "scatter",
         "x": [
          1.0999999999999999,
          1.1249999999999998
         ],
         "xaxis": "x",
         "y": [
          1.8803594890281576e-13,
          1.8243429664893116e-13
         ],
         "yaxis": "y"
        },
        {
         "fill": "tozeroy",
         "fillcolor": "rgb(255,135,76)",
         "hoverinfo": "skip",
         "line": {
          "color": "rgba(0,0,0,0)"
         },
         "mode": "lines",
         "showlegend": false,
         "type": "scatter",
         "x": [
          1.125,
          1.15
         ],
         "xaxis": "x",
         "y": [
          1.8243429664893116e-13,
          1.768326443950466e-13
         ],
         "yaxis": "y"
        },
        {
         "fill": "tozeroy",
         "fillcolor": "rgb(255,135,76)",
         "hoverinfo": "skip",
         "line": {
          "color": "rgba(0,0,0,0)"
         },
         "mode": "lines",
         "showlegend": false,
         "type": "scatter",
         "x": [
          1.15,
          1.1749999999999998
         ],
         "xaxis": "x",
         "y": [
          1.768326443950466e-13,
          1.7162652868073856e-13
         ],
         "yaxis": "y"
        },
        {
         "fill": "tozeroy",
         "fillcolor": "rgb(76,191,255)",
         "hoverinfo": "skip",
         "line": {
          "color": "rgba(0,0,0,0)"
         },
         "mode": "lines",
         "showlegend": false,
         "type": "scatter",
         "x": [
          1.175,
          1.2
         ],
         "xaxis": "x",
         "y": [
          1.7162652868073856e-13,
          1.6642041296643053e-13
         ],
         "yaxis": "y"
        },
        {
         "fill": "tozeroy",
         "fillcolor": "rgb(76,191,255)",
         "hoverinfo": "skip",
         "line": {
          "color": "rgba(0,0,0,0)"
         },
         "mode": "lines",
         "showlegend": false,
         "type": "scatter",
         "x": [
          1.2,
          1.2249999999999999
         ],
         "xaxis": "x",
         "y": [
          1.6642041296643053e-13,
          1.615831912702498e-13
         ],
         "yaxis": "y"
        },
        {
         "fill": "tozeroy",
         "fillcolor": "rgb(255,139,76)",
         "hoverinfo": "skip",
         "line": {
          "color": "rgba(0,0,0,0)"
         },
         "mode": "lines",
         "showlegend": false,
         "type": "scatter",
         "x": [
          1.225,
          1.25
         ],
         "xaxis": "x",
         "y": [
          1.615831912702498e-13,
          1.5674596957406908e-13
         ],
         "yaxis": "y"
        },
        {
         "fill": "tozeroy",
         "fillcolor": "rgb(255,139,76)",
         "hoverinfo": "skip",
         "line": {
          "color": "rgba(0,0,0,0)"
         },
         "mode": "lines",
         "showlegend": false,
         "type": "scatter",
         "x": [
          1.25,
          1.275
         ],
         "xaxis": "x",
         "y": [
          1.5674596957406908e-13,
          1.5225094772592845e-13
         ],
         "yaxis": "y"
        },
        {
         "fill": "tozeroy",
         "fillcolor": "rgb(76,187,255)",
         "hoverinfo": "skip",
         "line": {
          "color": "rgba(0,0,0,0)"
         },
         "mode": "lines",
         "showlegend": false,
         "type": "scatter",
         "x": [
          1.2750000000000001,
          1.3
         ],
         "xaxis": "x",
         "y": [
          1.5225094772592845e-13,
          1.477559258777878e-13
         ],
         "yaxis": "y"
        },
        {
         "fill": "tozeroy",
         "fillcolor": "rgb(76,187,255)",
         "hoverinfo": "skip",
         "line": {
          "color": "rgba(0,0,0,0)"
         },
         "mode": "lines",
         "showlegend": false,
         "type": "scatter",
         "x": [
          1.3,
          1.325
         ],
         "xaxis": "x",
         "y": [
          1.477559258777878e-13,
          1.4357302390781306e-13
         ],
         "yaxis": "y"
        },
        {
         "fill": "tozeroy",
         "fillcolor": "rgb(255,148,76)",
         "hoverinfo": "skip",
         "line": {
          "color": "rgba(0,0,0,0)"
         },
         "mode": "lines",
         "showlegend": false,
         "type": "scatter",
         "x": [
          1.3250000000000002,
          1.35
         ],
         "xaxis": "x",
         "y": [
          1.4357302390781306e-13,
          1.3939012193783833e-13
         ],
         "yaxis": "y"
        },
        {
         "fill": "tozeroy",
         "fillcolor": "rgb(255,148,76)",
         "hoverinfo": "skip",
         "line": {
          "color": "rgba(0,0,0,0)"
         },
         "mode": "lines",
         "showlegend": false,
         "type": "scatter",
         "x": [
          1.35,
          1.375
         ],
         "xaxis": "x",
         "y": [
          1.3939012193783833e-13,
          1.3550155976321713e-13
         ],
         "yaxis": "y"
        },
        {
         "fill": "tozeroy",
         "fillcolor": "rgb(76,183,255)",
         "hoverinfo": "skip",
         "line": {
          "color": "rgba(0,0,0,0)"
         },
         "mode": "lines",
         "showlegend": false,
         "type": "scatter",
         "x": [
          1.375,
          1.4
         ],
         "xaxis": "x",
         "y": [
          1.3550155976321713e-13,
          1.3161299758859595e-13
         ],
         "yaxis": "y"
        },
        {
         "fill": "tozeroy",
         "fillcolor": "rgb(76,183,255)",
         "hoverinfo": "skip",
         "line": {
          "color": "rgba(0,0,0,0)"
         },
         "mode": "lines",
         "showlegend": false,
         "type": "scatter",
         "x": [
          1.4,
          1.4249999999999998
         ],
         "xaxis": "x",
         "y": [
          1.3161299758859595e-13,
          1.2799130716613655e-13
         ],
         "yaxis": "y"
        },
        {
         "fill": "tozeroy",
         "fillcolor": "rgb(255,152,76)",
         "hoverinfo": "skip",
         "line": {
          "color": "rgba(0,0,0,0)"
         },
         "mode": "lines",
         "showlegend": false,
         "type": "scatter",
         "x": [
          1.425,
          1.45
         ],
         "xaxis": "x",
         "y": [
          1.2799130716613655e-13,
          1.2436961674367715e-13
         ],
         "yaxis": "y"
        },
        {
         "fill": "tozeroy",
         "fillcolor": "rgb(255,152,76)",
         "hoverinfo": "skip",
         "line": {
          "color": "rgba(0,0,0,0)"
         },
         "mode": "lines",
         "showlegend": false,
         "type": "scatter",
         "x": [
          1.45,
          1.4749999999999999
         ],
         "xaxis": "x",
         "y": [
          1.2436961674367715e-13,
          1.210016694537144e-13
         ],
         "yaxis": "y"
        },
        {
         "fill": "tozeroy",
         "fillcolor": "rgb(76,174,255)",
         "hoverinfo": "skip",
         "line": {
          "color": "rgba(0,0,0,0)"
         },
         "mode": "lines",
         "showlegend": false,
         "type": "scatter",
         "x": [
          1.475,
          1.5
         ],
         "xaxis": "x",
         "y": [
          1.210016694537144e-13,
          1.1763372216375167e-13
         ],
         "yaxis": "y"
        },
        {
         "fill": "tozeroy",
         "fillcolor": "rgb(76,174,255)",
         "hoverinfo": "skip",
         "line": {
          "color": "rgba(0,0,0,0)"
         },
         "mode": "lines",
         "showlegend": false,
         "type": "scatter",
         "x": [
          1.5,
          1.525
         ],
         "xaxis": "x",
         "y": [
          1.1763372216375167e-13,
          1.1449126634622839e-13
         ],
         "yaxis": "y"
        },
        {
         "fill": "tozeroy",
         "fillcolor": "rgb(255,156,76)",
         "hoverinfo": "skip",
         "line": {
          "color": "rgba(0,0,0,0)"
         },
         "mode": "lines",
         "showlegend": false,
         "type": "scatter",
         "x": [
          1.5250000000000001,
          1.55
         ],
         "xaxis": "x",
         "y": [
          1.1449126634622839e-13,
          1.1134881052870509e-13
         ],
         "yaxis": "y"
        },
        {
         "fill": "tozeroy",
         "fillcolor": "rgb(255,156,76)",
         "hoverinfo": "skip",
         "line": {
          "color": "rgba(0,0,0,0)"
         },
         "mode": "lines",
         "showlegend": false,
         "type": "scatter",
         "x": [
          1.55,
          1.575
         ],
         "xaxis": "x",
         "y": [
          1.1134881052870509e-13,
          1.0841804218981143e-13
         ],
         "yaxis": "y"
        },
        {
         "fill": "tozeroy",
         "fillcolor": "rgb(76,170,255)",
         "hoverinfo": "skip",
         "line": {
          "color": "rgba(0,0,0,0)"
         },
         "mode": "lines",
         "showlegend": false,
         "type": "scatter",
         "x": [
          1.5750000000000002,
          1.6
         ],
         "xaxis": "x",
         "y": [
          1.0841804218981143e-13,
          1.0548727385091776e-13
         ],
         "yaxis": "y"
        },
        {
         "fill": "tozeroy",
         "fillcolor": "rgb(76,170,255)",
         "hoverinfo": "skip",
         "line": {
          "color": "rgba(0,0,0,0)"
         },
         "mode": "lines",
         "showlegend": false,
         "type": "scatter",
         "x": [
          1.6,
          1.625
         ],
         "xaxis": "x",
         "y": [
          1.0548727385091776e-13,
          1.0274891674851815e-13
         ],
         "yaxis": "y"
        },
        {
         "fill": "tozeroy",
         "fillcolor": "rgb(255,165,76)",
         "hoverinfo": "skip",
         "line": {
          "color": "rgba(0,0,0,0)"
         },
         "mode": "lines",
         "showlegend": false,
         "type": "scatter",
         "x": [
          1.625,
          1.65
         ],
         "xaxis": "x",
         "y": [
          1.0274891674851815e-13,
          1.0001055964611855e-13
         ],
         "yaxis": "y"
        },
        {
         "fill": "tozeroy",
         "fillcolor": "rgb(255,165,76)",
         "hoverinfo": "skip",
         "line": {
          "color": "rgba(0,0,0,0)"
         },
         "mode": "lines",
         "showlegend": false,
         "type": "scatter",
         "x": [
          1.65,
          1.6749999999999998
         ],
         "xaxis": "x",
         "y": [
          1.0001055964611855e-13,
          9.745254336422393e-14
         ],
         "yaxis": "y"
        },
        {
         "fill": "tozeroy",
         "fillcolor": "rgb(76,166,255)",
         "hoverinfo": "skip",
         "line": {
          "color": "rgba(0,0,0,0)"
         },
         "mode": "lines",
         "showlegend": false,
         "type": "scatter",
         "x": [
          1.675,
          1.7
         ],
         "xaxis": "x",
         "y": [
          9.745254336422393e-14,
          9.489452708232931e-14
         ],
         "yaxis": "y"
        },
        {
         "fill": "tozeroy",
         "fillcolor": "rgb(76,166,255)",
         "hoverinfo": "skip",
         "line": {
          "color": "rgba(0,0,0,0)"
         },
         "mode": "lines",
         "showlegend": false,
         "type": "scatter",
         "x": [
          1.7,
          1.7249999999999999
         ],
         "xaxis": "x",
         "y": [
          9.489452708232931e-14,
          9.250215399179677e-14
         ],
         "yaxis": "y"
        },
        {
         "fill": "tozeroy",
         "fillcolor": "rgb(255,169,76)",
         "hoverinfo": "skip",
         "line": {
          "color": "rgba(0,0,0,0)"
         },
         "mode": "lines",
         "showlegend": false,
         "type": "scatter",
         "x": [
          1.725,
          1.75
         ],
         "xaxis": "x",
         "y": [
          9.250215399179677e-14,
          9.010978090126421e-14
         ],
         "yaxis": "y"
        },
        {
         "fill": "tozeroy",
         "fillcolor": "rgb(255,169,76)",
         "hoverinfo": "skip",
         "line": {
          "color": "rgba(0,0,0,0)"
         },
         "mode": "lines",
         "showlegend": false,
         "type": "scatter",
         "x": [
          1.75,
          1.775
         ],
         "xaxis": "x",
         "y": [
          9.010978090126421e-14,
          8.786824456303449e-14
         ],
         "yaxis": "y"
        },
        {
         "fill": "tozeroy",
         "fillcolor": "rgb(76,162,255)",
         "hoverinfo": "skip",
         "line": {
          "color": "rgba(0,0,0,0)"
         },
         "mode": "lines",
         "showlegend": false,
         "type": "scatter",
         "x": [
          1.7750000000000001,
          1.8
         ],
         "xaxis": "x",
         "y": [
          8.786824456303449e-14,
          8.562670822480476e-14
         ],
         "yaxis": "y"
        },
        {
         "fill": "tozeroy",
         "fillcolor": "rgb(76,162,255)",
         "hoverinfo": "skip",
         "line": {
          "color": "rgba(0,0,0,0)"
         },
         "mode": "lines",
         "showlegend": false,
         "type": "scatter",
         "x": [
          1.8,
          1.825
         ],
         "xaxis": "x",
         "y": [
          8.562670822480476e-14,
          8.352705303523062e-14
         ],
         "yaxis": "y"
        },
        {
         "fill": "tozeroy",
         "fillcolor": "rgb(255,173,76)",
         "hoverinfo": "skip",
         "line": {
          "color": "rgba(0,0,0,0)"
         },
         "mode": "lines",
         "showlegend": false,
         "type": "scatter",
         "x": [
          1.8250000000000002,
          1.85
         ],
         "xaxis": "x",
         "y": [
          8.352705303523062e-14,
          8.142739784565649e-14
         ],
         "yaxis": "y"
        },
        {
         "fill": "tozeroy",
         "fillcolor": "rgb(255,173,76)",
         "hoverinfo": "skip",
         "line": {
          "color": "rgba(0,0,0,0)"
         },
         "mode": "lines",
         "showlegend": false,
         "type": "scatter",
         "x": [
          1.85,
          1.875
         ],
         "xaxis": "x",
         "y": [
          8.142739784565649e-14,
          7.945419588938598e-14
         ],
         "yaxis": "y"
        },
        {
         "fill": "tozeroy",
         "fillcolor": "rgb(76,153,255)",
         "hoverinfo": "skip",
         "line": {
          "color": "rgba(0,0,0,0)"
         },
         "mode": "lines",
         "showlegend": false,
         "type": "scatter",
         "x": [
          1.875,
          1.9
         ],
         "xaxis": "x",
         "y": [
          7.945419588938598e-14,
          7.748099393311549e-14
         ],
         "yaxis": "y"
        },
        {
         "fill": "tozeroy",
         "fillcolor": "rgb(76,153,255)",
         "hoverinfo": "skip",
         "line": {
          "color": "rgba(0,0,0,0)"
         },
         "mode": "lines",
         "showlegend": false,
         "type": "scatter",
         "x": [
          1.9,
          1.9249999999999998
         ],
         "xaxis": "x",
         "y": [
          7.748099393311549e-14,
          7.562882677888213e-14
         ],
         "yaxis": "y"
        },
        {
         "fill": "tozeroy",
         "fillcolor": "rgb(255,177,76)",
         "hoverinfo": "skip",
         "line": {
          "color": "rgba(0,0,0,0)"
         },
         "mode": "lines",
         "showlegend": false,
         "type": "scatter",
         "x": [
          1.925,
          1.95
         ],
         "xaxis": "x",
         "y": [
          7.562882677888213e-14,
          7.377665962464878e-14
         ],
         "yaxis": "y"
        },
        {
         "fill": "tozeroy",
         "fillcolor": "rgb(255,177,76)",
         "hoverinfo": "skip",
         "line": {
          "color": "rgba(0,0,0,0)"
         },
         "mode": "lines",
         "showlegend": false,
         "type": "scatter",
         "x": [
          1.95,
          1.9749999999999999
         ],
         "xaxis": "x",
         "y": [
          7.377665962464878e-14,
          7.203858227928554e-14
         ],
         "yaxis": "y"
        },
        {
         "fill": "tozeroy",
         "fillcolor": "rgb(76,149,255)",
         "hoverinfo": "skip",
         "line": {
          "color": "rgba(0,0,0,0)"
         },
         "mode": "lines",
         "showlegend": false,
         "type": "scatter",
         "x": [
          1.975,
          2
         ],
         "xaxis": "x",
         "y": [
          7.203858227928554e-14,
          7.030050493392229e-14
         ],
         "yaxis": "y"
        },
        {
         "fill": "tozeroy",
         "fillcolor": "rgb(76,149,255)",
         "hoverinfo": "skip",
         "line": {
          "color": "rgba(0,0,0,0)"
         },
         "mode": "lines",
         "showlegend": false,
         "type": "scatter",
         "x": [
          2,
          2.025
         ],
         "xaxis": "x",
         "y": [
          7.030050493392229e-14,
          6.865712331090446e-14
         ],
         "yaxis": "y"
        },
        {
         "fill": "tozeroy",
         "fillcolor": "rgb(255,186,76)",
         "hoverinfo": "skip",
         "line": {
          "color": "rgba(0,0,0,0)"
         },
         "mode": "lines",
         "showlegend": false,
         "type": "scatter",
         "x": [
          2.025,
          2.05
         ],
         "xaxis": "x",
         "y": [
          6.865712331090446e-14,
          6.701374168788663e-14
         ],
         "yaxis": "y"
        },
        {
         "fill": "tozeroy",
         "fillcolor": "rgb(255,186,76)",
         "hoverinfo": "skip",
         "line": {
          "color": "rgba(0,0,0,0)"
         },
         "mode": "lines",
         "showlegend": false,
         "type": "scatter",
         "x": [
          2.05,
          2.0749999999999997
         ],
         "xaxis": "x",
         "y": [
          6.701374168788663e-14,
          6.547195649867832e-14
         ],
         "yaxis": "y"
        },
        {
         "fill": "tozeroy",
         "fillcolor": "rgb(76,145,255)",
         "hoverinfo": "skip",
         "line": {
          "color": "rgba(0,0,0,0)"
         },
         "mode": "lines",
         "showlegend": false,
         "type": "scatter",
         "x": [
          2.075,
          2.1
         ],
         "xaxis": "x",
         "y": [
          6.547195649867832e-14,
          6.393017130947001e-14
         ],
         "yaxis": "y"
        },
        {
         "fill": "tozeroy",
         "fillcolor": "rgb(76,145,255)",
         "hoverinfo": "skip",
         "line": {
          "color": "rgba(0,0,0,0)"
         },
         "mode": "lines",
         "showlegend": false,
         "type": "scatter",
         "x": [
          2.1,
          2.125
         ],
         "xaxis": "x",
         "y": [
          6.393017130947001e-14,
          6.247135375612718e-14
         ],
         "yaxis": "y"
        },
        {
         "fill": "tozeroy",
         "fillcolor": "rgb(255,190,76)",
         "hoverinfo": "skip",
         "line": {
          "color": "rgba(0,0,0,0)"
         },
         "mode": "lines",
         "showlegend": false,
         "type": "scatter",
         "x": [
          2.125,
          2.15
         ],
         "xaxis": "x",
         "y": [
          6.247135375612718e-14,
          6.101253620278435e-14
         ],
         "yaxis": "y"
        },
        {
         "fill": "tozeroy",
         "fillcolor": "rgb(255,190,76)",
         "hoverinfo": "skip",
         "line": {
          "color": "rgba(0,0,0,0)"
         },
         "mode": "lines",
         "showlegend": false,
         "type": "scatter",
         "x": [
          2.15,
          2.175
         ],
         "xaxis": "x",
         "y": [
          6.101253620278435e-14,
          5.963321418718273e-14
         ],
         "yaxis": "y"
        },
        {
         "fill": "tozeroy",
         "fillcolor": "rgb(76,136,255)",
         "hoverinfo": "skip",
         "line": {
          "color": "rgba(0,0,0,0)"
         },
         "mode": "lines",
         "showlegend": false,
         "type": "scatter",
         "x": [
          2.175,
          2.1999999999999997
         ],
         "xaxis": "x",
         "y": [
          5.963321418718273e-14,
          5.825389217158111e-14
         ],
         "yaxis": "y"
        },
        {
         "fill": "tozeroy",
         "fillcolor": "rgb(76,136,255)",
         "hoverinfo": "skip",
         "line": {
          "color": "rgba(0,0,0,0)"
         },
         "mode": "lines",
         "showlegend": false,
         "type": "scatter",
         "x": [
          2.1999999999999997,
          2.2249999999999996
         ],
         "xaxis": "x",
         "y": [
          5.825389217158111e-14,
          5.695398113245543e-14
         ],
         "yaxis": "y"
        },
        {
         "fill": "tozeroy",
         "fillcolor": "rgb(255,194,76)",
         "hoverinfo": "skip",
         "line": {
          "color": "rgba(0,0,0,0)"
         },
         "mode": "lines",
         "showlegend": false,
         "type": "scatter",
         "x": [
          2.225,
          2.25
         ],
         "xaxis": "x",
         "y": [
          5.695398113245543e-14,
          5.565407009332977e-14
         ],
         "yaxis": "y"
        },
        {
         "fill": "tozeroy",
         "fillcolor": "rgb(255,194,76)",
         "hoverinfo": "skip",
         "line": {
          "color": "rgba(0,0,0,0)"
         },
         "mode": "lines",
         "showlegend": false,
         "type": "scatter",
         "x": [
          2.25,
          2.275
         ],
         "xaxis": "x",
         "y": [
          5.565407009332977e-14,
          5.442417989922235e-14
         ],
         "yaxis": "y"
        },
        {
         "fill": "tozeroy",
         "fillcolor": "rgb(76,132,255)",
         "hoverinfo": "skip",
         "line": {
          "color": "rgba(0,0,0,0)"
         },
         "mode": "lines",
         "showlegend": false,
         "type": "scatter",
         "x": [
          2.275,
          2.3
         ],
         "xaxis": "x",
         "y": [
          5.442417989922235e-14,
          5.319428970511493e-14
         ],
         "yaxis": "y"
        },
        {
         "fill": "tozeroy",
         "fillcolor": "rgb(76,132,255)",
         "hoverinfo": "skip",
         "line": {
          "color": "rgba(0,0,0,0)"
         },
         "mode": "lines",
         "showlegend": false,
         "type": "scatter",
         "x": [
          2.3,
          2.3249999999999997
         ],
         "xaxis": "x",
         "y": [
          5.319428970511493e-14,
          5.202866595626639e-14
         ],
         "yaxis": "y"
        },
        {
         "fill": "tozeroy",
         "fillcolor": "rgb(255,198,76)",
         "hoverinfo": "skip",
         "line": {
          "color": "rgba(0,0,0,0)"
         },
         "mode": "lines",
         "showlegend": false,
         "type": "scatter",
         "x": [
          2.325,
          2.35
         ],
         "xaxis": "x",
         "y": [
          5.202866595626639e-14,
          5.086304220741786e-14
         ],
         "yaxis": "y"
        },
        {
         "fill": "tozeroy",
         "fillcolor": "rgb(255,198,76)",
         "hoverinfo": "skip",
         "line": {
          "color": "rgba(0,0,0,0)"
         },
         "mode": "lines",
         "showlegend": false,
         "type": "scatter",
         "x": [
          2.35,
          2.375
         ],
         "xaxis": "x",
         "y": [
          5.086304220741786e-14,
          4.976121387709986e-14
         ],
         "yaxis": "y"
        },
        {
         "fill": "tozeroy",
         "fillcolor": "rgb(76,128,255)",
         "hoverinfo": "skip",
         "line": {
          "color": "rgba(0,0,0,0)"
         },
         "mode": "lines",
         "showlegend": false,
         "type": "scatter",
         "x": [
          2.375,
          2.4
         ],
         "xaxis": "x",
         "y": [
          4.976121387709986e-14,
          4.865938554678186e-14
         ],
         "yaxis": "y"
        },
        {
         "fill": "tozeroy",
         "fillcolor": "rgb(76,128,255)",
         "hoverinfo": "skip",
         "line": {
          "color": "rgba(0,0,0,0)"
         },
         "mode": "lines",
         "showlegend": false,
         "type": "scatter",
         "x": [
          2.4,
          2.425
         ],
         "xaxis": "x",
         "y": [
          4.865938554678186e-14,
          4.7606077472692035e-14
         ],
         "yaxis": "y"
        },
        {
         "fill": "tozeroy",
         "fillcolor": "rgb(255,207,76)",
         "hoverinfo": "skip",
         "line": {
          "color": "rgba(0,0,0,0)"
         },
         "mode": "lines",
         "showlegend": false,
         "type": "scatter",
         "x": [
          2.425,
          2.4499999999999997
         ],
         "xaxis": "x",
         "y": [
          4.7606077472692035e-14,
          4.65527693986022e-14
         ],
         "yaxis": "y"
        },
        {
         "fill": "tozeroy",
         "fillcolor": "rgb(255,207,76)",
         "hoverinfo": "skip",
         "line": {
          "color": "rgba(0,0,0,0)"
         },
         "mode": "lines",
         "showlegend": false,
         "type": "scatter",
         "x": [
          2.4499999999999997,
          2.4749999999999996
         ],
         "xaxis": "x",
         "y": [
          4.65527693986022e-14,
          4.5559932653161895e-14
         ],
         "yaxis": "y"
        },
        {
         "fill": "tozeroy",
         "fillcolor": "rgb(76,124,255)",
         "hoverinfo": "skip",
         "line": {
          "color": "rgba(0,0,0,0)"
         },
         "mode": "lines",
         "showlegend": false,
         "type": "scatter",
         "x": [
          2.475,
          2.5
         ],
         "xaxis": "x",
         "y": [
          4.5559932653161895e-14,
          4.456709590772159e-14
         ],
         "yaxis": "y"
        },
        {
         "fill": "tozeroy",
         "fillcolor": "rgb(76,124,255)",
         "hoverinfo": "skip",
         "line": {
          "color": "rgba(0,0,0,0)"
         },
         "mode": "lines",
         "showlegend": false,
         "type": "scatter",
         "x": [
          2.5,
          2.525
         ],
         "xaxis": "x",
         "y": [
          4.456709590772159e-14,
          4.361142548170627e-14
         ],
         "yaxis": "y"
        },
        {
         "fill": "tozeroy",
         "fillcolor": "rgb(255,211,76)",
         "hoverinfo": "skip",
         "line": {
          "color": "rgba(0,0,0,0)"
         },
         "mode": "lines",
         "showlegend": false,
         "type": "scatter",
         "x": [
          2.525,
          2.55
         ],
         "xaxis": "x",
         "y": [
          4.361142548170627e-14,
          4.265575505569094e-14
         ],
         "yaxis": "y"
        },
        {
         "fill": "tozeroy",
         "fillcolor": "rgb(255,211,76)",
         "hoverinfo": "skip",
         "line": {
          "color": "rgba(0,0,0,0)"
         },
         "mode": "lines",
         "showlegend": false,
         "type": "scatter",
         "x": [
          2.55,
          2.5749999999999997
         ],
         "xaxis": "x",
         "y": [
          4.265575505569094e-14,
          4.176090919119455e-14
         ],
         "yaxis": "y"
        },
        {
         "fill": "tozeroy",
         "fillcolor": "rgb(76,115,255)",
         "hoverinfo": "skip",
         "line": {
          "color": "rgba(0,0,0,0)"
         },
         "mode": "lines",
         "showlegend": false,
         "type": "scatter",
         "x": [
          2.575,
          2.6
         ],
         "xaxis": "x",
         "y": [
          4.176090919119455e-14,
          4.086606332669815e-14
         ],
         "yaxis": "y"
        },
        {
         "fill": "tozeroy",
         "fillcolor": "rgb(76,115,255)",
         "hoverinfo": "skip",
         "line": {
          "color": "rgba(0,0,0,0)"
         },
         "mode": "lines",
         "showlegend": false,
         "type": "scatter",
         "x": [
          2.6,
          2.625
         ],
         "xaxis": "x",
         "y": [
          4.086606332669815e-14,
          4.000253307595327e-14
         ],
         "yaxis": "y"
        },
        {
         "fill": "tozeroy",
         "fillcolor": "rgb(255,215,76)",
         "hoverinfo": "skip",
         "line": {
          "color": "rgba(0,0,0,0)"
         },
         "mode": "lines",
         "showlegend": false,
         "type": "scatter",
         "x": [
          2.6250000000000004,
          2.6500000000000004
         ],
         "xaxis": "x",
         "y": [
          4.000253307595327e-14,
          3.913900282520839e-14
         ],
         "yaxis": "y"
        },
        {
         "fill": "tozeroy",
         "fillcolor": "rgb(255,215,76)",
         "hoverinfo": "skip",
         "line": {
          "color": "rgba(0,0,0,0)"
         },
         "mode": "lines",
         "showlegend": false,
         "type": "scatter",
         "x": [
          2.6500000000000004,
          2.6750000000000003
         ],
         "xaxis": "x",
         "y": [
          3.913900282520839e-14,
          3.8325980006517497e-14
         ],
         "yaxis": "y"
        },
        {
         "fill": "tozeroy",
         "fillcolor": "rgb(76,111,255)",
         "hoverinfo": "skip",
         "line": {
          "color": "rgba(0,0,0,0)"
         },
         "mode": "lines",
         "showlegend": false,
         "type": "scatter",
         "x": [
          2.6750000000000003,
          2.7
         ],
         "xaxis": "x",
         "y": [
          3.8325980006517497e-14,
          3.7512957187826595e-14
         ],
         "yaxis": "y"
        },
        {
         "fill": "tozeroy",
         "fillcolor": "rgb(76,111,255)",
         "hoverinfo": "skip",
         "line": {
          "color": "rgba(0,0,0,0)"
         },
         "mode": "lines",
         "showlegend": false,
         "type": "scatter",
         "x": [
          2.7,
          2.725
         ],
         "xaxis": "x",
         "y": [
          3.7512957187826595e-14,
          3.672532857294188e-14
         ],
         "yaxis": "y"
        },
        {
         "fill": "tozeroy",
         "fillcolor": "rgb(255,224,76)",
         "hoverinfo": "skip",
         "line": {
          "color": "rgba(0,0,0,0)"
         },
         "mode": "lines",
         "showlegend": false,
         "type": "scatter",
         "x": [
          2.7250000000000005,
          2.7500000000000004
         ],
         "xaxis": "x",
         "y": [
          3.672532857294188e-14,
          3.593769995805717e-14
         ],
         "yaxis": "y"
        },
        {
         "fill": "tozeroy",
         "fillcolor": "rgb(255,224,76)",
         "hoverinfo": "skip",
         "line": {
          "color": "rgba(0,0,0,0)"
         },
         "mode": "lines",
         "showlegend": false,
         "type": "scatter",
         "x": [
          2.7500000000000004,
          2.7750000000000004
         ],
         "xaxis": "x",
         "y": [
          3.593769995805717e-14,
          3.519552617461869e-14
         ],
         "yaxis": "y"
        },
        {
         "fill": "tozeroy",
         "fillcolor": "rgb(76,107,255)",
         "hoverinfo": "skip",
         "line": {
          "color": "rgba(0,0,0,0)"
         },
         "mode": "lines",
         "showlegend": false,
         "type": "scatter",
         "x": [
          2.775,
          2.8
         ],
         "xaxis": "x",
         "y": [
          3.519552617461869e-14,
          3.4453352391180216e-14
         ],
         "yaxis": "y"
        },
        {
         "fill": "tozeroy",
         "fillcolor": "rgb(76,107,255)",
         "hoverinfo": "skip",
         "line": {
          "color": "rgba(0,0,0,0)"
         },
         "mode": "lines",
         "showlegend": false,
         "type": "scatter",
         "x": [
          2.8,
          2.8249999999999997
         ],
         "xaxis": "x",
         "y": [
          3.4453352391180216e-14,
          3.3730664568796536e-14
         ],
         "yaxis": "y"
        },
        {
         "fill": "tozeroy",
         "fillcolor": "rgb(255,228,76)",
         "hoverinfo": "skip",
         "line": {
          "color": "rgba(0,0,0,0)"
         },
         "mode": "lines",
         "showlegend": false,
         "type": "scatter",
         "x": [
          2.8249999999999997,
          2.8499999999999996
         ],
         "xaxis": "x",
         "y": [
          3.3730664568796536e-14,
          3.300797674641286e-14
         ],
         "yaxis": "y"
        },
        {
         "fill": "tozeroy",
         "fillcolor": "rgb(255,228,76)",
         "hoverinfo": "skip",
         "line": {
          "color": "rgba(0,0,0,0)"
         },
         "mode": "lines",
         "showlegend": false,
         "type": "scatter",
         "x": [
          2.8499999999999996,
          2.8749999999999996
         ],
         "xaxis": "x",
         "y": [
          3.300797674641286e-14,
          3.2333204479451625e-14
         ],
         "yaxis": "y"
        },
        {
         "fill": "tozeroy",
         "fillcolor": "rgb(76,103,255)",
         "hoverinfo": "skip",
         "line": {
          "color": "rgba(0,0,0,0)"
         },
         "mode": "lines",
         "showlegend": false,
         "type": "scatter",
         "x": [
          2.875,
          2.9
         ],
         "xaxis": "x",
         "y": [
          3.2333204479451625e-14,
          3.1658432212490394e-14
         ],
         "yaxis": "y"
        },
        {
         "fill": "tozeroy",
         "fillcolor": "rgb(76,103,255)",
         "hoverinfo": "skip",
         "line": {
          "color": "rgba(0,0,0,0)"
         },
         "mode": "lines",
         "showlegend": false,
         "type": "scatter",
         "x": [
          2.9,
          2.925
         ],
         "xaxis": "x",
         "y": [
          3.1658432212490394e-14,
          3.099771455919599e-14
         ],
         "yaxis": "y"
        },
        {
         "fill": "tozeroy",
         "fillcolor": "rgb(255,232,76)",
         "hoverinfo": "skip",
         "line": {
          "color": "rgba(0,0,0,0)"
         },
         "mode": "lines",
         "showlegend": false,
         "type": "scatter",
         "x": [
          2.925,
          2.9499999999999997
         ],
         "xaxis": "x",
         "y": [
          3.099771455919599e-14,
          3.033699690590158e-14
         ],
         "yaxis": "y"
        },
        {
         "fill": "tozeroy",
         "fillcolor": "rgb(255,232,76)",
         "hoverinfo": "skip",
         "line": {
          "color": "rgba(0,0,0,0)"
         },
         "mode": "lines",
         "showlegend": false,
         "type": "scatter",
         "x": [
          2.9499999999999997,
          2.9749999999999996
         ],
         "xaxis": "x",
         "y": [
          3.033699690590158e-14,
          2.970917630065073e-14
         ],
         "yaxis": "y"
        },
        {
         "fill": "tozeroy",
         "fillcolor": "rgb(76,94,255)",
         "hoverinfo": "skip",
         "line": {
          "color": "rgba(0,0,0,0)"
         },
         "mode": "lines",
         "showlegend": false,
         "type": "scatter",
         "x": [
          2.975,
          3
         ],
         "xaxis": "x",
         "y": [
          2.970917630065073e-14,
          2.9081355695399874e-14
         ],
         "yaxis": "y"
        },
        {
         "fill": "tozeroy",
         "fillcolor": "rgb(76,94,255)",
         "hoverinfo": "skip",
         "line": {
          "color": "rgba(0,0,0,0)"
         },
         "mode": "lines",
         "showlegend": false,
         "type": "scatter",
         "x": [
          3,
          3.025
         ],
         "xaxis": "x",
         "y": [
          2.9081355695399874e-14,
          2.848066460560847e-14
         ],
         "yaxis": "y"
        },
        {
         "fill": "tozeroy",
         "fillcolor": "rgb(255,236,76)",
         "hoverinfo": "skip",
         "line": {
          "color": "rgba(0,0,0,0)"
         },
         "mode": "lines",
         "showlegend": false,
         "type": "scatter",
         "x": [
          3.0250000000000004,
          3.0500000000000003
         ],
         "xaxis": "x",
         "y": [
          2.848066460560847e-14,
          2.787997351581706e-14
         ],
         "yaxis": "y"
        },
        {
         "fill": "tozeroy",
         "fillcolor": "rgb(255,236,76)",
         "hoverinfo": "skip",
         "line": {
          "color": "rgba(0,0,0,0)"
         },
         "mode": "lines",
         "showlegend": false,
         "type": "scatter",
         "x": [
          3.0500000000000003,
          3.075
         ],
         "xaxis": "x",
         "y": [
          2.787997351581706e-14,
          2.730125455136575e-14
         ],
         "yaxis": "y"
        },
        {
         "fill": "tozeroy",
         "fillcolor": "rgb(76,90,255)",
         "hoverinfo": "skip",
         "line": {
          "color": "rgba(0,0,0,0)"
         },
         "mode": "lines",
         "showlegend": false,
         "type": "scatter",
         "x": [
          3.075,
          3.1
         ],
         "xaxis": "x",
         "y": [
          2.730125455136575e-14,
          2.6722535586914438e-14
         ],
         "yaxis": "y"
        },
        {
         "fill": "tozeroy",
         "fillcolor": "rgb(76,90,255)",
         "hoverinfo": "skip",
         "line": {
          "color": "rgba(0,0,0,0)"
         },
         "mode": "lines",
         "showlegend": false,
         "type": "scatter",
         "x": [
          3.1,
          3.125
         ],
         "xaxis": "x",
         "y": [
          2.6722535586914438e-14,
          2.6168373350497722e-14
         ],
         "yaxis": "y"
        },
        {
         "fill": "tozeroy",
         "fillcolor": "rgb(255,245,76)",
         "hoverinfo": "skip",
         "line": {
          "color": "rgba(0,0,0,0)"
         },
         "mode": "lines",
         "showlegend": false,
         "type": "scatter",
         "x": [
          3.1250000000000004,
          3.1500000000000004
         ],
         "xaxis": "x",
         "y": [
          2.6168373350497722e-14,
          2.561421111408101e-14
         ],
         "yaxis": "y"
        },
        {
         "fill": "tozeroy",
         "fillcolor": "rgb(255,245,76)",
         "hoverinfo": "skip",
         "line": {
          "color": "rgba(0,0,0,0)"
         },
         "mode": "lines",
         "showlegend": false,
         "type": "scatter",
         "x": [
          3.1500000000000004,
          3.1750000000000003
         ],
         "xaxis": "x",
         "y": [
          2.561421111408101e-14,
          2.507205017964882e-14
         ],
         "yaxis": "y"
        },
        {
         "fill": "tozeroy",
         "fillcolor": "rgb(76,86,255)",
         "hoverinfo": "skip",
         "line": {
          "color": "rgba(0,0,0,0)"
         },
         "mode": "lines",
         "showlegend": false,
         "type": "scatter",
         "x": [
          3.1750000000000003,
          3.2
         ],
         "xaxis": "x",
         "y": [
          2.507205017964882e-14,
          2.4529889245216628e-14
         ],
         "yaxis": "y"
        },
        {
         "fill": "tozeroy",
         "fillcolor": "rgb(76,86,255)",
         "hoverinfo": "skip",
         "line": {
          "color": "rgba(0,0,0,0)"
         },
         "mode": "lines",
         "showlegend": false,
         "type": "scatter",
         "x": [
          3.2,
          3.225
         ],
         "xaxis": "x",
         "y": [
          2.4529889245216628e-14,
          2.4016432269975477e-14
         ],
         "yaxis": "y"
        },
        {
         "fill": "tozeroy",
         "fillcolor": "rgb(255,249,76)",
         "hoverinfo": "skip",
         "line": {
          "color": "rgba(0,0,0,0)"
         },
         "mode": "lines",
         "showlegend": false,
         "type": "scatter",
         "x": [
          3.2249999999999996,
          3.2499999999999996
         ],
         "xaxis": "x",
         "y": [
          2.4016432269975477e-14,
          2.3502975294734327e-14
         ],
         "yaxis": "y"
        },
        {
         "fill": "tozeroy",
         "fillcolor": "rgb(255,249,76)",
         "hoverinfo": "skip",
         "line": {
          "color": "rgba(0,0,0,0)"
         },
         "mode": "lines",
         "showlegend": false,
         "type": "scatter",
         "x": [
          3.2499999999999996,
          3.2749999999999995
         ],
         "xaxis": "x",
         "y": [
          2.3502975294734327e-14,
          2.300234141712784e-14
         ],
         "yaxis": "y"
        },
        {
         "fill": "tozeroy",
         "fillcolor": "rgb(76,77,255)",
         "hoverinfo": "skip",
         "line": {
          "color": "rgba(0,0,0,0)"
         },
         "mode": "lines",
         "showlegend": false,
         "type": "scatter",
         "x": [
          3.275,
          3.3
         ],
         "xaxis": "x",
         "y": [
          2.300234141712784e-14,
          2.2501707539521358e-14
         ],
         "yaxis": "y"
        },
        {
         "fill": "tozeroy",
         "fillcolor": "rgb(76,77,255)",
         "hoverinfo": "skip",
         "line": {
          "color": "rgba(0,0,0,0)"
         },
         "mode": "lines",
         "showlegend": false,
         "type": "scatter",
         "x": [
          3.3,
          3.3249999999999997
         ],
         "xaxis": "x",
         "y": [
          2.2501707539521358e-14,
          2.2035555553713686e-14
         ],
         "yaxis": "y"
        },
        {
         "fill": "tozeroy",
         "fillcolor": "rgb(255,253,76)",
         "hoverinfo": "skip",
         "line": {
          "color": "rgba(0,0,0,0)"
         },
         "mode": "lines",
         "showlegend": false,
         "type": "scatter",
         "x": [
          3.3249999999999997,
          3.3499999999999996
         ],
         "xaxis": "x",
         "y": [
          2.2035555553713686e-14,
          2.156940356790601e-14
         ],
         "yaxis": "y"
        },
        {
         "fill": "tozeroy",
         "fillcolor": "rgb(255,253,76)",
         "hoverinfo": "skip",
         "line": {
          "color": "rgba(0,0,0,0)"
         },
         "mode": "lines",
         "showlegend": false,
         "type": "scatter",
         "x": [
          3.3499999999999996,
          3.3749999999999996
         ],
         "xaxis": "x",
         "y": [
          2.156940356790601e-14,
          2.1091829408628514e-14
         ],
         "yaxis": "y"
        },
        {
         "fill": "tozeroy",
         "fillcolor": "rgb(79,76,255)",
         "hoverinfo": "skip",
         "line": {
          "color": "rgba(0,0,0,0)"
         },
         "mode": "lines",
         "showlegend": false,
         "type": "scatter",
         "x": [
          3.375,
          3.4
         ],
         "xaxis": "x",
         "y": [
          2.1091829408628514e-14,
          2.0614255249351016e-14
         ],
         "yaxis": "y"
        },
        {
         "fill": "tozeroy",
         "fillcolor": "rgb(79,76,255)",
         "hoverinfo": "skip",
         "line": {
          "color": "rgba(0,0,0,0)"
         },
         "mode": "lines",
         "showlegend": false,
         "type": "scatter",
         "x": [
          3.4,
          3.425
         ],
         "xaxis": "x",
         "y": [
          2.0614255249351016e-14,
          2.0170711559604145e-14
         ],
         "yaxis": "y"
        },
        {
         "fill": "tozeroy",
         "fillcolor": "rgb(252,255,76)",
         "hoverinfo": "skip",
         "line": {
          "color": "rgba(0,0,0,0)"
         },
         "mode": "lines",
         "showlegend": false,
         "type": "scatter",
         "x": [
          3.4250000000000003,
          3.45
         ],
         "xaxis": "x",
         "y": [
          2.0170711559604145e-14,
          1.9727167869857278e-14
         ],
         "yaxis": "y"
        },
        {
         "fill": "tozeroy",
         "fillcolor": "rgb(252,255,76)",
         "hoverinfo": "skip",
         "line": {
          "color": "rgba(0,0,0,0)"
         },
         "mode": "lines",
         "showlegend": false,
         "type": "scatter",
         "x": [
          3.45,
          3.475
         ],
         "xaxis": "x",
         "y": [
          1.9727167869857278e-14,
          1.928865420365071e-14
         ],
         "yaxis": "y"
        },
        {
         "fill": "tozeroy",
         "fillcolor": "rgb(83,76,255)",
         "hoverinfo": "skip",
         "line": {
          "color": "rgba(0,0,0,0)"
         },
         "mode": "lines",
         "showlegend": false,
         "type": "scatter",
         "x": [
          3.475,
          3.5
         ],
         "xaxis": "x",
         "y": [
          1.928865420365071e-14,
          1.8850140537444144e-14
         ],
         "yaxis": "y"
        },
        {
         "fill": "tozeroy",
         "fillcolor": "rgb(83,76,255)",
         "hoverinfo": "skip",
         "line": {
          "color": "rgba(0,0,0,0)"
         },
         "mode": "lines",
         "showlegend": false,
         "type": "scatter",
         "x": [
          3.5,
          3.525
         ],
         "xaxis": "x",
         "y": [
          1.8850140537444144e-14,
          1.8434813450612358e-14
         ],
         "yaxis": "y"
        },
        {
         "fill": "tozeroy",
         "fillcolor": "rgb(243,255,76)",
         "hoverinfo": "skip",
         "line": {
          "color": "rgba(0,0,0,0)"
         },
         "mode": "lines",
         "showlegend": false,
         "type": "scatter",
         "x": [
          3.5250000000000004,
          3.5500000000000003
         ],
         "xaxis": "x",
         "y": [
          1.8434813450612358e-14,
          1.8019486363780568e-14
         ],
         "yaxis": "y"
        },
        {
         "fill": "tozeroy",
         "fillcolor": "rgb(243,255,76)",
         "hoverinfo": "skip",
         "line": {
          "color": "rgba(0,0,0,0)"
         },
         "mode": "lines",
         "showlegend": false,
         "type": "scatter",
         "x": [
          3.5500000000000003,
          3.575
         ],
         "xaxis": "x",
         "y": [
          1.8019486363780568e-14,
          1.7611872219361333e-14
         ],
         "yaxis": "y"
        },
        {
         "fill": "tozeroy",
         "fillcolor": "rgb(87,76,255)",
         "hoverinfo": "skip",
         "line": {
          "color": "rgba(0,0,0,0)"
         },
         "mode": "lines",
         "showlegend": false,
         "type": "scatter",
         "x": [
          3.575,
          3.6
         ],
         "xaxis": "x",
         "y": [
          1.7611872219361333e-14,
          1.7204258074942094e-14
         ],
         "yaxis": "y"
        },
        {
         "fill": "tozeroy",
         "fillcolor": "rgb(87,76,255)",
         "hoverinfo": "skip",
         "line": {
          "color": "rgba(0,0,0,0)"
         },
         "mode": "lines",
         "showlegend": false,
         "type": "scatter",
         "x": [
          3.6,
          3.625
         ],
         "xaxis": "x",
         "y": [
          1.7204258074942094e-14,
          1.6810860451822377e-14
         ],
         "yaxis": "y"
        },
        {
         "fill": "tozeroy",
         "fillcolor": "rgb(239,255,76)",
         "hoverinfo": "skip",
         "line": {
          "color": "rgba(0,0,0,0)"
         },
         "mode": "lines",
         "showlegend": false,
         "type": "scatter",
         "x": [
          3.625,
          3.65
         ],
         "xaxis": "x",
         "y": [
          1.6810860451822377e-14,
          1.6417462828702663e-14
         ],
         "yaxis": "y"
        },
        {
         "fill": "tozeroy",
         "fillcolor": "rgb(239,255,76)",
         "hoverinfo": "skip",
         "line": {
          "color": "rgba(0,0,0,0)"
         },
         "mode": "lines",
         "showlegend": false,
         "type": "scatter",
         "x": [
          3.65,
          3.675
         ],
         "xaxis": "x",
         "y": [
          1.6417462828702663e-14,
          1.6027230424131295e-14
         ],
         "yaxis": "y"
        },
        {
         "fill": "tozeroy",
         "fillcolor": "rgb(96,76,255)",
         "hoverinfo": "skip",
         "line": {
          "color": "rgba(0,0,0,0)"
         },
         "mode": "lines",
         "showlegend": false,
         "type": "scatter",
         "x": [
          3.6750000000000003,
          3.7
         ],
         "xaxis": "x",
         "y": [
          1.6027230424131295e-14,
          1.563699801955993e-14
         ],
         "yaxis": "y"
        },
        {
         "fill": "tozeroy",
         "fillcolor": "rgb(96,76,255)",
         "hoverinfo": "skip",
         "line": {
          "color": "rgba(0,0,0,0)"
         },
         "mode": "lines",
         "showlegend": false,
         "type": "scatter",
         "x": [
          3.7,
          3.725
         ],
         "xaxis": "x",
         "y": [
          1.563699801955993e-14,
          1.527034159887583e-14
         ],
         "yaxis": "y"
        },
        {
         "fill": "tozeroy",
         "fillcolor": "rgb(235,255,76)",
         "hoverinfo": "skip",
         "line": {
          "color": "rgba(0,0,0,0)"
         },
         "mode": "lines",
         "showlegend": false,
         "type": "scatter",
         "x": [
          3.7249999999999996,
          3.7499999999999996
         ],
         "xaxis": "x",
         "y": [
          1.527034159887583e-14,
          1.490368517819173e-14
         ],
         "yaxis": "y"
        },
        {
         "fill": "tozeroy",
         "fillcolor": "rgb(235,255,76)",
         "hoverinfo": "skip",
         "line": {
          "color": "rgba(0,0,0,0)"
         },
         "mode": "lines",
         "showlegend": false,
         "type": "scatter",
         "x": [
          3.7499999999999996,
          3.7749999999999995
         ],
         "xaxis": "x",
         "y": [
          1.490368517819173e-14,
          1.4535834686421535e-14
         ],
         "yaxis": "y"
        },
        {
         "fill": "tozeroy",
         "fillcolor": "rgb(100,76,255)",
         "hoverinfo": "skip",
         "line": {
          "color": "rgba(0,0,0,0)"
         },
         "mode": "lines",
         "showlegend": false,
         "type": "scatter",
         "x": [
          3.775,
          3.8
         ],
         "xaxis": "x",
         "y": [
          1.4535834686421535e-14,
          1.4167984194651343e-14
         ],
         "yaxis": "y"
        },
        {
         "fill": "tozeroy",
         "fillcolor": "rgb(100,76,255)",
         "hoverinfo": "skip",
         "line": {
          "color": "rgba(0,0,0,0)"
         },
         "mode": "lines",
         "showlegend": false,
         "type": "scatter",
         "x": [
          3.8,
          3.8249999999999997
         ],
         "xaxis": "x",
         "y": [
          1.4167984194651343e-14,
          1.3819326670839153e-14
         ],
         "yaxis": "y"
        },
        {
         "fill": "tozeroy",
         "fillcolor": "rgb(226,255,76)",
         "hoverinfo": "skip",
         "line": {
          "color": "rgba(0,0,0,0)"
         },
         "mode": "lines",
         "showlegend": false,
         "type": "scatter",
         "x": [
          3.825,
          3.85
         ],
         "xaxis": "x",
         "y": [
          1.3819326670839153e-14,
          1.3470669147026963e-14
         ],
         "yaxis": "y"
        },
        {
         "fill": "tozeroy",
         "fillcolor": "rgb(226,255,76)",
         "hoverinfo": "skip",
         "line": {
          "color": "rgba(0,0,0,0)"
         },
         "mode": "lines",
         "showlegend": false,
         "type": "scatter",
         "x": [
          3.85,
          3.875
         ],
         "xaxis": "x",
         "y": [
          1.3470669147026963e-14,
          1.3118412871933323e-14
         ],
         "yaxis": "y"
        },
        {
         "fill": "tozeroy",
         "fillcolor": "rgb(104,76,255)",
         "hoverinfo": "skip",
         "line": {
          "color": "rgba(0,0,0,0)"
         },
         "mode": "lines",
         "showlegend": false,
         "type": "scatter",
         "x": [
          3.875,
          3.9
         ],
         "xaxis": "x",
         "y": [
          1.3118412871933323e-14,
          1.2766156596839686e-14
         ],
         "yaxis": "y"
        },
        {
         "fill": "tozeroy",
         "fillcolor": "rgb(104,76,255)",
         "hoverinfo": "skip",
         "line": {
          "color": "rgba(0,0,0,0)"
         },
         "mode": "lines",
         "showlegend": false,
         "type": "scatter",
         "x": [
          3.9,
          3.925
         ],
         "xaxis": "x",
         "y": [
          1.2766156596839686e-14,
          1.244255963821541e-14
         ],
         "yaxis": "y"
        },
        {
         "fill": "tozeroy",
         "fillcolor": "rgb(222,255,76)",
         "hoverinfo": "skip",
         "line": {
          "color": "rgba(0,0,0,0)"
         },
         "mode": "lines",
         "showlegend": false,
         "type": "scatter",
         "x": [
          3.9250000000000003,
          3.95
         ],
         "xaxis": "x",
         "y": [
          1.244255963821541e-14,
          1.2118962679591135e-14
         ],
         "yaxis": "y"
        },
        {
         "fill": "tozeroy",
         "fillcolor": "rgb(222,255,76)",
         "hoverinfo": "skip",
         "line": {
          "color": "rgba(0,0,0,0)"
         },
         "mode": "lines",
         "showlegend": false,
         "type": "scatter",
         "x": [
          3.95,
          3.975
         ],
         "xaxis": "x",
         "y": [
          1.2118962679591135e-14,
          1.1783129926849392e-14
         ],
         "yaxis": "y"
        },
        {
         "fill": "tozeroy",
         "fillcolor": "rgb(108,76,255)",
         "hoverinfo": "skip",
         "line": {
          "color": "rgba(0,0,0,0)"
         },
         "mode": "lines",
         "showlegend": false,
         "type": "scatter",
         "x": [
          3.975,
          4
         ],
         "xaxis": "x",
         "y": [
          1.1783129926849392e-14,
          1.1447297174107646e-14
         ],
         "yaxis": "y"
        },
        {
         "fill": "tozeroy",
         "fillcolor": "rgb(108,76,255)",
         "hoverinfo": "skip",
         "line": {
          "color": "rgba(0,0,0,0)"
         },
         "mode": "lines",
         "showlegend": false,
         "type": "scatter",
         "x": [
          4,
          4.025
         ],
         "xaxis": "x",
         "y": [
          1.1447297174107646e-14,
          1.1122700488926356e-14
         ],
         "yaxis": "y"
        },
        {
         "fill": "tozeroy",
         "fillcolor": "rgb(218,255,76)",
         "hoverinfo": "skip",
         "line": {
          "color": "rgba(0,0,0,0)"
         },
         "mode": "lines",
         "showlegend": false,
         "type": "scatter",
         "x": [
          4.025,
          4.05
         ],
         "xaxis": "x",
         "y": [
          1.1122700488926356e-14,
          1.0798103803745068e-14
         ],
         "yaxis": "y"
        },
        {
         "fill": "tozeroy",
         "fillcolor": "rgb(218,255,76)",
         "hoverinfo": "skip",
         "line": {
          "color": "rgba(0,0,0,0)"
         },
         "mode": "lines",
         "showlegend": false,
         "type": "scatter",
         "x": [
          4.05,
          4.074999999999999
         ],
         "xaxis": "x",
         "y": [
          1.0798103803745068e-14,
          1.0483368878120576e-14
         ],
         "yaxis": "y"
        },
        {
         "fill": "tozeroy",
         "fillcolor": "rgb(117,76,255)",
         "hoverinfo": "skip",
         "line": {
          "color": "rgba(0,0,0,0)"
         },
         "mode": "lines",
         "showlegend": false,
         "type": "scatter",
         "x": [
          4.074999999999999,
          4.1
         ],
         "xaxis": "x",
         "y": [
          1.0483368878120576e-14,
          1.0168633952496086e-14
         ],
         "yaxis": "y"
        },
        {
         "fill": "tozeroy",
         "fillcolor": "rgb(117,76,255)",
         "hoverinfo": "skip",
         "line": {
          "color": "rgba(0,0,0,0)"
         },
         "mode": "lines",
         "showlegend": false,
         "type": "scatter",
         "x": [
          4.1,
          4.125
         ],
         "xaxis": "x",
         "y": [
          1.0168633952496086e-14,
          9.859740734982399e-15
         ],
         "yaxis": "y"
        },
        {
         "fill": "tozeroy",
         "fillcolor": "rgb(214,255,76)",
         "hoverinfo": "skip",
         "line": {
          "color": "rgba(0,0,0,0)"
         },
         "mode": "lines",
         "showlegend": false,
         "type": "scatter",
         "x": [
          4.125,
          4.15
         ],
         "xaxis": "x",
         "y": [
          9.859740734982399e-15,
          9.550847517468712e-15
         ],
         "yaxis": "y"
        },
        {
         "fill": "tozeroy",
         "fillcolor": "rgb(214,255,76)",
         "hoverinfo": "skip",
         "line": {
          "color": "rgba(0,0,0,0)"
         },
         "mode": "lines",
         "showlegend": false,
         "type": "scatter",
         "x": [
          4.15,
          4.175000000000001
         ],
         "xaxis": "x",
         "y": [
          9.550847517468712e-15,
          9.24977281230224e-15
         ],
         "yaxis": "y"
        },
        {
         "fill": "tozeroy",
         "fillcolor": "rgb(121,76,255)",
         "hoverinfo": "skip",
         "line": {
          "color": "rgba(0,0,0,0)"
         },
         "mode": "lines",
         "showlegend": false,
         "type": "scatter",
         "x": [
          4.175000000000001,
          4.2
         ],
         "xaxis": "x",
         "y": [
          9.24977281230224e-15,
          8.948698107135766e-15
         ],
         "yaxis": "y"
        },
        {
         "fill": "tozeroy",
         "fillcolor": "rgb(121,76,255)",
         "hoverinfo": "skip",
         "line": {
          "color": "rgba(0,0,0,0)"
         },
         "mode": "lines",
         "showlegend": false,
         "type": "scatter",
         "x": [
          4.2,
          4.225
         ],
         "xaxis": "x",
         "y": [
          8.948698107135766e-15,
          8.649379047238242e-15
         ],
         "yaxis": "y"
        },
        {
         "fill": "tozeroy",
         "fillcolor": "rgb(205,255,76)",
         "hoverinfo": "skip",
         "line": {
          "color": "rgba(0,0,0,0)"
         },
         "mode": "lines",
         "showlegend": false,
         "type": "scatter",
         "x": [
          4.225,
          4.25
         ],
         "xaxis": "x",
         "y": [
          8.649379047238242e-15,
          8.350059987340719e-15
         ],
         "yaxis": "y"
        },
        {
         "fill": "tozeroy",
         "fillcolor": "rgb(205,255,76)",
         "hoverinfo": "skip",
         "line": {
          "color": "rgba(0,0,0,0)"
         },
         "mode": "lines",
         "showlegend": false,
         "type": "scatter",
         "x": [
          4.25,
          4.275
         ],
         "xaxis": "x",
         "y": [
          8.350059987340719e-15,
          8.063538694738076e-15
         ],
         "yaxis": "y"
        },
        {
         "fill": "tozeroy",
         "fillcolor": "rgb(125,76,255)",
         "hoverinfo": "skip",
         "line": {
          "color": "rgba(0,0,0,0)"
         },
         "mode": "lines",
         "showlegend": false,
         "type": "scatter",
         "x": [
          4.275,
          4.3
         ],
         "xaxis": "x",
         "y": [
          8.063538694738076e-15,
          7.777017402135434e-15
         ],
         "yaxis": "y"
        },
        {
         "fill": "tozeroy",
         "fillcolor": "rgb(125,76,255)",
         "hoverinfo": "skip",
         "line": {
          "color": "rgba(0,0,0,0)"
         },
         "mode": "lines",
         "showlegend": false,
         "type": "scatter",
         "x": [
          4.3,
          4.324999999999999
         ],
         "xaxis": "x",
         "y": [
          7.777017402135434e-15,
          7.480573514197022e-15
         ],
         "yaxis": "y"
        },
        {
         "fill": "tozeroy",
         "fillcolor": "rgb(201,255,76)",
         "hoverinfo": "skip",
         "line": {
          "color": "rgba(0,0,0,0)"
         },
         "mode": "lines",
         "showlegend": false,
         "type": "scatter",
         "x": [
          4.324999999999999,
          4.35
         ],
         "xaxis": "x",
         "y": [
          7.480573514197022e-15,
          7.18412962625861e-15
         ],
         "yaxis": "y"
        },
        {
         "fill": "tozeroy",
         "fillcolor": "rgb(201,255,76)",
         "hoverinfo": "skip",
         "line": {
          "color": "rgba(0,0,0,0)"
         },
         "mode": "lines",
         "showlegend": false,
         "type": "scatter",
         "x": [
          4.35,
          4.375
         ],
         "xaxis": "x",
         "y": [
          7.18412962625861e-15,
          6.908917126177027e-15
         ],
         "yaxis": "y"
        },
        {
         "fill": "tozeroy",
         "fillcolor": "rgb(134,76,255)",
         "hoverinfo": "skip",
         "line": {
          "color": "rgba(0,0,0,0)"
         },
         "mode": "lines",
         "showlegend": false,
         "type": "scatter",
         "x": [
          4.375,
          4.3999999999999995
         ],
         "xaxis": "x",
         "y": [
          6.908917126177027e-15,
          6.6337046260954435e-15
         ],
         "yaxis": "y"
        },
        {
         "fill": "tozeroy",
         "fillcolor": "rgb(134,76,255)",
         "hoverinfo": "skip",
         "line": {
          "color": "rgba(0,0,0,0)"
         },
         "mode": "lines",
         "showlegend": false,
         "type": "scatter",
         "x": [
          4.3999999999999995,
          4.424999999999999
         ],
         "xaxis": "x",
         "y": [
          6.6337046260954435e-15,
          6.34967360037188e-15
         ],
         "yaxis": "y"
        },
        {
         "fill": "tozeroy",
         "fillcolor": "rgb(197,255,76)",
         "hoverinfo": "skip",
         "line": {
          "color": "rgba(0,0,0,0)"
         },
         "mode": "lines",
         "showlegend": false,
         "type": "scatter",
         "x": [
          4.425000000000001,
          4.45
         ],
         "xaxis": "x",
         "y": [
          6.34967360037188e-15,
          6.065642574648317e-15
         ],
         "yaxis": "y"
        },
        {
         "fill": "tozeroy",
         "fillcolor": "rgb(197,255,76)",
         "hoverinfo": "skip",
         "line": {
          "color": "rgba(0,0,0,0)"
         },
         "mode": "lines",
         "showlegend": false,
         "type": "scatter",
         "x": [
          4.45,
          4.475
         ],
         "xaxis": "x",
         "y": [
          6.065642574648317e-15,
          5.7937661688861664e-15
         ],
         "yaxis": "y"
        },
        {
         "fill": "tozeroy",
         "fillcolor": "rgb(138,76,255)",
         "hoverinfo": "skip",
         "line": {
          "color": "rgba(0,0,0,0)"
         },
         "mode": "lines",
         "showlegend": false,
         "type": "scatter",
         "x": [
          4.475,
          4.5
         ],
         "xaxis": "x",
         "y": [
          5.7937661688861664e-15,
          5.5218897631240165e-15
         ],
         "yaxis": "y"
        },
        {
         "fill": "tozeroy",
         "fillcolor": "rgb(138,76,255)",
         "hoverinfo": "skip",
         "line": {
          "color": "rgba(0,0,0,0)"
         },
         "mode": "lines",
         "showlegend": false,
         "type": "scatter",
         "x": [
          4.5,
          4.525
         ],
         "xaxis": "x",
         "y": [
          5.5218897631240165e-15,
          5.244940818894534e-15
         ],
         "yaxis": "y"
        },
        {
         "fill": "tozeroy",
         "fillcolor": "rgb(193,255,76)",
         "hoverinfo": "skip",
         "line": {
          "color": "rgba(0,0,0,0)"
         },
         "mode": "lines",
         "showlegend": false,
         "type": "scatter",
         "x": [
          4.525,
          4.55
         ],
         "xaxis": "x",
         "y": [
          5.244940818894534e-15,
          4.967991874665051e-15
         ],
         "yaxis": "y"
        },
        {
         "fill": "tozeroy",
         "fillcolor": "rgb(193,255,76)",
         "hoverinfo": "skip",
         "line": {
          "color": "rgba(0,0,0,0)"
         },
         "mode": "lines",
         "showlegend": false,
         "type": "scatter",
         "x": [
          4.55,
          4.574999999999999
         ],
         "xaxis": "x",
         "y": [
          4.967991874665051e-15,
          4.703511084155623e-15
         ],
         "yaxis": "y"
        },
        {
         "fill": "tozeroy",
         "fillcolor": "rgb(142,76,255)",
         "hoverinfo": "skip",
         "line": {
          "color": "rgba(0,0,0,0)"
         },
         "mode": "lines",
         "showlegend": false,
         "type": "scatter",
         "x": [
          4.574999999999999,
          4.6
         ],
         "xaxis": "x",
         "y": [
          4.703511084155623e-15,
          4.439030293646195e-15
         ],
         "yaxis": "y"
        },
        {
         "fill": "tozeroy",
         "fillcolor": "rgb(142,76,255)",
         "hoverinfo": "skip",
         "line": {
          "color": "rgba(0,0,0,0)"
         },
         "mode": "lines",
         "showlegend": false,
         "type": "scatter",
         "x": [
          4.6,
          4.625
         ],
         "xaxis": "x",
         "y": [
          4.439030293646195e-15,
          4.168768161431717e-15
         ],
         "yaxis": "y"
        },
        {
         "fill": "tozeroy",
         "fillcolor": "rgb(184,255,76)",
         "hoverinfo": "skip",
         "line": {
          "color": "rgba(0,0,0,0)"
         },
         "mode": "lines",
         "showlegend": false,
         "type": "scatter",
         "x": [
          4.625,
          4.6499999999999995
         ],
         "xaxis": "x",
         "y": [
          4.168768161431717e-15,
          3.898506029217237e-15
         ],
         "yaxis": "y"
        },
        {
         "fill": "tozeroy",
         "fillcolor": "rgb(184,255,76)",
         "hoverinfo": "skip",
         "line": {
          "color": "rgba(0,0,0,0)"
         },
         "mode": "lines",
         "showlegend": false,
         "type": "scatter",
         "x": [
          4.6499999999999995,
          4.674999999999999
         ],
         "xaxis": "x",
         "y": [
          3.898506029217237e-15,
          3.637197715163392e-15
         ],
         "yaxis": "y"
        },
        {
         "fill": "tozeroy",
         "fillcolor": "rgb(146,76,255)",
         "hoverinfo": "skip",
         "line": {
          "color": "rgba(0,0,0,0)"
         },
         "mode": "lines",
         "showlegend": false,
         "type": "scatter",
         "x": [
          4.675000000000001,
          4.7
         ],
         "xaxis": "x",
         "y": [
          3.637197715163392e-15,
          3.375889401109547e-15
         ],
         "yaxis": "y"
        },
        {
         "fill": "tozeroy",
         "fillcolor": "rgb(146,76,255)",
         "hoverinfo": "skip",
         "line": {
          "color": "rgba(0,0,0,0)"
         },
         "mode": "lines",
         "showlegend": false,
         "type": "scatter",
         "x": [
          4.7,
          4.725
         ],
         "xaxis": "x",
         "y": [
          3.375889401109547e-15,
          3.109555704362424e-15
         ],
         "yaxis": "y"
        },
        {
         "fill": "tozeroy",
         "fillcolor": "rgb(180,255,76)",
         "hoverinfo": "skip",
         "line": {
          "color": "rgba(0,0,0,0)"
         },
         "mode": "lines",
         "showlegend": false,
         "type": "scatter",
         "x": [
          4.725,
          4.75
         ],
         "xaxis": "x",
         "y": [
          3.109555704362424e-15,
          2.8432220076153012e-15
         ],
         "yaxis": "y"
        },
        {
         "fill": "tozeroy",
         "fillcolor": "rgb(180,255,76)",
         "hoverinfo": "skip",
         "line": {
          "color": "rgba(0,0,0,0)"
         },
         "mode": "lines",
         "showlegend": false,
         "type": "scatter",
         "x": [
          4.75,
          4.775
         ],
         "xaxis": "x",
         "y": [
          2.8432220076153012e-15,
          2.5847396524216495e-15
         ],
         "yaxis": "y"
        },
        {
         "fill": "tozeroy",
         "fillcolor": "rgb(155,76,255)",
         "hoverinfo": "skip",
         "line": {
          "color": "rgba(0,0,0,0)"
         },
         "mode": "lines",
         "showlegend": false,
         "type": "scatter",
         "x": [
          4.775,
          4.8
         ],
         "xaxis": "x",
         "y": [
          2.5847396524216495e-15,
          2.3262572972279978e-15
         ],
         "yaxis": "y"
        },
        {
         "fill": "tozeroy",
         "fillcolor": "rgb(155,76,255)",
         "hoverinfo": "skip",
         "line": {
          "color": "rgba(0,0,0,0)"
         },
         "mode": "lines",
         "showlegend": false,
         "type": "scatter",
         "x": [
          4.8,
          4.824999999999999
         ],
         "xaxis": "x",
         "y": [
          2.3262572972279978e-15,
          2.06450619241989e-15
         ],
         "yaxis": "y"
        },
        {
         "fill": "tozeroy",
         "fillcolor": "rgb(176,255,76)",
         "hoverinfo": "skip",
         "line": {
          "color": "rgba(0,0,0,0)"
         },
         "mode": "lines",
         "showlegend": false,
         "type": "scatter",
         "x": [
          4.824999999999999,
          4.85
         ],
         "xaxis": "x",
         "y": [
          2.06450619241989e-15,
          1.8027550876117822e-15
         ],
         "yaxis": "y"
        },
        {
         "fill": "tozeroy",
         "fillcolor": "rgb(176,255,76)",
         "hoverinfo": "skip",
         "line": {
          "color": "rgba(0,0,0,0)"
         },
         "mode": "lines",
         "showlegend": false,
         "type": "scatter",
         "x": [
          4.85,
          4.875
         ],
         "xaxis": "x",
         "y": [
          1.8027550876117822e-15,
          1.5472638780015086e-15
         ],
         "yaxis": "y"
        },
        {
         "fill": "tozeroy",
         "fillcolor": "rgb(159,76,255)",
         "hoverinfo": "skip",
         "line": {
          "color": "rgba(0,0,0,0)"
         },
         "mode": "lines",
         "showlegend": false,
         "type": "scatter",
         "x": [
          4.875,
          4.8999999999999995
         ],
         "xaxis": "x",
         "y": [
          1.5472638780015086e-15,
          1.291772668391235e-15
         ],
         "yaxis": "y"
        },
        {
         "fill": "tozeroy",
         "fillcolor": "rgb(159,76,255)",
         "hoverinfo": "skip",
         "line": {
          "color": "rgba(0,0,0,0)"
         },
         "mode": "lines",
         "showlegend": false,
         "type": "scatter",
         "x": [
          4.8999999999999995,
          4.924999999999999
         ],
         "xaxis": "x",
         "y": [
          1.291772668391235e-15,
          1.0298836023139208e-15
         ],
         "yaxis": "y"
        },
        {
         "fill": "tozeroy",
         "fillcolor": "rgb(167,255,76)",
         "hoverinfo": "skip",
         "line": {
          "color": "rgba(0,0,0,0)"
         },
         "mode": "lines",
         "showlegend": false,
         "type": "scatter",
         "x": [
          4.925000000000001,
          4.95
         ],
         "xaxis": "x",
         "y": [
          1.0298836023139208e-15,
          7.679945362366067e-16
         ],
         "yaxis": "y"
        },
        {
         "fill": "tozeroy",
         "fillcolor": "rgb(167,255,76)",
         "hoverinfo": "skip",
         "line": {
          "color": "rgba(0,0,0,0)"
         },
         "mode": "lines",
         "showlegend": false,
         "type": "scatter",
         "x": [
          4.95,
          4.975
         ],
         "xaxis": "x",
         "y": [
          7.679945362366067e-16,
          5.158204360509237e-16
         ],
         "yaxis": "y"
        },
        {
         "fill": "tozeroy",
         "fillcolor": "rgb(163,76,255)",
         "hoverinfo": "skip",
         "line": {
          "color": "rgba(0,0,0,0)"
         },
         "mode": "lines",
         "showlegend": false,
         "type": "scatter",
         "x": [
          4.975,
          5
         ],
         "xaxis": "x",
         "y": [
          5.158204360509237e-16,
          2.636463358652408e-16
         ],
         "yaxis": "y"
        },
        {
         "customdata": [
          [
           0.5040816185690667,
           2.636463358652408e-16
          ],
          [
           -0.4933821578091927,
           7.679945362366067e-16
          ],
          [
           0.5119456226180454,
           1.291772668391235e-15
          ],
          [
           -0.483518895432371,
           1.8027550876117822e-15
          ],
          [
           0.5220720842337236,
           2.3262572972279978e-15
          ],
          [
           -0.47353791037325105,
           2.8432220076153012e-15
          ],
          [
           0.532418819045405,
           3.375889401109547e-15
          ],
          [
           -0.46247790302268266,
           3.898506029217237e-15
          ],
          [
           0.5421433850014088,
           4.439030293646195e-15
          ],
          [
           -0.4529611350960632,
           4.967991874665051e-15
          ],
          [
           0.5517842492444063,
           5.5218897631240165e-15
          ],
          [
           -0.4426878404080866,
           6.065642574648317e-15
          ],
          [
           0.5619854286784901,
           6.6337046260954435e-15
          ],
          [
           -0.43301434510966935,
           7.18412962625861e-15
          ],
          [
           0.5722347473396554,
           7.777017402135434e-15
          ],
          [
           -0.4228847036465634,
           8.350059987340719e-15
          ],
          [
           0.581982289505121,
           8.948698107135766e-15
          ],
          [
           -0.413107317466913,
           9.550847517468712e-15
          ],
          [
           0.5920247420063401,
           1.0168633952496086e-14
          ],
          [
           -0.4031154742435327,
           1.0798103803745068e-14
          ],
          [
           0.6020479709212001,
           1.1447297174107646e-14
          ],
          [
           -0.3930134687869135,
           1.2118962679591135e-14
          ],
          [
           0.611945888308882,
           1.2766156596839686e-14
          ],
          [
           -0.3831783106839683,
           1.3470669147026963e-14
          ],
          [
           0.621958723559769,
           1.4167984194651343e-14
          ],
          [
           -0.37320533795145805,
           1.490368517819173e-14
          ],
          [
           0.6317267713808143,
           1.563699801955993e-14
          ],
          [
           -0.36324526694972553,
           1.6417462828702663e-14
          ],
          [
           0.6416919541199735,
           1.7204258074942094e-14
          ],
          [
           -0.3532010466995145,
           1.8019486363780568e-14
          ],
          [
           0.6518844409109286,
           1.8850140537444144e-14
          ],
          [
           -0.3434213879179998,
           1.9727167869857278e-14
          ],
          [
           0.6616386314704974,
           2.0614255249351016e-14
          ],
          [
           -0.33351309493647957,
           2.156940356790601e-14
          ],
          [
           0.6716175835215517,
           2.2501707539521358e-14
          ],
          [
           -0.32354604140763676,
           2.3502975294734327e-14
          ],
          [
           0.6817422689904168,
           2.4529889245216628e-14
          ],
          [
           -0.31341108508161813,
           2.561421111408101e-14
          ],
          [
           0.6914600266094818,
           2.6722535586914438e-14
          ],
          [
           -0.3035372056207291,
           2.787997351581706e-14
          ],
          [
           0.7014607021568847,
           2.9081355695399874e-14
          ],
          [
           -0.29355314086995243,
           3.033699690590158e-14
          ],
          [
           0.711459388581813,
           3.1658432212490394e-14
          ],
          [
           -0.283603095258385,
           3.300797674641286e-14
          ],
          [
           0.7214234161025227,
           3.4453352391180216e-14
          ],
          [
           -0.27373313480351896,
           3.593769995805717e-14
          ],
          [
           0.7313068427835264,
           3.7512957187826595e-14
          ],
          [
           -0.26369811878944693,
           3.913900282520839e-14
          ],
          [
           0.7413249218074667,
           4.086606332669815e-14
          ],
          [
           -0.2537549261693281,
           4.265575505569094e-14
          ],
          [
           0.7512359276348165,
           4.456709590772159e-14
          ],
          [
           -0.243797019597502,
           4.65527693986022e-14
          ],
          [
           0.761173772810663,
           4.865938554678186e-14
          ],
          [
           -0.23381716771872363,
           5.086304220741786e-14
          ],
          [
           0.7711345265386361,
           5.319428970511493e-14
          ],
          [
           -0.22385487645422025,
           5.565407009332977e-14
          ],
          [
           0.7810870219641005,
           5.825389217158111e-14
          ],
          [
           -0.213948249178812,
           6.101253620278435e-14
          ],
          [
           0.7910367325344436,
           6.393017130947001e-14
          ],
          [
           -0.20397888604490477,
           6.701374168788663e-14
          ],
          [
           0.8009797679302313,
           7.030050493392229e-14
          ],
          [
           -0.19403071725114263,
           7.377665962464878e-14
          ],
          [
           0.8109305835314763,
           7.748099393311549e-14
          ],
          [
           -0.18409060568914382,
           8.142739784565649e-14
          ],
          [
           0.8209030389958378,
           8.562670822480476e-14
          ],
          [
           -0.1741409105601234,
           9.010978090126421e-14
          ],
          [
           0.8308484429341135,
           9.489452708232931e-14
          ],
          [
           -0.16417277815876186,
           1.0001055964611855e-13
          ],
          [
           0.8407873501596183,
           1.0548727385091776e-13
          ],
          [
           -0.1542207025551839,
           1.1134881052870509e-13
          ],
          [
           0.8507339839635223,
           1.1763372216375167e-13
          ],
          [
           -0.14428873802308728,
           1.2436961674367715e-13
          ],
          [
           0.8606893130499584,
           1.3161299758859595e-13
          ],
          [
           -0.1343394934038821,
           1.3939012193783833e-13
          ],
          [
           0.8706462149518787,
           1.477559258777878e-13
          ],
          [
           -0.12438592181150605,
           1.5674596957406908e-13
          ],
          [
           0.8805783043671586,
           1.6642041296643053e-13
          ],
          [
           -0.114426610490313,
           1.768326443950466e-13
          ],
          [
           0.8905552660632209,
           1.8803594890281576e-13
          ],
          [
           -0.10448157090477639,
           2.0008044751472383e-13
          ],
          [
           0.9004925868334801,
           2.1301494676393744e-13
          ],
          [
           -0.09453897146109227,
           2.270191536517275e-13
          ],
          [
           0.9104445679407303,
           2.3716384079826765e-13
          ],
          [
           -0.08458296921963133,
           4.0368909132608595e-13
          ],
          [
           -0.07960230696224774,
           3.5177996531660855e-12
          ],
          [
           -0.0746268655702264,
           8.11410557155471e-11
          ],
          [
           -0.06965174101754378,
           1.414515123090628e-9
          ],
          [
           -0.06467661695509427,
           2.0324285370170456e-8
          ],
          [
           -0.05970149254648094,
           2.3965486378709104e-7
          ],
          [
           -0.05472636815943704,
           0.000002319740170847717
          ],
          [
           -0.04975124378121651,
           0.000018431698480711638
          ],
          [
           -0.04477611940298476,
           0.0001202168009176591
          ],
          [
           -0.039800995024877384,
           0.0006436335426934288
          ],
          [
           -0.034825870646766344,
           0.0028286934117562226
          ],
          [
           -0.02985074626865702,
           0.010204853954781658
          ],
          [
           -0.02487562189054748,
           0.030220483897230206
          ],
          [
           -0.019900497512437956,
           0.07346318271479933
          ],
          [
           -0.01492537313432848,
           0.14659250657244466
          ],
          [
           -0.009950248756218987,
           0.2401195425779968
          ],
          [
           -0.0049751243781094925,
           0.3228620123011192
          ],
          [
           0,
           0.35635273517695293
          ],
          [
           0.0049751243781094925,
           0.3228620123011192
          ],
          [
           0.009950248756218987,
           0.2401195425779968
          ],
          [
           0.01492537313432848,
           0.14659250657244466
          ],
          [
           0.019900497512437956,
           0.07346318271479933
          ],
          [
           0.02487562189054748,
           0.030220483897230206
          ],
          [
           0.02985074626865702,
           0.010204853954781658
          ],
          [
           0.034825870646766344,
           0.0028286934117562226
          ],
          [
           0.039800995024877384,
           0.0006436335426934288
          ],
          [
           0.04477611940298476,
           0.0001202168009176591
          ],
          [
           0.04975124378121651,
           0.000018431698480711638
          ],
          [
           0.05472636815943704,
           0.000002319740170847717
          ],
          [
           0.05970149254648094,
           2.3965486378709104e-7
          ],
          [
           0.06467661695509427,
           2.0324285370170456e-8
          ],
          [
           0.06965174101754378,
           1.414515123090628e-9
          ],
          [
           0.0746268655702264,
           8.11410557155471e-11
          ],
          [
           0.07960230696224774,
           3.5177996531660855e-12
          ],
          [
           0.08458296921963133,
           4.0368909132608595e-13
          ],
          [
           -0.9104445679407303,
           2.3716384079826765e-13
          ],
          [
           0.09453897146109227,
           2.270191536517275e-13
          ],
          [
           -0.9004925868334801,
           2.1301494676393744e-13
          ],
          [
           0.10448157090477639,
           2.0008044751472383e-13
          ],
          [
           -0.8905552660632209,
           1.8803594890281576e-13
          ],
          [
           0.114426610490313,
           1.768326443950466e-13
          ],
          [
           -0.8805783043671586,
           1.6642041296643053e-13
          ],
          [
           0.12438592181150605,
           1.5674596957406908e-13
          ],
          [
           -0.8706462149518787,
           1.477559258777878e-13
          ],
          [
           0.1343394934038821,
           1.3939012193783833e-13
          ],
          [
           -0.8606893130499584,
           1.3161299758859595e-13
          ],
          [
           0.14428873802308728,
           1.2436961674367715e-13
          ],
          [
           -0.8507339839635223,
           1.1763372216375167e-13
          ],
          [
           0.1542207025551839,
           1.1134881052870509e-13
          ],
          [
           -0.8407873501596183,
           1.0548727385091776e-13
          ],
          [
           0.16417277815876186,
           1.0001055964611855e-13
          ],
          [
           -0.8308484429341135,
           9.489452708232931e-14
          ],
          [
           0.1741409105601234,
           9.010978090126421e-14
          ],
          [
           -0.8209030389958378,
           8.562670822480476e-14
          ],
          [
           0.18409060568914382,
           8.142739784565649e-14
          ],
          [
           -0.8109305835314763,
           7.748099393311549e-14
          ],
          [
           0.19403071725114263,
           7.377665962464878e-14
          ],
          [
           -0.8009797679302313,
           7.030050493392229e-14
          ],
          [
           0.20397888604490477,
           6.701374168788663e-14
          ],
          [
           -0.7910367325344436,
           6.393017130947001e-14
          ],
          [
           0.213948249178812,
           6.101253620278435e-14
          ],
          [
           -0.7810870219641005,
           5.825389217158111e-14
          ],
          [
           0.22385487645422025,
           5.565407009332977e-14
          ],
          [
           -0.7711345265386361,
           5.319428970511493e-14
          ],
          [
           0.23381716771872363,
           5.086304220741786e-14
          ],
          [
           -0.761173772810663,
           4.865938554678186e-14
          ],
          [
           0.243797019597502,
           4.65527693986022e-14
          ],
          [
           -0.7512359276348165,
           4.456709590772159e-14
          ],
          [
           0.2537549261693281,
           4.265575505569094e-14
          ],
          [
           -0.7413249218074667,
           4.086606332669815e-14
          ],
          [
           0.26369811878944693,
           3.913900282520839e-14
          ],
          [
           -0.7313068427835264,
           3.7512957187826595e-14
          ],
          [
           0.27373313480351896,
           3.593769995805717e-14
          ],
          [
           -0.7214234161025227,
           3.4453352391180216e-14
          ],
          [
           0.283603095258385,
           3.300797674641286e-14
          ],
          [
           -0.711459388581813,
           3.1658432212490394e-14
          ],
          [
           0.29355314086995243,
           3.033699690590158e-14
          ],
          [
           -0.7014607021568847,
           2.9081355695399874e-14
          ],
          [
           0.3035372056207291,
           2.787997351581706e-14
          ],
          [
           -0.6914600266094818,
           2.6722535586914438e-14
          ],
          [
           0.31341108508161813,
           2.561421111408101e-14
          ],
          [
           -0.6817422689904168,
           2.4529889245216628e-14
          ],
          [
           0.32354604140763676,
           2.3502975294734327e-14
          ],
          [
           -0.6716175835215517,
           2.2501707539521358e-14
          ],
          [
           0.33351309493647957,
           2.156940356790601e-14
          ],
          [
           -0.6616386314704974,
           2.0614255249351016e-14
          ],
          [
           0.3434213879179998,
           1.9727167869857278e-14
          ],
          [
           -0.6518844409109286,
           1.8850140537444144e-14
          ],
          [
           0.3532010466995145,
           1.8019486363780568e-14
          ],
          [
           -0.6416919541199735,
           1.7204258074942094e-14
          ],
          [
           0.36324526694972553,
           1.6417462828702663e-14
          ],
          [
           -0.6317267713808143,
           1.563699801955993e-14
          ],
          [
           0.37320533795145805,
           1.490368517819173e-14
          ],
          [
           -0.621958723559769,
           1.4167984194651343e-14
          ],
          [
           0.3831783106839683,
           1.3470669147026963e-14
          ],
          [
           -0.611945888308882,
           1.2766156596839686e-14
          ],
          [
           0.3930134687869135,
           1.2118962679591135e-14
          ],
          [
           -0.6020479709212001,
           1.1447297174107646e-14
          ],
          [
           0.4031154742435327,
           1.0798103803745068e-14
          ],
          [
           -0.5920247420063401,
           1.0168633952496086e-14
          ],
          [
           0.413107317466913,
           9.550847517468712e-15
          ],
          [
           -0.581982289505121,
           8.948698107135766e-15
          ],
          [
           0.4228847036465634,
           8.350059987340719e-15
          ],
          [
           -0.5722347473396554,
           7.777017402135434e-15
          ],
          [
           0.43301434510966935,
           7.18412962625861e-15
          ],
          [
           -0.5619854286784901,
           6.6337046260954435e-15
          ],
          [
           0.4426878404080866,
           6.065642574648317e-15
          ],
          [
           -0.5517842492444063,
           5.5218897631240165e-15
          ],
          [
           0.4529611350960632,
           4.967991874665051e-15
          ],
          [
           -0.5421433850014088,
           4.439030293646195e-15
          ],
          [
           0.46247790302268266,
           3.898506029217237e-15
          ],
          [
           -0.532418819045405,
           3.375889401109547e-15
          ],
          [
           0.47353791037325105,
           2.8432220076153012e-15
          ],
          [
           -0.5220720842337236,
           2.3262572972279978e-15
          ],
          [
           0.483518895432371,
           1.8027550876117822e-15
          ],
          [
           -0.5119456226180454,
           1.291772668391235e-15
          ],
          [
           0.4933821578091927,
           7.679945362366067e-16
          ],
          [
           -0.5040816185690667,
           2.636463358652408e-16
          ]
         ],
         "hovertemplate": "kx/(2π/a₀): %{x:.2f} <br>amplitude: %{customdata[1]:.2e}<br>phase: %{customdata[0]:.2f} π",
         "line": {
          "color": "black"
         },
         "mode": "lines",
         "name": "",
         "showlegend": false,
         "type": "scatter",
         "x": [
          -5,
          -4.95,
          -4.8999999999999995,
          -4.85,
          -4.8,
          -4.75,
          -4.7,
          -4.6499999999999995,
          -4.6,
          -4.55,
          -4.5,
          -4.45,
          -4.3999999999999995,
          -4.35,
          -4.3,
          -4.25,
          -4.2,
          -4.15,
          -4.1,
          -4.05,
          -4,
          -3.95,
          -3.9,
          -3.85,
          -3.8,
          -3.7499999999999996,
          -3.7,
          -3.65,
          -3.6,
          -3.5500000000000003,
          -3.5,
          -3.45,
          -3.4,
          -3.3499999999999996,
          -3.3,
          -3.2499999999999996,
          -3.2,
          -3.1500000000000004,
          -3.1,
          -3.0500000000000003,
          -3,
          -2.9499999999999997,
          -2.9,
          -2.8499999999999996,
          -2.8,
          -2.7500000000000004,
          -2.7,
          -2.6500000000000004,
          -2.6,
          -2.55,
          -2.5,
          -2.4499999999999997,
          -2.4,
          -2.35,
          -2.3,
          -2.25,
          -2.1999999999999997,
          -2.15,
          -2.1,
          -2.05,
          -2,
          -1.95,
          -1.9,
          -1.85,
          -1.8,
          -1.75,
          -1.7,
          -1.65,
          -1.6,
          -1.55,
          -1.5,
          -1.45,
          -1.4,
          -1.35,
          -1.3,
          -1.25,
          -1.2,
          -1.15,
          -1.0999999999999999,
          -1.05,
          -1,
          -0.95,
          -0.9,
          -0.85,
          -0.8,
          -0.75,
          -0.7,
          -0.65,
          -0.6,
          -0.5499999999999999,
          -0.5,
          -0.45,
          -0.4,
          -0.35,
          -0.3,
          -0.25,
          -0.2,
          -0.15,
          -0.1,
          -0.05,
          0,
          0.05,
          0.1,
          0.15,
          0.2,
          0.25,
          0.3,
          0.35,
          0.4,
          0.45,
          0.5,
          0.5499999999999999,
          0.6,
          0.65,
          0.7,
          0.75,
          0.8,
          0.85,
          0.9,
          0.95,
          1,
          1.05,
          1.0999999999999999,
          1.15,
          1.2,
          1.25,
          1.3,
          1.35,
          1.4,
          1.45,
          1.5,
          1.55,
          1.6,
          1.65,
          1.7,
          1.75,
          1.8,
          1.85,
          1.9,
          1.95,
          2,
          2.05,
          2.1,
          2.15,
          2.1999999999999997,
          2.25,
          2.3,
          2.35,
          2.4,
          2.4499999999999997,
          2.5,
          2.55,
          2.6,
          2.6500000000000004,
          2.7,
          2.7500000000000004,
          2.8,
          2.8499999999999996,
          2.9,
          2.9499999999999997,
          3,
          3.0500000000000003,
          3.1,
          3.1500000000000004,
          3.2,
          3.2499999999999996,
          3.3,
          3.3499999999999996,
          3.4,
          3.45,
          3.5,
          3.5500000000000003,
          3.6,
          3.65,
          3.7,
          3.7499999999999996,
          3.8,
          3.85,
          3.9,
          3.95,
          4,
          4.05,
          4.1,
          4.15,
          4.2,
          4.25,
          4.3,
          4.35,
          4.3999999999999995,
          4.45,
          4.5,
          4.55,
          4.6,
          4.6499999999999995,
          4.7,
          4.75,
          4.8,
          4.85,
          4.8999999999999995,
          4.95,
          5
         ],
         "xaxis": "x",
         "y": [
          2.636463358652408e-16,
          7.679945362366067e-16,
          1.291772668391235e-15,
          1.8027550876117822e-15,
          2.3262572972279978e-15,
          2.8432220076153012e-15,
          3.375889401109547e-15,
          3.898506029217237e-15,
          4.439030293646195e-15,
          4.967991874665051e-15,
          5.5218897631240165e-15,
          6.065642574648317e-15,
          6.6337046260954435e-15,
          7.18412962625861e-15,
          7.777017402135434e-15,
          8.350059987340719e-15,
          8.948698107135766e-15,
          9.550847517468712e-15,
          1.0168633952496086e-14,
          1.0798103803745068e-14,
          1.1447297174107646e-14,
          1.2118962679591135e-14,
          1.2766156596839686e-14,
          1.3470669147026963e-14,
          1.4167984194651343e-14,
          1.490368517819173e-14,
          1.563699801955993e-14,
          1.6417462828702663e-14,
          1.7204258074942094e-14,
          1.8019486363780568e-14,
          1.8850140537444144e-14,
          1.9727167869857278e-14,
          2.0614255249351016e-14,
          2.156940356790601e-14,
          2.2501707539521358e-14,
          2.3502975294734327e-14,
          2.4529889245216628e-14,
          2.561421111408101e-14,
          2.6722535586914438e-14,
          2.787997351581706e-14,
          2.9081355695399874e-14,
          3.033699690590158e-14,
          3.1658432212490394e-14,
          3.300797674641286e-14,
          3.4453352391180216e-14,
          3.593769995805717e-14,
          3.7512957187826595e-14,
          3.913900282520839e-14,
          4.086606332669815e-14,
          4.265575505569094e-14,
          4.456709590772159e-14,
          4.65527693986022e-14,
          4.865938554678186e-14,
          5.086304220741786e-14,
          5.319428970511493e-14,
          5.565407009332977e-14,
          5.825389217158111e-14,
          6.101253620278435e-14,
          6.393017130947001e-14,
          6.701374168788663e-14,
          7.030050493392229e-14,
          7.377665962464878e-14,
          7.748099393311549e-14,
          8.142739784565649e-14,
          8.562670822480476e-14,
          9.010978090126421e-14,
          9.489452708232931e-14,
          1.0001055964611855e-13,
          1.0548727385091776e-13,
          1.1134881052870509e-13,
          1.1763372216375167e-13,
          1.2436961674367715e-13,
          1.3161299758859595e-13,
          1.3939012193783833e-13,
          1.477559258777878e-13,
          1.5674596957406908e-13,
          1.6642041296643053e-13,
          1.768326443950466e-13,
          1.8803594890281576e-13,
          2.0008044751472383e-13,
          2.1301494676393744e-13,
          2.270191536517275e-13,
          2.3716384079826765e-13,
          4.0368909132608595e-13,
          3.5177996531660855e-12,
          8.11410557155471e-11,
          1.414515123090628e-9,
          2.0324285370170456e-8,
          2.3965486378709104e-7,
          0.000002319740170847717,
          0.000018431698480711638,
          0.0001202168009176591,
          0.0006436335426934288,
          0.0028286934117562226,
          0.010204853954781658,
          0.030220483897230206,
          0.07346318271479933,
          0.14659250657244466,
          0.2401195425779968,
          0.3228620123011192,
          0.35635273517695293,
          0.3228620123011192,
          0.2401195425779968,
          0.14659250657244466,
          0.07346318271479933,
          0.030220483897230206,
          0.010204853954781658,
          0.0028286934117562226,
          0.0006436335426934288,
          0.0001202168009176591,
          0.000018431698480711638,
          0.000002319740170847717,
          2.3965486378709104e-7,
          2.0324285370170456e-8,
          1.414515123090628e-9,
          8.11410557155471e-11,
          3.5177996531660855e-12,
          4.0368909132608595e-13,
          2.3716384079826765e-13,
          2.270191536517275e-13,
          2.1301494676393744e-13,
          2.0008044751472383e-13,
          1.8803594890281576e-13,
          1.768326443950466e-13,
          1.6642041296643053e-13,
          1.5674596957406908e-13,
          1.477559258777878e-13,
          1.3939012193783833e-13,
          1.3161299758859595e-13,
          1.2436961674367715e-13,
          1.1763372216375167e-13,
          1.1134881052870509e-13,
          1.0548727385091776e-13,
          1.0001055964611855e-13,
          9.489452708232931e-14,
          9.010978090126421e-14,
          8.562670822480476e-14,
          8.142739784565649e-14,
          7.748099393311549e-14,
          7.377665962464878e-14,
          7.030050493392229e-14,
          6.701374168788663e-14,
          6.393017130947001e-14,
          6.101253620278435e-14,
          5.825389217158111e-14,
          5.565407009332977e-14,
          5.319428970511493e-14,
          5.086304220741786e-14,
          4.865938554678186e-14,
          4.65527693986022e-14,
          4.456709590772159e-14,
          4.265575505569094e-14,
          4.086606332669815e-14,
          3.913900282520839e-14,
          3.7512957187826595e-14,
          3.593769995805717e-14,
          3.4453352391180216e-14,
          3.300797674641286e-14,
          3.1658432212490394e-14,
          3.033699690590158e-14,
          2.9081355695399874e-14,
          2.787997351581706e-14,
          2.6722535586914438e-14,
          2.561421111408101e-14,
          2.4529889245216628e-14,
          2.3502975294734327e-14,
          2.2501707539521358e-14,
          2.156940356790601e-14,
          2.0614255249351016e-14,
          1.9727167869857278e-14,
          1.8850140537444144e-14,
          1.8019486363780568e-14,
          1.7204258074942094e-14,
          1.6417462828702663e-14,
          1.563699801955993e-14,
          1.490368517819173e-14,
          1.4167984194651343e-14,
          1.3470669147026963e-14,
          1.2766156596839686e-14,
          1.2118962679591135e-14,
          1.1447297174107646e-14,
          1.0798103803745068e-14,
          1.0168633952496086e-14,
          9.550847517468712e-15,
          8.948698107135766e-15,
          8.350059987340719e-15,
          7.777017402135434e-15,
          7.18412962625861e-15,
          6.6337046260954435e-15,
          6.065642574648317e-15,
          5.5218897631240165e-15,
          4.967991874665051e-15,
          4.439030293646195e-15,
          3.898506029217237e-15,
          3.375889401109547e-15,
          2.8432220076153012e-15,
          2.3262572972279978e-15,
          1.8027550876117822e-15,
          1.291772668391235e-15,
          7.679945362366067e-16,
          2.636463358652408e-16
         ],
         "yaxis": "y"
        },
        {
         "hoverinfo": "none",
         "marker": {
          "cmax": 3.141592653589793,
          "cmin": -3.141592653589793,
          "colorbar": {
           "len": 1,
           "thickness": 10,
           "ticktext": [
            "-π",
            "-2π/3",
            "-π/3",
            "0",
            "π/3",
            "2π/3",
            "π"
           ],
           "tickvals": [
            -3.141592653589793,
            -2.0943951023931953,
            -1.0471975511965976,
            0,
            1.0471975511965976,
            2.0943951023931953,
            3.141592653589793
           ],
           "x": 1,
           "xanchor": "left",
           "y": 0.5,
           "yanchor": "middle"
          },
          "colorscale": [
           [
            0,
            "rgb(0, 255, 255)"
           ],
           [
            0.00392156862745098,
            "rgb(0, 248, 255)"
           ],
           [
            0.00784313725490196,
            "rgb(0, 242, 255)"
           ],
           [
            0.011764705882352941,
            "rgb(0, 236, 255)"
           ],
           [
            0.01568627450980392,
            "rgb(0, 230, 255)"
           ],
           [
            0.0196078431372549,
            "rgb(0, 224, 255)"
           ],
           [
            0.023529411764705882,
            "rgb(0, 218, 255)"
           ],
           [
            0.027450980392156862,
            "rgb(0, 212, 255)"
           ],
           [
            0.03137254901960784,
            "rgb(0, 206, 255)"
           ],
           [
            0.03529411764705882,
            "rgb(0, 200, 255)"
           ],
           [
            0.0392156862745098,
            "rgb(0, 194, 255)"
           ],
           [
            0.043137254901960784,
            "rgb(0, 188, 255)"
           ],
           [
            0.047058823529411764,
            "rgb(0, 182, 255)"
           ],
           [
            0.050980392156862744,
            "rgb(0, 176, 255)"
           ],
           [
            0.054901960784313725,
            "rgb(0, 170, 255)"
           ],
           [
            0.058823529411764705,
            "rgb(0, 164, 255)"
           ],
           [
            0.06274509803921569,
            "rgb(0, 158, 255)"
           ],
           [
            0.06666666666666667,
            "rgb(0, 152, 255)"
           ],
           [
            0.07058823529411765,
            "rgb(0, 146, 255)"
           ],
           [
            0.07450980392156863,
            "rgb(0, 140, 255)"
           ],
           [
            0.0784313725490196,
            "rgb(0, 134, 255)"
           ],
           [
            0.08235294117647059,
            "rgb(0, 128, 255)"
           ],
           [
            0.08627450980392157,
            "rgb(0, 122, 255)"
           ],
           [
            0.09019607843137255,
            "rgb(0, 116, 255)"
           ],
           [
            0.09411764705882353,
            "rgb(0, 110, 255)"
           ],
           [
            0.09803921568627451,
            "rgb(0, 104, 255)"
           ],
           [
            0.10196078431372549,
            "rgb(0, 98, 255)"
           ],
           [
            0.10588235294117647,
            "rgb(0, 92, 255)"
           ],
           [
            0.10980392156862745,
            "rgb(0, 86, 255)"
           ],
           [
            0.11372549019607843,
            "rgb(0, 80, 255)"
           ],
           [
            0.11764705882352941,
            "rgb(0, 74, 255)"
           ],
           [
            0.12156862745098039,
            "rgb(0, 68, 255)"
           ],
           [
            0.12549019607843137,
            "rgb(0, 62, 255)"
           ],
           [
            0.12941176470588237,
            "rgb(0, 56, 255)"
           ],
           [
            0.13333333333333333,
            "rgb(0, 50, 255)"
           ],
           [
            0.13725490196078433,
            "rgb(0, 44, 255)"
           ],
           [
            0.1411764705882353,
            "rgb(0, 38, 255)"
           ],
           [
            0.1450980392156863,
            "rgb(0, 32, 255)"
           ],
           [
            0.14901960784313725,
            "rgb(0, 26, 255)"
           ],
           [
            0.15294117647058825,
            "rgb(0, 20, 255)"
           ],
           [
            0.1568627450980392,
            "rgb(0, 14, 255)"
           ],
           [
            0.1607843137254902,
            "rgb(0, 8, 255)"
           ],
           [
            0.16470588235294117,
            "rgb(0, 2, 255)"
           ],
           [
            0.16862745098039217,
            "rgb(4, 0, 255)"
           ],
           [
            0.17254901960784313,
            "rgb(10, 0, 255)"
           ],
           [
            0.17647058823529413,
            "rgb(16, 0, 255)"
           ],
           [
            0.1803921568627451,
            "rgb(22, 0, 255)"
           ],
           [
            0.1843137254901961,
            "rgb(28, 0, 255)"
           ],
           [
            0.18823529411764706,
            "rgb(34, 0, 255)"
           ],
           [
            0.19215686274509805,
            "rgb(40, 0, 255)"
           ],
           [
            0.19607843137254902,
            "rgb(46, 0, 255)"
           ],
           [
            0.2,
            "rgb(52, 0, 255)"
           ],
           [
            0.20392156862745098,
            "rgb(58, 0, 255)"
           ],
           [
            0.20784313725490197,
            "rgb(64, 0, 255)"
           ],
           [
            0.21176470588235294,
            "rgb(70, 0, 255)"
           ],
           [
            0.21568627450980393,
            "rgb(76, 0, 255)"
           ],
           [
            0.2196078431372549,
            "rgb(82, 0, 255)"
           ],
           [
            0.2235294117647059,
            "rgb(88, 0, 255)"
           ],
           [
            0.22745098039215686,
            "rgb(94, 0, 255)"
           ],
           [
            0.23137254901960785,
            "rgb(100, 0, 255)"
           ],
           [
            0.23529411764705882,
            "rgb(106, 0, 255)"
           ],
           [
            0.23921568627450981,
            "rgb(112, 0, 255)"
           ],
           [
            0.24313725490196078,
            "rgb(118, 0, 255)"
           ],
           [
            0.24705882352941178,
            "rgb(124, 0, 255)"
           ],
           [
            0.25098039215686274,
            "rgb(130, 0, 255)"
           ],
           [
            0.2549019607843137,
            "rgb(136, 0, 255)"
           ],
           [
            0.25882352941176473,
            "rgb(142, 0, 255)"
           ],
           [
            0.2627450980392157,
            "rgb(148, 0, 255)"
           ],
           [
            0.26666666666666666,
            "rgb(154, 0, 255)"
           ],
           [
            0.27058823529411763,
            "rgb(160, 0, 255)"
           ],
           [
            0.27450980392156865,
            "rgb(166, 0, 255)"
           ],
           [
            0.2784313725490196,
            "rgb(172, 0, 255)"
           ],
           [
            0.2823529411764706,
            "rgb(178, 0, 255)"
           ],
           [
            0.28627450980392155,
            "rgb(184, 0, 255)"
           ],
           [
            0.2901960784313726,
            "rgb(190, 0, 255)"
           ],
           [
            0.29411764705882354,
            "rgb(196, 0, 255)"
           ],
           [
            0.2980392156862745,
            "rgb(202, 0, 255)"
           ],
           [
            0.30196078431372547,
            "rgb(208, 0, 255)"
           ],
           [
            0.3058823529411765,
            "rgb(214, 0, 255)"
           ],
           [
            0.30980392156862746,
            "rgb(220, 0, 255)"
           ],
           [
            0.3137254901960784,
            "rgb(226, 0, 255)"
           ],
           [
            0.3176470588235294,
            "rgb(232, 0, 255)"
           ],
           [
            0.3215686274509804,
            "rgb(238, 0, 255)"
           ],
           [
            0.3254901960784314,
            "rgb(244, 0, 255)"
           ],
           [
            0.32941176470588235,
            "rgb(250, 0, 255)"
           ],
           [
            0.3333333333333333,
            "rgb(255, 0, 252)"
           ],
           [
            0.33725490196078434,
            "rgb(255, 0, 246)"
           ],
           [
            0.3411764705882353,
            "rgb(255, 0, 240)"
           ],
           [
            0.34509803921568627,
            "rgb(255, 0, 234)"
           ],
           [
            0.34901960784313724,
            "rgb(255, 0, 228)"
           ],
           [
            0.35294117647058826,
            "rgb(255, 0, 222)"
           ],
           [
            0.3568627450980392,
            "rgb(255, 0, 216)"
           ],
           [
            0.3607843137254902,
            "rgb(255, 0, 210)"
           ],
           [
            0.36470588235294116,
            "rgb(255, 0, 204)"
           ],
           [
            0.3686274509803922,
            "rgb(255, 0, 198)"
           ],
           [
            0.37254901960784315,
            "rgb(255, 0, 192)"
           ],
           [
            0.3764705882352941,
            "rgb(255, 0, 186)"
           ],
           [
            0.3803921568627451,
            "rgb(255, 0, 180)"
           ],
           [
            0.3843137254901961,
            "rgb(255, 0, 174)"
           ],
           [
            0.38823529411764707,
            "rgb(255, 0, 168)"
           ],
           [
            0.39215686274509803,
            "rgb(255, 0, 162)"
           ],
           [
            0.396078431372549,
            "rgb(255, 0, 156)"
           ],
           [
            0.4,
            "rgb(255, 0, 150)"
           ],
           [
            0.403921568627451,
            "rgb(255, 0, 144)"
           ],
           [
            0.40784313725490196,
            "rgb(255, 0, 138)"
           ],
           [
            0.4117647058823529,
            "rgb(255, 0, 132)"
           ],
           [
            0.41568627450980394,
            "rgb(255, 0, 126)"
           ],
           [
            0.4196078431372549,
            "rgb(255, 0, 120)"
           ],
           [
            0.4235294117647059,
            "rgb(255, 0, 114)"
           ],
           [
            0.42745098039215684,
            "rgb(255, 0, 108)"
           ],
           [
            0.43137254901960786,
            "rgb(255, 0, 102)"
           ],
           [
            0.43529411764705883,
            "rgb(255, 0, 96)"
           ],
           [
            0.4392156862745098,
            "rgb(255, 0, 90)"
           ],
           [
            0.44313725490196076,
            "rgb(255, 0, 84)"
           ],
           [
            0.4470588235294118,
            "rgb(255, 0, 78)"
           ],
           [
            0.45098039215686275,
            "rgb(255, 0, 72)"
           ],
           [
            0.4549019607843137,
            "rgb(255, 0, 66)"
           ],
           [
            0.4588235294117647,
            "rgb(255, 0, 60)"
           ],
           [
            0.4627450980392157,
            "rgb(255, 0, 54)"
           ],
           [
            0.4666666666666667,
            "rgb(255, 0, 48)"
           ],
           [
            0.47058823529411764,
            "rgb(255, 0, 42)"
           ],
           [
            0.4745098039215686,
            "rgb(255, 0, 36)"
           ],
           [
            0.47843137254901963,
            "rgb(255, 0, 30)"
           ],
           [
            0.4823529411764706,
            "rgb(255, 0, 24)"
           ],
           [
            0.48627450980392156,
            "rgb(255, 0, 18)"
           ],
           [
            0.49019607843137253,
            "rgb(255, 0, 12)"
           ],
           [
            0.49411764705882355,
            "rgb(255, 0, 6)"
           ],
           [
            0.4980392156862745,
            "rgb(255, 0, 0)"
           ],
           [
            0.5019607843137255,
            "rgb(255, 0, 0)"
           ],
           [
            0.5058823529411764,
            "rgb(255, 6, 0)"
           ],
           [
            0.5098039215686274,
            "rgb(255, 12, 0)"
           ],
           [
            0.5137254901960784,
            "rgb(255, 18, 0)"
           ],
           [
            0.5176470588235295,
            "rgb(255, 24, 0)"
           ],
           [
            0.5215686274509804,
            "rgb(255, 30, 0)"
           ],
           [
            0.5254901960784314,
            "rgb(255, 36, 0)"
           ],
           [
            0.5294117647058824,
            "rgb(255, 42, 0)"
           ],
           [
            0.5333333333333333,
            "rgb(255, 48, 0)"
           ],
           [
            0.5372549019607843,
            "rgb(255, 54, 0)"
           ],
           [
            0.5411764705882353,
            "rgb(255, 60, 0)"
           ],
           [
            0.5450980392156862,
            "rgb(255, 66, 0)"
           ],
           [
            0.5490196078431373,
            "rgb(255, 72, 0)"
           ],
           [
            0.5529411764705883,
            "rgb(255, 78, 0)"
           ],
           [
            0.5568627450980392,
            "rgb(255, 84, 0)"
           ],
           [
            0.5607843137254902,
            "rgb(255, 90, 0)"
           ],
           [
            0.5647058823529412,
            "rgb(255, 96, 0)"
           ],
           [
            0.5686274509803921,
            "rgb(255, 102, 0)"
           ],
           [
            0.5725490196078431,
            "rgb(255, 108, 0)"
           ],
           [
            0.5764705882352941,
            "rgb(255, 114, 0)"
           ],
           [
            0.5803921568627451,
            "rgb(255, 120, 0)"
           ],
           [
            0.5843137254901961,
            "rgb(255, 126, 0)"
           ],
           [
            0.5882352941176471,
            "rgb(255, 132, 0)"
           ],
           [
            0.592156862745098,
            "rgb(255, 138, 0)"
           ],
           [
            0.596078431372549,
            "rgb(255, 144, 0)"
           ],
           [
            0.6,
            "rgb(255, 150, 0)"
           ],
           [
            0.6039215686274509,
            "rgb(255, 156, 0)"
           ],
           [
            0.6078431372549019,
            "rgb(255, 162, 0)"
           ],
           [
            0.611764705882353,
            "rgb(255, 168, 0)"
           ],
           [
            0.615686274509804,
            "rgb(255, 174, 0)"
           ],
           [
            0.6196078431372549,
            "rgb(255, 180, 0)"
           ],
           [
            0.6235294117647059,
            "rgb(255, 186, 0)"
           ],
           [
            0.6274509803921569,
            "rgb(255, 192, 0)"
           ],
           [
            0.6313725490196078,
            "rgb(255, 198, 0)"
           ],
           [
            0.6352941176470588,
            "rgb(255, 204, 0)"
           ],
           [
            0.6392156862745098,
            "rgb(255, 210, 0)"
           ],
           [
            0.6431372549019608,
            "rgb(255, 216, 0)"
           ],
           [
            0.6470588235294118,
            "rgb(255, 222, 0)"
           ],
           [
            0.6509803921568628,
            "rgb(255, 228, 0)"
           ],
           [
            0.6549019607843137,
            "rgb(255, 234, 0)"
           ],
           [
            0.6588235294117647,
            "rgb(255, 240, 0)"
           ],
           [
            0.6627450980392157,
            "rgb(255, 246, 0)"
           ],
           [
            0.6666666666666666,
            "rgb(255, 252, 0)"
           ],
           [
            0.6705882352941176,
            "rgb(250, 255, 0)"
           ],
           [
            0.6745098039215687,
            "rgb(244, 255, 0)"
           ],
           [
            0.6784313725490196,
            "rgb(238, 255, 0)"
           ],
           [
            0.6823529411764706,
            "rgb(232, 255, 0)"
           ],
           [
            0.6862745098039216,
            "rgb(226, 255, 0)"
           ],
           [
            0.6901960784313725,
            "rgb(220, 255, 0)"
           ],
           [
            0.6941176470588235,
            "rgb(214, 255, 0)"
           ],
           [
            0.6980392156862745,
            "rgb(208, 255, 0)"
           ],
           [
            0.7019607843137254,
            "rgb(202, 255, 0)"
           ],
           [
            0.7058823529411765,
            "rgb(196, 255, 0)"
           ],
           [
            0.7098039215686275,
            "rgb(190, 255, 0)"
           ],
           [
            0.7137254901960784,
            "rgb(184, 255, 0)"
           ],
           [
            0.7176470588235294,
            "rgb(178, 255, 0)"
           ],
           [
            0.7215686274509804,
            "rgb(172, 255, 0)"
           ],
           [
            0.7254901960784313,
            "rgb(166, 255, 0)"
           ],
           [
            0.7294117647058823,
            "rgb(160, 255, 0)"
           ],
           [
            0.7333333333333333,
            "rgb(154, 255, 0)"
           ],
           [
            0.7372549019607844,
            "rgb(148, 255, 0)"
           ],
           [
            0.7411764705882353,
            "rgb(142, 255, 0)"
           ],
           [
            0.7450980392156863,
            "rgb(136, 255, 0)"
           ],
           [
            0.7490196078431373,
            "rgb(130, 255, 0)"
           ],
           [
            0.7529411764705882,
            "rgb(124, 255, 0)"
           ],
           [
            0.7568627450980392,
            "rgb(118, 255, 0)"
           ],
           [
            0.7607843137254902,
            "rgb(112, 255, 0)"
           ],
           [
            0.7647058823529411,
            "rgb(106, 255, 0)"
           ],
           [
            0.7686274509803922,
            "rgb(100, 255, 0)"
           ],
           [
            0.7725490196078432,
            "rgb(94, 255, 0)"
           ],
           [
            0.7764705882352941,
            "rgb(88, 255, 0)"
           ],
           [
            0.7803921568627451,
            "rgb(82, 255, 0)"
           ],
           [
            0.7843137254901961,
            "rgb(76, 255, 0)"
           ],
           [
            0.788235294117647,
            "rgb(70, 255, 0)"
           ],
           [
            0.792156862745098,
            "rgb(64, 255, 0)"
           ],
           [
            0.796078431372549,
            "rgb(58, 255, 0)"
           ],
           [
            0.8,
            "rgb(52, 255, 0)"
           ],
           [
            0.803921568627451,
            "rgb(46, 255, 0)"
           ],
           [
            0.807843137254902,
            "rgb(40, 255, 0)"
           ],
           [
            0.8117647058823529,
            "rgb(34, 255, 0)"
           ],
           [
            0.8156862745098039,
            "rgb(28, 255, 0)"
           ],
           [
            0.8196078431372549,
            "rgb(22, 255, 0)"
           ],
           [
            0.8235294117647058,
            "rgb(16, 255, 0)"
           ],
           [
            0.8274509803921568,
            "rgb(10, 255, 0)"
           ],
           [
            0.8313725490196079,
            "rgb(4, 255, 0)"
           ],
           [
            0.8352941176470589,
            "rgb(0, 255, 2)"
           ],
           [
            0.8392156862745098,
            "rgb(0, 255, 8)"
           ],
           [
            0.8431372549019608,
            "rgb(0, 255, 14)"
           ],
           [
            0.8470588235294118,
            "rgb(0, 255, 20)"
           ],
           [
            0.8509803921568627,
            "rgb(0, 255, 26)"
           ],
           [
            0.8549019607843137,
            "rgb(0, 255, 32)"
           ],
           [
            0.8588235294117647,
            "rgb(0, 255, 38)"
           ],
           [
            0.8627450980392157,
            "rgb(0, 255, 44)"
           ],
           [
            0.8666666666666667,
            "rgb(0, 255, 50)"
           ],
           [
            0.8705882352941177,
            "rgb(0, 255, 56)"
           ],
           [
            0.8745098039215686,
            "rgb(0, 255, 62)"
           ],
           [
            0.8784313725490196,
            "rgb(0, 255, 68)"
           ],
           [
            0.8823529411764706,
            "rgb(0, 255, 74)"
           ],
           [
            0.8862745098039215,
            "rgb(0, 255, 80)"
           ],
           [
            0.8901960784313725,
            "rgb(0, 255, 86)"
           ],
           [
            0.8941176470588236,
            "rgb(0, 255, 92)"
           ],
           [
            0.8980392156862745,
            "rgb(0, 255, 98)"
           ],
           [
            0.9019607843137255,
            "rgb(0, 255, 104)"
           ],
           [
            0.9058823529411765,
            "rgb(0, 255, 110)"
           ],
           [
            0.9098039215686274,
            "rgb(0, 255, 116)"
           ],
           [
            0.9137254901960784,
            "rgb(0, 255, 122)"
           ],
           [
            0.9176470588235294,
            "rgb(0, 255, 128)"
           ],
           [
            0.9215686274509803,
            "rgb(0, 255, 134)"
           ],
           [
            0.9254901960784314,
            "rgb(0, 255, 140)"
           ],
           [
            0.9294117647058824,
            "rgb(0, 255, 146)"
           ],
           [
            0.9333333333333333,
            "rgb(0, 255, 152)"
           ],
           [
            0.9372549019607843,
            "rgb(0, 255, 158)"
           ],
           [
            0.9411764705882353,
            "rgb(0, 255, 164)"
           ],
           [
            0.9450980392156862,
            "rgb(0, 255, 170)"
           ],
           [
            0.9490196078431372,
            "rgb(0, 255, 176)"
           ],
           [
            0.9529411764705882,
            "rgb(0, 255, 182)"
           ],
           [
            0.9568627450980393,
            "rgb(0, 255, 188)"
           ],
           [
            0.9607843137254902,
            "rgb(0, 255, 194)"
           ],
           [
            0.9647058823529412,
            "rgb(0, 255, 200)"
           ],
           [
            0.9686274509803922,
            "rgb(0, 255, 206)"
           ],
           [
            0.9725490196078431,
            "rgb(0, 255, 212)"
           ],
           [
            0.9764705882352941,
            "rgb(0, 255, 218)"
           ],
           [
            0.9803921568627451,
            "rgb(0, 255, 224)"
           ],
           [
            0.984313725490196,
            "rgb(0, 255, 230)"
           ],
           [
            0.9882352941176471,
            "rgb(0, 255, 236)"
           ],
           [
            0.9921568627450981,
            "rgb(0, 255, 242)"
           ],
           [
            0.996078431372549,
            "rgb(0, 255, 248)"
           ],
           [
            1,
            "rgb(0, 255, 255)"
           ]
          ]
         },
         "mode": "markers",
         "showlegend": false,
         "type": "scatter",
         "x": [
          null
         ],
         "y": [
          null
         ]
        }
       ],
       "layout": {
        "template": {
         "data": {
          "bar": [
           {
            "error_x": {
             "color": "#2a3f5f"
            },
            "error_y": {
             "color": "#2a3f5f"
            },
            "marker": {
             "line": {
              "color": "#E5ECF6",
              "width": 0.5
             },
             "pattern": {
              "fillmode": "overlay",
              "size": 10,
              "solidity": 0.2
             }
            },
            "type": "bar"
           }
          ],
          "barpolar": [
           {
            "marker": {
             "line": {
              "color": "#E5ECF6",
              "width": 0.5
             },
             "pattern": {
              "fillmode": "overlay",
              "size": 10,
              "solidity": 0.2
             }
            },
            "type": "barpolar"
           }
          ],
          "carpet": [
           {
            "aaxis": {
             "endlinecolor": "#2a3f5f",
             "gridcolor": "white",
             "linecolor": "white",
             "minorgridcolor": "white",
             "startlinecolor": "#2a3f5f"
            },
            "baxis": {
             "endlinecolor": "#2a3f5f",
             "gridcolor": "white",
             "linecolor": "white",
             "minorgridcolor": "white",
             "startlinecolor": "#2a3f5f"
            },
            "type": "carpet"
           }
          ],
          "choropleth": [
           {
            "colorbar": {
             "outlinewidth": 0,
             "ticks": ""
            },
            "type": "choropleth"
           }
          ],
          "contour": [
           {
            "colorbar": {
             "outlinewidth": 0,
             "ticks": ""
            },
            "colorscale": [
             [
              0,
              "#0d0887"
             ],
             [
              0.1111111111111111,
              "#46039f"
             ],
             [
              0.2222222222222222,
              "#7201a8"
             ],
             [
              0.3333333333333333,
              "#9c179e"
             ],
             [
              0.4444444444444444,
              "#bd3786"
             ],
             [
              0.5555555555555556,
              "#d8576b"
             ],
             [
              0.6666666666666666,
              "#ed7953"
             ],
             [
              0.7777777777777778,
              "#fb9f3a"
             ],
             [
              0.8888888888888888,
              "#fdca26"
             ],
             [
              1,
              "#f0f921"
             ]
            ],
            "type": "contour"
           }
          ],
          "contourcarpet": [
           {
            "colorbar": {
             "outlinewidth": 0,
             "ticks": ""
            },
            "type": "contourcarpet"
           }
          ],
          "heatmap": [
           {
            "colorbar": {
             "outlinewidth": 0,
             "ticks": ""
            },
            "colorscale": [
             [
              0,
              "#0d0887"
             ],
             [
              0.1111111111111111,
              "#46039f"
             ],
             [
              0.2222222222222222,
              "#7201a8"
             ],
             [
              0.3333333333333333,
              "#9c179e"
             ],
             [
              0.4444444444444444,
              "#bd3786"
             ],
             [
              0.5555555555555556,
              "#d8576b"
             ],
             [
              0.6666666666666666,
              "#ed7953"
             ],
             [
              0.7777777777777778,
              "#fb9f3a"
             ],
             [
              0.8888888888888888,
              "#fdca26"
             ],
             [
              1,
              "#f0f921"
             ]
            ],
            "type": "heatmap"
           }
          ],
          "heatmapgl": [
           {
            "colorbar": {
             "outlinewidth": 0,
             "ticks": ""
            },
            "colorscale": [
             [
              0,
              "#0d0887"
             ],
             [
              0.1111111111111111,
              "#46039f"
             ],
             [
              0.2222222222222222,
              "#7201a8"
             ],
             [
              0.3333333333333333,
              "#9c179e"
             ],
             [
              0.4444444444444444,
              "#bd3786"
             ],
             [
              0.5555555555555556,
              "#d8576b"
             ],
             [
              0.6666666666666666,
              "#ed7953"
             ],
             [
              0.7777777777777778,
              "#fb9f3a"
             ],
             [
              0.8888888888888888,
              "#fdca26"
             ],
             [
              1,
              "#f0f921"
             ]
            ],
            "type": "heatmapgl"
           }
          ],
          "histogram": [
           {
            "marker": {
             "pattern": {
              "fillmode": "overlay",
              "size": 10,
              "solidity": 0.2
             }
            },
            "type": "histogram"
           }
          ],
          "histogram2d": [
           {
            "colorbar": {
             "outlinewidth": 0,
             "ticks": ""
            },
            "colorscale": [
             [
              0,
              "#0d0887"
             ],
             [
              0.1111111111111111,
              "#46039f"
             ],
             [
              0.2222222222222222,
              "#7201a8"
             ],
             [
              0.3333333333333333,
              "#9c179e"
             ],
             [
              0.4444444444444444,
              "#bd3786"
             ],
             [
              0.5555555555555556,
              "#d8576b"
             ],
             [
              0.6666666666666666,
              "#ed7953"
             ],
             [
              0.7777777777777778,
              "#fb9f3a"
             ],
             [
              0.8888888888888888,
              "#fdca26"
             ],
             [
              1,
              "#f0f921"
             ]
            ],
            "type": "histogram2d"
           }
          ],
          "histogram2dcontour": [
           {
            "colorbar": {
             "outlinewidth": 0,
             "ticks": ""
            },
            "colorscale": [
             [
              0,
              "#0d0887"
             ],
             [
              0.1111111111111111,
              "#46039f"
             ],
             [
              0.2222222222222222,
              "#7201a8"
             ],
             [
              0.3333333333333333,
              "#9c179e"
             ],
             [
              0.4444444444444444,
              "#bd3786"
             ],
             [
              0.5555555555555556,
              "#d8576b"
             ],
             [
              0.6666666666666666,
              "#ed7953"
             ],
             [
              0.7777777777777778,
              "#fb9f3a"
             ],
             [
              0.8888888888888888,
              "#fdca26"
             ],
             [
              1,
              "#f0f921"
             ]
            ],
            "type": "histogram2dcontour"
           }
          ],
          "mesh3d": [
           {
            "colorbar": {
             "outlinewidth": 0,
             "ticks": ""
            },
            "type": "mesh3d"
           }
          ],
          "parcoords": [
           {
            "line": {
             "colorbar": {
              "outlinewidth": 0,
              "ticks": ""
             }
            },
            "type": "parcoords"
           }
          ],
          "pie": [
           {
            "automargin": true,
            "type": "pie"
           }
          ],
          "scatter": [
           {
            "fillpattern": {
             "fillmode": "overlay",
             "size": 10,
             "solidity": 0.2
            },
            "type": "scatter"
           }
          ],
          "scatter3d": [
           {
            "line": {
             "colorbar": {
              "outlinewidth": 0,
              "ticks": ""
             }
            },
            "marker": {
             "colorbar": {
              "outlinewidth": 0,
              "ticks": ""
             }
            },
            "type": "scatter3d"
           }
          ],
          "scattercarpet": [
           {
            "marker": {
             "colorbar": {
              "outlinewidth": 0,
              "ticks": ""
             }
            },
            "type": "scattercarpet"
           }
          ],
          "scattergeo": [
           {
            "marker": {
             "colorbar": {
              "outlinewidth": 0,
              "ticks": ""
             }
            },
            "type": "scattergeo"
           }
          ],
          "scattergl": [
           {
            "marker": {
             "colorbar": {
              "outlinewidth": 0,
              "ticks": ""
             }
            },
            "type": "scattergl"
           }
          ],
          "scattermapbox": [
           {
            "marker": {
             "colorbar": {
              "outlinewidth": 0,
              "ticks": ""
             }
            },
            "type": "scattermapbox"
           }
          ],
          "scatterpolar": [
           {
            "marker": {
             "colorbar": {
              "outlinewidth": 0,
              "ticks": ""
             }
            },
            "type": "scatterpolar"
           }
          ],
          "scatterpolargl": [
           {
            "marker": {
             "colorbar": {
              "outlinewidth": 0,
              "ticks": ""
             }
            },
            "type": "scatterpolargl"
           }
          ],
          "scatterternary": [
           {
            "marker": {
             "colorbar": {
              "outlinewidth": 0,
              "ticks": ""
             }
            },
            "type": "scatterternary"
           }
          ],
          "surface": [
           {
            "colorbar": {
             "outlinewidth": 0,
             "ticks": ""
            },
            "colorscale": [
             [
              0,
              "#0d0887"
             ],
             [
              0.1111111111111111,
              "#46039f"
             ],
             [
              0.2222222222222222,
              "#7201a8"
             ],
             [
              0.3333333333333333,
              "#9c179e"
             ],
             [
              0.4444444444444444,
              "#bd3786"
             ],
             [
              0.5555555555555556,
              "#d8576b"
             ],
             [
              0.6666666666666666,
              "#ed7953"
             ],
             [
              0.7777777777777778,
              "#fb9f3a"
             ],
             [
              0.8888888888888888,
              "#fdca26"
             ],
             [
              1,
              "#f0f921"
             ]
            ],
            "type": "surface"
           }
          ],
          "table": [
           {
            "cells": {
             "fill": {
              "color": "#EBF0F8"
             },
             "line": {
              "color": "white"
             }
            },
            "header": {
             "fill": {
              "color": "#C8D4E3"
             },
             "line": {
              "color": "white"
             }
            },
            "type": "table"
           }
          ]
         },
         "layout": {
          "annotationdefaults": {
           "arrowcolor": "#2a3f5f",
           "arrowhead": 0,
           "arrowwidth": 1
          },
          "autotypenumbers": "strict",
          "coloraxis": {
           "colorbar": {
            "outlinewidth": 0,
            "ticks": ""
           }
          },
          "colorscale": {
           "diverging": [
            [
             0,
             "#8e0152"
            ],
            [
             0.1,
             "#c51b7d"
            ],
            [
             0.2,
             "#de77ae"
            ],
            [
             0.3,
             "#f1b6da"
            ],
            [
             0.4,
             "#fde0ef"
            ],
            [
             0.5,
             "#f7f7f7"
            ],
            [
             0.6,
             "#e6f5d0"
            ],
            [
             0.7,
             "#b8e186"
            ],
            [
             0.8,
             "#7fbc41"
            ],
            [
             0.9,
             "#4d9221"
            ],
            [
             1,
             "#276419"
            ]
           ],
           "sequential": [
            [
             0,
             "#0d0887"
            ],
            [
             0.1111111111111111,
             "#46039f"
            ],
            [
             0.2222222222222222,
             "#7201a8"
            ],
            [
             0.3333333333333333,
             "#9c179e"
            ],
            [
             0.4444444444444444,
             "#bd3786"
            ],
            [
             0.5555555555555556,
             "#d8576b"
            ],
            [
             0.6666666666666666,
             "#ed7953"
            ],
            [
             0.7777777777777778,
             "#fb9f3a"
            ],
            [
             0.8888888888888888,
             "#fdca26"
            ],
            [
             1,
             "#f0f921"
            ]
           ],
           "sequentialminus": [
            [
             0,
             "#0d0887"
            ],
            [
             0.1111111111111111,
             "#46039f"
            ],
            [
             0.2222222222222222,
             "#7201a8"
            ],
            [
             0.3333333333333333,
             "#9c179e"
            ],
            [
             0.4444444444444444,
             "#bd3786"
            ],
            [
             0.5555555555555556,
             "#d8576b"
            ],
            [
             0.6666666666666666,
             "#ed7953"
            ],
            [
             0.7777777777777778,
             "#fb9f3a"
            ],
            [
             0.8888888888888888,
             "#fdca26"
            ],
            [
             1,
             "#f0f921"
            ]
           ]
          },
          "colorway": [
           "#636efa",
           "#EF553B",
           "#00cc96",
           "#ab63fa",
           "#FFA15A",
           "#19d3f3",
           "#FF6692",
           "#B6E880",
           "#FF97FF",
           "#FECB52"
          ],
          "font": {
           "color": "#2a3f5f"
          },
          "geo": {
           "bgcolor": "white",
           "lakecolor": "white",
           "landcolor": "#E5ECF6",
           "showlakes": true,
           "showland": true,
           "subunitcolor": "white"
          },
          "hoverlabel": {
           "align": "left"
          },
          "hovermode": "closest",
          "mapbox": {
           "style": "light"
          },
          "paper_bgcolor": "white",
          "plot_bgcolor": "#E5ECF6",
          "polar": {
           "angularaxis": {
            "gridcolor": "white",
            "linecolor": "white",
            "ticks": ""
           },
           "bgcolor": "#E5ECF6",
           "radialaxis": {
            "gridcolor": "white",
            "linecolor": "white",
            "ticks": ""
           }
          },
          "scene": {
           "xaxis": {
            "backgroundcolor": "#E5ECF6",
            "gridcolor": "white",
            "gridwidth": 2,
            "linecolor": "white",
            "showbackground": true,
            "ticks": "",
            "zerolinecolor": "white"
           },
           "yaxis": {
            "backgroundcolor": "#E5ECF6",
            "gridcolor": "white",
            "gridwidth": 2,
            "linecolor": "white",
            "showbackground": true,
            "ticks": "",
            "zerolinecolor": "white"
           },
           "zaxis": {
            "backgroundcolor": "#E5ECF6",
            "gridcolor": "white",
            "gridwidth": 2,
            "linecolor": "white",
            "showbackground": true,
            "ticks": "",
            "zerolinecolor": "white"
           }
          },
          "shapedefaults": {
           "line": {
            "color": "#2a3f5f"
           }
          },
          "ternary": {
           "aaxis": {
            "gridcolor": "white",
            "linecolor": "white",
            "ticks": ""
           },
           "baxis": {
            "gridcolor": "white",
            "linecolor": "white",
            "ticks": ""
           },
           "bgcolor": "#E5ECF6",
           "caxis": {
            "gridcolor": "white",
            "linecolor": "white",
            "ticks": ""
           }
          },
          "title": {
           "x": 0.05
          },
          "xaxis": {
           "automargin": true,
           "gridcolor": "white",
           "linecolor": "white",
           "ticks": "",
           "title": {
            "standoff": 15
           },
           "zerolinecolor": "white",
           "zerolinewidth": 2
          },
          "yaxis": {
           "automargin": true,
           "gridcolor": "white",
           "linecolor": "white",
           "ticks": "",
           "title": {
            "standoff": 15
           },
           "zerolinecolor": "white",
           "zerolinewidth": 2
          }
         }
        },
        "xaxis": {
         "anchor": "y",
         "domain": [
          0,
          1
         ],
         "range": [
          -5,
          5
         ],
         "showgrid": true,
         "title": {
          "text": "kx/(2π/a₀)"
         }
        },
        "yaxis": {
         "anchor": "x",
         "domain": [
          0,
          1
         ],
         "showgrid": true
        }
       }
      }
     },
     "metadata": {},
     "output_type": "display_data"
    }
   ],
   "source": [
    "qm.plot_complex_field(qm.psi_f, fourier=True)[0]"
   ]
  },
  {
   "cell_type": "code",
   "execution_count": 19,
   "metadata": {},
   "outputs": [
    {
     "data": {
      "text/plain": [
       "1.0"
      ]
     },
     "execution_count": 19,
     "metadata": {},
     "output_type": "execute_result"
    }
   ],
   "source": [
    "import numpy as np\n",
    "dk = qm.k[0][1]-qm.k[0][0]\n",
    "np.sum(np.abs(qm.psi_f/(qm.xRes*dk))**2)*dk*2*np.pi"
   ]
  },
  {
   "cell_type": "code",
   "execution_count": null,
   "metadata": {},
   "outputs": [],
   "source": []
  }
 ],
 "metadata": {
  "kernelspec": {
   "display_name": "venv",
   "language": "python",
   "name": "python3"
  },
  "language_info": {
   "codemirror_mode": {
    "name": "ipython",
    "version": 3
   },
   "file_extension": ".py",
   "mimetype": "text/x-python",
   "name": "python",
   "nbconvert_exporter": "python",
   "pygments_lexer": "ipython3",
   "version": "3.11.9"
  }
 },
 "nbformat": 4,
 "nbformat_minor": 2
}
