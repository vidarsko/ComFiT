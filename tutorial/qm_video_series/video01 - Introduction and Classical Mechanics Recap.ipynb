{
 "cells": [
  {
   "cell_type": "markdown",
   "metadata": {},
   "source": [
    "# Video 1: Introduction and Classical Mechanics Recap"
   ]
  },
  {
   "cell_type": "markdown",
   "metadata": {},
   "source": [
    "Content: \n",
    "- Introduction to the course\n",
    "- Classical mechanics\n",
    "    - Determinism\n"
   ]
  },
  {
   "cell_type": "markdown",
   "metadata": {},
   "source": []
  },
  {
   "cell_type": "code",
   "execution_count": 1,
   "metadata": {},
   "outputs": [
    {
     "name": "stderr",
     "output_type": "stream",
     "text": [
      "c:\\users\\vidar\\desktop\\comfit\\comfit\\core\\base_system_init.py:9: SyntaxWarning: invalid escape sequence '\\*'\n",
      "  \"\"\"Initialize the class with the given parameters.\n",
      "c:\\users\\vidar\\desktop\\comfit\\comfit\\core\\base_system_plot.py:177: SyntaxWarning: invalid escape sequence '\\*'\n",
      "  \"\"\"Check if the field is in Fourier space and adjust it if necessary.\n",
      "c:\\users\\vidar\\desktop\\comfit\\comfit\\core\\base_system_plot.py:239: SyntaxWarning: invalid escape sequence '\\*'\n",
      "  \"\"\"Plot a field.\n",
      "c:\\users\\vidar\\desktop\\comfit\\comfit\\core\\base_system_plot.py:277: SyntaxWarning: invalid escape sequence '\\*'\n",
      "  \"\"\"Plot a complex field.\n",
      "c:\\users\\vidar\\desktop\\comfit\\comfit\\core\\base_system_plot.py:316: SyntaxWarning: invalid escape sequence '\\*'\n",
      "  \"\"\"Plot an angle field.\n",
      "c:\\users\\vidar\\desktop\\comfit\\comfit\\core\\base_system_plot.py:357: SyntaxWarning: invalid escape sequence '\\*'\n",
      "  \"\"\"Plot a vector field.\n",
      "c:\\users\\vidar\\desktop\\comfit\\comfit\\core\\base_system_plot.py:399: SyntaxWarning: invalid escape sequence '\\*'\n",
      "  \"\"\"Plot the field in a plane.\n",
      "c:\\users\\vidar\\desktop\\comfit\\comfit\\core\\base_system_plot.py:449: SyntaxWarning: invalid escape sequence '\\*'\n",
      "  \"\"\"Plot the complex field in a plane.\n",
      "c:\\users\\vidar\\desktop\\comfit\\comfit\\core\\base_system_plot.py:500: SyntaxWarning: invalid escape sequence '\\*'\n",
      "  \"\"\"Plot the angle field in a plane.\n",
      "c:\\users\\vidar\\desktop\\comfit\\comfit\\core\\base_system_plot.py:546: SyntaxWarning: invalid escape sequence '\\*'\n",
      "  \"\"\"Plot the vector field in a plane.\n",
      "c:\\users\\vidar\\desktop\\comfit\\comfit\\core\\base_system_plot.py:590: SyntaxWarning: invalid escape sequence '\\*'\n",
      "  \"\"\"Plot nodes.\n",
      "c:\\users\\vidar\\desktop\\comfit\\comfit\\core\\base_system_plot.py:661: SyntaxWarning: invalid escape sequence '\\*'\n",
      "  \"\"\"Save a figure.\n",
      "c:\\users\\vidar\\desktop\\comfit\\comfit\\plot\\plot_field_plotly.py:29: SyntaxWarning: invalid escape sequence '\\*'\n",
      "  \"\"\"Plot the given (real) field using Plotly.\n",
      "c:\\users\\vidar\\desktop\\comfit\\comfit\\plot\\plot_complex_field_matplotlib.py:29: SyntaxWarning: invalid escape sequence '\\*'\n",
      "  \"\"\"Plot a complex field using matplotlib.\n",
      "c:\\users\\vidar\\desktop\\comfit\\comfit\\plot\\plot_complex_field_plotly.py:32: SyntaxWarning: invalid escape sequence '\\*'\n",
      "  \"\"\"Plot a complex field using Plotly.\n"
     ]
    }
   ],
   "source": [
    "import comfit as cf"
   ]
  },
  {
   "cell_type": "code",
   "execution_count": 2,
   "metadata": {},
   "outputs": [],
   "source": [
    "import comfit as cf\n",
    "import numpy as np\n",
    "import scipy as sp\n",
    "\n",
    "class WaveEquation(cf.BaseSystem):\n",
    "    def __init__(self, dim, wave_speed, **kwargs):\n",
    "        \"\"\"Initialize the WaveEquation system with wave speed c.\"\"\"\n",
    "        self.c = wave_speed  # Wave speed\n",
    "        super().__init__(dim, **kwargs)\n",
    "\n",
    "        self.psi = np.zeros((2,) + self.dims)\n",
    "        self.psi_f = np.zeros((2,) + self.dims, dtype=complex)\n",
    "\n",
    "    def conf_initial_state(self, psi):\n",
    "        self.psi[0] = psi[0]\n",
    "        self.psi[1] = psi[1]\n",
    "        self.psi_f = self.fft(self.psi)\n",
    "\n",
    "    def calc_omega_f(self):\n",
    "        \"\"\"Calculate the dispersion relation for the wave equation.\"\"\"\n",
    "        k2 = self.calc_k2()  # k^2 from ComFiT (sum of k[i]^2)\n",
    "        return np.zeros((2,) + self.dims)\n",
    "    \n",
    "    def calc_nonlinear_evolution_function_f(self, field, t):\n",
    "        N0_f = self.fft(self.psi[1])\n",
    "        N1_f = -self.c**2*self.calc_k2()*self.psi_f[0]\n",
    "        return np.array([N0_f, N1_f])\n",
    "\n",
    "    def evolve(self, number_steps):\n",
    "        omega_f = self.calc_omega_f()\n",
    "\n",
    "        integrating_factors_f, solver = self.calc_integrating_factors_f_and_solver(omega_f, 'ETD4RK')\n",
    "\n",
    "        for n in range(number_steps):\n",
    "            self.psi, self.psi_f = solver(integrating_factors_f, \n",
    "                                        self.calc_nonlinear_evolution_function_f, \n",
    "                                        self.psi, self.psi_f)\n",
    "            self.psi = np.real(self.psi)"
   ]
  },
  {
   "cell_type": "code",
   "execution_count": 3,
   "metadata": {},
   "outputs": [],
   "source": [
    "we = WaveEquation(1, 1, dt=0.005)\n",
    "we.conf_initial_state([we.calc_Gaussian(position=75, width=5, top=1), np.zeros(we.dims)])\n",
    "\n",
    "for i in range(100):\n",
    "    we.evolve(200)\n",
    "    fig,ax = we.plot_field(we.psi[0], ylim=[-1,1])\n",
    "    we.plot_save(fig,i)\n",
    "cf.tool_make_animation_gif(i, name='Initial Gaussian periodic BCS')"
   ]
  },
  {
   "cell_type": "markdown",
   "metadata": {},
   "source": [
    "Now bound states"
   ]
  },
  {
   "cell_type": "code",
   "execution_count": 4,
   "metadata": {},
   "outputs": [],
   "source": [
    "def evolve(self, number_steps):\n",
    "    omega_f = self.calc_omega_f()\n",
    "\n",
    "    integrating_factors_f, solver = self.calc_integrating_factors_f_and_solver(omega_f, 'ETD4RK')\n",
    "\n",
    "    for n in range(number_steps):\n",
    "        self.psi, self.psi_f = solver(integrating_factors_f, \n",
    "                                    self.calc_nonlinear_evolution_function_f, \n",
    "                                    self.psi, self.psi_f)\n",
    "        self.psi = np.real(self.psi)\n",
    "        self.psi[0][0] = 0 # Enforce boundary condition\n",
    "        self.psi_f = self.fft(self.psi)\n",
    "\n",
    "WaveEquation.evolve = evolve\n",
    "        "
   ]
  },
  {
   "cell_type": "code",
   "execution_count": 5,
   "metadata": {},
   "outputs": [],
   "source": [
    "we = WaveEquation(1, 1, dt=0.005)\n",
    "we.conf_initial_state([we.calc_Gaussian(width=5, position=75, top=1), np.zeros(we.dims)])\n",
    "\n",
    "for i in range(100):\n",
    "    we.evolve(400)\n",
    "    fig,ax = we.plot_field(we.psi[0], ylim=[-1,1])\n",
    "    we.plot_save(fig,i)\n",
    "cf.tool_make_animation_gif(i, name='Initial Gaussian - zero BCS')"
   ]
  },
  {
   "cell_type": "code",
   "execution_count": 6,
   "metadata": {},
   "outputs": [
    {
     "data": {
      "application/vnd.plotly.v1+json": {
       "config": {
        "plotlyServerURL": "https://plot.ly"
       },
       "data": [
        {
         "hovertemplate": "x/a₀: %{x:.2f}<br>field: %{y:.2e}",
         "mode": "lines",
         "name": "",
         "showlegend": false,
         "type": "scatter",
         "x": [
          0,
          1,
          2,
          3,
          4,
          5,
          6,
          7,
          8,
          9,
          10,
          11,
          12,
          13,
          14,
          15,
          16,
          17,
          18,
          19,
          20,
          21,
          22,
          23,
          24,
          25,
          26,
          27,
          28,
          29,
          30,
          31,
          32,
          33,
          34,
          35,
          36,
          37,
          38,
          39,
          40,
          41,
          42,
          43,
          44,
          45,
          46,
          47,
          48,
          49,
          50,
          51,
          52,
          53,
          54,
          55,
          56,
          57,
          58,
          59,
          60,
          61,
          62,
          63,
          64,
          65,
          66,
          67,
          68,
          69,
          70,
          71,
          72,
          73,
          74,
          75,
          76,
          77,
          78,
          79,
          80,
          81,
          82,
          83,
          84,
          85,
          86,
          87,
          88,
          89,
          90,
          91,
          92,
          93,
          94,
          95,
          96,
          97,
          98,
          99,
          100
         ],
         "xaxis": "x",
         "y": [
          0,
          0.031099862269836916,
          0.062169637431480525,
          0.09317926748407156,
          0.12409875261325934,
          0.15489818021408466,
          0.18554775382949326,
          0.2160178219764835,
          0.24627890683200135,
          0.27630173275083025,
          0.3060572545878873,
          0.3355166857975249,
          0.3646515262826552,
          0.3934335899667524,
          0.42183503206206224,
          0.4498283760076358,
          0.477386540051127,
          0.5044828634486398,
          0.531091132257275,
          0.5571856046954285,
          0.5827410360463009,
          0.6077327030805316,
          0.6321364279743263,
          0.6559286016999399,
          0.6790862068658859,
          0.7015868399847767,
          0.7234087331472498,
          0.7445307750810152,
          0.7649325315746476,
          0.784594265246366,
          0.8034969546386757,
          0.8216223126204005,
          0.8389528040783012,
          0.8554716628811638,
          0.8711629080999505,
          0.8860113594683148,
          0.90000265206853,
          0.9131232502286188,
          0.9253604606172415,
          0.936702444523675,
          0.9471382293110001,
          0.9566577190314196,
          0.9652517041934356,
          0.9729118706714374,
          0.9796308077490816,
          0.9854020152886813,
          0.9902199100196695,
          0.9940798309400526,
          0.9969780438256293,
          0.9989117448426108,
          0.9998790632601495,
          0.9998790632601495,
          0.9989117448426108,
          0.9969780438256293,
          0.9940798309400526,
          0.9902199100196695,
          0.9854020152886813,
          0.9796308077490817,
          0.9729118706714375,
          0.9652517041934356,
          0.9566577190314197,
          0.9471382293110001,
          0.9367024445236751,
          0.9253604606172415,
          0.9131232502286188,
          0.90000265206853,
          0.8860113594683148,
          0.8711629080999506,
          0.8554716628811638,
          0.8389528040783013,
          0.8216223126204008,
          0.8034969546386757,
          0.7845942652463661,
          0.7649325315746477,
          0.7445307750810152,
          0.7234087331472498,
          0.7015868399847767,
          0.6790862068658858,
          0.65592860169994,
          0.6321364279743265,
          0.607732703080532,
          0.582741036046301,
          0.5571856046954289,
          0.5310911322572749,
          0.5044828634486398,
          0.477386540051127,
          0.44982837600763603,
          0.42183503206206235,
          0.3934335899667527,
          0.36465152628265496,
          0.335516685797525,
          0.3060572545878877,
          0.2763017327508305,
          0.24627890683200182,
          0.2160178219764834,
          0.18554775382949343,
          0.1548981802140847,
          0.12409875261325964,
          0.09317926748407171,
          0.062169637431480525,
          0.031099862269836753
         ],
         "yaxis": "y"
        }
       ],
       "layout": {
        "template": {
         "data": {
          "bar": [
           {
            "error_x": {
             "color": "#2a3f5f"
            },
            "error_y": {
             "color": "#2a3f5f"
            },
            "marker": {
             "line": {
              "color": "#E5ECF6",
              "width": 0.5
             },
             "pattern": {
              "fillmode": "overlay",
              "size": 10,
              "solidity": 0.2
             }
            },
            "type": "bar"
           }
          ],
          "barpolar": [
           {
            "marker": {
             "line": {
              "color": "#E5ECF6",
              "width": 0.5
             },
             "pattern": {
              "fillmode": "overlay",
              "size": 10,
              "solidity": 0.2
             }
            },
            "type": "barpolar"
           }
          ],
          "carpet": [
           {
            "aaxis": {
             "endlinecolor": "#2a3f5f",
             "gridcolor": "white",
             "linecolor": "white",
             "minorgridcolor": "white",
             "startlinecolor": "#2a3f5f"
            },
            "baxis": {
             "endlinecolor": "#2a3f5f",
             "gridcolor": "white",
             "linecolor": "white",
             "minorgridcolor": "white",
             "startlinecolor": "#2a3f5f"
            },
            "type": "carpet"
           }
          ],
          "choropleth": [
           {
            "colorbar": {
             "outlinewidth": 0,
             "ticks": ""
            },
            "type": "choropleth"
           }
          ],
          "contour": [
           {
            "colorbar": {
             "outlinewidth": 0,
             "ticks": ""
            },
            "colorscale": [
             [
              0,
              "#0d0887"
             ],
             [
              0.1111111111111111,
              "#46039f"
             ],
             [
              0.2222222222222222,
              "#7201a8"
             ],
             [
              0.3333333333333333,
              "#9c179e"
             ],
             [
              0.4444444444444444,
              "#bd3786"
             ],
             [
              0.5555555555555556,
              "#d8576b"
             ],
             [
              0.6666666666666666,
              "#ed7953"
             ],
             [
              0.7777777777777778,
              "#fb9f3a"
             ],
             [
              0.8888888888888888,
              "#fdca26"
             ],
             [
              1,
              "#f0f921"
             ]
            ],
            "type": "contour"
           }
          ],
          "contourcarpet": [
           {
            "colorbar": {
             "outlinewidth": 0,
             "ticks": ""
            },
            "type": "contourcarpet"
           }
          ],
          "heatmap": [
           {
            "colorbar": {
             "outlinewidth": 0,
             "ticks": ""
            },
            "colorscale": [
             [
              0,
              "#0d0887"
             ],
             [
              0.1111111111111111,
              "#46039f"
             ],
             [
              0.2222222222222222,
              "#7201a8"
             ],
             [
              0.3333333333333333,
              "#9c179e"
             ],
             [
              0.4444444444444444,
              "#bd3786"
             ],
             [
              0.5555555555555556,
              "#d8576b"
             ],
             [
              0.6666666666666666,
              "#ed7953"
             ],
             [
              0.7777777777777778,
              "#fb9f3a"
             ],
             [
              0.8888888888888888,
              "#fdca26"
             ],
             [
              1,
              "#f0f921"
             ]
            ],
            "type": "heatmap"
           }
          ],
          "heatmapgl": [
           {
            "colorbar": {
             "outlinewidth": 0,
             "ticks": ""
            },
            "colorscale": [
             [
              0,
              "#0d0887"
             ],
             [
              0.1111111111111111,
              "#46039f"
             ],
             [
              0.2222222222222222,
              "#7201a8"
             ],
             [
              0.3333333333333333,
              "#9c179e"
             ],
             [
              0.4444444444444444,
              "#bd3786"
             ],
             [
              0.5555555555555556,
              "#d8576b"
             ],
             [
              0.6666666666666666,
              "#ed7953"
             ],
             [
              0.7777777777777778,
              "#fb9f3a"
             ],
             [
              0.8888888888888888,
              "#fdca26"
             ],
             [
              1,
              "#f0f921"
             ]
            ],
            "type": "heatmapgl"
           }
          ],
          "histogram": [
           {
            "marker": {
             "pattern": {
              "fillmode": "overlay",
              "size": 10,
              "solidity": 0.2
             }
            },
            "type": "histogram"
           }
          ],
          "histogram2d": [
           {
            "colorbar": {
             "outlinewidth": 0,
             "ticks": ""
            },
            "colorscale": [
             [
              0,
              "#0d0887"
             ],
             [
              0.1111111111111111,
              "#46039f"
             ],
             [
              0.2222222222222222,
              "#7201a8"
             ],
             [
              0.3333333333333333,
              "#9c179e"
             ],
             [
              0.4444444444444444,
              "#bd3786"
             ],
             [
              0.5555555555555556,
              "#d8576b"
             ],
             [
              0.6666666666666666,
              "#ed7953"
             ],
             [
              0.7777777777777778,
              "#fb9f3a"
             ],
             [
              0.8888888888888888,
              "#fdca26"
             ],
             [
              1,
              "#f0f921"
             ]
            ],
            "type": "histogram2d"
           }
          ],
          "histogram2dcontour": [
           {
            "colorbar": {
             "outlinewidth": 0,
             "ticks": ""
            },
            "colorscale": [
             [
              0,
              "#0d0887"
             ],
             [
              0.1111111111111111,
              "#46039f"
             ],
             [
              0.2222222222222222,
              "#7201a8"
             ],
             [
              0.3333333333333333,
              "#9c179e"
             ],
             [
              0.4444444444444444,
              "#bd3786"
             ],
             [
              0.5555555555555556,
              "#d8576b"
             ],
             [
              0.6666666666666666,
              "#ed7953"
             ],
             [
              0.7777777777777778,
              "#fb9f3a"
             ],
             [
              0.8888888888888888,
              "#fdca26"
             ],
             [
              1,
              "#f0f921"
             ]
            ],
            "type": "histogram2dcontour"
           }
          ],
          "mesh3d": [
           {
            "colorbar": {
             "outlinewidth": 0,
             "ticks": ""
            },
            "type": "mesh3d"
           }
          ],
          "parcoords": [
           {
            "line": {
             "colorbar": {
              "outlinewidth": 0,
              "ticks": ""
             }
            },
            "type": "parcoords"
           }
          ],
          "pie": [
           {
            "automargin": true,
            "type": "pie"
           }
          ],
          "scatter": [
           {
            "fillpattern": {
             "fillmode": "overlay",
             "size": 10,
             "solidity": 0.2
            },
            "type": "scatter"
           }
          ],
          "scatter3d": [
           {
            "line": {
             "colorbar": {
              "outlinewidth": 0,
              "ticks": ""
             }
            },
            "marker": {
             "colorbar": {
              "outlinewidth": 0,
              "ticks": ""
             }
            },
            "type": "scatter3d"
           }
          ],
          "scattercarpet": [
           {
            "marker": {
             "colorbar": {
              "outlinewidth": 0,
              "ticks": ""
             }
            },
            "type": "scattercarpet"
           }
          ],
          "scattergeo": [
           {
            "marker": {
             "colorbar": {
              "outlinewidth": 0,
              "ticks": ""
             }
            },
            "type": "scattergeo"
           }
          ],
          "scattergl": [
           {
            "marker": {
             "colorbar": {
              "outlinewidth": 0,
              "ticks": ""
             }
            },
            "type": "scattergl"
           }
          ],
          "scattermapbox": [
           {
            "marker": {
             "colorbar": {
              "outlinewidth": 0,
              "ticks": ""
             }
            },
            "type": "scattermapbox"
           }
          ],
          "scatterpolar": [
           {
            "marker": {
             "colorbar": {
              "outlinewidth": 0,
              "ticks": ""
             }
            },
            "type": "scatterpolar"
           }
          ],
          "scatterpolargl": [
           {
            "marker": {
             "colorbar": {
              "outlinewidth": 0,
              "ticks": ""
             }
            },
            "type": "scatterpolargl"
           }
          ],
          "scatterternary": [
           {
            "marker": {
             "colorbar": {
              "outlinewidth": 0,
              "ticks": ""
             }
            },
            "type": "scatterternary"
           }
          ],
          "surface": [
           {
            "colorbar": {
             "outlinewidth": 0,
             "ticks": ""
            },
            "colorscale": [
             [
              0,
              "#0d0887"
             ],
             [
              0.1111111111111111,
              "#46039f"
             ],
             [
              0.2222222222222222,
              "#7201a8"
             ],
             [
              0.3333333333333333,
              "#9c179e"
             ],
             [
              0.4444444444444444,
              "#bd3786"
             ],
             [
              0.5555555555555556,
              "#d8576b"
             ],
             [
              0.6666666666666666,
              "#ed7953"
             ],
             [
              0.7777777777777778,
              "#fb9f3a"
             ],
             [
              0.8888888888888888,
              "#fdca26"
             ],
             [
              1,
              "#f0f921"
             ]
            ],
            "type": "surface"
           }
          ],
          "table": [
           {
            "cells": {
             "fill": {
              "color": "#EBF0F8"
             },
             "line": {
              "color": "white"
             }
            },
            "header": {
             "fill": {
              "color": "#C8D4E3"
             },
             "line": {
              "color": "white"
             }
            },
            "type": "table"
           }
          ]
         },
         "layout": {
          "annotationdefaults": {
           "arrowcolor": "#2a3f5f",
           "arrowhead": 0,
           "arrowwidth": 1
          },
          "autotypenumbers": "strict",
          "coloraxis": {
           "colorbar": {
            "outlinewidth": 0,
            "ticks": ""
           }
          },
          "colorscale": {
           "diverging": [
            [
             0,
             "#8e0152"
            ],
            [
             0.1,
             "#c51b7d"
            ],
            [
             0.2,
             "#de77ae"
            ],
            [
             0.3,
             "#f1b6da"
            ],
            [
             0.4,
             "#fde0ef"
            ],
            [
             0.5,
             "#f7f7f7"
            ],
            [
             0.6,
             "#e6f5d0"
            ],
            [
             0.7,
             "#b8e186"
            ],
            [
             0.8,
             "#7fbc41"
            ],
            [
             0.9,
             "#4d9221"
            ],
            [
             1,
             "#276419"
            ]
           ],
           "sequential": [
            [
             0,
             "#0d0887"
            ],
            [
             0.1111111111111111,
             "#46039f"
            ],
            [
             0.2222222222222222,
             "#7201a8"
            ],
            [
             0.3333333333333333,
             "#9c179e"
            ],
            [
             0.4444444444444444,
             "#bd3786"
            ],
            [
             0.5555555555555556,
             "#d8576b"
            ],
            [
             0.6666666666666666,
             "#ed7953"
            ],
            [
             0.7777777777777778,
             "#fb9f3a"
            ],
            [
             0.8888888888888888,
             "#fdca26"
            ],
            [
             1,
             "#f0f921"
            ]
           ],
           "sequentialminus": [
            [
             0,
             "#0d0887"
            ],
            [
             0.1111111111111111,
             "#46039f"
            ],
            [
             0.2222222222222222,
             "#7201a8"
            ],
            [
             0.3333333333333333,
             "#9c179e"
            ],
            [
             0.4444444444444444,
             "#bd3786"
            ],
            [
             0.5555555555555556,
             "#d8576b"
            ],
            [
             0.6666666666666666,
             "#ed7953"
            ],
            [
             0.7777777777777778,
             "#fb9f3a"
            ],
            [
             0.8888888888888888,
             "#fdca26"
            ],
            [
             1,
             "#f0f921"
            ]
           ]
          },
          "colorway": [
           "#636efa",
           "#EF553B",
           "#00cc96",
           "#ab63fa",
           "#FFA15A",
           "#19d3f3",
           "#FF6692",
           "#B6E880",
           "#FF97FF",
           "#FECB52"
          ],
          "font": {
           "color": "#2a3f5f"
          },
          "geo": {
           "bgcolor": "white",
           "lakecolor": "white",
           "landcolor": "#E5ECF6",
           "showlakes": true,
           "showland": true,
           "subunitcolor": "white"
          },
          "hoverlabel": {
           "align": "left"
          },
          "hovermode": "closest",
          "mapbox": {
           "style": "light"
          },
          "paper_bgcolor": "white",
          "plot_bgcolor": "#E5ECF6",
          "polar": {
           "angularaxis": {
            "gridcolor": "white",
            "linecolor": "white",
            "ticks": ""
           },
           "bgcolor": "#E5ECF6",
           "radialaxis": {
            "gridcolor": "white",
            "linecolor": "white",
            "ticks": ""
           }
          },
          "scene": {
           "xaxis": {
            "backgroundcolor": "#E5ECF6",
            "gridcolor": "white",
            "gridwidth": 2,
            "linecolor": "white",
            "showbackground": true,
            "ticks": "",
            "zerolinecolor": "white"
           },
           "yaxis": {
            "backgroundcolor": "#E5ECF6",
            "gridcolor": "white",
            "gridwidth": 2,
            "linecolor": "white",
            "showbackground": true,
            "ticks": "",
            "zerolinecolor": "white"
           },
           "zaxis": {
            "backgroundcolor": "#E5ECF6",
            "gridcolor": "white",
            "gridwidth": 2,
            "linecolor": "white",
            "showbackground": true,
            "ticks": "",
            "zerolinecolor": "white"
           }
          },
          "shapedefaults": {
           "line": {
            "color": "#2a3f5f"
           }
          },
          "ternary": {
           "aaxis": {
            "gridcolor": "white",
            "linecolor": "white",
            "ticks": ""
           },
           "baxis": {
            "gridcolor": "white",
            "linecolor": "white",
            "ticks": ""
           },
           "bgcolor": "#E5ECF6",
           "caxis": {
            "gridcolor": "white",
            "linecolor": "white",
            "ticks": ""
           }
          },
          "title": {
           "x": 0.05
          },
          "xaxis": {
           "automargin": true,
           "gridcolor": "white",
           "linecolor": "white",
           "ticks": "",
           "title": {
            "standoff": 15
           },
           "zerolinecolor": "white",
           "zerolinewidth": 2
          },
          "yaxis": {
           "automargin": true,
           "gridcolor": "white",
           "linecolor": "white",
           "ticks": "",
           "title": {
            "standoff": 15
           },
           "zerolinecolor": "white",
           "zerolinewidth": 2
          }
         }
        },
        "xaxis": {
         "anchor": "y",
         "domain": [
          0,
          1
         ],
         "range": [
          0,
          100
         ],
         "showgrid": true,
         "title": {
          "text": "x/a₀"
         }
        },
        "yaxis": {
         "anchor": "x",
         "domain": [
          0,
          1
         ],
         "showgrid": true
        }
       }
      }
     },
     "metadata": {},
     "output_type": "display_data"
    }
   ],
   "source": [
    "def eigenstate(we, n):\n",
    "    \"\"\"Return the n-th eigenstate of the wave equation.\"\"\"\n",
    "    return np.sin(n*np.pi*we.x/we.xmax)\n",
    "\n",
    "we.conf_initial_state([eigenstate(we,1),np.zeros(we.dims)])\n",
    "we.plot_field(we.psi[0])[0]"
   ]
  },
  {
   "cell_type": "code",
   "execution_count": 7,
   "metadata": {},
   "outputs": [],
   "source": [
    "we = WaveEquation(1, 1, dt=0.005)\n",
    "we.conf_initial_state([eigenstate(we,1),np.zeros(we.dims)])\n",
    "we.plot_field(we.psi[0])[0]\n",
    "\n",
    "for i in range(100):\n",
    "    we.evolve(400)\n",
    "    fig,ax = we.plot_field(we.psi[0], ylim=[-1,1])\n",
    "    we.plot_save(fig,i)\n",
    "cf.tool_make_animation_gif(i, name='First eigenstate')"
   ]
  },
  {
   "cell_type": "code",
   "execution_count": 8,
   "metadata": {},
   "outputs": [],
   "source": [
    "we = WaveEquation(1, 1, dt=0.005)\n",
    "we.conf_initial_state([eigenstate(we,2),np.zeros(we.dims)])\n",
    "we.plot_field(we.psi[0])[0]\n",
    "\n",
    "for i in range(50):\n",
    "    we.evolve(400)\n",
    "    fig,ax = we.plot_field(we.psi[0], ylim=[-1,1])\n",
    "    we.plot_save(fig,i)\n",
    "cf.tool_make_animation_gif(i, name='Second eigenstate')"
   ]
  },
  {
   "cell_type": "code",
   "execution_count": 9,
   "metadata": {},
   "outputs": [],
   "source": [
    "we = WaveEquation(1, 1, dt=0.005)\n",
    "we.conf_initial_state([eigenstate(we,3),np.zeros(we.dims)])\n",
    "we.plot_field(we.psi[0])[0]\n",
    "\n",
    "for i in range(33):\n",
    "    we.evolve(400)\n",
    "    fig,ax = we.plot_field(we.psi[0], ylim=[-1,1])\n",
    "    we.plot_save(fig,i)\n",
    "cf.tool_make_animation_gif(i, name='Third eigenstate')"
   ]
  },
  {
   "cell_type": "code",
   "execution_count": 10,
   "metadata": {},
   "outputs": [],
   "source": [
    "we = WaveEquation(1, 1, dt=0.005)\n",
    "we.conf_initial_state([eigenstate(we,4),np.zeros(we.dims)])\n",
    "we.plot_field(we.psi[0])[0]\n",
    "\n",
    "for i in range(25):\n",
    "    we.evolve(400)\n",
    "    fig,ax = we.plot_field(we.psi[0], ylim=[-1,1])\n",
    "    we.plot_save(fig,i)\n",
    "cf.tool_make_animation_gif(i, name='Fourth eigenstate')"
   ]
  },
  {
   "cell_type": "code",
   "execution_count": null,
   "metadata": {},
   "outputs": [],
   "source": []
  }
 ],
 "metadata": {
  "kernelspec": {
   "display_name": "venv",
   "language": "python",
   "name": "python3"
  },
  "language_info": {
   "codemirror_mode": {
    "name": "ipython",
    "version": 3
   },
   "file_extension": ".py",
   "mimetype": "text/x-python",
   "name": "python",
   "nbconvert_exporter": "python",
   "pygments_lexer": "ipython3",
   "version": "3.11.9"
  }
 },
 "nbformat": 4,
 "nbformat_minor": 2
}
