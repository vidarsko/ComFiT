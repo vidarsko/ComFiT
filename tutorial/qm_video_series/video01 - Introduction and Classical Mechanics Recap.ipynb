{
 "cells": [
  {
   "cell_type": "markdown",
   "metadata": {},
   "source": [
    "# Video 1: Introduction and Classical Mechanics Recap"
   ]
  },
  {
   "cell_type": "markdown",
   "metadata": {},
   "source": [
    "Content: \n",
    "- Introduction to the course\n",
    "- Classical mechanics\n",
    "    - Determinism\n"
   ]
  },
  {
   "cell_type": "markdown",
   "metadata": {},
   "source": []
  }
 ],
 "metadata": {
  "language_info": {
   "name": "python"
  }
 },
 "nbformat": 4,
 "nbformat_minor": 2
}
