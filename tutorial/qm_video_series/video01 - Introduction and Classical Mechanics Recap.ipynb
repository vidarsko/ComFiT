{
 "cells": [
  {
   "cell_type": "markdown",
   "metadata": {},
   "source": [
    "# Video 1: Introduction and Classical Mechanics Recap"
   ]
  },
  {
   "cell_type": "markdown",
   "metadata": {},
   "source": [
    "Content: \n",
    "- Introduction to the course\n",
    "- Classical mechanics\n",
    "    - Determinism\n"
   ]
  },
  {
   "cell_type": "markdown",
   "metadata": {},
   "source": []
  },
  {
   "cell_type": "code",
   "execution_count": 1,
   "metadata": {},
   "outputs": [],
   "source": [
    "import comfit as cf"
   ]
  },
  {
   "cell_type": "code",
   "execution_count": 5,
   "metadata": {},
   "outputs": [],
   "source": [
    "import comfit as cf\n",
    "import numpy as np\n",
    "import scipy as sp\n",
    "\n",
    "class WaveEquation(cf.BaseSystem):\n",
    "    def __init__(self, dim, wave_speed, **kwargs):\n",
    "        \"\"\"Initialize the WaveEquation system with wave speed c.\"\"\"\n",
    "        self.c = wave_speed  # Wave speed\n",
    "        super().__init__(dim, **kwargs)\n",
    "\n",
    "        print(self.dims)\n",
    "        self.psi = np.zeros((2,) + self.dims)\n",
    "        self.psi_f = np.zeros((2,) + self.dims_f, dtype=complex)\n",
    "\n",
    "    def conf_initial_state(self, psi):\n",
    "        self.psi = psi\n",
    "        self.psi_f = self.fft(self.psi)\n",
    "\n",
    "    def calc_omega_f(self):\n",
    "        \"\"\"Calculate the dispersion relation for the wave equation.\"\"\"\n",
    "        k2 = self.calc_k2()  # k^2 from ComFiT (sum of k[i]^2)\n",
    "        return np.zeros((2,) + self.dims)\n",
    "    \n",
    "    def calc_nonlinear_evolution_function_f(self, field, t):\n",
    "        N0_f = self.fft(self.psi[1])\n",
    "        N1_f = -self.c**2*self.calc_k2()*self.psi_f[0]\n",
    "\n",
    "    def evolve(self, number_steps):\n",
    "        omega_f = calc_omega_f(self)\n",
    "\n",
    "        integrating_factors_f, solver = self.calc_integrating_factors_f_and_solver(omega_f, 'ETD4RK')\n",
    "\n",
    "        for n in range(number_steps):\n",
    "            self.psi, self.psi_f = solver(integrating_factors_f, \n",
    "                                        self.calc_nonlinear_evolution_function_f, \n",
    "                                        self.psi, self.psi_f)\n",
    "            self.psi = np.real(self.psi)"
   ]
  },
  {
   "cell_type": "code",
   "execution_count": 6,
   "metadata": {},
   "outputs": [
    {
     "name": "stdout",
     "output_type": "stream",
     "text": [
      "101\n"
     ]
    },
    {
     "ename": "TypeError",
     "evalue": "can only concatenate tuple (not \"int\") to tuple",
     "output_type": "error",
     "traceback": [
      "\u001b[1;31m---------------------------------------------------------------------------\u001b[0m",
      "\u001b[1;31mTypeError\u001b[0m                                 Traceback (most recent call last)",
      "Cell \u001b[1;32mIn[6], line 1\u001b[0m\n\u001b[1;32m----> 1\u001b[0m we \u001b[38;5;241m=\u001b[39m \u001b[43mWaveEquation\u001b[49m\u001b[43m(\u001b[49m\u001b[38;5;241;43m1\u001b[39;49m\u001b[43m,\u001b[49m\u001b[43m \u001b[49m\u001b[38;5;241;43m1\u001b[39;49m\u001b[43m)\u001b[49m\n\u001b[0;32m      2\u001b[0m we\u001b[38;5;241m.\u001b[39mconf_initial_state(we\u001b[38;5;241m.\u001b[39mcalc_Gaussian())\n\u001b[0;32m      3\u001b[0m we\u001b[38;5;241m.\u001b[39mplot_field(we\u001b[38;5;241m.\u001b[39mpsi[\u001b[38;5;241m0\u001b[39m])[\u001b[38;5;241m0\u001b[39m]\n",
      "Cell \u001b[1;32mIn[5], line 12\u001b[0m, in \u001b[0;36mWaveEquation.__init__\u001b[1;34m(self, dim, wave_speed, **kwargs)\u001b[0m\n\u001b[0;32m      9\u001b[0m \u001b[38;5;28msuper\u001b[39m()\u001b[38;5;241m.\u001b[39m\u001b[38;5;21m__init__\u001b[39m(dim, \u001b[38;5;241m*\u001b[39m\u001b[38;5;241m*\u001b[39mkwargs)\n\u001b[0;32m     11\u001b[0m \u001b[38;5;28mprint\u001b[39m(\u001b[38;5;28mself\u001b[39m\u001b[38;5;241m.\u001b[39mdims)\n\u001b[1;32m---> 12\u001b[0m \u001b[38;5;28mself\u001b[39m\u001b[38;5;241m.\u001b[39mpsi \u001b[38;5;241m=\u001b[39m np\u001b[38;5;241m.\u001b[39mzeros(\u001b[43m(\u001b[49m\u001b[38;5;241;43m2\u001b[39;49m\u001b[43m,\u001b[49m\u001b[43m)\u001b[49m\u001b[43m \u001b[49m\u001b[38;5;241;43m+\u001b[39;49m\u001b[43m \u001b[49m\u001b[38;5;28;43mself\u001b[39;49m\u001b[38;5;241;43m.\u001b[39;49m\u001b[43mdims\u001b[49m)\n\u001b[0;32m     13\u001b[0m \u001b[38;5;28mself\u001b[39m\u001b[38;5;241m.\u001b[39mpsi_f \u001b[38;5;241m=\u001b[39m np\u001b[38;5;241m.\u001b[39mzeros((\u001b[38;5;241m2\u001b[39m,) \u001b[38;5;241m+\u001b[39m \u001b[38;5;28mself\u001b[39m\u001b[38;5;241m.\u001b[39mdims_f, dtype\u001b[38;5;241m=\u001b[39m\u001b[38;5;28mcomplex\u001b[39m)\n",
      "\u001b[1;31mTypeError\u001b[0m: can only concatenate tuple (not \"int\") to tuple"
     ]
    }
   ],
   "source": [
    "we = WaveEquation(1, 1)\n",
    "we.conf_initial_state(we.calc_Gaussian())\n",
    "we.plot_field(we.psi[0])[0]"
   ]
  },
  {
   "cell_type": "code",
   "execution_count": null,
   "metadata": {},
   "outputs": [],
   "source": []
  }
 ],
 "metadata": {
  "kernelspec": {
   "display_name": "venv",
   "language": "python",
   "name": "python3"
  },
  "language_info": {
   "codemirror_mode": {
    "name": "ipython",
    "version": 3
   },
   "file_extension": ".py",
   "mimetype": "text/x-python",
   "name": "python",
   "nbconvert_exporter": "python",
   "pygments_lexer": "ipython3",
   "version": "3.11.9"
  }
 },
 "nbformat": 4,
 "nbformat_minor": 2
}
