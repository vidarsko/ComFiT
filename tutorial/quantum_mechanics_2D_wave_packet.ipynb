{
 "cells": [
  {
   "cell_type": "markdown",
   "metadata": {},
   "source": [
    "# Quantum mechanics: 2D introduction"
   ]
  },
  {
   "cell_type": "markdown",
   "metadata": {},
   "source": [
    "In this tutorial, we will look at how to create and visualize a 2D wave packet."
   ]
  },
  {
   "cell_type": "code",
   "execution_count": null,
   "metadata": {},
   "outputs": [],
   "source": [
    "import sys\n",
    "from pathlib import Path\n",
    "current_dir = Path().resolve()\n",
    "parent_dir = current_dir.parent\n",
    "sys.path.append(str(parent_dir))\n",
    "\n",
    "import comfit as cf\n"
   ]
  },
  {
   "cell_type": "code",
   "execution_count": null,
   "metadata": {},
   "outputs": [],
   "source": [
    "qm = cf.QuantumMechanics(2, xlim=[-15,15], ylim=[-15,15], xRes=201, yRes=201)\n",
    "\n",
    "\n",
    "omega = 0.01\n",
    "qm.V_ext = omega*(qm.x**2 + qm.y**2)\n",
    "qm.conf_initial_condition_Gaussian(position=[5,5],width=1)\n",
    "\n",
    "\n",
    "for i in range(150):\n",
    "    qm.plot_complex_field(qm.psi)\n",
    "    qm.evolve_schrodinger(10)\n",
    "    cf.tool_save_plot(i)\n",
    "cf.tool_make_animation_gif(i)\n",
    "\n"
   ]
  },
  {
   "cell_type": "code",
   "execution_count": null,
   "metadata": {},
   "outputs": [],
   "source": []
  }
 ],
 "metadata": {
  "kernelspec": {
   "display_name": "COMFIT",
   "language": "python",
   "name": "comfit"
  },
  "language_info": {
   "codemirror_mode": {
    "name": "ipython",
    "version": 3
   },
   "file_extension": ".py",
   "mimetype": "text/x-python",
   "name": "python",
   "nbconvert_exporter": "python",
   "pygments_lexer": "ipython3",
   "version": "3.9.18"
  }
 },
 "nbformat": 4,
 "nbformat_minor": 2
}
