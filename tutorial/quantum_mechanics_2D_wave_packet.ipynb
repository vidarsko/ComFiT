{
 "cells": [
  {
   "cell_type": "markdown",
   "metadata": {},
   "source": [
    "## Read everything in the problem statement\n",
    "\n",
    "If you need help, try the prepromt on [comfitlib.com](https://comfitlib.com/) and paste it into your LLM of choice (e.g., GPT UiO).\n",
    "\n",
    "![](preprompt_demo.gif)\n",
    "\n",
    "**If you are running Google Colab, uncomment the following code to install the required libraries**"
   ]
  },
  {
   "cell_type": "code",
   "execution_count": null,
   "metadata": {},
   "outputs": [],
   "source": [
    "# !pip install comfit -q # Uncomment and run this cell if you are using Google Colab"
   ]
  },
  {
   "cell_type": "markdown",
   "metadata": {},
   "source": [
    "If you find any errors in this tutorial, please raise a issue at [GitHub](https://github.com/vidarsko/ComFiT/issues)."
   ]
  },
  {
   "cell_type": "markdown",
   "metadata": {},
   "source": [
    "# Quantum mechanics: 2D introduction"
   ]
  },
  {
   "cell_type": "markdown",
   "metadata": {},
   "source": [
    "In this tutorial, we will look at how to create and visualize a 2D wave packet."
   ]
  },
  {
   "cell_type": "code",
   "execution_count": null,
   "metadata": {},
   "outputs": [],
   "source": [
    "import comfit as cf"
   ]
  },
  {
   "cell_type": "code",
   "execution_count": null,
   "metadata": {},
   "outputs": [],
   "source": [
    "qm = cf.QuantumMechanics(2, xlim=[-15,15], ylim=[-15,15], xRes=201, yRes=201)\n",
    "\n",
    "\n",
    "omega = 0.01\n",
    "qm.V_ext = omega*(qm.x**2 + qm.y**2)\n",
    "qm.conf_initial_condition_Gaussian(position=[5,5],width=1)\n",
    "\n",
    "\n",
    "for i in range(150):\n",
    "    fig = qm.plot_complex_field(qm.psi)\n",
    "    fig, ax = qm.evolve_schrodinger(10)\n",
    "    qm.plot_save(fig, i)\n",
    "cf.tool_make_animation_gif(i)\n",
    "\n"
   ]
  },
  {
   "cell_type": "code",
   "execution_count": null,
   "metadata": {},
   "outputs": [],
   "source": []
  }
 ],
 "metadata": {
  "kernelspec": {
   "display_name": "COMFIT",
   "language": "python",
   "name": "comfit"
  },
  "language_info": {
   "codemirror_mode": {
    "name": "ipython",
    "version": 3
   },
   "file_extension": ".py",
   "mimetype": "text/x-python",
   "name": "python",
   "nbconvert_exporter": "python",
   "pygments_lexer": "ipython3",
   "version": "3.9.18"
  }
 },
 "nbformat": 4,
 "nbformat_minor": 2
}
