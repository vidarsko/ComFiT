{
 "cells": [
  {
   "cell_type": "code",
   "execution_count": null,
   "metadata": {},
   "outputs": [],
   "source": [
    "# !pip install comfit==1.8.2 -q # Uncomment and run this cell if you are using Google Colab"
   ]
  },
  {
   "cell_type": "code",
   "execution_count": null,
   "metadata": {},
   "outputs": [],
   "source": [
    "import comfit as cf\n",
    "import numpy as np"
   ]
  },
  {
   "cell_type": "markdown",
   "metadata": {},
   "source": [
    "# Module 1"
   ]
  },
  {
   "cell_type": "markdown",
   "metadata": {},
   "source": [
    "In this assignment, you will use the python library `comfit` in order to numerically solve the Schrödinger equation! We will provide you with pointers on how you can use this library along the way.\n"
   ]
  },
  {
   "cell_type": "markdown",
   "metadata": {},
   "source": [
    "Goals for the module:\n",
    "* Run numerical simulations of the Schrödinger equation for a single particle, in 1D and 2D.\n",
    "* Build intuition for what solutions to the Schrödinger equation can look like.\n",
    "* Compare the classical and quantum mechanical solutions to a particle in a harmonic potential.\n"
   ]
  },
  {
   "cell_type": "markdown",
   "metadata": {},
   "source": [
    "## Problem A: The 1D Schrödinger Equation"
   ]
  },
  {
   "cell_type": "markdown",
   "metadata": {},
   "source": [
    "#### Problem a)\n",
    "\n",
    "* Write up the time-dependent Schrödinger equation for a single particle in one dimension. Make sure to define all quantities.\n",
    "* Also write up the Schrödinger equation for a single particle in three dimensions, making sure to define any new quantities you introduce.\n",
    "\n",
    "Plotting a real function in one dimension is easy. You just plot the value of the function on the y-axis. \n",
    "* How would you plot a complex function in one and two dimensions? Sketch two suggestions for both the 1D and 2D case."
   ]
  },
  {
   "cell_type": "markdown",
   "metadata": {},
   "source": [
    "#### Problem b)\n",
    "\n",
    "We will now run some numerical simulations of the Schrödinger equation, so we can get a feel for what its solutions can look like. We start with a single particle in 1D, in a constant potential. We give a snippet of code below, which helps you with initializing a Gaussian wavepacket."
   ]
  },
  {
   "cell_type": "code",
   "execution_count": null,
   "metadata": {},
   "outputs": [],
   "source": [
    "# Initialize a 1-Dimensional system \n",
    "dt = 0.1\n",
    "qm = cf.QuantumMechanics(1,xlim=[-10,10], dt=dt) \n",
    "\n",
    "# Sets the initial condition to a Gaussian wavepacket centered at x=0 with width 1\n",
    "qm.conf_initial_condition_Gaussian(position=0, width=1) \n",
    "psi = qm.psi # Get the wavefunction at time t=0"
   ]
  },
  {
   "cell_type": "markdown",
   "metadata": {},
   "source": [
    "You will need the function `qm.plot_field`, which plots a real function over the interval the system is defined (here: [-10, 10]). You will also need `qm.plot_complex_field`, which you can use to plot a complex function. Both `qm.plot_field` and `qm.plot_complex_field` take in a numpy array as input."
   ]
  },
  {
   "cell_type": "markdown",
   "metadata": {},
   "source": [
    "* Use these functions to plot the wavefunction and the probability density for finding the particle.\n",
    "* Evolve the system using the method `qm.evolve_schrodinger`, which takes in one variable: number of time steps to evolve for. Find a reasonable time to evolve the system for. The evolved wavefunction is stored in `qm.psi`, and we have set the time step to `dt=0.1`.\n",
    "* Plot the wavefunction and probability density after evolving the system. Compare with the initial wavefunction. How has the probability of measuring the particle changed?"
   ]
  },
  {
   "cell_type": "code",
   "execution_count": null,
   "metadata": {},
   "outputs": [],
   "source": [
    "fig, ax = qm.plot_complex_field(psi)\n",
    "fig"
   ]
  },
  {
   "cell_type": "markdown",
   "metadata": {},
   "source": [
    "#### Problem c)"
   ]
  },
  {
   "cell_type": "markdown",
   "metadata": {},
   "source": [
    "* Repeat problem b), for a wave packet with initial velocity 1. You can change initial velocity by sending in the parameter `initial_velocity` to `conf_initial_condition_Gaussian`.\n",
    "* What differentiates the initial states of the stationary and moving packet?"
   ]
  },
  {
   "cell_type": "markdown",
   "metadata": {},
   "source": [
    "## Problem B: The 2D Schrödinger Equation"
   ]
  },
  {
   "cell_type": "markdown",
   "metadata": {},
   "source": [
    "Now you will run some simulations of the 2D Schrödinger equation for a single particle. We initialize a Gaussian packet with an initial velocity."
   ]
  },
  {
   "cell_type": "code",
   "execution_count": null,
   "metadata": {},
   "outputs": [],
   "source": [
    "initial_velocity = [1, 0] # Initial velocity in the x and y directions\n",
    "\n",
    "dt = 0.1 # Time step\n",
    "qm = cf.QuantumMechanics(2, xlim=[-15,15], ylim=[-15,15], xRes=201, yRes=201, dt=dt) # Initialize a 2-Dimensional system\n",
    "qm.conf_initial_condition_Gaussian(position=[5,5], width=1, initial_velocity=initial_velocity) # Set wavefunction to a Gaussian wavepacket\n"
   ]
  },
  {
   "cell_type": "markdown",
   "metadata": {},
   "source": [
    "* Plot the initial wavefunction.\n",
    "* Run a time evolution for a time of your choice, and plot the resulting wavefunction.\n",
    "* Create a new simulation, where you initialize with a different initial velocity.\n",
    "* Compare and discuss. How do these results relate to the de Broglie wavelength?"
   ]
  },
  {
   "cell_type": "markdown",
   "metadata": {},
   "source": [
    "Note: you can still use the method `qm.plot_complex_field` to plot the wavefunction. The wavefunction is stored in `qm.psi`. You can evolve the system using `qm.evolve_schrodinger`."
   ]
  },
  {
   "cell_type": "markdown",
   "metadata": {},
   "source": [
    "#### Bonus: Animations"
   ]
  },
  {
   "cell_type": "markdown",
   "metadata": {},
   "source": [
    "Below, you can find some code for generating animations. Try running it, and see what you get! Feel free to play around with the parameters."
   ]
  },
  {
   "cell_type": "code",
   "execution_count": null,
   "metadata": {},
   "outputs": [],
   "source": [
    "def generate_animation(qm: cf.QuantumMechanics, filename: str, time: float = 10, n_frames: int = 40):\n",
    "    \"\"\"Animates the time evolution of the wavefunction.\n",
    "\n",
    "    Under the hood, we are simply solving the Schrodinger equation numerically.\n",
    "\n",
    "    Args:\n",
    "        qm (cf.QuantumMechanics): object containing the quantum mechanical system\n",
    "        filename (str): name of the file to save the animation\n",
    "        time (float, optional): total time to evolve the wavefunction. Defaults to 10.\n",
    "        n_frames (int, optional): number of frames in the animation. Defaults to 40.\n",
    "    \"\"\"\n",
    "    fig = qm.plot_complex_field(qm.psi)\n",
    "    qm.plot_save(0, fig)\n",
    "\n",
    "    n_timesteps = int(time / qm.dt)\n",
    "\n",
    "    timesteps_per_frame = n_timesteps // n_frames\n",
    "\n",
    "    for n in range(1, n_frames):\n",
    "        qm.evolve_schrodinger(timesteps_per_frame)\n",
    "        fig = qm.plot_complex_field(qm.psi)\n",
    "        qm.plot_save(n, fig)\n",
    "    cf.tool_make_animation_gif(n, name=filename)"
   ]
  },
  {
   "cell_type": "code",
   "execution_count": null,
   "metadata": {},
   "outputs": [],
   "source": [
    "initial_velocity = [1, 0] # Initial velocity in the x and y directions\n",
    "\n",
    "qm = cf.QuantumMechanics(2, xlim=[-15,15], ylim=[-15,15], xRes=201, yRes=201)\n",
    "qm.conf_initial_condition_Gaussian(position=[5,5], width=1, initial_velocity=initial_velocity) # Set wavefunction to a Gaussian wavepacket\n",
    "generate_animation(qm, \"particle_animation_2d.gif\")\n"
   ]
  },
  {
   "cell_type": "markdown",
   "metadata": {},
   "source": [
    "## Problem C: Quantum vs Classical\n"
   ]
  },
  {
   "cell_type": "markdown",
   "metadata": {},
   "source": [
    "In this problem we will examine the time evolution of a gaussian wavepacket in a 2D harmonic potential. We will compare the time evolution of the wavepacket with the classical trajectory of the particle. \n",
    "\n",
    "The harmonic potential is given by \n",
    "$$\n",
    "V(x, y) = \\frac{1}{2} k (x^2 + y^2),\n",
    "$$\n",
    "where we will use a value of `k=0.01`. This corresponds to setting the spring constant to $k = 0.01 \\frac{27.2\\textrm{eV}}{(0.529 \\textrm{Å})^2} \\approx 155.7 \\frac{\\textrm{N}}{m}$.\n",
    "\n",
    " (See https://comfitlib.com/ClassQuantumMechanics/ for explanation of units).\n",
    "\n",
    "\n",
    "<!-- $$\n",
    "\\hat H = \\frac{1}{2} \\hat{p}^2  + \\frac{1}{2} \\omega (\\hat{x}^2 + \\hat{y}^2).\n",
    "$$ -->\n"
   ]
  },
  {
   "cell_type": "markdown",
   "metadata": {},
   "source": [
    "#### Problem a)\n",
    "We will first consider a classical particle in the harmonic potential.\n",
    "<!-- * What is the acceleration of the particle? We use units where $m = 1$. -->\n",
    "* Describe a numerical algorithm you can use to compute the classical trajectory of a particle in this potential."
   ]
  },
  {
   "cell_type": "markdown",
   "metadata": {},
   "source": [
    "#### Problem a)\n",
    "We will now run numerical simulations of both the classical system and the quantum mechanical system. We initialize the quantum mechanical system here:"
   ]
  },
  {
   "cell_type": "code",
   "execution_count": null,
   "metadata": {},
   "outputs": [],
   "source": [
    "dt = 0.1\n",
    "qm = cf.QuantumMechanics(2, xlim=[-15,15], ylim=[-15,15], xRes=201, yRes=201, dt=dt)\n",
    "\n",
    "initial_pos = [5,5]\n",
    "k = 0.01\n",
    "qm.V_ext = k*(qm.x**2 + qm.y**2)\n",
    "qm.conf_initial_condition_Gaussian(position=initial_pos, width=1)"
   ]
  },
  {
   "cell_type": "markdown",
   "metadata": {},
   "source": [
    "* Numerically compute the classical path of a particle with initial position (5, 5) and initial velocity 0. Use the algorithm you introduced in problem a), with $\\Delta t = 0.1$.\n",
    "* Use `comfit` to numerically solve the Schrodinger equation for the same initial position and velocity.\n",
    "* Plot both solutions, after times $T=0, 5, 10, 20$. Compare and discuss.\n",
    "\n",
    "Note if you want to plot both solutions in the same plot: If you use `qm.plot_complex_field` to plot the wavefunction, you need to also plot the classical solution using the `plotly` library. `qm.plot_complex_field` takes in a parameter `figure`, a plotly figure to plot onto. You can initialize a plotly figure as follows:"
   ]
  },
  {
   "cell_type": "code",
   "execution_count": null,
   "metadata": {},
   "outputs": [],
   "source": [
    "import plotly.graph_objects as go\n",
    "\n",
    "fig = go.Figure()"
   ]
  },
  {
   "cell_type": "markdown",
   "metadata": {},
   "source": [
    "\n",
    "\n",
    "If you instead want to use `matplotlib`, feel free to visualize the wavepacket as you like!\n"
   ]
  },
  {
   "cell_type": "markdown",
   "metadata": {},
   "source": [
    "## Bonus Problem - Highly Recommended :)"
   ]
  },
  {
   "cell_type": "markdown",
   "metadata": {},
   "source": [
    "* Make an animation of a wavepacket in a Gaussian potential."
   ]
  }
 ],
 "metadata": {
  "kernelspec": {
   "display_name": "venv",
   "language": "python",
   "name": "python3"
  },
  "language_info": {
   "codemirror_mode": {
    "name": "ipython",
    "version": 3
   },
   "file_extension": ".py",
   "mimetype": "text/x-python",
   "name": "python",
   "nbconvert_exporter": "python",
   "pygments_lexer": "ipython3",
   "version": "3.12.2"
  }
 },
 "nbformat": 4,
 "nbformat_minor": 2
}
