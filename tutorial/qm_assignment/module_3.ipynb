{
 "cells": [
  {
   "cell_type": "code",
   "execution_count": 3,
   "metadata": {},
   "outputs": [],
   "source": [
    "import comfit as cf\n",
    "import numpy as np"
   ]
  },
  {
   "cell_type": "markdown",
   "metadata": {},
   "source": [
    "# Module 3\n",
    "In this module, you will have a look at ladder operators and how they relate to the eigenvectors of the Hamiltonian. We will also have a look at how operators can be represented as matrices."
   ]
  },
  {
   "cell_type": "markdown",
   "metadata": {},
   "source": [
    "Goals for the module:\n",
    "* Implement numerically the ladder operators for the Quantum Harmonic Oscillator (QHO), in one dimension.\n",
    "* Visualize how different eigenstates of the QHO evolve in time.\n",
    "* Visualize how a superposition of eigenstates evolves in time.\n",
    "\n",
    "Goals for the bonus problem:\n",
    "* Demonstrate how linear operators can be understood as infinite-dimensional matrices. "
   ]
  },
  {
   "cell_type": "markdown",
   "metadata": {},
   "source": [
    "## Problem A: Ladder operators"
   ]
  },
  {
   "cell_type": "markdown",
   "metadata": {},
   "source": [
    "We will study the 1D harmonic oscillator, with Hamiltonian $\\hat H$. It has eigenstates $\\{\\psi_n \\}_{n=0}^\\infty$  satisfying\n",
    "$$\n",
    "    \\hat{H}\\psi_n = E_n \\psi_n,\n",
    "$$\n",
    "for energy levels $ \\{ E_n \\}_{n=0}^\\infty  $. \n",
    "\n",
    "\n",
    "\n",
    "\n",
    "We initialize the system in the ground state $ \\psi_0, $ and extract some important variables."
   ]
  },
  {
   "cell_type": "code",
   "execution_count": 12,
   "metadata": {},
   "outputs": [],
   "source": [
    "# Initialize system\n",
    "dt = 0.1 # Time step\n",
    "qm = cf.QuantumMechanics(1, xlim=[-15,15], xRes=200, dt=dt) # Initialize quantum mechanics object\n",
    "omega = 0.2 # Angular frequency\n",
    "qm.V_ext = 1/2*omega**2*qm.x**2 # Initialize potential\n",
    "\n",
    "# Initialize wavefunction\n",
    "psi0 = (omega/np.pi)**(1/4)*np.exp(-omega*qm.x**2/2) # Initial wavefunction\n",
    "qm.conf_wavefunction(psi0) # Set the initial wavefunction\n",
    "\n",
    "# Key variables, that you will need\n",
    "x = qm.x # numpy array containing x-values\n",
    "dx = qm.dx # grid spacing"
   ]
  },
  {
   "cell_type": "markdown",
   "metadata": {},
   "source": [
    "We will now take a closer look at the ladder operators for the 1D harmonic oscillator. They are defined as\n",
    "$$\n",
    "\\hat{a}^\\dagger := \\sqrt{\\frac{m\\omega}{2\\hbar}}\\left(\\hat x - \\frac{\\hbar}{m\\omega}\\frac{d}{dx}\\right)\n",
    "$$\n",
    "$$\n",
    "\\hat{a} := \\sqrt{\\frac{m\\omega}{2\\hbar}}\\left(\\hat x + \\frac{\\hbar}{m\\omega}\\frac{d}{dx}\\right)\n",
    "$$"
   ]
  },
  {
   "cell_type": "markdown",
   "metadata": {},
   "source": [
    "The ladder operators have somewhat complicated  expressions - but there is a sense in which they are very simple operators!\n",
    "The operator $\\hat a^\\dagger$ simply acts as \n",
    "$$\n",
    "\\hat a^\\dagger \\psi_n = \\sqrt{n+1}\\psi_{n+1},\n",
    "$$\n",
    "on the basis of eigenstates, and $\\hat a$ is the operator that acts as \n",
    "$$\n",
    "\\hat a\\psi_n = \\begin{cases} \n",
    "      \\sqrt{n} \\psi_{n-1}, & \\text{if } n > 0 \\\\\n",
    "      0, & \\text{if } n = 0 \n",
    "   \\end{cases}\n",
    ".\n",
    "$$\n",
    "<!-- This operator is constructed in such a way that it sends the $n$'th energy eigenstate of the Hamiltonian to the $n+1$'st energy eigenstate (times a constant). To be precise, it acts as:\n",
    "\n",
    "TOD\n",
    "\n",
    "Let us see this in action. -->"
   ]
  },
  {
   "cell_type": "markdown",
   "metadata": {},
   "source": [
    "#### Problem a)"
   ]
  },
  {
   "cell_type": "markdown",
   "metadata": {},
   "source": [
    "We first make a small stop to consider the normalization condition for a 1-dimensional discretized wavefunction. \n",
    "\n",
    "* Mathematically, what does it mean for the wavefunction to be normalized?\n",
    "* On the computer, the wavefunction is just represented as an array of values. How do you write the normalization condition in this case?\n",
    "* Check that `psi0` is normalized."
   ]
  },
  {
   "cell_type": "markdown",
   "metadata": {},
   "source": [
    "#### Problem b)"
   ]
  },
  {
   "cell_type": "markdown",
   "metadata": {},
   "source": [
    "- Implement the ladder operators in code, using units where $\\hbar = m = 1$.\n",
    "- Use the ladder operators to compute the eigenstates $\\psi_1$ and $\\psi_2$. \n",
    "- Plot the ground state, and the next two energy eigenstates of the Hamiltonian. \n",
    "- Also plot $\\hat{a} \\hat{a}^\\dagger \\psi_0$. What state is this?\n",
    "- Make sure that your states are normalized according to the condition you derived in a) "
   ]
  },
  {
   "cell_type": "markdown",
   "metadata": {},
   "source": [
    "#### Problem c)\n",
    "We will now perform a time evolution of the Schrödinger equation. \n",
    "In order to do this, you will need to set the wavefunction of the `qm` object. You do this using the method `qm.conf_wavefunction`, which takes in an array of wavefunction values `psi`.\n",
    "Afterwards, you will have to use `qm.evolve_schrodinger` in order to evolve the system. The function takes in the number of time steps to evolve for (we have set $dt=0.1$ above). The evolved wavefunction can be retrieved from the variable `qm.psi`.\n",
    "\n",
    "* Set the initial wavefunction to be the ground state using the `qm.conf_wavefunction` method. Perform a time evolution. Plot the evolved wavefunction.\n",
    "* Repeat this for the next two energy eigenstates. \n",
    "* What do you see? Does the results seem sensible to you - why or why not? Give a brief comment.\n",
    "\n",
    "\n",
    "<!-- Though this is not part of the assessment, we recommend that you generate an animation of the time evolution (using the code given in problem 1). The animation makes it very clear what is going on:) -->"
   ]
  },
  {
   "cell_type": "markdown",
   "metadata": {},
   "source": [
    "#### Problem d)\n",
    "In this problem we denote the ground state by $\\psi_0$, and the first excitation by $\\psi_1$.\n",
    "\n",
    "* Compute the wavefunction $\\psi := \\dfrac{1}{\\sqrt 2} (\\psi_0 + \\psi_1)$ in code. \n",
    "* Check that the wavefunction satisfies the normalization condition derived in a).\n",
    "* Plot $\\psi$.\n",
    "* Run a time evolution on $\\psi$ (for times T=10, T=20, and T=62.8). What do you see? Make a comparison with your results in problem c). \n",
    "\n",
    "<!-- Again, feel free to make animations for the time evolution. -->\n",
    "<!-- <details>\n",
    "<summary>Hint</summary>\n",
    "<p>\n",
    "\n",
    "</p>\n",
    "</details> -->"
   ]
  },
  {
   "cell_type": "markdown",
   "metadata": {},
   "source": [
    "#### Bonus problem (optional, but extremely useful, insightful, and rewarding!)\n",
    "In this problem we will explore how linear operators can be represented as matrices.\n",
    "\n",
    "For a fixed basis, you can represent a linear operator as a matrix. To illustrate, we will write the matrix elements of an operator $\\hat T$ in a basis $ \\{ e_n \\}_{n=0}^\\infty  $.\n",
    "In this basis, the matrix elements are given as. \n",
    "$$\n",
    "    T_{i j} = \\bra{e_i} \\hat T \\ket{e_j}.\n",
    "$$\n",
    "We call these matrix elements, since there is a very strong analogy with ordinary matrices here. Let us think of  a vector $x = \\sum_{n=0}^\\infty c_n e_n$ as an infinite column vector with entries $c_n$:\n",
    "$$\n",
    "    \\begin{bmatrix} c_0 \\\\ c_1 \\\\ c_2 \\\\ c_3 \\\\ \\vdots \\end{bmatrix}.\n",
    "$$\n",
    "\n",
    "If you multiply the infinite matrix\n",
    "$$\n",
    "T = \\begin{bmatrix}\n",
    "T_{0 0} & T_{0 1} & T_{0 2} & T_{0 3} & \\ldots\\\\\n",
    "T_{1 0} & T_{1 1} & T_{1 2} & T_{1 3} & \\ldots\\\\\n",
    "T_{2 0} & T_{2 1} & T_{2 2} & T_{2 3} & \\ldots\\\\\n",
    "T_{3 0} & T_{3 1} & T_{3 2} & T_{3 3} & \\ldots\\\\\n",
    "\\vdots & \\vdots& \\vdots& \\vdots  & \\ddots\\\\\n",
    "\\end{bmatrix}\n",
    "$$\n",
    "with the infinite column vector represention of $x$, it gives the infinite column vector representation of $\\hat{T} x$. So in a fixed basis, you can think of a linear operator as an infinite matrix.\n",
    "  \n",
    "\n",
    "* Set a timer for 5 minutes and meditate on what you just read, to ensure it makes sense. Answer this question with \"I solemnly swear that I have meditated on this insight for 5 minutes, and now it makes sense.\"\n",
    "  \n",
    "We now use the energy eigenstates $ \\{ \\psi_n \\}  $  as the basis for our Hilbert space.\n",
    "* In this basis, write up an infinite matrix that represents the Hamiltonian.\n",
    "* Also write up infinite matrices that represent $a^\\dagger$ and $a$ in this basis.\n",
    "\n",
    "\n",
    "Double bonus problem for double the insight:\n",
    "* Use numerical integration to compute the matrix representation of the $\\hat x$ operator in the basis of eigenstates. Limit yourself to computing matrix elements between the first 6 eigenstates only. "
   ]
  },
  {
   "cell_type": "markdown",
   "metadata": {},
   "source": [
    "<!-- <details>\n",
    "<summary>Hint</summary>\n",
    "<p>\n",
    "We can choose to represent the ground state as the column vector [1, 0, 0, 0, ...]. The first excitation energy eigenstate becomes the vector [0, 1, 0, 0, ...], the second becomes [0, 0, 1, 0, ...], and so on.\n",
    "</p>\n",
    "</details> -->"
   ]
  }
 ],
 "metadata": {
  "kernelspec": {
   "display_name": "venv",
   "language": "python",
   "name": "python3"
  },
  "language_info": {
   "codemirror_mode": {
    "name": "ipython",
    "version": 3
   },
   "file_extension": ".py",
   "mimetype": "text/x-python",
   "name": "python",
   "nbconvert_exporter": "python",
   "pygments_lexer": "ipython3",
   "version": "3.10.9"
  }
 },
 "nbformat": 4,
 "nbformat_minor": 2
}
