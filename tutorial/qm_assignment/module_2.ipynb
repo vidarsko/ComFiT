{
 "cells": [
  {
   "cell_type": "code",
   "execution_count": null,
   "metadata": {},
   "outputs": [],
   "source": [
    "#!pip install comfit #Run this line if using Google Colab"
   ]
  },
  {
   "cell_type": "code",
   "execution_count": 5,
   "metadata": {},
   "outputs": [],
   "source": [
    "import comfit as cf\n",
    "import numpy as np"
   ]
  },
  {
   "cell_type": "markdown",
   "metadata": {},
   "source": [
    "## Module 2"
   ]
  },
  {
   "cell_type": "markdown",
   "metadata": {},
   "source": [
    "Goals for the module:\n",
    "* Explain what operators are, and give some examples.\n",
    "* Characterize a linear operator.\n",
    "* Implement operators numerically, including the position, momentum, and Hamiltonian operator. \n",
    "* Numerically calculate expectation values from a wavefunction and an operator."
   ]
  },
  {
   "cell_type": "markdown",
   "metadata": {},
   "source": [
    "## Problem A:  Introduction to Operators"
   ]
  },
  {
   "cell_type": "markdown",
   "metadata": {},
   "source": [
    "In this problem, we aim to make you more familiar with operators! Operators are an absolutely crucial in quantum mechanics, as they represent observables (in plain language: things we can measure). Before dealing with how exactly an operator represents an observable, we first want to understand operators as mathematical objects. By the end of the problem we hope you can answer the question: \"What exactly is an operator?\""
   ]
  },
  {
   "cell_type": "markdown",
   "metadata": {},
   "source": [
    "####  Problem a)"
   ]
  },
  {
   "cell_type": "markdown",
   "metadata": {},
   "source": [
    "\n",
    "\n",
    "The word \"operator\" makes it seem like we are studying something complicated. But an operator in quantum mechanics is not so complicated!\n",
    "An operator $T$ takes a function $f$ as input, and gives a function $Tf$ as output. We illustrate with an example:\n",
    "$$\\dfrac{\\partial}{\\partial x}$$\n",
    "is an operator that takes in a function $f$ as input, and outputs its derivative $\\dfrac{\\partial f}{\\partial x}$.\n",
    "\n",
    "TODO: Add in a figure, for differentiation example\n",
    "\n",
    "* Give five other examples of operators. They can be operators you have encountered in quantum mechanics, or they can be any other operator. Creativity is welcome here:)"
   ]
  },
  {
   "cell_type": "markdown",
   "metadata": {},
   "source": [
    "#### Problem b)\n",
    "\n",
    "Almost all operators you will encounter while studying quantum mechanics are so-called \"linear operators\". So much so that we will often just say \"operator\", when we mean \"linear operator\". \n",
    "* What does it mean for an operator to be linear? Feel free to search the internet to find the answer.\n",
    "* Are the operators you listed in the previous problem linear?\n",
    "* If all examples you listed are linear: give one example of an operator that is not linear.\n",
    "  \n",
    "<!-- You can assume that we are working over a vector space consisting of functions that take complex values. -->"
   ]
  },
  {
   "cell_type": "markdown",
   "metadata": {},
   "source": [
    "<details>\n",
    "<summary>Sidenote</summary>\n",
    "<p>\n",
    "When you hear \"linear operator\", think \"linear algebra\". \n",
    "\n",
    "-- Can you convince yourself that matrices also are linear?\n",
    "\n",
    "Linear operators are really just a generalization of matrices!\n",
    "In this picture, functions play the role of vectors. The linear operator (matrix) takes in a function (vector input) and spits out another function (vector output).\n",
    "\n",
    "<!-- A more abstract definition of linear operators makes no reference to function spaces at all.  -->\n",
    " <!-- we can define a linear operator as a function $T: U \\rightarrow V$ between two vector spaces $U, V$, so that $T$ -->\n",
    "\n",
    "</p>\n",
    "</details>"
   ]
  },
  {
   "cell_type": "markdown",
   "metadata": {},
   "source": [
    "## Problem B: Implementing Operators in Code "
   ]
  },
  {
   "cell_type": "markdown",
   "metadata": {},
   "source": [
    "In this problem, you will implement different operators in code, and compute their expectation values. We will restrict ourselves to a particle in a one-dimensional harmonic potential,\n",
    "$$V(x) = \\dfrac{1}{2} m \\omega^2 x^2.$$"
   ]
  },
  {
   "cell_type": "markdown",
   "metadata": {},
   "source": [
    "The harmonic oscillator has ground state\n",
    "$$\n",
    "\\psi_0(x) = \\left(\\frac{m\\omega}{\\pi\\hbar}\\right)^{1/4} e^{-\\frac{m\\omega x^2}{2\\hbar}}.\n",
    "$$\n",
    "However, we will be using units where $\\hbar = m = 1$. In these units, the ground state simplifies to\n",
    "$$\n",
    "\\psi_0(x) = \\left(\\frac{\\omega}{\\pi}\\right)^{1/4} e^{-\\frac{\\omega x^2}{2}}.\n",
    "$$\n",
    "We discretize our wavefunction over a grid of x-values, and use `omega = 0.2`. We proceed to define the ground state wavefunction below.\n"
   ]
  },
  {
   "cell_type": "code",
   "execution_count": 12,
   "metadata": {},
   "outputs": [],
   "source": [
    "qm = cf.QuantumMechanics(1,xlim=[-15,15],xRes=200) # This object holds the x grid, and useful plotting functionality!\n",
    "\n",
    "x = qm.x # Array of x values\n",
    "dx = qm.dx # Spacing between x values \n",
    "\n",
    "omega = 0.2 # Angular frequency\n",
    "psi = (omega / np.pi)**(1/4) * np.exp(- omega * x**2 / 2) # Ground state wavefunction"
   ]
  },
  {
   "cell_type": "markdown",
   "metadata": {},
   "source": [
    "Problem a):\n",
    "\n",
    "The position operator $\\hat{x}$ acts on a wave function $\\psi$, giving a new function $\\hat x \\psi $ defined as\n",
    "$$\n",
    "(\\hat{x} \\psi)(x) = x \\psi(x)\n",
    "$$\n",
    "I. Implement the position operator in code. \n",
    "<details>\n",
    "<summary>Hint</summary>\n",
    "<p>\n",
    "<!-- <pre><code> -->\n",
    "-- Make a function that takes in a complex field psi and returns the complex field x * psi. We choose to represent fields as numpy arrays.\n",
    "<!-- </code></pre> -->\n",
    "</p>\n",
    "</details>\n",
    "\n",
    "II. Plot the initial wavefunction $\\psi_0$ and the function $\\hat{x} \\psi_0$ (the result after applying the position operator to the wave function). Do this using `qm.plot_complex_field` which takes in a numpy array of complex numbers and plots it.\n",
    "\n",
    "\n",
    "III. Also compute the expectation value of the position operator for the ground state wave function. \n",
    "\n",
    "IV. Does the computed expectation value make sense? Give a brief comment."
   ]
  },
  {
   "cell_type": "markdown",
   "metadata": {},
   "source": [
    "b)\n",
    "The momentum operator in one dimension is given by \n",
    "$\\hat p = - i\\hbar \\frac{\\partial}{\\partial x}$. However, we will here use units with $\\hbar = 1$. \n",
    "In these units the momentum operator becomes $\\hat p = - i \\frac{\\partial}{\\partial x}$. This is what we will use for the rest of this exercise.\n",
    "\n",
    "\n",
    "The momentum operator $\\hat{p}$ acts on a wave function $\\psi$, giving a new function $\\hat p \\psi $ defined as\n",
    "$$\n",
    "(\\hat{p} \\psi)(x) = -i \\frac{\\partial \\psi}{ \\partial x}(x).\n",
    "$$\n",
    "\n",
    "I. Implement the momentum operator in code (using units with $\\hbar=1$). The imaginary unit in python is given by `1j`.\n",
    "\n",
    "II. Plot $\\hat p \\psi_0$, which is the result of the momentum operator acting on the ground state wavefunction.\n",
    "\n",
    "III. Also compute the expectation value of the momentum operator for the ground state wave function."
   ]
  },
  {
   "cell_type": "markdown",
   "metadata": {},
   "source": [
    "c)\n",
    "\n",
    "We are now working in a harmonic potential. Hence the Hamiltonian operator $\\hat{H}$ acts on a wave function $\\psi$, giving a new function $\\hat H \\psi $ defined as\n",
    "$$\n",
    "(\\hat{H} \\psi)(x) = -\\frac{1}{2} \\frac{d^2\\psi}{dx^2}(x) + \\frac{1}{2} \\omega^2 x^2 \\psi(x),\n",
    "$$\n",
    "in units where $m = \\hbar = 1$.\n",
    "<!-- $$\n",
    "(\\hat{H} \\psi)(x) = -\\frac{\\hbar^2}{2m} \\frac{d^2\\psi}{dx^2}(x) + \\frac{1}{2} m \\omega^2 x^2 \\psi(x).\n",
    "$$ -->\n",
    "\n",
    "I. Implement the above Hamiltonian operator in code.\n",
    "\n",
    "<!-- II. Plot the Hamiltonian operator acting on the ground state wave function. -->\n",
    "II. $\\hat H \\psi$, which is the result of the Hamiltonian operator acting on the ground state wavefunction.  \n",
    "\n",
    "III. Compute the expectation value of the Hamiltonian operator for the ground state wave function.\n",
    "\n",
    "IV. Write up the expression for the ground state energy of the harmonic oscillator. Check that the computed expectation value matches this expression.\n",
    "<details>\n",
    "<summary>Hint</summary>\n",
    "<p>\n",
    "Remember that in our choice of units, we have hbar = m = 1.\n",
    "</p>\n",
    "</details>"
   ]
  }
 ],
 "metadata": {
  "kernelspec": {
   "display_name": "venv",
   "language": "python",
   "name": "python3"
  },
  "language_info": {
   "codemirror_mode": {
    "name": "ipython",
    "version": 3
   },
   "file_extension": ".py",
   "mimetype": "text/x-python",
   "name": "python",
   "nbconvert_exporter": "python",
   "pygments_lexer": "ipython3",
   "version": "3.10.9"
  }
 },
 "nbformat": 4,
 "nbformat_minor": 2
}
