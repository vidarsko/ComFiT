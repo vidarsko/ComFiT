{
 "cells": [
  {
   "cell_type": "markdown",
   "metadata": {},
   "source": [
    "## Read everything in the problem statement\n",
    "\n",
    "If you need help, try the prepromt on [comfitlib.com](https://comfitlib.com/) and paste it into your LLM of choice (e.g., GPT UiO).\n",
    "\n",
    "![](../preprompt_demo.gif)\n",
    "\n",
    "**If you are running Google Colab, uncomment the following code to install the required libraries**"
   ]
  },
  {
   "cell_type": "code",
   "execution_count": null,
   "metadata": {},
   "outputs": [],
   "source": [
    "# !pip install comfit==1.9.2 -q # Uncomment and run this cell if you are using Google Colab"
   ]
  },
  {
   "cell_type": "code",
   "execution_count": null,
   "metadata": {},
   "outputs": [],
   "source": [
    "import numpy as np\n",
    "import matplotlib.pyplot as plt\n",
    "import comfit as cf"
   ]
  },
  {
   "cell_type": "markdown",
   "metadata": {},
   "source": [
    "# Module 4"
   ]
  },
  {
   "cell_type": "markdown",
   "metadata": {},
   "source": [
    "Goals for the module:\n",
    "* Use the Born rule to compute the probability of observing a particle.\n",
    "* Demonstrate examples of quantum tunnelling."
   ]
  },
  {
   "cell_type": "markdown",
   "metadata": {},
   "source": [
    "## Problem 1"
   ]
  },
  {
   "cell_type": "markdown",
   "metadata": {},
   "source": [
    "In this problem, you will use the Born rule to compute the probability of measuring a particle in a region."
   ]
  },
  {
   "cell_type": "markdown",
   "metadata": {},
   "source": [
    "#### Subproblem a)\n",
    "* State the Born rule. \n",
    "* For a particle in one dimension - what is the probability of measuring the particle to lie somewhere in an interval $[x_1, x_2]$?"
   ]
  },
  {
   "cell_type": "markdown",
   "metadata": {},
   "source": [
    "#### Subproblem b)"
   ]
  },
  {
   "cell_type": "markdown",
   "metadata": {},
   "source": [
    "In this problem, you will consider a wavepacket that is initialized at $x=0$ with initial velocity $1$.\n",
    "<!-- * Write a function that takes in a wavefunction `psi` and positions `x1` and `x2`, and computes the probability of observing the particle between `x1` and `x2`. -->\n",
    "* At time $t=0$, what is the probability that we observe the particle in the interval [-2, 2]? Feel free to use the function `integrate_interval` defined below!\n",
    "* Suppose that the system is allowed to evolve undisturbed for 30 timesteps. What is the probability of measuring the particle in [-2, 2] now? Use `qm.evolve_schrodinger` to evolve the system.\n",
    "\n",
    "Note: You can plot the complex wavefunction using `qm.plot_complex_field`, or the probability density (a real field) using `qm.plot_field`. We encourage you to do this:)"
   ]
  },
  {
   "cell_type": "code",
   "execution_count": null,
   "metadata": {},
   "outputs": [],
   "source": [
    "# Initialize a 1-Dimensional system \n",
    "dt = 0.1\n",
    "xRes = 201\n",
    "xlim = [-10,10]\n",
    "dx = (xlim[1]-xlim[0])/(xRes-1)\n",
    "\n",
    "qm = cf.QuantumMechanics(1, xlim=xlim, dt=dt, xRes=xRes)\n",
    "qm.conf_initial_condition_Gaussian(position=0, width=1, initial_velocity=1)\n",
    "psi_initial = qm.psi"
   ]
  },
  {
   "cell_type": "code",
   "execution_count": null,
   "metadata": {},
   "outputs": [],
   "source": [
    "def integrate_interval(field: np.ndarray, x_start: float, x_end: float, qm: cf.QuantumMechanics) -> float:\n",
    "    \"\"\"Integrates a field over a given interval\n",
    "\n",
    "    Args:\n",
    "        field (np.ndarray): a field to integrate\n",
    "        x_start (float): start of the interval\n",
    "        x_end (float): end of the interval\n",
    "        qm (cf.QuantumMechanics): quantum mechanics object\n",
    "\n",
    "    Returns:\n",
    "        float: the integral of the field over the interval\n",
    "    \"\"\"\n",
    "    x = qm.x\n",
    "    dx = x[1] - x[0]\n",
    "    is_in_interval = (x >= x_start) & (x <= x_end) # Boolean array with True where x is in the interval\n",
    "    return np.sum(field[is_in_interval]) * dx"
   ]
  },
  {
   "cell_type": "markdown",
   "metadata": {},
   "source": [
    "## Problem 2"
   ]
  },
  {
   "cell_type": "markdown",
   "metadata": {},
   "source": [
    "You might have heard of the term \"quantum tunnelling\" in popular science. But what is quantum tunnelling really? \n",
    "\n",
    "Quantum tunnelling is a name for when a particle moves to a region that is classically forbidden (ie. the particle wouldn't be able to go there, according to Newton's laws of motion), in a way that is predicted by quantum mechanics.\n",
    "In this problem, we will see an example of quantum tunnelling! We will consider the following setup:\n",
    "\n",
    "A particle is located at $x=-10$, with mass $1$ and initial velocity $1$. There is a potential wall, given by\n",
    "$$\n",
    "V(x) = \\begin{cases}\n",
    "1, & \\text{if } 0 \\le x \\le 5, \\\\\n",
    "0, & \\text{otherwise.}\n",
    "\\end{cases}\n",
    "$$"
   ]
  },
  {
   "cell_type": "markdown",
   "metadata": {},
   "source": [
    "Subproblem a)\n",
    "\n",
    "* Describe how the particle will behave, if we treat it classically. How long does it take for it to hit the wall? What happens then? Use an energy conservation argument."
   ]
  },
  {
   "cell_type": "markdown",
   "metadata": {},
   "source": [
    "Subproblem b)\n",
    "\n",
    "We will now treat this system quantum mechanically. We initialize a wavepacket representing the particle, with mass $1$ and initial velocity $1$. \n",
    "\n",
    "* Evolve the system for 100 timesteps (which correspons to $t=10$) using `qm.evolve_schrodinger`. Plot the wavefunction using `qm.plot_complex_field`.\n",
    "* Evolve the system for another 100 timesteps and plot the wavefunction.\n",
    "* What happens as the packet hits the wall? Compare with the classical case\n",
    "* Compute the probability that the particle has passed through the potential wall after the full 200 timesteps of time evolution.\n"
   ]
  },
  {
   "cell_type": "code",
   "execution_count": null,
   "metadata": {},
   "outputs": [],
   "source": [
    "# Initialize a 1-Dimensional system \n",
    "dt = 0.1\n",
    "xRes = 1001\n",
    "xlim = [-50,50]\n",
    "dx = (xlim[1]-xlim[0])/(xRes-1)\n",
    "\n",
    "qm = cf.QuantumMechanics(1, xlim=xlim, dt=dt, xRes=xRes)\n",
    "qm.conf_initial_condition_Gaussian(position=-10, width=1, initial_velocity= 1)\n",
    "V = 1 * (qm.x > 0 ) * (qm.x < 5)\n",
    "qm.V_ext = V\n",
    "fig, ax = qm.plot_field(V, size=(400, 400))\n",
    "fig"
   ]
  },
  {
   "cell_type": "code",
   "execution_count": null,
   "metadata": {},
   "outputs": [],
   "source": [
    "fig, ax = qm.plot_complex_field(qm.psi) # Plot the initial wavefunction\n",
    "qm.plot_field(qm.V_ext, fig=fig, ax=ax)\n",
    "fig"
   ]
  },
  {
   "cell_type": "markdown",
   "metadata": {},
   "source": [
    "#### Subproblem c)"
   ]
  },
  {
   "cell_type": "markdown",
   "metadata": {},
   "source": [
    "You will now run two different variations of the experiment setup in subproblem b)."
   ]
  },
  {
   "cell_type": "markdown",
   "metadata": {},
   "source": [
    "* Make the obstacle twice as wide (i.e., from $x=-5$ to $x=+5$). What is the tunneling probability after 200 timesteps?\n",
    "* Make the obstacle twice as \"high\", i.e. double `qm.V_ext`. What is the tunneling probability after 200 timesteps? (For this experiment, you should use same obstacle width as in subproblem b)."
   ]
  },
  {
   "cell_type": "markdown",
   "metadata": {},
   "source": [
    "#### Subproblem d)"
   ]
  },
  {
   "cell_type": "markdown",
   "metadata": {},
   "source": [
    "* Run the below code, which generates an animation of the time evolution of the system. What do you see?"
   ]
  },
  {
   "cell_type": "code",
   "execution_count": null,
   "metadata": {},
   "outputs": [],
   "source": [
    "# Initialize a 1-Dimensional system \n",
    "dt = 0.1\n",
    "xRes = 1001\n",
    "xlim = [-50,50]\n",
    "dx = (xlim[1]-xlim[0])/(xRes-1)\n",
    "\n",
    "qm = cf.QuantumMechanics(1, xlim=xlim, dt=dt, xRes=xRes)\n",
    "qm.conf_initial_condition_Gaussian(position=-10, width=1, initial_velocity= 1)\n",
    "V = 1 * (qm.x > 0 ) * (qm.x < 5)\n",
    "qm.V_ext = V\n",
    "fig, ax = qm.plot_field(V, size=(400, 400))\n",
    "fig\n",
    "\n",
    "plot_height = np.max(np.abs(qm.psi))\n",
    "for n in range(40):\n",
    "    print(n, end='\\r')\n",
    "    qm.evolve_schrodinger(5)\n",
    "    fig, ax = qm.plot_complex_field(qm.psi, size=(400, 400)) # Plot the initial wavefunction\n",
    "    qm.plot_field(qm.V_ext*plot_height, fig=fig, ax=ax, vlim=[0,plot_height])\n",
    "    qm.plot_save(fig, n)\n",
    "cf.tool_make_animation_gif(n)\n",
    "print(\"Done! Check you file system (folder icon on the left in Colab).\")"
   ]
  },
  {
   "cell_type": "markdown",
   "metadata": {},
   "source": [
    "\n",
    "## Problem 3\n"
   ]
  },
  {
   "cell_type": "markdown",
   "metadata": {},
   "source": [
    "We are now living in a highly digital world. All the digital devices - computers, tablets, TV's, and so on - are powered by microchips. And zooming further in, these microchips consist of a large amount of transistors.\n",
    "\n",
    "Moore's law is the observation that the number of transistors we can fit on a microchip approximately doubles every two years. Chip manufacturers have been able to achieve this by creating smaller and smaller transistors. \n",
    "\n",
    "Problem arises when the transistors become so small that electrons can quantum tunnel. This is because transistors rely on stopping and starting electrical signals, i.e., the flow of electrons. If the electrons start tunneling through the components of our computer, then Houston, we have a problem.\n",
    "\n",
    "We can model an electron closed off by a transistor by placing it in a potential well. \n",
    "This is what we will consider in this problem."
   ]
  },
  {
   "cell_type": "code",
   "execution_count": null,
   "metadata": {},
   "outputs": [],
   "source": [
    "# Initialize a 1-Dimensional system \n",
    "dt = 0.1\n",
    "xRes = 501\n",
    "xlim = [-50,50]\n",
    "\n",
    "qm = cf.QuantumMechanics(1, xlim=xlim, dt=dt, xRes=xRes)\n",
    "\n",
    "transistor_width = 20\n",
    "\n",
    "V = 1/2 * (\n",
    "    0.5*np.tanh((qm.x + transistor_width/2)/2) \n",
    "    - 1.5*np.tanh((qm.x + 30)/2) \n",
    "    + 1.5*np.tanh((qm.x - 30)/2) \n",
    "    - 0.5*np.tanh((qm.x - transistor_width/2)/2) \n",
    "    ) + 1.5\n",
    "\n",
    "qm.V_ext = V\n",
    "\n",
    "fig, ax = qm.plot_field(V, size=(400, 400))\n",
    "fig.update_layout(yaxis_title=\"Potential\")\n",
    "fig"
   ]
  },
  {
   "cell_type": "markdown",
   "metadata": {},
   "source": [
    "#### Subproblem a)\n"
   ]
  },
  {
   "cell_type": "markdown",
   "metadata": {},
   "source": [
    "First we will consider the classical behavior of an electron in this potential. Specifically, consider an electron with mass $m=1$, initial velocity $v_{init} = 1/2$, and initial position $x_{init} = -20$."
   ]
  },
  {
   "cell_type": "markdown",
   "metadata": {},
   "source": [
    "* According to classical mechanics, will the electron  the leftmost potential well?"
   ]
  },
  {
   "cell_type": "markdown",
   "metadata": {},
   "source": [
    "#### Subproblem b)"
   ]
  },
  {
   "cell_type": "markdown",
   "metadata": {},
   "source": [
    "Now we will consider the quantum mechanical version of this system. We initialize a wave packet centered at $x_{init}=-20$, with initial velocity $v_{init} = 0.5$. We plot the potential along with the initial wavefunction below. "
   ]
  },
  {
   "cell_type": "code",
   "execution_count": null,
   "metadata": {},
   "outputs": [],
   "source": [
    "qm.conf_initial_condition_Gaussian(position=-20, width=2.5, initial_velocity= 0.5)\n",
    "\n",
    "fig, ax = qm.plot_field(V, size=(400, 400)) # Plot potential\n",
    "qm.plot_complex_field(qm.psi, size=(400, 400), fig=fig, ax=ax) # Plot initial wavefunction\n",
    "fig"
   ]
  },
  {
   "cell_type": "markdown",
   "metadata": {},
   "source": [
    "<!-- Plot initial energy, dotted line -->"
   ]
  },
  {
   "cell_type": "markdown",
   "metadata": {},
   "source": [
    "* Run the below code, which generates a gif of the system as it evolves in time.\n",
    "* Modify the code so that you compute the probability of tunnelling to the interval [10, 30] as a function of time steps.\n",
    "* Plot the tunnelling probability as a function of time steps evolved.\n",
    "<!-- * Briefly comment what you see. Is this different to the classical behavior of the particle? -->"
   ]
  },
  {
   "cell_type": "code",
   "execution_count": null,
   "metadata": {},
   "outputs": [],
   "source": [
    "plot_height = np.max(np.abs(qm.psi))\n",
    "for n in range(100):\n",
    "    print(n, end='\\r')\n",
    "    qm.evolve_schrodinger(20)\n",
    "    fig, ax = qm.plot_complex_field(qm.psi, size=(400, 400)) # Plot the initial wavefunction\n",
    "    qm.plot_field(qm.V_ext*plot_height, fig=fig, ax=ax, vlim=[0,plot_height])\n",
    "    qm.plot_save(fig, n)\n",
    "cf.tool_make_animation_gif(n)\n",
    "print(\"Done\")"
   ]
  },
  {
   "cell_type": "markdown",
   "metadata": {},
   "source": [
    "#### Subproblem c)\n",
    "\n",
    "- Change the width between the wells to half its original value. What happens to the tunneling probability now?"
   ]
  }
 ],
 "metadata": {
  "kernelspec": {
   "display_name": "venv",
   "language": "python",
   "name": "python3"
  },
  "language_info": {
   "codemirror_mode": {
    "name": "ipython",
    "version": 3
   },
   "file_extension": ".py",
   "mimetype": "text/x-python",
   "name": "python",
   "nbconvert_exporter": "python",
   "pygments_lexer": "ipython3",
   "version": "3.10.9"
  }
 },
 "nbformat": 4,
 "nbformat_minor": 2
}
