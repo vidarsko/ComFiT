{
 "cells": [
  {
   "cell_type": "markdown",
   "id": "7db41527-a2e4-4604-8bf1-00d73e5683b8",
   "metadata": {},
   "source": [
    "# Bose-Einstein Condensate: 3D condensate in a comoving frame"
   ]
  },
  {
   "cell_type": "markdown",
   "id": "b3b6ba5f",
   "metadata": {},
   "source": [
    "In this tutorial, we will want to take the step into 3D. This is not to different from the 2D systems.  We start by setting the potential to a gaussian and initialise the wave function by relaxing the Thomas-Fermi ground state."
   ]
  },
  {
   "cell_type": "code",
   "execution_count": null,
   "id": "c81a67ce",
   "metadata": {},
   "outputs": [],
   "source": [
    "!pip install comfit -q"
   ]
  },
  {
   "cell_type": "code",
   "execution_count": null,
   "id": "b6c3bbb7",
   "metadata": {
    "tags": []
   },
   "outputs": [],
   "source": [
    "\n",
    "import numpy as np\n",
    "import matplotlib.pyplot as plt\n",
    "import comfit as cf\n",
    "\n",
    "### task 1. Initialise a BoseEinsteinCondensate in 3 dimensions with resolution 64x64x64. Sett gamma = 0 and dt =0.1\n",
    "\n",
    "\n",
    "### task 2. set the potential to a gaussian placed at the centre with size = 2 and strenght = 4. Initialise the\n",
    "# wave function using the thomas-fermi groundstate and relax the system for 100 time steps. Plot the result\n",
    "\n"
   ]
  },
  {
   "cell_type": "markdown",
   "id": "b2e1049d",
   "metadata": {},
   "source": [
    "We now want to set the dissipative frame. "
   ]
  },
  {
   "cell_type": "code",
   "execution_count": null,
   "id": "4b847c49",
   "metadata": {},
   "outputs": [],
   "source": [
    "### task 3. set a dissipative frame with wx=wy=wz = 25. Plot gamma\n",
    "\n",
    "\n",
    "\n",
    "\n"
   ]
  },
  {
   "cell_type": "markdown",
   "id": "a3bcc7e9",
   "metadata": {},
   "source": [
    "Now the system will be evolved in the comoving frame. We sett the stirer velocity to 0.8. This will produce vortex rings that are removed by the dissipative frame."
   ]
  },
  {
   "cell_type": "code",
   "execution_count": null,
   "id": "d39250e3",
   "metadata": {},
   "outputs": [],
   "source": [
    "### adding some noise to the wave function \n",
    "bec.psi += (0.01*np.random.randn(bec.xRes,bec.yRes,bec.zRes)+ 0.01*np.random.randn(bec.xRes,bec.yRes,bec.zRes)*(1j))*np.abs(bec.psi)**2\n",
    "bec.psi_f = np.fft.fftn(bec.psi)\n",
    "\n",
    "### task 4. evolve the system in the comoving frame using vel_x =0.8. \n",
    "# make an animation the result (This might take a few minutes)\n",
    "\n",
    "    \n",
    "\n",
    "ax=bec.plot_complex_field(bec.psi)\n",
    "\n",
    "plt.show()\n",
    "\n",
    "### Note: you can alos track defects in 3D with the same functions as in 2D. Try"
   ]
  },
  {
   "cell_type": "code",
   "execution_count": null,
   "id": "e59db146",
   "metadata": {},
   "outputs": [],
   "source": [
    "### extra task 1. Initialise a 3D bec (remember to find ground state) with one, two or more\n",
    "### vortex rings using the function\n",
    "### conf_insert_vortex_ring(self, position=None, radius=None, normal_vector=[0, 0, 1]) \n",
    "### play around with their sizes, initial position and normal vector"
   ]
  },
  {
   "cell_type": "code",
   "execution_count": null,
   "id": "850928e9",
   "metadata": {},
   "outputs": [],
   "source": [
    "### extra task 2. Make a time dependent stirring potential in 3D. Vary the stirring velocity, stirring radius \n",
    "### and size of the stirrer.\n",
    "### Try making the stirrer move in different patterns than circular (ask Vidar about salsa steps)\n"
   ]
  },
  {
   "cell_type": "markdown",
   "id": "0e194cbe",
   "metadata": {},
   "source": [
    "# Solutions"
   ]
  },
  {
   "cell_type": "code",
   "execution_count": null,
   "id": "e55bf764",
   "metadata": {},
   "outputs": [],
   "source": [
    "import numpy as np\n",
    "import matplotlib.pyplot as plt\n",
    "import comfit as cf\n",
    "\n",
    "\n",
    "bec = cf.BoseEinsteinCondensate(3,xRes=64,yRes=64,zRes=64,gamma=0,dt=0.05)\n",
    "\n",
    "pot= bec.calc_gaussian_stirring_potential(2,4,[bec.xmid,bec.ymid,bec.zmid])\n",
    "\n",
    "bec.conf_external_potential(pot, additive=False)\n",
    "\n",
    "bec.conf_initial_condition_Thomas_Fermi()\n",
    "bec.evolve_relax(100)\n",
    "\n",
    "bec.plot_field(np.abs(bec.psi)**2)\n",
    "plt.show()"
   ]
  },
  {
   "cell_type": "code",
   "execution_count": null,
   "id": "1be37f70",
   "metadata": {},
   "outputs": [],
   "source": [
    "bec.conf_dissipative_frame(wx=25,wy=25,wz=25)\n",
    "\n",
    "bec.plot_field(bec.gamma)\n",
    "plt.show()"
   ]
  },
  {
   "cell_type": "code",
   "execution_count": null,
   "id": "80f92c6a",
   "metadata": {},
   "outputs": [],
   "source": [
    "## add noise to break symmetry\n",
    "bec.psi += (0.01*np.random.randn(bec.xRes,bec.yRes,bec.zRes)+ 0.01*np.random.randn(bec.xRes,bec.yRes,bec.zRes)*(1j))*np.abs(bec.psi)**2\n",
    "bec.psi_f = np.fft.fftn(bec.psi)\n",
    "vel_x = 0.8\n",
    "\n",
    "N = 600\n",
    "\n",
    "\n",
    "\n",
    "for n in range(N):\n",
    "    bec.evolve_comoving_dGPE(10,vel_x,method='ETD4RK')\n",
    "      \n",
    "\n",
    "    fig,ax=bec.plot_complex_field(bec.psi)\n",
    "  \n",
    "    cf.tool_save_plot(n)\n",
    "\n",
    "\n",
    "cf.tool_make_animation_gif(n)"
   ]
  },
  {
   "cell_type": "code",
   "execution_count": null,
   "id": "d014185d",
   "metadata": {},
   "outputs": [],
   "source": []
  }
 ],
 "metadata": {
  "kernelspec": {
   "display_name": "Python 3 (ipykernel)",
   "language": "python",
   "name": "python3"
  },
  "language_info": {
   "codemirror_mode": {
    "name": "ipython",
    "version": 3
   },
   "file_extension": ".py",
   "mimetype": "text/x-python",
   "name": "python",
   "nbconvert_exporter": "python",
   "pygments_lexer": "ipython3",
   "version": "3.11.5"
  }
 },
 "nbformat": 4,
 "nbformat_minor": 5
}
