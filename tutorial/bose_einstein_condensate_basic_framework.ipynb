{
 "cells": [
  {
   "cell_type": "markdown",
   "id": "e2dd39b4",
   "metadata": {},
   "source": [
    "# Bose-Einstein condensate: Basic Framework\n",
    "\n",
    "In this notebook we are going to discuss some basic aspects of the framework, using the Bose-Einstein condensate as an example. We start by initialising a system."
   ]
  },
  {
   "cell_type": "code",
   "execution_count": null,
   "id": "f442cfc9",
   "metadata": {},
   "outputs": [],
   "source": [
    "!pip install comfit -q"
   ]
  },
  {
   "cell_type": "code",
   "execution_count": null,
   "id": "1f1df21a",
   "metadata": {},
   "outputs": [],
   "source": [
    "import comfit as cf\n",
    "import matplotlib.pyplot as plt\n",
    "import numpy as np\n",
    "\n",
    "bec = cf.BoseEinsteinCondensate(2,xRes=101,yRes=101,gamma=0.01,dt=0.1)\n",
    "\n",
    "### setting the system to a homogeneous condensate. This will be discussed more in the next tutorial \n",
    "bec.conf_initial_condition_Thomas_Fermi()\n"
   ]
  },
  {
   "cell_type": "markdown",
   "id": "5ed021e1",
   "metadata": {},
   "source": [
    "Here gamma is a dissipative factor that is removing energy from the system. The last line initialised the system as a homogeneous condensate, defining the two fields bec.psi and bec.psi_f wich is the wave function in real and fourier space. \n",
    "\n",
    "Since the system have periodic boundary conditions we can calculate derivatives in fourier space. We have\n",
    "\n",
    "d f(r)/dx -> i k_x f_f(k). \n",
    "\n",
    "In the module the wave vectors k is given as the variable bec.k, and the x-component is bec.k[0]. The combination 1j * bec.k is provided in the bec.dif list. You can therefore find the x derivative of the field f in fourier space by running bec.dif[0]*f_f \n",
    "\n"
   ]
  },
  {
   "cell_type": "code",
   "execution_count": null,
   "id": "7db21127",
   "metadata": {},
   "outputs": [],
   "source": [
    "#### task 1: Find the paritial derivative of psi wrt x by differentiating in fourier space\n",
    "#    (hint: use np.fft.ifft2() and bec.psi_f)\n"
   ]
  },
  {
   "cell_type": "markdown",
   "id": "6f9837f5",
   "metadata": {},
   "source": [
    "The module contains functions for ploting different types of fields (see previous notebook), like plot_field(...) and plot_complex_field(...). \n",
    "\n",
    "Here is an example of how to cal a plotting function.\n",
    "bec.plot_field(np.abs(bec.psi)**2,cmap_symmetric=False,colormap = 'winter')\n",
    "Remember to set cmap_symmetric = False when ploting\n",
    "something that is not symetric around 0."
   ]
  },
  {
   "cell_type": "code",
   "execution_count": null,
   "id": "cce57e8d",
   "metadata": {},
   "outputs": [],
   "source": [
    "#### task 2: Plott the derivative you found above. It will look a bit strange.\n"
   ]
  },
  {
   "cell_type": "markdown",
   "id": "c0a0fbe1",
   "metadata": {},
   "source": [
    "We also need to evolve the wave function in time. This is done by the evolver functions. The bec has three different evolvers.\n",
    "\n",
    "bec.evolve_relax( number_of_steps, method='ETD2RK') relaxes the system by integrating the Gross-Pitaevskii equation in imaginary time. \n",
    "\n",
    "bec.evolve_dGPE( number_of_steps, method='ETD2RK') evolves using the damped Gross-Pitaevskii equation and\n",
    "\n",
    "bec.evolve_comoving_dGPE(number_of_steps, velx, method='ETD2RK') evolves the system in the frame moving at speed velx in the x direction (relative to the labframe). This solver allowes for gamma to be spatialy dependent.\n",
    "\n",
    "All the evolvers allowes you to choose which solver you want to use. The default is ETD2RK which is a second order solver. The other implemented choise is ETD4RK which is fourt order. For details see the documentation or bully Vidar. \n",
    "\n"
   ]
  },
  {
   "cell_type": "code",
   "execution_count": null,
   "id": "395be236",
   "metadata": {},
   "outputs": [],
   "source": [
    "#### task 3: Evolve the system for 50 timesteps and plot the absolut value of psi.\n",
    "\n"
   ]
  },
  {
   "cell_type": "markdown",
   "id": "29799125",
   "metadata": {},
   "source": [
    "We now want to look at how to initialise and track topological defects (vortices) in the bec. We can insert a vortex dipole by running the function conf_insert_vortex_dipole(self, dipole_vector=None, dipole_position=None). If the parameters dipole_vector and dipole_position is not given the dipole is put in the midle of the domain. After this one should relax the system with evolve_relax(...) to get the right core structure. \n",
    "\n"
   ]
  },
  {
   "cell_type": "code",
   "execution_count": null,
   "id": "3b450baf",
   "metadata": {},
   "outputs": [],
   "source": [
    "### task 4: initialise a dipole at your favoritt position and relax the system for 10 timesteps. Plot the absolute \n",
    "# value of psi\n",
    "\n"
   ]
  },
  {
   "cell_type": "markdown",
   "id": "43d0569c",
   "metadata": {},
   "source": [
    "Tracking of defects can be done using the function calc_vortex_nodes(self, dt_psi=None) that finds the position and charge of the defects. If dt_psi is provided it will also find the defects' velocity. The output of this function is an array of vortex dictionaries.\n",
    "\n",
    "In the vortex dictionary the vortx's position is saved under the key word 'position', the charge under 'charge' and the velocity under 'velocity'. \n",
    "\n",
    "Once this array is found the vortices can be ploted using the function \n",
    "plot_vortex_nodes(self, vortex_nodes, ax=None), where vortex_nodes is the array of dictionaries that where found with calc_vortex_nodes(self, dt_psi=None) \n",
    "\n"
   ]
  },
  {
   "cell_type": "code",
   "execution_count": null,
   "id": "730c8e3e",
   "metadata": {},
   "outputs": [],
   "source": [
    "### task 5: evolve the system 50 time-steps.\n",
    "\n",
    "### task 6: find dt_psi (hint use the evolver a few time steps and the variable bec.dt).\n",
    "# Use this to find the defects and their velocity. Using the function bec.calc_vortex_nodes( dt_psi) \n",
    "#Plot the defect positions on top of a plot of the absolute value squared of the wavefunction\n",
    "#(the colormap 'gray' look very nice for this)\n",
    "\n",
    "\n",
    "### task 7: try making gamma larger and see what effect this has "
   ]
  },
  {
   "cell_type": "markdown",
   "id": "7a4649ab",
   "metadata": {},
   "source": [
    "When simulating the BEC there is a range of different properties that might be of interest. Some of them are included in the library. Here is a list of the ones that are currently included\n",
    "\n",
    "bec.calc_superfluid_current() - returns the superfluid current\n",
    "\n",
    "bec.calc_velocity() - returns the weighted superfluid velocity ($\\vec v_s\\sqrt{\\rho}$) \n",
    "\n",
    "bec.calc_hamiltonian_density() - returns the hamiltonian density\n",
    "\n",
    "bec.calc_hamiltonian() - returns the total energy\n",
    "\n",
    "bec.calc_kinetic_energy() - returns the total kinetic energy ($\\frac{1}{2}\\int d\\vec r \\rho v_s^2 $)\n",
    "\n",
    "bec.calc_force_on_external_potential()- returns the total force that the condensate is exerting on the external potential. Relevant if you want to find the drag on a stirring potential. \n"
   ]
  },
  {
   "cell_type": "code",
   "execution_count": null,
   "id": "b617c265",
   "metadata": {},
   "outputs": [],
   "source": [
    "### task 8. find and plot the superfluid current and the hamiltonian density. \n",
    "\n",
    "\n"
   ]
  },
  {
   "cell_type": "markdown",
   "id": "e471d76d",
   "metadata": {},
   "source": [
    "# 3D and Animations"
   ]
  },
  {
   "cell_type": "markdown",
   "id": "3b9174a2",
   "metadata": {},
   "source": [
    "We are now going to look at initialising a 3D system and make an animation. Most of the functions mentioned above can be used in 3D. The exeption is the function bec.conf_insert_vortex_dipole(dipole_vector=None, dipole_position=None) which is strictly 2D. Instead we have the function bec.conf_insert_vortex_ring( position=None, radius=None, normal_vector=[0, 0, 1]) to insert vortex rings into the condensate. This function can also be used to give the initial value to the wavefunction."
   ]
  },
  {
   "cell_type": "code",
   "execution_count": null,
   "id": "598ed9d0",
   "metadata": {},
   "outputs": [],
   "source": [
    "### task 9: initialise a 3D Bose-Einstein condensate and insert two vortex rings of different radius\n",
    "# and opposite pointing normal vector. Remember to relax the system. \n",
    "\n",
    "\n",
    "### task 10 use the bellow code to make an animation of the vortex rings\n",
    "\n",
    "N = 300\n",
    "for n in range(N):\n",
    "    bec.evolve_dGPE(10)\n",
    "    fig,ax=bec.plot_field(abs(bec.psi)**2,cmap_symmetric=False,\n",
    "                clims=[0,1])\n",
    "    \n",
    "    cf.tool_save_plot(n)\n",
    "\n",
    "\n",
    "cf.tool_make_animation_gif(n)"
   ]
  },
  {
   "cell_type": "markdown",
   "id": "088be5b9",
   "metadata": {},
   "source": [
    "# Solutions"
   ]
  },
  {
   "cell_type": "code",
   "execution_count": null,
   "id": "95f87fab",
   "metadata": {},
   "outputs": [],
   "source": [
    "import comfit as cf\n",
    "import matplotlib.pyplot as plt\n",
    "import numpy as np\n",
    "\n",
    "bec = cf.BoseEinsteinCondensate(2,xRes=101,yRes=101,gamma=0.01,dt=0.1)\n",
    "\n",
    "### setting the system to a homogeneous condensate \n",
    "bec.conf_initial_condition_Thomas_Fermi()\n",
    "\n",
    "#### task 1 and 2\n",
    "dphidx = np.fft.ifft2(bec.dif[0]*bec.psi_f)\n",
    "\n",
    "bec.plot_complex_field(dphidx)\n",
    "plt.show()\n",
    "\n"
   ]
  },
  {
   "cell_type": "code",
   "execution_count": null,
   "id": "0e114fa8",
   "metadata": {},
   "outputs": [],
   "source": [
    "# task 3\n",
    "bec.evolve_dGPE(50)\n",
    "\n",
    "bec.plot_field(np.abs(bec.psi)**2,cmap_symmetric=False,colormap = 'winter')\n",
    "plt.show()\n"
   ]
  },
  {
   "cell_type": "code",
   "execution_count": null,
   "id": "35490bd1",
   "metadata": {},
   "outputs": [],
   "source": [
    "#Task 4\n",
    "bec.conf_insert_vortex_dipole( )\n",
    "\n",
    "bec.evolve_relax( 10) \n",
    "\n",
    "bec.plot_field(np.abs(bec.psi)**2,cmap_symmetric=False,colormap = 'winter' )\n",
    "plt.show()"
   ]
  },
  {
   "cell_type": "code",
   "execution_count": null,
   "id": "3841520f",
   "metadata": {},
   "outputs": [],
   "source": [
    "# task 5 and 6\n",
    "\n",
    "bec.evolve_dGPE(100)\n",
    "psi_old = bec.psi\n",
    "N=10\n",
    "bec.evolve_dGPE(N)\n",
    "dt_psi = (bec.psi-psi_old)/(N*bec.dt)\n",
    "\n",
    "\n",
    "\n",
    "nodes = bec.calc_vortex_nodes(dt_psi) \n",
    "\n",
    "fig,ax = bec.plot_field(np.abs(bec.psi)**2,cmap_symmetric=False,colormap = 'gray')\n",
    "\n",
    "\n",
    "bec.plot_vortex_nodes(nodes,ax=ax)\n",
    "\n",
    "plt.show()"
   ]
  },
  {
   "cell_type": "code",
   "execution_count": null,
   "id": "490227a9",
   "metadata": {},
   "outputs": [],
   "source": [
    "# task 8\n",
    "\n",
    "J_s = bec.calc_superfluid_current()\n",
    "H = bec.calc_hamiltonian_density()\n",
    "\n",
    "fig, ax=bec.plot_field(H,cmap_symmetric=False,colormap = 'cool')\n",
    "bec.plot_vector_field(J_s, ax=ax)\n",
    "plt.show()"
   ]
  },
  {
   "cell_type": "markdown",
   "id": "f06b5870",
   "metadata": {},
   "source": [
    "## Solutions 3D"
   ]
  },
  {
   "cell_type": "code",
   "execution_count": null,
   "id": "2e018546",
   "metadata": {},
   "outputs": [],
   "source": [
    "\n",
    "import comfit as cf\n",
    "import matplotlib.pyplot as plt\n",
    "import numpy as np\n",
    "\n",
    "bec = cf.BoseEinsteinCondensate(3,xRes=65,yRes=65,zRes=65,gamma=0.005,dt=0.1)\n",
    "\n",
    "bec.conf_insert_vortex_ring(radius=10, normal_vector=[0, 1, 0])\n",
    "\n",
    "bec.conf_insert_vortex_ring(radius=20, normal_vector=[0, -1, 0])\n",
    "\n",
    "bec.evolve_relax(20)\n",
    "\n",
    "N = 300\n",
    "for n in range(N):\n",
    "    bec.evolve_dGPE(10)\n",
    "    fig,ax=bec.plot_field(abs(bec.psi)**2,vlim=[0,1])\n",
    "    \n",
    "    cf.tool_save_plot(n)\n",
    "\n",
    "\n",
    "cf.tool_make_animation_gif(n)"
   ]
  },
  {
   "cell_type": "code",
   "execution_count": null,
   "id": "a7169fc6",
   "metadata": {},
   "outputs": [],
   "source": []
  }
 ],
 "metadata": {
  "kernelspec": {
   "display_name": "COMFIT",
   "language": "python",
   "name": "comfit"
  },
  "language_info": {
   "codemirror_mode": {
    "name": "ipython",
    "version": 3
   },
   "file_extension": ".py",
   "mimetype": "text/x-python",
   "name": "python",
   "nbconvert_exporter": "python",
   "pygments_lexer": "ipython3",
   "version": "3.9.18"
  }
 },
 "nbformat": 4,
 "nbformat_minor": 5
}
