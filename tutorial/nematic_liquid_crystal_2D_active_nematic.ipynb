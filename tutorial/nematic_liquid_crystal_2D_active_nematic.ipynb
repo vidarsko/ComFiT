{
 "cells": [
  {
   "cell_type": "markdown",
   "id": "435a50ac",
   "metadata": {},
   "source": [
    "# Nematic Liquid Crystal tutorial: 2D Active Nematic\n",
    "\n",
    "Here we are going to look at some basic properties of the active nematic class in two dimensions. This class have a lot of parameters that are described in the documentation. Here is a quick overview with the defult values and the key word if you want to initialise them with another value:\n",
    "\n",
    "self.alpha = -1  (keyword: 'alpha')\n",
    "\n",
    "self.K = 1  (Keyword 'K') \n",
    "\n",
    "self.A = 1  (Keyword 'A')\n",
    "\n",
    "self.B = 1  (Keyword 'B')\n",
    "\n",
    "self.C = 0  (Keyword 'C') Note: does not do anything in two dimensions\n",
    "       \n",
    "self.gamma = 1  (Keyword 'gamma') Note: do not put to zero (see documentation)\n",
    "\n",
    "self.Gamma = 0  (Keyword 'Gamma') Note: be carefull not to mistake \"Gamma\" and \"gamma\"  \n",
    "\n",
    "self.eta = 1  (Keyword 'eta' ) \n",
    "\n",
    "Lets now start by initialising the nematic class.\n",
    "\n"
   ]
  },
  {
   "cell_type": "code",
   "execution_count": null,
   "id": "2fe05381",
   "metadata": {},
   "outputs": [],
   "source": [
    "!pip install comfit -q\n"
   ]
  },
  {
   "cell_type": "code",
   "execution_count": null,
   "id": "b9419025",
   "metadata": {},
   "outputs": [],
   "source": [
    "import numpy as np\n",
    "import matplotlib.pyplot as plt\n",
    "import comfit as cf\n",
    "\n",
    "nem = cf.NematicLiquidCrystal(2,xRes=64,yRes=64,dx=1,dy=1,dt=0.1)"
   ]
  },
  {
   "cell_type": "markdown",
   "id": "4be8f8c7",
   "metadata": {},
   "source": [
    "There are two ways to initialise the self.Q tensor parameter. The first is to initialise it as a nematic with the nematogens pointing in the x-direction (+ noise). This is done with the function\n",
    "\n",
    "self.conf_initial_condition_ordered(self, noise_strength=0.01),\n",
    "\n",
    "noise_strength is here the noise in the angle.\n",
    "\n",
    "The other way of initialising is by the function\n",
    "\n",
    "self.conf_insert_disclination_dipole(self, dipole_vector=None, dipole_position=None)\n",
    "\n",
    "Which initialises a dipol in the system. It can also be used in an already defined system. Once the dipole is initialised the system can be relaxed using the function\n",
    "\n",
    "self.evolve_nematic_no_flow(self,number_of_steps,method = 'ETD2RK'),\n",
    "to make the defect cores.\n",
    "\n",
    "This function evolves the nematic without coupling it to a flow field, i.e it minimises the free energy.\n",
    "\n",
    "The degree of order S and the director can be found by the function \n",
    "\n",
    "S,director =nem.calc_order_and_director() and ploted with the standard plotting functions. \n",
    "\n"
   ]
  },
  {
   "cell_type": "code",
   "execution_count": null,
   "id": "6295378a",
   "metadata": {},
   "outputs": [],
   "source": [
    "#task 1: initialise a dipole pair and evolve the nematic for 10 time-steps using\n",
    "#    the evolve_nematic_no_flow(self,number_of_steps,method = 'ETD2RK') function\n",
    "#    plot the director and degree of order.\n",
    "   \n",
    "\n"
   ]
  },
  {
   "cell_type": "code",
   "execution_count": null,
   "id": "0362322f",
   "metadata": {},
   "outputs": [],
   "source": [
    "\n",
    "\n"
   ]
  },
  {
   "cell_type": "markdown",
   "id": "902b1029",
   "metadata": {},
   "source": [
    "To make the system active we need to evolve with the flow field. This is done with the function \n",
    "\n",
    "evolve_nematic(self, number_of_steps, method= 'ETD2RK') \n",
    "\n",
    "This function also updates the velocity field. \n",
    "\n",
    "The defect density field in the nematic can be found by the function calc_disclination_density_nematic(), while the defect nodes can be found with the function\n",
    "\n",
    "calc_disclination_nodes_nem(self, dt_Q=None,polarization = None,charge_tolerance=None),\n",
    "\n",
    "these works in the same way as the corresponding functions in the Bose Einstein condensate class. The polarization of the positive defect can be found by puting in the field\n",
    "\n",
    "polarization = nem.calc_disclination_polarization_field() \n",
    "\n",
    "in for the polarization keyword.\n",
    "\n",
    "To plot a scalar field, velocity field and director field in the same function the nematic class contains the function\n",
    "\n",
    "plot_field_velocity_and_director(self, field, velocity, director, **kwarg):\n",
    "\n"
   ]
  },
  {
   "cell_type": "code",
   "execution_count": null,
   "id": "8be875a7",
   "metadata": {},
   "outputs": [],
   "source": [
    "#task 2: Evolve the system for 10 time steps using the evolve_nematic(self, number_of_steps, method= 'ETD2RK') \n",
    "# function. Plot the defect denisty field, velocity field and director field.\n",
    "# Track the defects and plot them using the function plot_disclination_nodes(self, vortex_nodes, ax=None) "
   ]
  },
  {
   "cell_type": "code",
   "execution_count": null,
   "id": "d5fe3cce",
   "metadata": {},
   "outputs": [],
   "source": [
    "# task 3: make an animation of the defect anilation prosses. \n",
    "\n"
   ]
  },
  {
   "cell_type": "code",
   "execution_count": null,
   "id": "5c111f20",
   "metadata": {},
   "outputs": [],
   "source": [
    "# extra tasks 1: Initialise multiple defect pairs and have fun\n"
   ]
  },
  {
   "cell_type": "markdown",
   "id": "c2ddb602",
   "metadata": {},
   "source": [
    "# Solutions\n"
   ]
  },
  {
   "cell_type": "code",
   "execution_count": null,
   "id": "3d3a233b",
   "metadata": {},
   "outputs": [],
   "source": [
    "# Task 1 + 2 for animation see e.g 2.2 - BoseEinsteinCondensate tutorial: Time dependent potentials\n",
    "\n",
    "import numpy as np\n",
    "import matplotlib.pyplot as plt\n",
    "import comfit as cf\n",
    "\n",
    "nem = cf.NematicLiquidCrystal(2,xRes=64,yRes=64,dx=1,dy=1,dt=0.1,alpha=1)\n",
    "\n",
    "\n",
    "\n",
    "nem.conf_insert_disclination_dipole()\n",
    "nem.evolve_nematic_no_flow(10)\n",
    "\n",
    "\n",
    "\n",
    "Q_prev = np.copy(nem.Q)\n",
    "nem.evolve_nematic(10,\"ETD4RK\")\n",
    "\n",
    "dt_Q = (nem.Q -Q_prev)/(10*nem.dt)\n",
    "\n",
    "polarization = nem.calc_disclination_polarization_field()\n",
    "D = nem.calc_disclination_density_nematic()\n",
    "S,director =nem.calc_order_and_director()\n",
    "\n",
    "Dnodes =nem.calc_disclination_nodes_nem(dt_Q =dt_Q)\n",
    "\n",
    "\n",
    "fig,ax =nem.plot_field_velocity_and_director(D,nem.u,director,colormap='spring')\n",
    "\n",
    "nem.plot_disclination_nodes(Dnodes,ax=ax)\n",
    "\n",
    "plt.show()"
   ]
  },
  {
   "cell_type": "code",
   "execution_count": null,
   "id": "85505614",
   "metadata": {},
   "outputs": [],
   "source": []
  }
 ],
 "metadata": {
  "kernelspec": {
   "display_name": "COMFIT",
   "language": "python",
   "name": "comfit"
  },
  "language_info": {
   "codemirror_mode": {
    "name": "ipython",
    "version": 3
   },
   "file_extension": ".py",
   "mimetype": "text/x-python",
   "name": "python",
   "nbconvert_exporter": "python",
   "pygments_lexer": "ipython3",
   "version": "3.9.18"
  }
 },
 "nbformat": 4,
 "nbformat_minor": 5
}
