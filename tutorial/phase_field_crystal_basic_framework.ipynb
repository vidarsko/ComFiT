{
 "cells": [
  {
   "cell_type": "markdown",
   "metadata": {},
   "source": [
    "# Phase-field crystal tutorial: Basic framework\n",
    "\n",
    "In this tutorial, we will look at the basic framework of the phase-field crystal.\n",
    "\n",
    "The phase-field crystal is a modelling approach where the primary variable of interest is a scalar field $\\psi$ which has peaks in the positions of a crystalline lattice. \n",
    "For more details on the theoretical framework, see the [phase-field crystal documentation](https://comfitlib.com/ClassPhaseFieldCrystal/). \n",
    "\n",
    "\n",
    "First, install ComFiT if not already installed. "
   ]
  },
  {
   "cell_type": "code",
   "execution_count": null,
   "metadata": {},
   "outputs": [],
   "source": [
    "!pip install comfit -q\n"
   ]
  },
  {
   "cell_type": "markdown",
   "metadata": {},
   "source": [
    "Now, we import comfit."
   ]
  },
  {
   "cell_type": "code",
   "execution_count": null,
   "metadata": {},
   "outputs": [],
   "source": [
    "import comfit as cf"
   ]
  },
  {
   "cell_type": "markdown",
   "metadata": {},
   "source": [
    "The triangular PFC is the simplest PFC model.\n",
    "In order to create it, we must specify the number of unit cell repetitions in the x- and y-direction respectively, by giving `nx` and `ny` as arguments to the class `PhaseFieldCrystal2DTriangular`. \n",
    "Because of the lattice symmetry, it is useful to have approximately $\\sqrt 3$ more repetitions in the x-direction than the $y$-direction.\n",
    "\n",
    "Create an instance of this system with `nx=34` and `ny=20`."
   ]
  },
  {
   "cell_type": "code",
   "execution_count": null,
   "metadata": {},
   "outputs": [],
   "source": [
    "pfc = cf.PhaseFieldCrystal2DTriangular(34,20)"
   ]
  },
  {
   "cell_type": "markdown",
   "metadata": {},
   "source": [
    "<details>\n",
    "<summary>Solution</summary>\n",
    "<p>\n",
    "<pre><code>\n",
    "pfc = cf.PhaseFieldCrystal2DTriangular(34,20)\n",
    "</code></pre>\n",
    "</p>\n",
    "</details>"
   ]
  },
  {
   "cell_type": "markdown",
   "metadata": {},
   "source": [
    "When initializing a PFC, the field itself is not yet created, because we might want to add dislocations (more on that later).\n",
    "But if you would only like to see the PFC, it can be produced by the follwing piece of code."
   ]
  },
  {
   "cell_type": "code",
   "execution_count": null,
   "metadata": {},
   "outputs": [],
   "source": [
    "pfc.conf_PFC_from_amplitudes()"
   ]
  },
  {
   "cell_type": "markdown",
   "metadata": {},
   "source": [
    "Now. Plot the phase-field $\\psi$!"
   ]
  },
  {
   "cell_type": "code",
   "execution_count": null,
   "metadata": {},
   "outputs": [],
   "source": [
    "pfc.plot_field(pfc.psi,grid=False)"
   ]
  },
  {
   "cell_type": "markdown",
   "metadata": {},
   "source": [
    "The way to insert dislocations into the PFC is by manipulating the so-called amplitude fields.\n",
    "These are stored in a numpy object typically named `eta` and consists of three _complex_ fields. \n",
    "In order to create complex fields corresponding to a dislocation dipole, you must call the `calc_amplitudes_with_dislocation_dipole` function, which will return the eta object. \n",
    "This function takes an keyword argument `dislocation_type`, which is specifies the type of the dislocation to be inserted. \n",
    "For more information of these complex fields, see the [phase-field crystal documentation](https://comfitlib.com/ClassPhaseFieldCrystal/).\n",
    "\n",
    "Now, create the `eta` fields associated with a dislocation dipole with `dislocation_type=1` and plot the `eta[0]`, the complex field associated with the first Fourier mode."
   ]
  },
  {
   "cell_type": "code",
   "execution_count": null,
   "metadata": {},
   "outputs": [],
   "source": []
  },
  {
   "cell_type": "markdown",
   "metadata": {},
   "source": [
    "<details>\n",
    "<summary>Solution</summary>\n",
    "<p>\n",
    "<pre><code>\n",
    "eta = pfc.calc_amplitudes_with_dislocation_dipole()\n",
    "pfc.plot_complex_field(eta[0])\n",
    "</code></pre>\n",
    "</p>\n",
    "</details>"
   ]
  },
  {
   "cell_type": "markdown",
   "metadata": {},
   "source": [
    "Now, calculate the PFC corresponding to this dislocation dipole by passing `eta` as an arugment to `conf_PFC_from_amplitudes`, and plot the PFC."
   ]
  },
  {
   "cell_type": "code",
   "execution_count": null,
   "metadata": {},
   "outputs": [],
   "source": [
    "pfc.conf_PFC_from_amplitudes(eta)\n",
    "pfc.plot_field(pfc.psi)"
   ]
  },
  {
   "cell_type": "markdown",
   "metadata": {},
   "source": [
    "Now, using the class `PhaseFieldCrystal2DSquare`, create a square PFC with a dislocation dipole."
   ]
  },
  {
   "cell_type": "code",
   "execution_count": null,
   "metadata": {},
   "outputs": [],
   "source": [
    "pfc = cf.PhaseFieldCrystal2DSquare(20,20)\n",
    "eta = pfc.calc_amplitudes_with_dislocation_dipole()\n",
    "pfc.conf_PFC_from_amplitudes(eta)\n",
    "pfc.plot_field(pfc.psi)"
   ]
  },
  {
   "cell_type": "markdown",
   "metadata": {},
   "source": [
    "The dislocations can be identified using the code `calc_dislocation_nodes`, which returns a dictionary typically called `Dnodes`. \n",
    "In order to print the values, it is recommended to import `pprint` (pretty print) from `pprint`.\n",
    "\n",
    "These `Dnodes` may be plotted by the function `plot_dislocation_nodes`. "
   ]
  },
  {
   "cell_type": "code",
   "execution_count": null,
   "metadata": {},
   "outputs": [],
   "source": [
    "from pprint import pprint\n",
    "Dnodes = pfc.calc_dislocation_nodes()\n",
    "pprint(Dnodes)\n",
    "pfc.plot_dislocation_nodes(Dnodes)"
   ]
  },
  {
   "cell_type": "markdown",
   "metadata": {},
   "source": [
    "The PFC classes come with different ways of evolving the PFC ([phase-field crystal documentation](https://comfitlib.com/ClassPhaseFieldCrystal/)).\n",
    "The classic PFC evolution is given by calling `evolve_PFC`. \n",
    "\n",
    "Evolve the PFC for 10 time steps and plot the result!"
   ]
  },
  {
   "cell_type": "code",
   "execution_count": null,
   "metadata": {},
   "outputs": [],
   "source": [
    "pfc.evolve_PFC(100)\n",
    "pfc.plot_field(pfc.psi)"
   ]
  },
  {
   "cell_type": "markdown",
   "metadata": {},
   "source": [
    "As we see, the dislocations have not moved much, but the cores have become well-defined. "
   ]
  },
  {
   "cell_type": "markdown",
   "metadata": {},
   "source": [
    "Now, let's evolve this according to PFC dynamics and make an animation. "
   ]
  },
  {
   "cell_type": "code",
   "execution_count": null,
   "metadata": {},
   "outputs": [],
   "source": [
    "for n in range(100):\n",
    "    pfc.evolve_PFC(20)\n",
    "    pfc.plot_field(pfc.psi)\n",
    "    cf.tool_save_plot(n)\n",
    "cf.tool_make_animation_gif(n,name='Normal_PFC_evolution')"
   ]
  },
  {
   "cell_type": "markdown",
   "metadata": {},
   "source": []
  }
 ],
 "metadata": {
  "kernelspec": {
   "display_name": "COMFIT",
   "language": "python",
   "name": "comfit"
  },
  "language_info": {
   "codemirror_mode": {
    "name": "ipython",
    "version": 3
   },
   "file_extension": ".py",
   "mimetype": "text/x-python",
   "name": "python",
   "nbconvert_exporter": "python",
   "pygments_lexer": "ipython3",
   "version": "3.9.18"
  }
 },
 "nbformat": 4,
 "nbformat_minor": 2
}
