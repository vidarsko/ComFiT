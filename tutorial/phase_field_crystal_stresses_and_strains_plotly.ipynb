{
 "cells": [
  {
   "cell_type": "code",
   "execution_count": null,
   "metadata": {},
   "outputs": [],
   "source": [
    "# !pip install comfit -q\n",
    "import sys\n",
    "from pathlib import Path\n",
    "current_dir = Path().resolve()\n",
    "parent_dir = current_dir.parent\n",
    "sys.path.append(str(parent_dir))\n",
    "import comfit as cf\n",
    "import numpy as np\n",
    "import matplotlib.pyplot as plt\n",
    "import plotly.graph_objects as go\n",
    "import scipy as sp\n"
   ]
  },
  {
   "cell_type": "markdown",
   "metadata": {},
   "source": [
    "If you find any errors in this tutorial, please raise a issue at [GitHub](https://github.com/vidarsko/ComFiT/issues)."
   ]
  },
  {
   "cell_type": "markdown",
   "metadata": {},
   "source": [
    "# Phase-field crystal tutorial: Stresses and strains\n",
    "\n",
    "In this tutorial, we will have a look at stresses and strains in the phase-field crystal. "
   ]
  },
  {
   "cell_type": "markdown",
   "metadata": {},
   "source": [
    "We start by initializing a phase-field crystal with a dislocation dipole, if you are confused by this procedure, check out the [PFC basic framework tutorial](https://colab.research.google.com/github/vidarsko/ComFiT/blob/main/tutorial/phase_field_crystal_basic_framework.ipynb). "
   ]
  },
  {
   "cell_type": "code",
   "execution_count": null,
   "metadata": {},
   "outputs": [],
   "source": [
    "import comfit as cf\n",
    "import numpy as np\n",
    "import matplotlib.pyplot as plt\n"
   ]
  },
  {
   "cell_type": "code",
   "execution_count": null,
   "metadata": {},
   "outputs": [],
   "source": [
    "pfc = cf.PhaseFieldCrystal2DTriangular(30, 15)\n",
    "eta = pfc.calc_amplitudes_with_dislocation_dipole()\n",
    "pfc.conf_PFC_from_amplitudes(eta)\n",
    "pfc.evolve_PFC(100)\n",
    "pfc.plot_field(pfc.psi)"
   ]
  },
  {
   "cell_type": "markdown",
   "metadata": {},
   "source": [
    "Now we calculate the stress field "
   ]
  },
  {
   "cell_type": "code",
   "execution_count": null,
   "metadata": {},
   "outputs": [],
   "source": [
    "stress =  pfc.calc_stress_tensor()\n",
    "pfc.plot_field(stress[0])"
   ]
  },
  {
   "cell_type": "markdown",
   "metadata": {},
   "source": [
    "Above, you see the $xx$ component of the stress, the circular region is an artifact of the initial condition (see [documentation](https://comfitlib.com/ClassBaseSystem/#periodic-boundary-conditions-numerical-implementation-of-angle-fields)), and will disappear as the simulation progresses.\n"
   ]
  },
  {
   "cell_type": "markdown",
   "metadata": {},
   "source": [
    "The stress tensor is a symmetric tensor and therefore only has three independent components. \n",
    "To save memory, these are saved in an array structure `stress[0]`, `stress[1]`, and `stress[2]`, where `stress[0]` is the $xx$ component, `stress[1]` is the $xy$ component, and `stress[2]` is the $yy$ component.\n",
    "You can extract a specific component from this tensor by using the `get_sym` method."
   ]
  },
  {
   "cell_type": "code",
   "execution_count": null,
   "metadata": {},
   "outputs": [],
   "source": [
    "sigmaxx = pfc.get_sym(stress,0,0)\n",
    "sigmaxy = pfc.get_sym(stress,0,1)\n",
    "sigmayx = pfc.get_sym(stress,1,0)\n",
    "sigmayy = pfc.get_sym(stress,1,1)"
   ]
  },
  {
   "cell_type": "markdown",
   "metadata": {},
   "source": [
    "For more information on this point, see [documentation](https://comfitlib.com/ClassBaseSystem/). "
   ]
  },
  {
   "cell_type": "markdown",
   "metadata": {},
   "source": [
    "Let us plot all the components in units of the elastic shear modulus `el_mu`. "
   ]
  },
  {
   "cell_type": "code",
   "execution_count": null,
   "metadata": {},
   "outputs": [],
   "source": [
    "# Make empty list to store figures\n",
    "figs = []\n",
    "\n",
    "for i in range(2):\n",
    "    for j in range(2):\n",
    "        # Add figure to list\n",
    "        figs.append(pfc.plot_field(pfc.get_sym(stress,i,j)/pfc.el_mu))\n",
    "\n",
    "# Create subplots, first two arguments specify the number of rows and columns\n",
    "cf.tool_make_subplots(2,2,*figs)\n",
    "\n",
    "# Alternatively: cf.tool_make_subplots(2,2,fig[0],fig[1],fig[2],fig[3])"
   ]
  },
  {
   "cell_type": "markdown",
   "metadata": {},
   "source": [
    "Now, lets have a look at stresses for dislocations in other symmetries.\n",
    "For information on how these are calculated, see the [documentation](https://comfitlib.com/ClassPhaseFieldCrystal/#elasticity). "
   ]
  },
  {
   "cell_type": "code",
   "execution_count": null,
   "metadata": {},
   "outputs": [],
   "source": [
    "pfc = cf.PhaseFieldCrystal2DSquare(30, 30)\n",
    "eta = pfc.calc_amplitudes_with_dislocation_dipole(dislocation_type=2)\n",
    "pfc.conf_PFC_from_amplitudes(eta)\n",
    "pfc.evolve_PFC(100)\n",
    "\n",
    "stress = pfc.calc_stress_tensor()\n",
    "\n",
    "figs = []\n",
    "for i in range(2):\n",
    "    for j in range(2):\n",
    "        figs.append(pfc.plot_field(pfc.get_sym(stress,i,j)/pfc.el_mu))\n",
    "\n",
    "cf.tool_make_subplots(2,2,*figs)"
   ]
  },
  {
   "cell_type": "code",
   "execution_count": null,
   "metadata": {},
   "outputs": [],
   "source": [
    "pfc = cf.PhaseFieldCrystal3DBodyCenteredCubic(13, 13, 13)\n",
    "eta = pfc.calc_amplitudes_with_dislocation_ring()\n",
    "pfc.conf_PFC_from_amplitudes(eta)\n",
    "pfc.evolve_PFC(10)\n",
    "\n",
    "stress = pfc.calc_stress_tensor()\n",
    "\n",
    "figs = []\n",
    "\n",
    "for i in range(6):\n",
    "    figs.append(pfc.plot_field(stress[i]/pfc.el_mu))\n",
    "\n",
    "cf.tool_make_subplots(2,3,*figs)"
   ]
  },
  {
   "cell_type": "markdown",
   "metadata": {},
   "source": [
    "This might not be so informative, so it might be useful to see the plot of the stress field for the xx-component in a plane."
   ]
  },
  {
   "cell_type": "code",
   "execution_count": null,
   "metadata": {},
   "outputs": [],
   "source": [
    "pfc.plot_field_in_plane(stress[0],normal_vector=[0,1,0])"
   ]
  },
  {
   "cell_type": "code",
   "execution_count": null,
   "metadata": {},
   "outputs": [],
   "source": [
    "# pfc = cf.PhaseFieldCrystal3DFaceCenteredCubic(9, 9, 9)\n",
    "# eta = pfc.calc_amplitudes_with_dislocation_ring()\n",
    "# pfc.conf_PFC_from_amplitudes(eta)\n",
    "# pfc.evolve_PFC(10)\n",
    "\n",
    "# stress = pfc.calc_stress_tensor()\n",
    "\n",
    "# pfc.plot_field_in_plane(stress[1]/pfc.el_mu)"
   ]
  },
  {
   "cell_type": "code",
   "execution_count": null,
   "metadata": {},
   "outputs": [],
   "source": [
    "pfc = cf.PhaseFieldCrystal3DSimpleCubic(13, 14, 15)\n",
    "eta = pfc.calc_amplitudes_with_dislocation_ring()\n",
    "pfc.conf_PFC_from_amplitudes(eta)\n",
    "pfc.evolve_PFC(10)\n",
    "\n",
    "stress = pfc.calc_stress_tensor()\n",
    "\n",
    "pfc.plot_field_in_plane(stress[3]/pfc.el_mu)\n"
   ]
  },
  {
   "cell_type": "markdown",
   "metadata": {},
   "source": [
    "We may also have a look at the strain field of the PFC by calculating the strain using the method described in the [documentation](https://comfitlib.com/ClassPhaseFieldCrystal/)."
   ]
  },
  {
   "cell_type": "code",
   "execution_count": null,
   "metadata": {},
   "outputs": [],
   "source": [
    "pfc = cf.PhaseFieldCrystal2DTriangular(40, 28)\n",
    "eta = pfc.calc_amplitudes_with_dislocation_dipole()\n",
    "pfc.conf_PFC_from_amplitudes(eta)\n",
    "\n",
    "pfc.evolve_PFC(100)\n",
    "\n",
    "strain = pfc.calc_strain_tensor()\n",
    "pfc.plot_field(strain[0])\n"
   ]
  },
  {
   "cell_type": "markdown",
   "metadata": {},
   "source": [
    "This shows the $xx$ component of the strain. \n",
    "There is some residual stress in the system though, due to the periodic arrangement of peaks and troughs not exactly matching the periodic boundary conditions, see [documentation](https://comfitlib.com/ClassPhaseFieldCrystal/#elasticity). \n",
    "For visualization purposes then, it is useful to subtract the mean value, which we can do by\n"
   ]
  },
  {
   "cell_type": "code",
   "execution_count": null,
   "metadata": {},
   "outputs": [],
   "source": [
    "strain = strain - np.mean(strain,axis=0) \n",
    "pfc.plot_field(strain[2])"
   ]
  },
  {
   "cell_type": "code",
   "execution_count": null,
   "metadata": {},
   "outputs": [],
   "source": []
  }
 ],
 "metadata": {
  "kernelspec": {
   "display_name": "venv",
   "language": "python",
   "name": "python3"
  },
  "language_info": {
   "codemirror_mode": {
    "name": "ipython",
    "version": 3
   },
   "file_extension": ".py",
   "mimetype": "text/x-python",
   "name": "python",
   "nbconvert_exporter": "python",
   "pygments_lexer": "ipython3",
   "version": "3.12.2"
  }
 },
 "nbformat": 4,
 "nbformat_minor": 2
}
