{
 "cells": [
  {
   "cell_type": "markdown",
   "metadata": {},
   "source": [
    "# Phase-field crystal tutorial: Stresses and strains\n",
    "\n",
    "In this tutorial, we will have a look at stresses and strains in the phase-field crystal. "
   ]
  },
  {
   "cell_type": "markdown",
   "metadata": {},
   "source": [
    "We start by initializing a phase-field crystal with a dislocation dipole, if you are confused by this procedure, check out the [PFC basic framework tutorial](https://colab.research.google.com/github/vidarsko/ComFiT/blob/main/tutorial/phase_field_crystal_basic_framework.ipynb). "
   ]
  },
  {
   "cell_type": "code",
   "execution_count": null,
   "metadata": {},
   "outputs": [],
   "source": [
    "!pip install comfit -q"
   ]
  },
  {
   "cell_type": "code",
   "execution_count": null,
   "metadata": {},
   "outputs": [],
   "source": [
    "import comfit as cf\n",
    "import numpy as np\n",
    "import matplotlib.pyplot as plt\n"
   ]
  },
  {
   "cell_type": "code",
   "execution_count": null,
   "metadata": {},
   "outputs": [],
   "source": [
    "pfc = cf.PhaseFieldCrystal2DTriangular(30, 15)\n",
    "eta = pfc.calc_amplitudes_with_dislocation_dipole()\n",
    "pfc.conf_PFC_from_amplitudes(eta)\n",
    "pfc.evolve_PFC(100)\n",
    "pfc.plot_field(pfc.psi)"
   ]
  },
  {
   "cell_type": "markdown",
   "metadata": {},
   "source": [
    "Now we calculate the stress field "
   ]
  },
  {
   "cell_type": "code",
   "execution_count": null,
   "metadata": {},
   "outputs": [],
   "source": [
    "stress =  pfc.calc_stress_tensor()\n",
    "pfc.plot_field(stress[0])"
   ]
  },
  {
   "cell_type": "markdown",
   "metadata": {},
   "source": [
    "Above, you see the $xx$ component of the stress, the circular region is an artifact of the initial condition (see [documentation](https://comfitlib.com/ClassBaseSystem/#periodic-boundary-conditions-numerical-implementation-of-angle-fields)), and will disappear as the simulation progresses.\n"
   ]
  },
  {
   "cell_type": "markdown",
   "metadata": {},
   "source": [
    "The stress tensor is a symmetric tensor and therefore only has three independent components. \n",
    "To save memory, these are saved in an array structure `stress[0]`, `stress[1]`, and `stress[2]`, where `stress[0]` is the $xx$ component, `stress[1]` is the $xy$ component, and `stress[2]` is the $yy$ component.\n",
    "You can extract a specific component from this tensor by using the `get_sym` method."
   ]
  },
  {
   "cell_type": "code",
   "execution_count": null,
   "metadata": {},
   "outputs": [],
   "source": []
  },
  {
   "cell_type": "markdown",
   "metadata": {},
   "source": [
    "For more information on this point, see [documentation](https://comfitlib.com/ClassBaseSystem/). "
   ]
  },
  {
   "cell_type": "markdown",
   "metadata": {},
   "source": [
    "Let us plot all the components in units of the elastic shear modulus `el_mu`. "
   ]
  },
  {
   "cell_type": "code",
   "execution_count": null,
   "metadata": {},
   "outputs": [],
   "source": [
    "fig = plt.figure()\n",
    "axs = fig.subplots(2,2)\n",
    "for i in range(2):\n",
    "    for j in range(2):\n",
    "        pfc.plot_field(pfc.get_sym(stress,i,j)/pfc.el_mu,ax=axs[i,j])"
   ]
  },
  {
   "cell_type": "markdown",
   "metadata": {},
   "source": [
    "Now, lets have a look at stresses for dislocations in other symmetries.\n",
    "For information on how these are calculated, see the [documentation](https://comfitlib.com/ClassPhaseFieldCrystal/#elasticity). "
   ]
  },
  {
   "cell_type": "code",
   "execution_count": null,
   "metadata": {},
   "outputs": [],
   "source": [
    "pfc = cf.PhaseFieldCrystal2DSquare(30, 30)\n",
    "eta = pfc.calc_amplitudes_with_dislocation_dipole(dislocation_type=2)\n",
    "pfc.conf_PFC_from_amplitudes(eta)\n",
    "pfc.evolve_PFC(100)\n",
    "\n",
    "stress = pfc.calc_stress_tensor()\n",
    "\n",
    "fig = plt.figure()\n",
    "axs = fig.subplots(2,2)\n",
    "\n",
    "for i in range(2):\n",
    "    for j in range(2):\n",
    "        pfc.plot_field(pfc.get_sym(stress,i,j)/pfc.el_mu,ax=axs[i,j])"
   ]
  },
  {
   "cell_type": "code",
   "execution_count": null,
   "metadata": {},
   "outputs": [],
   "source": [
    "# pfc = cf.PhaseFieldCrystal3DBodyCenteredCubic(13, 13, 13)\n",
    "# eta = pfc.calc_amplitudes_with_dislocation_ring()\n",
    "# pfc.conf_PFC_from_amplitudes(eta)\n",
    "# pfc.evolve_PFC(10)\n",
    "\n",
    "# stress = pfc.calc_stress_tensor()\n",
    "\n",
    "# fig = plt.figure()\n",
    "# axs = fig.subplots(3,3,subplot_kw={'projection': '3d'})\n",
    "\n",
    "# for i in range(3):\n",
    "#     for j in range(3):\n",
    "#         pfc.plot_field(pfc.get_sym(stress,i,j)/pfc.el_mu,ax=axs[i,j])"
   ]
  },
  {
   "cell_type": "markdown",
   "metadata": {},
   "source": [
    "This might not be so informative, so it might be useful to see the plot of the stress field for the xx-component in a plane."
   ]
  },
  {
   "cell_type": "code",
   "execution_count": null,
   "metadata": {},
   "outputs": [],
   "source": [
    "# pfc.plot_field_in_plane(stress[0],normal_vector=[0,1,0])"
   ]
  },
  {
   "cell_type": "code",
   "execution_count": null,
   "metadata": {},
   "outputs": [],
   "source": [
    "# pfc = cf.PhaseFieldCrystal3DFaceCenteredCubic(9, 9, 9)\n",
    "# eta = pfc.calc_amplitudes_with_dislocation_ring()\n",
    "# pfc.conf_PFC_from_amplitudes(eta)\n",
    "# pfc.evolve_PFC(10)\n",
    "\n",
    "# stress = pfc.calc_stress_tensor()\n",
    "\n",
    "# pfc.plot_field_in_plane(stress[1]/pfc.el_mu)"
   ]
  },
  {
   "cell_type": "code",
   "execution_count": null,
   "metadata": {},
   "outputs": [],
   "source": [
    "pfc = cf.PhaseFieldCrystal3DSimpleCubic(13, 14, 15)\n",
    "eta = pfc.calc_amplitudes_with_dislocation_ring()\n",
    "pfc.conf_PFC_from_amplitudes(eta)\n",
    "pfc.evolve_PFC(10)\n",
    "\n",
    "stress = pfc.calc_stress_tensor()\n",
    "\n",
    "pfc.plot_field_in_plane(stress[3]/pfc.el_mu)\n"
   ]
  },
  {
   "cell_type": "markdown",
   "metadata": {},
   "source": [
    "Let us export a rotating plot of the stress field for the $xz$ component."
   ]
  },
  {
   "cell_type": "code",
   "execution_count": null,
   "metadata": {},
   "outputs": [],
   "source": [
    "# _, ax = pfc.plot_field(pfc.get_sym(stress,0,2),number_of_layers=2)\n",
    "# cf.tool_export_rotating_plot(ax)"
   ]
  },
  {
   "cell_type": "markdown",
   "metadata": {},
   "source": [
    "We may also have a look at the strain field of the PFC by calculating the strain using the method described in the [documentation](https://comfitlib.com/ClassPhaseFieldCrystal/)."
   ]
  },
  {
   "cell_type": "code",
   "execution_count": null,
   "metadata": {},
   "outputs": [],
   "source": [
    "pfc = cf.PhaseFieldCrystal2DTriangular(40, 28)\n",
    "eta = pfc.calc_amplitudes_with_dislocation_dipole()\n",
    "pfc.conf_PFC_from_amplitudes(eta)\n",
    "\n",
    "pfc.evolve_PFC(100)\n",
    "\n",
    "strain = pfc.calc_strain_tensor()\n",
    "pfc.plot_field(strain[0])\n"
   ]
  },
  {
   "cell_type": "markdown",
   "metadata": {},
   "source": [
    "This shows the $xx$ component of the strain. \n",
    "There is some residual stress in the system though, due to the periodic arrangement of peaks and troughs not exactly matching the periodic boundary conditions, see [documentation](https://comfitlib.com/ClassPhaseFieldCrystal/#elasticity). \n",
    "For visualization purposes then, it is useful to subtract the mean value, which we can do by\n"
   ]
  },
  {
   "cell_type": "code",
   "execution_count": null,
   "metadata": {},
   "outputs": [],
   "source": [
    "strain = strain - np.mean(strain,axis=0) \n",
    "pfc.plot_field(strain[2])"
   ]
  },
  {
   "cell_type": "code",
   "execution_count": null,
   "metadata": {},
   "outputs": [],
   "source": []
  }
 ],
 "metadata": {
  "kernelspec": {
   "display_name": "COMFIT",
   "language": "python",
   "name": "comfit"
  },
  "language_info": {
   "codemirror_mode": {
    "name": "ipython",
    "version": 3
   },
   "file_extension": ".py",
   "mimetype": "text/x-python",
   "name": "python",
   "nbconvert_exporter": "python",
   "pygments_lexer": "ipython3",
   "version": "3.9.18"
  }
 },
 "nbformat": 4,
 "nbformat_minor": 2
}
