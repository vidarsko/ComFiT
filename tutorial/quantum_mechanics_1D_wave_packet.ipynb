{
 "cells": [
  {
   "cell_type": "markdown",
   "metadata": {},
   "source": [
    "# Quantum mechanics: 1D wave packets "
   ]
  },
  {
   "cell_type": "code",
   "execution_count": null,
   "metadata": {},
   "outputs": [],
   "source": [
    "!pip install comfit -q\n"
   ]
  },
  {
   "cell_type": "code",
   "execution_count": null,
   "metadata": {},
   "outputs": [],
   "source": [
    "import comfit as cf\n",
    "import numpy as np\n",
    "import matplotlib.pyplot as plt"
   ]
  },
  {
   "cell_type": "markdown",
   "metadata": {},
   "source": [
    "## A free wave packet"
   ]
  },
  {
   "cell_type": "markdown",
   "metadata": {},
   "source": [
    "Set up a one-dimensional system $x \\in [-10,10]$ with an initial Gaussian wave function with a width of $1$. "
   ]
  },
  {
   "cell_type": "code",
   "execution_count": null,
   "metadata": {},
   "outputs": [],
   "source": []
  },
  {
   "cell_type": "markdown",
   "metadata": {},
   "source": [
    "<details>\n",
    "<summary>Solution</summary>\n",
    "<p>\n",
    "<pre><code>\n",
    "import comfit as cf\n",
    "import numpy as np\n",
    "import matplotlib.pyplot as plt\n",
    "qm = cf.QuantumMechanics(1,xlim=[-10,10])\n",
    "qm.conf_initial_condition_Gaussian(position=0,width=1)\n",
    "qm.plot_field(np.abs(qm.psi)**2)\n",
    "plt.show()\n",
    "</code></pre>\n",
    "</p>\n",
    "</details>\n",
    "\n"
   ]
  },
  {
   "cell_type": "markdown",
   "metadata": {},
   "source": [
    "Calculate the probability of measuring the particle in the interval $[10,15]$."
   ]
  },
  {
   "cell_type": "code",
   "execution_count": null,
   "metadata": {},
   "outputs": [],
   "source": []
  },
  {
   "cell_type": "markdown",
   "metadata": {},
   "source": [
    "<details>\n",
    "<summary>Solution</summary>\n",
    "<p>\n",
    "<pre><code>\n",
    "a=10\n",
    "b=15\n",
    "interval = qm.calc_region_interval(a,b)\n",
    "prob = qm.calc_integrate_field(np.abs(qm.psi)**2,interval)\n",
    "print(\"The probability of measiring the particle in the interval (\",a,\",\",b,\") is\",prob)\n",
    "</code></pre>\n",
    "</p>\n",
    "</details>"
   ]
  },
  {
   "cell_type": "markdown",
   "metadata": {},
   "source": [
    "Evolve the wave function for a time $T=4.5$, plot the result."
   ]
  },
  {
   "cell_type": "code",
   "execution_count": null,
   "metadata": {},
   "outputs": [],
   "source": []
  },
  {
   "cell_type": "markdown",
   "metadata": {},
   "source": [
    "<details>\n",
    "<summary>Solution</summary>\n",
    "<p>\n",
    "<pre><code>\n",
    "qm.evolve_schrodinger(45)\n",
    "qm.plot_field(np.abs(qm.psi)**2)\n",
    "plt.show()\n",
    "</code></pre>\n",
    "</p>\n",
    "</details>"
   ]
  },
  {
   "cell_type": "markdown",
   "metadata": {},
   "source": []
  },
  {
   "cell_type": "markdown",
   "metadata": {},
   "source": [
    "Calculate the probability of measuring the particle in the interval $[10,15]$."
   ]
  },
  {
   "cell_type": "markdown",
   "metadata": {},
   "source": [
    "Give the particle an initial velocity of $v_0=1$ and plot the initial condition. \n",
    "Evolve the particle now for $T=4.5$ and calculate the probability of measuring the particle in the aforementionned interval."
   ]
  },
  {
   "cell_type": "code",
   "execution_count": null,
   "metadata": {},
   "outputs": [],
   "source": []
  },
  {
   "cell_type": "markdown",
   "metadata": {},
   "source": [
    "<details>\n",
    "<summary>Solution</summary>\n",
    "<p>\n",
    "<pre><code>\n",
    "qm = cf.QuantumMechanics(1,xlim=[-10,10])\n",
    "qm.conf_initial_condition_Gaussian(position=0,width=1,initial_velocity=1)\n",
    "qm.plot_field(np.abs(qm.psi)**2)\n",
    "plt.show()\n",
    "a=5\n",
    "b=10\n",
    "interval = qm.calc_region_interval(a,b)\n",
    "prob = qm.calc_integrate_field(np.abs(qm.psi)**2,interval)\n",
    "print(\"The probability of measiring the particle in the interval (\",a,\",\",b,\") is\",prob)\n",
    "qm.evolve_schrodinger(45)\n",
    "qm.plot_field(np.abs(qm.psi)**2)\n",
    "plt.show()\n",
    "a=5\n",
    "b=10\n",
    "interval = qm.calc_region_interval(a,b)\n",
    "prob = qm.calc_integrate_field(np.abs(qm.psi)**2,interval)\n",
    "print(\"The probability of measiring the particle in the interval (\",a,\",\",b,\") is\",prob)\n",
    "</code></pre>\n",
    "</p>\n",
    "</details>\n"
   ]
  },
  {
   "cell_type": "markdown",
   "metadata": {},
   "source": [
    "Make an animation of the evolution of the particle with an initial velocity."
   ]
  },
  {
   "cell_type": "code",
   "execution_count": null,
   "metadata": {},
   "outputs": [],
   "source": []
  },
  {
   "cell_type": "markdown",
   "metadata": {},
   "source": [
    "<details>\n",
    "<summary>Solution</summary>\n",
    "<p>\n",
    "<pre><code>\n",
    "import comfit as cf\n",
    "import numpy as np\n",
    "import matplotlib.pyplot as plt\n",
    "qm = cf.QuantumMechanics(1,xlim=[-10,10])\n",
    "qm.conf_initial_condition_Gaussian(position=0,width=1,initial_velocity=1)\n",
    "ymax = np.max(np.abs(qm.psi)**2)\n",
    "for n in range(50):\n",
    "    qm.plot_field(np.abs(qm.psi)**2,ylim=[0,ymax])\n",
    "    cf.tool_save_plot(n)\n",
    "    qm.evolve_schrodinger(1)\n",
    "cf.tool_make_animation_gif(n)\n",
    "</code></pre>\n",
    "</p>\n",
    "</details>\n"
   ]
  },
  {
   "cell_type": "markdown",
   "metadata": {},
   "source": []
  },
  {
   "cell_type": "markdown",
   "metadata": {},
   "source": [
    "## A constrained wave packet"
   ]
  },
  {
   "cell_type": "markdown",
   "metadata": {},
   "source": [
    "Initiate the same Gaussian wave packet with the initial velocity as in the previous tutorial, but add an external potential `V_ext` given by $V_{\\textrm{ext}}=0.05 x^2$.\n",
    "Make an animation."
   ]
  },
  {
   "cell_type": "code",
   "execution_count": null,
   "metadata": {},
   "outputs": [],
   "source": []
  },
  {
   "cell_type": "markdown",
   "metadata": {},
   "source": [
    "<details>\n",
    "<summary>Solution</summary>\n",
    "<p>\n",
    "<pre><code>\n",
    "import comfit as cf\n",
    "import numpy as np\n",
    "import matplotlib.pyplot as plt\n",
    "qm = cf.QuantumMechanics(1,xlim=[-10,10])\n",
    "qm.V_ext = 0.05*qm.x**2\n",
    "qm.conf_initial_condition_Gaussian(position=0,width=1,initial_velocity=1)\n",
    "ymax = np.max(np.abs(qm.psi)**2)\n",
    "for n in range(200):\n",
    "    qm.plot_field(np.abs(qm.psi)**2,ylim=[0,ymax])\n",
    "    cf.tool_save_plot(n)\n",
    "    qm.evolve_schrodinger(5)\n",
    "    plt.pause(0.01)\n",
    "cf.tool_make_animation_gif(n)\n",
    "</code></pre>\n",
    "</p>\n",
    "</details>\n"
   ]
  },
  {
   "cell_type": "markdown",
   "metadata": {},
   "source": [
    "Now extend the system so that it goes from $x \\in [-10,100]$ and decrease `dx` to $0.1$.\n",
    "Create a Gaussian potential barrier centered at $x=30$ with a top value of $1$ and a width of $5$. \n",
    "Run the simulation. What happens?"
   ]
  },
  {
   "cell_type": "code",
   "execution_count": null,
   "metadata": {},
   "outputs": [],
   "source": []
  },
  {
   "cell_type": "markdown",
   "metadata": {},
   "source": [
    "<details>\n",
    "<summary>Solution</summary>\n",
    "<p>\n",
    "<pre><code>\n",
    "import comfit as cf\n",
    "import numpy as np\n",
    "import matplotlib.pyplot as plt\n",
    "qm = cf.QuantumMechanics(1,xlim=[-10,100],dx=0.1)\n",
    "qm.V_ext = qm.calc_Gaussian(position=30,width=10,top=1)\n",
    "qm.conf_initial_condition_Gaussian(position=0,width=1,initial_velocity=1)\n",
    "ymax = np.max(np.abs(qm.psi)**2)\n",
    "for n in range(100):\n",
    "    qm.plot_field(np.abs(qm.psi)**2,ylim=[0,ymax])\n",
    "    cf.tool_save_plot(n)\n",
    "    qm.evolve_schrodinger(5)\n",
    "cf.tool_make_animation_gif(n)\n",
    "</code></pre>\n",
    "</p>\n",
    "\n",
    "Quantum tunneling. \n",
    "</details>\n",
    "\n"
   ]
  },
  {
   "cell_type": "markdown",
   "metadata": {},
   "source": []
  }
 ],
 "metadata": {
  "kernelspec": {
   "display_name": "COMFIT",
   "language": "python",
   "name": "comfit"
  },
  "language_info": {
   "codemirror_mode": {
    "name": "ipython",
    "version": 3
   },
   "file_extension": ".py",
   "mimetype": "text/x-python",
   "name": "python",
   "nbconvert_exporter": "python",
   "pygments_lexer": "ipython3",
   "version": "3.9.18"
  }
 },
 "nbformat": 4,
 "nbformat_minor": 2
}
