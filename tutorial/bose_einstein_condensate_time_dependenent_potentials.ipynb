{
 "cells": [
  {
   "cell_type": "markdown",
   "id": "daa2bc39",
   "metadata": {},
   "source": [
    "# 2.2 - BoseEinsteinCondensate tutorial: Time dependent potentials"
   ]
  },
  {
   "cell_type": "markdown",
   "id": "1fa3e78f",
   "metadata": {},
   "source": [
    "In this notebook we are going to illustrate how the potential works in the BoseEinsteinCondensate module. We start by initialising a 2 dimensional BoseEinsteinCondensate with dimensions 101x101. The factor bec.gamma is here set to be non-zero to introduce some dissipation to the model. This is important because the bec with $\\gamma = 0$ conserves energy, so if you stir it long enought with a potential it will diverge.\n"
   ]
  },
  {
   "cell_type": "code",
   "execution_count": null,
   "id": "7a5f48ae",
   "metadata": {},
   "outputs": [],
   "source": [
    "!pip install comfit -q"
   ]
  },
  {
   "cell_type": "code",
   "execution_count": null,
   "id": "9d07ba3d",
   "metadata": {},
   "outputs": [],
   "source": [
    "import comfit as cf\n",
    "import matplotlib.pyplot as plt\n",
    "import numpy as np\n",
    "\n",
    "### Task 1: initialise a bec in two dimensions with resolution 101 in x and y. Make gamma = 0.05 \n",
    "\n"
   ]
  },
  {
   "cell_type": "markdown",
   "id": "e3b75ebe",
   "metadata": {},
   "source": [
    "Now we need to initialize the wavefunction. Before we do that we need to specify the potential. The function\n",
    "bec.conf_external_potential(V_ext, additive=False), which was used in the previus tutorial can be used when V_ext is a  constant, a matrix or a function. If additive = True the function adds V_ext to the existing potential. \n",
    "\n",
    "\n"
   ]
  },
  {
   "cell_type": "code",
   "execution_count": null,
   "id": "e24de3b6",
   "metadata": {},
   "outputs": [],
   "source": [
    "### First we set the size of the harmonic\n",
    "R_tf = 40\n",
    "\n",
    "### Here we set the size and velocity of the stirrer\n",
    "stirrer_radius = 20\n",
    "stirrer_velocity = 0.6\n",
    "freq = stirrer_velocity/stirrer_radius\n",
    "size =4\n",
    "strength = .9\n",
    "\n",
    "### Defining the function for the time-dependent potential\n",
    "def V_t(t):\n",
    "    pos_x = bec.xmid + stirrer_radius * np.cos(freq * t)\n",
    "    pos_y = bec.ymid + stirrer_radius * np.sin(freq * t)\n",
    "    stirrer = bec.calc_gaussian_stirring_potential(size, strength, [pos_x, pos_y])\n",
    "    harmonic = bec.calc_harmonic_potential(R_tf)\n",
    "    return   harmonic + stirrer\n",
    "\n"
   ]
  },
  {
   "cell_type": "code",
   "execution_count": null,
   "id": "bfe9ae1b",
   "metadata": {},
   "outputs": [],
   "source": [
    "### Task 2: Set the potential to the above function, initialise the Thomas Fermi \n",
    "# ground state and relax the system using the  evolve_relax(...) solver for 20 time steps\n",
    "\n",
    "\n",
    "\n",
    "\n",
    "\n",
    "bec.plot_field(np.abs(bec.psi)**2,cmap_symmetric=False,colormap = 'winter')\n",
    "plt.show()"
   ]
  },
  {
   "cell_type": "markdown",
   "id": "e796de60",
   "metadata": {},
   "source": [
    "Note that when the evolve_relax(...) function is running the potential is kept constant and the bec.time variable is not updated"
   ]
  },
  {
   "cell_type": "code",
   "execution_count": null,
   "id": "43698cc8",
   "metadata": {},
   "outputs": [],
   "source": [
    "\n",
    "### Task 3: Updating the potential to the time-dependent function V_t() that we definded above\n",
    "\n",
    "\n",
    "### Task 4: Evolve the system with the time-dependent potential using the ETD4RK scheme\n",
    "\n",
    "\n",
    "### Task 5: Track the defects and their velocity and plot the result \n",
    "\n"
   ]
  },
  {
   "cell_type": "markdown",
   "id": "e24a8323",
   "metadata": {},
   "source": [
    "Now we set the potential to be time independent and run the system again. The non-zero bec.gamma are going to relax the system.\n",
    "\n",
    "\n",
    "When working with a time dependent sysytem it is nice to make some movies. To do this one needs to use two functions. The first one is cf.tool_save_plot(n) wich saves the plot and label it as n. When all the plots is saved you can cal cf.tool_make_animation(N-1) which takes the figures labeled 0 - (N-1) and makes a plot. It also deletes the figures. The procedure for making a movie is therefore\n",
    "\n",
    "for i in range(N):\n",
    "\n",
    "    evolve(...)\n",
    "    \n",
    "    make_plot(...)\n",
    "    \n",
    "    cf.tool_save_plot(i)\n",
    "   \n",
    "cf.tool_make_animation(i) (notice indent)\n",
    "\n"
   ]
  },
  {
   "cell_type": "code",
   "execution_count": null,
   "id": "44d84073",
   "metadata": {},
   "outputs": [],
   "source": [
    "#### task 6. make an animation of the stirring potential. Evolve 10 or 20 timesteps between each frame for a total \n",
    "#### of 3000 or more timesteps.\n",
    "#### Display both the absolute value squared of the wavefunction and track the vortices.  Notice that in\n",
    "###  order to make the plots apear in the same axes you need to use:\n",
    "###  fig,ax = bec.plot_field(...)\n",
    "###  bec.plot_vortex_nodes(nodes, ax) "
   ]
  },
  {
   "cell_type": "code",
   "execution_count": null,
   "id": "e949d336",
   "metadata": {},
   "outputs": [],
   "source": [
    "const_pot = V_t(bec.time)\n",
    "\n",
    "\n",
    "bec.conf_external_potential(const_pot, additive=False)"
   ]
  },
  {
   "cell_type": "code",
   "execution_count": null,
   "id": "3997e7fc",
   "metadata": {},
   "outputs": [],
   "source": [
    "timesteps = 300\n",
    "bec.evolve_dGPE(timesteps,'ETD4RK')\n",
    "\n",
    "timesteps = int(200/bec.dt)\n",
    "bec.plot_field(np.abs(bec.psi)**2,cmap_symmetric=False,colormap = 'winter')\n",
    "plt.show()"
   ]
  },
  {
   "cell_type": "markdown",
   "id": "6008b909",
   "metadata": {},
   "source": [
    "Task 7 (optional): Do the task again, but implement your own time-dependent potential.  "
   ]
  },
  {
   "cell_type": "code",
   "execution_count": null,
   "id": "a13ba953",
   "metadata": {},
   "outputs": [],
   "source": []
  },
  {
   "cell_type": "markdown",
   "id": "5b15eeb2",
   "metadata": {},
   "source": [
    "# Solutions"
   ]
  },
  {
   "cell_type": "code",
   "execution_count": null,
   "id": "24adbf58",
   "metadata": {},
   "outputs": [],
   "source": [
    "\n",
    "import comfit as cf\n",
    "import matplotlib.pyplot as plt\n",
    "import numpy as np\n",
    "\n",
    "### Task 1: initialise a bec in two dimensions with resolution 101 in x and y. Make gamma = 0.05 \n",
    "bec = cf.BoseEinsteinCondensate(2,xRes=101,yRes=101,gamma=0.05,dt=0.1)\n",
    "\n",
    "### First we set the size of the harmonic\n",
    "R_tf = 40\n",
    "\n",
    "### Here we set the size and velocity of the stirrer\n",
    "stirrer_radius = 20\n",
    "stirrer_velocity = 0.6\n",
    "freq = stirrer_velocity/stirrer_radius\n",
    "size =4\n",
    "strength = .9\n",
    "\n",
    "### Defining the function for the time-dependent potential\n",
    "def V_t(t):\n",
    "    pos_x = bec.xmid + stirrer_radius * np.cos(freq * t)\n",
    "    pos_y = bec.ymid + stirrer_radius * np.sin(freq * t)\n",
    "    stirrer = bec.calc_gaussian_stirring_potential(size, strength, [pos_x, pos_y])\n",
    "    harmonic = bec.calc_harmonic_potential(R_tf)\n",
    "    return   harmonic + stirrer\n"
   ]
  },
  {
   "cell_type": "code",
   "execution_count": null,
   "id": "82ad0eba",
   "metadata": {},
   "outputs": [],
   "source": [
    "######## task 2 #########\n",
    "bec.conf_external_potential(V_t, additive=False)\n",
    "\n",
    "bec.conf_initial_condition_Thomas_Fermi()\n",
    "\n",
    "bec.evolve_relax(50) \n",
    "\n",
    "bec.plot_field(np.abs(bec.psi)**2,cmap_symmetric=False,colormap = 'winter')\n",
    "plt.show()"
   ]
  },
  {
   "cell_type": "code",
   "execution_count": null,
   "id": "7a28f63c",
   "metadata": {},
   "outputs": [],
   "source": [
    "#### task  3, 4 and 5\n",
    "\n",
    "\n",
    "bec.evolve_dGPE( 30, method='ETD4RK') \n",
    "\n",
    "nodes = bec.calc_vortex_nodes()\n",
    "\n",
    "fig,ax=bec.plot_field(np.abs(bec.psi)**2,cmap_symmetric=False,colormap = 'gray')\n",
    "bec.plot_vortex_nodes(nodes,ax=ax)\n",
    "plt.show()"
   ]
  },
  {
   "cell_type": "code",
   "execution_count": null,
   "id": "031126d5",
   "metadata": {},
   "outputs": [],
   "source": [
    "### here is some code for making a video\n",
    "N = 300\n",
    "for n in range(N):\n",
    "    bec.evolve_dGPE(10)\n",
    "    fig,ax=bec.plot_field(abs(bec.psi)**2,colormap='winter',cmap_symmetric=False,\n",
    "                clims=[0,1])\n",
    "    nodes = bec.calc_vortex_nodes()\n",
    "    bec.plot_vortex_nodes(nodes,ax=ax)\n",
    "    cf.tool_save_plot(n)\n",
    "\n",
    "\n",
    "cf.tool_make_animation_gif(n)"
   ]
  },
  {
   "cell_type": "code",
   "execution_count": null,
   "id": "e53ab7e4",
   "metadata": {},
   "outputs": [],
   "source": [
    "const_pot = V_t(bec.time)\n",
    "\n",
    "\n",
    "bec.conf_external_potential(const_pot, additive=False)\n",
    "\n",
    "timesteps = int(200/bec.dt)\n",
    "bec.evolve_dGPE(timesteps,'ETD4RK')\n",
    "\n",
    "\n",
    "bec.plot_field(np.abs(bec.psi)**2,cmap_symmetric=False,colormap = 'winter')\n",
    "plt.show()"
   ]
  },
  {
   "cell_type": "code",
   "execution_count": null,
   "id": "aa58d76f",
   "metadata": {},
   "outputs": [],
   "source": []
  }
 ],
 "metadata": {
  "kernelspec": {
   "display_name": "COMFIT",
   "language": "python",
   "name": "comfit"
  },
  "language_info": {
   "codemirror_mode": {
    "name": "ipython",
    "version": 3
   },
   "file_extension": ".py",
   "mimetype": "text/x-python",
   "name": "python",
   "nbconvert_exporter": "python",
   "pygments_lexer": "ipython3",
   "version": "3.9.18"
  }
 },
 "nbformat": 4,
 "nbformat_minor": 5
}
