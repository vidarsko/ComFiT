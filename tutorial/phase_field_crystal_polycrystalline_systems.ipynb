{
 "cells": [
  {
   "cell_type": "code",
   "execution_count": null,
   "metadata": {},
   "outputs": [],
   "source": [
    "# !pip install comfit -q # Uncomment and run this cell if you are using Google Colab"
   ]
  },
  {
   "cell_type": "markdown",
   "metadata": {},
   "source": [
    "If you find any errors in this tutorial, please raise a issue at [GitHub](https://github.com/vidarsko/ComFiT/issues)."
   ]
  },
  {
   "cell_type": "markdown",
   "metadata": {},
   "source": [
    "# Phase-field crystal tutorail: Polycrystalline materials\n",
    "\n",
    "In this tutorial, we will look at different ways of creating polycrystalline materials with the PFC framework."
   ]
  },
  {
   "cell_type": "markdown",
   "metadata": {},
   "source": [
    "The first way to create a polycrystalline material is to quench the PFC. "
   ]
  },
  {
   "cell_type": "code",
   "execution_count": null,
   "metadata": {},
   "outputs": [],
   "source": [
    "import comfit as cf\n",
    "import numpy as np\n",
    "import scipy as sp\n",
    "import matplotlib.pyplot as plt\n"
   ]
  },
  {
   "cell_type": "code",
   "execution_count": null,
   "metadata": {},
   "outputs": [],
   "source": []
  },
  {
   "cell_type": "code",
   "execution_count": null,
   "metadata": {},
   "outputs": [],
   "source": [
    "pfc = cf.PhaseFieldCrystal2DTriangular(30, 23, plot_lib='matplotlib')\n",
    "\n",
    "#Set a random initial condition\n",
    "pfc.psi = 0.01*(np.random.rand(pfc.xRes,pfc.yRes) - 0.5) + pfc.psi0\n",
    "pfc.psi_f = sp.fft.fftn(pfc.psi)\n",
    "\n",
    "pfc.plot_field(pfc.psi)"
   ]
  },
  {
   "cell_type": "code",
   "execution_count": null,
   "metadata": {},
   "outputs": [],
   "source": [
    "pfc.evolve_PFC(3000)\n",
    "pfc.plot_field(pfc.psi)"
   ]
  },
  {
   "cell_type": "markdown",
   "metadata": {},
   "source": [
    "Increasing the size of the simulation will create a larger polycrystalline material."
   ]
  },
  {
   "cell_type": "markdown",
   "metadata": {},
   "source": [
    "However, in many situations we want to control the polycrystalline material. \n",
    "In this case, we want to prescribe the regions with the different lattice orientations. \n",
    "Let's see how that can be done"
   ]
  },
  {
   "cell_type": "markdown",
   "metadata": {},
   "source": [
    "We start by creating a simple inclusion, which is rotated with respect to the rest of the material.\n",
    "To easily see what is going on, we will use the square PFC model."
   ]
  },
  {
   "cell_type": "code",
   "execution_count": null,
   "metadata": {},
   "outputs": [],
   "source": [
    "pfc = cf.PhaseFieldCrystal2DSquare(40, 40, plot_lib='matplotlib')\n",
    "\n",
    "# This creates a standard orientation of the crystal\n",
    "pfc.conf_PFC_from_amplitudes()\n",
    "\n",
    "\n",
    "psi_rotated = pfc.calc_PFC_from_amplitudes(rotation=np.pi/3)\n",
    "pfc.plot_field(psi_rotated)\n"
   ]
  },
  {
   "cell_type": "markdown",
   "metadata": {},
   "source": [
    "Now we just need to paste this region in the center onto the old field contained in the variable `pfc.psi`."
   ]
  },
  {
   "cell_type": "code",
   "execution_count": null,
   "metadata": {},
   "outputs": [],
   "source": [
    "# Specify the region centered at the mid position with radius 5 a0.\n",
    "inclusion_region = pfc.calc_region_disk(pfc.rmid, 5*pfc.a0)\n",
    "\n",
    "# Set the rotated field in the inclusion region\n",
    "pfc.psi[inclusion_region] = psi_rotated[inclusion_region]\n",
    "pfc.psi_f = sp.fft.fftn(pfc.psi)\n",
    "\n",
    "pfc.plot_field(pfc.psi)"
   ]
  },
  {
   "cell_type": "markdown",
   "metadata": {},
   "source": [
    "The interface is very sharp. In order to smooth it, we simply evolve the field for a few time steps.\n",
    "\n",
    "NB! Remember that in order for this method to work, we need to also specify the fourier transform of the field, which is why we have added the `pfc.psi_f = sp.fft.fftn(pfc.psi)` line above. "
   ]
  },
  {
   "cell_type": "code",
   "execution_count": null,
   "metadata": {},
   "outputs": [],
   "source": [
    "pfc.evolve_PFC(100)\n",
    "\n",
    "pfc.plot_field(pfc.psi)"
   ]
  },
  {
   "cell_type": "markdown",
   "metadata": {},
   "source": [
    "Let create a bigger inclusion and create an evolution gif. "
   ]
  },
  {
   "cell_type": "code",
   "execution_count": null,
   "metadata": {},
   "outputs": [],
   "source": [
    "pfc = cf.PhaseFieldCrystal2DSquare(40, 40, plot_lib='matplotlib')\n",
    "\n",
    "# This creates a standard orientation of the crystal\n",
    "pfc.conf_PFC_from_amplitudes()\n",
    "\n",
    "# Create the rotated field\n",
    "psi_rotated = pfc.calc_PFC_from_amplitudes(rotation=np.pi/6)\n",
    "\n",
    "# Specify the region centered at the mid position with radius 5 a0.\n",
    "inclusion_region = pfc.calc_region_disk(pfc.rmid, 10*pfc.a0)\n",
    "\n",
    "# Set the rotated field in the inclusion region\n",
    "pfc.psi[inclusion_region] = psi_rotated[inclusion_region]\n",
    "pfc.psi_f = sp.fft.fftn(pfc.psi)\n",
    "\n",
    "for n in range(100):\n",
    "    pfc.evolve_PFC(100)\n",
    "    fig = pfc.plot_field(pfc.psi)\n",
    "    pfc.plot_save(fig, n)\n",
    "cf.tool_make_animation_gif(n,'Inclusion_PFC_normal')"
   ]
  },
  {
   "cell_type": "markdown",
   "metadata": {},
   "source": [
    "Now, the standard PFC evolution does not make the inclusion shrink by any meaningful amount. \n",
    "In order to see some more pronounced evolution, we will look at the same simulation, but now evolving according to the sHPFC model.\n",
    "The sHPFC model will initiate a velocity field with the PFC that are saved in the components `psi[1]` and `psi[2]`, while the PFC field itself will be saved in `psi[0]`, which needs to be taken into account when plotting the field. \n",
    "Also, it is important to smooth the interface by evolving the field according to normal PFC dynamics for a few time steps before starting the sHPFC evolution. \n",
    "This is done in the following script\n"
   ]
  },
  {
   "cell_type": "code",
   "execution_count": null,
   "metadata": {},
   "outputs": [],
   "source": [
    "pfc = cf.PhaseFieldCrystal2DSquare(40, 40, plot_lib='matplotlib')\n",
    "\n",
    "# This creates a standard orientation of the crystal\n",
    "pfc.conf_PFC_from_amplitudes()\n",
    "\n",
    "# Create the rotated field\n",
    "psi_rotated = pfc.calc_PFC_from_amplitudes(rotation=np.pi/6)\n",
    "\n",
    "# Specify the region centered at the mid position with radius 5 a0.\n",
    "inclusion_region = pfc.calc_region_disk(pfc.rmid, 10*pfc.a0)\n",
    "\n",
    "# Set the rotated field in the inclusion region\n",
    "pfc.psi[inclusion_region] = psi_rotated[inclusion_region]\n",
    "pfc.psi_f = sp.fft.fftn(pfc.psi)\n",
    "\n",
    "# Smooth the interface\n",
    "pfc.evolve_PFC(100)\n",
    "\n",
    "for n in range(100):\n",
    "    pfc.evolve_PFC_hydrodynamic(100, rho0=2**-6, gamma_S=2**-6)\n",
    "    fig = pfc.plot_field(pfc.psi[0])\n",
    "    pfc.plot_save(fig, n)\n",
    "cf.tool_make_animation_gif(n,'Inclusion_PFC_sHPFC')"
   ]
  },
  {
   "cell_type": "markdown",
   "metadata": {},
   "source": [
    "As we see, the presence of the velocity field makes the inclusion shrink faster. "
   ]
  },
  {
   "cell_type": "markdown",
   "metadata": {},
   "source": [
    "The inclusion is one of the types of preconfigured polycrystalline materials that can be created with the PFC framework.\n",
    "Another type is the four-grain configuration used in the paper [Hydrodynamic phase field crystal approach to interfaces, dislocations and multi-grain networks](http://iopscience.iop.org/article/10.1088/1361-651X/ac9493).\n",
    "Both of these configurations are available through the `conf_create_polycrystal` method in the pfc class. \n",
    "In this method, `relaxation_time` is an optional keyword specifying for how long a simulation time the initial polycrystalline edges are evolved according to classical PFC dynamics to smooth them before running. \n",
    "More information on these methods can be found in the documentation."
   ]
  },
  {
   "cell_type": "code",
   "execution_count": null,
   "metadata": {},
   "outputs": [],
   "source": [
    "pfc = cf.PhaseFieldCrystal2DSquare(30,30, plot_lib='matplotlib')\n",
    "\n",
    "# This creates a standard orientation of the crystal\n",
    "pfc.conf_create_polycrystal(type='circular', relaxation_time=10)\n",
    "pfc.plot_field(pfc.psi)"
   ]
  },
  {
   "cell_type": "code",
   "execution_count": null,
   "metadata": {},
   "outputs": [],
   "source": [
    "pfc = cf.PhaseFieldCrystal2DSquare(30,30, plot_lib='matplotlib')\n",
    "\n",
    "# This creates a standard orientation of the crystal\n",
    "pfc.conf_create_polycrystal(type='four_grain', relaxation_time=10)\n",
    "pfc.plot_field(pfc.psi)\n"
   ]
  },
  {
   "cell_type": "code",
   "execution_count": null,
   "metadata": {},
   "outputs": [],
   "source": []
  }
 ],
 "metadata": {
  "kernelspec": {
   "display_name": "venv",
   "language": "python",
   "name": "python3"
  },
  "language_info": {
   "codemirror_mode": {
    "name": "ipython",
    "version": 3
   },
   "file_extension": ".py",
   "mimetype": "text/x-python",
   "name": "python",
   "nbconvert_exporter": "python",
   "pygments_lexer": "ipython3",
   "version": "3.11.9"
  }
 },
 "nbformat": 4,
 "nbformat_minor": 2
}
