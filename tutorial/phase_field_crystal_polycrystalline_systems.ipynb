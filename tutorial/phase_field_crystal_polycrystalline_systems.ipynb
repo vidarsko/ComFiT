{
 "cells": [
  {
   "cell_type": "markdown",
   "metadata": {},
   "source": [
    "# Phase-field crystal tutorail: Polycrystalline materials\n",
    "\n",
    "In this tutorial, we will look at different ways of creating polycrystalline materials with the PFC framework."
   ]
  },
  {
   "cell_type": "code",
   "execution_count": null,
   "metadata": {},
   "outputs": [],
   "source": [
    "!pip install comfit -q"
   ]
  },
  {
   "cell_type": "markdown",
   "metadata": {},
   "source": [
    "The first way to create a polycrystalline material is to quench the PFC. "
   ]
  },
  {
   "cell_type": "code",
   "execution_count": null,
   "metadata": {},
   "outputs": [],
   "source": [
    "import comfit as cf\n",
    "import numpy as np\n",
    "import scipy as sp\n",
    "import matplotlib.pyplot as plt\n"
   ]
  },
  {
   "cell_type": "code",
   "execution_count": null,
   "metadata": {},
   "outputs": [],
   "source": []
  },
  {
   "cell_type": "code",
   "execution_count": null,
   "metadata": {},
   "outputs": [],
   "source": [
    "pfc = cf.PhaseFieldCrystal2DTriangular(30, 23)\n",
    "\n",
    "#Set a random initial condition\n",
    "pfc.psi = 0.01*(np.random.rand(pfc.xRes,pfc.yRes) - 0.5) + pfc.psi0\n",
    "pfc.psi_f = sp.fft.fftn(pfc.psi)\n",
    "\n",
    "pfc.plot_field(pfc.psi)"
   ]
  },
  {
   "cell_type": "code",
   "execution_count": null,
   "metadata": {},
   "outputs": [],
   "source": [
    "pfc.evolve_PFC(3000)\n",
    "pfc.plot_field(pfc.psi)"
   ]
  },
  {
   "cell_type": "markdown",
   "metadata": {},
   "source": [
    "Increasing the size of the simulation will create a larger polycrystalline material."
   ]
  },
  {
   "cell_type": "markdown",
   "metadata": {},
   "source": [
    "However, in many situations we want to control the polycrystalline material. \n",
    "In this case, we want to prescribe the regions with the different lattice orientations. \n",
    "Let's see how that can be done"
   ]
  },
  {
   "cell_type": "markdown",
   "metadata": {},
   "source": [
    "We start by creating a simple inclusion, which is rotated with respect to the rest of the material.\n",
    "To easily see what is going on, we will use the square PFC model."
   ]
  },
  {
   "cell_type": "code",
   "execution_count": null,
   "metadata": {},
   "outputs": [],
   "source": [
    "pfc = cf.PhaseFieldCrystal2DSquare(40, 40)\n",
    "\n",
    "# This creates a standard orientation of the crystal\n",
    "pfc.conf_PFC_from_amplitudes()\n",
    "\n",
    "\n",
    "psi_rotated = pfc.calc_PFC_from_amplitudes(rotation=np.pi/3)\n",
    "pfc.plot_field(psi_rotated)\n"
   ]
  },
  {
   "cell_type": "markdown",
   "metadata": {},
   "source": [
    "Now we just need to paste this region in the center onto the old field contained in the variable `pfc.psi`."
   ]
  },
  {
   "cell_type": "code",
   "execution_count": null,
   "metadata": {},
   "outputs": [],
   "source": [
    "# Specify the region centered at the mid position with radius 5 a0.\n",
    "inclusion_region = pfc.calc_region_disk(pfc.rmid, 5*pfc.a0)\n",
    "\n",
    "# Set the rotated field in the inclusion region\n",
    "pfc.psi[inclusion_region] = psi_rotated[inclusion_region]\n",
    "pfc.psi_f = sp.fft.fftn(pfc.psi)\n",
    "\n",
    "pfc.plot_field(pfc.psi)"
   ]
  },
  {
   "cell_type": "markdown",
   "metadata": {},
   "source": [
    "The interface is very sharp. In order to smooth it, we simply evolve the field for a few time steps.\n",
    "\n",
    "NB! Remember that in order for this method to work, we need to also specify the fourier transform of the field, which is why we have added the `pfc.psi_f = sp.fft.fftn(pfc.psi)` line above. "
   ]
  },
  {
   "cell_type": "code",
   "execution_count": null,
   "metadata": {},
   "outputs": [],
   "source": [
    "pfc.evolve_PFC(100)\n",
    "\n",
    "pfc.plot_field(pfc.psi)"
   ]
  },
  {
   "cell_type": "markdown",
   "metadata": {},
   "source": [
    "Let create a bigger inclusion and create an evolution gif. "
   ]
  },
  {
   "cell_type": "code",
   "execution_count": null,
   "metadata": {},
   "outputs": [],
   "source": [
    "pfc = cf.PhaseFieldCrystal2DSquare(40, 40)\n",
    "\n",
    "# This creates a standard orientation of the crystal\n",
    "pfc.conf_PFC_from_amplitudes()\n",
    "\n",
    "# Create the rotated field\n",
    "psi_rotated = pfc.calc_PFC_from_amplitudes(rotation=np.pi/6)\n",
    "\n",
    "# Specify the region centered at the mid position with radius 5 a0.\n",
    "inclusion_region = pfc.calc_region_disk(pfc.rmid, 10*pfc.a0)\n",
    "\n",
    "# Set the rotated field in the inclusion region\n",
    "pfc.psi[inclusion_region] = psi_rotated[inclusion_region]\n",
    "pfc.psi_f = sp.fft.fftn(pfc.psi)\n",
    "\n",
    "for n in range(100):\n",
    "    pfc.evolve_PFC(100)\n",
    "    pfc.plot_field(pfc.psi)\n",
    "    cf.tool_save_plot(n)\n",
    "cf.tool_make_animation_gif(n,'Inclusion_PFC_normal')"
   ]
  }
 ],
 "metadata": {
  "kernelspec": {
   "display_name": "COMFIT",
   "language": "python",
   "name": "comfit"
  },
  "language_info": {
   "codemirror_mode": {
    "name": "ipython",
    "version": 3
   },
   "file_extension": ".py",
   "mimetype": "text/x-python",
   "name": "python",
   "nbconvert_exporter": "python",
   "pygments_lexer": "ipython3",
   "version": "3.9.18"
  }
 },
 "nbformat": 4,
 "nbformat_minor": 2
}
