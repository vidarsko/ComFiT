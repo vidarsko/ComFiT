{
 "cells": [
  {
   "cell_type": "code",
   "execution_count": 4,
   "metadata": {},
   "outputs": [],
   "source": [
    "# !pip install comfit -q\n",
    "import sys\n",
    "from pathlib import Path\n",
    "current_dir = Path().resolve()\n",
    "parent_dir = current_dir.parent\n",
    "sys.path.append(str(parent_dir))\n",
    "import comfit as cf\n",
    "import numpy as np\n",
    "import matplotlib.pyplot as plt\n",
    "import plotly.graph_objects as go\n",
    "import scipy as sp\n",
    "\n"
   ]
  },
  {
   "cell_type": "markdown",
   "metadata": {},
   "source": [
    "If you find any errors in this tutorial, please raise a issue at [GitHub](https://github.com/vidarsko/ComFiT/issues)."
   ]
  },
  {
   "cell_type": "markdown",
   "metadata": {},
   "source": [
    "# The harmonic oscillator\n",
    "\n",
    "In this tutorial, we will look at the harmonic oscillator, a simple system that is often used to introduce the concepts of quantum mechanics.\n",
    "\n",
    "We install and import comfit. "
   ]
  },
  {
   "cell_type": "code",
   "execution_count": 5,
   "metadata": {},
   "outputs": [],
   "source": [
    "import comfit as cf\n",
    "import numpy as np\n",
    "import scipy as sp"
   ]
  },
  {
   "cell_type": "markdown",
   "metadata": {},
   "source": [
    "We will create a one dimensional system with a harmonic potential. "
   ]
  },
  {
   "cell_type": "code",
   "execution_count": 6,
   "metadata": {},
   "outputs": [],
   "source": [
    "qm = cf.QuantumMechanics(1,xlim=[-15,15],xRes=200)"
   ]
  },
  {
   "cell_type": "code",
   "execution_count": 7,
   "metadata": {},
   "outputs": [],
   "source": [
    "omega = 0.2"
   ]
  },
  {
   "cell_type": "code",
   "execution_count": 8,
   "metadata": {},
   "outputs": [],
   "source": [
    "qm.V_ext = 1/2*omega**2*qm.x**2"
   ]
  },
  {
   "cell_type": "markdown",
   "metadata": {},
   "source": [
    "The ground state is given by \n",
    "\n",
    "$$\n",
    "\\psi_0(x) = \\left(\\frac{m\\omega}{\\pi\\hbar}\\right)^{1/4} e^{-\\frac{m\\omega x^2}{2\\hbar}}\n",
    "$$\n",
    "\n",
    "Let's initiate that wave function. "
   ]
  },
  {
   "cell_type": "code",
   "execution_count": 9,
   "metadata": {},
   "outputs": [],
   "source": [
    "qm.psi = (omega/np.pi)**(1/4)*np.exp(-omega*qm.x**2/2)\n",
    "qm.psi_f = sp.fft.fftn(qm.psi)"
   ]
  },
  {
   "cell_type": "code",
   "execution_count": 10,
   "metadata": {},
   "outputs": [
    {
     "data": {
      "application/vnd.plotly.v1+json": {
       "config": {
        "plotlyServerURL": "https://plot.ly"
       },
       "data": [
        {
         "fill": "tozeroy",
         "fillcolor": "rgb(255,76,76)",
         "hoverinfo": "skip",
         "line": {
          "color": "rgba(0,0,0,0)"
         },
         "mode": "lines",
         "showlegend": false,
         "type": "scatter",
         "x": [
          -15,
          -14.925
         ],
         "y": [
          8.498537359729119e-11,
          1.0898470981316076e-10
         ]
        },
        {
         "fill": "tozeroy",
         "fillcolor": "rgb(255,76,76)",
         "hoverinfo": "skip",
         "line": {
          "color": "rgba(0,0,0,0)"
         },
         "mode": "lines",
         "showlegend": false,
         "type": "scatter",
         "x": [
          -14.924999999999999,
          -14.85
         ],
         "y": [
          1.0898470981316076e-10,
          1.3298404602903033e-10
         ]
        },
        {
         "fill": "tozeroy",
         "fillcolor": "rgb(255,76,76)",
         "hoverinfo": "skip",
         "line": {
          "color": "rgba(0,0,0,0)"
         },
         "mode": "lines",
         "showlegend": false,
         "type": "scatter",
         "x": [
          -14.85,
          -14.775
         ],
         "y": [
          1.3298404602903033e-10,
          1.7007075155730838e-10
         ]
        },
        {
         "fill": "tozeroy",
         "fillcolor": "rgb(255,76,76)",
         "hoverinfo": "skip",
         "line": {
          "color": "rgba(0,0,0,0)"
         },
         "mode": "lines",
         "showlegend": false,
         "type": "scatter",
         "x": [
          -14.774999999999999,
          -14.7
         ],
         "y": [
          1.7007075155730838e-10,
          2.0715745708558642e-10
         ]
        },
        {
         "fill": "tozeroy",
         "fillcolor": "rgb(255,76,76)",
         "hoverinfo": "skip",
         "line": {
          "color": "rgba(0,0,0,0)"
         },
         "mode": "lines",
         "showlegend": false,
         "type": "scatter",
         "x": [
          -14.7,
          -14.625
         ],
         "y": [
          2.0715745708558642e-10,
          2.6420525933014866e-10
         ]
        },
        {
         "fill": "tozeroy",
         "fillcolor": "rgb(255,76,76)",
         "hoverinfo": "skip",
         "line": {
          "color": "rgba(0,0,0,0)"
         },
         "mode": "lines",
         "showlegend": false,
         "type": "scatter",
         "x": [
          -14.625,
          -14.55
         ],
         "y": [
          2.6420525933014866e-10,
          3.2125306157471085e-10
         ]
        },
        {
         "fill": "tozeroy",
         "fillcolor": "rgb(255,76,76)",
         "hoverinfo": "skip",
         "line": {
          "color": "rgba(0,0,0,0)"
         },
         "mode": "lines",
         "showlegend": false,
         "type": "scatter",
         "x": [
          -14.55,
          -14.475000000000001
         ],
         "y": [
          3.2125306157471085e-10,
          4.086025353771963e-10
         ]
        },
        {
         "fill": "tozeroy",
         "fillcolor": "rgb(255,76,76)",
         "hoverinfo": "skip",
         "line": {
          "color": "rgba(0,0,0,0)"
         },
         "mode": "lines",
         "showlegend": false,
         "type": "scatter",
         "x": [
          -14.475,
          -14.4
         ],
         "y": [
          4.086025353771963e-10,
          4.959520091796818e-10
         ]
        },
        {
         "fill": "tozeroy",
         "fillcolor": "rgb(255,76,76)",
         "hoverinfo": "skip",
         "line": {
          "color": "rgba(0,0,0,0)"
         },
         "mode": "lines",
         "showlegend": false,
         "type": "scatter",
         "x": [
          -14.4,
          -14.325000000000001
         ],
         "y": [
          4.959520091796818e-10,
          6.290836944719394e-10
         ]
        },
        {
         "fill": "tozeroy",
         "fillcolor": "rgb(255,76,76)",
         "hoverinfo": "skip",
         "line": {
          "color": "rgba(0,0,0,0)"
         },
         "mode": "lines",
         "showlegend": false,
         "type": "scatter",
         "x": [
          -14.325,
          -14.25
         ],
         "y": [
          6.290836944719394e-10,
          7.62215379764197e-10
         ]
        },
        {
         "fill": "tozeroy",
         "fillcolor": "rgb(255,76,76)",
         "hoverinfo": "skip",
         "line": {
          "color": "rgba(0,0,0,0)"
         },
         "mode": "lines",
         "showlegend": false,
         "type": "scatter",
         "x": [
          -14.25,
          -14.175
         ],
         "y": [
          7.62215379764197e-10,
          9.641921140719771e-10
         ]
        },
        {
         "fill": "tozeroy",
         "fillcolor": "rgb(255,76,76)",
         "hoverinfo": "skip",
         "line": {
          "color": "rgba(0,0,0,0)"
         },
         "mode": "lines",
         "showlegend": false,
         "type": "scatter",
         "x": [
          -14.174999999999999,
          -14.1
         ],
         "y": [
          9.641921140719771e-10,
          1.1661688483797572e-9
         ]
        },
        {
         "fill": "tozeroy",
         "fillcolor": "rgb(255,76,76)",
         "hoverinfo": "skip",
         "line": {
          "color": "rgba(0,0,0,0)"
         },
         "mode": "lines",
         "showlegend": false,
         "type": "scatter",
         "x": [
          -14.1,
          -14.025
         ],
         "y": [
          1.1661688483797572e-9,
          1.4711823251975537e-9
         ]
        },
        {
         "fill": "tozeroy",
         "fillcolor": "rgb(255,76,76)",
         "hoverinfo": "skip",
         "line": {
          "color": "rgba(0,0,0,0)"
         },
         "mode": "lines",
         "showlegend": false,
         "type": "scatter",
         "x": [
          -14.024999999999999,
          -13.95
         ],
         "y": [
          1.4711823251975537e-9,
          1.7761958020153503e-9
         ]
        },
        {
         "fill": "tozeroy",
         "fillcolor": "rgb(255,76,76)",
         "hoverinfo": "skip",
         "line": {
          "color": "rgba(0,0,0,0)"
         },
         "mode": "lines",
         "showlegend": false,
         "type": "scatter",
         "x": [
          -13.95,
          -13.875
         ],
         "y": [
          1.7761958020153503e-9,
          2.234689565157375e-9
         ]
        },
        {
         "fill": "tozeroy",
         "fillcolor": "rgb(255,76,76)",
         "hoverinfo": "skip",
         "line": {
          "color": "rgba(0,0,0,0)"
         },
         "mode": "lines",
         "showlegend": false,
         "type": "scatter",
         "x": [
          -13.875,
          -13.8
         ],
         "y": [
          2.234689565157375e-9,
          2.6931833282993995e-9
         ]
        },
        {
         "fill": "tozeroy",
         "fillcolor": "rgb(255,76,76)",
         "hoverinfo": "skip",
         "line": {
          "color": "rgba(0,0,0,0)"
         },
         "mode": "lines",
         "showlegend": false,
         "type": "scatter",
         "x": [
          -13.8,
          -13.725000000000001
         ],
         "y": [
          2.6931833282993995e-9,
          3.3792139112696323e-9
         ]
        },
        {
         "fill": "tozeroy",
         "fillcolor": "rgb(255,76,76)",
         "hoverinfo": "skip",
         "line": {
          "color": "rgba(0,0,0,0)"
         },
         "mode": "lines",
         "showlegend": false,
         "type": "scatter",
         "x": [
          -13.725,
          -13.65
         ],
         "y": [
          3.3792139112696323e-9,
          4.065244494239865e-9
         ]
        },
        {
         "fill": "tozeroy",
         "fillcolor": "rgb(255,76,76)",
         "hoverinfo": "skip",
         "line": {
          "color": "rgba(0,0,0,0)"
         },
         "mode": "lines",
         "showlegend": false,
         "type": "scatter",
         "x": [
          -13.65,
          -13.575000000000001
         ],
         "y": [
          4.065244494239865e-9,
          5.087002493848283e-9
         ]
        },
        {
         "fill": "tozeroy",
         "fillcolor": "rgb(255,76,76)",
         "hoverinfo": "skip",
         "line": {
          "color": "rgba(0,0,0,0)"
         },
         "mode": "lines",
         "showlegend": false,
         "type": "scatter",
         "x": [
          -13.575,
          -13.5
         ],
         "y": [
          5.087002493848283e-9,
          6.108760493456701e-9
         ]
        },
        {
         "fill": "tozeroy",
         "fillcolor": "rgb(255,76,76)",
         "hoverinfo": "skip",
         "line": {
          "color": "rgba(0,0,0,0)"
         },
         "mode": "lines",
         "showlegend": false,
         "type": "scatter",
         "x": [
          -13.5,
          -13.425
         ],
         "y": [
          6.108760493456701e-9,
          7.623528029925533e-9
         ]
        },
        {
         "fill": "tozeroy",
         "fillcolor": "rgb(255,76,76)",
         "hoverinfo": "skip",
         "line": {
          "color": "rgba(0,0,0,0)"
         },
         "mode": "lines",
         "showlegend": false,
         "type": "scatter",
         "x": [
          -13.424999999999999,
          -13.35
         ],
         "y": [
          7.623528029925533e-9,
          9.138295566394365e-9
         ]
        },
        {
         "fill": "tozeroy",
         "fillcolor": "rgb(255,76,76)",
         "hoverinfo": "skip",
         "line": {
          "color": "rgba(0,0,0,0)"
         },
         "mode": "lines",
         "showlegend": false,
         "type": "scatter",
         "x": [
          -13.35,
          -13.275
         ],
         "y": [
          9.138295566394365e-9,
          1.1373597081677685e-8
         ]
        },
        {
         "fill": "tozeroy",
         "fillcolor": "rgb(255,76,76)",
         "hoverinfo": "skip",
         "line": {
          "color": "rgba(0,0,0,0)"
         },
         "mode": "lines",
         "showlegend": false,
         "type": "scatter",
         "x": [
          -13.274999999999999,
          -13.2
         ],
         "y": [
          1.1373597081677685e-8,
          1.3608898596961005e-8
         ]
        },
        {
         "fill": "tozeroy",
         "fillcolor": "rgb(255,76,76)",
         "hoverinfo": "skip",
         "line": {
          "color": "rgba(0,0,0,0)"
         },
         "mode": "lines",
         "showlegend": false,
         "type": "scatter",
         "x": [
          -13.2,
          -13.125
         ],
         "y": [
          1.3608898596961005e-8,
          1.689224863152349e-8
         ]
        },
        {
         "fill": "tozeroy",
         "fillcolor": "rgb(255,76,76)",
         "hoverinfo": "skip",
         "line": {
          "color": "rgba(0,0,0,0)"
         },
         "mode": "lines",
         "showlegend": false,
         "type": "scatter",
         "x": [
          -13.125,
          -13.05
         ],
         "y": [
          1.689224863152349e-8,
          2.017559866608597e-8
         ]
        },
        {
         "fill": "tozeroy",
         "fillcolor": "rgb(255,76,76)",
         "hoverinfo": "skip",
         "line": {
          "color": "rgba(0,0,0,0)"
         },
         "mode": "lines",
         "showlegend": false,
         "type": "scatter",
         "x": [
          -13.05,
          -12.975000000000001
         ],
         "y": [
          2.017559866608597e-8,
          2.4976114775522007e-8
         ]
        },
        {
         "fill": "tozeroy",
         "fillcolor": "rgb(255,76,76)",
         "hoverinfo": "skip",
         "line": {
          "color": "rgba(0,0,0,0)"
         },
         "mode": "lines",
         "showlegend": false,
         "type": "scatter",
         "x": [
          -12.975,
          -12.9
         ],
         "y": [
          2.4976114775522007e-8,
          2.977663088495804e-8
         ]
        },
        {
         "fill": "tozeroy",
         "fillcolor": "rgb(255,76,76)",
         "hoverinfo": "skip",
         "line": {
          "color": "rgba(0,0,0,0)"
         },
         "mode": "lines",
         "showlegend": false,
         "type": "scatter",
         "x": [
          -12.9,
          -12.825000000000001
         ],
         "y": [
          2.977663088495804e-8,
          3.6762927702176016e-8
         ]
        },
        {
         "fill": "tozeroy",
         "fillcolor": "rgb(255,76,76)",
         "hoverinfo": "skip",
         "line": {
          "color": "rgba(0,0,0,0)"
         },
         "mode": "lines",
         "showlegend": false,
         "type": "scatter",
         "x": [
          -12.825,
          -12.75
         ],
         "y": [
          3.6762927702176016e-8,
          4.3749224519393995e-8
         ]
        },
        {
         "fill": "tozeroy",
         "fillcolor": "rgb(255,76,76)",
         "hoverinfo": "skip",
         "line": {
          "color": "rgba(0,0,0,0)"
         },
         "mode": "lines",
         "showlegend": false,
         "type": "scatter",
         "x": [
          -12.75,
          -12.675
         ],
         "y": [
          4.3749224519393995e-8,
          5.3869518393676936e-8
         ]
        },
        {
         "fill": "tozeroy",
         "fillcolor": "rgb(255,76,76)",
         "hoverinfo": "skip",
         "line": {
          "color": "rgba(0,0,0,0)"
         },
         "mode": "lines",
         "showlegend": false,
         "type": "scatter",
         "x": [
          -12.674999999999999,
          -12.6
         ],
         "y": [
          5.3869518393676936e-8,
          6.398981226795988e-8
         ]
        },
        {
         "fill": "tozeroy",
         "fillcolor": "rgb(255,76,76)",
         "hoverinfo": "skip",
         "line": {
          "color": "rgba(0,0,0,0)"
         },
         "mode": "lines",
         "showlegend": false,
         "type": "scatter",
         "x": [
          -12.6,
          -12.525
         ],
         "y": [
          6.398981226795988e-8,
          7.858214720185045e-8
         ]
        },
        {
         "fill": "tozeroy",
         "fillcolor": "rgb(255,76,76)",
         "hoverinfo": "skip",
         "line": {
          "color": "rgba(0,0,0,0)"
         },
         "mode": "lines",
         "showlegend": false,
         "type": "scatter",
         "x": [
          -12.524999999999999,
          -12.45
         ],
         "y": [
          7.858214720185045e-8,
          9.317448213574104e-8
         ]
        },
        {
         "fill": "tozeroy",
         "fillcolor": "rgb(255,76,76)",
         "hoverinfo": "skip",
         "line": {
          "color": "rgba(0,0,0,0)"
         },
         "mode": "lines",
         "showlegend": false,
         "type": "scatter",
         "x": [
          -12.45,
          -12.375
         ],
         "y": [
          9.317448213574104e-8,
          1.1411756272947996e-7
         ]
        },
        {
         "fill": "tozeroy",
         "fillcolor": "rgb(255,76,76)",
         "hoverinfo": "skip",
         "line": {
          "color": "rgba(0,0,0,0)"
         },
         "mode": "lines",
         "showlegend": false,
         "type": "scatter",
         "x": [
          -12.375,
          -12.3
         ],
         "y": [
          1.1411756272947996e-7,
          1.3506064332321888e-7
         ]
        },
        {
         "fill": "tozeroy",
         "fillcolor": "rgb(255,76,76)",
         "hoverinfo": "skip",
         "line": {
          "color": "rgba(0,0,0,0)"
         },
         "mode": "lines",
         "showlegend": false,
         "type": "scatter",
         "x": [
          -12.3,
          -12.225000000000001
         ],
         "y": [
          1.3506064332321888e-7,
          1.6497908218949571e-7
         ]
        },
        {
         "fill": "tozeroy",
         "fillcolor": "rgb(255,76,76)",
         "hoverinfo": "skip",
         "line": {
          "color": "rgba(0,0,0,0)"
         },
         "mode": "lines",
         "showlegend": false,
         "type": "scatter",
         "x": [
          -12.225,
          -12.15
         ],
         "y": [
          1.6497908218949571e-7,
          1.9489752105577258e-7
         ]
        },
        {
         "fill": "tozeroy",
         "fillcolor": "rgb(255,76,76)",
         "hoverinfo": "skip",
         "line": {
          "color": "rgba(0,0,0,0)"
         },
         "mode": "lines",
         "showlegend": false,
         "type": "scatter",
         "x": [
          -12.15,
          -12.075000000000001
         ],
         "y": [
          1.9489752105577258e-7,
          2.374395606190593e-7
         ]
        },
        {
         "fill": "tozeroy",
         "fillcolor": "rgb(255,76,76)",
         "hoverinfo": "skip",
         "line": {
          "color": "rgba(0,0,0,0)"
         },
         "mode": "lines",
         "showlegend": false,
         "type": "scatter",
         "x": [
          -12.075,
          -12
         ],
         "y": [
          2.374395606190593e-7,
          2.79981600182346e-7
         ]
        },
        {
         "fill": "tozeroy",
         "fillcolor": "rgb(255,76,76)",
         "hoverinfo": "skip",
         "line": {
          "color": "rgba(0,0,0,0)"
         },
         "mode": "lines",
         "showlegend": false,
         "type": "scatter",
         "x": [
          -12,
          -11.925
         ],
         "y": [
          2.79981600182346e-7,
          3.401927700557463e-7
         ]
        },
        {
         "fill": "tozeroy",
         "fillcolor": "rgb(255,76,76)",
         "hoverinfo": "skip",
         "line": {
          "color": "rgba(0,0,0,0)"
         },
         "mode": "lines",
         "showlegend": false,
         "type": "scatter",
         "x": [
          -11.924999999999999,
          -11.85
         ],
         "y": [
          3.401927700557463e-7,
          4.0040393992914655e-7
         ]
        },
        {
         "fill": "tozeroy",
         "fillcolor": "rgb(255,76,76)",
         "hoverinfo": "skip",
         "line": {
          "color": "rgba(0,0,0,0)"
         },
         "mode": "lines",
         "showlegend": false,
         "type": "scatter",
         "x": [
          -11.85,
          -11.775
         ],
         "y": [
          4.0040393992914655e-7,
          4.852269161221608e-7
         ]
        },
        {
         "fill": "tozeroy",
         "fillcolor": "rgb(255,76,76)",
         "hoverinfo": "skip",
         "line": {
          "color": "rgba(0,0,0,0)"
         },
         "mode": "lines",
         "showlegend": false,
         "type": "scatter",
         "x": [
          -11.774999999999999,
          -11.7
         ],
         "y": [
          4.852269161221608e-7,
          5.70049892315175e-7
         ]
        },
        {
         "fill": "tozeroy",
         "fillcolor": "rgb(255,76,76)",
         "hoverinfo": "skip",
         "line": {
          "color": "rgba(0,0,0,0)"
         },
         "mode": "lines",
         "showlegend": false,
         "type": "scatter",
         "x": [
          -11.7,
          -11.625
         ],
         "y": [
          5.70049892315175e-7,
          6.889893265851133e-7
         ]
        },
        {
         "fill": "tozeroy",
         "fillcolor": "rgb(255,76,76)",
         "hoverinfo": "skip",
         "line": {
          "color": "rgba(0,0,0,0)"
         },
         "mode": "lines",
         "showlegend": false,
         "type": "scatter",
         "x": [
          -11.625,
          -11.55
         ],
         "y": [
          6.889893265851133e-7,
          8.079287608550518e-7
         ]
        },
        {
         "fill": "tozeroy",
         "fillcolor": "rgb(255,76,76)",
         "hoverinfo": "skip",
         "line": {
          "color": "rgba(0,0,0,0)"
         },
         "mode": "lines",
         "showlegend": false,
         "type": "scatter",
         "x": [
          -11.55,
          -11.475000000000001
         ],
         "y": [
          8.079287608550518e-7,
          9.73930378654293e-7
         ]
        },
        {
         "fill": "tozeroy",
         "fillcolor": "rgb(255,76,76)",
         "hoverinfo": "skip",
         "line": {
          "color": "rgba(0,0,0,0)"
         },
         "mode": "lines",
         "showlegend": false,
         "type": "scatter",
         "x": [
          -11.475,
          -11.4
         ],
         "y": [
          9.73930378654293e-7,
          0.000001139931996453534
         ]
        },
        {
         "fill": "tozeroy",
         "fillcolor": "rgb(255,76,76)",
         "hoverinfo": "skip",
         "line": {
          "color": "rgba(0,0,0,0)"
         },
         "mode": "lines",
         "showlegend": false,
         "type": "scatter",
         "x": [
          -11.4,
          -11.325000000000001
         ],
         "y": [
          0.000001139931996453534,
          0.0000013705381860717116
         ]
        },
        {
         "fill": "tozeroy",
         "fillcolor": "rgb(255,76,76)",
         "hoverinfo": "skip",
         "line": {
          "color": "rgba(0,0,0,0)"
         },
         "mode": "lines",
         "showlegend": false,
         "type": "scatter",
         "x": [
          -11.325,
          -11.25
         ],
         "y": [
          0.0000013705381860717116,
          0.000001601144375689889
         ]
        },
        {
         "fill": "tozeroy",
         "fillcolor": "rgb(255,76,76)",
         "hoverinfo": "skip",
         "line": {
          "color": "rgba(0,0,0,0)"
         },
         "mode": "lines",
         "showlegend": false,
         "type": "scatter",
         "x": [
          -11.25,
          -11.175
         ],
         "y": [
          0.000001601144375689889,
          0.000001920004203543889
         ]
        },
        {
         "fill": "tozeroy",
         "fillcolor": "rgb(255,76,76)",
         "hoverinfo": "skip",
         "line": {
          "color": "rgba(0,0,0,0)"
         },
         "mode": "lines",
         "showlegend": false,
         "type": "scatter",
         "x": [
          -11.174999999999999,
          -11.1
         ],
         "y": [
          0.000001920004203543889,
          0.000002238864031397889
         ]
        },
        {
         "fill": "tozeroy",
         "fillcolor": "rgb(255,76,76)",
         "hoverinfo": "skip",
         "line": {
          "color": "rgba(0,0,0,0)"
         },
         "mode": "lines",
         "showlegend": false,
         "type": "scatter",
         "x": [
          -11.1,
          -11.025
         ],
         "y": [
          0.000002238864031397889,
          0.00000267769453025227
         ]
        },
        {
         "fill": "tozeroy",
         "fillcolor": "rgb(255,76,76)",
         "hoverinfo": "skip",
         "line": {
          "color": "rgba(0,0,0,0)"
         },
         "mode": "lines",
         "showlegend": false,
         "type": "scatter",
         "x": [
          -11.024999999999999,
          -10.95
         ],
         "y": [
          0.00000267769453025227,
          0.000003116525029106652
         ]
        },
        {
         "fill": "tozeroy",
         "fillcolor": "rgb(255,76,76)",
         "hoverinfo": "skip",
         "line": {
          "color": "rgba(0,0,0,0)"
         },
         "mode": "lines",
         "showlegend": false,
         "type": "scatter",
         "x": [
          -10.95,
          -10.875
         ],
         "y": [
          0.000003116525029106652,
          0.0000037176431286323494
         ]
        },
        {
         "fill": "tozeroy",
         "fillcolor": "rgb(255,76,76)",
         "hoverinfo": "skip",
         "line": {
          "color": "rgba(0,0,0,0)"
         },
         "mode": "lines",
         "showlegend": false,
         "type": "scatter",
         "x": [
          -10.875,
          -10.8
         ],
         "y": [
          0.0000037176431286323494,
          0.000004318761228158047
         ]
        },
        {
         "fill": "tozeroy",
         "fillcolor": "rgb(255,76,76)",
         "hoverinfo": "skip",
         "line": {
          "color": "rgba(0,0,0,0)"
         },
         "mode": "lines",
         "showlegend": false,
         "type": "scatter",
         "x": [
          -10.8,
          -10.725000000000001
         ],
         "y": [
          0.000004318761228158047,
          0.000005138332217942915
         ]
        },
        {
         "fill": "tozeroy",
         "fillcolor": "rgb(255,76,76)",
         "hoverinfo": "skip",
         "line": {
          "color": "rgba(0,0,0,0)"
         },
         "mode": "lines",
         "showlegend": false,
         "type": "scatter",
         "x": [
          -10.725,
          -10.65
         ],
         "y": [
          0.000005138332217942915,
          0.000005957903207727784
         ]
        },
        {
         "fill": "tozeroy",
         "fillcolor": "rgb(255,76,76)",
         "hoverinfo": "skip",
         "line": {
          "color": "rgba(0,0,0,0)"
         },
         "mode": "lines",
         "showlegend": false,
         "type": "scatter",
         "x": [
          -10.65,
          -10.575000000000001
         ],
         "y": [
          0.000005957903207727784,
          0.000007070082472490462
         ]
        },
        {
         "fill": "tozeroy",
         "fillcolor": "rgb(255,76,76)",
         "hoverinfo": "skip",
         "line": {
          "color": "rgba(0,0,0,0)"
         },
         "mode": "lines",
         "showlegend": false,
         "type": "scatter",
         "x": [
          -10.575,
          -10.5
         ],
         "y": [
          0.000007070082472490462,
          0.00000818226173725314
         ]
        },
        {
         "fill": "tozeroy",
         "fillcolor": "rgb(255,76,76)",
         "hoverinfo": "skip",
         "line": {
          "color": "rgba(0,0,0,0)"
         },
         "mode": "lines",
         "showlegend": false,
         "type": "scatter",
         "x": [
          -10.5,
          -10.425
         ],
         "y": [
          0.00000818226173725314,
          0.00000968444191515788
         ]
        },
        {
         "fill": "tozeroy",
         "fillcolor": "rgb(255,76,76)",
         "hoverinfo": "skip",
         "line": {
          "color": "rgba(0,0,0,0)"
         },
         "mode": "lines",
         "showlegend": false,
         "type": "scatter",
         "x": [
          -10.425,
          -10.350000000000001
         ],
         "y": [
          0.00000968444191515788,
          0.00001118662209306262
         ]
        },
        {
         "fill": "tozeroy",
         "fillcolor": "rgb(255,76,76)",
         "hoverinfo": "skip",
         "line": {
          "color": "rgba(0,0,0,0)"
         },
         "mode": "lines",
         "showlegend": false,
         "type": "scatter",
         "x": [
          -10.350000000000001,
          -10.275000000000002
         ],
         "y": [
          0.00001118662209306262,
          0.000013206037862805764
         ]
        },
        {
         "fill": "tozeroy",
         "fillcolor": "rgb(255,76,76)",
         "hoverinfo": "skip",
         "line": {
          "color": "rgba(0,0,0,0)"
         },
         "mode": "lines",
         "showlegend": false,
         "type": "scatter",
         "x": [
          -10.274999999999999,
          -10.2
         ],
         "y": [
          0.000013206037862805764,
          0.00001522545363254891
         ]
        },
        {
         "fill": "tozeroy",
         "fillcolor": "rgb(255,76,76)",
         "hoverinfo": "skip",
         "line": {
          "color": "rgba(0,0,0,0)"
         },
         "mode": "lines",
         "showlegend": false,
         "type": "scatter",
         "x": [
          -10.2,
          -10.125
         ],
         "y": [
          0.00001522545363254891,
          0.00001792744090195214
         ]
        },
        {
         "fill": "tozeroy",
         "fillcolor": "rgb(255,76,76)",
         "hoverinfo": "skip",
         "line": {
          "color": "rgba(0,0,0,0)"
         },
         "mode": "lines",
         "showlegend": false,
         "type": "scatter",
         "x": [
          -10.125,
          -10.05
         ],
         "y": [
          0.00001792744090195214,
          0.00002062942817135537
         ]
        },
        {
         "fill": "tozeroy",
         "fillcolor": "rgb(255,76,76)",
         "hoverinfo": "skip",
         "line": {
          "color": "rgba(0,0,0,0)"
         },
         "mode": "lines",
         "showlegend": false,
         "type": "scatter",
         "x": [
          -10.05,
          -9.975000000000001
         ],
         "y": [
          0.00002062942817135537,
          0.00002422768310109544
         ]
        },
        {
         "fill": "tozeroy",
         "fillcolor": "rgb(255,76,76)",
         "hoverinfo": "skip",
         "line": {
          "color": "rgba(0,0,0,0)"
         },
         "mode": "lines",
         "showlegend": false,
         "type": "scatter",
         "x": [
          -9.975,
          -9.9
         ],
         "y": [
          0.00002422768310109544,
          0.00002782593803083551
         ]
        },
        {
         "fill": "tozeroy",
         "fillcolor": "rgb(255,76,76)",
         "hoverinfo": "skip",
         "line": {
          "color": "rgba(0,0,0,0)"
         },
         "mode": "lines",
         "showlegend": false,
         "type": "scatter",
         "x": [
          -9.9,
          -9.825000000000001
         ],
         "y": [
          0.00002782593803083551,
          0.00003259517329267399
         ]
        },
        {
         "fill": "tozeroy",
         "fillcolor": "rgb(255,76,76)",
         "hoverinfo": "skip",
         "line": {
          "color": "rgba(0,0,0,0)"
         },
         "mode": "lines",
         "showlegend": false,
         "type": "scatter",
         "x": [
          -9.825,
          -9.75
         ],
         "y": [
          0.00003259517329267399,
          0.00003736440855451247
         ]
        },
        {
         "fill": "tozeroy",
         "fillcolor": "rgb(255,76,76)",
         "hoverinfo": "skip",
         "line": {
          "color": "rgba(0,0,0,0)"
         },
         "mode": "lines",
         "showlegend": false,
         "type": "scatter",
         "x": [
          -9.75,
          -9.675
         ],
         "y": [
          0.00003736440855451247,
          0.00004365585824341832
         ]
        },
        {
         "fill": "tozeroy",
         "fillcolor": "rgb(255,76,76)",
         "hoverinfo": "skip",
         "line": {
          "color": "rgba(0,0,0,0)"
         },
         "mode": "lines",
         "showlegend": false,
         "type": "scatter",
         "x": [
          -9.675,
          -9.600000000000001
         ],
         "y": [
          0.00004365585824341832,
          0.000049947307932324165
         ]
        },
        {
         "fill": "tozeroy",
         "fillcolor": "rgb(255,76,76)",
         "hoverinfo": "skip",
         "line": {
          "color": "rgba(0,0,0,0)"
         },
         "mode": "lines",
         "showlegend": false,
         "type": "scatter",
         "x": [
          -9.600000000000001,
          -9.525000000000002
         ],
         "y": [
          0.000049947307932324165,
          0.000058207586818741935
         ]
        },
        {
         "fill": "tozeroy",
         "fillcolor": "rgb(255,76,76)",
         "hoverinfo": "skip",
         "line": {
          "color": "rgba(0,0,0,0)"
         },
         "mode": "lines",
         "showlegend": false,
         "type": "scatter",
         "x": [
          -9.524999999999999,
          -9.45
         ],
         "y": [
          0.000058207586818741935,
          0.0000664678657051597
         ]
        },
        {
         "fill": "tozeroy",
         "fillcolor": "rgb(255,76,76)",
         "hoverinfo": "skip",
         "line": {
          "color": "rgba(0,0,0,0)"
         },
         "mode": "lines",
         "showlegend": false,
         "type": "scatter",
         "x": [
          -9.45,
          -9.375
         ],
         "y": [
          0.0000664678657051597,
          0.00007726174056829608
         ]
        },
        {
         "fill": "tozeroy",
         "fillcolor": "rgb(255,76,76)",
         "hoverinfo": "skip",
         "line": {
          "color": "rgba(0,0,0,0)"
         },
         "mode": "lines",
         "showlegend": false,
         "type": "scatter",
         "x": [
          -9.375,
          -9.3
         ],
         "y": [
          0.00007726174056829608,
          0.00008805561543143247
         ]
        },
        {
         "fill": "tozeroy",
         "fillcolor": "rgb(255,76,76)",
         "hoverinfo": "skip",
         "line": {
          "color": "rgba(0,0,0,0)"
         },
         "mode": "lines",
         "showlegend": false,
         "type": "scatter",
         "x": [
          -9.3,
          -9.225000000000001
         ],
         "y": [
          0.00008805561543143247,
          0.00010209329285869919
         ]
        },
        {
         "fill": "tozeroy",
         "fillcolor": "rgb(255,76,76)",
         "hoverinfo": "skip",
         "line": {
          "color": "rgba(0,0,0,0)"
         },
         "mode": "lines",
         "showlegend": false,
         "type": "scatter",
         "x": [
          -9.225,
          -9.15
         ],
         "y": [
          0.00010209329285869919,
          0.00011613097028596591
         ]
        },
        {
         "fill": "tozeroy",
         "fillcolor": "rgb(255,76,76)",
         "hoverinfo": "skip",
         "line": {
          "color": "rgba(0,0,0,0)"
         },
         "mode": "lines",
         "showlegend": false,
         "type": "scatter",
         "x": [
          -9.15,
          -9.075000000000001
         ],
         "y": [
          0.00011613097028596591,
          0.00013430054254869018
         ]
        },
        {
         "fill": "tozeroy",
         "fillcolor": "rgb(255,76,76)",
         "hoverinfo": "skip",
         "line": {
          "color": "rgba(0,0,0,0)"
         },
         "mode": "lines",
         "showlegend": false,
         "type": "scatter",
         "x": [
          -9.075,
          -9
         ],
         "y": [
          0.00013430054254869018,
          0.00015247011481141443
         ]
        },
        {
         "fill": "tozeroy",
         "fillcolor": "rgb(255,76,76)",
         "hoverinfo": "skip",
         "line": {
          "color": "rgba(0,0,0,0)"
         },
         "mode": "lines",
         "showlegend": false,
         "type": "scatter",
         "x": [
          -9,
          -8.925
         ],
         "y": [
          0.00015247011481141443,
          0.00017587582836715884
         ]
        },
        {
         "fill": "tozeroy",
         "fillcolor": "rgb(255,76,76)",
         "hoverinfo": "skip",
         "line": {
          "color": "rgba(0,0,0,0)"
         },
         "mode": "lines",
         "showlegend": false,
         "type": "scatter",
         "x": [
          -8.925,
          -8.850000000000001
         ],
         "y": [
          0.00017587582836715884,
          0.00019928154192290325
         ]
        },
        {
         "fill": "tozeroy",
         "fillcolor": "rgb(255,76,76)",
         "hoverinfo": "skip",
         "line": {
          "color": "rgba(0,0,0,0)"
         },
         "mode": "lines",
         "showlegend": false,
         "type": "scatter",
         "x": [
          -8.850000000000001,
          -8.775000000000002
         ],
         "y": [
          0.00019928154192290325,
          0.00022928855602016634
         ]
        },
        {
         "fill": "tozeroy",
         "fillcolor": "rgb(255,76,76)",
         "hoverinfo": "skip",
         "line": {
          "color": "rgba(0,0,0,0)"
         },
         "mode": "lines",
         "showlegend": false,
         "type": "scatter",
         "x": [
          -8.774999999999999,
          -8.7
         ],
         "y": [
          0.00022928855602016634,
          0.00025929557011742944
         ]
        },
        {
         "fill": "tozeroy",
         "fillcolor": "rgb(255,76,76)",
         "hoverinfo": "skip",
         "line": {
          "color": "rgba(0,0,0,0)"
         },
         "mode": "lines",
         "showlegend": false,
         "type": "scatter",
         "x": [
          -8.7,
          -8.625
         ],
         "y": [
          0.00025929557011742944,
          0.00029758184933741946
         ]
        },
        {
         "fill": "tozeroy",
         "fillcolor": "rgb(255,76,76)",
         "hoverinfo": "skip",
         "line": {
          "color": "rgba(0,0,0,0)"
         },
         "mode": "lines",
         "showlegend": false,
         "type": "scatter",
         "x": [
          -8.625,
          -8.55
         ],
         "y": [
          0.00029758184933741946,
          0.00033586812855740947
         ]
        },
        {
         "fill": "tozeroy",
         "fillcolor": "rgb(255,76,76)",
         "hoverinfo": "skip",
         "line": {
          "color": "rgba(0,0,0,0)"
         },
         "mode": "lines",
         "showlegend": false,
         "type": "scatter",
         "x": [
          -8.55,
          -8.475000000000001
         ],
         "y": [
          0.00033586812855740947,
          0.00038448405565412843
         ]
        },
        {
         "fill": "tozeroy",
         "fillcolor": "rgb(255,76,76)",
         "hoverinfo": "skip",
         "line": {
          "color": "rgba(0,0,0,0)"
         },
         "mode": "lines",
         "showlegend": false,
         "type": "scatter",
         "x": [
          -8.475,
          -8.4
         ],
         "y": [
          0.00038448405565412843,
          0.0004330999827508474
         ]
        },
        {
         "fill": "tozeroy",
         "fillcolor": "rgb(255,76,76)",
         "hoverinfo": "skip",
         "line": {
          "color": "rgba(0,0,0,0)"
         },
         "mode": "lines",
         "showlegend": false,
         "type": "scatter",
         "x": [
          -8.4,
          -8.325000000000001
         ],
         "y": [
          0.0004330999827508474,
          0.0004945361790502681
         ]
        },
        {
         "fill": "tozeroy",
         "fillcolor": "rgb(255,76,76)",
         "hoverinfo": "skip",
         "line": {
          "color": "rgba(0,0,0,0)"
         },
         "mode": "lines",
         "showlegend": false,
         "type": "scatter",
         "x": [
          -8.325,
          -8.25
         ],
         "y": [
          0.0004945361790502681,
          0.0005559723753496887
         ]
        },
        {
         "fill": "tozeroy",
         "fillcolor": "rgb(255,76,76)",
         "hoverinfo": "skip",
         "line": {
          "color": "rgba(0,0,0,0)"
         },
         "mode": "lines",
         "showlegend": false,
         "type": "scatter",
         "x": [
          -8.25,
          -8.175
         ],
         "y": [
          0.0005559723753496887,
          0.0006332360671940441
         ]
        },
        {
         "fill": "tozeroy",
         "fillcolor": "rgb(255,76,76)",
         "hoverinfo": "skip",
         "line": {
          "color": "rgba(0,0,0,0)"
         },
         "mode": "lines",
         "showlegend": false,
         "type": "scatter",
         "x": [
          -8.175,
          -8.100000000000001
         ],
         "y": [
          0.0006332360671940441,
          0.0007104997590383995
         ]
        },
        {
         "fill": "tozeroy",
         "fillcolor": "rgb(255,76,76)",
         "hoverinfo": "skip",
         "line": {
          "color": "rgba(0,0,0,0)"
         },
         "mode": "lines",
         "showlegend": false,
         "type": "scatter",
         "x": [
          -8.100000000000001,
          -8.025000000000002
         ],
         "y": [
          0.0007104997590383995,
          0.0008071998223877668
         ]
        },
        {
         "fill": "tozeroy",
         "fillcolor": "rgb(255,76,76)",
         "hoverinfo": "skip",
         "line": {
          "color": "rgba(0,0,0,0)"
         },
         "mode": "lines",
         "showlegend": false,
         "type": "scatter",
         "x": [
          -8.025,
          -7.95
         ],
         "y": [
          0.0008071998223877668,
          0.0009038998857371341
         ]
        },
        {
         "fill": "tozeroy",
         "fillcolor": "rgb(255,76,76)",
         "hoverinfo": "skip",
         "line": {
          "color": "rgba(0,0,0,0)"
         },
         "mode": "lines",
         "showlegend": false,
         "type": "scatter",
         "x": [
          -7.95,
          -7.875
         ],
         "y": [
          0.0009038998857371341,
          0.0010243404297461426
         ]
        },
        {
         "fill": "tozeroy",
         "fillcolor": "rgb(255,76,76)",
         "hoverinfo": "skip",
         "line": {
          "color": "rgba(0,0,0,0)"
         },
         "mode": "lines",
         "showlegend": false,
         "type": "scatter",
         "x": [
          -7.875000000000001,
          -7.800000000000001
         ],
         "y": [
          0.0010243404297461426,
          0.001144780973755151
         ]
        },
        {
         "fill": "tozeroy",
         "fillcolor": "rgb(255,76,76)",
         "hoverinfo": "skip",
         "line": {
          "color": "rgba(0,0,0,0)"
         },
         "mode": "lines",
         "showlegend": false,
         "type": "scatter",
         "x": [
          -7.800000000000001,
          -7.7250000000000005
         ],
         "y": [
          0.001144780973755151,
          0.0012940629817946646
         ]
        },
        {
         "fill": "tozeroy",
         "fillcolor": "rgb(255,76,76)",
         "hoverinfo": "skip",
         "line": {
          "color": "rgba(0,0,0,0)"
         },
         "mode": "lines",
         "showlegend": false,
         "type": "scatter",
         "x": [
          -7.7250000000000005,
          -7.65
         ],
         "y": [
          0.0012940629817946646,
          0.001443344989834178
         ]
        },
        {
         "fill": "tozeroy",
         "fillcolor": "rgb(255,76,76)",
         "hoverinfo": "skip",
         "line": {
          "color": "rgba(0,0,0,0)"
         },
         "mode": "lines",
         "showlegend": false,
         "type": "scatter",
         "x": [
          -7.65,
          -7.575
         ],
         "y": [
          0.001443344989834178,
          0.0016274751187620212
         ]
        },
        {
         "fill": "tozeroy",
         "fillcolor": "rgb(255,76,76)",
         "hoverinfo": "skip",
         "line": {
          "color": "rgba(0,0,0,0)"
         },
         "mode": "lines",
         "showlegend": false,
         "type": "scatter",
         "x": [
          -7.575,
          -7.5
         ],
         "y": [
          0.0016274751187620212,
          0.0018116052476898643
         ]
        },
        {
         "fill": "tozeroy",
         "fillcolor": "rgb(255,76,76)",
         "hoverinfo": "skip",
         "line": {
          "color": "rgba(0,0,0,0)"
         },
         "mode": "lines",
         "showlegend": false,
         "type": "scatter",
         "x": [
          -7.5,
          -7.425
         ],
         "y": [
          0.0018116052476898643,
          0.002037610391556495
         ]
        },
        {
         "fill": "tozeroy",
         "fillcolor": "rgb(255,76,76)",
         "hoverinfo": "skip",
         "line": {
          "color": "rgba(0,0,0,0)"
         },
         "mode": "lines",
         "showlegend": false,
         "type": "scatter",
         "x": [
          -7.425000000000001,
          -7.3500000000000005
         ],
         "y": [
          0.002037610391556495,
          0.002263615535423126
         ]
        },
        {
         "fill": "tozeroy",
         "fillcolor": "rgb(255,76,76)",
         "hoverinfo": "skip",
         "line": {
          "color": "rgba(0,0,0,0)"
         },
         "mode": "lines",
         "showlegend": false,
         "type": "scatter",
         "x": [
          -7.3500000000000005,
          -7.275
         ],
         "y": [
          0.002263615535423126,
          0.0025396611900322893
         ]
        },
        {
         "fill": "tozeroy",
         "fillcolor": "rgb(255,76,76)",
         "hoverinfo": "skip",
         "line": {
          "color": "rgba(0,0,0,0)"
         },
         "mode": "lines",
         "showlegend": false,
         "type": "scatter",
         "x": [
          -7.275,
          -7.2
         ],
         "y": [
          0.0025396611900322893,
          0.0028157068446414526
         ]
        },
        {
         "fill": "tozeroy",
         "fillcolor": "rgb(255,76,76)",
         "hoverinfo": "skip",
         "line": {
          "color": "rgba(0,0,0,0)"
         },
         "mode": "lines",
         "showlegend": false,
         "type": "scatter",
         "x": [
          -7.2,
          -7.125
         ],
         "y": [
          0.0028157068446414526,
          0.003151216670538975
         ]
        },
        {
         "fill": "tozeroy",
         "fillcolor": "rgb(255,76,76)",
         "hoverinfo": "skip",
         "line": {
          "color": "rgba(0,0,0,0)"
         },
         "mode": "lines",
         "showlegend": false,
         "type": "scatter",
         "x": [
          -7.125000000000001,
          -7.050000000000001
         ],
         "y": [
          0.003151216670538975,
          0.003486726496436498
         ]
        },
        {
         "fill": "tozeroy",
         "fillcolor": "rgb(255,76,76)",
         "hoverinfo": "skip",
         "line": {
          "color": "rgba(0,0,0,0)"
         },
         "mode": "lines",
         "showlegend": false,
         "type": "scatter",
         "x": [
          -7.050000000000001,
          -6.9750000000000005
         ],
         "y": [
          0.003486726496436498,
          0.0038924997810845857
         ]
        },
        {
         "fill": "tozeroy",
         "fillcolor": "rgb(255,76,76)",
         "hoverinfo": "skip",
         "line": {
          "color": "rgba(0,0,0,0)"
         },
         "mode": "lines",
         "showlegend": false,
         "type": "scatter",
         "x": [
          -6.9750000000000005,
          -6.9
         ],
         "y": [
          0.0038924997810845857,
          0.004298273065732673
         ]
        },
        {
         "fill": "tozeroy",
         "fillcolor": "rgb(255,76,76)",
         "hoverinfo": "skip",
         "line": {
          "color": "rgba(0,0,0,0)"
         },
         "mode": "lines",
         "showlegend": false,
         "type": "scatter",
         "x": [
          -6.9,
          -6.825
         ],
         "y": [
          0.004298273065732673,
          0.004786596047681644
         ]
        },
        {
         "fill": "tozeroy",
         "fillcolor": "rgb(255,76,76)",
         "hoverinfo": "skip",
         "line": {
          "color": "rgba(0,0,0,0)"
         },
         "mode": "lines",
         "showlegend": false,
         "type": "scatter",
         "x": [
          -6.825,
          -6.75
         ],
         "y": [
          0.004786596047681644,
          0.005274919029630615
         ]
        },
        {
         "fill": "tozeroy",
         "fillcolor": "rgb(255,76,76)",
         "hoverinfo": "skip",
         "line": {
          "color": "rgba(0,0,0,0)"
         },
         "mode": "lines",
         "showlegend": false,
         "type": "scatter",
         "x": [
          -6.75,
          -6.675
         ],
         "y": [
          0.005274919029630615,
          0.005859665291505141
         ]
        },
        {
         "fill": "tozeroy",
         "fillcolor": "rgb(255,76,76)",
         "hoverinfo": "skip",
         "line": {
          "color": "rgba(0,0,0,0)"
         },
         "mode": "lines",
         "showlegend": false,
         "type": "scatter",
         "x": [
          -6.675,
          -6.6
         ],
         "y": [
          0.005859665291505141,
          0.006444411553379667
         ]
        },
        {
         "fill": "tozeroy",
         "fillcolor": "rgb(255,76,76)",
         "hoverinfo": "skip",
         "line": {
          "color": "rgba(0,0,0,0)"
         },
         "mode": "lines",
         "showlegend": false,
         "type": "scatter",
         "x": [
          -6.6,
          -6.5249999999999995
         ],
         "y": [
          0.006444411553379667,
          0.00714112594603787
         ]
        },
        {
         "fill": "tozeroy",
         "fillcolor": "rgb(255,76,76)",
         "hoverinfo": "skip",
         "line": {
          "color": "rgba(0,0,0,0)"
         },
         "mode": "lines",
         "showlegend": false,
         "type": "scatter",
         "x": [
          -6.525000000000001,
          -6.450000000000001
         ],
         "y": [
          0.00714112594603787,
          0.007837840338696073
         ]
        },
        {
         "fill": "tozeroy",
         "fillcolor": "rgb(255,76,76)",
         "hoverinfo": "skip",
         "line": {
          "color": "rgba(0,0,0,0)"
         },
         "mode": "lines",
         "showlegend": false,
         "type": "scatter",
         "x": [
          -6.450000000000001,
          -6.375000000000001
         ],
         "y": [
          0.007837840338696073,
          0.00866380020203044
         ]
        },
        {
         "fill": "tozeroy",
         "fillcolor": "rgb(255,76,76)",
         "hoverinfo": "skip",
         "line": {
          "color": "rgba(0,0,0,0)"
         },
         "mode": "lines",
         "showlegend": false,
         "type": "scatter",
         "x": [
          -6.375000000000001,
          -6.300000000000001
         ],
         "y": [
          0.00866380020203044,
          0.009489760065364805
         ]
        },
        {
         "fill": "tozeroy",
         "fillcolor": "rgb(255,76,76)",
         "hoverinfo": "skip",
         "line": {
          "color": "rgba(0,0,0,0)"
         },
         "mode": "lines",
         "showlegend": false,
         "type": "scatter",
         "x": [
          -6.300000000000001,
          -6.2250000000000005
         ],
         "y": [
          0.009489760065364805,
          0.010464006903917472
         ]
        },
        {
         "fill": "tozeroy",
         "fillcolor": "rgb(255,76,76)",
         "hoverinfo": "skip",
         "line": {
          "color": "rgba(0,0,0,0)"
         },
         "mode": "lines",
         "showlegend": false,
         "type": "scatter",
         "x": [
          -6.2250000000000005,
          -6.15
         ],
         "y": [
          0.010464006903917472,
          0.011438253742470138
         ]
        },
        {
         "fill": "tozeroy",
         "fillcolor": "rgb(255,76,76)",
         "hoverinfo": "skip",
         "line": {
          "color": "rgba(0,0,0,0)"
         },
         "mode": "lines",
         "showlegend": false,
         "type": "scatter",
         "x": [
          -6.15,
          -6.075
         ],
         "y": [
          0.011438253742470138,
          0.01258158804342743
         ]
        },
        {
         "fill": "tozeroy",
         "fillcolor": "rgb(255,76,76)",
         "hoverinfo": "skip",
         "line": {
          "color": "rgba(0,0,0,0)"
         },
         "mode": "lines",
         "showlegend": false,
         "type": "scatter",
         "x": [
          -6.075,
          -6
         ],
         "y": [
          0.01258158804342743,
          0.013724922344384723
         ]
        },
        {
         "fill": "tozeroy",
         "fillcolor": "rgb(255,76,76)",
         "hoverinfo": "skip",
         "line": {
          "color": "rgba(0,0,0,0)"
         },
         "mode": "lines",
         "showlegend": false,
         "type": "scatter",
         "x": [
          -6,
          -5.925
         ],
         "y": [
          0.013724922344384723,
          0.015059853942336039
         ]
        },
        {
         "fill": "tozeroy",
         "fillcolor": "rgb(255,76,76)",
         "hoverinfo": "skip",
         "line": {
          "color": "rgba(0,0,0,0)"
         },
         "mode": "lines",
         "showlegend": false,
         "type": "scatter",
         "x": [
          -5.925,
          -5.85
         ],
         "y": [
          0.015059853942336039,
          0.016394785540287355
         ]
        },
        {
         "fill": "tozeroy",
         "fillcolor": "rgb(255,76,76)",
         "hoverinfo": "skip",
         "line": {
          "color": "rgba(0,0,0,0)"
         },
         "mode": "lines",
         "showlegend": false,
         "type": "scatter",
         "x": [
          -5.85,
          -5.7749999999999995
         ],
         "y": [
          0.016394785540287355,
          0.017945431889807465
         ]
        },
        {
         "fill": "tozeroy",
         "fillcolor": "rgb(255,76,76)",
         "hoverinfo": "skip",
         "line": {
          "color": "rgba(0,0,0,0)"
         },
         "mode": "lines",
         "showlegend": false,
         "type": "scatter",
         "x": [
          -5.775000000000001,
          -5.700000000000001
         ],
         "y": [
          0.017945431889807465,
          0.019496078239327575
         ]
        },
        {
         "fill": "tozeroy",
         "fillcolor": "rgb(255,76,76)",
         "hoverinfo": "skip",
         "line": {
          "color": "rgba(0,0,0,0)"
         },
         "mode": "lines",
         "showlegend": false,
         "type": "scatter",
         "x": [
          -5.700000000000001,
          -5.625000000000001
         ],
         "y": [
          0.019496078239327575,
          0.02128800320460119
         ]
        },
        {
         "fill": "tozeroy",
         "fillcolor": "rgb(255,76,76)",
         "hoverinfo": "skip",
         "line": {
          "color": "rgba(0,0,0,0)"
         },
         "mode": "lines",
         "showlegend": false,
         "type": "scatter",
         "x": [
          -5.625000000000001,
          -5.550000000000001
         ],
         "y": [
          0.02128800320460119,
          0.023079928169874805
         ]
        },
        {
         "fill": "tozeroy",
         "fillcolor": "rgb(255,76,76)",
         "hoverinfo": "skip",
         "line": {
          "color": "rgba(0,0,0,0)"
         },
         "mode": "lines",
         "showlegend": false,
         "type": "scatter",
         "x": [
          -5.550000000000001,
          -5.4750000000000005
         ],
         "y": [
          0.023079928169874805,
          0.025139914528114305
         ]
        },
        {
         "fill": "tozeroy",
         "fillcolor": "rgb(255,76,76)",
         "hoverinfo": "skip",
         "line": {
          "color": "rgba(0,0,0,0)"
         },
         "mode": "lines",
         "showlegend": false,
         "type": "scatter",
         "x": [
          -5.4750000000000005,
          -5.4
         ],
         "y": [
          0.025139914528114305,
          0.027199900886353805
         ]
        },
        {
         "fill": "tozeroy",
         "fillcolor": "rgb(255,76,76)",
         "hoverinfo": "skip",
         "line": {
          "color": "rgba(0,0,0,0)"
         },
         "mode": "lines",
         "showlegend": false,
         "type": "scatter",
         "x": [
          -5.4,
          -5.325
         ],
         "y": [
          0.027199900886353805,
          0.02955565070947113
         ]
        },
        {
         "fill": "tozeroy",
         "fillcolor": "rgb(255,76,76)",
         "hoverinfo": "skip",
         "line": {
          "color": "rgba(0,0,0,0)"
         },
         "mode": "lines",
         "showlegend": false,
         "type": "scatter",
         "x": [
          -5.325,
          -5.25
         ],
         "y": [
          0.02955565070947113,
          0.03191140053258846
         ]
        },
        {
         "fill": "tozeroy",
         "fillcolor": "rgb(255,76,76)",
         "hoverinfo": "skip",
         "line": {
          "color": "rgba(0,0,0,0)"
         },
         "mode": "lines",
         "showlegend": false,
         "type": "scatter",
         "x": [
          -5.25,
          -5.175
         ],
         "y": [
          0.03191140053258846,
          0.034591158989611126
         ]
        },
        {
         "fill": "tozeroy",
         "fillcolor": "rgb(255,76,76)",
         "hoverinfo": "skip",
         "line": {
          "color": "rgba(0,0,0,0)"
         },
         "mode": "lines",
         "showlegend": false,
         "type": "scatter",
         "x": [
          -5.175,
          -5.1
         ],
         "y": [
          0.034591158989611126,
          0.037270917446633786
         ]
        },
        {
         "fill": "tozeroy",
         "fillcolor": "rgb(255,76,76)",
         "hoverinfo": "skip",
         "line": {
          "color": "rgba(0,0,0,0)"
         },
         "mode": "lines",
         "showlegend": false,
         "type": "scatter",
         "x": [
          -5.1,
          -5.0249999999999995
         ],
         "y": [
          0.037270917446633786,
          0.04030301737352593
         ]
        },
        {
         "fill": "tozeroy",
         "fillcolor": "rgb(255,76,76)",
         "hoverinfo": "skip",
         "line": {
          "color": "rgba(0,0,0,0)"
         },
         "mode": "lines",
         "showlegend": false,
         "type": "scatter",
         "x": [
          -5.025000000000001,
          -4.950000000000001
         ],
         "y": [
          0.04030301737352593,
          0.043335117300418065
         ]
        },
        {
         "fill": "tozeroy",
         "fillcolor": "rgb(255,76,76)",
         "hoverinfo": "skip",
         "line": {
          "color": "rgba(0,0,0,0)"
         },
         "mode": "lines",
         "showlegend": false,
         "type": "scatter",
         "x": [
          -4.950000000000001,
          -4.875000000000001
         ],
         "y": [
          0.043335117300418065,
          0.0467474441122824
         ]
        },
        {
         "fill": "tozeroy",
         "fillcolor": "rgb(255,76,76)",
         "hoverinfo": "skip",
         "line": {
          "color": "rgba(0,0,0,0)"
         },
         "mode": "lines",
         "showlegend": false,
         "type": "scatter",
         "x": [
          -4.875000000000001,
          -4.800000000000001
         ],
         "y": [
          0.0467474441122824,
          0.05015977092414673
         ]
        },
        {
         "fill": "tozeroy",
         "fillcolor": "rgb(255,76,76)",
         "hoverinfo": "skip",
         "line": {
          "color": "rgba(0,0,0,0)"
         },
         "mode": "lines",
         "showlegend": false,
         "type": "scatter",
         "x": [
          -4.800000000000001,
          -4.7250000000000005
         ],
         "y": [
          0.05015977092414673,
          0.05397915007431151
         ]
        },
        {
         "fill": "tozeroy",
         "fillcolor": "rgb(255,76,76)",
         "hoverinfo": "skip",
         "line": {
          "color": "rgba(0,0,0,0)"
         },
         "mode": "lines",
         "showlegend": false,
         "type": "scatter",
         "x": [
          -4.7250000000000005,
          -4.65
         ],
         "y": [
          0.05397915007431151,
          0.05779852922447629
         ]
        },
        {
         "fill": "tozeroy",
         "fillcolor": "rgb(255,76,76)",
         "hoverinfo": "skip",
         "line": {
          "color": "rgba(0,0,0,0)"
         },
         "mode": "lines",
         "showlegend": false,
         "type": "scatter",
         "x": [
          -4.65,
          -4.575
         ],
         "y": [
          0.05779852922447629,
          0.06205004139941364
         ]
        },
        {
         "fill": "tozeroy",
         "fillcolor": "rgb(255,76,76)",
         "hoverinfo": "skip",
         "line": {
          "color": "rgba(0,0,0,0)"
         },
         "mode": "lines",
         "showlegend": false,
         "type": "scatter",
         "x": [
          -4.575,
          -4.5
         ],
         "y": [
          0.06205004139941364,
          0.06630155357435098
         ]
        },
        {
         "fill": "tozeroy",
         "fillcolor": "rgb(255,76,76)",
         "hoverinfo": "skip",
         "line": {
          "color": "rgba(0,0,0,0)"
         },
         "mode": "lines",
         "showlegend": false,
         "type": "scatter",
         "x": [
          -4.5,
          -4.425
         ],
         "y": [
          0.06630155357435098,
          0.07100778608154083
         ]
        },
        {
         "fill": "tozeroy",
         "fillcolor": "rgb(255,76,76)",
         "hoverinfo": "skip",
         "line": {
          "color": "rgba(0,0,0,0)"
         },
         "mode": "lines",
         "showlegend": false,
         "type": "scatter",
         "x": [
          -4.425,
          -4.35
         ],
         "y": [
          0.07100778608154083,
          0.07571401858873068
         ]
        },
        {
         "fill": "tozeroy",
         "fillcolor": "rgb(255,76,76)",
         "hoverinfo": "skip",
         "line": {
          "color": "rgba(0,0,0,0)"
         },
         "mode": "lines",
         "showlegend": false,
         "type": "scatter",
         "x": [
          -4.35,
          -4.2749999999999995
         ],
         "y": [
          0.07571401858873068,
          0.0808942648500935
         ]
        },
        {
         "fill": "tozeroy",
         "fillcolor": "rgb(255,76,76)",
         "hoverinfo": "skip",
         "line": {
          "color": "rgba(0,0,0,0)"
         },
         "mode": "lines",
         "showlegend": false,
         "type": "scatter",
         "x": [
          -4.275000000000001,
          -4.200000000000001
         ],
         "y": [
          0.0808942648500935,
          0.08607451111145632
         ]
        },
        {
         "fill": "tozeroy",
         "fillcolor": "rgb(255,76,76)",
         "hoverinfo": "skip",
         "line": {
          "color": "rgba(0,0,0,0)"
         },
         "mode": "lines",
         "showlegend": false,
         "type": "scatter",
         "x": [
          -4.200000000000001,
          -4.125000000000001
         ],
         "y": [
          0.08607451111145632,
          0.09174393369731393
         ]
        },
        {
         "fill": "tozeroy",
         "fillcolor": "rgb(255,76,76)",
         "hoverinfo": "skip",
         "line": {
          "color": "rgba(0,0,0,0)"
         },
         "mode": "lines",
         "showlegend": false,
         "type": "scatter",
         "x": [
          -4.125000000000001,
          -4.050000000000001
         ],
         "y": [
          0.09174393369731393,
          0.09741335628317153
         ]
        },
        {
         "fill": "tozeroy",
         "fillcolor": "rgb(255,76,76)",
         "hoverinfo": "skip",
         "line": {
          "color": "rgba(0,0,0,0)"
         },
         "mode": "lines",
         "showlegend": false,
         "type": "scatter",
         "x": [
          -4.050000000000001,
          -3.9750000000000005
         ],
         "y": [
          0.09741335628317153,
          0.10358213236886263
         ]
        },
        {
         "fill": "tozeroy",
         "fillcolor": "rgb(255,76,76)",
         "hoverinfo": "skip",
         "line": {
          "color": "rgba(0,0,0,0)"
         },
         "mode": "lines",
         "showlegend": false,
         "type": "scatter",
         "x": [
          -3.9750000000000005,
          -3.9000000000000004
         ],
         "y": [
          0.10358213236886263,
          0.10975090845455372
         ]
        },
        {
         "fill": "tozeroy",
         "fillcolor": "rgb(255,76,76)",
         "hoverinfo": "skip",
         "line": {
          "color": "rgba(0,0,0,0)"
         },
         "mode": "lines",
         "showlegend": false,
         "type": "scatter",
         "x": [
          -3.9000000000000004,
          -3.825
         ],
         "y": [
          0.10975090845455372,
          0.11642337979462873
         ]
        },
        {
         "fill": "tozeroy",
         "fillcolor": "rgb(255,76,76)",
         "hoverinfo": "skip",
         "line": {
          "color": "rgba(0,0,0,0)"
         },
         "mode": "lines",
         "showlegend": false,
         "type": "scatter",
         "x": [
          -3.825,
          -3.75
         ],
         "y": [
          0.11642337979462873,
          0.12309585113470374
         ]
        },
        {
         "fill": "tozeroy",
         "fillcolor": "rgb(255,76,76)",
         "hoverinfo": "skip",
         "line": {
          "color": "rgba(0,0,0,0)"
         },
         "mode": "lines",
         "showlegend": false,
         "type": "scatter",
         "x": [
          -3.75,
          -3.675
         ],
         "y": [
          0.12309585113470374,
          0.1302697034575176
         ]
        },
        {
         "fill": "tozeroy",
         "fillcolor": "rgb(255,76,76)",
         "hoverinfo": "skip",
         "line": {
          "color": "rgba(0,0,0,0)"
         },
         "mode": "lines",
         "showlegend": false,
         "type": "scatter",
         "x": [
          -3.675,
          -3.5999999999999996
         ],
         "y": [
          0.1302697034575176,
          0.13744355578033143
         ]
        },
        {
         "fill": "tozeroy",
         "fillcolor": "rgb(255,76,76)",
         "hoverinfo": "skip",
         "line": {
          "color": "rgba(0,0,0,0)"
         },
         "mode": "lines",
         "showlegend": false,
         "type": "scatter",
         "x": [
          -3.5999999999999996,
          -3.5249999999999995
         ],
         "y": [
          0.13744355578033143,
          0.14510905473436234
         ]
        },
        {
         "fill": "tozeroy",
         "fillcolor": "rgb(255,76,76)",
         "hoverinfo": "skip",
         "line": {
          "color": "rgba(0,0,0,0)"
         },
         "mode": "lines",
         "showlegend": false,
         "type": "scatter",
         "x": [
          -3.5250000000000012,
          -3.450000000000001
         ],
         "y": [
          0.14510905473436234,
          0.15277455368839324
         ]
        },
        {
         "fill": "tozeroy",
         "fillcolor": "rgb(255,76,76)",
         "hoverinfo": "skip",
         "line": {
          "color": "rgba(0,0,0,0)"
         },
         "mode": "lines",
         "showlegend": false,
         "type": "scatter",
         "x": [
          -3.450000000000001,
          -3.375000000000001
         ],
         "y": [
          0.15277455368839324,
          0.1609138659508883
         ]
        },
        {
         "fill": "tozeroy",
         "fillcolor": "rgb(255,76,76)",
         "hoverinfo": "skip",
         "line": {
          "color": "rgba(0,0,0,0)"
         },
         "mode": "lines",
         "showlegend": false,
         "type": "scatter",
         "x": [
          -3.375000000000001,
          -3.3000000000000007
         ],
         "y": [
          0.1609138659508883,
          0.16905317821338334
         ]
        },
        {
         "fill": "tozeroy",
         "fillcolor": "rgb(255,76,76)",
         "hoverinfo": "skip",
         "line": {
          "color": "rgba(0,0,0,0)"
         },
         "mode": "lines",
         "showlegend": false,
         "type": "scatter",
         "x": [
          -3.3000000000000007,
          -3.2250000000000005
         ],
         "y": [
          0.16905317821338334,
          0.17763980694621015
         ]
        },
        {
         "fill": "tozeroy",
         "fillcolor": "rgb(255,76,76)",
         "hoverinfo": "skip",
         "line": {
          "color": "rgba(0,0,0,0)"
         },
         "mode": "lines",
         "showlegend": false,
         "type": "scatter",
         "x": [
          -3.2250000000000005,
          -3.1500000000000004
         ],
         "y": [
          0.17763980694621015,
          0.18622643567903696
         ]
        },
        {
         "fill": "tozeroy",
         "fillcolor": "rgb(255,76,76)",
         "hoverinfo": "skip",
         "line": {
          "color": "rgba(0,0,0,0)"
         },
         "mode": "lines",
         "showlegend": false,
         "type": "scatter",
         "x": [
          -3.1500000000000004,
          -3.075
         ],
         "y": [
          0.18622643567903696,
          0.19522479905409718
         ]
        },
        {
         "fill": "tozeroy",
         "fillcolor": "rgb(255,76,76)",
         "hoverinfo": "skip",
         "line": {
          "color": "rgba(0,0,0,0)"
         },
         "mode": "lines",
         "showlegend": false,
         "type": "scatter",
         "x": [
          -3.075,
          -3
         ],
         "y": [
          0.19522479905409718,
          0.20422316242915742
         ]
        },
        {
         "fill": "tozeroy",
         "fillcolor": "rgb(255,76,76)",
         "hoverinfo": "skip",
         "line": {
          "color": "rgba(0,0,0,0)"
         },
         "mode": "lines",
         "showlegend": false,
         "type": "scatter",
         "x": [
          -3,
          -2.925
         ],
         "y": [
          0.20422316242915742,
          0.2135883423481938
         ]
        },
        {
         "fill": "tozeroy",
         "fillcolor": "rgb(255,76,76)",
         "hoverinfo": "skip",
         "line": {
          "color": "rgba(0,0,0,0)"
         },
         "mode": "lines",
         "showlegend": false,
         "type": "scatter",
         "x": [
          -2.925,
          -2.8499999999999996
         ],
         "y": [
          0.2135883423481938,
          0.22295352226723014
         ]
        },
        {
         "fill": "tozeroy",
         "fillcolor": "rgb(255,76,76)",
         "hoverinfo": "skip",
         "line": {
          "color": "rgba(0,0,0,0)"
         },
         "mode": "lines",
         "showlegend": false,
         "type": "scatter",
         "x": [
          -2.8499999999999996,
          -2.7749999999999995
         ],
         "y": [
          0.22295352226723014,
          0.23263120761269185
         ]
        },
        {
         "fill": "tozeroy",
         "fillcolor": "rgb(255,76,76)",
         "hoverinfo": "skip",
         "line": {
          "color": "rgba(0,0,0,0)"
         },
         "mode": "lines",
         "showlegend": false,
         "type": "scatter",
         "x": [
          -2.7750000000000012,
          -2.700000000000001
         ],
         "y": [
          0.23263120761269185,
          0.24230889295815355
         ]
        },
        {
         "fill": "tozeroy",
         "fillcolor": "rgb(255,76,76)",
         "hoverinfo": "skip",
         "line": {
          "color": "rgba(0,0,0,0)"
         },
         "mode": "lines",
         "showlegend": false,
         "type": "scatter",
         "x": [
          -2.700000000000001,
          -2.625000000000001
         ],
         "y": [
          0.24230889295815355,
          0.25223553772733276
         ]
        },
        {
         "fill": "tozeroy",
         "fillcolor": "rgb(255,76,76)",
         "hoverinfo": "skip",
         "line": {
          "color": "rgba(0,0,0,0)"
         },
         "mode": "lines",
         "showlegend": false,
         "type": "scatter",
         "x": [
          -2.625000000000001,
          -2.5500000000000007
         ],
         "y": [
          0.25223553772733276,
          0.26216218249651196
         ]
        },
        {
         "fill": "tozeroy",
         "fillcolor": "rgb(255,76,76)",
         "hoverinfo": "skip",
         "line": {
          "color": "rgba(0,0,0,0)"
         },
         "mode": "lines",
         "showlegend": false,
         "type": "scatter",
         "x": [
          -2.5500000000000007,
          -2.4750000000000005
         ],
         "y": [
          0.26216218249651196,
          0.27226539404030525
         ]
        },
        {
         "fill": "tozeroy",
         "fillcolor": "rgb(255,76,76)",
         "hoverinfo": "skip",
         "line": {
          "color": "rgba(0,0,0,0)"
         },
         "mode": "lines",
         "showlegend": false,
         "type": "scatter",
         "x": [
          -2.4750000000000005,
          -2.4000000000000004
         ],
         "y": [
          0.27226539404030525,
          0.2823686055840985
         ]
        },
        {
         "fill": "tozeroy",
         "fillcolor": "rgb(255,76,76)",
         "hoverinfo": "skip",
         "line": {
          "color": "rgba(0,0,0,0)"
         },
         "mode": "lines",
         "showlegend": false,
         "type": "scatter",
         "x": [
          -2.4000000000000004,
          -2.325
         ],
         "y": [
          0.2823686055840985,
          0.2925677720027643
         ]
        },
        {
         "fill": "tozeroy",
         "fillcolor": "rgb(255,76,76)",
         "hoverinfo": "skip",
         "line": {
          "color": "rgba(0,0,0,0)"
         },
         "mode": "lines",
         "showlegend": false,
         "type": "scatter",
         "x": [
          -2.325,
          -2.25
         ],
         "y": [
          0.2925677720027643,
          0.3027669384214301
         ]
        },
        {
         "fill": "tozeroy",
         "fillcolor": "rgb(255,76,76)",
         "hoverinfo": "skip",
         "line": {
          "color": "rgba(0,0,0,0)"
         },
         "mode": "lines",
         "showlegend": false,
         "type": "scatter",
         "x": [
          -2.25,
          -2.175
         ],
         "y": [
          0.3027669384214301,
          0.3129740971292095
         ]
        },
        {
         "fill": "tozeroy",
         "fillcolor": "rgb(255,76,76)",
         "hoverinfo": "skip",
         "line": {
          "color": "rgba(0,0,0,0)"
         },
         "mode": "lines",
         "showlegend": false,
         "type": "scatter",
         "x": [
          -2.175,
          -2.0999999999999996
         ],
         "y": [
          0.3129740971292095,
          0.32318125583698887
         ]
        },
        {
         "fill": "tozeroy",
         "fillcolor": "rgb(255,76,76)",
         "hoverinfo": "skip",
         "line": {
          "color": "rgba(0,0,0,0)"
         },
         "mode": "lines",
         "showlegend": false,
         "type": "scatter",
         "x": [
          -2.0999999999999996,
          -2.0249999999999995
         ],
         "y": [
          0.32318125583698887,
          0.3333021976170307
         ]
        },
        {
         "fill": "tozeroy",
         "fillcolor": "rgb(255,76,76)",
         "hoverinfo": "skip",
         "line": {
          "color": "rgba(0,0,0,0)"
         },
         "mode": "lines",
         "showlegend": false,
         "type": "scatter",
         "x": [
          -2.0250000000000012,
          -1.950000000000001
         ],
         "y": [
          0.3333021976170307,
          0.34342313939707264
         ]
        },
        {
         "fill": "tozeroy",
         "fillcolor": "rgb(255,76,76)",
         "hoverinfo": "skip",
         "line": {
          "color": "rgba(0,0,0,0)"
         },
         "mode": "lines",
         "showlegend": false,
         "type": "scatter",
         "x": [
          -1.950000000000001,
          -1.875000000000001
         ],
         "y": [
          0.34342313939707264,
          0.35335873419760994
         ]
        },
        {
         "fill": "tozeroy",
         "fillcolor": "rgb(255,76,76)",
         "hoverinfo": "skip",
         "line": {
          "color": "rgba(0,0,0,0)"
         },
         "mode": "lines",
         "showlegend": false,
         "type": "scatter",
         "x": [
          -1.8750000000000007,
          -1.8000000000000007
         ],
         "y": [
          0.35335873419760994,
          0.36329432899814723
         ]
        },
        {
         "fill": "tozeroy",
         "fillcolor": "rgb(255,76,76)",
         "hoverinfo": "skip",
         "line": {
          "color": "rgba(0,0,0,0)"
         },
         "mode": "lines",
         "showlegend": false,
         "type": "scatter",
         "x": [
          -1.8000000000000007,
          -1.7250000000000008
         ],
         "y": [
          0.36329432899814723,
          0.37294205157849936
         ]
        },
        {
         "fill": "tozeroy",
         "fillcolor": "rgb(255,76,76)",
         "hoverinfo": "skip",
         "line": {
          "color": "rgba(0,0,0,0)"
         },
         "mode": "lines",
         "showlegend": false,
         "type": "scatter",
         "x": [
          -1.7250000000000003,
          -1.6500000000000004
         ],
         "y": [
          0.37294205157849936,
          0.3825897741588515
         ]
        },
        {
         "fill": "tozeroy",
         "fillcolor": "rgb(255,76,76)",
         "hoverinfo": "skip",
         "line": {
          "color": "rgba(0,0,0,0)"
         },
         "mode": "lines",
         "showlegend": false,
         "type": "scatter",
         "x": [
          -1.6500000000000004,
          -1.5750000000000004
         ],
         "y": [
          0.3825897741588515,
          0.3918453998132815
         ]
        },
        {
         "fill": "tozeroy",
         "fillcolor": "rgb(255,76,76)",
         "hoverinfo": "skip",
         "line": {
          "color": "rgba(0,0,0,0)"
         },
         "mode": "lines",
         "showlegend": false,
         "type": "scatter",
         "x": [
          -1.575,
          -1.5
         ],
         "y": [
          0.3918453998132815,
          0.40110102546771154
         ]
        },
        {
         "fill": "tozeroy",
         "fillcolor": "rgb(255,76,76)",
         "hoverinfo": "skip",
         "line": {
          "color": "rgba(0,0,0,0)"
         },
         "mode": "lines",
         "showlegend": false,
         "type": "scatter",
         "x": [
          -1.5,
          -1.425
         ],
         "y": [
          0.40110102546771154,
          0.40986045878045557
         ]
        },
        {
         "fill": "tozeroy",
         "fillcolor": "rgb(255,76,76)",
         "hoverinfo": "skip",
         "line": {
          "color": "rgba(0,0,0,0)"
         },
         "mode": "lines",
         "showlegend": false,
         "type": "scatter",
         "x": [
          -1.4249999999999996,
          -1.3499999999999996
         ],
         "y": [
          0.40986045878045557,
          0.4186198920931996
         ]
        },
        {
         "fill": "tozeroy",
         "fillcolor": "rgb(255,76,76)",
         "hoverinfo": "skip",
         "line": {
          "color": "rgba(0,0,0,0)"
         },
         "mode": "lines",
         "showlegend": false,
         "type": "scatter",
         "x": [
          -1.3499999999999996,
          -1.2749999999999997
         ],
         "y": [
          0.4186198920931996,
          0.4267810853467344
         ]
        },
        {
         "fill": "tozeroy",
         "fillcolor": "rgb(255,76,76)",
         "hoverinfo": "skip",
         "line": {
          "color": "rgba(0,0,0,0)"
         },
         "mode": "lines",
         "showlegend": false,
         "type": "scatter",
         "x": [
          -1.275000000000001,
          -1.200000000000001
         ],
         "y": [
          0.4267810853467344,
          0.4349422786002692
         ]
        },
        {
         "fill": "tozeroy",
         "fillcolor": "rgb(255,76,76)",
         "hoverinfo": "skip",
         "line": {
          "color": "rgba(0,0,0,0)"
         },
         "mode": "lines",
         "showlegend": false,
         "type": "scatter",
         "x": [
          -1.200000000000001,
          -1.125000000000001
         ],
         "y": [
          0.4349422786002692,
          0.4424071913848215
         ]
        },
        {
         "fill": "tozeroy",
         "fillcolor": "rgb(255,76,76)",
         "hoverinfo": "skip",
         "line": {
          "color": "rgba(0,0,0,0)"
         },
         "mode": "lines",
         "showlegend": false,
         "type": "scatter",
         "x": [
          -1.1250000000000007,
          -1.0500000000000007
         ],
         "y": [
          0.4424071913848215,
          0.4498721041693738
         ]
        },
        {
         "fill": "tozeroy",
         "fillcolor": "rgb(255,76,76)",
         "hoverinfo": "skip",
         "line": {
          "color": "rgba(0,0,0,0)"
         },
         "mode": "lines",
         "showlegend": false,
         "type": "scatter",
         "x": [
          -1.0500000000000007,
          -0.9750000000000008
         ],
         "y": [
          0.4498721041693738,
          0.45654865219754026
         ]
        },
        {
         "fill": "tozeroy",
         "fillcolor": "rgb(255,76,76)",
         "hoverinfo": "skip",
         "line": {
          "color": "rgba(0,0,0,0)"
         },
         "mode": "lines",
         "showlegend": false,
         "type": "scatter",
         "x": [
          -0.9750000000000003,
          -0.9000000000000004
         ],
         "y": [
          0.45654865219754026,
          0.4632252002257067
         ]
        },
        {
         "fill": "tozeroy",
         "fillcolor": "rgb(255,76,76)",
         "hoverinfo": "skip",
         "line": {
          "color": "rgba(0,0,0,0)"
         },
         "mode": "lines",
         "showlegend": false,
         "type": "scatter",
         "x": [
          -0.9000000000000004,
          -0.8250000000000004
         ],
         "y": [
          0.4632252002257067,
          0.4690291395577935
         ]
        },
        {
         "fill": "tozeroy",
         "fillcolor": "rgb(255,76,76)",
         "hoverinfo": "skip",
         "line": {
          "color": "rgba(0,0,0,0)"
         },
         "mode": "lines",
         "showlegend": false,
         "type": "scatter",
         "x": [
          -0.825,
          -0.75
         ],
         "y": [
          0.4690291395577935,
          0.47483307888988036
         ]
        },
        {
         "fill": "tozeroy",
         "fillcolor": "rgb(255,76,76)",
         "hoverinfo": "skip",
         "line": {
          "color": "rgba(0,0,0,0)"
         },
         "mode": "lines",
         "showlegend": false,
         "type": "scatter",
         "x": [
          -0.75,
          -0.675
         ],
         "y": [
          0.47483307888988036,
          0.47968977186888156
         ]
        },
        {
         "fill": "tozeroy",
         "fillcolor": "rgb(255,76,76)",
         "hoverinfo": "skip",
         "line": {
          "color": "rgba(0,0,0,0)"
         },
         "mode": "lines",
         "showlegend": false,
         "type": "scatter",
         "x": [
          -0.6750000000000014,
          -0.6000000000000014
         ],
         "y": [
          0.47968977186888156,
          0.4845464648478828
         ]
        },
        {
         "fill": "tozeroy",
         "fillcolor": "rgb(255,76,76)",
         "hoverinfo": "skip",
         "line": {
          "color": "rgba(0,0,0,0)"
         },
         "mode": "lines",
         "showlegend": false,
         "type": "scatter",
         "x": [
          -0.6000000000000014,
          -0.5250000000000015
         ],
         "y": [
          0.4845464648478828,
          0.4883924760931816
         ]
        },
        {
         "fill": "tozeroy",
         "fillcolor": "rgb(255,76,76)",
         "hoverinfo": "skip",
         "line": {
          "color": "rgba(0,0,0,0)"
         },
         "mode": "lines",
         "showlegend": false,
         "type": "scatter",
         "x": [
          -0.525000000000001,
          -0.45000000000000107
         ],
         "y": [
          0.4883924760931816,
          0.4922384873384804
         ]
        },
        {
         "fill": "tozeroy",
         "fillcolor": "rgb(255,76,76)",
         "hoverinfo": "skip",
         "line": {
          "color": "rgba(0,0,0,0)"
         },
         "mode": "lines",
         "showlegend": false,
         "type": "scatter",
         "x": [
          -0.45000000000000107,
          -0.37500000000000105
         ],
         "y": [
          0.4922384873384804,
          0.4950229621330331
         ]
        },
        {
         "fill": "tozeroy",
         "fillcolor": "rgb(255,76,76)",
         "hoverinfo": "skip",
         "line": {
          "color": "rgba(0,0,0,0)"
         },
         "mode": "lines",
         "showlegend": false,
         "type": "scatter",
         "x": [
          -0.3750000000000007,
          -0.3000000000000007
         ],
         "y": [
          0.4950229621330331,
          0.4978074369275858
         ]
        },
        {
         "fill": "tozeroy",
         "fillcolor": "rgb(255,76,76)",
         "hoverinfo": "skip",
         "line": {
          "color": "rgba(0,0,0,0)"
         },
         "mode": "lines",
         "showlegend": false,
         "type": "scatter",
         "x": [
          -0.3000000000000007,
          -0.2250000000000007
         ],
         "y": [
          0.4978074369275858,
          0.4994932201448714
         ]
        },
        {
         "fill": "tozeroy",
         "fillcolor": "rgb(255,76,76)",
         "hoverinfo": "skip",
         "line": {
          "color": "rgba(0,0,0,0)"
         },
         "mode": "lines",
         "showlegend": false,
         "type": "scatter",
         "x": [
          -0.22500000000000037,
          -0.15000000000000036
         ],
         "y": [
          0.4994932201448714,
          0.501179003362157
         ]
        },
        {
         "fill": "tozeroy",
         "fillcolor": "rgb(255,76,76)",
         "hoverinfo": "skip",
         "line": {
          "color": "rgba(0,0,0,0)"
         },
         "mode": "lines",
         "showlegend": false,
         "type": "scatter",
         "x": [
          -0.15000000000000036,
          -0.07500000000000036
         ],
         "y": [
          0.501179003362157,
          0.5017434645216119
         ]
        },
        {
         "fill": "tozeroy",
         "fillcolor": "rgb(255,76,76)",
         "hoverinfo": "skip",
         "line": {
          "color": "rgba(0,0,0,0)"
         },
         "mode": "lines",
         "showlegend": false,
         "type": "scatter",
         "x": [
          -0.075,
          0
         ],
         "y": [
          0.5017434645216119,
          0.5023079256810666
         ]
        },
        {
         "fill": "tozeroy",
         "fillcolor": "rgb(255,76,76)",
         "hoverinfo": "skip",
         "line": {
          "color": "rgba(0,0,0,0)"
         },
         "mode": "lines",
         "showlegend": false,
         "type": "scatter",
         "x": [
          0,
          0.075
         ],
         "y": [
          0.5023079256810666,
          0.5017434645216119
         ]
        },
        {
         "fill": "tozeroy",
         "fillcolor": "rgb(255,76,76)",
         "hoverinfo": "skip",
         "line": {
          "color": "rgba(0,0,0,0)"
         },
         "mode": "lines",
         "showlegend": false,
         "type": "scatter",
         "x": [
          0.07499999999999858,
          0.14999999999999858
         ],
         "y": [
          0.5017434645216119,
          0.501179003362157
         ]
        },
        {
         "fill": "tozeroy",
         "fillcolor": "rgb(255,76,76)",
         "hoverinfo": "skip",
         "line": {
          "color": "rgba(0,0,0,0)"
         },
         "mode": "lines",
         "showlegend": false,
         "type": "scatter",
         "x": [
          0.14999999999999858,
          0.2249999999999986
         ],
         "y": [
          0.501179003362157,
          0.4994932201448714
         ]
        },
        {
         "fill": "tozeroy",
         "fillcolor": "rgb(255,76,76)",
         "hoverinfo": "skip",
         "line": {
          "color": "rgba(0,0,0,0)"
         },
         "mode": "lines",
         "showlegend": false,
         "type": "scatter",
         "x": [
          0.22499999999999892,
          0.29999999999999893
         ],
         "y": [
          0.4994932201448714,
          0.49780743692758583
         ]
        },
        {
         "fill": "tozeroy",
         "fillcolor": "rgb(255,76,76)",
         "hoverinfo": "skip",
         "line": {
          "color": "rgba(0,0,0,0)"
         },
         "mode": "lines",
         "showlegend": false,
         "type": "scatter",
         "x": [
          0.29999999999999893,
          0.37499999999999895
         ],
         "y": [
          0.49780743692758583,
          0.4950229621330332
         ]
        },
        {
         "fill": "tozeroy",
         "fillcolor": "rgb(255,76,76)",
         "hoverinfo": "skip",
         "line": {
          "color": "rgba(0,0,0,0)"
         },
         "mode": "lines",
         "showlegend": false,
         "type": "scatter",
         "x": [
          0.3749999999999993,
          0.4499999999999993
         ],
         "y": [
          0.4950229621330332,
          0.4922384873384805
         ]
        },
        {
         "fill": "tozeroy",
         "fillcolor": "rgb(255,76,76)",
         "hoverinfo": "skip",
         "line": {
          "color": "rgba(0,0,0,0)"
         },
         "mode": "lines",
         "showlegend": false,
         "type": "scatter",
         "x": [
          0.4499999999999993,
          0.5249999999999992
         ],
         "y": [
          0.4922384873384805,
          0.4883924760931817
         ]
        },
        {
         "fill": "tozeroy",
         "fillcolor": "rgb(255,76,76)",
         "hoverinfo": "skip",
         "line": {
          "color": "rgba(0,0,0,0)"
         },
         "mode": "lines",
         "showlegend": false,
         "type": "scatter",
         "x": [
          0.5249999999999997,
          0.5999999999999996
         ],
         "y": [
          0.4883924760931817,
          0.4845464648478829
         ]
        },
        {
         "fill": "tozeroy",
         "fillcolor": "rgb(255,76,76)",
         "hoverinfo": "skip",
         "line": {
          "color": "rgba(0,0,0,0)"
         },
         "mode": "lines",
         "showlegend": false,
         "type": "scatter",
         "x": [
          0.5999999999999996,
          0.6749999999999996
         ],
         "y": [
          0.4845464648478829,
          0.4796897718688816
         ]
        },
        {
         "fill": "tozeroy",
         "fillcolor": "rgb(255,76,76)",
         "hoverinfo": "skip",
         "line": {
          "color": "rgba(0,0,0,0)"
         },
         "mode": "lines",
         "showlegend": false,
         "type": "scatter",
         "x": [
          0.675,
          0.75
         ],
         "y": [
          0.4796897718688816,
          0.47483307888988036
         ]
        },
        {
         "fill": "tozeroy",
         "fillcolor": "rgb(255,76,76)",
         "hoverinfo": "skip",
         "line": {
          "color": "rgba(0,0,0,0)"
         },
         "mode": "lines",
         "showlegend": false,
         "type": "scatter",
         "x": [
          0.75,
          0.825
         ],
         "y": [
          0.47483307888988036,
          0.4690291395577936
         ]
        },
        {
         "fill": "tozeroy",
         "fillcolor": "rgb(255,76,76)",
         "hoverinfo": "skip",
         "line": {
          "color": "rgba(0,0,0,0)"
         },
         "mode": "lines",
         "showlegend": false,
         "type": "scatter",
         "x": [
          0.8249999999999986,
          0.8999999999999986
         ],
         "y": [
          0.4690291395577936,
          0.4632252002257068
         ]
        },
        {
         "fill": "tozeroy",
         "fillcolor": "rgb(255,76,76)",
         "hoverinfo": "skip",
         "line": {
          "color": "rgba(0,0,0,0)"
         },
         "mode": "lines",
         "showlegend": false,
         "type": "scatter",
         "x": [
          0.8999999999999986,
          0.9749999999999985
         ],
         "y": [
          0.4632252002257068,
          0.45654865219754026
         ]
        },
        {
         "fill": "tozeroy",
         "fillcolor": "rgb(255,76,76)",
         "hoverinfo": "skip",
         "line": {
          "color": "rgba(0,0,0,0)"
         },
         "mode": "lines",
         "showlegend": false,
         "type": "scatter",
         "x": [
          0.9750000000000008,
          1.0500000000000007
         ],
         "y": [
          0.45654865219754026,
          0.4498721041693738
         ]
        },
        {
         "fill": "tozeroy",
         "fillcolor": "rgb(255,76,76)",
         "hoverinfo": "skip",
         "line": {
          "color": "rgba(0,0,0,0)"
         },
         "mode": "lines",
         "showlegend": false,
         "type": "scatter",
         "x": [
          1.0500000000000007,
          1.1250000000000007
         ],
         "y": [
          0.4498721041693738,
          0.44240719138482154
         ]
        },
        {
         "fill": "tozeroy",
         "fillcolor": "rgb(255,76,76)",
         "hoverinfo": "skip",
         "line": {
          "color": "rgba(0,0,0,0)"
         },
         "mode": "lines",
         "showlegend": false,
         "type": "scatter",
         "x": [
          1.1249999999999993,
          1.1999999999999993
         ],
         "y": [
          0.44240719138482154,
          0.43494227860026935
         ]
        },
        {
         "fill": "tozeroy",
         "fillcolor": "rgb(255,76,76)",
         "hoverinfo": "skip",
         "line": {
          "color": "rgba(0,0,0,0)"
         },
         "mode": "lines",
         "showlegend": false,
         "type": "scatter",
         "x": [
          1.1999999999999993,
          1.2749999999999992
         ],
         "y": [
          0.43494227860026935,
          0.42678108534673453
         ]
        },
        {
         "fill": "tozeroy",
         "fillcolor": "rgb(255,76,76)",
         "hoverinfo": "skip",
         "line": {
          "color": "rgba(0,0,0,0)"
         },
         "mode": "lines",
         "showlegend": false,
         "type": "scatter",
         "x": [
          1.274999999999998,
          1.3499999999999979
         ],
         "y": [
          0.42678108534673453,
          0.4186198920931998
         ]
        },
        {
         "fill": "tozeroy",
         "fillcolor": "rgb(255,76,76)",
         "hoverinfo": "skip",
         "line": {
          "color": "rgba(0,0,0,0)"
         },
         "mode": "lines",
         "showlegend": false,
         "type": "scatter",
         "x": [
          1.3499999999999979,
          1.4249999999999978
         ],
         "y": [
          0.4186198920931998,
          0.4098604587804556
         ]
        },
        {
         "fill": "tozeroy",
         "fillcolor": "rgb(255,76,76)",
         "hoverinfo": "skip",
         "line": {
          "color": "rgba(0,0,0,0)"
         },
         "mode": "lines",
         "showlegend": false,
         "type": "scatter",
         "x": [
          1.425,
          1.5
         ],
         "y": [
          0.4098604587804556,
          0.40110102546771154
         ]
        },
        {
         "fill": "tozeroy",
         "fillcolor": "rgb(255,76,76)",
         "hoverinfo": "skip",
         "line": {
          "color": "rgba(0,0,0,0)"
         },
         "mode": "lines",
         "showlegend": false,
         "type": "scatter",
         "x": [
          1.5,
          1.575
         ],
         "y": [
          0.40110102546771154,
          0.3918453998132816
         ]
        },
        {
         "fill": "tozeroy",
         "fillcolor": "rgb(255,76,76)",
         "hoverinfo": "skip",
         "line": {
          "color": "rgba(0,0,0,0)"
         },
         "mode": "lines",
         "showlegend": false,
         "type": "scatter",
         "x": [
          1.5749999999999986,
          1.6499999999999986
         ],
         "y": [
          0.3918453998132816,
          0.3825897741588517
         ]
        },
        {
         "fill": "tozeroy",
         "fillcolor": "rgb(255,76,76)",
         "hoverinfo": "skip",
         "line": {
          "color": "rgba(0,0,0,0)"
         },
         "mode": "lines",
         "showlegend": false,
         "type": "scatter",
         "x": [
          1.6499999999999986,
          1.7249999999999985
         ],
         "y": [
          0.3825897741588517,
          0.37294205157849947
         ]
        },
        {
         "fill": "tozeroy",
         "fillcolor": "rgb(255,76,76)",
         "hoverinfo": "skip",
         "line": {
          "color": "rgba(0,0,0,0)"
         },
         "mode": "lines",
         "showlegend": false,
         "type": "scatter",
         "x": [
          1.7250000000000008,
          1.8000000000000007
         ],
         "y": [
          0.37294205157849947,
          0.36329432899814723
         ]
        },
        {
         "fill": "tozeroy",
         "fillcolor": "rgb(255,76,76)",
         "hoverinfo": "skip",
         "line": {
          "color": "rgba(0,0,0,0)"
         },
         "mode": "lines",
         "showlegend": false,
         "type": "scatter",
         "x": [
          1.8000000000000007,
          1.8750000000000007
         ],
         "y": [
          0.36329432899814723,
          0.35335873419761005
         ]
        },
        {
         "fill": "tozeroy",
         "fillcolor": "rgb(255,76,76)",
         "hoverinfo": "skip",
         "line": {
          "color": "rgba(0,0,0,0)"
         },
         "mode": "lines",
         "showlegend": false,
         "type": "scatter",
         "x": [
          1.8749999999999993,
          1.9499999999999993
         ],
         "y": [
          0.35335873419761005,
          0.34342313939707286
         ]
        },
        {
         "fill": "tozeroy",
         "fillcolor": "rgb(255,76,76)",
         "hoverinfo": "skip",
         "line": {
          "color": "rgba(0,0,0,0)"
         },
         "mode": "lines",
         "showlegend": false,
         "type": "scatter",
         "x": [
          1.9499999999999993,
          2.0249999999999995
         ],
         "y": [
          0.34342313939707286,
          0.33330219761703095
         ]
        },
        {
         "fill": "tozeroy",
         "fillcolor": "rgb(255,76,76)",
         "hoverinfo": "skip",
         "line": {
          "color": "rgba(0,0,0,0)"
         },
         "mode": "lines",
         "showlegend": false,
         "type": "scatter",
         "x": [
          2.0249999999999977,
          2.099999999999998
         ],
         "y": [
          0.33330219761703095,
          0.3231812558369891
         ]
        },
        {
         "fill": "tozeroy",
         "fillcolor": "rgb(255,76,76)",
         "hoverinfo": "skip",
         "line": {
          "color": "rgba(0,0,0,0)"
         },
         "mode": "lines",
         "showlegend": false,
         "type": "scatter",
         "x": [
          2.099999999999998,
          2.174999999999998
         ],
         "y": [
          0.3231812558369891,
          0.3129740971292096
         ]
        },
        {
         "fill": "tozeroy",
         "fillcolor": "rgb(255,76,76)",
         "hoverinfo": "skip",
         "line": {
          "color": "rgba(0,0,0,0)"
         },
         "mode": "lines",
         "showlegend": false,
         "type": "scatter",
         "x": [
          2.175,
          2.25
         ],
         "y": [
          0.3129740971292096,
          0.3027669384214301
         ]
        },
        {
         "fill": "tozeroy",
         "fillcolor": "rgb(255,76,76)",
         "hoverinfo": "skip",
         "line": {
          "color": "rgba(0,0,0,0)"
         },
         "mode": "lines",
         "showlegend": false,
         "type": "scatter",
         "x": [
          2.25,
          2.325
         ],
         "y": [
          0.3027669384214301,
          0.2925677720027644
         ]
        },
        {
         "fill": "tozeroy",
         "fillcolor": "rgb(255,76,76)",
         "hoverinfo": "skip",
         "line": {
          "color": "rgba(0,0,0,0)"
         },
         "mode": "lines",
         "showlegend": false,
         "type": "scatter",
         "x": [
          2.3249999999999984,
          2.3999999999999986
         ],
         "y": [
          0.2925677720027644,
          0.2823686055840987
         ]
        },
        {
         "fill": "tozeroy",
         "fillcolor": "rgb(255,76,76)",
         "hoverinfo": "skip",
         "line": {
          "color": "rgba(0,0,0,0)"
         },
         "mode": "lines",
         "showlegend": false,
         "type": "scatter",
         "x": [
          2.3999999999999986,
          2.4749999999999988
         ],
         "y": [
          0.2823686055840987,
          0.27226539404030536
         ]
        },
        {
         "fill": "tozeroy",
         "fillcolor": "rgb(255,76,76)",
         "hoverinfo": "skip",
         "line": {
          "color": "rgba(0,0,0,0)"
         },
         "mode": "lines",
         "showlegend": false,
         "type": "scatter",
         "x": [
          2.4750000000000005,
          2.5500000000000007
         ],
         "y": [
          0.27226539404030536,
          0.26216218249651196
         ]
        },
        {
         "fill": "tozeroy",
         "fillcolor": "rgb(255,76,76)",
         "hoverinfo": "skip",
         "line": {
          "color": "rgba(0,0,0,0)"
         },
         "mode": "lines",
         "showlegend": false,
         "type": "scatter",
         "x": [
          2.5500000000000007,
          2.625000000000001
         ],
         "y": [
          0.26216218249651196,
          0.25223553772733287
         ]
        },
        {
         "fill": "tozeroy",
         "fillcolor": "rgb(255,76,76)",
         "hoverinfo": "skip",
         "line": {
          "color": "rgba(0,0,0,0)"
         },
         "mode": "lines",
         "showlegend": false,
         "type": "scatter",
         "x": [
          2.624999999999999,
          2.6999999999999993
         ],
         "y": [
          0.25223553772733287,
          0.24230889295815375
         ]
        },
        {
         "fill": "tozeroy",
         "fillcolor": "rgb(255,76,76)",
         "hoverinfo": "skip",
         "line": {
          "color": "rgba(0,0,0,0)"
         },
         "mode": "lines",
         "showlegend": false,
         "type": "scatter",
         "x": [
          2.6999999999999993,
          2.7749999999999995
         ],
         "y": [
          0.24230889295815375,
          0.23263120761269207
         ]
        },
        {
         "fill": "tozeroy",
         "fillcolor": "rgb(255,76,76)",
         "hoverinfo": "skip",
         "line": {
          "color": "rgba(0,0,0,0)"
         },
         "mode": "lines",
         "showlegend": false,
         "type": "scatter",
         "x": [
          2.7749999999999977,
          2.849999999999998
         ],
         "y": [
          0.23263120761269207,
          0.2229535222672304
         ]
        },
        {
         "fill": "tozeroy",
         "fillcolor": "rgb(255,76,76)",
         "hoverinfo": "skip",
         "line": {
          "color": "rgba(0,0,0,0)"
         },
         "mode": "lines",
         "showlegend": false,
         "type": "scatter",
         "x": [
          2.849999999999998,
          2.924999999999998
         ],
         "y": [
          0.2229535222672304,
          0.2135883423481939
         ]
        },
        {
         "fill": "tozeroy",
         "fillcolor": "rgb(255,76,76)",
         "hoverinfo": "skip",
         "line": {
          "color": "rgba(0,0,0,0)"
         },
         "mode": "lines",
         "showlegend": false,
         "type": "scatter",
         "x": [
          2.925,
          3
         ],
         "y": [
          0.2135883423481939,
          0.20422316242915742
         ]
        },
        {
         "fill": "tozeroy",
         "fillcolor": "rgb(255,76,76)",
         "hoverinfo": "skip",
         "line": {
          "color": "rgba(0,0,0,0)"
         },
         "mode": "lines",
         "showlegend": false,
         "type": "scatter",
         "x": [
          3,
          3.075
         ],
         "y": [
          0.20422316242915742,
          0.19522479905409731
         ]
        },
        {
         "fill": "tozeroy",
         "fillcolor": "rgb(255,76,76)",
         "hoverinfo": "skip",
         "line": {
          "color": "rgba(0,0,0,0)"
         },
         "mode": "lines",
         "showlegend": false,
         "type": "scatter",
         "x": [
          3.0749999999999984,
          3.1499999999999986
         ],
         "y": [
          0.19522479905409731,
          0.1862264356790372
         ]
        },
        {
         "fill": "tozeroy",
         "fillcolor": "rgb(255,76,76)",
         "hoverinfo": "skip",
         "line": {
          "color": "rgba(0,0,0,0)"
         },
         "mode": "lines",
         "showlegend": false,
         "type": "scatter",
         "x": [
          3.1499999999999986,
          3.2249999999999988
         ],
         "y": [
          0.1862264356790372,
          0.1776398069462103
         ]
        },
        {
         "fill": "tozeroy",
         "fillcolor": "rgb(255,76,76)",
         "hoverinfo": "skip",
         "line": {
          "color": "rgba(0,0,0,0)"
         },
         "mode": "lines",
         "showlegend": false,
         "type": "scatter",
         "x": [
          3.2250000000000005,
          3.3000000000000007
         ],
         "y": [
          0.1776398069462103,
          0.16905317821338334
         ]
        },
        {
         "fill": "tozeroy",
         "fillcolor": "rgb(255,76,76)",
         "hoverinfo": "skip",
         "line": {
          "color": "rgba(0,0,0,0)"
         },
         "mode": "lines",
         "showlegend": false,
         "type": "scatter",
         "x": [
          3.3000000000000007,
          3.375000000000001
         ],
         "y": [
          0.16905317821338334,
          0.16091386595088836
         ]
        },
        {
         "fill": "tozeroy",
         "fillcolor": "rgb(255,76,76)",
         "hoverinfo": "skip",
         "line": {
          "color": "rgba(0,0,0,0)"
         },
         "mode": "lines",
         "showlegend": false,
         "type": "scatter",
         "x": [
          3.374999999999999,
          3.4499999999999993
         ],
         "y": [
          0.16091386595088836,
          0.1527745536883934
         ]
        },
        {
         "fill": "tozeroy",
         "fillcolor": "rgb(255,76,76)",
         "hoverinfo": "skip",
         "line": {
          "color": "rgba(0,0,0,0)"
         },
         "mode": "lines",
         "showlegend": false,
         "type": "scatter",
         "x": [
          3.4499999999999993,
          3.5249999999999995
         ],
         "y": [
          0.1527745536883934,
          0.14510905473436253
         ]
        },
        {
         "fill": "tozeroy",
         "fillcolor": "rgb(255,76,76)",
         "hoverinfo": "skip",
         "line": {
          "color": "rgba(0,0,0,0)"
         },
         "mode": "lines",
         "showlegend": false,
         "type": "scatter",
         "x": [
          3.5249999999999977,
          3.599999999999998
         ],
         "y": [
          0.14510905473436253,
          0.13744355578033166
         ]
        },
        {
         "fill": "tozeroy",
         "fillcolor": "rgb(255,76,76)",
         "hoverinfo": "skip",
         "line": {
          "color": "rgba(0,0,0,0)"
         },
         "mode": "lines",
         "showlegend": false,
         "type": "scatter",
         "x": [
          3.599999999999998,
          3.674999999999998
         ],
         "y": [
          0.13744355578033166,
          0.1302697034575177
         ]
        },
        {
         "fill": "tozeroy",
         "fillcolor": "rgb(255,76,76)",
         "hoverinfo": "skip",
         "line": {
          "color": "rgba(0,0,0,0)"
         },
         "mode": "lines",
         "showlegend": false,
         "type": "scatter",
         "x": [
          3.675,
          3.75
         ],
         "y": [
          0.1302697034575177,
          0.12309585113470374
         ]
        },
        {
         "fill": "tozeroy",
         "fillcolor": "rgb(255,76,76)",
         "hoverinfo": "skip",
         "line": {
          "color": "rgba(0,0,0,0)"
         },
         "mode": "lines",
         "showlegend": false,
         "type": "scatter",
         "x": [
          3.75,
          3.825
         ],
         "y": [
          0.12309585113470374,
          0.1164233797946288
         ]
        },
        {
         "fill": "tozeroy",
         "fillcolor": "rgb(255,76,76)",
         "hoverinfo": "skip",
         "line": {
          "color": "rgba(0,0,0,0)"
         },
         "mode": "lines",
         "showlegend": false,
         "type": "scatter",
         "x": [
          3.8249999999999984,
          3.8999999999999986
         ],
         "y": [
          0.1164233797946288,
          0.10975090845455387
         ]
        },
        {
         "fill": "tozeroy",
         "fillcolor": "rgb(255,76,76)",
         "hoverinfo": "skip",
         "line": {
          "color": "rgba(0,0,0,0)"
         },
         "mode": "lines",
         "showlegend": false,
         "type": "scatter",
         "x": [
          3.8999999999999986,
          3.9749999999999988
         ],
         "y": [
          0.10975090845455387,
          0.10358213236886271
         ]
        },
        {
         "fill": "tozeroy",
         "fillcolor": "rgb(255,76,76)",
         "hoverinfo": "skip",
         "line": {
          "color": "rgba(0,0,0,0)"
         },
         "mode": "lines",
         "showlegend": false,
         "type": "scatter",
         "x": [
          3.9750000000000005,
          4.050000000000001
         ],
         "y": [
          0.10358213236886271,
          0.09741335628317153
         ]
        },
        {
         "fill": "tozeroy",
         "fillcolor": "rgb(255,76,76)",
         "hoverinfo": "skip",
         "line": {
          "color": "rgba(0,0,0,0)"
         },
         "mode": "lines",
         "showlegend": false,
         "type": "scatter",
         "x": [
          4.050000000000001,
          4.125000000000001
         ],
         "y": [
          0.09741335628317153,
          0.09174393369731398
         ]
        },
        {
         "fill": "tozeroy",
         "fillcolor": "rgb(255,76,76)",
         "hoverinfo": "skip",
         "line": {
          "color": "rgba(0,0,0,0)"
         },
         "mode": "lines",
         "showlegend": false,
         "type": "scatter",
         "x": [
          4.124999999999999,
          4.199999999999999
         ],
         "y": [
          0.09174393369731398,
          0.08607451111145645
         ]
        },
        {
         "fill": "tozeroy",
         "fillcolor": "rgb(255,76,76)",
         "hoverinfo": "skip",
         "line": {
          "color": "rgba(0,0,0,0)"
         },
         "mode": "lines",
         "showlegend": false,
         "type": "scatter",
         "x": [
          4.199999999999999,
          4.2749999999999995
         ],
         "y": [
          0.08607451111145645,
          0.08089426485009363
         ]
        },
        {
         "fill": "tozeroy",
         "fillcolor": "rgb(255,76,76)",
         "hoverinfo": "skip",
         "line": {
          "color": "rgba(0,0,0,0)"
         },
         "mode": "lines",
         "showlegend": false,
         "type": "scatter",
         "x": [
          4.274999999999998,
          4.349999999999998
         ],
         "y": [
          0.08089426485009363,
          0.0757140185887308
         ]
        },
        {
         "fill": "tozeroy",
         "fillcolor": "rgb(255,76,76)",
         "hoverinfo": "skip",
         "line": {
          "color": "rgba(0,0,0,0)"
         },
         "mode": "lines",
         "showlegend": false,
         "type": "scatter",
         "x": [
          4.349999999999998,
          4.424999999999998
         ],
         "y": [
          0.0757140185887308,
          0.07100778608154089
         ]
        },
        {
         "fill": "tozeroy",
         "fillcolor": "rgb(255,76,76)",
         "hoverinfo": "skip",
         "line": {
          "color": "rgba(0,0,0,0)"
         },
         "mode": "lines",
         "showlegend": false,
         "type": "scatter",
         "x": [
          4.425,
          4.5
         ],
         "y": [
          0.07100778608154089,
          0.06630155357435098
         ]
        },
        {
         "fill": "tozeroy",
         "fillcolor": "rgb(255,76,76)",
         "hoverinfo": "skip",
         "line": {
          "color": "rgba(0,0,0,0)"
         },
         "mode": "lines",
         "showlegend": false,
         "type": "scatter",
         "x": [
          4.5,
          4.575
         ],
         "y": [
          0.06630155357435098,
          0.062050041399413676
         ]
        },
        {
         "fill": "tozeroy",
         "fillcolor": "rgb(255,76,76)",
         "hoverinfo": "skip",
         "line": {
          "color": "rgba(0,0,0,0)"
         },
         "mode": "lines",
         "showlegend": false,
         "type": "scatter",
         "x": [
          4.574999999999998,
          4.649999999999999
         ],
         "y": [
          0.062050041399413676,
          0.05779852922447637
         ]
        },
        {
         "fill": "tozeroy",
         "fillcolor": "rgb(255,76,76)",
         "hoverinfo": "skip",
         "line": {
          "color": "rgba(0,0,0,0)"
         },
         "mode": "lines",
         "showlegend": false,
         "type": "scatter",
         "x": [
          4.649999999999999,
          4.724999999999999
         ],
         "y": [
          0.05779852922447637,
          0.05397915007431155
         ]
        },
        {
         "fill": "tozeroy",
         "fillcolor": "rgb(255,76,76)",
         "hoverinfo": "skip",
         "line": {
          "color": "rgba(0,0,0,0)"
         },
         "mode": "lines",
         "showlegend": false,
         "type": "scatter",
         "x": [
          4.7250000000000005,
          4.800000000000001
         ],
         "y": [
          0.05397915007431155,
          0.05015977092414673
         ]
        },
        {
         "fill": "tozeroy",
         "fillcolor": "rgb(255,76,76)",
         "hoverinfo": "skip",
         "line": {
          "color": "rgba(0,0,0,0)"
         },
         "mode": "lines",
         "showlegend": false,
         "type": "scatter",
         "x": [
          4.800000000000001,
          4.875000000000001
         ],
         "y": [
          0.05015977092414673,
          0.04674744411228243
         ]
        },
        {
         "fill": "tozeroy",
         "fillcolor": "rgb(255,76,76)",
         "hoverinfo": "skip",
         "line": {
          "color": "rgba(0,0,0,0)"
         },
         "mode": "lines",
         "showlegend": false,
         "type": "scatter",
         "x": [
          4.874999999999999,
          4.949999999999999
         ],
         "y": [
          0.04674744411228243,
          0.04333511730041814
         ]
        },
        {
         "fill": "tozeroy",
         "fillcolor": "rgb(255,76,76)",
         "hoverinfo": "skip",
         "line": {
          "color": "rgba(0,0,0,0)"
         },
         "mode": "lines",
         "showlegend": false,
         "type": "scatter",
         "x": [
          4.949999999999999,
          5.0249999999999995
         ],
         "y": [
          0.04333511730041814,
          0.040303017373526005
         ]
        },
        {
         "fill": "tozeroy",
         "fillcolor": "rgb(255,76,76)",
         "hoverinfo": "skip",
         "line": {
          "color": "rgba(0,0,0,0)"
         },
         "mode": "lines",
         "showlegend": false,
         "type": "scatter",
         "x": [
          5.024999999999998,
          5.099999999999998
         ],
         "y": [
          0.040303017373526005,
          0.03727091744663387
         ]
        },
        {
         "fill": "tozeroy",
         "fillcolor": "rgb(255,76,76)",
         "hoverinfo": "skip",
         "line": {
          "color": "rgba(0,0,0,0)"
         },
         "mode": "lines",
         "showlegend": false,
         "type": "scatter",
         "x": [
          5.099999999999998,
          5.174999999999998
         ],
         "y": [
          0.03727091744663387,
          0.03459115898961117
         ]
        },
        {
         "fill": "tozeroy",
         "fillcolor": "rgb(255,76,76)",
         "hoverinfo": "skip",
         "line": {
          "color": "rgba(0,0,0,0)"
         },
         "mode": "lines",
         "showlegend": false,
         "type": "scatter",
         "x": [
          5.175,
          5.25
         ],
         "y": [
          0.03459115898961117,
          0.03191140053258846
         ]
        },
        {
         "fill": "tozeroy",
         "fillcolor": "rgb(255,76,76)",
         "hoverinfo": "skip",
         "line": {
          "color": "rgba(0,0,0,0)"
         },
         "mode": "lines",
         "showlegend": false,
         "type": "scatter",
         "x": [
          5.25,
          5.325
         ],
         "y": [
          0.03191140053258846,
          0.029555650709471158
         ]
        },
        {
         "fill": "tozeroy",
         "fillcolor": "rgb(255,76,76)",
         "hoverinfo": "skip",
         "line": {
          "color": "rgba(0,0,0,0)"
         },
         "mode": "lines",
         "showlegend": false,
         "type": "scatter",
         "x": [
          5.324999999999998,
          5.399999999999999
         ],
         "y": [
          0.029555650709471158,
          0.027199900886353854
         ]
        },
        {
         "fill": "tozeroy",
         "fillcolor": "rgb(255,76,76)",
         "hoverinfo": "skip",
         "line": {
          "color": "rgba(0,0,0,0)"
         },
         "mode": "lines",
         "showlegend": false,
         "type": "scatter",
         "x": [
          5.399999999999999,
          5.474999999999999
         ],
         "y": [
          0.027199900886353854,
          0.02513991452811433
         ]
        },
        {
         "fill": "tozeroy",
         "fillcolor": "rgb(255,76,76)",
         "hoverinfo": "skip",
         "line": {
          "color": "rgba(0,0,0,0)"
         },
         "mode": "lines",
         "showlegend": false,
         "type": "scatter",
         "x": [
          5.4750000000000005,
          5.550000000000001
         ],
         "y": [
          0.02513991452811433,
          0.023079928169874805
         ]
        },
        {
         "fill": "tozeroy",
         "fillcolor": "rgb(255,76,76)",
         "hoverinfo": "skip",
         "line": {
          "color": "rgba(0,0,0,0)"
         },
         "mode": "lines",
         "showlegend": false,
         "type": "scatter",
         "x": [
          5.550000000000001,
          5.625000000000001
         ],
         "y": [
          0.023079928169874805,
          0.021288003204601204
         ]
        },
        {
         "fill": "tozeroy",
         "fillcolor": "rgb(255,76,76)",
         "hoverinfo": "skip",
         "line": {
          "color": "rgba(0,0,0,0)"
         },
         "mode": "lines",
         "showlegend": false,
         "type": "scatter",
         "x": [
          5.624999999999999,
          5.699999999999999
         ],
         "y": [
          0.021288003204601204,
          0.0194960782393276
         ]
        },
        {
         "fill": "tozeroy",
         "fillcolor": "rgb(255,76,76)",
         "hoverinfo": "skip",
         "line": {
          "color": "rgba(0,0,0,0)"
         },
         "mode": "lines",
         "showlegend": false,
         "type": "scatter",
         "x": [
          5.699999999999999,
          5.7749999999999995
         ],
         "y": [
          0.0194960782393276,
          0.017945431889807496
         ]
        },
        {
         "fill": "tozeroy",
         "fillcolor": "rgb(255,76,76)",
         "hoverinfo": "skip",
         "line": {
          "color": "rgba(0,0,0,0)"
         },
         "mode": "lines",
         "showlegend": false,
         "type": "scatter",
         "x": [
          5.774999999999998,
          5.849999999999998
         ],
         "y": [
          0.017945431889807496,
          0.01639478554028739
         ]
        },
        {
         "fill": "tozeroy",
         "fillcolor": "rgb(255,76,76)",
         "hoverinfo": "skip",
         "line": {
          "color": "rgba(0,0,0,0)"
         },
         "mode": "lines",
         "showlegend": false,
         "type": "scatter",
         "x": [
          5.849999999999998,
          5.924999999999998
         ],
         "y": [
          0.01639478554028739,
          0.015059853942336056
         ]
        },
        {
         "fill": "tozeroy",
         "fillcolor": "rgb(255,76,76)",
         "hoverinfo": "skip",
         "line": {
          "color": "rgba(0,0,0,0)"
         },
         "mode": "lines",
         "showlegend": false,
         "type": "scatter",
         "x": [
          5.925,
          6
         ],
         "y": [
          0.015059853942336056,
          0.013724922344384723
         ]
        },
        {
         "fill": "tozeroy",
         "fillcolor": "rgb(255,76,76)",
         "hoverinfo": "skip",
         "line": {
          "color": "rgba(0,0,0,0)"
         },
         "mode": "lines",
         "showlegend": false,
         "type": "scatter",
         "x": [
          6,
          6.075
         ],
         "y": [
          0.013724922344384723,
          0.012581588043427443
         ]
        },
        {
         "fill": "tozeroy",
         "fillcolor": "rgb(255,76,76)",
         "hoverinfo": "skip",
         "line": {
          "color": "rgba(0,0,0,0)"
         },
         "mode": "lines",
         "showlegend": false,
         "type": "scatter",
         "x": [
          6.074999999999998,
          6.149999999999999
         ],
         "y": [
          0.012581588043427443,
          0.011438253742470162
         ]
        },
        {
         "fill": "tozeroy",
         "fillcolor": "rgb(255,76,76)",
         "hoverinfo": "skip",
         "line": {
          "color": "rgba(0,0,0,0)"
         },
         "mode": "lines",
         "showlegend": false,
         "type": "scatter",
         "x": [
          6.149999999999999,
          6.224999999999999
         ],
         "y": [
          0.011438253742470162,
          0.010464006903917484
         ]
        },
        {
         "fill": "tozeroy",
         "fillcolor": "rgb(255,76,76)",
         "hoverinfo": "skip",
         "line": {
          "color": "rgba(0,0,0,0)"
         },
         "mode": "lines",
         "showlegend": false,
         "type": "scatter",
         "x": [
          6.2250000000000005,
          6.300000000000001
         ],
         "y": [
          0.010464006903917484,
          0.009489760065364805
         ]
        },
        {
         "fill": "tozeroy",
         "fillcolor": "rgb(255,76,76)",
         "hoverinfo": "skip",
         "line": {
          "color": "rgba(0,0,0,0)"
         },
         "mode": "lines",
         "showlegend": false,
         "type": "scatter",
         "x": [
          6.300000000000001,
          6.375000000000001
         ],
         "y": [
          0.009489760065364805,
          0.008663800202030447
         ]
        },
        {
         "fill": "tozeroy",
         "fillcolor": "rgb(255,76,76)",
         "hoverinfo": "skip",
         "line": {
          "color": "rgba(0,0,0,0)"
         },
         "mode": "lines",
         "showlegend": false,
         "type": "scatter",
         "x": [
          6.374999999999999,
          6.449999999999999
         ],
         "y": [
          0.008663800202030447,
          0.007837840338696087
         ]
        },
        {
         "fill": "tozeroy",
         "fillcolor": "rgb(255,76,76)",
         "hoverinfo": "skip",
         "line": {
          "color": "rgba(0,0,0,0)"
         },
         "mode": "lines",
         "showlegend": false,
         "type": "scatter",
         "x": [
          6.449999999999999,
          6.5249999999999995
         ],
         "y": [
          0.007837840338696087,
          0.007141125946037886
         ]
        },
        {
         "fill": "tozeroy",
         "fillcolor": "rgb(255,76,76)",
         "hoverinfo": "skip",
         "line": {
          "color": "rgba(0,0,0,0)"
         },
         "mode": "lines",
         "showlegend": false,
         "type": "scatter",
         "x": [
          6.524999999999998,
          6.599999999999998
         ],
         "y": [
          0.007141125946037886,
          0.006444411553379685
         ]
        },
        {
         "fill": "tozeroy",
         "fillcolor": "rgb(255,76,76)",
         "hoverinfo": "skip",
         "line": {
          "color": "rgba(0,0,0,0)"
         },
         "mode": "lines",
         "showlegend": false,
         "type": "scatter",
         "x": [
          6.599999999999998,
          6.674999999999998
         ],
         "y": [
          0.006444411553379685,
          0.00585966529150515
         ]
        },
        {
         "fill": "tozeroy",
         "fillcolor": "rgb(255,76,76)",
         "hoverinfo": "skip",
         "line": {
          "color": "rgba(0,0,0,0)"
         },
         "mode": "lines",
         "showlegend": false,
         "type": "scatter",
         "x": [
          6.675,
          6.75
         ],
         "y": [
          0.00585966529150515,
          0.005274919029630615
         ]
        },
        {
         "fill": "tozeroy",
         "fillcolor": "rgb(255,76,76)",
         "hoverinfo": "skip",
         "line": {
          "color": "rgba(0,0,0,0)"
         },
         "mode": "lines",
         "showlegend": false,
         "type": "scatter",
         "x": [
          6.75,
          6.825
         ],
         "y": [
          0.005274919029630615,
          0.004786596047681649
         ]
        },
        {
         "fill": "tozeroy",
         "fillcolor": "rgb(255,76,76)",
         "hoverinfo": "skip",
         "line": {
          "color": "rgba(0,0,0,0)"
         },
         "mode": "lines",
         "showlegend": false,
         "type": "scatter",
         "x": [
          6.824999999999998,
          6.899999999999999
         ],
         "y": [
          0.004786596047681649,
          0.004298273065732684
         ]
        },
        {
         "fill": "tozeroy",
         "fillcolor": "rgb(255,76,76)",
         "hoverinfo": "skip",
         "line": {
          "color": "rgba(0,0,0,0)"
         },
         "mode": "lines",
         "showlegend": false,
         "type": "scatter",
         "x": [
          6.899999999999999,
          6.974999999999999
         ],
         "y": [
          0.004298273065732684,
          0.003892499781084591
         ]
        },
        {
         "fill": "tozeroy",
         "fillcolor": "rgb(255,76,76)",
         "hoverinfo": "skip",
         "line": {
          "color": "rgba(0,0,0,0)"
         },
         "mode": "lines",
         "showlegend": false,
         "type": "scatter",
         "x": [
          6.9750000000000005,
          7.050000000000001
         ],
         "y": [
          0.003892499781084591,
          0.003486726496436498
         ]
        },
        {
         "fill": "tozeroy",
         "fillcolor": "rgb(255,76,76)",
         "hoverinfo": "skip",
         "line": {
          "color": "rgba(0,0,0,0)"
         },
         "mode": "lines",
         "showlegend": false,
         "type": "scatter",
         "x": [
          7.050000000000001,
          7.125000000000001
         ],
         "y": [
          0.003486726496436498,
          0.0031512166705389777
         ]
        },
        {
         "fill": "tozeroy",
         "fillcolor": "rgb(255,76,76)",
         "hoverinfo": "skip",
         "line": {
          "color": "rgba(0,0,0,0)"
         },
         "mode": "lines",
         "showlegend": false,
         "type": "scatter",
         "x": [
          7.124999999999999,
          7.199999999999999
         ],
         "y": [
          0.0031512166705389777,
          0.0028157068446414573
         ]
        },
        {
         "fill": "tozeroy",
         "fillcolor": "rgb(255,76,76)",
         "hoverinfo": "skip",
         "line": {
          "color": "rgba(0,0,0,0)"
         },
         "mode": "lines",
         "showlegend": false,
         "type": "scatter",
         "x": [
          7.199999999999999,
          7.2749999999999995
         ],
         "y": [
          0.0028157068446414573,
          0.0025396611900322967
         ]
        },
        {
         "fill": "tozeroy",
         "fillcolor": "rgb(255,76,76)",
         "hoverinfo": "skip",
         "line": {
          "color": "rgba(0,0,0,0)"
         },
         "mode": "lines",
         "showlegend": false,
         "type": "scatter",
         "x": [
          7.274999999999998,
          7.349999999999998
         ],
         "y": [
          0.0025396611900322967,
          0.002263615535423136
         ]
        },
        {
         "fill": "tozeroy",
         "fillcolor": "rgb(255,76,76)",
         "hoverinfo": "skip",
         "line": {
          "color": "rgba(0,0,0,0)"
         },
         "mode": "lines",
         "showlegend": false,
         "type": "scatter",
         "x": [
          7.349999999999998,
          7.424999999999998
         ],
         "y": [
          0.002263615535423136,
          0.0020376103915565004
         ]
        },
        {
         "fill": "tozeroy",
         "fillcolor": "rgb(255,76,76)",
         "hoverinfo": "skip",
         "line": {
          "color": "rgba(0,0,0,0)"
         },
         "mode": "lines",
         "showlegend": false,
         "type": "scatter",
         "x": [
          7.425,
          7.5
         ],
         "y": [
          0.0020376103915565004,
          0.0018116052476898643
         ]
        },
        {
         "fill": "tozeroy",
         "fillcolor": "rgb(255,76,76)",
         "hoverinfo": "skip",
         "line": {
          "color": "rgba(0,0,0,0)"
         },
         "mode": "lines",
         "showlegend": false,
         "type": "scatter",
         "x": [
          7.5,
          7.575
         ],
         "y": [
          0.0018116052476898643,
          0.0016274751187620238
         ]
        },
        {
         "fill": "tozeroy",
         "fillcolor": "rgb(255,76,76)",
         "hoverinfo": "skip",
         "line": {
          "color": "rgba(0,0,0,0)"
         },
         "mode": "lines",
         "showlegend": false,
         "type": "scatter",
         "x": [
          7.574999999999998,
          7.649999999999999
         ],
         "y": [
          0.0016274751187620238,
          0.0014433449898341834
         ]
        },
        {
         "fill": "tozeroy",
         "fillcolor": "rgb(255,76,76)",
         "hoverinfo": "skip",
         "line": {
          "color": "rgba(0,0,0,0)"
         },
         "mode": "lines",
         "showlegend": false,
         "type": "scatter",
         "x": [
          7.649999999999999,
          7.724999999999999
         ],
         "y": [
          0.0014433449898341834,
          0.0012940629817946672
         ]
        },
        {
         "fill": "tozeroy",
         "fillcolor": "rgb(255,76,76)",
         "hoverinfo": "skip",
         "line": {
          "color": "rgba(0,0,0,0)"
         },
         "mode": "lines",
         "showlegend": false,
         "type": "scatter",
         "x": [
          7.7250000000000005,
          7.800000000000001
         ],
         "y": [
          0.0012940629817946672,
          0.001144780973755151
         ]
        },
        {
         "fill": "tozeroy",
         "fillcolor": "rgb(255,76,76)",
         "hoverinfo": "skip",
         "line": {
          "color": "rgba(0,0,0,0)"
         },
         "mode": "lines",
         "showlegend": false,
         "type": "scatter",
         "x": [
          7.800000000000001,
          7.875000000000001
         ],
         "y": [
          0.001144780973755151,
          0.0010243404297461433
         ]
        },
        {
         "fill": "tozeroy",
         "fillcolor": "rgb(255,76,76)",
         "hoverinfo": "skip",
         "line": {
          "color": "rgba(0,0,0,0)"
         },
         "mode": "lines",
         "showlegend": false,
         "type": "scatter",
         "x": [
          7.874999999999999,
          7.949999999999999
         ],
         "y": [
          0.0010243404297461433,
          0.0009038998857371358
         ]
        },
        {
         "fill": "tozeroy",
         "fillcolor": "rgb(255,76,76)",
         "hoverinfo": "skip",
         "line": {
          "color": "rgba(0,0,0,0)"
         },
         "mode": "lines",
         "showlegend": false,
         "type": "scatter",
         "x": [
          7.949999999999999,
          8.024999999999999
         ],
         "y": [
          0.0009038998857371358,
          0.0008071998223877698
         ]
        },
        {
         "fill": "tozeroy",
         "fillcolor": "rgb(255,76,76)",
         "hoverinfo": "skip",
         "line": {
          "color": "rgba(0,0,0,0)"
         },
         "mode": "lines",
         "showlegend": false,
         "type": "scatter",
         "x": [
          8.024999999999999,
          8.099999999999998
         ],
         "y": [
          0.0008071998223877698,
          0.0007104997590384038
         ]
        },
        {
         "fill": "tozeroy",
         "fillcolor": "rgb(255,76,76)",
         "hoverinfo": "skip",
         "line": {
          "color": "rgba(0,0,0,0)"
         },
         "mode": "lines",
         "showlegend": false,
         "type": "scatter",
         "x": [
          8.099999999999998,
          8.174999999999997
         ],
         "y": [
          0.0007104997590384038,
          0.0006332360671940462
         ]
        },
        {
         "fill": "tozeroy",
         "fillcolor": "rgb(255,76,76)",
         "hoverinfo": "skip",
         "line": {
          "color": "rgba(0,0,0,0)"
         },
         "mode": "lines",
         "showlegend": false,
         "type": "scatter",
         "x": [
          8.175,
          8.25
         ],
         "y": [
          0.0006332360671940462,
          0.0005559723753496887
         ]
        },
        {
         "fill": "tozeroy",
         "fillcolor": "rgb(255,76,76)",
         "hoverinfo": "skip",
         "line": {
          "color": "rgba(0,0,0,0)"
         },
         "mode": "lines",
         "showlegend": false,
         "type": "scatter",
         "x": [
          8.25,
          8.325
         ],
         "y": [
          0.0005559723753496887,
          0.0004945361790502688
         ]
        },
        {
         "fill": "tozeroy",
         "fillcolor": "rgb(255,76,76)",
         "hoverinfo": "skip",
         "line": {
          "color": "rgba(0,0,0,0)"
         },
         "mode": "lines",
         "showlegend": false,
         "type": "scatter",
         "x": [
          8.325,
          8.399999999999999
         ],
         "y": [
          0.0004945361790502688,
          0.0004330999827508489
         ]
        },
        {
         "fill": "tozeroy",
         "fillcolor": "rgb(255,76,76)",
         "hoverinfo": "skip",
         "line": {
          "color": "rgba(0,0,0,0)"
         },
         "mode": "lines",
         "showlegend": false,
         "type": "scatter",
         "x": [
          8.399999999999999,
          8.474999999999998
         ],
         "y": [
          0.0004330999827508489,
          0.0003844840556541292
         ]
        },
        {
         "fill": "tozeroy",
         "fillcolor": "rgb(255,76,76)",
         "hoverinfo": "skip",
         "line": {
          "color": "rgba(0,0,0,0)"
         },
         "mode": "lines",
         "showlegend": false,
         "type": "scatter",
         "x": [
          8.475000000000001,
          8.55
         ],
         "y": [
          0.0003844840556541292,
          0.00033586812855740947
         ]
        },
        {
         "fill": "tozeroy",
         "fillcolor": "rgb(255,76,76)",
         "hoverinfo": "skip",
         "line": {
          "color": "rgba(0,0,0,0)"
         },
         "mode": "lines",
         "showlegend": false,
         "type": "scatter",
         "x": [
          8.55,
          8.625
         ],
         "y": [
          0.00033586812855740947,
          0.00029758184933741946
         ]
        },
        {
         "fill": "tozeroy",
         "fillcolor": "rgb(255,76,76)",
         "hoverinfo": "skip",
         "line": {
          "color": "rgba(0,0,0,0)"
         },
         "mode": "lines",
         "showlegend": false,
         "type": "scatter",
         "x": [
          8.625,
          8.7
         ],
         "y": [
          0.00029758184933741946,
          0.00025929557011742944
         ]
        },
        {
         "fill": "tozeroy",
         "fillcolor": "rgb(255,76,76)",
         "hoverinfo": "skip",
         "line": {
          "color": "rgba(0,0,0,0)"
         },
         "mode": "lines",
         "showlegend": false,
         "type": "scatter",
         "x": [
          8.7,
          8.774999999999999
         ],
         "y": [
          0.00025929557011742944,
          0.00022928855602016688
         ]
        },
        {
         "fill": "tozeroy",
         "fillcolor": "rgb(255,76,76)",
         "hoverinfo": "skip",
         "line": {
          "color": "rgba(0,0,0,0)"
         },
         "mode": "lines",
         "showlegend": false,
         "type": "scatter",
         "x": [
          8.774999999999999,
          8.849999999999998
         ],
         "y": [
          0.00022928855602016688,
          0.0001992815419229043
         ]
        },
        {
         "fill": "tozeroy",
         "fillcolor": "rgb(255,76,76)",
         "hoverinfo": "skip",
         "line": {
          "color": "rgba(0,0,0,0)"
         },
         "mode": "lines",
         "showlegend": false,
         "type": "scatter",
         "x": [
          8.849999999999998,
          8.924999999999997
         ],
         "y": [
          0.0001992815419229043,
          0.00017587582836715935
         ]
        },
        {
         "fill": "tozeroy",
         "fillcolor": "rgb(255,76,76)",
         "hoverinfo": "skip",
         "line": {
          "color": "rgba(0,0,0,0)"
         },
         "mode": "lines",
         "showlegend": false,
         "type": "scatter",
         "x": [
          8.925,
          9
         ],
         "y": [
          0.00017587582836715935,
          0.00015247011481141443
         ]
        },
        {
         "fill": "tozeroy",
         "fillcolor": "rgb(255,76,76)",
         "hoverinfo": "skip",
         "line": {
          "color": "rgba(0,0,0,0)"
         },
         "mode": "lines",
         "showlegend": false,
         "type": "scatter",
         "x": [
          9,
          9.075
         ],
         "y": [
          0.00015247011481141443,
          0.00013430054254869037
         ]
        },
        {
         "fill": "tozeroy",
         "fillcolor": "rgb(255,76,76)",
         "hoverinfo": "skip",
         "line": {
          "color": "rgba(0,0,0,0)"
         },
         "mode": "lines",
         "showlegend": false,
         "type": "scatter",
         "x": [
          9.075,
          9.149999999999999
         ],
         "y": [
          0.00013430054254869037,
          0.00011613097028596632
         ]
        },
        {
         "fill": "tozeroy",
         "fillcolor": "rgb(255,76,76)",
         "hoverinfo": "skip",
         "line": {
          "color": "rgba(0,0,0,0)"
         },
         "mode": "lines",
         "showlegend": false,
         "type": "scatter",
         "x": [
          9.149999999999999,
          9.224999999999998
         ],
         "y": [
          0.00011613097028596632,
          0.0001020932928586994
         ]
        },
        {
         "fill": "tozeroy",
         "fillcolor": "rgb(255,76,76)",
         "hoverinfo": "skip",
         "line": {
          "color": "rgba(0,0,0,0)"
         },
         "mode": "lines",
         "showlegend": false,
         "type": "scatter",
         "x": [
          9.225000000000001,
          9.3
         ],
         "y": [
          0.0001020932928586994,
          0.00008805561543143247
         ]
        },
        {
         "fill": "tozeroy",
         "fillcolor": "rgb(255,76,76)",
         "hoverinfo": "skip",
         "line": {
          "color": "rgba(0,0,0,0)"
         },
         "mode": "lines",
         "showlegend": false,
         "type": "scatter",
         "x": [
          9.3,
          9.375
         ],
         "y": [
          0.00008805561543143247,
          0.00007726174056829608
         ]
        },
        {
         "fill": "tozeroy",
         "fillcolor": "rgb(255,76,76)",
         "hoverinfo": "skip",
         "line": {
          "color": "rgba(0,0,0,0)"
         },
         "mode": "lines",
         "showlegend": false,
         "type": "scatter",
         "x": [
          9.375,
          9.45
         ],
         "y": [
          0.00007726174056829608,
          0.0000664678657051597
         ]
        },
        {
         "fill": "tozeroy",
         "fillcolor": "rgb(255,76,76)",
         "hoverinfo": "skip",
         "line": {
          "color": "rgba(0,0,0,0)"
         },
         "mode": "lines",
         "showlegend": false,
         "type": "scatter",
         "x": [
          9.45,
          9.524999999999999
         ],
         "y": [
          0.0000664678657051597,
          0.00005820758681874211
         ]
        },
        {
         "fill": "tozeroy",
         "fillcolor": "rgb(255,76,76)",
         "hoverinfo": "skip",
         "line": {
          "color": "rgba(0,0,0,0)"
         },
         "mode": "lines",
         "showlegend": false,
         "type": "scatter",
         "x": [
          9.524999999999999,
          9.599999999999998
         ],
         "y": [
          0.00005820758681874211,
          0.000049947307932324524
         ]
        },
        {
         "fill": "tozeroy",
         "fillcolor": "rgb(255,76,76)",
         "hoverinfo": "skip",
         "line": {
          "color": "rgba(0,0,0,0)"
         },
         "mode": "lines",
         "showlegend": false,
         "type": "scatter",
         "x": [
          9.599999999999998,
          9.674999999999997
         ],
         "y": [
          0.000049947307932324524,
          0.0000436558582434185
         ]
        },
        {
         "fill": "tozeroy",
         "fillcolor": "rgb(255,76,76)",
         "hoverinfo": "skip",
         "line": {
          "color": "rgba(0,0,0,0)"
         },
         "mode": "lines",
         "showlegend": false,
         "type": "scatter",
         "x": [
          9.675,
          9.75
         ],
         "y": [
          0.0000436558582434185,
          0.00003736440855451247
         ]
        },
        {
         "fill": "tozeroy",
         "fillcolor": "rgb(255,76,76)",
         "hoverinfo": "skip",
         "line": {
          "color": "rgba(0,0,0,0)"
         },
         "mode": "lines",
         "showlegend": false,
         "type": "scatter",
         "x": [
          9.75,
          9.825
         ],
         "y": [
          0.00003736440855451247,
          0.00003259517329267404
         ]
        },
        {
         "fill": "tozeroy",
         "fillcolor": "rgb(255,76,76)",
         "hoverinfo": "skip",
         "line": {
          "color": "rgba(0,0,0,0)"
         },
         "mode": "lines",
         "showlegend": false,
         "type": "scatter",
         "x": [
          9.825,
          9.899999999999999
         ],
         "y": [
          0.00003259517329267404,
          0.00002782593803083561
         ]
        },
        {
         "fill": "tozeroy",
         "fillcolor": "rgb(255,76,76)",
         "hoverinfo": "skip",
         "line": {
          "color": "rgba(0,0,0,0)"
         },
         "mode": "lines",
         "showlegend": false,
         "type": "scatter",
         "x": [
          9.899999999999999,
          9.974999999999998
         ],
         "y": [
          0.00002782593803083561,
          0.000024227683101095488
         ]
        },
        {
         "fill": "tozeroy",
         "fillcolor": "rgb(255,76,76)",
         "hoverinfo": "skip",
         "line": {
          "color": "rgba(0,0,0,0)"
         },
         "mode": "lines",
         "showlegend": false,
         "type": "scatter",
         "x": [
          9.975000000000001,
          10.05
         ],
         "y": [
          0.000024227683101095488,
          0.00002062942817135537
         ]
        },
        {
         "fill": "tozeroy",
         "fillcolor": "rgb(255,76,76)",
         "hoverinfo": "skip",
         "line": {
          "color": "rgba(0,0,0,0)"
         },
         "mode": "lines",
         "showlegend": false,
         "type": "scatter",
         "x": [
          10.05,
          10.125
         ],
         "y": [
          0.00002062942817135537,
          0.00001792744090195214
         ]
        },
        {
         "fill": "tozeroy",
         "fillcolor": "rgb(255,76,76)",
         "hoverinfo": "skip",
         "line": {
          "color": "rgba(0,0,0,0)"
         },
         "mode": "lines",
         "showlegend": false,
         "type": "scatter",
         "x": [
          10.125,
          10.2
         ],
         "y": [
          0.00001792744090195214,
          0.00001522545363254891
         ]
        },
        {
         "fill": "tozeroy",
         "fillcolor": "rgb(255,76,76)",
         "hoverinfo": "skip",
         "line": {
          "color": "rgba(0,0,0,0)"
         },
         "mode": "lines",
         "showlegend": false,
         "type": "scatter",
         "x": [
          10.2,
          10.274999999999999
         ],
         "y": [
          0.00001522545363254891,
          0.000013206037862805805
         ]
        },
        {
         "fill": "tozeroy",
         "fillcolor": "rgb(255,76,76)",
         "hoverinfo": "skip",
         "line": {
          "color": "rgba(0,0,0,0)"
         },
         "mode": "lines",
         "showlegend": false,
         "type": "scatter",
         "x": [
          10.274999999999999,
          10.349999999999998
         ],
         "y": [
          0.000013206037862805805,
          0.000011186622093062701
         ]
        },
        {
         "fill": "tozeroy",
         "fillcolor": "rgb(255,76,76)",
         "hoverinfo": "skip",
         "line": {
          "color": "rgba(0,0,0,0)"
         },
         "mode": "lines",
         "showlegend": false,
         "type": "scatter",
         "x": [
          10.349999999999998,
          10.424999999999997
         ],
         "y": [
          0.000011186622093062701,
          0.00000968444191515792
         ]
        },
        {
         "fill": "tozeroy",
         "fillcolor": "rgb(255,76,76)",
         "hoverinfo": "skip",
         "line": {
          "color": "rgba(0,0,0,0)"
         },
         "mode": "lines",
         "showlegend": false,
         "type": "scatter",
         "x": [
          10.425,
          10.5
         ],
         "y": [
          0.00000968444191515792,
          0.00000818226173725314
         ]
        },
        {
         "fill": "tozeroy",
         "fillcolor": "rgb(255,76,76)",
         "hoverinfo": "skip",
         "line": {
          "color": "rgba(0,0,0,0)"
         },
         "mode": "lines",
         "showlegend": false,
         "type": "scatter",
         "x": [
          10.5,
          10.575
         ],
         "y": [
          0.00000818226173725314,
          0.000007070082472490473
         ]
        },
        {
         "fill": "tozeroy",
         "fillcolor": "rgb(255,76,76)",
         "hoverinfo": "skip",
         "line": {
          "color": "rgba(0,0,0,0)"
         },
         "mode": "lines",
         "showlegend": false,
         "type": "scatter",
         "x": [
          10.575,
          10.649999999999999
         ],
         "y": [
          0.000007070082472490473,
          0.000005957903207727805
         ]
        },
        {
         "fill": "tozeroy",
         "fillcolor": "rgb(255,76,76)",
         "hoverinfo": "skip",
         "line": {
          "color": "rgba(0,0,0,0)"
         },
         "mode": "lines",
         "showlegend": false,
         "type": "scatter",
         "x": [
          10.649999999999999,
          10.724999999999998
         ],
         "y": [
          0.000005957903207727805,
          0.000005138332217942926
         ]
        },
        {
         "fill": "tozeroy",
         "fillcolor": "rgb(255,76,76)",
         "hoverinfo": "skip",
         "line": {
          "color": "rgba(0,0,0,0)"
         },
         "mode": "lines",
         "showlegend": false,
         "type": "scatter",
         "x": [
          10.725000000000001,
          10.8
         ],
         "y": [
          0.000005138332217942926,
          0.000004318761228158047
         ]
        },
        {
         "fill": "tozeroy",
         "fillcolor": "rgb(255,76,76)",
         "hoverinfo": "skip",
         "line": {
          "color": "rgba(0,0,0,0)"
         },
         "mode": "lines",
         "showlegend": false,
         "type": "scatter",
         "x": [
          10.8,
          10.875
         ],
         "y": [
          0.000004318761228158047,
          0.0000037176431286323494
         ]
        },
        {
         "fill": "tozeroy",
         "fillcolor": "rgb(255,76,76)",
         "hoverinfo": "skip",
         "line": {
          "color": "rgba(0,0,0,0)"
         },
         "mode": "lines",
         "showlegend": false,
         "type": "scatter",
         "x": [
          10.875,
          10.95
         ],
         "y": [
          0.0000037176431286323494,
          0.000003116525029106652
         ]
        },
        {
         "fill": "tozeroy",
         "fillcolor": "rgb(255,76,76)",
         "hoverinfo": "skip",
         "line": {
          "color": "rgba(0,0,0,0)"
         },
         "mode": "lines",
         "showlegend": false,
         "type": "scatter",
         "x": [
          10.95,
          11.024999999999999
         ],
         "y": [
          0.000003116525029106652,
          0.0000026776945302522744
         ]
        },
        {
         "fill": "tozeroy",
         "fillcolor": "rgb(255,76,76)",
         "hoverinfo": "skip",
         "line": {
          "color": "rgba(0,0,0,0)"
         },
         "mode": "lines",
         "showlegend": false,
         "type": "scatter",
         "x": [
          11.024999999999999,
          11.099999999999998
         ],
         "y": [
          0.0000026776945302522744,
          0.000002238864031397897
         ]
        },
        {
         "fill": "tozeroy",
         "fillcolor": "rgb(255,76,76)",
         "hoverinfo": "skip",
         "line": {
          "color": "rgba(0,0,0,0)"
         },
         "mode": "lines",
         "showlegend": false,
         "type": "scatter",
         "x": [
          11.099999999999998,
          11.174999999999997
         ],
         "y": [
          0.000002238864031397897,
          0.000001920004203543893
         ]
        },
        {
         "fill": "tozeroy",
         "fillcolor": "rgb(255,76,76)",
         "hoverinfo": "skip",
         "line": {
          "color": "rgba(0,0,0,0)"
         },
         "mode": "lines",
         "showlegend": false,
         "type": "scatter",
         "x": [
          11.175,
          11.25
         ],
         "y": [
          0.000001920004203543893,
          0.000001601144375689889
         ]
        },
        {
         "fill": "tozeroy",
         "fillcolor": "rgb(255,76,76)",
         "hoverinfo": "skip",
         "line": {
          "color": "rgba(0,0,0,0)"
         },
         "mode": "lines",
         "showlegend": false,
         "type": "scatter",
         "x": [
          11.25,
          11.325
         ],
         "y": [
          0.000001601144375689889,
          0.0000013705381860717135
         ]
        },
        {
         "fill": "tozeroy",
         "fillcolor": "rgb(255,76,76)",
         "hoverinfo": "skip",
         "line": {
          "color": "rgba(0,0,0,0)"
         },
         "mode": "lines",
         "showlegend": false,
         "type": "scatter",
         "x": [
          11.325,
          11.399999999999999
         ],
         "y": [
          0.0000013705381860717135,
          0.000001139931996453538
         ]
        },
        {
         "fill": "tozeroy",
         "fillcolor": "rgb(255,76,76)",
         "hoverinfo": "skip",
         "line": {
          "color": "rgba(0,0,0,0)"
         },
         "mode": "lines",
         "showlegend": false,
         "type": "scatter",
         "x": [
          11.399999999999999,
          11.474999999999998
         ],
         "y": [
          0.000001139931996453538,
          9.739303786542948e-7
         ]
        },
        {
         "fill": "tozeroy",
         "fillcolor": "rgb(255,76,76)",
         "hoverinfo": "skip",
         "line": {
          "color": "rgba(0,0,0,0)"
         },
         "mode": "lines",
         "showlegend": false,
         "type": "scatter",
         "x": [
          11.475000000000001,
          11.55
         ],
         "y": [
          9.739303786542948e-7,
          8.079287608550518e-7
         ]
        },
        {
         "fill": "tozeroy",
         "fillcolor": "rgb(255,76,76)",
         "hoverinfo": "skip",
         "line": {
          "color": "rgba(0,0,0,0)"
         },
         "mode": "lines",
         "showlegend": false,
         "type": "scatter",
         "x": [
          11.55,
          11.625
         ],
         "y": [
          8.079287608550518e-7,
          6.889893265851133e-7
         ]
        },
        {
         "fill": "tozeroy",
         "fillcolor": "rgb(255,76,76)",
         "hoverinfo": "skip",
         "line": {
          "color": "rgba(0,0,0,0)"
         },
         "mode": "lines",
         "showlegend": false,
         "type": "scatter",
         "x": [
          11.625,
          11.7
         ],
         "y": [
          6.889893265851133e-7,
          5.70049892315175e-7
         ]
        },
        {
         "fill": "tozeroy",
         "fillcolor": "rgb(255,76,76)",
         "hoverinfo": "skip",
         "line": {
          "color": "rgba(0,0,0,0)"
         },
         "mode": "lines",
         "showlegend": false,
         "type": "scatter",
         "x": [
          11.7,
          11.774999999999999
         ],
         "y": [
          5.70049892315175e-7,
          4.852269161221615e-7
         ]
        },
        {
         "fill": "tozeroy",
         "fillcolor": "rgb(255,76,76)",
         "hoverinfo": "skip",
         "line": {
          "color": "rgba(0,0,0,0)"
         },
         "mode": "lines",
         "showlegend": false,
         "type": "scatter",
         "x": [
          11.774999999999999,
          11.849999999999998
         ],
         "y": [
          4.852269161221615e-7,
          4.00403939929148e-7
         ]
        },
        {
         "fill": "tozeroy",
         "fillcolor": "rgb(255,76,76)",
         "hoverinfo": "skip",
         "line": {
          "color": "rgba(0,0,0,0)"
         },
         "mode": "lines",
         "showlegend": false,
         "type": "scatter",
         "x": [
          11.849999999999998,
          11.924999999999997
         ],
         "y": [
          4.00403939929148e-7,
          3.40192770055747e-7
         ]
        },
        {
         "fill": "tozeroy",
         "fillcolor": "rgb(255,76,76)",
         "hoverinfo": "skip",
         "line": {
          "color": "rgba(0,0,0,0)"
         },
         "mode": "lines",
         "showlegend": false,
         "type": "scatter",
         "x": [
          11.925,
          12
         ],
         "y": [
          3.40192770055747e-7,
          2.79981600182346e-7
         ]
        },
        {
         "fill": "tozeroy",
         "fillcolor": "rgb(255,76,76)",
         "hoverinfo": "skip",
         "line": {
          "color": "rgba(0,0,0,0)"
         },
         "mode": "lines",
         "showlegend": false,
         "type": "scatter",
         "x": [
          12,
          12.075
         ],
         "y": [
          2.79981600182346e-7,
          2.3743956061905962e-7
         ]
        },
        {
         "fill": "tozeroy",
         "fillcolor": "rgb(255,76,76)",
         "hoverinfo": "skip",
         "line": {
          "color": "rgba(0,0,0,0)"
         },
         "mode": "lines",
         "showlegend": false,
         "type": "scatter",
         "x": [
          12.075,
          12.149999999999999
         ],
         "y": [
          2.3743956061905962e-7,
          1.9489752105577327e-7
         ]
        },
        {
         "fill": "tozeroy",
         "fillcolor": "rgb(255,76,76)",
         "hoverinfo": "skip",
         "line": {
          "color": "rgba(0,0,0,0)"
         },
         "mode": "lines",
         "showlegend": false,
         "type": "scatter",
         "x": [
          12.149999999999999,
          12.224999999999998
         ],
         "y": [
          1.9489752105577327e-7,
          1.6497908218949608e-7
         ]
        },
        {
         "fill": "tozeroy",
         "fillcolor": "rgb(255,76,76)",
         "hoverinfo": "skip",
         "line": {
          "color": "rgba(0,0,0,0)"
         },
         "mode": "lines",
         "showlegend": false,
         "type": "scatter",
         "x": [
          12.225000000000001,
          12.3
         ],
         "y": [
          1.6497908218949608e-7,
          1.3506064332321888e-7
         ]
        },
        {
         "fill": "tozeroy",
         "fillcolor": "rgb(255,76,76)",
         "hoverinfo": "skip",
         "line": {
          "color": "rgba(0,0,0,0)"
         },
         "mode": "lines",
         "showlegend": false,
         "type": "scatter",
         "x": [
          12.3,
          12.375
         ],
         "y": [
          1.3506064332321888e-7,
          1.1411756272947996e-7
         ]
        },
        {
         "fill": "tozeroy",
         "fillcolor": "rgb(255,76,76)",
         "hoverinfo": "skip",
         "line": {
          "color": "rgba(0,0,0,0)"
         },
         "mode": "lines",
         "showlegend": false,
         "type": "scatter",
         "x": [
          12.375,
          12.45
         ],
         "y": [
          1.1411756272947996e-7,
          9.317448213574104e-8
         ]
        },
        {
         "fill": "tozeroy",
         "fillcolor": "rgb(255,76,76)",
         "hoverinfo": "skip",
         "line": {
          "color": "rgba(0,0,0,0)"
         },
         "mode": "lines",
         "showlegend": false,
         "type": "scatter",
         "x": [
          12.45,
          12.524999999999999
         ],
         "y": [
          9.317448213574104e-8,
          7.858214720185062e-8
         ]
        },
        {
         "fill": "tozeroy",
         "fillcolor": "rgb(255,76,76)",
         "hoverinfo": "skip",
         "line": {
          "color": "rgba(0,0,0,0)"
         },
         "mode": "lines",
         "showlegend": false,
         "type": "scatter",
         "x": [
          12.524999999999999,
          12.599999999999998
         ],
         "y": [
          7.858214720185062e-8,
          6.398981226796021e-8
         ]
        },
        {
         "fill": "tozeroy",
         "fillcolor": "rgb(255,76,76)",
         "hoverinfo": "skip",
         "line": {
          "color": "rgba(0,0,0,0)"
         },
         "mode": "lines",
         "showlegend": false,
         "type": "scatter",
         "x": [
          12.599999999999998,
          12.674999999999997
         ],
         "y": [
          6.398981226796021e-8,
          5.38695183936771e-8
         ]
        },
        {
         "fill": "tozeroy",
         "fillcolor": "rgb(255,76,76)",
         "hoverinfo": "skip",
         "line": {
          "color": "rgba(0,0,0,0)"
         },
         "mode": "lines",
         "showlegend": false,
         "type": "scatter",
         "x": [
          12.675,
          12.75
         ],
         "y": [
          5.38695183936771e-8,
          4.3749224519393995e-8
         ]
        },
        {
         "fill": "tozeroy",
         "fillcolor": "rgb(255,76,76)",
         "hoverinfo": "skip",
         "line": {
          "color": "rgba(0,0,0,0)"
         },
         "mode": "lines",
         "showlegend": false,
         "type": "scatter",
         "x": [
          12.75,
          12.825
         ],
         "y": [
          4.3749224519393995e-8,
          3.676292770217607e-8
         ]
        },
        {
         "fill": "tozeroy",
         "fillcolor": "rgb(255,76,76)",
         "hoverinfo": "skip",
         "line": {
          "color": "rgba(0,0,0,0)"
         },
         "mode": "lines",
         "showlegend": false,
         "type": "scatter",
         "x": [
          12.825,
          12.899999999999999
         ],
         "y": [
          3.676292770217607e-8,
          2.9776630884958146e-8
         ]
        },
        {
         "fill": "tozeroy",
         "fillcolor": "rgb(255,76,76)",
         "hoverinfo": "skip",
         "line": {
          "color": "rgba(0,0,0,0)"
         },
         "mode": "lines",
         "showlegend": false,
         "type": "scatter",
         "x": [
          12.899999999999999,
          12.974999999999998
         ],
         "y": [
          2.9776630884958146e-8,
          2.497611477552206e-8
         ]
        },
        {
         "fill": "tozeroy",
         "fillcolor": "rgb(255,76,76)",
         "hoverinfo": "skip",
         "line": {
          "color": "rgba(0,0,0,0)"
         },
         "mode": "lines",
         "showlegend": false,
         "type": "scatter",
         "x": [
          12.975000000000001,
          13.05
         ],
         "y": [
          2.497611477552206e-8,
          2.017559866608597e-8
         ]
        },
        {
         "fill": "tozeroy",
         "fillcolor": "rgb(255,76,76)",
         "hoverinfo": "skip",
         "line": {
          "color": "rgba(0,0,0,0)"
         },
         "mode": "lines",
         "showlegend": false,
         "type": "scatter",
         "x": [
          13.05,
          13.125
         ],
         "y": [
          2.017559866608597e-8,
          1.689224863152349e-8
         ]
        },
        {
         "fill": "tozeroy",
         "fillcolor": "rgb(255,76,76)",
         "hoverinfo": "skip",
         "line": {
          "color": "rgba(0,0,0,0)"
         },
         "mode": "lines",
         "showlegend": false,
         "type": "scatter",
         "x": [
          13.125,
          13.2
         ],
         "y": [
          1.689224863152349e-8,
          1.3608898596961005e-8
         ]
        },
        {
         "fill": "tozeroy",
         "fillcolor": "rgb(255,76,76)",
         "hoverinfo": "skip",
         "line": {
          "color": "rgba(0,0,0,0)"
         },
         "mode": "lines",
         "showlegend": false,
         "type": "scatter",
         "x": [
          13.2,
          13.274999999999999
         ],
         "y": [
          1.3608898596961005e-8,
          1.1373597081677717e-8
         ]
        },
        {
         "fill": "tozeroy",
         "fillcolor": "rgb(255,76,76)",
         "hoverinfo": "skip",
         "line": {
          "color": "rgba(0,0,0,0)"
         },
         "mode": "lines",
         "showlegend": false,
         "type": "scatter",
         "x": [
          13.274999999999999,
          13.349999999999998
         ],
         "y": [
          1.1373597081677717e-8,
          9.13829556639443e-9
         ]
        },
        {
         "fill": "tozeroy",
         "fillcolor": "rgb(255,76,76)",
         "hoverinfo": "skip",
         "line": {
          "color": "rgba(0,0,0,0)"
         },
         "mode": "lines",
         "showlegend": false,
         "type": "scatter",
         "x": [
          13.349999999999998,
          13.424999999999997
         ],
         "y": [
          9.13829556639443e-9,
          7.623528029925566e-9
         ]
        },
        {
         "fill": "tozeroy",
         "fillcolor": "rgb(255,76,76)",
         "hoverinfo": "skip",
         "line": {
          "color": "rgba(0,0,0,0)"
         },
         "mode": "lines",
         "showlegend": false,
         "type": "scatter",
         "x": [
          13.425,
          13.5
         ],
         "y": [
          7.623528029925566e-9,
          6.108760493456701e-9
         ]
        },
        {
         "fill": "tozeroy",
         "fillcolor": "rgb(255,76,76)",
         "hoverinfo": "skip",
         "line": {
          "color": "rgba(0,0,0,0)"
         },
         "mode": "lines",
         "showlegend": false,
         "type": "scatter",
         "x": [
          13.5,
          13.575
         ],
         "y": [
          6.108760493456701e-9,
          5.087002493848298e-9
         ]
        },
        {
         "fill": "tozeroy",
         "fillcolor": "rgb(255,76,76)",
         "hoverinfo": "skip",
         "line": {
          "color": "rgba(0,0,0,0)"
         },
         "mode": "lines",
         "showlegend": false,
         "type": "scatter",
         "x": [
          13.575,
          13.649999999999999
         ],
         "y": [
          5.087002493848298e-9,
          4.0652444942398936e-9
         ]
        },
        {
         "fill": "tozeroy",
         "fillcolor": "rgb(255,76,76)",
         "hoverinfo": "skip",
         "line": {
          "color": "rgba(0,0,0,0)"
         },
         "mode": "lines",
         "showlegend": false,
         "type": "scatter",
         "x": [
          13.649999999999999,
          13.724999999999998
         ],
         "y": [
          4.0652444942398936e-9,
          3.379213911269661e-9
         ]
        },
        {
         "fill": "tozeroy",
         "fillcolor": "rgb(255,76,76)",
         "hoverinfo": "skip",
         "line": {
          "color": "rgba(0,0,0,0)"
         },
         "mode": "lines",
         "showlegend": false,
         "type": "scatter",
         "x": [
          13.724999999999998,
          13.799999999999997
         ],
         "y": [
          3.379213911269661e-9,
          2.693183328299428e-9
         ]
        },
        {
         "fill": "tozeroy",
         "fillcolor": "rgb(255,76,76)",
         "hoverinfo": "skip",
         "line": {
          "color": "rgba(0,0,0,0)"
         },
         "mode": "lines",
         "showlegend": false,
         "type": "scatter",
         "x": [
          13.799999999999997,
          13.874999999999996
         ],
         "y": [
          2.693183328299428e-9,
          2.234689565157389e-9
         ]
        },
        {
         "fill": "tozeroy",
         "fillcolor": "rgb(255,76,76)",
         "hoverinfo": "skip",
         "line": {
          "color": "rgba(0,0,0,0)"
         },
         "mode": "lines",
         "showlegend": false,
         "type": "scatter",
         "x": [
          13.875,
          13.95
         ],
         "y": [
          2.234689565157389e-9,
          1.7761958020153503e-9
         ]
        },
        {
         "fill": "tozeroy",
         "fillcolor": "rgb(255,76,76)",
         "hoverinfo": "skip",
         "line": {
          "color": "rgba(0,0,0,0)"
         },
         "mode": "lines",
         "showlegend": false,
         "type": "scatter",
         "x": [
          13.95,
          14.024999999999999
         ],
         "y": [
          1.7761958020153503e-9,
          1.4711823251975557e-9
         ]
        },
        {
         "fill": "tozeroy",
         "fillcolor": "rgb(255,76,76)",
         "hoverinfo": "skip",
         "line": {
          "color": "rgba(0,0,0,0)"
         },
         "mode": "lines",
         "showlegend": false,
         "type": "scatter",
         "x": [
          14.024999999999999,
          14.099999999999998
         ],
         "y": [
          1.4711823251975557e-9,
          1.1661688483797612e-9
         ]
        },
        {
         "fill": "tozeroy",
         "fillcolor": "rgb(255,76,76)",
         "hoverinfo": "skip",
         "line": {
          "color": "rgba(0,0,0,0)"
         },
         "mode": "lines",
         "showlegend": false,
         "type": "scatter",
         "x": [
          14.099999999999998,
          14.174999999999997
         ],
         "y": [
          1.1661688483797612e-9,
          9.641921140719792e-10
         ]
        },
        {
         "fill": "tozeroy",
         "fillcolor": "rgb(255,76,76)",
         "hoverinfo": "skip",
         "line": {
          "color": "rgba(0,0,0,0)"
         },
         "mode": "lines",
         "showlegend": false,
         "type": "scatter",
         "x": [
          14.175,
          14.25
         ],
         "y": [
          9.641921140719792e-10,
          7.62215379764197e-10
         ]
        },
        {
         "fill": "tozeroy",
         "fillcolor": "rgb(255,76,76)",
         "hoverinfo": "skip",
         "line": {
          "color": "rgba(0,0,0,0)"
         },
         "mode": "lines",
         "showlegend": false,
         "type": "scatter",
         "x": [
          14.25,
          14.325
         ],
         "y": [
          7.62215379764197e-10,
          6.290836944719412e-10
         ]
        },
        {
         "fill": "tozeroy",
         "fillcolor": "rgb(255,76,76)",
         "hoverinfo": "skip",
         "line": {
          "color": "rgba(0,0,0,0)"
         },
         "mode": "lines",
         "showlegend": false,
         "type": "scatter",
         "x": [
          14.325,
          14.399999999999999
         ],
         "y": [
          6.290836944719412e-10,
          4.959520091796853e-10
         ]
        },
        {
         "fill": "tozeroy",
         "fillcolor": "rgb(255,76,76)",
         "hoverinfo": "skip",
         "line": {
          "color": "rgba(0,0,0,0)"
         },
         "mode": "lines",
         "showlegend": false,
         "type": "scatter",
         "x": [
          14.399999999999999,
          14.474999999999998
         ],
         "y": [
          4.959520091796853e-10,
          4.0860253537719926e-10
         ]
        },
        {
         "fill": "tozeroy",
         "fillcolor": "rgb(255,76,76)",
         "hoverinfo": "skip",
         "line": {
          "color": "rgba(0,0,0,0)"
         },
         "mode": "lines",
         "showlegend": false,
         "type": "scatter",
         "x": [
          14.474999999999998,
          14.549999999999997
         ],
         "y": [
          4.0860253537719926e-10,
          3.212530615747132e-10
         ]
        },
        {
         "fill": "tozeroy",
         "fillcolor": "rgb(255,76,76)",
         "hoverinfo": "skip",
         "line": {
          "color": "rgba(0,0,0,0)"
         },
         "mode": "lines",
         "showlegend": false,
         "type": "scatter",
         "x": [
          14.549999999999997,
          14.624999999999996
         ],
         "y": [
          3.212530615747132e-10,
          2.642052593301498e-10
         ]
        },
        {
         "fill": "tozeroy",
         "fillcolor": "rgb(255,76,76)",
         "hoverinfo": "skip",
         "line": {
          "color": "rgba(0,0,0,0)"
         },
         "mode": "lines",
         "showlegend": false,
         "type": "scatter",
         "x": [
          14.625,
          14.7
         ],
         "y": [
          2.642052593301498e-10,
          2.0715745708558642e-10
         ]
        },
        {
         "fill": "tozeroy",
         "fillcolor": "rgb(255,76,76)",
         "hoverinfo": "skip",
         "line": {
          "color": "rgba(0,0,0,0)"
         },
         "mode": "lines",
         "showlegend": false,
         "type": "scatter",
         "x": [
          14.7,
          14.774999999999999
         ],
         "y": [
          2.0715745708558642e-10,
          1.7007075155730838e-10
         ]
        },
        {
         "fill": "tozeroy",
         "fillcolor": "rgb(255,76,76)",
         "hoverinfo": "skip",
         "line": {
          "color": "rgba(0,0,0,0)"
         },
         "mode": "lines",
         "showlegend": false,
         "type": "scatter",
         "x": [
          14.775,
          14.85
         ],
         "y": [
          1.7007075155730838e-10,
          1.3298404602903033e-10
         ]
        },
        {
         "customdata": [
          [
           0,
           8.498537359729119e-11
          ],
          [
           0,
           1.3298404602903033e-10
          ],
          [
           0,
           2.0715745708558642e-10
          ],
          [
           0,
           3.2125306157471085e-10
          ],
          [
           0,
           4.959520091796818e-10
          ],
          [
           0,
           7.62215379764197e-10
          ],
          [
           0,
           1.1661688483797572e-9
          ],
          [
           0,
           1.7761958020153503e-9
          ],
          [
           0,
           2.6931833282993995e-9
          ],
          [
           0,
           4.065244494239865e-9
          ],
          [
           0,
           6.108760493456701e-9
          ],
          [
           0,
           9.138295566394365e-9
          ],
          [
           0,
           1.3608898596961005e-8
          ],
          [
           0,
           2.017559866608597e-8
          ],
          [
           0,
           2.977663088495804e-8
          ],
          [
           0,
           4.3749224519393995e-8
          ],
          [
           0,
           6.398981226795988e-8
          ],
          [
           0,
           9.317448213574104e-8
          ],
          [
           0,
           1.3506064332321888e-7
          ],
          [
           0,
           1.9489752105577258e-7
          ],
          [
           0,
           2.79981600182346e-7
          ],
          [
           0,
           4.0040393992914655e-7
          ],
          [
           0,
           5.70049892315175e-7
          ],
          [
           0,
           8.079287608550518e-7
          ],
          [
           0,
           0.000001139931996453534
          ],
          [
           0,
           0.000001601144375689889
          ],
          [
           0,
           0.000002238864031397889
          ],
          [
           0,
           0.000003116525029106652
          ],
          [
           0,
           0.000004318761228158047
          ],
          [
           0,
           0.000005957903207727784
          ],
          [
           0,
           0.00000818226173725314
          ],
          [
           0,
           0.00001118662209306262
          ],
          [
           0,
           0.00001522545363254891
          ],
          [
           0,
           0.00002062942817135537
          ],
          [
           0,
           0.00002782593803083551
          ],
          [
           0,
           0.00003736440855451247
          ],
          [
           0,
           0.000049947307932324165
          ],
          [
           0,
           0.0000664678657051597
          ],
          [
           0,
           0.00008805561543143247
          ],
          [
           0,
           0.00011613097028596591
          ],
          [
           0,
           0.00015247011481141443
          ],
          [
           0,
           0.00019928154192290325
          ],
          [
           0,
           0.00025929557011742944
          ],
          [
           0,
           0.00033586812855740947
          ],
          [
           0,
           0.0004330999827508474
          ],
          [
           0,
           0.0005559723753496887
          ],
          [
           0,
           0.0007104997590383995
          ],
          [
           0,
           0.0009038998857371341
          ],
          [
           0,
           0.001144780973755151
          ],
          [
           0,
           0.001443344989834178
          ],
          [
           0,
           0.0018116052476898643
          ],
          [
           0,
           0.002263615535423126
          ],
          [
           0,
           0.0028157068446414526
          ],
          [
           0,
           0.003486726496436498
          ],
          [
           0,
           0.004298273065732673
          ],
          [
           0,
           0.005274919029630615
          ],
          [
           0,
           0.006444411553379667
          ],
          [
           0,
           0.007837840338696073
          ],
          [
           0,
           0.009489760065364805
          ],
          [
           0,
           0.011438253742470138
          ],
          [
           0,
           0.013724922344384723
          ],
          [
           0,
           0.016394785540287355
          ],
          [
           0,
           0.019496078239327575
          ],
          [
           0,
           0.023079928169874805
          ],
          [
           0,
           0.027199900886353805
          ],
          [
           0,
           0.03191140053258846
          ],
          [
           0,
           0.037270917446633786
          ],
          [
           0,
           0.043335117300418065
          ],
          [
           0,
           0.05015977092414673
          ],
          [
           0,
           0.05779852922447629
          ],
          [
           0,
           0.06630155357435098
          ],
          [
           0,
           0.07571401858873068
          ],
          [
           0,
           0.08607451111145632
          ],
          [
           0,
           0.09741335628317153
          ],
          [
           0,
           0.10975090845455372
          ],
          [
           0,
           0.12309585113470374
          ],
          [
           0,
           0.13744355578033143
          ],
          [
           0,
           0.15277455368839324
          ],
          [
           0,
           0.16905317821338334
          ],
          [
           0,
           0.18622643567903696
          ],
          [
           0,
           0.20422316242915742
          ],
          [
           0,
           0.22295352226723014
          ],
          [
           0,
           0.24230889295815355
          ],
          [
           0,
           0.26216218249651196
          ],
          [
           0,
           0.2823686055840985
          ],
          [
           0,
           0.3027669384214301
          ],
          [
           0,
           0.32318125583698887
          ],
          [
           0,
           0.34342313939707264
          ],
          [
           0,
           0.36329432899814723
          ],
          [
           0,
           0.3825897741588515
          ],
          [
           0,
           0.40110102546771154
          ],
          [
           0,
           0.4186198920931996
          ],
          [
           0,
           0.4349422786002692
          ],
          [
           0,
           0.4498721041693738
          ],
          [
           0,
           0.4632252002257067
          ],
          [
           0,
           0.47483307888988036
          ],
          [
           0,
           0.4845464648478828
          ],
          [
           0,
           0.4922384873384804
          ],
          [
           0,
           0.4978074369275858
          ],
          [
           0,
           0.501179003362157
          ],
          [
           0,
           0.5023079256810666
          ],
          [
           0,
           0.501179003362157
          ],
          [
           0,
           0.49780743692758583
          ],
          [
           0,
           0.4922384873384805
          ],
          [
           0,
           0.4845464648478829
          ],
          [
           0,
           0.47483307888988036
          ],
          [
           0,
           0.4632252002257068
          ],
          [
           0,
           0.4498721041693738
          ],
          [
           0,
           0.43494227860026935
          ],
          [
           0,
           0.4186198920931998
          ],
          [
           0,
           0.40110102546771154
          ],
          [
           0,
           0.3825897741588517
          ],
          [
           0,
           0.36329432899814723
          ],
          [
           0,
           0.34342313939707286
          ],
          [
           0,
           0.3231812558369891
          ],
          [
           0,
           0.3027669384214301
          ],
          [
           0,
           0.2823686055840987
          ],
          [
           0,
           0.26216218249651196
          ],
          [
           0,
           0.24230889295815375
          ],
          [
           0,
           0.2229535222672304
          ],
          [
           0,
           0.20422316242915742
          ],
          [
           0,
           0.1862264356790372
          ],
          [
           0,
           0.16905317821338334
          ],
          [
           0,
           0.1527745536883934
          ],
          [
           0,
           0.13744355578033166
          ],
          [
           0,
           0.12309585113470374
          ],
          [
           0,
           0.10975090845455387
          ],
          [
           0,
           0.09741335628317153
          ],
          [
           0,
           0.08607451111145645
          ],
          [
           0,
           0.0757140185887308
          ],
          [
           0,
           0.06630155357435098
          ],
          [
           0,
           0.05779852922447637
          ],
          [
           0,
           0.05015977092414673
          ],
          [
           0,
           0.04333511730041814
          ],
          [
           0,
           0.03727091744663387
          ],
          [
           0,
           0.03191140053258846
          ],
          [
           0,
           0.027199900886353854
          ],
          [
           0,
           0.023079928169874805
          ],
          [
           0,
           0.0194960782393276
          ],
          [
           0,
           0.01639478554028739
          ],
          [
           0,
           0.013724922344384723
          ],
          [
           0,
           0.011438253742470162
          ],
          [
           0,
           0.009489760065364805
          ],
          [
           0,
           0.007837840338696087
          ],
          [
           0,
           0.006444411553379685
          ],
          [
           0,
           0.005274919029630615
          ],
          [
           0,
           0.004298273065732684
          ],
          [
           0,
           0.003486726496436498
          ],
          [
           0,
           0.0028157068446414573
          ],
          [
           0,
           0.002263615535423136
          ],
          [
           0,
           0.0018116052476898643
          ],
          [
           0,
           0.0014433449898341834
          ],
          [
           0,
           0.001144780973755151
          ],
          [
           0,
           0.0009038998857371358
          ],
          [
           0,
           0.0007104997590384038
          ],
          [
           0,
           0.0005559723753496887
          ],
          [
           0,
           0.0004330999827508489
          ],
          [
           0,
           0.00033586812855740947
          ],
          [
           0,
           0.00025929557011742944
          ],
          [
           0,
           0.0001992815419229043
          ],
          [
           0,
           0.00015247011481141443
          ],
          [
           0,
           0.00011613097028596632
          ],
          [
           0,
           0.00008805561543143247
          ],
          [
           0,
           0.0000664678657051597
          ],
          [
           0,
           0.000049947307932324524
          ],
          [
           0,
           0.00003736440855451247
          ],
          [
           0,
           0.00002782593803083561
          ],
          [
           0,
           0.00002062942817135537
          ],
          [
           0,
           0.00001522545363254891
          ],
          [
           0,
           0.000011186622093062701
          ],
          [
           0,
           0.00000818226173725314
          ],
          [
           0,
           0.000005957903207727805
          ],
          [
           0,
           0.000004318761228158047
          ],
          [
           0,
           0.000003116525029106652
          ],
          [
           0,
           0.000002238864031397897
          ],
          [
           0,
           0.000001601144375689889
          ],
          [
           0,
           0.000001139931996453538
          ],
          [
           0,
           8.079287608550518e-7
          ],
          [
           0,
           5.70049892315175e-7
          ],
          [
           0,
           4.00403939929148e-7
          ],
          [
           0,
           2.79981600182346e-7
          ],
          [
           0,
           1.9489752105577327e-7
          ],
          [
           0,
           1.3506064332321888e-7
          ],
          [
           0,
           9.317448213574104e-8
          ],
          [
           0,
           6.398981226796021e-8
          ],
          [
           0,
           4.3749224519393995e-8
          ],
          [
           0,
           2.9776630884958146e-8
          ],
          [
           0,
           2.017559866608597e-8
          ],
          [
           0,
           1.3608898596961005e-8
          ],
          [
           0,
           9.13829556639443e-9
          ],
          [
           0,
           6.108760493456701e-9
          ],
          [
           0,
           4.0652444942398936e-9
          ],
          [
           0,
           2.693183328299428e-9
          ],
          [
           0,
           1.7761958020153503e-9
          ],
          [
           0,
           1.1661688483797612e-9
          ],
          [
           0,
           7.62215379764197e-10
          ],
          [
           0,
           4.959520091796853e-10
          ],
          [
           0,
           3.212530615747132e-10
          ],
          [
           0,
           2.0715745708558642e-10
          ],
          [
           0,
           1.3298404602903033e-10
          ]
         ],
         "hovertemplate": "x: %{x:.2f} a₀<br>θ: %{customdata[0]:.2f} π<br>ρ: %{customdata[1]:.2e}",
         "line": {
          "color": "black"
         },
         "mode": "lines",
         "name": "",
         "showlegend": false,
         "type": "scatter",
         "x": [
          -15,
          -14.85,
          -14.7,
          -14.55,
          -14.4,
          -14.25,
          -14.1,
          -13.95,
          -13.8,
          -13.65,
          -13.5,
          -13.35,
          -13.2,
          -13.05,
          -12.9,
          -12.75,
          -12.6,
          -12.45,
          -12.3,
          -12.15,
          -12,
          -11.85,
          -11.7,
          -11.55,
          -11.4,
          -11.25,
          -11.1,
          -10.95,
          -10.8,
          -10.65,
          -10.5,
          -10.350000000000001,
          -10.2,
          -10.05,
          -9.9,
          -9.75,
          -9.600000000000001,
          -9.45,
          -9.3,
          -9.15,
          -9,
          -8.850000000000001,
          -8.7,
          -8.55,
          -8.4,
          -8.25,
          -8.100000000000001,
          -7.95,
          -7.800000000000001,
          -7.65,
          -7.5,
          -7.3500000000000005,
          -7.2,
          -7.050000000000001,
          -6.9,
          -6.75,
          -6.6,
          -6.450000000000001,
          -6.300000000000001,
          -6.15,
          -6,
          -5.85,
          -5.700000000000001,
          -5.550000000000001,
          -5.4,
          -5.25,
          -5.1,
          -4.950000000000001,
          -4.800000000000001,
          -4.65,
          -4.5,
          -4.35,
          -4.200000000000001,
          -4.050000000000001,
          -3.9000000000000004,
          -3.75,
          -3.5999999999999996,
          -3.450000000000001,
          -3.3000000000000007,
          -3.1500000000000004,
          -3,
          -2.8499999999999996,
          -2.700000000000001,
          -2.5500000000000007,
          -2.4000000000000004,
          -2.25,
          -2.0999999999999996,
          -1.950000000000001,
          -1.8000000000000007,
          -1.6500000000000004,
          -1.5,
          -1.3499999999999996,
          -1.200000000000001,
          -1.0500000000000007,
          -0.9000000000000004,
          -0.75,
          -0.6000000000000014,
          -0.45000000000000107,
          -0.3000000000000007,
          -0.15000000000000036,
          0,
          0.14999999999999858,
          0.29999999999999893,
          0.4499999999999993,
          0.5999999999999996,
          0.75,
          0.8999999999999986,
          1.0500000000000007,
          1.1999999999999993,
          1.3499999999999979,
          1.5,
          1.6499999999999986,
          1.8000000000000007,
          1.9499999999999993,
          2.099999999999998,
          2.25,
          2.3999999999999986,
          2.5500000000000007,
          2.6999999999999993,
          2.849999999999998,
          3,
          3.1499999999999986,
          3.3000000000000007,
          3.4499999999999993,
          3.599999999999998,
          3.75,
          3.8999999999999986,
          4.050000000000001,
          4.199999999999999,
          4.349999999999998,
          4.5,
          4.649999999999999,
          4.800000000000001,
          4.949999999999999,
          5.099999999999998,
          5.25,
          5.399999999999999,
          5.550000000000001,
          5.699999999999999,
          5.849999999999998,
          6,
          6.149999999999999,
          6.300000000000001,
          6.449999999999999,
          6.599999999999998,
          6.75,
          6.899999999999999,
          7.050000000000001,
          7.199999999999999,
          7.349999999999998,
          7.5,
          7.649999999999999,
          7.800000000000001,
          7.949999999999999,
          8.099999999999998,
          8.25,
          8.399999999999999,
          8.55,
          8.7,
          8.849999999999998,
          9,
          9.149999999999999,
          9.3,
          9.45,
          9.599999999999998,
          9.75,
          9.899999999999999,
          10.05,
          10.2,
          10.349999999999998,
          10.5,
          10.649999999999999,
          10.8,
          10.95,
          11.099999999999998,
          11.25,
          11.399999999999999,
          11.55,
          11.7,
          11.849999999999998,
          12,
          12.149999999999999,
          12.3,
          12.45,
          12.599999999999998,
          12.75,
          12.899999999999999,
          13.05,
          13.2,
          13.349999999999998,
          13.5,
          13.649999999999999,
          13.799999999999997,
          13.95,
          14.099999999999998,
          14.25,
          14.399999999999999,
          14.549999999999997,
          14.7,
          14.85
         ],
         "y": [
          8.498537359729119e-11,
          1.3298404602903033e-10,
          2.0715745708558642e-10,
          3.2125306157471085e-10,
          4.959520091796818e-10,
          7.62215379764197e-10,
          1.1661688483797572e-9,
          1.7761958020153503e-9,
          2.6931833282993995e-9,
          4.065244494239865e-9,
          6.108760493456701e-9,
          9.138295566394365e-9,
          1.3608898596961005e-8,
          2.017559866608597e-8,
          2.977663088495804e-8,
          4.3749224519393995e-8,
          6.398981226795988e-8,
          9.317448213574104e-8,
          1.3506064332321888e-7,
          1.9489752105577258e-7,
          2.79981600182346e-7,
          4.0040393992914655e-7,
          5.70049892315175e-7,
          8.079287608550518e-7,
          0.000001139931996453534,
          0.000001601144375689889,
          0.000002238864031397889,
          0.000003116525029106652,
          0.000004318761228158047,
          0.000005957903207727784,
          0.00000818226173725314,
          0.00001118662209306262,
          0.00001522545363254891,
          0.00002062942817135537,
          0.00002782593803083551,
          0.00003736440855451247,
          0.000049947307932324165,
          0.0000664678657051597,
          0.00008805561543143247,
          0.00011613097028596591,
          0.00015247011481141443,
          0.00019928154192290325,
          0.00025929557011742944,
          0.00033586812855740947,
          0.0004330999827508474,
          0.0005559723753496887,
          0.0007104997590383995,
          0.0009038998857371341,
          0.001144780973755151,
          0.001443344989834178,
          0.0018116052476898643,
          0.002263615535423126,
          0.0028157068446414526,
          0.003486726496436498,
          0.004298273065732673,
          0.005274919029630615,
          0.006444411553379667,
          0.007837840338696073,
          0.009489760065364805,
          0.011438253742470138,
          0.013724922344384723,
          0.016394785540287355,
          0.019496078239327575,
          0.023079928169874805,
          0.027199900886353805,
          0.03191140053258846,
          0.037270917446633786,
          0.043335117300418065,
          0.05015977092414673,
          0.05779852922447629,
          0.06630155357435098,
          0.07571401858873068,
          0.08607451111145632,
          0.09741335628317153,
          0.10975090845455372,
          0.12309585113470374,
          0.13744355578033143,
          0.15277455368839324,
          0.16905317821338334,
          0.18622643567903696,
          0.20422316242915742,
          0.22295352226723014,
          0.24230889295815355,
          0.26216218249651196,
          0.2823686055840985,
          0.3027669384214301,
          0.32318125583698887,
          0.34342313939707264,
          0.36329432899814723,
          0.3825897741588515,
          0.40110102546771154,
          0.4186198920931996,
          0.4349422786002692,
          0.4498721041693738,
          0.4632252002257067,
          0.47483307888988036,
          0.4845464648478828,
          0.4922384873384804,
          0.4978074369275858,
          0.501179003362157,
          0.5023079256810666,
          0.501179003362157,
          0.49780743692758583,
          0.4922384873384805,
          0.4845464648478829,
          0.47483307888988036,
          0.4632252002257068,
          0.4498721041693738,
          0.43494227860026935,
          0.4186198920931998,
          0.40110102546771154,
          0.3825897741588517,
          0.36329432899814723,
          0.34342313939707286,
          0.3231812558369891,
          0.3027669384214301,
          0.2823686055840987,
          0.26216218249651196,
          0.24230889295815375,
          0.2229535222672304,
          0.20422316242915742,
          0.1862264356790372,
          0.16905317821338334,
          0.1527745536883934,
          0.13744355578033166,
          0.12309585113470374,
          0.10975090845455387,
          0.09741335628317153,
          0.08607451111145645,
          0.0757140185887308,
          0.06630155357435098,
          0.05779852922447637,
          0.05015977092414673,
          0.04333511730041814,
          0.03727091744663387,
          0.03191140053258846,
          0.027199900886353854,
          0.023079928169874805,
          0.0194960782393276,
          0.01639478554028739,
          0.013724922344384723,
          0.011438253742470162,
          0.009489760065364805,
          0.007837840338696087,
          0.006444411553379685,
          0.005274919029630615,
          0.004298273065732684,
          0.003486726496436498,
          0.0028157068446414573,
          0.002263615535423136,
          0.0018116052476898643,
          0.0014433449898341834,
          0.001144780973755151,
          0.0009038998857371358,
          0.0007104997590384038,
          0.0005559723753496887,
          0.0004330999827508489,
          0.00033586812855740947,
          0.00025929557011742944,
          0.0001992815419229043,
          0.00015247011481141443,
          0.00011613097028596632,
          0.00008805561543143247,
          0.0000664678657051597,
          0.000049947307932324524,
          0.00003736440855451247,
          0.00002782593803083561,
          0.00002062942817135537,
          0.00001522545363254891,
          0.000011186622093062701,
          0.00000818226173725314,
          0.000005957903207727805,
          0.000004318761228158047,
          0.000003116525029106652,
          0.000002238864031397897,
          0.000001601144375689889,
          0.000001139931996453538,
          8.079287608550518e-7,
          5.70049892315175e-7,
          4.00403939929148e-7,
          2.79981600182346e-7,
          1.9489752105577327e-7,
          1.3506064332321888e-7,
          9.317448213574104e-8,
          6.398981226796021e-8,
          4.3749224519393995e-8,
          2.9776630884958146e-8,
          2.017559866608597e-8,
          1.3608898596961005e-8,
          9.13829556639443e-9,
          6.108760493456701e-9,
          4.0652444942398936e-9,
          2.693183328299428e-9,
          1.7761958020153503e-9,
          1.1661688483797612e-9,
          7.62215379764197e-10,
          4.959520091796853e-10,
          3.212530615747132e-10,
          2.0715745708558642e-10,
          1.3298404602903033e-10
         ]
        }
       ],
       "layout": {
        "template": {
         "data": {
          "bar": [
           {
            "error_x": {
             "color": "#2a3f5f"
            },
            "error_y": {
             "color": "#2a3f5f"
            },
            "marker": {
             "line": {
              "color": "#E5ECF6",
              "width": 0.5
             },
             "pattern": {
              "fillmode": "overlay",
              "size": 10,
              "solidity": 0.2
             }
            },
            "type": "bar"
           }
          ],
          "barpolar": [
           {
            "marker": {
             "line": {
              "color": "#E5ECF6",
              "width": 0.5
             },
             "pattern": {
              "fillmode": "overlay",
              "size": 10,
              "solidity": 0.2
             }
            },
            "type": "barpolar"
           }
          ],
          "carpet": [
           {
            "aaxis": {
             "endlinecolor": "#2a3f5f",
             "gridcolor": "white",
             "linecolor": "white",
             "minorgridcolor": "white",
             "startlinecolor": "#2a3f5f"
            },
            "baxis": {
             "endlinecolor": "#2a3f5f",
             "gridcolor": "white",
             "linecolor": "white",
             "minorgridcolor": "white",
             "startlinecolor": "#2a3f5f"
            },
            "type": "carpet"
           }
          ],
          "choropleth": [
           {
            "colorbar": {
             "outlinewidth": 0,
             "ticks": ""
            },
            "type": "choropleth"
           }
          ],
          "contour": [
           {
            "colorbar": {
             "outlinewidth": 0,
             "ticks": ""
            },
            "colorscale": [
             [
              0,
              "#0d0887"
             ],
             [
              0.1111111111111111,
              "#46039f"
             ],
             [
              0.2222222222222222,
              "#7201a8"
             ],
             [
              0.3333333333333333,
              "#9c179e"
             ],
             [
              0.4444444444444444,
              "#bd3786"
             ],
             [
              0.5555555555555556,
              "#d8576b"
             ],
             [
              0.6666666666666666,
              "#ed7953"
             ],
             [
              0.7777777777777778,
              "#fb9f3a"
             ],
             [
              0.8888888888888888,
              "#fdca26"
             ],
             [
              1,
              "#f0f921"
             ]
            ],
            "type": "contour"
           }
          ],
          "contourcarpet": [
           {
            "colorbar": {
             "outlinewidth": 0,
             "ticks": ""
            },
            "type": "contourcarpet"
           }
          ],
          "heatmap": [
           {
            "colorbar": {
             "outlinewidth": 0,
             "ticks": ""
            },
            "colorscale": [
             [
              0,
              "#0d0887"
             ],
             [
              0.1111111111111111,
              "#46039f"
             ],
             [
              0.2222222222222222,
              "#7201a8"
             ],
             [
              0.3333333333333333,
              "#9c179e"
             ],
             [
              0.4444444444444444,
              "#bd3786"
             ],
             [
              0.5555555555555556,
              "#d8576b"
             ],
             [
              0.6666666666666666,
              "#ed7953"
             ],
             [
              0.7777777777777778,
              "#fb9f3a"
             ],
             [
              0.8888888888888888,
              "#fdca26"
             ],
             [
              1,
              "#f0f921"
             ]
            ],
            "type": "heatmap"
           }
          ],
          "heatmapgl": [
           {
            "colorbar": {
             "outlinewidth": 0,
             "ticks": ""
            },
            "colorscale": [
             [
              0,
              "#0d0887"
             ],
             [
              0.1111111111111111,
              "#46039f"
             ],
             [
              0.2222222222222222,
              "#7201a8"
             ],
             [
              0.3333333333333333,
              "#9c179e"
             ],
             [
              0.4444444444444444,
              "#bd3786"
             ],
             [
              0.5555555555555556,
              "#d8576b"
             ],
             [
              0.6666666666666666,
              "#ed7953"
             ],
             [
              0.7777777777777778,
              "#fb9f3a"
             ],
             [
              0.8888888888888888,
              "#fdca26"
             ],
             [
              1,
              "#f0f921"
             ]
            ],
            "type": "heatmapgl"
           }
          ],
          "histogram": [
           {
            "marker": {
             "pattern": {
              "fillmode": "overlay",
              "size": 10,
              "solidity": 0.2
             }
            },
            "type": "histogram"
           }
          ],
          "histogram2d": [
           {
            "colorbar": {
             "outlinewidth": 0,
             "ticks": ""
            },
            "colorscale": [
             [
              0,
              "#0d0887"
             ],
             [
              0.1111111111111111,
              "#46039f"
             ],
             [
              0.2222222222222222,
              "#7201a8"
             ],
             [
              0.3333333333333333,
              "#9c179e"
             ],
             [
              0.4444444444444444,
              "#bd3786"
             ],
             [
              0.5555555555555556,
              "#d8576b"
             ],
             [
              0.6666666666666666,
              "#ed7953"
             ],
             [
              0.7777777777777778,
              "#fb9f3a"
             ],
             [
              0.8888888888888888,
              "#fdca26"
             ],
             [
              1,
              "#f0f921"
             ]
            ],
            "type": "histogram2d"
           }
          ],
          "histogram2dcontour": [
           {
            "colorbar": {
             "outlinewidth": 0,
             "ticks": ""
            },
            "colorscale": [
             [
              0,
              "#0d0887"
             ],
             [
              0.1111111111111111,
              "#46039f"
             ],
             [
              0.2222222222222222,
              "#7201a8"
             ],
             [
              0.3333333333333333,
              "#9c179e"
             ],
             [
              0.4444444444444444,
              "#bd3786"
             ],
             [
              0.5555555555555556,
              "#d8576b"
             ],
             [
              0.6666666666666666,
              "#ed7953"
             ],
             [
              0.7777777777777778,
              "#fb9f3a"
             ],
             [
              0.8888888888888888,
              "#fdca26"
             ],
             [
              1,
              "#f0f921"
             ]
            ],
            "type": "histogram2dcontour"
           }
          ],
          "mesh3d": [
           {
            "colorbar": {
             "outlinewidth": 0,
             "ticks": ""
            },
            "type": "mesh3d"
           }
          ],
          "parcoords": [
           {
            "line": {
             "colorbar": {
              "outlinewidth": 0,
              "ticks": ""
             }
            },
            "type": "parcoords"
           }
          ],
          "pie": [
           {
            "automargin": true,
            "type": "pie"
           }
          ],
          "scatter": [
           {
            "fillpattern": {
             "fillmode": "overlay",
             "size": 10,
             "solidity": 0.2
            },
            "type": "scatter"
           }
          ],
          "scatter3d": [
           {
            "line": {
             "colorbar": {
              "outlinewidth": 0,
              "ticks": ""
             }
            },
            "marker": {
             "colorbar": {
              "outlinewidth": 0,
              "ticks": ""
             }
            },
            "type": "scatter3d"
           }
          ],
          "scattercarpet": [
           {
            "marker": {
             "colorbar": {
              "outlinewidth": 0,
              "ticks": ""
             }
            },
            "type": "scattercarpet"
           }
          ],
          "scattergeo": [
           {
            "marker": {
             "colorbar": {
              "outlinewidth": 0,
              "ticks": ""
             }
            },
            "type": "scattergeo"
           }
          ],
          "scattergl": [
           {
            "marker": {
             "colorbar": {
              "outlinewidth": 0,
              "ticks": ""
             }
            },
            "type": "scattergl"
           }
          ],
          "scattermapbox": [
           {
            "marker": {
             "colorbar": {
              "outlinewidth": 0,
              "ticks": ""
             }
            },
            "type": "scattermapbox"
           }
          ],
          "scatterpolar": [
           {
            "marker": {
             "colorbar": {
              "outlinewidth": 0,
              "ticks": ""
             }
            },
            "type": "scatterpolar"
           }
          ],
          "scatterpolargl": [
           {
            "marker": {
             "colorbar": {
              "outlinewidth": 0,
              "ticks": ""
             }
            },
            "type": "scatterpolargl"
           }
          ],
          "scatterternary": [
           {
            "marker": {
             "colorbar": {
              "outlinewidth": 0,
              "ticks": ""
             }
            },
            "type": "scatterternary"
           }
          ],
          "surface": [
           {
            "colorbar": {
             "outlinewidth": 0,
             "ticks": ""
            },
            "colorscale": [
             [
              0,
              "#0d0887"
             ],
             [
              0.1111111111111111,
              "#46039f"
             ],
             [
              0.2222222222222222,
              "#7201a8"
             ],
             [
              0.3333333333333333,
              "#9c179e"
             ],
             [
              0.4444444444444444,
              "#bd3786"
             ],
             [
              0.5555555555555556,
              "#d8576b"
             ],
             [
              0.6666666666666666,
              "#ed7953"
             ],
             [
              0.7777777777777778,
              "#fb9f3a"
             ],
             [
              0.8888888888888888,
              "#fdca26"
             ],
             [
              1,
              "#f0f921"
             ]
            ],
            "type": "surface"
           }
          ],
          "table": [
           {
            "cells": {
             "fill": {
              "color": "#EBF0F8"
             },
             "line": {
              "color": "white"
             }
            },
            "header": {
             "fill": {
              "color": "#C8D4E3"
             },
             "line": {
              "color": "white"
             }
            },
            "type": "table"
           }
          ]
         },
         "layout": {
          "annotationdefaults": {
           "arrowcolor": "#2a3f5f",
           "arrowhead": 0,
           "arrowwidth": 1
          },
          "autotypenumbers": "strict",
          "coloraxis": {
           "colorbar": {
            "outlinewidth": 0,
            "ticks": ""
           }
          },
          "colorscale": {
           "diverging": [
            [
             0,
             "#8e0152"
            ],
            [
             0.1,
             "#c51b7d"
            ],
            [
             0.2,
             "#de77ae"
            ],
            [
             0.3,
             "#f1b6da"
            ],
            [
             0.4,
             "#fde0ef"
            ],
            [
             0.5,
             "#f7f7f7"
            ],
            [
             0.6,
             "#e6f5d0"
            ],
            [
             0.7,
             "#b8e186"
            ],
            [
             0.8,
             "#7fbc41"
            ],
            [
             0.9,
             "#4d9221"
            ],
            [
             1,
             "#276419"
            ]
           ],
           "sequential": [
            [
             0,
             "#0d0887"
            ],
            [
             0.1111111111111111,
             "#46039f"
            ],
            [
             0.2222222222222222,
             "#7201a8"
            ],
            [
             0.3333333333333333,
             "#9c179e"
            ],
            [
             0.4444444444444444,
             "#bd3786"
            ],
            [
             0.5555555555555556,
             "#d8576b"
            ],
            [
             0.6666666666666666,
             "#ed7953"
            ],
            [
             0.7777777777777778,
             "#fb9f3a"
            ],
            [
             0.8888888888888888,
             "#fdca26"
            ],
            [
             1,
             "#f0f921"
            ]
           ],
           "sequentialminus": [
            [
             0,
             "#0d0887"
            ],
            [
             0.1111111111111111,
             "#46039f"
            ],
            [
             0.2222222222222222,
             "#7201a8"
            ],
            [
             0.3333333333333333,
             "#9c179e"
            ],
            [
             0.4444444444444444,
             "#bd3786"
            ],
            [
             0.5555555555555556,
             "#d8576b"
            ],
            [
             0.6666666666666666,
             "#ed7953"
            ],
            [
             0.7777777777777778,
             "#fb9f3a"
            ],
            [
             0.8888888888888888,
             "#fdca26"
            ],
            [
             1,
             "#f0f921"
            ]
           ]
          },
          "colorway": [
           "#636efa",
           "#EF553B",
           "#00cc96",
           "#ab63fa",
           "#FFA15A",
           "#19d3f3",
           "#FF6692",
           "#B6E880",
           "#FF97FF",
           "#FECB52"
          ],
          "font": {
           "color": "#2a3f5f"
          },
          "geo": {
           "bgcolor": "white",
           "lakecolor": "white",
           "landcolor": "#E5ECF6",
           "showlakes": true,
           "showland": true,
           "subunitcolor": "white"
          },
          "hoverlabel": {
           "align": "left"
          },
          "hovermode": "closest",
          "mapbox": {
           "style": "light"
          },
          "paper_bgcolor": "white",
          "plot_bgcolor": "#E5ECF6",
          "polar": {
           "angularaxis": {
            "gridcolor": "white",
            "linecolor": "white",
            "ticks": ""
           },
           "bgcolor": "#E5ECF6",
           "radialaxis": {
            "gridcolor": "white",
            "linecolor": "white",
            "ticks": ""
           }
          },
          "scene": {
           "xaxis": {
            "backgroundcolor": "#E5ECF6",
            "gridcolor": "white",
            "gridwidth": 2,
            "linecolor": "white",
            "showbackground": true,
            "ticks": "",
            "zerolinecolor": "white"
           },
           "yaxis": {
            "backgroundcolor": "#E5ECF6",
            "gridcolor": "white",
            "gridwidth": 2,
            "linecolor": "white",
            "showbackground": true,
            "ticks": "",
            "zerolinecolor": "white"
           },
           "zaxis": {
            "backgroundcolor": "#E5ECF6",
            "gridcolor": "white",
            "gridwidth": 2,
            "linecolor": "white",
            "showbackground": true,
            "ticks": "",
            "zerolinecolor": "white"
           }
          },
          "shapedefaults": {
           "line": {
            "color": "#2a3f5f"
           }
          },
          "ternary": {
           "aaxis": {
            "gridcolor": "white",
            "linecolor": "white",
            "ticks": ""
           },
           "baxis": {
            "gridcolor": "white",
            "linecolor": "white",
            "ticks": ""
           },
           "bgcolor": "#E5ECF6",
           "caxis": {
            "gridcolor": "white",
            "linecolor": "white",
            "ticks": ""
           }
          },
          "title": {
           "x": 0.05
          },
          "xaxis": {
           "automargin": true,
           "gridcolor": "white",
           "linecolor": "white",
           "ticks": "",
           "title": {
            "standoff": 15
           },
           "zerolinecolor": "white",
           "zerolinewidth": 2
          },
          "yaxis": {
           "automargin": true,
           "gridcolor": "white",
           "linecolor": "white",
           "ticks": "",
           "title": {
            "standoff": 15
           },
           "zerolinecolor": "white",
           "zerolinewidth": 2
          }
         }
        },
        "xaxis": {
         "range": [
          -15,
          14.85
         ],
         "showgrid": true,
         "title": {
          "text": "x/a₀"
         }
        },
        "yaxis": {
         "showgrid": true
        }
       }
      }
     },
     "metadata": {},
     "output_type": "display_data"
    }
   ],
   "source": [
    "qm.plot_complex_field(qm.psi)"
   ]
  },
  {
   "cell_type": "markdown",
   "metadata": {},
   "source": [
    "Evolve this for $T=15$. "
   ]
  },
  {
   "cell_type": "code",
   "execution_count": 11,
   "metadata": {},
   "outputs": [
    {
     "data": {
      "application/vnd.plotly.v1+json": {
       "config": {
        "plotlyServerURL": "https://plot.ly"
       },
       "data": [
        {
         "fill": "tozeroy",
         "fillcolor": "rgb(176,76,255)",
         "hoverinfo": "skip",
         "line": {
          "color": "rgba(0,0,0,0)"
         },
         "mode": "lines",
         "showlegend": false,
         "type": "scatter",
         "x": [
          -15,
          -14.925
         ],
         "y": [
          2.000069878334486e-10,
          2.0916206838421584e-10
         ]
        },
        {
         "fill": "tozeroy",
         "fillcolor": "rgb(176,76,255)",
         "hoverinfo": "skip",
         "line": {
          "color": "rgba(0,0,0,0)"
         },
         "mode": "lines",
         "showlegend": false,
         "type": "scatter",
         "x": [
          -14.924999999999999,
          -14.85
         ],
         "y": [
          2.0916206838421584e-10,
          2.1831714893498307e-10
         ]
        },
        {
         "fill": "tozeroy",
         "fillcolor": "rgb(176,76,255)",
         "hoverinfo": "skip",
         "line": {
          "color": "rgba(0,0,0,0)"
         },
         "mode": "lines",
         "showlegend": false,
         "type": "scatter",
         "x": [
          -14.85,
          -14.775
         ],
         "y": [
          2.1831714893498307e-10,
          2.4600068320412195e-10
         ]
        },
        {
         "fill": "tozeroy",
         "fillcolor": "rgb(176,76,255)",
         "hoverinfo": "skip",
         "line": {
          "color": "rgba(0,0,0,0)"
         },
         "mode": "lines",
         "showlegend": false,
         "type": "scatter",
         "x": [
          -14.774999999999999,
          -14.7
         ],
         "y": [
          2.4600068320412195e-10,
          2.7368421747326087e-10
         ]
        },
        {
         "fill": "tozeroy",
         "fillcolor": "rgb(176,76,255)",
         "hoverinfo": "skip",
         "line": {
          "color": "rgba(0,0,0,0)"
         },
         "mode": "lines",
         "showlegend": false,
         "type": "scatter",
         "x": [
          -14.7,
          -14.625
         ],
         "y": [
          2.7368421747326087e-10,
          3.215897046272697e-10
         ]
        },
        {
         "fill": "tozeroy",
         "fillcolor": "rgb(176,76,255)",
         "hoverinfo": "skip",
         "line": {
          "color": "rgba(0,0,0,0)"
         },
         "mode": "lines",
         "showlegend": false,
         "type": "scatter",
         "x": [
          -14.625,
          -14.55
         ],
         "y": [
          3.215897046272697e-10,
          3.6949519178127843e-10
         ]
        },
        {
         "fill": "tozeroy",
         "fillcolor": "rgb(176,76,255)",
         "hoverinfo": "skip",
         "line": {
          "color": "rgba(0,0,0,0)"
         },
         "mode": "lines",
         "showlegend": false,
         "type": "scatter",
         "x": [
          -14.55,
          -14.475000000000001
         ],
         "y": [
          3.6949519178127843e-10,
          4.509429020248071e-10
         ]
        },
        {
         "fill": "tozeroy",
         "fillcolor": "rgb(176,76,255)",
         "hoverinfo": "skip",
         "line": {
          "color": "rgba(0,0,0,0)"
         },
         "mode": "lines",
         "showlegend": false,
         "type": "scatter",
         "x": [
          -14.475,
          -14.4
         ],
         "y": [
          4.509429020248071e-10,
          5.323906122683358e-10
         ]
        },
        {
         "fill": "tozeroy",
         "fillcolor": "rgb(176,76,255)",
         "hoverinfo": "skip",
         "line": {
          "color": "rgba(0,0,0,0)"
         },
         "mode": "lines",
         "showlegend": false,
         "type": "scatter",
         "x": [
          -14.4,
          -14.325000000000001
         ],
         "y": [
          5.323906122683358e-10,
          6.60480628004254e-10
         ]
        },
        {
         "fill": "tozeroy",
         "fillcolor": "rgb(176,76,255)",
         "hoverinfo": "skip",
         "line": {
          "color": "rgba(0,0,0,0)"
         },
         "mode": "lines",
         "showlegend": false,
         "type": "scatter",
         "x": [
          -14.325,
          -14.25
         ],
         "y": [
          6.60480628004254e-10,
          7.885706437401721e-10
         ]
        },
        {
         "fill": "tozeroy",
         "fillcolor": "rgb(176,76,255)",
         "hoverinfo": "skip",
         "line": {
          "color": "rgba(0,0,0,0)"
         },
         "mode": "lines",
         "showlegend": false,
         "type": "scatter",
         "x": [
          -14.25,
          -14.175
         ],
         "y": [
          7.885706437401721e-10,
          9.86656636101439e-10
         ]
        },
        {
         "fill": "tozeroy",
         "fillcolor": "rgb(176,76,255)",
         "hoverinfo": "skip",
         "line": {
          "color": "rgba(0,0,0,0)"
         },
         "mode": "lines",
         "showlegend": false,
         "type": "scatter",
         "x": [
          -14.174999999999999,
          -14.1
         ],
         "y": [
          9.86656636101439e-10,
          1.184742628462706e-9
         ]
        },
        {
         "fill": "tozeroy",
         "fillcolor": "rgb(176,76,255)",
         "hoverinfo": "skip",
         "line": {
          "color": "rgba(0,0,0,0)"
         },
         "mode": "lines",
         "showlegend": false,
         "type": "scatter",
         "x": [
          -14.1,
          -14.025
         ],
         "y": [
          1.184742628462706e-9,
          1.4873825773121517e-9
         ]
        },
        {
         "fill": "tozeroy",
         "fillcolor": "rgb(176,76,255)",
         "hoverinfo": "skip",
         "line": {
          "color": "rgba(0,0,0,0)"
         },
         "mode": "lines",
         "showlegend": false,
         "type": "scatter",
         "x": [
          -14.024999999999999,
          -13.95
         ],
         "y": [
          1.4873825773121517e-9,
          1.790022526161597e-9
         ]
        },
        {
         "fill": "tozeroy",
         "fillcolor": "rgb(176,76,255)",
         "hoverinfo": "skip",
         "line": {
          "color": "rgba(0,0,0,0)"
         },
         "mode": "lines",
         "showlegend": false,
         "type": "scatter",
         "x": [
          -13.95,
          -13.875
         ],
         "y": [
          1.790022526161597e-9,
          2.2487414466473608e-9
         ]
        },
        {
         "fill": "tozeroy",
         "fillcolor": "rgb(176,76,255)",
         "hoverinfo": "skip",
         "line": {
          "color": "rgba(0,0,0,0)"
         },
         "mode": "lines",
         "showlegend": false,
         "type": "scatter",
         "x": [
          -13.875,
          -13.8
         ],
         "y": [
          2.2487414466473608e-9,
          2.7074603671331246e-9
         ]
        },
        {
         "fill": "tozeroy",
         "fillcolor": "rgb(176,76,255)",
         "hoverinfo": "skip",
         "line": {
          "color": "rgba(0,0,0,0)"
         },
         "mode": "lines",
         "showlegend": false,
         "type": "scatter",
         "x": [
          -13.8,
          -13.725000000000001
         ],
         "y": [
          2.7074603671331246e-9,
          3.392063606079686e-9
         ]
        },
        {
         "fill": "tozeroy",
         "fillcolor": "rgb(176,76,255)",
         "hoverinfo": "skip",
         "line": {
          "color": "rgba(0,0,0,0)"
         },
         "mode": "lines",
         "showlegend": false,
         "type": "scatter",
         "x": [
          -13.725,
          -13.65
         ],
         "y": [
          3.392063606079686e-9,
          4.076666845026248e-9
         ]
        },
        {
         "fill": "tozeroy",
         "fillcolor": "rgb(176,76,255)",
         "hoverinfo": "skip",
         "line": {
          "color": "rgba(0,0,0,0)"
         },
         "mode": "lines",
         "showlegend": false,
         "type": "scatter",
         "x": [
          -13.65,
          -13.575000000000001
         ],
         "y": [
          4.076666845026248e-9,
          5.097695740519551e-9
         ]
        },
        {
         "fill": "tozeroy",
         "fillcolor": "rgb(176,76,255)",
         "hoverinfo": "skip",
         "line": {
          "color": "rgba(0,0,0,0)"
         },
         "mode": "lines",
         "showlegend": false,
         "type": "scatter",
         "x": [
          -13.575,
          -13.5
         ],
         "y": [
          5.097695740519551e-9,
          6.118724636012853e-9
         ]
        },
        {
         "fill": "tozeroy",
         "fillcolor": "rgb(176,76,255)",
         "hoverinfo": "skip",
         "line": {
          "color": "rgba(0,0,0,0)"
         },
         "mode": "lines",
         "showlegend": false,
         "type": "scatter",
         "x": [
          -13.5,
          -13.425
         ],
         "y": [
          6.118724636012853e-9,
          7.631942410338659e-9
         ]
        },
        {
         "fill": "tozeroy",
         "fillcolor": "rgb(176,76,255)",
         "hoverinfo": "skip",
         "line": {
          "color": "rgba(0,0,0,0)"
         },
         "mode": "lines",
         "showlegend": false,
         "type": "scatter",
         "x": [
          -13.424999999999999,
          -13.35
         ],
         "y": [
          7.631942410338659e-9,
          9.145160184664467e-9
         ]
        },
        {
         "fill": "tozeroy",
         "fillcolor": "rgb(176,76,255)",
         "hoverinfo": "skip",
         "line": {
          "color": "rgba(0,0,0,0)"
         },
         "mode": "lines",
         "showlegend": false,
         "type": "scatter",
         "x": [
          -13.35,
          -13.275
         ],
         "y": [
          9.145160184664467e-9,
          1.1377671196436534e-8
         ]
        },
        {
         "fill": "tozeroy",
         "fillcolor": "rgb(176,76,255)",
         "hoverinfo": "skip",
         "line": {
          "color": "rgba(0,0,0,0)"
         },
         "mode": "lines",
         "showlegend": false,
         "type": "scatter",
         "x": [
          -13.274999999999999,
          -13.2
         ],
         "y": [
          1.1377671196436534e-8,
          1.3610182208208604e-8
         ]
        },
        {
         "fill": "tozeroy",
         "fillcolor": "rgb(176,76,255)",
         "hoverinfo": "skip",
         "line": {
          "color": "rgba(0,0,0,0)"
         },
         "mode": "lines",
         "showlegend": false,
         "type": "scatter",
         "x": [
          -13.2,
          -13.125
         ],
         "y": [
          1.3610182208208604e-8,
          1.688916282953851e-8
         ]
        },
        {
         "fill": "tozeroy",
         "fillcolor": "rgb(176,76,255)",
         "hoverinfo": "skip",
         "line": {
          "color": "rgba(0,0,0,0)"
         },
         "mode": "lines",
         "showlegend": false,
         "type": "scatter",
         "x": [
          -13.125,
          -13.05
         ],
         "y": [
          1.688916282953851e-8,
          2.0168143450868413e-8
         ]
        },
        {
         "fill": "tozeroy",
         "fillcolor": "rgb(176,76,255)",
         "hoverinfo": "skip",
         "line": {
          "color": "rgba(0,0,0,0)"
         },
         "mode": "lines",
         "showlegend": false,
         "type": "scatter",
         "x": [
          -13.05,
          -12.975000000000001
         ],
         "y": [
          2.0168143450868413e-8,
          2.496011722065415e-8
         ]
        },
        {
         "fill": "tozeroy",
         "fillcolor": "rgb(176,76,255)",
         "hoverinfo": "skip",
         "line": {
          "color": "rgba(0,0,0,0)"
         },
         "mode": "lines",
         "showlegend": false,
         "type": "scatter",
         "x": [
          -12.975,
          -12.9
         ],
         "y": [
          2.496011722065415e-8,
          2.975209099043989e-8
         ]
        },
        {
         "fill": "tozeroy",
         "fillcolor": "rgb(176,76,255)",
         "hoverinfo": "skip",
         "line": {
          "color": "rgba(0,0,0,0)"
         },
         "mode": "lines",
         "showlegend": false,
         "type": "scatter",
         "x": [
          -12.9,
          -12.825000000000001
         ],
         "y": [
          2.975209099043989e-8,
          3.6730321376378e-8
         ]
        },
        {
         "fill": "tozeroy",
         "fillcolor": "rgb(176,76,255)",
         "hoverinfo": "skip",
         "line": {
          "color": "rgba(0,0,0,0)"
         },
         "mode": "lines",
         "showlegend": false,
         "type": "scatter",
         "x": [
          -12.825,
          -12.75
         ],
         "y": [
          3.6730321376378e-8,
          4.3708551762316123e-8
         ]
        },
        {
         "fill": "tozeroy",
         "fillcolor": "rgb(176,76,255)",
         "hoverinfo": "skip",
         "line": {
          "color": "rgba(0,0,0,0)"
         },
         "mode": "lines",
         "showlegend": false,
         "type": "scatter",
         "x": [
          -12.75,
          -12.675
         ],
         "y": [
          4.3708551762316123e-8,
          5.381988005519576e-8
         ]
        },
        {
         "fill": "tozeroy",
         "fillcolor": "rgb(176,76,255)",
         "hoverinfo": "skip",
         "line": {
          "color": "rgba(0,0,0,0)"
         },
         "mode": "lines",
         "showlegend": false,
         "type": "scatter",
         "x": [
          -12.674999999999999,
          -12.6
         ],
         "y": [
          5.381988005519576e-8,
          6.39312083480754e-8
         ]
        },
        {
         "fill": "tozeroy",
         "fillcolor": "rgb(176,76,255)",
         "hoverinfo": "skip",
         "line": {
          "color": "rgba(0,0,0,0)"
         },
         "mode": "lines",
         "showlegend": false,
         "type": "scatter",
         "x": [
          -12.6,
          -12.525
         ],
         "y": [
          6.39312083480754e-8,
          7.851255068745957e-8
         ]
        },
        {
         "fill": "tozeroy",
         "fillcolor": "rgb(176,76,255)",
         "hoverinfo": "skip",
         "line": {
          "color": "rgba(0,0,0,0)"
         },
         "mode": "lines",
         "showlegend": false,
         "type": "scatter",
         "x": [
          -12.524999999999999,
          -12.45
         ],
         "y": [
          7.851255068745957e-8,
          9.309389302684374e-8
         ]
        },
        {
         "fill": "tozeroy",
         "fillcolor": "rgb(176,76,255)",
         "hoverinfo": "skip",
         "line": {
          "color": "rgba(0,0,0,0)"
         },
         "mode": "lines",
         "showlegend": false,
         "type": "scatter",
         "x": [
          -12.45,
          -12.375
         ],
         "y": [
          9.309389302684374e-8,
          1.1402287246880378e-7
         ]
        },
        {
         "fill": "tozeroy",
         "fillcolor": "rgb(176,76,255)",
         "hoverinfo": "skip",
         "line": {
          "color": "rgba(0,0,0,0)"
         },
         "mode": "lines",
         "showlegend": false,
         "type": "scatter",
         "x": [
          -12.375,
          -12.3
         ],
         "y": [
          1.1402287246880378e-7,
          1.349518519107638e-7
         ]
        },
        {
         "fill": "tozeroy",
         "fillcolor": "rgb(176,76,255)",
         "hoverinfo": "skip",
         "line": {
          "color": "rgba(0,0,0,0)"
         },
         "mode": "lines",
         "showlegend": false,
         "type": "scatter",
         "x": [
          -12.3,
          -12.225000000000001
         ],
         "y": [
          1.349518519107638e-7,
          1.648549907536094e-7
         ]
        },
        {
         "fill": "tozeroy",
         "fillcolor": "rgb(176,76,255)",
         "hoverinfo": "skip",
         "line": {
          "color": "rgba(0,0,0,0)"
         },
         "mode": "lines",
         "showlegend": false,
         "type": "scatter",
         "x": [
          -12.225,
          -12.15
         ],
         "y": [
          1.648549907536094e-7,
          1.9475812959645495e-7
         ]
        },
        {
         "fill": "tozeroy",
         "fillcolor": "rgb(176,76,255)",
         "hoverinfo": "skip",
         "line": {
          "color": "rgba(0,0,0,0)"
         },
         "mode": "lines",
         "showlegend": false,
         "type": "scatter",
         "x": [
          -12.15,
          -12.075000000000001
         ],
         "y": [
          1.9475812959645495e-7,
          2.3727841430651159e-7
         ]
        },
        {
         "fill": "tozeroy",
         "fillcolor": "rgb(176,76,255)",
         "hoverinfo": "skip",
         "line": {
          "color": "rgba(0,0,0,0)"
         },
         "mode": "lines",
         "showlegend": false,
         "type": "scatter",
         "x": [
          -12.075,
          -12
         ],
         "y": [
          2.3727841430651159e-7,
          2.797986990165682e-7
         ]
        },
        {
         "fill": "tozeroy",
         "fillcolor": "rgb(176,76,255)",
         "hoverinfo": "skip",
         "line": {
          "color": "rgba(0,0,0,0)"
         },
         "mode": "lines",
         "showlegend": false,
         "type": "scatter",
         "x": [
          -12,
          -11.925
         ],
         "y": [
          2.797986990165682e-7,
          3.3998169798275856e-7
         ]
        },
        {
         "fill": "tozeroy",
         "fillcolor": "rgb(176,76,255)",
         "hoverinfo": "skip",
         "line": {
          "color": "rgba(0,0,0,0)"
         },
         "mode": "lines",
         "showlegend": false,
         "type": "scatter",
         "x": [
          -11.924999999999999,
          -11.85
         ],
         "y": [
          3.3998169798275856e-7,
          4.001646969489489e-7
         ]
        },
        {
         "fill": "tozeroy",
         "fillcolor": "rgb(176,76,255)",
         "hoverinfo": "skip",
         "line": {
          "color": "rgba(0,0,0,0)"
         },
         "mode": "lines",
         "showlegend": false,
         "type": "scatter",
         "x": [
          -11.85,
          -11.775
         ],
         "y": [
          4.001646969489489e-7,
          4.849524514106375e-7
         ]
        },
        {
         "fill": "tozeroy",
         "fillcolor": "rgb(176,76,255)",
         "hoverinfo": "skip",
         "line": {
          "color": "rgba(0,0,0,0)"
         },
         "mode": "lines",
         "showlegend": false,
         "type": "scatter",
         "x": [
          -11.774999999999999,
          -11.7
         ],
         "y": [
          4.849524514106375e-7,
          5.69740205872326e-7
         ]
        },
        {
         "fill": "tozeroy",
         "fillcolor": "rgb(176,76,255)",
         "hoverinfo": "skip",
         "line": {
          "color": "rgba(0,0,0,0)"
         },
         "mode": "lines",
         "showlegend": false,
         "type": "scatter",
         "x": [
          -11.7,
          -11.625
         ],
         "y": [
          5.69740205872326e-7,
          6.88631169210026e-7
         ]
        },
        {
         "fill": "tozeroy",
         "fillcolor": "rgb(176,76,255)",
         "hoverinfo": "skip",
         "line": {
          "color": "rgba(0,0,0,0)"
         },
         "mode": "lines",
         "showlegend": false,
         "type": "scatter",
         "x": [
          -11.625,
          -11.55
         ],
         "y": [
          6.88631169210026e-7,
          8.075221325477262e-7
         ]
        },
        {
         "fill": "tozeroy",
         "fillcolor": "rgb(176,76,255)",
         "hoverinfo": "skip",
         "line": {
          "color": "rgba(0,0,0,0)"
         },
         "mode": "lines",
         "showlegend": false,
         "type": "scatter",
         "x": [
          -11.55,
          -11.475000000000001
         ],
         "y": [
          8.075221325477262e-7,
          9.734574226825565e-7
         ]
        },
        {
         "fill": "tozeroy",
         "fillcolor": "rgb(176,76,255)",
         "hoverinfo": "skip",
         "line": {
          "color": "rgba(0,0,0,0)"
         },
         "mode": "lines",
         "showlegend": false,
         "type": "scatter",
         "x": [
          -11.475,
          -11.4
         ],
         "y": [
          9.734574226825565e-7,
          0.0000011393927128173867
         ]
        },
        {
         "fill": "tozeroy",
         "fillcolor": "rgb(176,76,255)",
         "hoverinfo": "skip",
         "line": {
          "color": "rgba(0,0,0,0)"
         },
         "mode": "lines",
         "showlegend": false,
         "type": "scatter",
         "x": [
          -11.4,
          -11.325000000000001
         ],
         "y": [
          0.0000011393927128173867,
          0.0000013699137573621329
         ]
        },
        {
         "fill": "tozeroy",
         "fillcolor": "rgb(176,76,255)",
         "hoverinfo": "skip",
         "line": {
          "color": "rgba(0,0,0,0)"
         },
         "mode": "lines",
         "showlegend": false,
         "type": "scatter",
         "x": [
          -11.325,
          -11.25
         ],
         "y": [
          0.0000013699137573621329,
          0.0000016004348019068793
         ]
        },
        {
         "fill": "tozeroy",
         "fillcolor": "rgb(176,76,255)",
         "hoverinfo": "skip",
         "line": {
          "color": "rgba(0,0,0,0)"
         },
         "mode": "lines",
         "showlegend": false,
         "type": "scatter",
         "x": [
          -11.25,
          -11.175
         ],
         "y": [
          0.0000016004348019068793,
          0.0000019191828344946664
         ]
        },
        {
         "fill": "tozeroy",
         "fillcolor": "rgb(176,76,255)",
         "hoverinfo": "skip",
         "line": {
          "color": "rgba(0,0,0,0)"
         },
         "mode": "lines",
         "showlegend": false,
         "type": "scatter",
         "x": [
          -11.174999999999999,
          -11.1
         ],
         "y": [
          0.0000019191828344946664,
          0.0000022379308670824536
         ]
        },
        {
         "fill": "tozeroy",
         "fillcolor": "rgb(176,76,255)",
         "hoverinfo": "skip",
         "line": {
          "color": "rgba(0,0,0,0)"
         },
         "mode": "lines",
         "showlegend": false,
         "type": "scatter",
         "x": [
          -11.1,
          -11.025
         ],
         "y": [
          0.0000022379308670824536,
          0.0000026766177869065373
         ]
        },
        {
         "fill": "tozeroy",
         "fillcolor": "rgb(176,76,255)",
         "hoverinfo": "skip",
         "line": {
          "color": "rgba(0,0,0,0)"
         },
         "mode": "lines",
         "showlegend": false,
         "type": "scatter",
         "x": [
          -11.024999999999999,
          -10.95
         ],
         "y": [
          0.0000026766177869065373,
          0.000003115304706730621
         ]
        },
        {
         "fill": "tozeroy",
         "fillcolor": "rgb(176,76,255)",
         "hoverinfo": "skip",
         "line": {
          "color": "rgba(0,0,0,0)"
         },
         "mode": "lines",
         "showlegend": false,
         "type": "scatter",
         "x": [
          -10.95,
          -10.875
         ],
         "y": [
          0.000003115304706730621,
          0.0000037162393571357748
         ]
        },
        {
         "fill": "tozeroy",
         "fillcolor": "rgb(176,76,255)",
         "hoverinfo": "skip",
         "line": {
          "color": "rgba(0,0,0,0)"
         },
         "mode": "lines",
         "showlegend": false,
         "type": "scatter",
         "x": [
          -10.875,
          -10.8
         ],
         "y": [
          0.0000037162393571357748,
          0.000004317174007540928
         ]
        },
        {
         "fill": "tozeroy",
         "fillcolor": "rgb(176,76,255)",
         "hoverinfo": "skip",
         "line": {
          "color": "rgba(0,0,0,0)"
         },
         "mode": "lines",
         "showlegend": false,
         "type": "scatter",
         "x": [
          -10.8,
          -10.725000000000001
         ],
         "y": [
          0.000004317174007540928,
          0.000005136513625624277
         ]
        },
        {
         "fill": "tozeroy",
         "fillcolor": "rgb(176,76,255)",
         "hoverinfo": "skip",
         "line": {
          "color": "rgba(0,0,0,0)"
         },
         "mode": "lines",
         "showlegend": false,
         "type": "scatter",
         "x": [
          -10.725,
          -10.65
         ],
         "y": [
          0.000005136513625624277,
          0.0000059558532437076265
         ]
        },
        {
         "fill": "tozeroy",
         "fillcolor": "rgb(176,76,255)",
         "hoverinfo": "skip",
         "line": {
          "color": "rgba(0,0,0,0)"
         },
         "mode": "lines",
         "showlegend": false,
         "type": "scatter",
         "x": [
          -10.65,
          -10.575000000000001
         ],
         "y": [
          0.0000059558532437076265,
          0.000007067738858645186
         ]
        },
        {
         "fill": "tozeroy",
         "fillcolor": "rgb(176,76,255)",
         "hoverinfo": "skip",
         "line": {
          "color": "rgba(0,0,0,0)"
         },
         "mode": "lines",
         "showlegend": false,
         "type": "scatter",
         "x": [
          -10.575,
          -10.5
         ],
         "y": [
          0.000007067738858645186,
          0.000008179624473582746
         ]
        },
        {
         "fill": "tozeroy",
         "fillcolor": "rgb(176,76,255)",
         "hoverinfo": "skip",
         "line": {
          "color": "rgba(0,0,0,0)"
         },
         "mode": "lines",
         "showlegend": false,
         "type": "scatter",
         "x": [
          -10.5,
          -10.425
         ],
         "y": [
          0.000008179624473582746,
          0.000009681438558715804
         ]
        },
        {
         "fill": "tozeroy",
         "fillcolor": "rgb(176,76,255)",
         "hoverinfo": "skip",
         "line": {
          "color": "rgba(0,0,0,0)"
         },
         "mode": "lines",
         "showlegend": false,
         "type": "scatter",
         "x": [
          -10.425,
          -10.350000000000001
         ],
         "y": [
          0.000009681438558715804,
          0.000011183252643848863
         ]
        },
        {
         "fill": "tozeroy",
         "fillcolor": "rgb(176,76,255)",
         "hoverinfo": "skip",
         "line": {
          "color": "rgba(0,0,0,0)"
         },
         "mode": "lines",
         "showlegend": false,
         "type": "scatter",
         "x": [
          -10.350000000000001,
          -10.275000000000002
         ],
         "y": [
          0.000011183252643848863,
          0.000013202213142131704
         ]
        },
        {
         "fill": "tozeroy",
         "fillcolor": "rgb(176,76,255)",
         "hoverinfo": "skip",
         "line": {
          "color": "rgba(0,0,0,0)"
         },
         "mode": "lines",
         "showlegend": false,
         "type": "scatter",
         "x": [
          -10.274999999999999,
          -10.2
         ],
         "y": [
          0.000013202213142131704,
          0.000015221173640414546
         ]
        },
        {
         "fill": "tozeroy",
         "fillcolor": "rgb(176,76,255)",
         "hoverinfo": "skip",
         "line": {
          "color": "rgba(0,0,0,0)"
         },
         "mode": "lines",
         "showlegend": false,
         "type": "scatter",
         "x": [
          -10.2,
          -10.125
         ],
         "y": [
          0.000015221173640414546,
          0.000017922598095996688
         ]
        },
        {
         "fill": "tozeroy",
         "fillcolor": "rgb(176,76,255)",
         "hoverinfo": "skip",
         "line": {
          "color": "rgba(0,0,0,0)"
         },
         "mode": "lines",
         "showlegend": false,
         "type": "scatter",
         "x": [
          -10.125,
          -10.05
         ],
         "y": [
          0.000017922598095996688,
          0.000020624022551578827
         ]
        },
        {
         "fill": "tozeroy",
         "fillcolor": "rgb(176,76,255)",
         "hoverinfo": "skip",
         "line": {
          "color": "rgba(0,0,0,0)"
         },
         "mode": "lines",
         "showlegend": false,
         "type": "scatter",
         "x": [
          -10.05,
          -9.975000000000001
         ],
         "y": [
          0.000020624022551578827,
          0.00002422158410730269
         ]
        },
        {
         "fill": "tozeroy",
         "fillcolor": "rgb(176,76,255)",
         "hoverinfo": "skip",
         "line": {
          "color": "rgba(0,0,0,0)"
         },
         "mode": "lines",
         "showlegend": false,
         "type": "scatter",
         "x": [
          -9.975,
          -9.9
         ],
         "y": [
          0.00002422158410730269,
          0.00002781914566302655
         ]
        },
        {
         "fill": "tozeroy",
         "fillcolor": "rgb(176,76,255)",
         "hoverinfo": "skip",
         "line": {
          "color": "rgba(0,0,0,0)"
         },
         "mode": "lines",
         "showlegend": false,
         "type": "scatter",
         "x": [
          -9.9,
          -9.825000000000001
         ],
         "y": [
          0.00002781914566302655,
          0.000032587531570990254
         ]
        },
        {
         "fill": "tozeroy",
         "fillcolor": "rgb(176,76,255)",
         "hoverinfo": "skip",
         "line": {
          "color": "rgba(0,0,0,0)"
         },
         "mode": "lines",
         "showlegend": false,
         "type": "scatter",
         "x": [
          -9.825,
          -9.75
         ],
         "y": [
          0.000032587531570990254,
          0.00003735591747895395
         ]
        },
        {
         "fill": "tozeroy",
         "fillcolor": "rgb(176,76,255)",
         "hoverinfo": "skip",
         "line": {
          "color": "rgba(0,0,0,0)"
         },
         "mode": "lines",
         "showlegend": false,
         "type": "scatter",
         "x": [
          -9.75,
          -9.675
         ],
         "y": [
          0.00003735591747895395,
          0.000043646338066848206
         ]
        },
        {
         "fill": "tozeroy",
         "fillcolor": "rgb(176,76,255)",
         "hoverinfo": "skip",
         "line": {
          "color": "rgba(0,0,0,0)"
         },
         "mode": "lines",
         "showlegend": false,
         "type": "scatter",
         "x": [
          -9.675,
          -9.600000000000001
         ],
         "y": [
          0.000043646338066848206,
          0.00004993675865474246
         ]
        },
        {
         "fill": "tozeroy",
         "fillcolor": "rgb(176,76,255)",
         "hoverinfo": "skip",
         "line": {
          "color": "rgba(0,0,0,0)"
         },
         "mode": "lines",
         "showlegend": false,
         "type": "scatter",
         "x": [
          -9.600000000000001,
          -9.525000000000002
         ],
         "y": [
          0.00004993675865474246,
          0.00005819579566838618
         ]
        },
        {
         "fill": "tozeroy",
         "fillcolor": "rgb(176,76,255)",
         "hoverinfo": "skip",
         "line": {
          "color": "rgba(0,0,0,0)"
         },
         "mode": "lines",
         "showlegend": false,
         "type": "scatter",
         "x": [
          -9.524999999999999,
          -9.45
         ],
         "y": [
          0.00005819579566838618,
          0.00006645483268202989
         ]
        },
        {
         "fill": "tozeroy",
         "fillcolor": "rgb(176,76,255)",
         "hoverinfo": "skip",
         "line": {
          "color": "rgba(0,0,0,0)"
         },
         "mode": "lines",
         "showlegend": false,
         "type": "scatter",
         "x": [
          -9.45,
          -9.375
         ],
         "y": [
          0.00006645483268202989,
          0.00007724721834436077
         ]
        },
        {
         "fill": "tozeroy",
         "fillcolor": "rgb(176,76,255)",
         "hoverinfo": "skip",
         "line": {
          "color": "rgba(0,0,0,0)"
         },
         "mode": "lines",
         "showlegend": false,
         "type": "scatter",
         "x": [
          -9.375,
          -9.3
         ],
         "y": [
          0.00007724721834436077,
          0.00008803960400669164
         ]
        },
        {
         "fill": "tozeroy",
         "fillcolor": "rgb(176,76,255)",
         "hoverinfo": "skip",
         "line": {
          "color": "rgba(0,0,0,0)"
         },
         "mode": "lines",
         "showlegend": false,
         "type": "scatter",
         "x": [
          -9.3,
          -9.225000000000001
         ],
         "y": [
          0.00008803960400669164,
          0.00010207550686201105
         ]
        },
        {
         "fill": "tozeroy",
         "fillcolor": "rgb(176,76,255)",
         "hoverinfo": "skip",
         "line": {
          "color": "rgba(0,0,0,0)"
         },
         "mode": "lines",
         "showlegend": false,
         "type": "scatter",
         "x": [
          -9.225,
          -9.15
         ],
         "y": [
          0.00010207550686201105,
          0.00011611140971733047
         ]
        },
        {
         "fill": "tozeroy",
         "fillcolor": "rgb(176,76,255)",
         "hoverinfo": "skip",
         "line": {
          "color": "rgba(0,0,0,0)"
         },
         "mode": "lines",
         "showlegend": false,
         "type": "scatter",
         "x": [
          -9.15,
          -9.075000000000001
         ],
         "y": [
          0.00011611140971733047,
          0.00013427888546766007
         ]
        },
        {
         "fill": "tozeroy",
         "fillcolor": "rgb(176,76,255)",
         "hoverinfo": "skip",
         "line": {
          "color": "rgba(0,0,0,0)"
         },
         "mode": "lines",
         "showlegend": false,
         "type": "scatter",
         "x": [
          -9.075,
          -9
         ],
         "y": [
          0.00013427888546766007,
          0.00015244636121798964
         ]
        },
        {
         "fill": "tozeroy",
         "fillcolor": "rgb(176,76,255)",
         "hoverinfo": "skip",
         "line": {
          "color": "rgba(0,0,0,0)"
         },
         "mode": "lines",
         "showlegend": false,
         "type": "scatter",
         "x": [
          -9,
          -8.925
         ],
         "y": [
          0.00015244636121798964,
          0.0001758496096250978
         ]
        },
        {
         "fill": "tozeroy",
         "fillcolor": "rgb(176,76,255)",
         "hoverinfo": "skip",
         "line": {
          "color": "rgba(0,0,0,0)"
         },
         "mode": "lines",
         "showlegend": false,
         "type": "scatter",
         "x": [
          -8.925,
          -8.850000000000001
         ],
         "y": [
          0.0001758496096250978,
          0.00019925285803220594
         ]
        },
        {
         "fill": "tozeroy",
         "fillcolor": "rgb(176,76,255)",
         "hoverinfo": "skip",
         "line": {
          "color": "rgba(0,0,0,0)"
         },
         "mode": "lines",
         "showlegend": false,
         "type": "scatter",
         "x": [
          -8.850000000000001,
          -8.775000000000002
         ],
         "y": [
          0.00019925285803220594,
          0.00022925699153587614
         ]
        },
        {
         "fill": "tozeroy",
         "fillcolor": "rgb(176,76,255)",
         "hoverinfo": "skip",
         "line": {
          "color": "rgba(0,0,0,0)"
         },
         "mode": "lines",
         "showlegend": false,
         "type": "scatter",
         "x": [
          -8.774999999999999,
          -8.7
         ],
         "y": [
          0.00022925699153587614,
          0.00025926112503954637
         ]
        },
        {
         "fill": "tozeroy",
         "fillcolor": "rgb(176,76,255)",
         "hoverinfo": "skip",
         "line": {
          "color": "rgba(0,0,0,0)"
         },
         "mode": "lines",
         "showlegend": false,
         "type": "scatter",
         "x": [
          -8.7,
          -8.625
         ],
         "y": [
          0.00025926112503954637,
          0.00029754406882410566
         ]
        },
        {
         "fill": "tozeroy",
         "fillcolor": "rgb(176,76,255)",
         "hoverinfo": "skip",
         "line": {
          "color": "rgba(0,0,0,0)"
         },
         "mode": "lines",
         "showlegend": false,
         "type": "scatter",
         "x": [
          -8.625,
          -8.55
         ],
         "y": [
          0.00029754406882410566,
          0.000335827012608665
         ]
        },
        {
         "fill": "tozeroy",
         "fillcolor": "rgb(176,76,255)",
         "hoverinfo": "skip",
         "line": {
          "color": "rgba(0,0,0,0)"
         },
         "mode": "lines",
         "showlegend": false,
         "type": "scatter",
         "x": [
          -8.55,
          -8.475000000000001
         ],
         "y": [
          0.000335827012608665,
          0.00038443910117725905
         ]
        },
        {
         "fill": "tozeroy",
         "fillcolor": "rgb(176,76,255)",
         "hoverinfo": "skip",
         "line": {
          "color": "rgba(0,0,0,0)"
         },
         "mode": "lines",
         "showlegend": false,
         "type": "scatter",
         "x": [
          -8.475,
          -8.4
         ],
         "y": [
          0.00038443910117725905,
          0.00043305118974585314
         ]
        },
        {
         "fill": "tozeroy",
         "fillcolor": "rgb(176,76,255)",
         "hoverinfo": "skip",
         "line": {
          "color": "rgba(0,0,0,0)"
         },
         "mode": "lines",
         "showlegend": false,
         "type": "scatter",
         "x": [
          -8.4,
          -8.325000000000001
         ],
         "y": [
          0.00043305118974585314,
          0.000494483007002709
         ]
        },
        {
         "fill": "tozeroy",
         "fillcolor": "rgb(176,76,255)",
         "hoverinfo": "skip",
         "line": {
          "color": "rgba(0,0,0,0)"
         },
         "mode": "lines",
         "showlegend": false,
         "type": "scatter",
         "x": [
          -8.325,
          -8.25
         ],
         "y": [
          0.000494483007002709,
          0.0005559148242595648
         ]
        },
        {
         "fill": "tozeroy",
         "fillcolor": "rgb(176,76,255)",
         "hoverinfo": "skip",
         "line": {
          "color": "rgba(0,0,0,0)"
         },
         "mode": "lines",
         "showlegend": false,
         "type": "scatter",
         "x": [
          -8.25,
          -8.175
         ],
         "y": [
          0.0005559148242595648,
          0.000633173556067639
         ]
        },
        {
         "fill": "tozeroy",
         "fillcolor": "rgb(176,76,255)",
         "hoverinfo": "skip",
         "line": {
          "color": "rgba(0,0,0,0)"
         },
         "mode": "lines",
         "showlegend": false,
         "type": "scatter",
         "x": [
          -8.175,
          -8.100000000000001
         ],
         "y": [
          0.000633173556067639,
          0.0007104322878757132
         ]
        },
        {
         "fill": "tozeroy",
         "fillcolor": "rgb(176,76,255)",
         "hoverinfo": "skip",
         "line": {
          "color": "rgba(0,0,0,0)"
         },
         "mode": "lines",
         "showlegend": false,
         "type": "scatter",
         "x": [
          -8.100000000000001,
          -8.025000000000002
         ],
         "y": [
          0.0007104322878757132,
          0.0008071267772271339
         ]
        },
        {
         "fill": "tozeroy",
         "fillcolor": "rgb(176,76,255)",
         "hoverinfo": "skip",
         "line": {
          "color": "rgba(0,0,0,0)"
         },
         "mode": "lines",
         "showlegend": false,
         "type": "scatter",
         "x": [
          -8.025,
          -7.95
         ],
         "y": [
          0.0008071267772271339,
          0.0009038212665785547
         ]
        },
        {
         "fill": "tozeroy",
         "fillcolor": "rgb(176,76,255)",
         "hoverinfo": "skip",
         "line": {
          "color": "rgba(0,0,0,0)"
         },
         "mode": "lines",
         "showlegend": false,
         "type": "scatter",
         "x": [
          -7.95,
          -7.875
         ],
         "y": [
          0.0009038212665785547,
          0.0010242556002666829
         ]
        },
        {
         "fill": "tozeroy",
         "fillcolor": "rgb(176,76,255)",
         "hoverinfo": "skip",
         "line": {
          "color": "rgba(0,0,0,0)"
         },
         "mode": "lines",
         "showlegend": false,
         "type": "scatter",
         "x": [
          -7.875000000000001,
          -7.800000000000001
         ],
         "y": [
          0.0010242556002666829,
          0.001144689933954811
         ]
        },
        {
         "fill": "tozeroy",
         "fillcolor": "rgb(176,76,255)",
         "hoverinfo": "skip",
         "line": {
          "color": "rgba(0,0,0,0)"
         },
         "mode": "lines",
         "showlegend": false,
         "type": "scatter",
         "x": [
          -7.800000000000001,
          -7.7250000000000005
         ],
         "y": [
          0.001144689933954811,
          0.0012939650806151107
         ]
        },
        {
         "fill": "tozeroy",
         "fillcolor": "rgb(176,76,255)",
         "hoverinfo": "skip",
         "line": {
          "color": "rgba(0,0,0,0)"
         },
         "mode": "lines",
         "showlegend": false,
         "type": "scatter",
         "x": [
          -7.7250000000000005,
          -7.65
         ],
         "y": [
          0.0012939650806151107,
          0.0014432402272754107
         ]
        },
        {
         "fill": "tozeroy",
         "fillcolor": "rgb(176,76,255)",
         "hoverinfo": "skip",
         "line": {
          "color": "rgba(0,0,0,0)"
         },
         "mode": "lines",
         "showlegend": false,
         "type": "scatter",
         "x": [
          -7.65,
          -7.575
         ],
         "y": [
          0.0014432402272754107,
          0.0016273628428747104
         ]
        },
        {
         "fill": "tozeroy",
         "fillcolor": "rgb(176,76,255)",
         "hoverinfo": "skip",
         "line": {
          "color": "rgba(0,0,0,0)"
         },
         "mode": "lines",
         "showlegend": false,
         "type": "scatter",
         "x": [
          -7.575,
          -7.5
         ],
         "y": [
          0.0016273628428747104,
          0.0018114854584740099
         ]
        },
        {
         "fill": "tozeroy",
         "fillcolor": "rgb(176,76,255)",
         "hoverinfo": "skip",
         "line": {
          "color": "rgba(0,0,0,0)"
         },
         "mode": "lines",
         "showlegend": false,
         "type": "scatter",
         "x": [
          -7.5,
          -7.425
         ],
         "y": [
          0.0018114854584740099,
          0.0020374824542009717
         ]
        },
        {
         "fill": "tozeroy",
         "fillcolor": "rgb(176,76,255)",
         "hoverinfo": "skip",
         "line": {
          "color": "rgba(0,0,0,0)"
         },
         "mode": "lines",
         "showlegend": false,
         "type": "scatter",
         "x": [
          -7.425000000000001,
          -7.3500000000000005
         ],
         "y": [
          0.0020374824542009717,
          0.0022634794499279336
         ]
        },
        {
         "fill": "tozeroy",
         "fillcolor": "rgb(176,76,255)",
         "hoverinfo": "skip",
         "line": {
          "color": "rgba(0,0,0,0)"
         },
         "mode": "lines",
         "showlegend": false,
         "type": "scatter",
         "x": [
          -7.3500000000000005,
          -7.275
         ],
         "y": [
          0.0022634794499279336,
          0.0025395163572469216
         ]
        },
        {
         "fill": "tozeroy",
         "fillcolor": "rgb(176,76,255)",
         "hoverinfo": "skip",
         "line": {
          "color": "rgba(0,0,0,0)"
         },
         "mode": "lines",
         "showlegend": false,
         "type": "scatter",
         "x": [
          -7.275,
          -7.2
         ],
         "y": [
          0.0025395163572469216,
          0.00281555326456591
         ]
        },
        {
         "fill": "tozeroy",
         "fillcolor": "rgb(176,76,255)",
         "hoverinfo": "skip",
         "line": {
          "color": "rgba(0,0,0,0)"
         },
         "mode": "lines",
         "showlegend": false,
         "type": "scatter",
         "x": [
          -7.2,
          -7.125
         ],
         "y": [
          0.00281555326456591,
          0.003151053802463554
         ]
        },
        {
         "fill": "tozeroy",
         "fillcolor": "rgb(176,76,255)",
         "hoverinfo": "skip",
         "line": {
          "color": "rgba(0,0,0,0)"
         },
         "mode": "lines",
         "showlegend": false,
         "type": "scatter",
         "x": [
          -7.125000000000001,
          -7.050000000000001
         ],
         "y": [
          0.003151053802463554,
          0.003486554340361198
         ]
        },
        {
         "fill": "tozeroy",
         "fillcolor": "rgb(176,76,255)",
         "hoverinfo": "skip",
         "line": {
          "color": "rgba(0,0,0,0)"
         },
         "mode": "lines",
         "showlegend": false,
         "type": "scatter",
         "x": [
          -7.050000000000001,
          -6.9750000000000005
         ],
         "y": [
          0.003486554340361198,
          0.0038923178734785223
         ]
        },
        {
         "fill": "tozeroy",
         "fillcolor": "rgb(176,76,255)",
         "hoverinfo": "skip",
         "line": {
          "color": "rgba(0,0,0,0)"
         },
         "mode": "lines",
         "showlegend": false,
         "type": "scatter",
         "x": [
          -6.9750000000000005,
          -6.9
         ],
         "y": [
          0.0038923178734785223,
          0.004298081406595847
         ]
        },
        {
         "fill": "tozeroy",
         "fillcolor": "rgb(176,76,255)",
         "hoverinfo": "skip",
         "line": {
          "color": "rgba(0,0,0,0)"
         },
         "mode": "lines",
         "showlegend": false,
         "type": "scatter",
         "x": [
          -6.9,
          -6.825
         ],
         "y": [
          0.004298081406595847,
          0.004786394275650127
         ]
        },
        {
         "fill": "tozeroy",
         "fillcolor": "rgb(176,76,255)",
         "hoverinfo": "skip",
         "line": {
          "color": "rgba(0,0,0,0)"
         },
         "mode": "lines",
         "showlegend": false,
         "type": "scatter",
         "x": [
          -6.825,
          -6.75
         ],
         "y": [
          0.004786394275650127,
          0.005274707144704407
         ]
        },
        {
         "fill": "tozeroy",
         "fillcolor": "rgb(176,76,255)",
         "hoverinfo": "skip",
         "line": {
          "color": "rgba(0,0,0,0)"
         },
         "mode": "lines",
         "showlegend": false,
         "type": "scatter",
         "x": [
          -6.75,
          -6.675
         ],
         "y": [
          0.005274707144704407,
          0.005859443063096961
         ]
        },
        {
         "fill": "tozeroy",
         "fillcolor": "rgb(176,76,255)",
         "hoverinfo": "skip",
         "line": {
          "color": "rgba(0,0,0,0)"
         },
         "mode": "lines",
         "showlegend": false,
         "type": "scatter",
         "x": [
          -6.675,
          -6.6
         ],
         "y": [
          0.005859443063096961,
          0.006444178981489515
         ]
        },
        {
         "fill": "tozeroy",
         "fillcolor": "rgb(176,76,255)",
         "hoverinfo": "skip",
         "line": {
          "color": "rgba(0,0,0,0)"
         },
         "mode": "lines",
         "showlegend": false,
         "type": "scatter",
         "x": [
          -6.6,
          -6.5249999999999995
         ],
         "y": [
          0.006444178981489515,
          0.007140882952464937
         ]
        },
        {
         "fill": "tozeroy",
         "fillcolor": "rgb(176,76,255)",
         "hoverinfo": "skip",
         "line": {
          "color": "rgba(0,0,0,0)"
         },
         "mode": "lines",
         "showlegend": false,
         "type": "scatter",
         "x": [
          -6.525000000000001,
          -6.450000000000001
         ],
         "y": [
          0.007140882952464937,
          0.00783758692344036
         ]
        },
        {
         "fill": "tozeroy",
         "fillcolor": "rgb(176,76,255)",
         "hoverinfo": "skip",
         "line": {
          "color": "rgba(0,0,0,0)"
         },
         "mode": "lines",
         "showlegend": false,
         "type": "scatter",
         "x": [
          -6.450000000000001,
          -6.375000000000001
         ],
         "y": [
          0.00783758692344036,
          0.0086635364667342
         ]
        },
        {
         "fill": "tozeroy",
         "fillcolor": "rgb(176,76,255)",
         "hoverinfo": "skip",
         "line": {
          "color": "rgba(0,0,0,0)"
         },
         "mode": "lines",
         "showlegend": false,
         "type": "scatter",
         "x": [
          -6.375000000000001,
          -6.300000000000001
         ],
         "y": [
          0.0086635364667342,
          0.009489486010028038
         ]
        },
        {
         "fill": "tozeroy",
         "fillcolor": "rgb(176,76,255)",
         "hoverinfo": "skip",
         "line": {
          "color": "rgba(0,0,0,0)"
         },
         "mode": "lines",
         "showlegend": false,
         "type": "scatter",
         "x": [
          -6.300000000000001,
          -6.2250000000000005
         ],
         "y": [
          0.009489486010028038,
          0.010463722834269804
         ]
        },
        {
         "fill": "tozeroy",
         "fillcolor": "rgb(176,76,255)",
         "hoverinfo": "skip",
         "line": {
          "color": "rgba(0,0,0,0)"
         },
         "mode": "lines",
         "showlegend": false,
         "type": "scatter",
         "x": [
          -6.2250000000000005,
          -6.15
         ],
         "y": [
          0.010463722834269804,
          0.011437959658511573
         ]
        },
        {
         "fill": "tozeroy",
         "fillcolor": "rgb(176,76,255)",
         "hoverinfo": "skip",
         "line": {
          "color": "rgba(0,0,0,0)"
         },
         "mode": "lines",
         "showlegend": false,
         "type": "scatter",
         "x": [
          -6.15,
          -6.075
         ],
         "y": [
          0.011437959658511573,
          0.012581284471184565
         ]
        },
        {
         "fill": "tozeroy",
         "fillcolor": "rgb(176,76,255)",
         "hoverinfo": "skip",
         "line": {
          "color": "rgba(0,0,0,0)"
         },
         "mode": "lines",
         "showlegend": false,
         "type": "scatter",
         "x": [
          -6.075,
          -6
         ],
         "y": [
          0.012581284471184565,
          0.013724609283857556
         ]
        },
        {
         "fill": "tozeroy",
         "fillcolor": "rgb(176,76,255)",
         "hoverinfo": "skip",
         "line": {
          "color": "rgba(0,0,0,0)"
         },
         "mode": "lines",
         "showlegend": false,
         "type": "scatter",
         "x": [
          -6,
          -5.925
         ],
         "y": [
          0.013724609283857556,
          0.015059532156505934
         ]
        },
        {
         "fill": "tozeroy",
         "fillcolor": "rgb(176,76,255)",
         "hoverinfo": "skip",
         "line": {
          "color": "rgba(0,0,0,0)"
         },
         "mode": "lines",
         "showlegend": false,
         "type": "scatter",
         "x": [
          -5.925,
          -5.85
         ],
         "y": [
          0.015059532156505934,
          0.016394455029154313
         ]
        },
        {
         "fill": "tozeroy",
         "fillcolor": "rgb(176,76,255)",
         "hoverinfo": "skip",
         "line": {
          "color": "rgba(0,0,0,0)"
         },
         "mode": "lines",
         "showlegend": false,
         "type": "scatter",
         "x": [
          -5.85,
          -5.7749999999999995
         ],
         "y": [
          0.016394455029154313,
          0.017945093666581743
         ]
        },
        {
         "fill": "tozeroy",
         "fillcolor": "rgb(176,76,255)",
         "hoverinfo": "skip",
         "line": {
          "color": "rgba(0,0,0,0)"
         },
         "mode": "lines",
         "showlegend": false,
         "type": "scatter",
         "x": [
          -5.775000000000001,
          -5.700000000000001
         ],
         "y": [
          0.017945093666581743,
          0.019495732304009174
         ]
        },
        {
         "fill": "tozeroy",
         "fillcolor": "rgb(176,76,255)",
         "hoverinfo": "skip",
         "line": {
          "color": "rgba(0,0,0,0)"
         },
         "mode": "lines",
         "showlegend": false,
         "type": "scatter",
         "x": [
          -5.700000000000001,
          -5.625000000000001
         ],
         "y": [
          0.019495732304009174,
          0.021287650819236042
         ]
        },
        {
         "fill": "tozeroy",
         "fillcolor": "rgb(176,76,255)",
         "hoverinfo": "skip",
         "line": {
          "color": "rgba(0,0,0,0)"
         },
         "mode": "lines",
         "showlegend": false,
         "type": "scatter",
         "x": [
          -5.625000000000001,
          -5.550000000000001
         ],
         "y": [
          0.021287650819236042,
          0.02307956933446291
         ]
        },
        {
         "fill": "tozeroy",
         "fillcolor": "rgb(176,76,255)",
         "hoverinfo": "skip",
         "line": {
          "color": "rgba(0,0,0,0)"
         },
         "mode": "lines",
         "showlegend": false,
         "type": "scatter",
         "x": [
          -5.550000000000001,
          -5.4750000000000005
         ],
         "y": [
          0.02307956933446291,
          0.025139550753079457
         ]
        },
        {
         "fill": "tozeroy",
         "fillcolor": "rgb(176,76,255)",
         "hoverinfo": "skip",
         "line": {
          "color": "rgba(0,0,0,0)"
         },
         "mode": "lines",
         "showlegend": false,
         "type": "scatter",
         "x": [
          -5.4750000000000005,
          -5.4
         ],
         "y": [
          0.025139550753079457,
          0.027199532171696
         ]
        },
        {
         "fill": "tozeroy",
         "fillcolor": "rgb(176,76,255)",
         "hoverinfo": "skip",
         "line": {
          "color": "rgba(0,0,0,0)"
         },
         "mode": "lines",
         "showlegend": false,
         "type": "scatter",
         "x": [
          -5.4,
          -5.325
         ],
         "y": [
          0.027199532171696,
          0.029555278798281154
         ]
        },
        {
         "fill": "tozeroy",
         "fillcolor": "rgb(176,76,255)",
         "hoverinfo": "skip",
         "line": {
          "color": "rgba(0,0,0,0)"
         },
         "mode": "lines",
         "showlegend": false,
         "type": "scatter",
         "x": [
          -5.325,
          -5.25
         ],
         "y": [
          0.029555278798281154,
          0.031911025424866304
         ]
        },
        {
         "fill": "tozeroy",
         "fillcolor": "rgb(176,76,255)",
         "hoverinfo": "skip",
         "line": {
          "color": "rgba(0,0,0,0)"
         },
         "mode": "lines",
         "showlegend": false,
         "type": "scatter",
         "x": [
          -5.25,
          -5.175
         ],
         "y": [
          0.031911025424866304,
          0.03459078263791829
         ]
        },
        {
         "fill": "tozeroy",
         "fillcolor": "rgb(176,76,255)",
         "hoverinfo": "skip",
         "line": {
          "color": "rgba(0,0,0,0)"
         },
         "mode": "lines",
         "showlegend": false,
         "type": "scatter",
         "x": [
          -5.175,
          -5.1
         ],
         "y": [
          0.03459078263791829,
          0.03727053985097028
         ]
        },
        {
         "fill": "tozeroy",
         "fillcolor": "rgb(176,76,255)",
         "hoverinfo": "skip",
         "line": {
          "color": "rgba(0,0,0,0)"
         },
         "mode": "lines",
         "showlegend": false,
         "type": "scatter",
         "x": [
          -5.1,
          -5.0249999999999995
         ],
         "y": [
          0.03727053985097028,
          0.0403026406587015
         ]
        },
        {
         "fill": "tozeroy",
         "fillcolor": "rgb(176,76,255)",
         "hoverinfo": "skip",
         "line": {
          "color": "rgba(0,0,0,0)"
         },
         "mode": "lines",
         "showlegend": false,
         "type": "scatter",
         "x": [
          -5.025000000000001,
          -4.950000000000001
         ],
         "y": [
          0.0403026406587015,
          0.043334741466432715
         ]
        },
        {
         "fill": "tozeroy",
         "fillcolor": "rgb(176,76,255)",
         "hoverinfo": "skip",
         "line": {
          "color": "rgba(0,0,0,0)"
         },
         "mode": "lines",
         "showlegend": false,
         "type": "scatter",
         "x": [
          -4.950000000000001,
          -4.875000000000001
         ],
         "y": [
          0.043334741466432715,
          0.04674707142173058
         ]
        },
        {
         "fill": "tozeroy",
         "fillcolor": "rgb(176,76,255)",
         "hoverinfo": "skip",
         "line": {
          "color": "rgba(0,0,0,0)"
         },
         "mode": "lines",
         "showlegend": false,
         "type": "scatter",
         "x": [
          -4.875000000000001,
          -4.800000000000001
         ],
         "y": [
          0.04674707142173058,
          0.05015940137702845
         ]
        },
        {
         "fill": "tozeroy",
         "fillcolor": "rgb(176,76,255)",
         "hoverinfo": "skip",
         "line": {
          "color": "rgba(0,0,0,0)"
         },
         "mode": "lines",
         "showlegend": false,
         "type": "scatter",
         "x": [
          -4.800000000000001,
          -4.7250000000000005
         ],
         "y": [
          0.05015940137702845,
          0.05397878601725174
         ]
        },
        {
         "fill": "tozeroy",
         "fillcolor": "rgb(176,76,255)",
         "hoverinfo": "skip",
         "line": {
          "color": "rgba(0,0,0,0)"
         },
         "mode": "lines",
         "showlegend": false,
         "type": "scatter",
         "x": [
          -4.7250000000000005,
          -4.65
         ],
         "y": [
          0.05397878601725174,
          0.05779817065747504
         ]
        },
        {
         "fill": "tozeroy",
         "fillcolor": "rgb(176,76,255)",
         "hoverinfo": "skip",
         "line": {
          "color": "rgba(0,0,0,0)"
         },
         "mode": "lines",
         "showlegend": false,
         "type": "scatter",
         "x": [
          -4.65,
          -4.575
         ],
         "y": [
          0.05779817065747504,
          0.06204969069524773
         ]
        },
        {
         "fill": "tozeroy",
         "fillcolor": "rgb(176,76,255)",
         "hoverinfo": "skip",
         "line": {
          "color": "rgba(0,0,0,0)"
         },
         "mode": "lines",
         "showlegend": false,
         "type": "scatter",
         "x": [
          -4.575,
          -4.5
         ],
         "y": [
          0.06204969069524773,
          0.06630121073302042
         ]
        },
        {
         "fill": "tozeroy",
         "fillcolor": "rgb(176,76,255)",
         "hoverinfo": "skip",
         "line": {
          "color": "rgba(0,0,0,0)"
         },
         "mode": "lines",
         "showlegend": false,
         "type": "scatter",
         "x": [
          -4.5,
          -4.425
         ],
         "y": [
          0.06630121073302042,
          0.07100745343619472
         ]
        },
        {
         "fill": "tozeroy",
         "fillcolor": "rgb(176,76,255)",
         "hoverinfo": "skip",
         "line": {
          "color": "rgba(0,0,0,0)"
         },
         "mode": "lines",
         "showlegend": false,
         "type": "scatter",
         "x": [
          -4.425,
          -4.35
         ],
         "y": [
          0.07100745343619472,
          0.07571369613936903
         ]
        },
        {
         "fill": "tozeroy",
         "fillcolor": "rgb(176,76,255)",
         "hoverinfo": "skip",
         "line": {
          "color": "rgba(0,0,0,0)"
         },
         "mode": "lines",
         "showlegend": false,
         "type": "scatter",
         "x": [
          -4.35,
          -4.2749999999999995
         ],
         "y": [
          0.07571369613936903,
          0.08089395482787305
         ]
        },
        {
         "fill": "tozeroy",
         "fillcolor": "rgb(176,76,255)",
         "hoverinfo": "skip",
         "line": {
          "color": "rgba(0,0,0,0)"
         },
         "mode": "lines",
         "showlegend": false,
         "type": "scatter",
         "x": [
          -4.275000000000001,
          -4.200000000000001
         ],
         "y": [
          0.08089395482787305,
          0.08607421351637708
         ]
        },
        {
         "fill": "tozeroy",
         "fillcolor": "rgb(176,76,255)",
         "hoverinfo": "skip",
         "line": {
          "color": "rgba(0,0,0,0)"
         },
         "mode": "lines",
         "showlegend": false,
         "type": "scatter",
         "x": [
          -4.200000000000001,
          -4.125000000000001
         ],
         "y": [
          0.08607421351637708,
          0.09174365058454925
         ]
        },
        {
         "fill": "tozeroy",
         "fillcolor": "rgb(176,76,255)",
         "hoverinfo": "skip",
         "line": {
          "color": "rgba(0,0,0,0)"
         },
         "mode": "lines",
         "showlegend": false,
         "type": "scatter",
         "x": [
          -4.125000000000001,
          -4.050000000000001
         ],
         "y": [
          0.09174365058454925,
          0.09741308765272144
         ]
        },
        {
         "fill": "tozeroy",
         "fillcolor": "rgb(176,76,255)",
         "hoverinfo": "skip",
         "line": {
          "color": "rgba(0,0,0,0)"
         },
         "mode": "lines",
         "showlegend": false,
         "type": "scatter",
         "x": [
          -4.050000000000001,
          -3.9750000000000005
         ],
         "y": [
          0.09741308765272144,
          0.10358188003642213
         ]
        },
        {
         "fill": "tozeroy",
         "fillcolor": "rgb(176,76,255)",
         "hoverinfo": "skip",
         "line": {
          "color": "rgba(0,0,0,0)"
         },
         "mode": "lines",
         "showlegend": false,
         "type": "scatter",
         "x": [
          -3.9750000000000005,
          -3.9000000000000004
         ],
         "y": [
          0.10358188003642213,
          0.10975067242012282
         ]
        },
        {
         "fill": "tozeroy",
         "fillcolor": "rgb(176,76,255)",
         "hoverinfo": "skip",
         "line": {
          "color": "rgba(0,0,0,0)"
         },
         "mode": "lines",
         "showlegend": false,
         "type": "scatter",
         "x": [
          -3.9000000000000004,
          -3.825
         ],
         "y": [
          0.10975067242012282,
          0.11642316156625648
         ]
        },
        {
         "fill": "tozeroy",
         "fillcolor": "rgb(176,76,255)",
         "hoverinfo": "skip",
         "line": {
          "color": "rgba(0,0,0,0)"
         },
         "mode": "lines",
         "showlegend": false,
         "type": "scatter",
         "x": [
          -3.825,
          -3.75
         ],
         "y": [
          0.11642316156625648,
          0.12309565071239013
         ]
        },
        {
         "fill": "tozeroy",
         "fillcolor": "rgb(176,76,255)",
         "hoverinfo": "skip",
         "line": {
          "color": "rgba(0,0,0,0)"
         },
         "mode": "lines",
         "showlegend": false,
         "type": "scatter",
         "x": [
          -3.75,
          -3.675
         ],
         "y": [
          0.12309565071239013,
          0.13026952198748398
         ]
        },
        {
         "fill": "tozeroy",
         "fillcolor": "rgb(176,76,255)",
         "hoverinfo": "skip",
         "line": {
          "color": "rgba(0,0,0,0)"
         },
         "mode": "lines",
         "showlegend": false,
         "type": "scatter",
         "x": [
          -3.675,
          -3.5999999999999996
         ],
         "y": [
          0.13026952198748398,
          0.13744339326257785
         ]
        },
        {
         "fill": "tozeroy",
         "fillcolor": "rgb(176,76,255)",
         "hoverinfo": "skip",
         "line": {
          "color": "rgba(0,0,0,0)"
         },
         "mode": "lines",
         "showlegend": false,
         "type": "scatter",
         "x": [
          -3.5999999999999996,
          -3.5249999999999995
         ],
         "y": [
          0.13744339326257785,
          0.14510891190384506
         ]
        },
        {
         "fill": "tozeroy",
         "fillcolor": "rgb(176,76,255)",
         "hoverinfo": "skip",
         "line": {
          "color": "rgba(0,0,0,0)"
         },
         "mode": "lines",
         "showlegend": false,
         "type": "scatter",
         "x": [
          -3.5250000000000012,
          -3.450000000000001
         ],
         "y": [
          0.14510891190384506,
          0.1527744305451123
         ]
        },
        {
         "fill": "tozeroy",
         "fillcolor": "rgb(176,76,255)",
         "hoverinfo": "skip",
         "line": {
          "color": "rgba(0,0,0,0)"
         },
         "mode": "lines",
         "showlegend": false,
         "type": "scatter",
         "x": [
          -3.450000000000001,
          -3.375000000000001
         ],
         "y": [
          0.1527744305451123,
          0.16091376278291475
         ]
        },
        {
         "fill": "tozeroy",
         "fillcolor": "rgb(176,76,255)",
         "hoverinfo": "skip",
         "line": {
          "color": "rgba(0,0,0,0)"
         },
         "mode": "lines",
         "showlegend": false,
         "type": "scatter",
         "x": [
          -3.375000000000001,
          -3.3000000000000007
         ],
         "y": [
          0.16091376278291475,
          0.1690530950207172
         ]
        },
        {
         "fill": "tozeroy",
         "fillcolor": "rgb(176,76,255)",
         "hoverinfo": "skip",
         "line": {
          "color": "rgba(0,0,0,0)"
         },
         "mode": "lines",
         "showlegend": false,
         "type": "scatter",
         "x": [
          -3.3000000000000007,
          -3.2250000000000005
         ],
         "y": [
          0.1690530950207172,
          0.1776397435555669
         ]
        },
        {
         "fill": "tozeroy",
         "fillcolor": "rgb(176,76,255)",
         "hoverinfo": "skip",
         "line": {
          "color": "rgba(0,0,0,0)"
         },
         "mode": "lines",
         "showlegend": false,
         "type": "scatter",
         "x": [
          -3.2250000000000005,
          -3.1500000000000004
         ],
         "y": [
          0.1776397435555669,
          0.18622639209041655
         ]
        },
        {
         "fill": "tozeroy",
         "fillcolor": "rgb(176,76,255)",
         "hoverinfo": "skip",
         "line": {
          "color": "rgba(0,0,0,0)"
         },
         "mode": "lines",
         "showlegend": false,
         "type": "scatter",
         "x": [
          -3.1500000000000004,
          -3.075
         ],
         "y": [
          0.18622639209041655,
          0.1952247746269573
         ]
        },
        {
         "fill": "tozeroy",
         "fillcolor": "rgb(176,76,255)",
         "hoverinfo": "skip",
         "line": {
          "color": "rgba(0,0,0,0)"
         },
         "mode": "lines",
         "showlegend": false,
         "type": "scatter",
         "x": [
          -3.075,
          -3
         ],
         "y": [
          0.1952247746269573,
          0.2042231571634981
         ]
        },
        {
         "fill": "tozeroy",
         "fillcolor": "rgb(176,76,255)",
         "hoverinfo": "skip",
         "line": {
          "color": "rgba(0,0,0,0)"
         },
         "mode": "lines",
         "showlegend": false,
         "type": "scatter",
         "x": [
          -3,
          -2.925
         ],
         "y": [
          0.2042231571634981,
          0.21358835515379465
         ]
        },
        {
         "fill": "tozeroy",
         "fillcolor": "rgb(176,76,255)",
         "hoverinfo": "skip",
         "line": {
          "color": "rgba(0,0,0,0)"
         },
         "mode": "lines",
         "showlegend": false,
         "type": "scatter",
         "x": [
          -2.925,
          -2.8499999999999996
         ],
         "y": [
          0.21358835515379465,
          0.22295355314409124
         ]
        },
        {
         "fill": "tozeroy",
         "fillcolor": "rgb(176,76,255)",
         "hoverinfo": "skip",
         "line": {
          "color": "rgba(0,0,0,0)"
         },
         "mode": "lines",
         "showlegend": false,
         "type": "scatter",
         "x": [
          -2.8499999999999996,
          -2.7749999999999995
         ],
         "y": [
          0.22295355314409124,
          0.23263125505025103
         ]
        },
        {
         "fill": "tozeroy",
         "fillcolor": "rgb(176,76,255)",
         "hoverinfo": "skip",
         "line": {
          "color": "rgba(0,0,0,0)"
         },
         "mode": "lines",
         "showlegend": false,
         "type": "scatter",
         "x": [
          -2.7750000000000012,
          -2.700000000000001
         ],
         "y": [
          0.23263125505025103,
          0.24230895695641083
         ]
        },
        {
         "fill": "tozeroy",
         "fillcolor": "rgb(176,76,255)",
         "hoverinfo": "skip",
         "line": {
          "color": "rgba(0,0,0,0)"
         },
         "mode": "lines",
         "showlegend": false,
         "type": "scatter",
         "x": [
          -2.700000000000001,
          -2.625000000000001
         ],
         "y": [
          0.24230895695641083,
          0.2522356164104668
         ]
        },
        {
         "fill": "tozeroy",
         "fillcolor": "rgb(176,76,255)",
         "hoverinfo": "skip",
         "line": {
          "color": "rgba(0,0,0,0)"
         },
         "mode": "lines",
         "showlegend": false,
         "type": "scatter",
         "x": [
          -2.625000000000001,
          -2.5500000000000007
         ],
         "y": [
          0.2522356164104668,
          0.26216227586452284
         ]
        },
        {
         "fill": "tozeroy",
         "fillcolor": "rgb(176,76,255)",
         "hoverinfo": "skip",
         "line": {
          "color": "rgba(0,0,0,0)"
         },
         "mode": "lines",
         "showlegend": false,
         "type": "scatter",
         "x": [
          -2.5500000000000007,
          -2.4750000000000005
         ],
         "y": [
          0.26216227586452284,
          0.27226549991724674
         ]
        },
        {
         "fill": "tozeroy",
         "fillcolor": "rgb(176,76,255)",
         "hoverinfo": "skip",
         "line": {
          "color": "rgba(0,0,0,0)"
         },
         "mode": "lines",
         "showlegend": false,
         "type": "scatter",
         "x": [
          -2.4750000000000005,
          -2.4000000000000004
         ],
         "y": [
          0.27226549991724674,
          0.28236872396997065
         ]
        },
        {
         "fill": "tozeroy",
         "fillcolor": "rgb(176,76,255)",
         "hoverinfo": "skip",
         "line": {
          "color": "rgba(0,0,0,0)"
         },
         "mode": "lines",
         "showlegend": false,
         "type": "scatter",
         "x": [
          -2.4000000000000004,
          -2.325
         ],
         "y": [
          0.28236872396997065,
          0.2925679004975483
         ]
        },
        {
         "fill": "tozeroy",
         "fillcolor": "rgb(176,76,255)",
         "hoverinfo": "skip",
         "line": {
          "color": "rgba(0,0,0,0)"
         },
         "mode": "lines",
         "showlegend": false,
         "type": "scatter",
         "x": [
          -2.325,
          -2.25
         ],
         "y": [
          0.2925679004975483,
          0.302767077025126
         ]
        },
        {
         "fill": "tozeroy",
         "fillcolor": "rgb(176,76,255)",
         "hoverinfo": "skip",
         "line": {
          "color": "rgba(0,0,0,0)"
         },
         "mode": "lines",
         "showlegend": false,
         "type": "scatter",
         "x": [
          -2.25,
          -2.175
         ],
         "y": [
          0.302767077025126,
          0.3129742433176187
         ]
        },
        {
         "fill": "tozeroy",
         "fillcolor": "rgb(176,76,255)",
         "hoverinfo": "skip",
         "line": {
          "color": "rgba(0,0,0,0)"
         },
         "mode": "lines",
         "showlegend": false,
         "type": "scatter",
         "x": [
          -2.175,
          -2.0999999999999996
         ],
         "y": [
          0.3129742433176187,
          0.3231814096101113
         ]
        },
        {
         "fill": "tozeroy",
         "fillcolor": "rgb(176,76,255)",
         "hoverinfo": "skip",
         "line": {
          "color": "rgba(0,0,0,0)"
         },
         "mode": "lines",
         "showlegend": false,
         "type": "scatter",
         "x": [
          -2.0999999999999996,
          -2.0249999999999995
         ],
         "y": [
          0.3231814096101113,
          0.33330235641788286
         ]
        },
        {
         "fill": "tozeroy",
         "fillcolor": "rgb(176,76,255)",
         "hoverinfo": "skip",
         "line": {
          "color": "rgba(0,0,0,0)"
         },
         "mode": "lines",
         "showlegend": false,
         "type": "scatter",
         "x": [
          -2.0250000000000012,
          -1.950000000000001
         ],
         "y": [
          0.33330235641788286,
          0.34342330322565445
         ]
        },
        {
         "fill": "tozeroy",
         "fillcolor": "rgb(176,76,255)",
         "hoverinfo": "skip",
         "line": {
          "color": "rgba(0,0,0,0)"
         },
         "mode": "lines",
         "showlegend": false,
         "type": "scatter",
         "x": [
          -1.950000000000001,
          -1.875000000000001
         ],
         "y": [
          0.34342330322565445,
          0.3533589005693937
         ]
        },
        {
         "fill": "tozeroy",
         "fillcolor": "rgb(176,76,255)",
         "hoverinfo": "skip",
         "line": {
          "color": "rgba(0,0,0,0)"
         },
         "mode": "lines",
         "showlegend": false,
         "type": "scatter",
         "x": [
          -1.8750000000000007,
          -1.8000000000000007
         ],
         "y": [
          0.3533589005693937,
          0.36329449791313295
         ]
        },
        {
         "fill": "tozeroy",
         "fillcolor": "rgb(176,76,255)",
         "hoverinfo": "skip",
         "line": {
          "color": "rgba(0,0,0,0)"
         },
         "mode": "lines",
         "showlegend": false,
         "type": "scatter",
         "x": [
          -1.8000000000000007,
          -1.7250000000000008
         ],
         "y": [
          0.36329449791313295,
          0.37294222071215766
         ]
        },
        {
         "fill": "tozeroy",
         "fillcolor": "rgb(176,76,255)",
         "hoverinfo": "skip",
         "line": {
          "color": "rgba(0,0,0,0)"
         },
         "mode": "lines",
         "showlegend": false,
         "type": "scatter",
         "x": [
          -1.7250000000000003,
          -1.6500000000000004
         ],
         "y": [
          0.37294222071215766,
          0.38258994351118236
         ]
        },
        {
         "fill": "tozeroy",
         "fillcolor": "rgb(176,76,255)",
         "hoverinfo": "skip",
         "line": {
          "color": "rgba(0,0,0,0)"
         },
         "mode": "lines",
         "showlegend": false,
         "type": "scatter",
         "x": [
          -1.6500000000000004,
          -1.5750000000000004
         ],
         "y": [
          0.38258994351118236,
          0.3918455673132868
         ]
        },
        {
         "fill": "tozeroy",
         "fillcolor": "rgb(176,76,255)",
         "hoverinfo": "skip",
         "line": {
          "color": "rgba(0,0,0,0)"
         },
         "mode": "lines",
         "showlegend": false,
         "type": "scatter",
         "x": [
          -1.575,
          -1.5
         ],
         "y": [
          0.3918455673132868,
          0.4011011911153913
         ]
        },
        {
         "fill": "tozeroy",
         "fillcolor": "rgb(176,76,255)",
         "hoverinfo": "skip",
         "line": {
          "color": "rgba(0,0,0,0)"
         },
         "mode": "lines",
         "showlegend": false,
         "type": "scatter",
         "x": [
          -1.5,
          -1.425
         ],
         "y": [
          0.4011011911153913,
          0.40986062083762875
         ]
        },
        {
         "fill": "tozeroy",
         "fillcolor": "rgb(176,76,255)",
         "hoverinfo": "skip",
         "line": {
          "color": "rgba(0,0,0,0)"
         },
         "mode": "lines",
         "showlegend": false,
         "type": "scatter",
         "x": [
          -1.4249999999999996,
          -1.3499999999999996
         ],
         "y": [
          0.40986062083762875,
          0.41862005055986623
         ]
        },
        {
         "fill": "tozeroy",
         "fillcolor": "rgb(176,76,255)",
         "hoverinfo": "skip",
         "line": {
          "color": "rgba(0,0,0,0)"
         },
         "mode": "lines",
         "showlegend": false,
         "type": "scatter",
         "x": [
          -1.3499999999999996,
          -1.2749999999999997
         ],
         "y": [
          0.41862005055986623,
          0.42678123887949637
         ]
        },
        {
         "fill": "tozeroy",
         "fillcolor": "rgb(176,76,255)",
         "hoverinfo": "skip",
         "line": {
          "color": "rgba(0,0,0,0)"
         },
         "mode": "lines",
         "showlegend": false,
         "type": "scatter",
         "x": [
          -1.275000000000001,
          -1.200000000000001
         ],
         "y": [
          0.42678123887949637,
          0.43494242719912646
         ]
        },
        {
         "fill": "tozeroy",
         "fillcolor": "rgb(176,76,255)",
         "hoverinfo": "skip",
         "line": {
          "color": "rgba(0,0,0,0)"
         },
         "mode": "lines",
         "showlegend": false,
         "type": "scatter",
         "x": [
          -1.200000000000001,
          -1.125000000000001
         ],
         "y": [
          0.43494242719912646,
          0.44240733413899586
         ]
        },
        {
         "fill": "tozeroy",
         "fillcolor": "rgb(176,76,255)",
         "hoverinfo": "skip",
         "line": {
          "color": "rgba(0,0,0,0)"
         },
         "mode": "lines",
         "showlegend": false,
         "type": "scatter",
         "x": [
          -1.1250000000000007,
          -1.0500000000000007
         ],
         "y": [
          0.44240733413899586,
          0.44987224107886525
         ]
        },
        {
         "fill": "tozeroy",
         "fillcolor": "rgb(176,76,255)",
         "hoverinfo": "skip",
         "line": {
          "color": "rgba(0,0,0,0)"
         },
         "mode": "lines",
         "showlegend": false,
         "type": "scatter",
         "x": [
          -1.0500000000000007,
          -0.9750000000000008
         ],
         "y": [
          0.44987224107886525,
          0.4565487828144684
         ]
        },
        {
         "fill": "tozeroy",
         "fillcolor": "rgb(176,76,255)",
         "hoverinfo": "skip",
         "line": {
          "color": "rgba(0,0,0,0)"
         },
         "mode": "lines",
         "showlegend": false,
         "type": "scatter",
         "x": [
          -0.9750000000000003,
          -0.9000000000000004
         ],
         "y": [
          0.4565487828144684,
          0.4632253245500716
         ]
        },
        {
         "fill": "tozeroy",
         "fillcolor": "rgb(176,76,255)",
         "hoverinfo": "skip",
         "line": {
          "color": "rgba(0,0,0,0)"
         },
         "mode": "lines",
         "showlegend": false,
         "type": "scatter",
         "x": [
          -0.9000000000000004,
          -0.8250000000000004
         ],
         "y": [
          0.4632253245500716,
          0.4690292575999765
         ]
        },
        {
         "fill": "tozeroy",
         "fillcolor": "rgb(176,76,255)",
         "hoverinfo": "skip",
         "line": {
          "color": "rgba(0,0,0,0)"
         },
         "mode": "lines",
         "showlegend": false,
         "type": "scatter",
         "x": [
          -0.825,
          -0.75
         ],
         "y": [
          0.4690292575999765,
          0.47483319064988144
         ]
        },
        {
         "fill": "tozeroy",
         "fillcolor": "rgb(176,76,255)",
         "hoverinfo": "skip",
         "line": {
          "color": "rgba(0,0,0,0)"
         },
         "mode": "lines",
         "showlegend": false,
         "type": "scatter",
         "x": [
          -0.75,
          -0.675
         ],
         "y": [
          0.47483319064988144,
          0.4796898778002785
         ]
        },
        {
         "fill": "tozeroy",
         "fillcolor": "rgb(176,76,255)",
         "hoverinfo": "skip",
         "line": {
          "color": "rgba(0,0,0,0)"
         },
         "mode": "lines",
         "showlegend": false,
         "type": "scatter",
         "x": [
          -0.6750000000000014,
          -0.6000000000000014
         ],
         "y": [
          0.4796898778002785,
          0.4845465649506755
         ]
        },
        {
         "fill": "tozeroy",
         "fillcolor": "rgb(176,76,255)",
         "hoverinfo": "skip",
         "line": {
          "color": "rgba(0,0,0,0)"
         },
         "mode": "lines",
         "showlegend": false,
         "type": "scatter",
         "x": [
          -0.6000000000000014,
          -0.5250000000000015
         ],
         "y": [
          0.4845465649506755,
          0.4883925712120485
         ]
        },
        {
         "fill": "tozeroy",
         "fillcolor": "rgb(176,76,255)",
         "hoverinfo": "skip",
         "line": {
          "color": "rgba(0,0,0,0)"
         },
         "mode": "lines",
         "showlegend": false,
         "type": "scatter",
         "x": [
          -0.525000000000001,
          -0.45000000000000107
         ],
         "y": [
          0.4883925712120485,
          0.4922385774734215
         ]
        },
        {
         "fill": "tozeroy",
         "fillcolor": "rgb(176,76,255)",
         "hoverinfo": "skip",
         "line": {
          "color": "rgba(0,0,0,0)"
         },
         "mode": "lines",
         "showlegend": false,
         "type": "scatter",
         "x": [
          -0.45000000000000107,
          -0.37500000000000105
         ],
         "y": [
          0.4922385774734215,
          0.4950230484570368
         ]
        },
        {
         "fill": "tozeroy",
         "fillcolor": "rgb(176,76,255)",
         "hoverinfo": "skip",
         "line": {
          "color": "rgba(0,0,0,0)"
         },
         "mode": "lines",
         "showlegend": false,
         "type": "scatter",
         "x": [
          -0.3750000000000007,
          -0.3000000000000007
         ],
         "y": [
          0.4950230484570368,
          0.49780751944065216
         ]
        },
        {
         "fill": "tozeroy",
         "fillcolor": "rgb(176,76,255)",
         "hoverinfo": "skip",
         "line": {
          "color": "rgba(0,0,0,0)"
         },
         "mode": "lines",
         "showlegend": false,
         "type": "scatter",
         "x": [
          -0.3000000000000007,
          -0.2250000000000007
         ],
         "y": [
          0.49780751944065216,
          0.49949330027050776
         ]
        },
        {
         "fill": "tozeroy",
         "fillcolor": "rgb(176,76,255)",
         "hoverinfo": "skip",
         "line": {
          "color": "rgba(0,0,0,0)"
         },
         "mode": "lines",
         "showlegend": false,
         "type": "scatter",
         "x": [
          -0.22500000000000037,
          -0.15000000000000036
         ],
         "y": [
          0.49949330027050776,
          0.5011790811003634
         ]
        },
        {
         "fill": "tozeroy",
         "fillcolor": "rgb(176,76,255)",
         "hoverinfo": "skip",
         "line": {
          "color": "rgba(0,0,0,0)"
         },
         "mode": "lines",
         "showlegend": false,
         "type": "scatter",
         "x": [
          -0.15000000000000036,
          -0.07500000000000036
         ],
         "y": [
          0.5011790811003634,
          0.5017435414464241
         ]
        },
        {
         "fill": "tozeroy",
         "fillcolor": "rgb(176,76,255)",
         "hoverinfo": "skip",
         "line": {
          "color": "rgba(0,0,0,0)"
         },
         "mode": "lines",
         "showlegend": false,
         "type": "scatter",
         "x": [
          -0.075,
          0
         ],
         "y": [
          0.5017435414464241,
          0.5023080017924848
         ]
        },
        {
         "fill": "tozeroy",
         "fillcolor": "rgb(176,76,255)",
         "hoverinfo": "skip",
         "line": {
          "color": "rgba(0,0,0,0)"
         },
         "mode": "lines",
         "showlegend": false,
         "type": "scatter",
         "x": [
          0,
          0.075
         ],
         "y": [
          0.5023080017924848,
          0.5017435414464241
         ]
        },
        {
         "fill": "tozeroy",
         "fillcolor": "rgb(176,76,255)",
         "hoverinfo": "skip",
         "line": {
          "color": "rgba(0,0,0,0)"
         },
         "mode": "lines",
         "showlegend": false,
         "type": "scatter",
         "x": [
          0.07499999999999858,
          0.14999999999999858
         ],
         "y": [
          0.5017435414464241,
          0.5011790811003634
         ]
        },
        {
         "fill": "tozeroy",
         "fillcolor": "rgb(176,76,255)",
         "hoverinfo": "skip",
         "line": {
          "color": "rgba(0,0,0,0)"
         },
         "mode": "lines",
         "showlegend": false,
         "type": "scatter",
         "x": [
          0.14999999999999858,
          0.2249999999999986
         ],
         "y": [
          0.5011790811003634,
          0.49949330027050776
         ]
        },
        {
         "fill": "tozeroy",
         "fillcolor": "rgb(176,76,255)",
         "hoverinfo": "skip",
         "line": {
          "color": "rgba(0,0,0,0)"
         },
         "mode": "lines",
         "showlegend": false,
         "type": "scatter",
         "x": [
          0.22499999999999892,
          0.29999999999999893
         ],
         "y": [
          0.49949330027050776,
          0.49780751944065216
         ]
        },
        {
         "fill": "tozeroy",
         "fillcolor": "rgb(176,76,255)",
         "hoverinfo": "skip",
         "line": {
          "color": "rgba(0,0,0,0)"
         },
         "mode": "lines",
         "showlegend": false,
         "type": "scatter",
         "x": [
          0.29999999999999893,
          0.37499999999999895
         ],
         "y": [
          0.49780751944065216,
          0.4950230484570368
         ]
        },
        {
         "fill": "tozeroy",
         "fillcolor": "rgb(176,76,255)",
         "hoverinfo": "skip",
         "line": {
          "color": "rgba(0,0,0,0)"
         },
         "mode": "lines",
         "showlegend": false,
         "type": "scatter",
         "x": [
          0.3749999999999993,
          0.4499999999999993
         ],
         "y": [
          0.4950230484570368,
          0.4922385774734215
         ]
        },
        {
         "fill": "tozeroy",
         "fillcolor": "rgb(176,76,255)",
         "hoverinfo": "skip",
         "line": {
          "color": "rgba(0,0,0,0)"
         },
         "mode": "lines",
         "showlegend": false,
         "type": "scatter",
         "x": [
          0.4499999999999993,
          0.5249999999999992
         ],
         "y": [
          0.4922385774734215,
          0.48839257121204854
         ]
        },
        {
         "fill": "tozeroy",
         "fillcolor": "rgb(176,76,255)",
         "hoverinfo": "skip",
         "line": {
          "color": "rgba(0,0,0,0)"
         },
         "mode": "lines",
         "showlegend": false,
         "type": "scatter",
         "x": [
          0.5249999999999997,
          0.5999999999999996
         ],
         "y": [
          0.48839257121204854,
          0.4845465649506756
         ]
        },
        {
         "fill": "tozeroy",
         "fillcolor": "rgb(176,76,255)",
         "hoverinfo": "skip",
         "line": {
          "color": "rgba(0,0,0,0)"
         },
         "mode": "lines",
         "showlegend": false,
         "type": "scatter",
         "x": [
          0.5999999999999996,
          0.6749999999999996
         ],
         "y": [
          0.4845465649506756,
          0.47968987780027855
         ]
        },
        {
         "fill": "tozeroy",
         "fillcolor": "rgb(176,76,255)",
         "hoverinfo": "skip",
         "line": {
          "color": "rgba(0,0,0,0)"
         },
         "mode": "lines",
         "showlegend": false,
         "type": "scatter",
         "x": [
          0.675,
          0.75
         ],
         "y": [
          0.47968987780027855,
          0.4748331906498815
         ]
        },
        {
         "fill": "tozeroy",
         "fillcolor": "rgb(176,76,255)",
         "hoverinfo": "skip",
         "line": {
          "color": "rgba(0,0,0,0)"
         },
         "mode": "lines",
         "showlegend": false,
         "type": "scatter",
         "x": [
          0.75,
          0.825
         ],
         "y": [
          0.4748331906498815,
          0.46902925759997655
         ]
        },
        {
         "fill": "tozeroy",
         "fillcolor": "rgb(176,76,255)",
         "hoverinfo": "skip",
         "line": {
          "color": "rgba(0,0,0,0)"
         },
         "mode": "lines",
         "showlegend": false,
         "type": "scatter",
         "x": [
          0.8249999999999986,
          0.8999999999999986
         ],
         "y": [
          0.46902925759997655,
          0.4632253245500716
         ]
        },
        {
         "fill": "tozeroy",
         "fillcolor": "rgb(176,76,255)",
         "hoverinfo": "skip",
         "line": {
          "color": "rgba(0,0,0,0)"
         },
         "mode": "lines",
         "showlegend": false,
         "type": "scatter",
         "x": [
          0.8999999999999986,
          0.9749999999999985
         ],
         "y": [
          0.4632253245500716,
          0.4565487828144684
         ]
        },
        {
         "fill": "tozeroy",
         "fillcolor": "rgb(176,76,255)",
         "hoverinfo": "skip",
         "line": {
          "color": "rgba(0,0,0,0)"
         },
         "mode": "lines",
         "showlegend": false,
         "type": "scatter",
         "x": [
          0.9750000000000008,
          1.0500000000000007
         ],
         "y": [
          0.4565487828144684,
          0.4498722410788653
         ]
        },
        {
         "fill": "tozeroy",
         "fillcolor": "rgb(176,76,255)",
         "hoverinfo": "skip",
         "line": {
          "color": "rgba(0,0,0,0)"
         },
         "mode": "lines",
         "showlegend": false,
         "type": "scatter",
         "x": [
          1.0500000000000007,
          1.1250000000000007
         ],
         "y": [
          0.4498722410788653,
          0.442407334138996
         ]
        },
        {
         "fill": "tozeroy",
         "fillcolor": "rgb(176,76,255)",
         "hoverinfo": "skip",
         "line": {
          "color": "rgba(0,0,0,0)"
         },
         "mode": "lines",
         "showlegend": false,
         "type": "scatter",
         "x": [
          1.1249999999999993,
          1.1999999999999993
         ],
         "y": [
          0.442407334138996,
          0.43494242719912674
         ]
        },
        {
         "fill": "tozeroy",
         "fillcolor": "rgb(176,76,255)",
         "hoverinfo": "skip",
         "line": {
          "color": "rgba(0,0,0,0)"
         },
         "mode": "lines",
         "showlegend": false,
         "type": "scatter",
         "x": [
          1.1999999999999993,
          1.2749999999999992
         ],
         "y": [
          0.43494242719912674,
          0.4267812388794966
         ]
        },
        {
         "fill": "tozeroy",
         "fillcolor": "rgb(176,76,255)",
         "hoverinfo": "skip",
         "line": {
          "color": "rgba(0,0,0,0)"
         },
         "mode": "lines",
         "showlegend": false,
         "type": "scatter",
         "x": [
          1.274999999999998,
          1.3499999999999979
         ],
         "y": [
          0.4267812388794966,
          0.41862005055986645
         ]
        },
        {
         "fill": "tozeroy",
         "fillcolor": "rgb(176,76,255)",
         "hoverinfo": "skip",
         "line": {
          "color": "rgba(0,0,0,0)"
         },
         "mode": "lines",
         "showlegend": false,
         "type": "scatter",
         "x": [
          1.3499999999999979,
          1.4249999999999978
         ],
         "y": [
          0.41862005055986645,
          0.409860620837629
         ]
        },
        {
         "fill": "tozeroy",
         "fillcolor": "rgb(176,76,255)",
         "hoverinfo": "skip",
         "line": {
          "color": "rgba(0,0,0,0)"
         },
         "mode": "lines",
         "showlegend": false,
         "type": "scatter",
         "x": [
          1.425,
          1.5
         ],
         "y": [
          0.409860620837629,
          0.4011011911153915
         ]
        },
        {
         "fill": "tozeroy",
         "fillcolor": "rgb(176,76,255)",
         "hoverinfo": "skip",
         "line": {
          "color": "rgba(0,0,0,0)"
         },
         "mode": "lines",
         "showlegend": false,
         "type": "scatter",
         "x": [
          1.5,
          1.575
         ],
         "y": [
          0.4011011911153915,
          0.391845567313287
         ]
        },
        {
         "fill": "tozeroy",
         "fillcolor": "rgb(176,76,255)",
         "hoverinfo": "skip",
         "line": {
          "color": "rgba(0,0,0,0)"
         },
         "mode": "lines",
         "showlegend": false,
         "type": "scatter",
         "x": [
          1.5749999999999986,
          1.6499999999999986
         ],
         "y": [
          0.391845567313287,
          0.38258994351118253
         ]
        },
        {
         "fill": "tozeroy",
         "fillcolor": "rgb(176,76,255)",
         "hoverinfo": "skip",
         "line": {
          "color": "rgba(0,0,0,0)"
         },
         "mode": "lines",
         "showlegend": false,
         "type": "scatter",
         "x": [
          1.6499999999999986,
          1.7249999999999985
         ],
         "y": [
          0.38258994351118253,
          0.3729422207121578
         ]
        },
        {
         "fill": "tozeroy",
         "fillcolor": "rgb(176,76,255)",
         "hoverinfo": "skip",
         "line": {
          "color": "rgba(0,0,0,0)"
         },
         "mode": "lines",
         "showlegend": false,
         "type": "scatter",
         "x": [
          1.7250000000000008,
          1.8000000000000007
         ],
         "y": [
          0.3729422207121578,
          0.3632944979131331
         ]
        },
        {
         "fill": "tozeroy",
         "fillcolor": "rgb(176,76,255)",
         "hoverinfo": "skip",
         "line": {
          "color": "rgba(0,0,0,0)"
         },
         "mode": "lines",
         "showlegend": false,
         "type": "scatter",
         "x": [
          1.8000000000000007,
          1.8750000000000007
         ],
         "y": [
          0.3632944979131331,
          0.3533589005693939
         ]
        },
        {
         "fill": "tozeroy",
         "fillcolor": "rgb(176,76,255)",
         "hoverinfo": "skip",
         "line": {
          "color": "rgba(0,0,0,0)"
         },
         "mode": "lines",
         "showlegend": false,
         "type": "scatter",
         "x": [
          1.8749999999999993,
          1.9499999999999993
         ],
         "y": [
          0.3533589005693939,
          0.3434233032256546
         ]
        },
        {
         "fill": "tozeroy",
         "fillcolor": "rgb(176,76,255)",
         "hoverinfo": "skip",
         "line": {
          "color": "rgba(0,0,0,0)"
         },
         "mode": "lines",
         "showlegend": false,
         "type": "scatter",
         "x": [
          1.9499999999999993,
          2.0249999999999995
         ],
         "y": [
          0.3434233032256546,
          0.3333023564178831
         ]
        },
        {
         "fill": "tozeroy",
         "fillcolor": "rgb(176,76,255)",
         "hoverinfo": "skip",
         "line": {
          "color": "rgba(0,0,0,0)"
         },
         "mode": "lines",
         "showlegend": false,
         "type": "scatter",
         "x": [
          2.0249999999999977,
          2.099999999999998
         ],
         "y": [
          0.3333023564178831,
          0.32318140961011155
         ]
        },
        {
         "fill": "tozeroy",
         "fillcolor": "rgb(176,76,255)",
         "hoverinfo": "skip",
         "line": {
          "color": "rgba(0,0,0,0)"
         },
         "mode": "lines",
         "showlegend": false,
         "type": "scatter",
         "x": [
          2.099999999999998,
          2.174999999999998
         ],
         "y": [
          0.32318140961011155,
          0.3129742433176189
         ]
        },
        {
         "fill": "tozeroy",
         "fillcolor": "rgb(176,76,255)",
         "hoverinfo": "skip",
         "line": {
          "color": "rgba(0,0,0,0)"
         },
         "mode": "lines",
         "showlegend": false,
         "type": "scatter",
         "x": [
          2.175,
          2.25
         ],
         "y": [
          0.3129742433176189,
          0.30276707702512623
         ]
        },
        {
         "fill": "tozeroy",
         "fillcolor": "rgb(176,76,255)",
         "hoverinfo": "skip",
         "line": {
          "color": "rgba(0,0,0,0)"
         },
         "mode": "lines",
         "showlegend": false,
         "type": "scatter",
         "x": [
          2.25,
          2.325
         ],
         "y": [
          0.30276707702512623,
          0.29256790049754855
         ]
        },
        {
         "fill": "tozeroy",
         "fillcolor": "rgb(176,76,255)",
         "hoverinfo": "skip",
         "line": {
          "color": "rgba(0,0,0,0)"
         },
         "mode": "lines",
         "showlegend": false,
         "type": "scatter",
         "x": [
          2.3249999999999984,
          2.3999999999999986
         ],
         "y": [
          0.29256790049754855,
          0.2823687239699708
         ]
        },
        {
         "fill": "tozeroy",
         "fillcolor": "rgb(176,76,255)",
         "hoverinfo": "skip",
         "line": {
          "color": "rgba(0,0,0,0)"
         },
         "mode": "lines",
         "showlegend": false,
         "type": "scatter",
         "x": [
          2.3999999999999986,
          2.4749999999999988
         ],
         "y": [
          0.2823687239699708,
          0.27226549991724697
         ]
        },
        {
         "fill": "tozeroy",
         "fillcolor": "rgb(176,76,255)",
         "hoverinfo": "skip",
         "line": {
          "color": "rgba(0,0,0,0)"
         },
         "mode": "lines",
         "showlegend": false,
         "type": "scatter",
         "x": [
          2.4750000000000005,
          2.5500000000000007
         ],
         "y": [
          0.27226549991724697,
          0.2621622758645231
         ]
        },
        {
         "fill": "tozeroy",
         "fillcolor": "rgb(176,76,255)",
         "hoverinfo": "skip",
         "line": {
          "color": "rgba(0,0,0,0)"
         },
         "mode": "lines",
         "showlegend": false,
         "type": "scatter",
         "x": [
          2.5500000000000007,
          2.625000000000001
         ],
         "y": [
          0.2621622758645231,
          0.2522356164104671
         ]
        },
        {
         "fill": "tozeroy",
         "fillcolor": "rgb(176,76,255)",
         "hoverinfo": "skip",
         "line": {
          "color": "rgba(0,0,0,0)"
         },
         "mode": "lines",
         "showlegend": false,
         "type": "scatter",
         "x": [
          2.624999999999999,
          2.6999999999999993
         ],
         "y": [
          0.2522356164104671,
          0.24230895695641105
         ]
        },
        {
         "fill": "tozeroy",
         "fillcolor": "rgb(176,76,255)",
         "hoverinfo": "skip",
         "line": {
          "color": "rgba(0,0,0,0)"
         },
         "mode": "lines",
         "showlegend": false,
         "type": "scatter",
         "x": [
          2.6999999999999993,
          2.7749999999999995
         ],
         "y": [
          0.24230895695641105,
          0.23263125505025123
         ]
        },
        {
         "fill": "tozeroy",
         "fillcolor": "rgb(176,76,255)",
         "hoverinfo": "skip",
         "line": {
          "color": "rgba(0,0,0,0)"
         },
         "mode": "lines",
         "showlegend": false,
         "type": "scatter",
         "x": [
          2.7749999999999977,
          2.849999999999998
         ],
         "y": [
          0.23263125505025123,
          0.2229535531440914
         ]
        },
        {
         "fill": "tozeroy",
         "fillcolor": "rgb(176,76,255)",
         "hoverinfo": "skip",
         "line": {
          "color": "rgba(0,0,0,0)"
         },
         "mode": "lines",
         "showlegend": false,
         "type": "scatter",
         "x": [
          2.849999999999998,
          2.924999999999998
         ],
         "y": [
          0.2229535531440914,
          0.21358835515379482
         ]
        },
        {
         "fill": "tozeroy",
         "fillcolor": "rgb(176,76,255)",
         "hoverinfo": "skip",
         "line": {
          "color": "rgba(0,0,0,0)"
         },
         "mode": "lines",
         "showlegend": false,
         "type": "scatter",
         "x": [
          2.925,
          3
         ],
         "y": [
          0.21358835515379482,
          0.20422315716349823
         ]
        },
        {
         "fill": "tozeroy",
         "fillcolor": "rgb(176,76,255)",
         "hoverinfo": "skip",
         "line": {
          "color": "rgba(0,0,0,0)"
         },
         "mode": "lines",
         "showlegend": false,
         "type": "scatter",
         "x": [
          3,
          3.075
         ],
         "y": [
          0.20422315716349823,
          0.19522477462695745
         ]
        },
        {
         "fill": "tozeroy",
         "fillcolor": "rgb(176,76,255)",
         "hoverinfo": "skip",
         "line": {
          "color": "rgba(0,0,0,0)"
         },
         "mode": "lines",
         "showlegend": false,
         "type": "scatter",
         "x": [
          3.0749999999999984,
          3.1499999999999986
         ],
         "y": [
          0.19522477462695745,
          0.18622639209041666
         ]
        },
        {
         "fill": "tozeroy",
         "fillcolor": "rgb(176,76,255)",
         "hoverinfo": "skip",
         "line": {
          "color": "rgba(0,0,0,0)"
         },
         "mode": "lines",
         "showlegend": false,
         "type": "scatter",
         "x": [
          3.1499999999999986,
          3.2249999999999988
         ],
         "y": [
          0.18622639209041666,
          0.177639743555567
         ]
        },
        {
         "fill": "tozeroy",
         "fillcolor": "rgb(176,76,255)",
         "hoverinfo": "skip",
         "line": {
          "color": "rgba(0,0,0,0)"
         },
         "mode": "lines",
         "showlegend": false,
         "type": "scatter",
         "x": [
          3.2250000000000005,
          3.3000000000000007
         ],
         "y": [
          0.177639743555567,
          0.16905309502071733
         ]
        },
        {
         "fill": "tozeroy",
         "fillcolor": "rgb(176,76,255)",
         "hoverinfo": "skip",
         "line": {
          "color": "rgba(0,0,0,0)"
         },
         "mode": "lines",
         "showlegend": false,
         "type": "scatter",
         "x": [
          3.3000000000000007,
          3.375000000000001
         ],
         "y": [
          0.16905309502071733,
          0.16091376278291483
         ]
        },
        {
         "fill": "tozeroy",
         "fillcolor": "rgb(176,76,255)",
         "hoverinfo": "skip",
         "line": {
          "color": "rgba(0,0,0,0)"
         },
         "mode": "lines",
         "showlegend": false,
         "type": "scatter",
         "x": [
          3.374999999999999,
          3.4499999999999993
         ],
         "y": [
          0.16091376278291483,
          0.15277443054511233
         ]
        },
        {
         "fill": "tozeroy",
         "fillcolor": "rgb(176,76,255)",
         "hoverinfo": "skip",
         "line": {
          "color": "rgba(0,0,0,0)"
         },
         "mode": "lines",
         "showlegend": false,
         "type": "scatter",
         "x": [
          3.4499999999999993,
          3.5249999999999995
         ],
         "y": [
          0.15277443054511233,
          0.14510891190384512
         ]
        },
        {
         "fill": "tozeroy",
         "fillcolor": "rgb(176,76,255)",
         "hoverinfo": "skip",
         "line": {
          "color": "rgba(0,0,0,0)"
         },
         "mode": "lines",
         "showlegend": false,
         "type": "scatter",
         "x": [
          3.5249999999999977,
          3.599999999999998
         ],
         "y": [
          0.14510891190384512,
          0.13744339326257787
         ]
        },
        {
         "fill": "tozeroy",
         "fillcolor": "rgb(176,76,255)",
         "hoverinfo": "skip",
         "line": {
          "color": "rgba(0,0,0,0)"
         },
         "mode": "lines",
         "showlegend": false,
         "type": "scatter",
         "x": [
          3.599999999999998,
          3.674999999999998
         ],
         "y": [
          0.13744339326257787,
          0.13026952198748407
         ]
        },
        {
         "fill": "tozeroy",
         "fillcolor": "rgb(176,76,255)",
         "hoverinfo": "skip",
         "line": {
          "color": "rgba(0,0,0,0)"
         },
         "mode": "lines",
         "showlegend": false,
         "type": "scatter",
         "x": [
          3.675,
          3.75
         ],
         "y": [
          0.13026952198748407,
          0.12309565071239024
         ]
        },
        {
         "fill": "tozeroy",
         "fillcolor": "rgb(176,76,255)",
         "hoverinfo": "skip",
         "line": {
          "color": "rgba(0,0,0,0)"
         },
         "mode": "lines",
         "showlegend": false,
         "type": "scatter",
         "x": [
          3.75,
          3.825
         ],
         "y": [
          0.12309565071239024,
          0.11642316156625648
         ]
        },
        {
         "fill": "tozeroy",
         "fillcolor": "rgb(176,76,255)",
         "hoverinfo": "skip",
         "line": {
          "color": "rgba(0,0,0,0)"
         },
         "mode": "lines",
         "showlegend": false,
         "type": "scatter",
         "x": [
          3.8249999999999984,
          3.8999999999999986
         ],
         "y": [
          0.11642316156625648,
          0.10975067242012272
         ]
        },
        {
         "fill": "tozeroy",
         "fillcolor": "rgb(176,76,255)",
         "hoverinfo": "skip",
         "line": {
          "color": "rgba(0,0,0,0)"
         },
         "mode": "lines",
         "showlegend": false,
         "type": "scatter",
         "x": [
          3.8999999999999986,
          3.9749999999999988
         ],
         "y": [
          0.10975067242012272,
          0.1035818800364221
         ]
        },
        {
         "fill": "tozeroy",
         "fillcolor": "rgb(176,76,255)",
         "hoverinfo": "skip",
         "line": {
          "color": "rgba(0,0,0,0)"
         },
         "mode": "lines",
         "showlegend": false,
         "type": "scatter",
         "x": [
          3.9750000000000005,
          4.050000000000001
         ],
         "y": [
          0.1035818800364221,
          0.09741308765272148
         ]
        },
        {
         "fill": "tozeroy",
         "fillcolor": "rgb(176,76,255)",
         "hoverinfo": "skip",
         "line": {
          "color": "rgba(0,0,0,0)"
         },
         "mode": "lines",
         "showlegend": false,
         "type": "scatter",
         "x": [
          4.050000000000001,
          4.125000000000001
         ],
         "y": [
          0.09741308765272148,
          0.09174365058454925
         ]
        },
        {
         "fill": "tozeroy",
         "fillcolor": "rgb(176,76,255)",
         "hoverinfo": "skip",
         "line": {
          "color": "rgba(0,0,0,0)"
         },
         "mode": "lines",
         "showlegend": false,
         "type": "scatter",
         "x": [
          4.124999999999999,
          4.199999999999999
         ],
         "y": [
          0.09174365058454925,
          0.08607421351637703
         ]
        },
        {
         "fill": "tozeroy",
         "fillcolor": "rgb(176,76,255)",
         "hoverinfo": "skip",
         "line": {
          "color": "rgba(0,0,0,0)"
         },
         "mode": "lines",
         "showlegend": false,
         "type": "scatter",
         "x": [
          4.199999999999999,
          4.2749999999999995
         ],
         "y": [
          0.08607421351637703,
          0.08089395482787298
         ]
        },
        {
         "fill": "tozeroy",
         "fillcolor": "rgb(176,76,255)",
         "hoverinfo": "skip",
         "line": {
          "color": "rgba(0,0,0,0)"
         },
         "mode": "lines",
         "showlegend": false,
         "type": "scatter",
         "x": [
          4.274999999999998,
          4.349999999999998
         ],
         "y": [
          0.08089395482787298,
          0.07571369613936893
         ]
        },
        {
         "fill": "tozeroy",
         "fillcolor": "rgb(176,76,255)",
         "hoverinfo": "skip",
         "line": {
          "color": "rgba(0,0,0,0)"
         },
         "mode": "lines",
         "showlegend": false,
         "type": "scatter",
         "x": [
          4.349999999999998,
          4.424999999999998
         ],
         "y": [
          0.07571369613936893,
          0.07100745343619463
         ]
        },
        {
         "fill": "tozeroy",
         "fillcolor": "rgb(176,76,255)",
         "hoverinfo": "skip",
         "line": {
          "color": "rgba(0,0,0,0)"
         },
         "mode": "lines",
         "showlegend": false,
         "type": "scatter",
         "x": [
          4.425,
          4.5
         ],
         "y": [
          0.07100745343619463,
          0.06630121073302034
         ]
        },
        {
         "fill": "tozeroy",
         "fillcolor": "rgb(176,76,255)",
         "hoverinfo": "skip",
         "line": {
          "color": "rgba(0,0,0,0)"
         },
         "mode": "lines",
         "showlegend": false,
         "type": "scatter",
         "x": [
          4.5,
          4.575
         ],
         "y": [
          0.06630121073302034,
          0.062049690695247586
         ]
        },
        {
         "fill": "tozeroy",
         "fillcolor": "rgb(176,76,255)",
         "hoverinfo": "skip",
         "line": {
          "color": "rgba(0,0,0,0)"
         },
         "mode": "lines",
         "showlegend": false,
         "type": "scatter",
         "x": [
          4.574999999999998,
          4.649999999999999
         ],
         "y": [
          0.062049690695247586,
          0.05779817065747483
         ]
        },
        {
         "fill": "tozeroy",
         "fillcolor": "rgb(176,76,255)",
         "hoverinfo": "skip",
         "line": {
          "color": "rgba(0,0,0,0)"
         },
         "mode": "lines",
         "showlegend": false,
         "type": "scatter",
         "x": [
          4.649999999999999,
          4.724999999999999
         ],
         "y": [
          0.05779817065747483,
          0.053978786017251576
         ]
        },
        {
         "fill": "tozeroy",
         "fillcolor": "rgb(176,76,255)",
         "hoverinfo": "skip",
         "line": {
          "color": "rgba(0,0,0,0)"
         },
         "mode": "lines",
         "showlegend": false,
         "type": "scatter",
         "x": [
          4.7250000000000005,
          4.800000000000001
         ],
         "y": [
          0.053978786017251576,
          0.05015940137702833
         ]
        },
        {
         "fill": "tozeroy",
         "fillcolor": "rgb(176,76,255)",
         "hoverinfo": "skip",
         "line": {
          "color": "rgba(0,0,0,0)"
         },
         "mode": "lines",
         "showlegend": false,
         "type": "scatter",
         "x": [
          4.800000000000001,
          4.875000000000001
         ],
         "y": [
          0.05015940137702833,
          0.04674707142173047
         ]
        },
        {
         "fill": "tozeroy",
         "fillcolor": "rgb(176,76,255)",
         "hoverinfo": "skip",
         "line": {
          "color": "rgba(0,0,0,0)"
         },
         "mode": "lines",
         "showlegend": false,
         "type": "scatter",
         "x": [
          4.874999999999999,
          4.949999999999999
         ],
         "y": [
          0.04674707142173047,
          0.043334741466432604
         ]
        },
        {
         "fill": "tozeroy",
         "fillcolor": "rgb(176,76,255)",
         "hoverinfo": "skip",
         "line": {
          "color": "rgba(0,0,0,0)"
         },
         "mode": "lines",
         "showlegend": false,
         "type": "scatter",
         "x": [
          4.949999999999999,
          5.0249999999999995
         ],
         "y": [
          0.043334741466432604,
          0.040302640658701386
         ]
        },
        {
         "fill": "tozeroy",
         "fillcolor": "rgb(176,76,255)",
         "hoverinfo": "skip",
         "line": {
          "color": "rgba(0,0,0,0)"
         },
         "mode": "lines",
         "showlegend": false,
         "type": "scatter",
         "x": [
          5.024999999999998,
          5.099999999999998
         ],
         "y": [
          0.040302640658701386,
          0.03727053985097017
         ]
        },
        {
         "fill": "tozeroy",
         "fillcolor": "rgb(176,76,255)",
         "hoverinfo": "skip",
         "line": {
          "color": "rgba(0,0,0,0)"
         },
         "mode": "lines",
         "showlegend": false,
         "type": "scatter",
         "x": [
          5.099999999999998,
          5.174999999999998
         ],
         "y": [
          0.03727053985097017,
          0.03459078263791821
         ]
        },
        {
         "fill": "tozeroy",
         "fillcolor": "rgb(176,76,255)",
         "hoverinfo": "skip",
         "line": {
          "color": "rgba(0,0,0,0)"
         },
         "mode": "lines",
         "showlegend": false,
         "type": "scatter",
         "x": [
          5.175,
          5.25
         ],
         "y": [
          0.03459078263791821,
          0.031911025424866256
         ]
        },
        {
         "fill": "tozeroy",
         "fillcolor": "rgb(176,76,255)",
         "hoverinfo": "skip",
         "line": {
          "color": "rgba(0,0,0,0)"
         },
         "mode": "lines",
         "showlegend": false,
         "type": "scatter",
         "x": [
          5.25,
          5.325
         ],
         "y": [
          0.031911025424866256,
          0.02955527879828107
         ]
        },
        {
         "fill": "tozeroy",
         "fillcolor": "rgb(176,76,255)",
         "hoverinfo": "skip",
         "line": {
          "color": "rgba(0,0,0,0)"
         },
         "mode": "lines",
         "showlegend": false,
         "type": "scatter",
         "x": [
          5.324999999999998,
          5.399999999999999
         ],
         "y": [
          0.02955527879828107,
          0.027199532171695885
         ]
        },
        {
         "fill": "tozeroy",
         "fillcolor": "rgb(176,76,255)",
         "hoverinfo": "skip",
         "line": {
          "color": "rgba(0,0,0,0)"
         },
         "mode": "lines",
         "showlegend": false,
         "type": "scatter",
         "x": [
          5.399999999999999,
          5.474999999999999
         ],
         "y": [
          0.027199532171695885,
          0.02513955075307938
         ]
        },
        {
         "fill": "tozeroy",
         "fillcolor": "rgb(176,76,255)",
         "hoverinfo": "skip",
         "line": {
          "color": "rgba(0,0,0,0)"
         },
         "mode": "lines",
         "showlegend": false,
         "type": "scatter",
         "x": [
          5.4750000000000005,
          5.550000000000001
         ],
         "y": [
          0.02513955075307938,
          0.02307956933446288
         ]
        },
        {
         "fill": "tozeroy",
         "fillcolor": "rgb(176,76,255)",
         "hoverinfo": "skip",
         "line": {
          "color": "rgba(0,0,0,0)"
         },
         "mode": "lines",
         "showlegend": false,
         "type": "scatter",
         "x": [
          5.550000000000001,
          5.625000000000001
         ],
         "y": [
          0.02307956933446288,
          0.021287650819236045
         ]
        },
        {
         "fill": "tozeroy",
         "fillcolor": "rgb(176,76,255)",
         "hoverinfo": "skip",
         "line": {
          "color": "rgba(0,0,0,0)"
         },
         "mode": "lines",
         "showlegend": false,
         "type": "scatter",
         "x": [
          5.624999999999999,
          5.699999999999999
         ],
         "y": [
          0.021287650819236045,
          0.019495732304009212
         ]
        },
        {
         "fill": "tozeroy",
         "fillcolor": "rgb(176,76,255)",
         "hoverinfo": "skip",
         "line": {
          "color": "rgba(0,0,0,0)"
         },
         "mode": "lines",
         "showlegend": false,
         "type": "scatter",
         "x": [
          5.699999999999999,
          5.7749999999999995
         ],
         "y": [
          0.019495732304009212,
          0.017945093666581834
         ]
        },
        {
         "fill": "tozeroy",
         "fillcolor": "rgb(176,76,255)",
         "hoverinfo": "skip",
         "line": {
          "color": "rgba(0,0,0,0)"
         },
         "mode": "lines",
         "showlegend": false,
         "type": "scatter",
         "x": [
          5.774999999999998,
          5.849999999999998
         ],
         "y": [
          0.017945093666581834,
          0.016394455029154455
         ]
        },
        {
         "fill": "tozeroy",
         "fillcolor": "rgb(176,76,255)",
         "hoverinfo": "skip",
         "line": {
          "color": "rgba(0,0,0,0)"
         },
         "mode": "lines",
         "showlegend": false,
         "type": "scatter",
         "x": [
          5.849999999999998,
          5.924999999999998
         ],
         "y": [
          0.016394455029154455,
          0.015059532156506013
         ]
        },
        {
         "fill": "tozeroy",
         "fillcolor": "rgb(176,76,255)",
         "hoverinfo": "skip",
         "line": {
          "color": "rgba(0,0,0,0)"
         },
         "mode": "lines",
         "showlegend": false,
         "type": "scatter",
         "x": [
          5.925,
          6
         ],
         "y": [
          0.015059532156506013,
          0.013724609283857573
         ]
        },
        {
         "fill": "tozeroy",
         "fillcolor": "rgb(176,76,255)",
         "hoverinfo": "skip",
         "line": {
          "color": "rgba(0,0,0,0)"
         },
         "mode": "lines",
         "showlegend": false,
         "type": "scatter",
         "x": [
          6,
          6.075
         ],
         "y": [
          0.013724609283857573,
          0.012581284471184565
         ]
        },
        {
         "fill": "tozeroy",
         "fillcolor": "rgb(176,76,255)",
         "hoverinfo": "skip",
         "line": {
          "color": "rgba(0,0,0,0)"
         },
         "mode": "lines",
         "showlegend": false,
         "type": "scatter",
         "x": [
          6.074999999999998,
          6.149999999999999
         ],
         "y": [
          0.012581284471184565,
          0.011437959658511555
         ]
        },
        {
         "fill": "tozeroy",
         "fillcolor": "rgb(176,76,255)",
         "hoverinfo": "skip",
         "line": {
          "color": "rgba(0,0,0,0)"
         },
         "mode": "lines",
         "showlegend": false,
         "type": "scatter",
         "x": [
          6.149999999999999,
          6.224999999999999
         ],
         "y": [
          0.011437959658511555,
          0.010463722834269818
         ]
        },
        {
         "fill": "tozeroy",
         "fillcolor": "rgb(176,76,255)",
         "hoverinfo": "skip",
         "line": {
          "color": "rgba(0,0,0,0)"
         },
         "mode": "lines",
         "showlegend": false,
         "type": "scatter",
         "x": [
          6.2250000000000005,
          6.300000000000001
         ],
         "y": [
          0.010463722834269818,
          0.009489486010028083
         ]
        },
        {
         "fill": "tozeroy",
         "fillcolor": "rgb(176,76,255)",
         "hoverinfo": "skip",
         "line": {
          "color": "rgba(0,0,0,0)"
         },
         "mode": "lines",
         "showlegend": false,
         "type": "scatter",
         "x": [
          6.300000000000001,
          6.375000000000001
         ],
         "y": [
          0.009489486010028083,
          0.008663536466734246
         ]
        },
        {
         "fill": "tozeroy",
         "fillcolor": "rgb(176,76,255)",
         "hoverinfo": "skip",
         "line": {
          "color": "rgba(0,0,0,0)"
         },
         "mode": "lines",
         "showlegend": false,
         "type": "scatter",
         "x": [
          6.374999999999999,
          6.449999999999999
         ],
         "y": [
          0.008663536466734246,
          0.00783758692344041
         ]
        },
        {
         "fill": "tozeroy",
         "fillcolor": "rgb(176,76,255)",
         "hoverinfo": "skip",
         "line": {
          "color": "rgba(0,0,0,0)"
         },
         "mode": "lines",
         "showlegend": false,
         "type": "scatter",
         "x": [
          6.449999999999999,
          6.5249999999999995
         ],
         "y": [
          0.00783758692344041,
          0.007140882952464931
         ]
        },
        {
         "fill": "tozeroy",
         "fillcolor": "rgb(176,76,255)",
         "hoverinfo": "skip",
         "line": {
          "color": "rgba(0,0,0,0)"
         },
         "mode": "lines",
         "showlegend": false,
         "type": "scatter",
         "x": [
          6.524999999999998,
          6.599999999999998
         ],
         "y": [
          0.007140882952464931,
          0.006444178981489453
         ]
        },
        {
         "fill": "tozeroy",
         "fillcolor": "rgb(176,76,255)",
         "hoverinfo": "skip",
         "line": {
          "color": "rgba(0,0,0,0)"
         },
         "mode": "lines",
         "showlegend": false,
         "type": "scatter",
         "x": [
          6.599999999999998,
          6.674999999999998
         ],
         "y": [
          0.006444178981489453,
          0.005859443063096925
         ]
        },
        {
         "fill": "tozeroy",
         "fillcolor": "rgb(176,76,255)",
         "hoverinfo": "skip",
         "line": {
          "color": "rgba(0,0,0,0)"
         },
         "mode": "lines",
         "showlegend": false,
         "type": "scatter",
         "x": [
          6.675,
          6.75
         ],
         "y": [
          0.005859443063096925,
          0.005274707144704397
         ]
        },
        {
         "fill": "tozeroy",
         "fillcolor": "rgb(176,76,255)",
         "hoverinfo": "skip",
         "line": {
          "color": "rgba(0,0,0,0)"
         },
         "mode": "lines",
         "showlegend": false,
         "type": "scatter",
         "x": [
          6.75,
          6.825
         ],
         "y": [
          0.005274707144704397,
          0.0047863942756501245
         ]
        },
        {
         "fill": "tozeroy",
         "fillcolor": "rgb(176,76,255)",
         "hoverinfo": "skip",
         "line": {
          "color": "rgba(0,0,0,0)"
         },
         "mode": "lines",
         "showlegend": false,
         "type": "scatter",
         "x": [
          6.824999999999998,
          6.899999999999999
         ],
         "y": [
          0.0047863942756501245,
          0.004298081406595852
         ]
        },
        {
         "fill": "tozeroy",
         "fillcolor": "rgb(176,76,255)",
         "hoverinfo": "skip",
         "line": {
          "color": "rgba(0,0,0,0)"
         },
         "mode": "lines",
         "showlegend": false,
         "type": "scatter",
         "x": [
          6.899999999999999,
          6.974999999999999
         ],
         "y": [
          0.004298081406595852,
          0.0038923178734784868
         ]
        },
        {
         "fill": "tozeroy",
         "fillcolor": "rgb(176,76,255)",
         "hoverinfo": "skip",
         "line": {
          "color": "rgba(0,0,0,0)"
         },
         "mode": "lines",
         "showlegend": false,
         "type": "scatter",
         "x": [
          6.9750000000000005,
          7.050000000000001
         ],
         "y": [
          0.0038923178734784868,
          0.0034865543403611214
         ]
        },
        {
         "fill": "tozeroy",
         "fillcolor": "rgb(176,76,255)",
         "hoverinfo": "skip",
         "line": {
          "color": "rgba(0,0,0,0)"
         },
         "mode": "lines",
         "showlegend": false,
         "type": "scatter",
         "x": [
          7.050000000000001,
          7.125000000000001
         ],
         "y": [
          0.0034865543403611214,
          0.003151053802463476
         ]
        },
        {
         "fill": "tozeroy",
         "fillcolor": "rgb(176,76,255)",
         "hoverinfo": "skip",
         "line": {
          "color": "rgba(0,0,0,0)"
         },
         "mode": "lines",
         "showlegend": false,
         "type": "scatter",
         "x": [
          7.124999999999999,
          7.199999999999999
         ],
         "y": [
          0.003151053802463476,
          0.0028155532645658308
         ]
        },
        {
         "fill": "tozeroy",
         "fillcolor": "rgb(176,76,255)",
         "hoverinfo": "skip",
         "line": {
          "color": "rgba(0,0,0,0)"
         },
         "mode": "lines",
         "showlegend": false,
         "type": "scatter",
         "x": [
          7.199999999999999,
          7.2749999999999995
         ],
         "y": [
          0.0028155532645658308,
          0.0025395163572468314
         ]
        },
        {
         "fill": "tozeroy",
         "fillcolor": "rgb(176,76,255)",
         "hoverinfo": "skip",
         "line": {
          "color": "rgba(0,0,0,0)"
         },
         "mode": "lines",
         "showlegend": false,
         "type": "scatter",
         "x": [
          7.274999999999998,
          7.349999999999998
         ],
         "y": [
          0.0025395163572468314,
          0.002263479449927832
         ]
        },
        {
         "fill": "tozeroy",
         "fillcolor": "rgb(176,76,255)",
         "hoverinfo": "skip",
         "line": {
          "color": "rgba(0,0,0,0)"
         },
         "mode": "lines",
         "showlegend": false,
         "type": "scatter",
         "x": [
          7.349999999999998,
          7.424999999999998
         ],
         "y": [
          0.002263479449927832,
          0.0020374824542009062
         ]
        },
        {
         "fill": "tozeroy",
         "fillcolor": "rgb(176,76,255)",
         "hoverinfo": "skip",
         "line": {
          "color": "rgba(0,0,0,0)"
         },
         "mode": "lines",
         "showlegend": false,
         "type": "scatter",
         "x": [
          7.425,
          7.5
         ],
         "y": [
          0.0020374824542009062,
          0.0018114854584739808
         ]
        },
        {
         "fill": "tozeroy",
         "fillcolor": "rgb(176,76,255)",
         "hoverinfo": "skip",
         "line": {
          "color": "rgba(0,0,0,0)"
         },
         "mode": "lines",
         "showlegend": false,
         "type": "scatter",
         "x": [
          7.5,
          7.575
         ],
         "y": [
          0.0018114854584739808,
          0.0016273628428747186
         ]
        },
        {
         "fill": "tozeroy",
         "fillcolor": "rgb(176,76,255)",
         "hoverinfo": "skip",
         "line": {
          "color": "rgba(0,0,0,0)"
         },
         "mode": "lines",
         "showlegend": false,
         "type": "scatter",
         "x": [
          7.574999999999998,
          7.649999999999999
         ],
         "y": [
          0.0016273628428747186,
          0.0014432402272754566
         ]
        },
        {
         "fill": "tozeroy",
         "fillcolor": "rgb(176,76,255)",
         "hoverinfo": "skip",
         "line": {
          "color": "rgba(0,0,0,0)"
         },
         "mode": "lines",
         "showlegend": false,
         "type": "scatter",
         "x": [
          7.649999999999999,
          7.724999999999999
         ],
         "y": [
          0.0014432402272754566,
          0.001293965080615059
         ]
        },
        {
         "fill": "tozeroy",
         "fillcolor": "rgb(176,76,255)",
         "hoverinfo": "skip",
         "line": {
          "color": "rgba(0,0,0,0)"
         },
         "mode": "lines",
         "showlegend": false,
         "type": "scatter",
         "x": [
          7.7250000000000005,
          7.800000000000001
         ],
         "y": [
          0.001293965080615059,
          0.0011446899339546612
         ]
        },
        {
         "fill": "tozeroy",
         "fillcolor": "rgb(176,76,255)",
         "hoverinfo": "skip",
         "line": {
          "color": "rgba(0,0,0,0)"
         },
         "mode": "lines",
         "showlegend": false,
         "type": "scatter",
         "x": [
          7.800000000000001,
          7.875000000000001
         ],
         "y": [
          0.0011446899339546612,
          0.0010242556002665862
         ]
        },
        {
         "fill": "tozeroy",
         "fillcolor": "rgb(176,76,255)",
         "hoverinfo": "skip",
         "line": {
          "color": "rgba(0,0,0,0)"
         },
         "mode": "lines",
         "showlegend": false,
         "type": "scatter",
         "x": [
          7.874999999999999,
          7.949999999999999
         ],
         "y": [
          0.0010242556002665862,
          0.0009038212665785113
         ]
        },
        {
         "fill": "tozeroy",
         "fillcolor": "rgb(176,76,255)",
         "hoverinfo": "skip",
         "line": {
          "color": "rgba(0,0,0,0)"
         },
         "mode": "lines",
         "showlegend": false,
         "type": "scatter",
         "x": [
          7.949999999999999,
          8.024999999999999
         ],
         "y": [
          0.0009038212665785113,
          0.0008071267772270889
         ]
        },
        {
         "fill": "tozeroy",
         "fillcolor": "rgb(176,76,255)",
         "hoverinfo": "skip",
         "line": {
          "color": "rgba(0,0,0,0)"
         },
         "mode": "lines",
         "showlegend": false,
         "type": "scatter",
         "x": [
          8.024999999999999,
          8.099999999999998
         ],
         "y": [
          0.0008071267772270889,
          0.0007104322878756667
         ]
        },
        {
         "fill": "tozeroy",
         "fillcolor": "rgb(176,76,255)",
         "hoverinfo": "skip",
         "line": {
          "color": "rgba(0,0,0,0)"
         },
         "mode": "lines",
         "showlegend": false,
         "type": "scatter",
         "x": [
          8.099999999999998,
          8.174999999999997
         ],
         "y": [
          0.0007104322878756667,
          0.0006331735560676287
         ]
        },
        {
         "fill": "tozeroy",
         "fillcolor": "rgb(176,76,255)",
         "hoverinfo": "skip",
         "line": {
          "color": "rgba(0,0,0,0)"
         },
         "mode": "lines",
         "showlegend": false,
         "type": "scatter",
         "x": [
          8.175,
          8.25
         ],
         "y": [
          0.0006331735560676287,
          0.0005559148242595908
         ]
        },
        {
         "fill": "tozeroy",
         "fillcolor": "rgb(176,76,255)",
         "hoverinfo": "skip",
         "line": {
          "color": "rgba(0,0,0,0)"
         },
         "mode": "lines",
         "showlegend": false,
         "type": "scatter",
         "x": [
          8.25,
          8.325
         ],
         "y": [
          0.0005559148242595908,
          0.0004944830070027345
         ]
        },
        {
         "fill": "tozeroy",
         "fillcolor": "rgb(176,76,255)",
         "hoverinfo": "skip",
         "line": {
          "color": "rgba(0,0,0,0)"
         },
         "mode": "lines",
         "showlegend": false,
         "type": "scatter",
         "x": [
          8.325,
          8.399999999999999
         ],
         "y": [
          0.0004944830070027345,
          0.0004330511897458782
         ]
        },
        {
         "fill": "tozeroy",
         "fillcolor": "rgb(176,76,255)",
         "hoverinfo": "skip",
         "line": {
          "color": "rgba(0,0,0,0)"
         },
         "mode": "lines",
         "showlegend": false,
         "type": "scatter",
         "x": [
          8.399999999999999,
          8.474999999999998
         ],
         "y": [
          0.0004330511897458782,
          0.00038443910117723985
         ]
        },
        {
         "fill": "tozeroy",
         "fillcolor": "rgb(176,76,255)",
         "hoverinfo": "skip",
         "line": {
          "color": "rgba(0,0,0,0)"
         },
         "mode": "lines",
         "showlegend": false,
         "type": "scatter",
         "x": [
          8.475000000000001,
          8.55
         ],
         "y": [
          0.00038443910117723985,
          0.00033582701260860147
         ]
        },
        {
         "fill": "tozeroy",
         "fillcolor": "rgb(176,76,255)",
         "hoverinfo": "skip",
         "line": {
          "color": "rgba(0,0,0,0)"
         },
         "mode": "lines",
         "showlegend": false,
         "type": "scatter",
         "x": [
          8.55,
          8.625
         ],
         "y": [
          0.00033582701260860147,
          0.0002975440688241564
         ]
        },
        {
         "fill": "tozeroy",
         "fillcolor": "rgb(176,76,255)",
         "hoverinfo": "skip",
         "line": {
          "color": "rgba(0,0,0,0)"
         },
         "mode": "lines",
         "showlegend": false,
         "type": "scatter",
         "x": [
          8.625,
          8.7
         ],
         "y": [
          0.0002975440688241564,
          0.0002592611250397114
         ]
        },
        {
         "fill": "tozeroy",
         "fillcolor": "rgb(176,76,255)",
         "hoverinfo": "skip",
         "line": {
          "color": "rgba(0,0,0,0)"
         },
         "mode": "lines",
         "showlegend": false,
         "type": "scatter",
         "x": [
          8.7,
          8.774999999999999
         ],
         "y": [
          0.0002592611250397114,
          0.00022925699153596786
         ]
        },
        {
         "fill": "tozeroy",
         "fillcolor": "rgb(176,76,255)",
         "hoverinfo": "skip",
         "line": {
          "color": "rgba(0,0,0,0)"
         },
         "mode": "lines",
         "showlegend": false,
         "type": "scatter",
         "x": [
          8.774999999999999,
          8.849999999999998
         ],
         "y": [
          0.00022925699153596786,
          0.00019925285803222437
         ]
        },
        {
         "fill": "tozeroy",
         "fillcolor": "rgb(176,76,255)",
         "hoverinfo": "skip",
         "line": {
          "color": "rgba(0,0,0,0)"
         },
         "mode": "lines",
         "showlegend": false,
         "type": "scatter",
         "x": [
          8.849999999999998,
          8.924999999999997
         ],
         "y": [
          0.00019925285803222437,
          0.00017584960962512968
         ]
        },
        {
         "fill": "tozeroy",
         "fillcolor": "rgb(176,76,255)",
         "hoverinfo": "skip",
         "line": {
          "color": "rgba(0,0,0,0)"
         },
         "mode": "lines",
         "showlegend": false,
         "type": "scatter",
         "x": [
          8.925,
          9
         ],
         "y": [
          0.00017584960962512968,
          0.000152446361218035
         ]
        },
        {
         "fill": "tozeroy",
         "fillcolor": "rgb(176,76,255)",
         "hoverinfo": "skip",
         "line": {
          "color": "rgba(0,0,0,0)"
         },
         "mode": "lines",
         "showlegend": false,
         "type": "scatter",
         "x": [
          9,
          9.075
         ],
         "y": [
          0.000152446361218035,
          0.00013427888546768137
         ]
        },
        {
         "fill": "tozeroy",
         "fillcolor": "rgb(176,76,255)",
         "hoverinfo": "skip",
         "line": {
          "color": "rgba(0,0,0,0)"
         },
         "mode": "lines",
         "showlegend": false,
         "type": "scatter",
         "x": [
          9.075,
          9.149999999999999
         ],
         "y": [
          0.00013427888546768137,
          0.00011611140971732776
         ]
        },
        {
         "fill": "tozeroy",
         "fillcolor": "rgb(176,76,255)",
         "hoverinfo": "skip",
         "line": {
          "color": "rgba(0,0,0,0)"
         },
         "mode": "lines",
         "showlegend": false,
         "type": "scatter",
         "x": [
          9.149999999999999,
          9.224999999999998
         ],
         "y": [
          0.00011611140971732776,
          0.00010207550686201604
         ]
        },
        {
         "fill": "tozeroy",
         "fillcolor": "rgb(176,76,255)",
         "hoverinfo": "skip",
         "line": {
          "color": "rgba(0,0,0,0)"
         },
         "mode": "lines",
         "showlegend": false,
         "type": "scatter",
         "x": [
          9.225000000000001,
          9.3
         ],
         "y": [
          0.00010207550686201604,
          0.00008803960400670431
         ]
        },
        {
         "fill": "tozeroy",
         "fillcolor": "rgb(176,76,255)",
         "hoverinfo": "skip",
         "line": {
          "color": "rgba(0,0,0,0)"
         },
         "mode": "lines",
         "showlegend": false,
         "type": "scatter",
         "x": [
          9.3,
          9.375
         ],
         "y": [
          0.00008803960400670431,
          0.00007724721834444742
         ]
        },
        {
         "fill": "tozeroy",
         "fillcolor": "rgb(176,76,255)",
         "hoverinfo": "skip",
         "line": {
          "color": "rgba(0,0,0,0)"
         },
         "mode": "lines",
         "showlegend": false,
         "type": "scatter",
         "x": [
          9.375,
          9.45
         ],
         "y": [
          0.00007724721834444742,
          0.00006645483268219053
         ]
        },
        {
         "fill": "tozeroy",
         "fillcolor": "rgb(176,76,255)",
         "hoverinfo": "skip",
         "line": {
          "color": "rgba(0,0,0,0)"
         },
         "mode": "lines",
         "showlegend": false,
         "type": "scatter",
         "x": [
          9.45,
          9.524999999999999
         ],
         "y": [
          0.00006645483268219053,
          0.00005819579566843078
         ]
        },
        {
         "fill": "tozeroy",
         "fillcolor": "rgb(176,76,255)",
         "hoverinfo": "skip",
         "line": {
          "color": "rgba(0,0,0,0)"
         },
         "mode": "lines",
         "showlegend": false,
         "type": "scatter",
         "x": [
          9.524999999999999,
          9.599999999999998
         ],
         "y": [
          0.00005819579566843078,
          0.00004993675865467104
         ]
        },
        {
         "fill": "tozeroy",
         "fillcolor": "rgb(176,76,255)",
         "hoverinfo": "skip",
         "line": {
          "color": "rgba(0,0,0,0)"
         },
         "mode": "lines",
         "showlegend": false,
         "type": "scatter",
         "x": [
          9.599999999999998,
          9.674999999999997
         ],
         "y": [
          0.00004993675865467104,
          0.000043646338066795805
         ]
        },
        {
         "fill": "tozeroy",
         "fillcolor": "rgb(176,76,255)",
         "hoverinfo": "skip",
         "line": {
          "color": "rgba(0,0,0,0)"
         },
         "mode": "lines",
         "showlegend": false,
         "type": "scatter",
         "x": [
          9.675,
          9.75
         ],
         "y": [
          0.000043646338066795805,
          0.00003735591747892057
         ]
        },
        {
         "fill": "tozeroy",
         "fillcolor": "rgb(176,76,255)",
         "hoverinfo": "skip",
         "line": {
          "color": "rgba(0,0,0,0)"
         },
         "mode": "lines",
         "showlegend": false,
         "type": "scatter",
         "x": [
          9.75,
          9.825
         ],
         "y": [
          0.00003735591747892057,
          0.00003258753157100574
         ]
        },
        {
         "fill": "tozeroy",
         "fillcolor": "rgb(176,76,255)",
         "hoverinfo": "skip",
         "line": {
          "color": "rgba(0,0,0,0)"
         },
         "mode": "lines",
         "showlegend": false,
         "type": "scatter",
         "x": [
          9.825,
          9.899999999999999
         ],
         "y": [
          0.00003258753157100574,
          0.000027819145663090902
         ]
        },
        {
         "fill": "tozeroy",
         "fillcolor": "rgb(176,76,255)",
         "hoverinfo": "skip",
         "line": {
          "color": "rgba(0,0,0,0)"
         },
         "mode": "lines",
         "showlegend": false,
         "type": "scatter",
         "x": [
          9.899999999999999,
          9.974999999999998
         ],
         "y": [
          0.000027819145663090902,
          0.000024221584107311432
         ]
        },
        {
         "fill": "tozeroy",
         "fillcolor": "rgb(176,76,255)",
         "hoverinfo": "skip",
         "line": {
          "color": "rgba(0,0,0,0)"
         },
         "mode": "lines",
         "showlegend": false,
         "type": "scatter",
         "x": [
          9.975000000000001,
          10.05
         ],
         "y": [
          0.000024221584107311432,
          0.000020624022551531963
         ]
        },
        {
         "fill": "tozeroy",
         "fillcolor": "rgb(176,76,255)",
         "hoverinfo": "skip",
         "line": {
          "color": "rgba(0,0,0,0)"
         },
         "mode": "lines",
         "showlegend": false,
         "type": "scatter",
         "x": [
          10.05,
          10.125
         ],
         "y": [
          0.000020624022551531963,
          0.00001792259809599261
         ]
        },
        {
         "fill": "tozeroy",
         "fillcolor": "rgb(176,76,255)",
         "hoverinfo": "skip",
         "line": {
          "color": "rgba(0,0,0,0)"
         },
         "mode": "lines",
         "showlegend": false,
         "type": "scatter",
         "x": [
          10.125,
          10.2
         ],
         "y": [
          0.00001792259809599261,
          0.000015221173640453252
         ]
        },
        {
         "fill": "tozeroy",
         "fillcolor": "rgb(176,76,255)",
         "hoverinfo": "skip",
         "line": {
          "color": "rgba(0,0,0,0)"
         },
         "mode": "lines",
         "showlegend": false,
         "type": "scatter",
         "x": [
          10.2,
          10.274999999999999
         ],
         "y": [
          0.000015221173640453252,
          0.000013202213142113707
         ]
        },
        {
         "fill": "tozeroy",
         "fillcolor": "rgb(176,76,255)",
         "hoverinfo": "skip",
         "line": {
          "color": "rgba(0,0,0,0)"
         },
         "mode": "lines",
         "showlegend": false,
         "type": "scatter",
         "x": [
          10.274999999999999,
          10.349999999999998
         ],
         "y": [
          0.000013202213142113707,
          0.000011183252643774161
         ]
        },
        {
         "fill": "tozeroy",
         "fillcolor": "rgb(176,76,255)",
         "hoverinfo": "skip",
         "line": {
          "color": "rgba(0,0,0,0)"
         },
         "mode": "lines",
         "showlegend": false,
         "type": "scatter",
         "x": [
          10.349999999999998,
          10.424999999999997
         ],
         "y": [
          0.000011183252643774161,
          0.000009681438558676324
         ]
        },
        {
         "fill": "tozeroy",
         "fillcolor": "rgb(176,76,255)",
         "hoverinfo": "skip",
         "line": {
          "color": "rgba(0,0,0,0)"
         },
         "mode": "lines",
         "showlegend": false,
         "type": "scatter",
         "x": [
          10.425,
          10.5
         ],
         "y": [
          0.000009681438558676324,
          0.000008179624473578489
         ]
        },
        {
         "fill": "tozeroy",
         "fillcolor": "rgb(176,76,255)",
         "hoverinfo": "skip",
         "line": {
          "color": "rgba(0,0,0,0)"
         },
         "mode": "lines",
         "showlegend": false,
         "type": "scatter",
         "x": [
          10.5,
          10.575
         ],
         "y": [
          0.000008179624473578489,
          0.0000070677388586128675
         ]
        },
        {
         "fill": "tozeroy",
         "fillcolor": "rgb(176,76,255)",
         "hoverinfo": "skip",
         "line": {
          "color": "rgba(0,0,0,0)"
         },
         "mode": "lines",
         "showlegend": false,
         "type": "scatter",
         "x": [
          10.575,
          10.649999999999999
         ],
         "y": [
          0.0000070677388586128675,
          0.0000059558532436472474
         ]
        },
        {
         "fill": "tozeroy",
         "fillcolor": "rgb(176,76,255)",
         "hoverinfo": "skip",
         "line": {
          "color": "rgba(0,0,0,0)"
         },
         "mode": "lines",
         "showlegend": false,
         "type": "scatter",
         "x": [
          10.649999999999999,
          10.724999999999998
         ],
         "y": [
          0.0000059558532436472474,
          0.000005136513625533655
         ]
        },
        {
         "fill": "tozeroy",
         "fillcolor": "rgb(176,76,255)",
         "hoverinfo": "skip",
         "line": {
          "color": "rgba(0,0,0,0)"
         },
         "mode": "lines",
         "showlegend": false,
         "type": "scatter",
         "x": [
          10.725000000000001,
          10.8
         ],
         "y": [
          0.000005136513625533655,
          0.000004317174007420063
         ]
        },
        {
         "fill": "tozeroy",
         "fillcolor": "rgb(176,76,255)",
         "hoverinfo": "skip",
         "line": {
          "color": "rgba(0,0,0,0)"
         },
         "mode": "lines",
         "showlegend": false,
         "type": "scatter",
         "x": [
          10.8,
          10.875
         ],
         "y": [
          0.000004317174007420063,
          0.000003716239357063622
         ]
        },
        {
         "fill": "tozeroy",
         "fillcolor": "rgb(176,76,255)",
         "hoverinfo": "skip",
         "line": {
          "color": "rgba(0,0,0,0)"
         },
         "mode": "lines",
         "showlegend": false,
         "type": "scatter",
         "x": [
          10.875,
          10.95
         ],
         "y": [
          0.000003716239357063622,
          0.00000311530470670718
         ]
        },
        {
         "fill": "tozeroy",
         "fillcolor": "rgb(176,76,255)",
         "hoverinfo": "skip",
         "line": {
          "color": "rgba(0,0,0,0)"
         },
         "mode": "lines",
         "showlegend": false,
         "type": "scatter",
         "x": [
          10.95,
          11.024999999999999
         ],
         "y": [
          0.00000311530470670718,
          0.0000026766177868586456
         ]
        },
        {
         "fill": "tozeroy",
         "fillcolor": "rgb(176,76,255)",
         "hoverinfo": "skip",
         "line": {
          "color": "rgba(0,0,0,0)"
         },
         "mode": "lines",
         "showlegend": false,
         "type": "scatter",
         "x": [
          11.024999999999999,
          11.099999999999998
         ],
         "y": [
          0.0000026766177868586456,
          0.0000022379308670101107
         ]
        },
        {
         "fill": "tozeroy",
         "fillcolor": "rgb(176,76,255)",
         "hoverinfo": "skip",
         "line": {
          "color": "rgba(0,0,0,0)"
         },
         "mode": "lines",
         "showlegend": false,
         "type": "scatter",
         "x": [
          11.099999999999998,
          11.174999999999997
         ],
         "y": [
          0.0000022379308670101107,
          0.000001919182834472002
         ]
        },
        {
         "fill": "tozeroy",
         "fillcolor": "rgb(176,76,255)",
         "hoverinfo": "skip",
         "line": {
          "color": "rgba(0,0,0,0)"
         },
         "mode": "lines",
         "showlegend": false,
         "type": "scatter",
         "x": [
          11.175,
          11.25
         ],
         "y": [
          0.000001919182834472002,
          0.0000016004348019338935
         ]
        },
        {
         "fill": "tozeroy",
         "fillcolor": "rgb(176,76,255)",
         "hoverinfo": "skip",
         "line": {
          "color": "rgba(0,0,0,0)"
         },
         "mode": "lines",
         "showlegend": false,
         "type": "scatter",
         "x": [
          11.25,
          11.325
         ],
         "y": [
          0.0000016004348019338935,
          0.0000013699137573879729
         ]
        },
        {
         "fill": "tozeroy",
         "fillcolor": "rgb(176,76,255)",
         "hoverinfo": "skip",
         "line": {
          "color": "rgba(0,0,0,0)"
         },
         "mode": "lines",
         "showlegend": false,
         "type": "scatter",
         "x": [
          11.325,
          11.399999999999999
         ],
         "y": [
          0.0000013699137573879729,
          0.000001139392712842052
         ]
        },
        {
         "fill": "tozeroy",
         "fillcolor": "rgb(176,76,255)",
         "hoverinfo": "skip",
         "line": {
          "color": "rgba(0,0,0,0)"
         },
         "mode": "lines",
         "showlegend": false,
         "type": "scatter",
         "x": [
          11.399999999999999,
          11.474999999999998
         ],
         "y": [
          0.000001139392712842052,
          9.734574226765337e-7
         ]
        },
        {
         "fill": "tozeroy",
         "fillcolor": "rgb(176,76,255)",
         "hoverinfo": "skip",
         "line": {
          "color": "rgba(0,0,0,0)"
         },
         "mode": "lines",
         "showlegend": false,
         "type": "scatter",
         "x": [
          11.475000000000001,
          11.55
         ],
         "y": [
          9.734574226765337e-7,
          8.075221325110155e-7
         ]
        },
        {
         "fill": "tozeroy",
         "fillcolor": "rgb(176,76,255)",
         "hoverinfo": "skip",
         "line": {
          "color": "rgba(0,0,0,0)"
         },
         "mode": "lines",
         "showlegend": false,
         "type": "scatter",
         "x": [
          11.55,
          11.625
         ],
         "y": [
          8.075221325110155e-7,
          6.886311692203043e-7
         ]
        },
        {
         "fill": "tozeroy",
         "fillcolor": "rgb(176,76,255)",
         "hoverinfo": "skip",
         "line": {
          "color": "rgba(0,0,0,0)"
         },
         "mode": "lines",
         "showlegend": false,
         "type": "scatter",
         "x": [
          11.625,
          11.7
         ],
         "y": [
          6.886311692203043e-7,
          5.697402059295931e-7
         ]
        },
        {
         "fill": "tozeroy",
         "fillcolor": "rgb(176,76,255)",
         "hoverinfo": "skip",
         "line": {
          "color": "rgba(0,0,0,0)"
         },
         "mode": "lines",
         "showlegend": false,
         "type": "scatter",
         "x": [
          11.7,
          11.774999999999999
         ],
         "y": [
          5.697402059295931e-7,
          4.849524514074472e-7
         ]
        },
        {
         "fill": "tozeroy",
         "fillcolor": "rgb(176,76,255)",
         "hoverinfo": "skip",
         "line": {
          "color": "rgba(0,0,0,0)"
         },
         "mode": "lines",
         "showlegend": false,
         "type": "scatter",
         "x": [
          11.774999999999999,
          11.849999999999998
         ],
         "y": [
          4.849524514074472e-7,
          4.001646968853013e-7
         ]
        },
        {
         "fill": "tozeroy",
         "fillcolor": "rgb(176,76,255)",
         "hoverinfo": "skip",
         "line": {
          "color": "rgba(0,0,0,0)"
         },
         "mode": "lines",
         "showlegend": false,
         "type": "scatter",
         "x": [
          11.849999999999998,
          11.924999999999997
         ],
         "y": [
          4.001646968853013e-7,
          3.399816979217638e-7
         ]
        },
        {
         "fill": "tozeroy",
         "fillcolor": "rgb(176,76,255)",
         "hoverinfo": "skip",
         "line": {
          "color": "rgba(0,0,0,0)"
         },
         "mode": "lines",
         "showlegend": false,
         "type": "scatter",
         "x": [
          11.925,
          12
         ],
         "y": [
          3.399816979217638e-7,
          2.797986989582263e-7
         ]
        },
        {
         "fill": "tozeroy",
         "fillcolor": "rgb(176,76,255)",
         "hoverinfo": "skip",
         "line": {
          "color": "rgba(0,0,0,0)"
         },
         "mode": "lines",
         "showlegend": false,
         "type": "scatter",
         "x": [
          12,
          12.075
         ],
         "y": [
          2.797986989582263e-7,
          2.3727841428869634e-7
         ]
        },
        {
         "fill": "tozeroy",
         "fillcolor": "rgb(176,76,255)",
         "hoverinfo": "skip",
         "line": {
          "color": "rgba(0,0,0,0)"
         },
         "mode": "lines",
         "showlegend": false,
         "type": "scatter",
         "x": [
          12.075,
          12.149999999999999
         ],
         "y": [
          2.3727841428869634e-7,
          1.9475812961916636e-7
         ]
        },
        {
         "fill": "tozeroy",
         "fillcolor": "rgb(176,76,255)",
         "hoverinfo": "skip",
         "line": {
          "color": "rgba(0,0,0,0)"
         },
         "mode": "lines",
         "showlegend": false,
         "type": "scatter",
         "x": [
          12.149999999999999,
          12.224999999999998
         ],
         "y": [
          1.9475812961916636e-7,
          1.6485499078216276e-7
         ]
        },
        {
         "fill": "tozeroy",
         "fillcolor": "rgb(176,76,255)",
         "hoverinfo": "skip",
         "line": {
          "color": "rgba(0,0,0,0)"
         },
         "mode": "lines",
         "showlegend": false,
         "type": "scatter",
         "x": [
          12.225000000000001,
          12.3
         ],
         "y": [
          1.6485499078216276e-7,
          1.3495185194515916e-7
         ]
        },
        {
         "fill": "tozeroy",
         "fillcolor": "rgb(176,76,255)",
         "hoverinfo": "skip",
         "line": {
          "color": "rgba(0,0,0,0)"
         },
         "mode": "lines",
         "showlegend": false,
         "type": "scatter",
         "x": [
          12.3,
          12.375
         ],
         "y": [
          1.3495185194515916e-7,
          1.1402287247343337e-7
         ]
        },
        {
         "fill": "tozeroy",
         "fillcolor": "rgb(176,76,255)",
         "hoverinfo": "skip",
         "line": {
          "color": "rgba(0,0,0,0)"
         },
         "mode": "lines",
         "showlegend": false,
         "type": "scatter",
         "x": [
          12.375,
          12.45
         ],
         "y": [
          1.1402287247343337e-7,
          9.309389300170759e-8
         ]
        },
        {
         "fill": "tozeroy",
         "fillcolor": "rgb(176,76,255)",
         "hoverinfo": "skip",
         "line": {
          "color": "rgba(0,0,0,0)"
         },
         "mode": "lines",
         "showlegend": false,
         "type": "scatter",
         "x": [
          12.45,
          12.524999999999999
         ],
         "y": [
          9.309389300170759e-8,
          7.851255065332528e-8
         ]
        },
        {
         "fill": "tozeroy",
         "fillcolor": "rgb(176,76,255)",
         "hoverinfo": "skip",
         "line": {
          "color": "rgba(0,0,0,0)"
         },
         "mode": "lines",
         "showlegend": false,
         "type": "scatter",
         "x": [
          12.524999999999999,
          12.599999999999998
         ],
         "y": [
          7.851255065332528e-8,
          6.393120830494297e-8
         ]
        },
        {
         "fill": "tozeroy",
         "fillcolor": "rgb(176,76,255)",
         "hoverinfo": "skip",
         "line": {
          "color": "rgba(0,0,0,0)"
         },
         "mode": "lines",
         "showlegend": false,
         "type": "scatter",
         "x": [
          12.599999999999998,
          12.674999999999997
         ],
         "y": [
          6.393120830494297e-8,
          5.381988004825057e-8
         ]
        },
        {
         "fill": "tozeroy",
         "fillcolor": "rgb(176,76,255)",
         "hoverinfo": "skip",
         "line": {
          "color": "rgba(0,0,0,0)"
         },
         "mode": "lines",
         "showlegend": false,
         "type": "scatter",
         "x": [
          12.675,
          12.75
         ],
         "y": [
          5.381988004825057e-8,
          4.370855179155817e-8
         ]
        },
        {
         "fill": "tozeroy",
         "fillcolor": "rgb(176,76,255)",
         "hoverinfo": "skip",
         "line": {
          "color": "rgba(0,0,0,0)"
         },
         "mode": "lines",
         "showlegend": false,
         "type": "scatter",
         "x": [
          12.75,
          12.825
         ],
         "y": [
          4.370855179155817e-8,
          3.673032139055748e-8
         ]
        },
        {
         "fill": "tozeroy",
         "fillcolor": "rgb(176,76,255)",
         "hoverinfo": "skip",
         "line": {
          "color": "rgba(0,0,0,0)"
         },
         "mode": "lines",
         "showlegend": false,
         "type": "scatter",
         "x": [
          12.825,
          12.899999999999999
         ],
         "y": [
          3.673032139055748e-8,
          2.9752090989556785e-8
         ]
        },
        {
         "fill": "tozeroy",
         "fillcolor": "rgb(176,76,255)",
         "hoverinfo": "skip",
         "line": {
          "color": "rgba(0,0,0,0)"
         },
         "mode": "lines",
         "showlegend": false,
         "type": "scatter",
         "x": [
          12.899999999999999,
          12.974999999999998
         ],
         "y": [
          2.9752090989556785e-8,
          2.4960117207287015e-8
         ]
        },
        {
         "fill": "tozeroy",
         "fillcolor": "rgb(176,76,255)",
         "hoverinfo": "skip",
         "line": {
          "color": "rgba(0,0,0,0)"
         },
         "mode": "lines",
         "showlegend": false,
         "type": "scatter",
         "x": [
          12.975000000000001,
          13.05
         ],
         "y": [
          2.4960117207287015e-8,
          2.0168143425017246e-8
         ]
        },
        {
         "fill": "tozeroy",
         "fillcolor": "rgb(176,76,255)",
         "hoverinfo": "skip",
         "line": {
          "color": "rgba(0,0,0,0)"
         },
         "mode": "lines",
         "showlegend": false,
         "type": "scatter",
         "x": [
          13.05,
          13.125
         ],
         "y": [
          2.0168143425017246e-8,
          1.6889162810266104e-8
         ]
        },
        {
         "fill": "tozeroy",
         "fillcolor": "rgb(176,76,255)",
         "hoverinfo": "skip",
         "line": {
          "color": "rgba(0,0,0,0)"
         },
         "mode": "lines",
         "showlegend": false,
         "type": "scatter",
         "x": [
          13.125,
          13.2
         ],
         "y": [
          1.6889162810266104e-8,
          1.3610182195514966e-8
         ]
        },
        {
         "fill": "tozeroy",
         "fillcolor": "rgb(176,76,255)",
         "hoverinfo": "skip",
         "line": {
          "color": "rgba(0,0,0,0)"
         },
         "mode": "lines",
         "showlegend": false,
         "type": "scatter",
         "x": [
          13.2,
          13.274999999999999
         ],
         "y": [
          1.3610182195514966e-8,
          1.137767119763557e-8
         ]
        },
        {
         "fill": "tozeroy",
         "fillcolor": "rgb(176,76,255)",
         "hoverinfo": "skip",
         "line": {
          "color": "rgba(0,0,0,0)"
         },
         "mode": "lines",
         "showlegend": false,
         "type": "scatter",
         "x": [
          13.274999999999999,
          13.349999999999998
         ],
         "y": [
          1.137767119763557e-8,
          9.145160199756174e-9
         ]
        },
        {
         "fill": "tozeroy",
         "fillcolor": "rgb(176,76,255)",
         "hoverinfo": "skip",
         "line": {
          "color": "rgba(0,0,0,0)"
         },
         "mode": "lines",
         "showlegend": false,
         "type": "scatter",
         "x": [
          13.349999999999998,
          13.424999999999997
         ],
         "y": [
          9.145160199756174e-9,
          7.63194242382093e-9
         ]
        },
        {
         "fill": "tozeroy",
         "fillcolor": "rgb(176,76,255)",
         "hoverinfo": "skip",
         "line": {
          "color": "rgba(0,0,0,0)"
         },
         "mode": "lines",
         "showlegend": false,
         "type": "scatter",
         "x": [
          13.425,
          13.5
         ],
         "y": [
          7.63194242382093e-9,
          6.1187246478856875e-9
         ]
        },
        {
         "fill": "tozeroy",
         "fillcolor": "rgb(176,76,255)",
         "hoverinfo": "skip",
         "line": {
          "color": "rgba(0,0,0,0)"
         },
         "mode": "lines",
         "showlegend": false,
         "type": "scatter",
         "x": [
          13.5,
          13.575
         ],
         "y": [
          6.1187246478856875e-9,
          5.0976956979844315e-9
         ]
        },
        {
         "fill": "tozeroy",
         "fillcolor": "rgb(176,76,255)",
         "hoverinfo": "skip",
         "line": {
          "color": "rgba(0,0,0,0)"
         },
         "mode": "lines",
         "showlegend": false,
         "type": "scatter",
         "x": [
          13.575,
          13.649999999999999
         ],
         "y": [
          5.0976956979844315e-9,
          4.0766667480831755e-9
         ]
        },
        {
         "fill": "tozeroy",
         "fillcolor": "rgb(176,76,255)",
         "hoverinfo": "skip",
         "line": {
          "color": "rgba(0,0,0,0)"
         },
         "mode": "lines",
         "showlegend": false,
         "type": "scatter",
         "x": [
          13.649999999999999,
          13.724999999999998
         ],
         "y": [
          4.0766667480831755e-9,
          3.3920635506800755e-9
         ]
        },
        {
         "fill": "tozeroy",
         "fillcolor": "rgb(176,76,255)",
         "hoverinfo": "skip",
         "line": {
          "color": "rgba(0,0,0,0)"
         },
         "mode": "lines",
         "showlegend": false,
         "type": "scatter",
         "x": [
          13.724999999999998,
          13.799999999999997
         ],
         "y": [
          3.3920635506800755e-9,
          2.7074603532769754e-9
         ]
        },
        {
         "fill": "tozeroy",
         "fillcolor": "rgb(176,76,255)",
         "hoverinfo": "skip",
         "line": {
          "color": "rgba(0,0,0,0)"
         },
         "mode": "lines",
         "showlegend": false,
         "type": "scatter",
         "x": [
          13.799999999999997,
          13.874999999999996
         ],
         "y": [
          2.7074603532769754e-9,
          2.248741483763968e-9
         ]
        },
        {
         "fill": "tozeroy",
         "fillcolor": "rgb(176,76,255)",
         "hoverinfo": "skip",
         "line": {
          "color": "rgba(0,0,0,0)"
         },
         "mode": "lines",
         "showlegend": false,
         "type": "scatter",
         "x": [
          13.875,
          13.95
         ],
         "y": [
          2.248741483763968e-9,
          1.7900226142509608e-9
         ]
        },
        {
         "fill": "tozeroy",
         "fillcolor": "rgb(176,76,255)",
         "hoverinfo": "skip",
         "line": {
          "color": "rgba(0,0,0,0)"
         },
         "mode": "lines",
         "showlegend": false,
         "type": "scatter",
         "x": [
          13.95,
          14.024999999999999
         ],
         "y": [
          1.7900226142509608e-9,
          1.4873825946408247e-9
         ]
        },
        {
         "fill": "tozeroy",
         "fillcolor": "rgb(176,76,255)",
         "hoverinfo": "skip",
         "line": {
          "color": "rgba(0,0,0,0)"
         },
         "mode": "lines",
         "showlegend": false,
         "type": "scatter",
         "x": [
          14.024999999999999,
          14.099999999999998
         ],
         "y": [
          1.4873825946408247e-9,
          1.1847425750306886e-9
         ]
        },
        {
         "fill": "tozeroy",
         "fillcolor": "rgb(176,76,255)",
         "hoverinfo": "skip",
         "line": {
          "color": "rgba(0,0,0,0)"
         },
         "mode": "lines",
         "showlegend": false,
         "type": "scatter",
         "x": [
          14.099999999999998,
          14.174999999999997
         ],
         "y": [
          1.1847425750306886e-9,
          9.866565809316019e-10
         ]
        },
        {
         "fill": "tozeroy",
         "fillcolor": "rgb(176,76,255)",
         "hoverinfo": "skip",
         "line": {
          "color": "rgba(0,0,0,0)"
         },
         "mode": "lines",
         "showlegend": false,
         "type": "scatter",
         "x": [
          14.175,
          14.25
         ],
         "y": [
          9.866565809316019e-10,
          7.885705868325152e-10
         ]
        },
        {
         "fill": "tozeroy",
         "fillcolor": "rgb(176,76,255)",
         "hoverinfo": "skip",
         "line": {
          "color": "rgba(0,0,0,0)"
         },
         "mode": "lines",
         "showlegend": false,
         "type": "scatter",
         "x": [
          14.25,
          14.325
         ],
         "y": [
          7.885705868325152e-10,
          6.604805550932077e-10
         ]
        },
        {
         "fill": "tozeroy",
         "fillcolor": "rgb(176,76,255)",
         "hoverinfo": "skip",
         "line": {
          "color": "rgba(0,0,0,0)"
         },
         "mode": "lines",
         "showlegend": false,
         "type": "scatter",
         "x": [
          14.325,
          14.399999999999999
         ],
         "y": [
          6.604805550932077e-10,
          5.323905233539003e-10
         ]
        },
        {
         "fill": "tozeroy",
         "fillcolor": "rgb(176,76,255)",
         "hoverinfo": "skip",
         "line": {
          "color": "rgba(0,0,0,0)"
         },
         "mode": "lines",
         "showlegend": false,
         "type": "scatter",
         "x": [
          14.399999999999999,
          14.474999999999998
         ],
         "y": [
          5.323905233539003e-10,
          4.5094286121111724e-10
         ]
        },
        {
         "fill": "tozeroy",
         "fillcolor": "rgb(176,76,255)",
         "hoverinfo": "skip",
         "line": {
          "color": "rgba(0,0,0,0)"
         },
         "mode": "lines",
         "showlegend": false,
         "type": "scatter",
         "x": [
          14.474999999999998,
          14.549999999999997
         ],
         "y": [
          4.5094286121111724e-10,
          3.6949519906833426e-10
         ]
        },
        {
         "fill": "tozeroy",
         "fillcolor": "rgb(176,76,255)",
         "hoverinfo": "skip",
         "line": {
          "color": "rgba(0,0,0,0)"
         },
         "mode": "lines",
         "showlegend": false,
         "type": "scatter",
         "x": [
          14.549999999999997,
          14.624999999999996
         ],
         "y": [
          3.6949519906833426e-10,
          3.2158970726294096e-10
         ]
        },
        {
         "fill": "tozeroy",
         "fillcolor": "rgb(176,76,255)",
         "hoverinfo": "skip",
         "line": {
          "color": "rgba(0,0,0,0)"
         },
         "mode": "lines",
         "showlegend": false,
         "type": "scatter",
         "x": [
          14.625,
          14.7
         ],
         "y": [
          3.2158970726294096e-10,
          2.7368421545754766e-10
         ]
        },
        {
         "fill": "tozeroy",
         "fillcolor": "rgb(176,76,255)",
         "hoverinfo": "skip",
         "line": {
          "color": "rgba(0,0,0,0)"
         },
         "mode": "lines",
         "showlegend": false,
         "type": "scatter",
         "x": [
          14.7,
          14.774999999999999
         ],
         "y": [
          2.7368421545754766e-10,
          2.4600068121422985e-10
         ]
        },
        {
         "fill": "tozeroy",
         "fillcolor": "rgb(176,76,255)",
         "hoverinfo": "skip",
         "line": {
          "color": "rgba(0,0,0,0)"
         },
         "mode": "lines",
         "showlegend": false,
         "type": "scatter",
         "x": [
          14.775,
          14.85
         ],
         "y": [
          2.4600068121422985e-10,
          2.1831714697091203e-10
         ]
        },
        {
         "customdata": [
          [
           -0.48068919168640095,
           2.000069878334486e-10
          ],
          [
           -0.48292769915531547,
           2.1831714893498307e-10
          ],
          [
           -0.47686276571841013,
           2.7368421747326087e-10
          ],
          [
           -0.476765442295191,
           3.6949519178127843e-10
          ],
          [
           -0.4783774551379778,
           5.323906122683358e-10
          ],
          [
           -0.47783715497987866,
           7.885706437401721e-10
          ],
          [
           -0.477632188778452,
           1.184742628462706e-9
          ],
          [
           -0.47738239847951885,
           1.790022526161597e-9
          ],
          [
           -0.47715205357281554,
           2.7074603671331246e-9
          ],
          [
           -0.476819486189871,
           4.076666845026248e-9
          ],
          [
           -0.4766312444063496,
           6.118724636012853e-9
          ],
          [
           -0.47669242901565423,
           9.145160184664467e-9
          ],
          [
           -0.47682936951949245,
           1.3610182208208604e-8
          ],
          [
           -0.4769117979283456,
           2.0168143450868413e-8
          ],
          [
           -0.4769622706556497,
           2.975209099043989e-8
          ],
          [
           -0.4770030060990094,
           4.3708551762316123e-8
          ],
          [
           -0.47702600504200515,
           6.39312083480754e-8
          ],
          [
           -0.4770442435010069,
           9.309389302684374e-8
          ],
          [
           -0.4770540123807999,
           1.349518519107638e-7
          ],
          [
           -0.4770716461034384,
           1.9475812959645495e-7
          ],
          [
           -0.47709136526929413,
           2.797986990165682e-7
          ],
          [
           -0.477102350786358,
           4.001646969489489e-7
          ],
          [
           -0.4771166849509332,
           5.69740205872326e-7
          ],
          [
           -0.47712988135879525,
           8.075221325477262e-7
          ],
          [
           -0.47714648207878085,
           0.0000011393927128173867
          ],
          [
           -0.47716264861715196,
           0.0000016004348019068793
          ],
          [
           -0.47717803734009384,
           0.0000022379308670824536
          ],
          [
           -0.47719310787014435,
           0.000003115304706730621
          ],
          [
           -0.4772075133353076,
           0.000004317174007540928
          ],
          [
           -0.4772211465793252,
           0.0000059558532437076265
          ],
          [
           -0.47723427314478184,
           0.000008179624473582746
          ],
          [
           -0.47724689635368184,
           0.000011183252643848863
          ],
          [
           -0.4772591856030816,
           0.000015221173640414546
          ],
          [
           -0.47727105227300515,
           0.000020624022551578827
          ],
          [
           -0.4772824446413246,
           0.00002781914566302655
          ],
          [
           -0.4772933961771155,
           0.00003735591747895395
          ],
          [
           -0.47730385128371566,
           0.00004993675865474246
          ],
          [
           -0.47731384313383646,
           0.00006645483268202989
          ],
          [
           -0.4773234010552096,
           0.00008803960400669164
          ],
          [
           -0.47733252858217595,
           0.00011611140971733047
          ],
          [
           -0.47734123632998465,
           0.00015244636121798964
          ],
          [
           -0.4773495486903782,
           0.00019925285803220594
          ],
          [
           -0.4773574663565953,
           0.00025926112503954637
          ],
          [
           -0.4773650107387573,
           0.000335827012608665
          ],
          [
           -0.47737219385969426,
           0.00043305118974585314
          ],
          [
           -0.4773790276250322,
           0.0005559148242595648
          ],
          [
           -0.47738551457147205,
           0.0007104322878757132
          ],
          [
           -0.4773916677385746,
           0.0009038212665785547
          ],
          [
           -0.4773974968429522,
           0.001144689933954811
          ],
          [
           -0.4774030119394023,
           0.0014432402272754107
          ],
          [
           -0.4774082224206142,
           0.0018114854584740099
          ],
          [
           -0.4774131399959524,
           0.0022634794499279336
          ],
          [
           -0.47741777420744713,
           0.00281555326456591
          ],
          [
           -0.47742213620113033,
           0.003486554340361198
          ],
          [
           -0.4774262358616585,
           0.004298081406595847
          ],
          [
           -0.4774300834526782,
           0.005274707144704407
          ],
          [
           -0.4774336888909943,
           0.006444178981489515
          ],
          [
           -0.4774370615706752,
           0.00783758692344036
          ],
          [
           -0.4774402114623373,
           0.009489486010028038
          ],
          [
           -0.477443148092099,
           0.011437959658511573
          ],
          [
           -0.477445880830916,
           0.013724609283857556
          ],
          [
           -0.47744841875917776,
           0.016394455029154313
          ],
          [
           -0.4774507711353196,
           0.019495732304009174
          ],
          [
           -0.4774529468232642,
           0.02307956933446291
          ],
          [
           -0.47745495436512725,
           0.027199532171696
          ],
          [
           -0.4774568024355519,
           0.031911025424866304
          ],
          [
           -0.47745849934361645,
           0.03727053985097028
          ],
          [
           -0.47746005336765474,
           0.043334741466432715
          ],
          [
           -0.47746147249293497,
           0.05015940137702845
          ],
          [
           -0.4774627645123902,
           0.05779817065747504
          ],
          [
           -0.47746393704927304,
           0.06630121073302042
          ],
          [
           -0.47746499750497384,
           0.07571369613936903
          ],
          [
           -0.47746595304134337,
           0.08607421351637708
          ],
          [
           -0.4774668106409421,
           0.09741308765272144
          ],
          [
           -0.4774675770502606,
           0.10975067242012282
          ],
          [
           -0.47746825883890437,
           0.12309565071239013
          ],
          [
           -0.4774688623237656,
           0.13744339326257785
          ],
          [
           -0.477469393585864,
           0.1527744305451123
          ],
          [
           -0.4774698585052278,
           0.1690530950207172
          ],
          [
           -0.4774702627065677,
           0.18622639209041655
          ],
          [
           -0.4774706115848615,
           0.2042231571634981
          ],
          [
           -0.477470910308932,
           0.22295355314409124
          ],
          [
           -0.47747116380755994,
           0.24230895695641083
          ],
          [
           -0.47747137675242446,
           0.26216227586452284
          ],
          [
           -0.4774715535927301,
           0.28236872396997065
          ],
          [
           -0.4774716985318151,
           0.302767077025126
          ],
          [
           -0.47747181551449286,
           0.3231814096101113
          ],
          [
           -0.4774719082472598,
           0.34342330322565445
          ],
          [
           -0.47747198018189885,
           0.36329449791313295
          ],
          [
           -0.47747203452040077,
           0.38258994351118236
          ],
          [
           -0.4774720742161766,
           0.4011011911153913
          ],
          [
           -0.47747210196680157,
           0.41862005055986623
          ],
          [
           -0.47747212021870417,
           0.43494242719912646
          ],
          [
           -0.4774721311614605,
           0.44987224107886525
          ],
          [
           -0.47747213672802025,
           0.4632253245500716
          ],
          [
           -0.47747213859644666,
           0.47483319064988144
          ],
          [
           -0.4774721381834938,
           0.4845465649506755
          ],
          [
           -0.4774721366537277,
           0.4922385774734215
          ],
          [
           -0.4774721349165191,
           0.49780751944065216
          ],
          [
           -0.47747213361461177,
           0.5011790811003634
          ],
          [
           -0.4774721331368038,
           0.5023080017924848
          ],
          [
           -0.47747213361461177,
           0.5011790811003634
          ],
          [
           -0.4774721349165191,
           0.49780751944065216
          ],
          [
           -0.4774721366537277,
           0.4922385774734215
          ],
          [
           -0.4774721381834938,
           0.4845465649506756
          ],
          [
           -0.4774721385964466,
           0.4748331906498815
          ],
          [
           -0.47747213672802025,
           0.4632253245500716
          ],
          [
           -0.47747213116146037,
           0.4498722410788653
          ],
          [
           -0.47747212021870417,
           0.43494242719912674
          ],
          [
           -0.47747210196680157,
           0.41862005055986645
          ],
          [
           -0.4774720742161765,
           0.4011011911153915
          ],
          [
           -0.4774720345204008,
           0.38258994351118253
          ],
          [
           -0.47747198018189885,
           0.3632944979131331
          ],
          [
           -0.47747190824725994,
           0.3434233032256546
          ],
          [
           -0.47747181551449286,
           0.32318140961011155
          ],
          [
           -0.477471698531815,
           0.30276707702512623
          ],
          [
           -0.4774715535927301,
           0.2823687239699708
          ],
          [
           -0.47747137675242457,
           0.2621622758645231
          ],
          [
           -0.4774711638075599,
           0.24230895695641105
          ],
          [
           -0.477470910308932,
           0.2229535531440914
          ],
          [
           -0.47747061158486137,
           0.20422315716349823
          ],
          [
           -0.4774702627065677,
           0.18622639209041666
          ],
          [
           -0.4774698585052277,
           0.16905309502071733
          ],
          [
           -0.4774693935858637,
           0.15277443054511233
          ],
          [
           -0.4774688623237654,
           0.13744339326257787
          ],
          [
           -0.4774682588389042,
           0.12309565071239024
          ],
          [
           -0.4774675770502602,
           0.10975067242012272
          ],
          [
           -0.47746681064094204,
           0.09741308765272148
          ],
          [
           -0.4774659530413431,
           0.08607421351637703
          ],
          [
           -0.4774649975049738,
           0.07571369613936893
          ],
          [
           -0.47746393704927276,
           0.06630121073302034
          ],
          [
           -0.4774627645123899,
           0.05779817065747483
          ],
          [
           -0.4774614724929352,
           0.05015940137702833
          ],
          [
           -0.47746005336765496,
           0.043334741466432604
          ],
          [
           -0.4774584993436167,
           0.03727053985097017
          ],
          [
           -0.4774568024355519,
           0.031911025424866256
          ],
          [
           -0.47745495436512625,
           0.027199532171695885
          ],
          [
           -0.47745294682326456,
           0.02307956933446288
          ],
          [
           -0.47745077113531575,
           0.019495732304009212
          ],
          [
           -0.4774484187591756,
           0.016394455029154455
          ],
          [
           -0.47744588083091294,
           0.013724609283857573
          ],
          [
           -0.47744314809209676,
           0.011437959658511555
          ],
          [
           -0.47744021146233667,
           0.009489486010028083
          ],
          [
           -0.4774370615706716,
           0.00783758692344041
          ],
          [
           -0.47743368889099386,
           0.006444178981489453
          ],
          [
           -0.47743008345268,
           0.005274707144704397
          ],
          [
           -0.47742623586165367,
           0.004298081406595852
          ],
          [
           -0.47742213620113805,
           0.0034865543403611214
          ],
          [
           -0.47741777420744563,
           0.0028155532645658308
          ],
          [
           -0.47741313999595897,
           0.002263479449927832
          ],
          [
           -0.4774082224206208,
           0.0018114854584739808
          ],
          [
           -0.4774030119393979,
           0.0014432402272754566
          ],
          [
           -0.47739749684298133,
           0.0011446899339546612
          ],
          [
           -0.47739166773856867,
           0.0009038212665785113
          ],
          [
           -0.47738551457148476,
           0.0007104322878756667
          ],
          [
           -0.47737902762503837,
           0.0005559148242595908
          ],
          [
           -0.47737219385966523,
           0.0004330511897458782
          ],
          [
           -0.4773650107388324,
           0.00033582701260860147
          ],
          [
           -0.47735746635655185,
           0.0002592611250397114
          ],
          [
           -0.4773495486903132,
           0.00019925285803222437
          ],
          [
           -0.47734123633005443,
           0.000152446361218035
          ],
          [
           -0.47733252858236536,
           0.00011611140971732776
          ],
          [
           -0.4773234010551309,
           0.00008803960400670431
          ],
          [
           -0.47731384313366343,
           0.00006645483268219053
          ],
          [
           -0.4773038512838321,
           0.00004993675865467104
          ],
          [
           -0.47729339617751254,
           0.00003735591747892057
          ],
          [
           -0.4772824446408232,
           0.000027819145663090902
          ],
          [
           -0.4772710522725497,
           0.000020624022551531963
          ],
          [
           -0.4772591856047806,
           0.000015221173640453252
          ],
          [
           -0.4772468963585986,
           0.000011183252643774161
          ],
          [
           -0.47723427314951294,
           0.000008179624473578489
          ],
          [
           -0.4772211465845073,
           0.0000059558532436472474
          ],
          [
           -0.47720751334513206,
           0.000004317174007420063
          ],
          [
           -0.47719310787816105,
           0.00000311530470670718
          ],
          [
           -0.47717803734228376,
           0.0000022379308670101107
          ],
          [
           -0.4771626486163205,
           0.0000016004348019338935
          ],
          [
           -0.47714648208673954,
           0.000001139392712842052
          ],
          [
           -0.4771298813647739,
           8.075221325110155e-7
          ],
          [
           -0.4771166849902392,
           5.697402059295931e-7
          ],
          [
           -0.4771023508008608,
           4.001646968853013e-7
          ],
          [
           -0.4770913653468193,
           2.797986989582263e-7
          ],
          [
           -0.47707164599241364,
           1.9475812961916636e-7
          ],
          [
           -0.4770540124207897,
           1.3495185194515916e-7
          ],
          [
           -0.47704424342628976,
           9.309389300170759e-8
          ],
          [
           -0.47702600494611697,
           6.393120830494297e-8
          ],
          [
           -0.4770030062927627,
           4.370855179155817e-8
          ],
          [
           -0.47696227078596554,
           2.9752090989556785e-8
          ],
          [
           -0.4769117977405818,
           2.0168143425017246e-8
          ],
          [
           -0.47682937073447923,
           1.3610182195514966e-8
          ],
          [
           -0.47669242608037954,
           9.145160199756174e-9
          ],
          [
           -0.4766312486069843,
           6.1187246478856875e-9
          ],
          [
           -0.47681949463363454,
           4.0766667480831755e-9
          ],
          [
           -0.47715204710881187,
           2.7074603532769754e-9
          ],
          [
           -0.47738237861446237,
           1.7900226142509608e-9
          ],
          [
           -0.47763218881458985,
           1.1847425750306886e-9
          ],
          [
           -0.4778371751657794,
           7.885705868325152e-10
          ],
          [
           -0.47837745418252986,
           5.323905233539003e-10
          ],
          [
           -0.4767653564460279,
           3.6949519906833426e-10
          ],
          [
           -0.4768627979144387,
           2.7368421545754766e-10
          ],
          [
           -0.4829277524963578,
           2.1831714697091203e-10
          ]
         ],
         "hovertemplate": "x: %{x:.2f} a₀<br>θ: %{customdata[0]:.2f} π<br>ρ: %{customdata[1]:.2e}",
         "line": {
          "color": "black"
         },
         "mode": "lines",
         "name": "",
         "showlegend": false,
         "type": "scatter",
         "x": [
          -15,
          -14.85,
          -14.7,
          -14.55,
          -14.4,
          -14.25,
          -14.1,
          -13.95,
          -13.8,
          -13.65,
          -13.5,
          -13.35,
          -13.2,
          -13.05,
          -12.9,
          -12.75,
          -12.6,
          -12.45,
          -12.3,
          -12.15,
          -12,
          -11.85,
          -11.7,
          -11.55,
          -11.4,
          -11.25,
          -11.1,
          -10.95,
          -10.8,
          -10.65,
          -10.5,
          -10.350000000000001,
          -10.2,
          -10.05,
          -9.9,
          -9.75,
          -9.600000000000001,
          -9.45,
          -9.3,
          -9.15,
          -9,
          -8.850000000000001,
          -8.7,
          -8.55,
          -8.4,
          -8.25,
          -8.100000000000001,
          -7.95,
          -7.800000000000001,
          -7.65,
          -7.5,
          -7.3500000000000005,
          -7.2,
          -7.050000000000001,
          -6.9,
          -6.75,
          -6.6,
          -6.450000000000001,
          -6.300000000000001,
          -6.15,
          -6,
          -5.85,
          -5.700000000000001,
          -5.550000000000001,
          -5.4,
          -5.25,
          -5.1,
          -4.950000000000001,
          -4.800000000000001,
          -4.65,
          -4.5,
          -4.35,
          -4.200000000000001,
          -4.050000000000001,
          -3.9000000000000004,
          -3.75,
          -3.5999999999999996,
          -3.450000000000001,
          -3.3000000000000007,
          -3.1500000000000004,
          -3,
          -2.8499999999999996,
          -2.700000000000001,
          -2.5500000000000007,
          -2.4000000000000004,
          -2.25,
          -2.0999999999999996,
          -1.950000000000001,
          -1.8000000000000007,
          -1.6500000000000004,
          -1.5,
          -1.3499999999999996,
          -1.200000000000001,
          -1.0500000000000007,
          -0.9000000000000004,
          -0.75,
          -0.6000000000000014,
          -0.45000000000000107,
          -0.3000000000000007,
          -0.15000000000000036,
          0,
          0.14999999999999858,
          0.29999999999999893,
          0.4499999999999993,
          0.5999999999999996,
          0.75,
          0.8999999999999986,
          1.0500000000000007,
          1.1999999999999993,
          1.3499999999999979,
          1.5,
          1.6499999999999986,
          1.8000000000000007,
          1.9499999999999993,
          2.099999999999998,
          2.25,
          2.3999999999999986,
          2.5500000000000007,
          2.6999999999999993,
          2.849999999999998,
          3,
          3.1499999999999986,
          3.3000000000000007,
          3.4499999999999993,
          3.599999999999998,
          3.75,
          3.8999999999999986,
          4.050000000000001,
          4.199999999999999,
          4.349999999999998,
          4.5,
          4.649999999999999,
          4.800000000000001,
          4.949999999999999,
          5.099999999999998,
          5.25,
          5.399999999999999,
          5.550000000000001,
          5.699999999999999,
          5.849999999999998,
          6,
          6.149999999999999,
          6.300000000000001,
          6.449999999999999,
          6.599999999999998,
          6.75,
          6.899999999999999,
          7.050000000000001,
          7.199999999999999,
          7.349999999999998,
          7.5,
          7.649999999999999,
          7.800000000000001,
          7.949999999999999,
          8.099999999999998,
          8.25,
          8.399999999999999,
          8.55,
          8.7,
          8.849999999999998,
          9,
          9.149999999999999,
          9.3,
          9.45,
          9.599999999999998,
          9.75,
          9.899999999999999,
          10.05,
          10.2,
          10.349999999999998,
          10.5,
          10.649999999999999,
          10.8,
          10.95,
          11.099999999999998,
          11.25,
          11.399999999999999,
          11.55,
          11.7,
          11.849999999999998,
          12,
          12.149999999999999,
          12.3,
          12.45,
          12.599999999999998,
          12.75,
          12.899999999999999,
          13.05,
          13.2,
          13.349999999999998,
          13.5,
          13.649999999999999,
          13.799999999999997,
          13.95,
          14.099999999999998,
          14.25,
          14.399999999999999,
          14.549999999999997,
          14.7,
          14.85
         ],
         "y": [
          2.000069878334486e-10,
          2.1831714893498307e-10,
          2.7368421747326087e-10,
          3.6949519178127843e-10,
          5.323906122683358e-10,
          7.885706437401721e-10,
          1.184742628462706e-9,
          1.790022526161597e-9,
          2.7074603671331246e-9,
          4.076666845026248e-9,
          6.118724636012853e-9,
          9.145160184664467e-9,
          1.3610182208208604e-8,
          2.0168143450868413e-8,
          2.975209099043989e-8,
          4.3708551762316123e-8,
          6.39312083480754e-8,
          9.309389302684374e-8,
          1.349518519107638e-7,
          1.9475812959645495e-7,
          2.797986990165682e-7,
          4.001646969489489e-7,
          5.69740205872326e-7,
          8.075221325477262e-7,
          0.0000011393927128173867,
          0.0000016004348019068793,
          0.0000022379308670824536,
          0.000003115304706730621,
          0.000004317174007540928,
          0.0000059558532437076265,
          0.000008179624473582746,
          0.000011183252643848863,
          0.000015221173640414546,
          0.000020624022551578827,
          0.00002781914566302655,
          0.00003735591747895395,
          0.00004993675865474246,
          0.00006645483268202989,
          0.00008803960400669164,
          0.00011611140971733047,
          0.00015244636121798964,
          0.00019925285803220594,
          0.00025926112503954637,
          0.000335827012608665,
          0.00043305118974585314,
          0.0005559148242595648,
          0.0007104322878757132,
          0.0009038212665785547,
          0.001144689933954811,
          0.0014432402272754107,
          0.0018114854584740099,
          0.0022634794499279336,
          0.00281555326456591,
          0.003486554340361198,
          0.004298081406595847,
          0.005274707144704407,
          0.006444178981489515,
          0.00783758692344036,
          0.009489486010028038,
          0.011437959658511573,
          0.013724609283857556,
          0.016394455029154313,
          0.019495732304009174,
          0.02307956933446291,
          0.027199532171696,
          0.031911025424866304,
          0.03727053985097028,
          0.043334741466432715,
          0.05015940137702845,
          0.05779817065747504,
          0.06630121073302042,
          0.07571369613936903,
          0.08607421351637708,
          0.09741308765272144,
          0.10975067242012282,
          0.12309565071239013,
          0.13744339326257785,
          0.1527744305451123,
          0.1690530950207172,
          0.18622639209041655,
          0.2042231571634981,
          0.22295355314409124,
          0.24230895695641083,
          0.26216227586452284,
          0.28236872396997065,
          0.302767077025126,
          0.3231814096101113,
          0.34342330322565445,
          0.36329449791313295,
          0.38258994351118236,
          0.4011011911153913,
          0.41862005055986623,
          0.43494242719912646,
          0.44987224107886525,
          0.4632253245500716,
          0.47483319064988144,
          0.4845465649506755,
          0.4922385774734215,
          0.49780751944065216,
          0.5011790811003634,
          0.5023080017924848,
          0.5011790811003634,
          0.49780751944065216,
          0.4922385774734215,
          0.4845465649506756,
          0.4748331906498815,
          0.4632253245500716,
          0.4498722410788653,
          0.43494242719912674,
          0.41862005055986645,
          0.4011011911153915,
          0.38258994351118253,
          0.3632944979131331,
          0.3434233032256546,
          0.32318140961011155,
          0.30276707702512623,
          0.2823687239699708,
          0.2621622758645231,
          0.24230895695641105,
          0.2229535531440914,
          0.20422315716349823,
          0.18622639209041666,
          0.16905309502071733,
          0.15277443054511233,
          0.13744339326257787,
          0.12309565071239024,
          0.10975067242012272,
          0.09741308765272148,
          0.08607421351637703,
          0.07571369613936893,
          0.06630121073302034,
          0.05779817065747483,
          0.05015940137702833,
          0.043334741466432604,
          0.03727053985097017,
          0.031911025424866256,
          0.027199532171695885,
          0.02307956933446288,
          0.019495732304009212,
          0.016394455029154455,
          0.013724609283857573,
          0.011437959658511555,
          0.009489486010028083,
          0.00783758692344041,
          0.006444178981489453,
          0.005274707144704397,
          0.004298081406595852,
          0.0034865543403611214,
          0.0028155532645658308,
          0.002263479449927832,
          0.0018114854584739808,
          0.0014432402272754566,
          0.0011446899339546612,
          0.0009038212665785113,
          0.0007104322878756667,
          0.0005559148242595908,
          0.0004330511897458782,
          0.00033582701260860147,
          0.0002592611250397114,
          0.00019925285803222437,
          0.000152446361218035,
          0.00011611140971732776,
          0.00008803960400670431,
          0.00006645483268219053,
          0.00004993675865467104,
          0.00003735591747892057,
          0.000027819145663090902,
          0.000020624022551531963,
          0.000015221173640453252,
          0.000011183252643774161,
          0.000008179624473578489,
          0.0000059558532436472474,
          0.000004317174007420063,
          0.00000311530470670718,
          0.0000022379308670101107,
          0.0000016004348019338935,
          0.000001139392712842052,
          8.075221325110155e-7,
          5.697402059295931e-7,
          4.001646968853013e-7,
          2.797986989582263e-7,
          1.9475812961916636e-7,
          1.3495185194515916e-7,
          9.309389300170759e-8,
          6.393120830494297e-8,
          4.370855179155817e-8,
          2.9752090989556785e-8,
          2.0168143425017246e-8,
          1.3610182195514966e-8,
          9.145160199756174e-9,
          6.1187246478856875e-9,
          4.0766667480831755e-9,
          2.7074603532769754e-9,
          1.7900226142509608e-9,
          1.1847425750306886e-9,
          7.885705868325152e-10,
          5.323905233539003e-10,
          3.6949519906833426e-10,
          2.7368421545754766e-10,
          2.1831714697091203e-10
         ]
        }
       ],
       "layout": {
        "template": {
         "data": {
          "bar": [
           {
            "error_x": {
             "color": "#2a3f5f"
            },
            "error_y": {
             "color": "#2a3f5f"
            },
            "marker": {
             "line": {
              "color": "#E5ECF6",
              "width": 0.5
             },
             "pattern": {
              "fillmode": "overlay",
              "size": 10,
              "solidity": 0.2
             }
            },
            "type": "bar"
           }
          ],
          "barpolar": [
           {
            "marker": {
             "line": {
              "color": "#E5ECF6",
              "width": 0.5
             },
             "pattern": {
              "fillmode": "overlay",
              "size": 10,
              "solidity": 0.2
             }
            },
            "type": "barpolar"
           }
          ],
          "carpet": [
           {
            "aaxis": {
             "endlinecolor": "#2a3f5f",
             "gridcolor": "white",
             "linecolor": "white",
             "minorgridcolor": "white",
             "startlinecolor": "#2a3f5f"
            },
            "baxis": {
             "endlinecolor": "#2a3f5f",
             "gridcolor": "white",
             "linecolor": "white",
             "minorgridcolor": "white",
             "startlinecolor": "#2a3f5f"
            },
            "type": "carpet"
           }
          ],
          "choropleth": [
           {
            "colorbar": {
             "outlinewidth": 0,
             "ticks": ""
            },
            "type": "choropleth"
           }
          ],
          "contour": [
           {
            "colorbar": {
             "outlinewidth": 0,
             "ticks": ""
            },
            "colorscale": [
             [
              0,
              "#0d0887"
             ],
             [
              0.1111111111111111,
              "#46039f"
             ],
             [
              0.2222222222222222,
              "#7201a8"
             ],
             [
              0.3333333333333333,
              "#9c179e"
             ],
             [
              0.4444444444444444,
              "#bd3786"
             ],
             [
              0.5555555555555556,
              "#d8576b"
             ],
             [
              0.6666666666666666,
              "#ed7953"
             ],
             [
              0.7777777777777778,
              "#fb9f3a"
             ],
             [
              0.8888888888888888,
              "#fdca26"
             ],
             [
              1,
              "#f0f921"
             ]
            ],
            "type": "contour"
           }
          ],
          "contourcarpet": [
           {
            "colorbar": {
             "outlinewidth": 0,
             "ticks": ""
            },
            "type": "contourcarpet"
           }
          ],
          "heatmap": [
           {
            "colorbar": {
             "outlinewidth": 0,
             "ticks": ""
            },
            "colorscale": [
             [
              0,
              "#0d0887"
             ],
             [
              0.1111111111111111,
              "#46039f"
             ],
             [
              0.2222222222222222,
              "#7201a8"
             ],
             [
              0.3333333333333333,
              "#9c179e"
             ],
             [
              0.4444444444444444,
              "#bd3786"
             ],
             [
              0.5555555555555556,
              "#d8576b"
             ],
             [
              0.6666666666666666,
              "#ed7953"
             ],
             [
              0.7777777777777778,
              "#fb9f3a"
             ],
             [
              0.8888888888888888,
              "#fdca26"
             ],
             [
              1,
              "#f0f921"
             ]
            ],
            "type": "heatmap"
           }
          ],
          "heatmapgl": [
           {
            "colorbar": {
             "outlinewidth": 0,
             "ticks": ""
            },
            "colorscale": [
             [
              0,
              "#0d0887"
             ],
             [
              0.1111111111111111,
              "#46039f"
             ],
             [
              0.2222222222222222,
              "#7201a8"
             ],
             [
              0.3333333333333333,
              "#9c179e"
             ],
             [
              0.4444444444444444,
              "#bd3786"
             ],
             [
              0.5555555555555556,
              "#d8576b"
             ],
             [
              0.6666666666666666,
              "#ed7953"
             ],
             [
              0.7777777777777778,
              "#fb9f3a"
             ],
             [
              0.8888888888888888,
              "#fdca26"
             ],
             [
              1,
              "#f0f921"
             ]
            ],
            "type": "heatmapgl"
           }
          ],
          "histogram": [
           {
            "marker": {
             "pattern": {
              "fillmode": "overlay",
              "size": 10,
              "solidity": 0.2
             }
            },
            "type": "histogram"
           }
          ],
          "histogram2d": [
           {
            "colorbar": {
             "outlinewidth": 0,
             "ticks": ""
            },
            "colorscale": [
             [
              0,
              "#0d0887"
             ],
             [
              0.1111111111111111,
              "#46039f"
             ],
             [
              0.2222222222222222,
              "#7201a8"
             ],
             [
              0.3333333333333333,
              "#9c179e"
             ],
             [
              0.4444444444444444,
              "#bd3786"
             ],
             [
              0.5555555555555556,
              "#d8576b"
             ],
             [
              0.6666666666666666,
              "#ed7953"
             ],
             [
              0.7777777777777778,
              "#fb9f3a"
             ],
             [
              0.8888888888888888,
              "#fdca26"
             ],
             [
              1,
              "#f0f921"
             ]
            ],
            "type": "histogram2d"
           }
          ],
          "histogram2dcontour": [
           {
            "colorbar": {
             "outlinewidth": 0,
             "ticks": ""
            },
            "colorscale": [
             [
              0,
              "#0d0887"
             ],
             [
              0.1111111111111111,
              "#46039f"
             ],
             [
              0.2222222222222222,
              "#7201a8"
             ],
             [
              0.3333333333333333,
              "#9c179e"
             ],
             [
              0.4444444444444444,
              "#bd3786"
             ],
             [
              0.5555555555555556,
              "#d8576b"
             ],
             [
              0.6666666666666666,
              "#ed7953"
             ],
             [
              0.7777777777777778,
              "#fb9f3a"
             ],
             [
              0.8888888888888888,
              "#fdca26"
             ],
             [
              1,
              "#f0f921"
             ]
            ],
            "type": "histogram2dcontour"
           }
          ],
          "mesh3d": [
           {
            "colorbar": {
             "outlinewidth": 0,
             "ticks": ""
            },
            "type": "mesh3d"
           }
          ],
          "parcoords": [
           {
            "line": {
             "colorbar": {
              "outlinewidth": 0,
              "ticks": ""
             }
            },
            "type": "parcoords"
           }
          ],
          "pie": [
           {
            "automargin": true,
            "type": "pie"
           }
          ],
          "scatter": [
           {
            "fillpattern": {
             "fillmode": "overlay",
             "size": 10,
             "solidity": 0.2
            },
            "type": "scatter"
           }
          ],
          "scatter3d": [
           {
            "line": {
             "colorbar": {
              "outlinewidth": 0,
              "ticks": ""
             }
            },
            "marker": {
             "colorbar": {
              "outlinewidth": 0,
              "ticks": ""
             }
            },
            "type": "scatter3d"
           }
          ],
          "scattercarpet": [
           {
            "marker": {
             "colorbar": {
              "outlinewidth": 0,
              "ticks": ""
             }
            },
            "type": "scattercarpet"
           }
          ],
          "scattergeo": [
           {
            "marker": {
             "colorbar": {
              "outlinewidth": 0,
              "ticks": ""
             }
            },
            "type": "scattergeo"
           }
          ],
          "scattergl": [
           {
            "marker": {
             "colorbar": {
              "outlinewidth": 0,
              "ticks": ""
             }
            },
            "type": "scattergl"
           }
          ],
          "scattermapbox": [
           {
            "marker": {
             "colorbar": {
              "outlinewidth": 0,
              "ticks": ""
             }
            },
            "type": "scattermapbox"
           }
          ],
          "scatterpolar": [
           {
            "marker": {
             "colorbar": {
              "outlinewidth": 0,
              "ticks": ""
             }
            },
            "type": "scatterpolar"
           }
          ],
          "scatterpolargl": [
           {
            "marker": {
             "colorbar": {
              "outlinewidth": 0,
              "ticks": ""
             }
            },
            "type": "scatterpolargl"
           }
          ],
          "scatterternary": [
           {
            "marker": {
             "colorbar": {
              "outlinewidth": 0,
              "ticks": ""
             }
            },
            "type": "scatterternary"
           }
          ],
          "surface": [
           {
            "colorbar": {
             "outlinewidth": 0,
             "ticks": ""
            },
            "colorscale": [
             [
              0,
              "#0d0887"
             ],
             [
              0.1111111111111111,
              "#46039f"
             ],
             [
              0.2222222222222222,
              "#7201a8"
             ],
             [
              0.3333333333333333,
              "#9c179e"
             ],
             [
              0.4444444444444444,
              "#bd3786"
             ],
             [
              0.5555555555555556,
              "#d8576b"
             ],
             [
              0.6666666666666666,
              "#ed7953"
             ],
             [
              0.7777777777777778,
              "#fb9f3a"
             ],
             [
              0.8888888888888888,
              "#fdca26"
             ],
             [
              1,
              "#f0f921"
             ]
            ],
            "type": "surface"
           }
          ],
          "table": [
           {
            "cells": {
             "fill": {
              "color": "#EBF0F8"
             },
             "line": {
              "color": "white"
             }
            },
            "header": {
             "fill": {
              "color": "#C8D4E3"
             },
             "line": {
              "color": "white"
             }
            },
            "type": "table"
           }
          ]
         },
         "layout": {
          "annotationdefaults": {
           "arrowcolor": "#2a3f5f",
           "arrowhead": 0,
           "arrowwidth": 1
          },
          "autotypenumbers": "strict",
          "coloraxis": {
           "colorbar": {
            "outlinewidth": 0,
            "ticks": ""
           }
          },
          "colorscale": {
           "diverging": [
            [
             0,
             "#8e0152"
            ],
            [
             0.1,
             "#c51b7d"
            ],
            [
             0.2,
             "#de77ae"
            ],
            [
             0.3,
             "#f1b6da"
            ],
            [
             0.4,
             "#fde0ef"
            ],
            [
             0.5,
             "#f7f7f7"
            ],
            [
             0.6,
             "#e6f5d0"
            ],
            [
             0.7,
             "#b8e186"
            ],
            [
             0.8,
             "#7fbc41"
            ],
            [
             0.9,
             "#4d9221"
            ],
            [
             1,
             "#276419"
            ]
           ],
           "sequential": [
            [
             0,
             "#0d0887"
            ],
            [
             0.1111111111111111,
             "#46039f"
            ],
            [
             0.2222222222222222,
             "#7201a8"
            ],
            [
             0.3333333333333333,
             "#9c179e"
            ],
            [
             0.4444444444444444,
             "#bd3786"
            ],
            [
             0.5555555555555556,
             "#d8576b"
            ],
            [
             0.6666666666666666,
             "#ed7953"
            ],
            [
             0.7777777777777778,
             "#fb9f3a"
            ],
            [
             0.8888888888888888,
             "#fdca26"
            ],
            [
             1,
             "#f0f921"
            ]
           ],
           "sequentialminus": [
            [
             0,
             "#0d0887"
            ],
            [
             0.1111111111111111,
             "#46039f"
            ],
            [
             0.2222222222222222,
             "#7201a8"
            ],
            [
             0.3333333333333333,
             "#9c179e"
            ],
            [
             0.4444444444444444,
             "#bd3786"
            ],
            [
             0.5555555555555556,
             "#d8576b"
            ],
            [
             0.6666666666666666,
             "#ed7953"
            ],
            [
             0.7777777777777778,
             "#fb9f3a"
            ],
            [
             0.8888888888888888,
             "#fdca26"
            ],
            [
             1,
             "#f0f921"
            ]
           ]
          },
          "colorway": [
           "#636efa",
           "#EF553B",
           "#00cc96",
           "#ab63fa",
           "#FFA15A",
           "#19d3f3",
           "#FF6692",
           "#B6E880",
           "#FF97FF",
           "#FECB52"
          ],
          "font": {
           "color": "#2a3f5f"
          },
          "geo": {
           "bgcolor": "white",
           "lakecolor": "white",
           "landcolor": "#E5ECF6",
           "showlakes": true,
           "showland": true,
           "subunitcolor": "white"
          },
          "hoverlabel": {
           "align": "left"
          },
          "hovermode": "closest",
          "mapbox": {
           "style": "light"
          },
          "paper_bgcolor": "white",
          "plot_bgcolor": "#E5ECF6",
          "polar": {
           "angularaxis": {
            "gridcolor": "white",
            "linecolor": "white",
            "ticks": ""
           },
           "bgcolor": "#E5ECF6",
           "radialaxis": {
            "gridcolor": "white",
            "linecolor": "white",
            "ticks": ""
           }
          },
          "scene": {
           "xaxis": {
            "backgroundcolor": "#E5ECF6",
            "gridcolor": "white",
            "gridwidth": 2,
            "linecolor": "white",
            "showbackground": true,
            "ticks": "",
            "zerolinecolor": "white"
           },
           "yaxis": {
            "backgroundcolor": "#E5ECF6",
            "gridcolor": "white",
            "gridwidth": 2,
            "linecolor": "white",
            "showbackground": true,
            "ticks": "",
            "zerolinecolor": "white"
           },
           "zaxis": {
            "backgroundcolor": "#E5ECF6",
            "gridcolor": "white",
            "gridwidth": 2,
            "linecolor": "white",
            "showbackground": true,
            "ticks": "",
            "zerolinecolor": "white"
           }
          },
          "shapedefaults": {
           "line": {
            "color": "#2a3f5f"
           }
          },
          "ternary": {
           "aaxis": {
            "gridcolor": "white",
            "linecolor": "white",
            "ticks": ""
           },
           "baxis": {
            "gridcolor": "white",
            "linecolor": "white",
            "ticks": ""
           },
           "bgcolor": "#E5ECF6",
           "caxis": {
            "gridcolor": "white",
            "linecolor": "white",
            "ticks": ""
           }
          },
          "title": {
           "x": 0.05
          },
          "xaxis": {
           "automargin": true,
           "gridcolor": "white",
           "linecolor": "white",
           "ticks": "",
           "title": {
            "standoff": 15
           },
           "zerolinecolor": "white",
           "zerolinewidth": 2
          },
          "yaxis": {
           "automargin": true,
           "gridcolor": "white",
           "linecolor": "white",
           "ticks": "",
           "title": {
            "standoff": 15
           },
           "zerolinecolor": "white",
           "zerolinewidth": 2
          }
         }
        },
        "xaxis": {
         "range": [
          -15,
          14.85
         ],
         "showgrid": true,
         "title": {
          "text": "x/a₀"
         }
        },
        "yaxis": {
         "showgrid": true
        }
       }
      }
     },
     "metadata": {},
     "output_type": "display_data"
    }
   ],
   "source": [
    "qm.evolve_schrodinger(150)\n",
    "qm.plot_complex_field(qm.psi)"
   ]
  },
  {
   "cell_type": "markdown",
   "metadata": {},
   "source": [
    "Make an animation"
   ]
  },
  {
   "cell_type": "code",
   "execution_count": 12,
   "metadata": {},
   "outputs": [],
   "source": [
    "for n in range(100):\n",
    "    qm.evolve_schrodinger(10)\n",
    "    fig = qm.plot_complex_field(qm.psi)\n",
    "    cf.tool_save_plot(n, fig)\n",
    "cf.tool_make_animation_gif(n)"
   ]
  },
  {
   "cell_type": "markdown",
   "metadata": {},
   "source": [
    "The higher states can be generated by acting on the ground state with the operator $a^\\dagger$, which in the position representation is given by\n",
    "\n",
    "$$\n",
    "\\sqrt{\\frac{m\\omega}{2\\hbar}}\\left(x - \\frac{\\hbar}{m\\omega}\\frac{d}{dx}\\right)\n",
    "$$"
   ]
  },
  {
   "cell_type": "markdown",
   "metadata": {},
   "source": [
    "let's generate the first excited state. "
   ]
  },
  {
   "cell_type": "code",
   "execution_count": 13,
   "metadata": {},
   "outputs": [
    {
     "data": {
      "application/vnd.plotly.v1+json": {
       "config": {
        "plotlyServerURL": "https://plot.ly"
       },
       "data": [
        {
         "fill": "tozeroy",
         "fillcolor": "rgb(121,76,255)",
         "hoverinfo": "skip",
         "line": {
          "color": "rgba(0,0,0,0)"
         },
         "mode": "lines",
         "showlegend": false,
         "type": "scatter",
         "x": [
          -15,
          -14.925
         ],
         "y": [
          5.301221656569239e-10,
          7.477147982073575e-10
         ]
        },
        {
         "fill": "tozeroy",
         "fillcolor": "rgb(104,76,255)",
         "hoverinfo": "skip",
         "line": {
          "color": "rgba(0,0,0,0)"
         },
         "mode": "lines",
         "showlegend": false,
         "type": "scatter",
         "x": [
          -14.924999999999999,
          -14.85
         ],
         "y": [
          7.477147982073575e-10,
          9.65307430757791e-10
         ]
        },
        {
         "fill": "tozeroy",
         "fillcolor": "rgb(104,76,255)",
         "hoverinfo": "skip",
         "line": {
          "color": "rgba(0,0,0,0)"
         },
         "mode": "lines",
         "showlegend": false,
         "type": "scatter",
         "x": [
          -14.85,
          -14.775
         ],
         "y": [
          9.65307430757791e-10,
          1.3081755647338748e-9
         ]
        },
        {
         "fill": "tozeroy",
         "fillcolor": "rgb(91,76,255)",
         "hoverinfo": "skip",
         "line": {
          "color": "rgba(0,0,0,0)"
         },
         "mode": "lines",
         "showlegend": false,
         "type": "scatter",
         "x": [
          -14.774999999999999,
          -14.7
         ],
         "y": [
          1.3081755647338748e-9,
          1.6510436987099583e-9
         ]
        },
        {
         "fill": "tozeroy",
         "fillcolor": "rgb(91,76,255)",
         "hoverinfo": "skip",
         "line": {
          "color": "rgba(0,0,0,0)"
         },
         "mode": "lines",
         "showlegend": false,
         "type": "scatter",
         "x": [
          -14.7,
          -14.625
         ],
         "y": [
          1.6510436987099583e-9,
          2.1883710595927717e-9
         ]
        },
        {
         "fill": "tozeroy",
         "fillcolor": "rgb(83,76,255)",
         "hoverinfo": "skip",
         "line": {
          "color": "rgba(0,0,0,0)"
         },
         "mode": "lines",
         "showlegend": false,
         "type": "scatter",
         "x": [
          -14.625,
          -14.55
         ],
         "y": [
          2.1883710595927717e-9,
          2.7256984204755852e-9
         ]
        },
        {
         "fill": "tozeroy",
         "fillcolor": "rgb(83,76,255)",
         "hoverinfo": "skip",
         "line": {
          "color": "rgba(0,0,0,0)"
         },
         "mode": "lines",
         "showlegend": false,
         "type": "scatter",
         "x": [
          -14.55,
          -14.475000000000001
         ],
         "y": [
          2.7256984204755852e-9,
          3.505980743708643e-9
         ]
        },
        {
         "fill": "tozeroy",
         "fillcolor": "rgb(83,76,255)",
         "hoverinfo": "skip",
         "line": {
          "color": "rgba(0,0,0,0)"
         },
         "mode": "lines",
         "showlegend": false,
         "type": "scatter",
         "x": [
          -14.475,
          -14.4
         ],
         "y": [
          3.505980743708643e-9,
          4.286263066941701e-9
         ]
        },
        {
         "fill": "tozeroy",
         "fillcolor": "rgb(83,76,255)",
         "hoverinfo": "skip",
         "line": {
          "color": "rgba(0,0,0,0)"
         },
         "mode": "lines",
         "showlegend": false,
         "type": "scatter",
         "x": [
          -14.4,
          -14.325000000000001
         ],
         "y": [
          4.286263066941701e-9,
          5.5243091986386754e-9
         ]
        },
        {
         "fill": "tozeroy",
         "fillcolor": "rgb(83,76,255)",
         "hoverinfo": "skip",
         "line": {
          "color": "rgba(0,0,0,0)"
         },
         "mode": "lines",
         "showlegend": false,
         "type": "scatter",
         "x": [
          -14.325,
          -14.25
         ],
         "y": [
          5.5243091986386754e-9,
          6.76235533033565e-9
         ]
        },
        {
         "fill": "tozeroy",
         "fillcolor": "rgb(83,76,255)",
         "hoverinfo": "skip",
         "line": {
          "color": "rgba(0,0,0,0)"
         },
         "mode": "lines",
         "showlegend": false,
         "type": "scatter",
         "x": [
          -14.25,
          -14.175
         ],
         "y": [
          6.76235533033565e-9,
          8.51634899047336e-9
         ]
        },
        {
         "fill": "tozeroy",
         "fillcolor": "rgb(79,76,255)",
         "hoverinfo": "skip",
         "line": {
          "color": "rgba(0,0,0,0)"
         },
         "mode": "lines",
         "showlegend": false,
         "type": "scatter",
         "x": [
          -14.174999999999999,
          -14.1
         ],
         "y": [
          8.51634899047336e-9,
          1.027034265061107e-8
         ]
        },
        {
         "fill": "tozeroy",
         "fillcolor": "rgb(79,76,255)",
         "hoverinfo": "skip",
         "line": {
          "color": "rgba(0,0,0,0)"
         },
         "mode": "lines",
         "showlegend": false,
         "type": "scatter",
         "x": [
          -14.1,
          -14.025
         ],
         "y": [
          1.027034265061107e-8,
          1.2962536163315022e-8
         ]
        },
        {
         "fill": "tozeroy",
         "fillcolor": "rgb(79,76,255)",
         "hoverinfo": "skip",
         "line": {
          "color": "rgba(0,0,0,0)"
         },
         "mode": "lines",
         "showlegend": false,
         "type": "scatter",
         "x": [
          -14.024999999999999,
          -13.95
         ],
         "y": [
          1.2962536163315022e-8,
          1.5654729676018977e-8
         ]
        },
        {
         "fill": "tozeroy",
         "fillcolor": "rgb(79,76,255)",
         "hoverinfo": "skip",
         "line": {
          "color": "rgba(0,0,0,0)"
         },
         "mode": "lines",
         "showlegend": false,
         "type": "scatter",
         "x": [
          -13.95,
          -13.875
         ],
         "y": [
          1.5654729676018977e-8,
          1.956191841935451e-8
         ]
        },
        {
         "fill": "tozeroy",
         "fillcolor": "rgb(79,76,255)",
         "hoverinfo": "skip",
         "line": {
          "color": "rgba(0,0,0,0)"
         },
         "mode": "lines",
         "showlegend": false,
         "type": "scatter",
         "x": [
          -13.875,
          -13.8
         ],
         "y": [
          1.956191841935451e-8,
          2.3469107162690046e-8
         ]
        },
        {
         "fill": "tozeroy",
         "fillcolor": "rgb(79,76,255)",
         "hoverinfo": "skip",
         "line": {
          "color": "rgba(0,0,0,0)"
         },
         "mode": "lines",
         "showlegend": false,
         "type": "scatter",
         "x": [
          -13.8,
          -13.725000000000001
         ],
         "y": [
          2.3469107162690046e-8,
          2.924400744186966e-8
         ]
        },
        {
         "fill": "tozeroy",
         "fillcolor": "rgb(79,76,255)",
         "hoverinfo": "skip",
         "line": {
          "color": "rgba(0,0,0,0)"
         },
         "mode": "lines",
         "showlegend": false,
         "type": "scatter",
         "x": [
          -13.725,
          -13.65
         ],
         "y": [
          2.924400744186966e-8,
          3.501890772104927e-8
         ]
        },
        {
         "fill": "tozeroy",
         "fillcolor": "rgb(79,76,255)",
         "hoverinfo": "skip",
         "line": {
          "color": "rgba(0,0,0,0)"
         },
         "mode": "lines",
         "showlegend": false,
         "type": "scatter",
         "x": [
          -13.65,
          -13.575000000000001
         ],
         "y": [
          3.501890772104927e-8,
          4.352001099988612e-8
         ]
        },
        {
         "fill": "tozeroy",
         "fillcolor": "rgb(79,76,255)",
         "hoverinfo": "skip",
         "line": {
          "color": "rgba(0,0,0,0)"
         },
         "mode": "lines",
         "showlegend": false,
         "type": "scatter",
         "x": [
          -13.575,
          -13.5
         ],
         "y": [
          4.352001099988612e-8,
          5.202111427872297e-8
         ]
        },
        {
         "fill": "tozeroy",
         "fillcolor": "rgb(79,76,255)",
         "hoverinfo": "skip",
         "line": {
          "color": "rgba(0,0,0,0)"
         },
         "mode": "lines",
         "showlegend": false,
         "type": "scatter",
         "x": [
          -13.5,
          -13.425
         ],
         "y": [
          5.202111427872297e-8,
          6.444154824350709e-8
         ]
        },
        {
         "fill": "tozeroy",
         "fillcolor": "rgb(79,76,255)",
         "hoverinfo": "skip",
         "line": {
          "color": "rgba(0,0,0,0)"
         },
         "mode": "lines",
         "showlegend": false,
         "type": "scatter",
         "x": [
          -13.424999999999999,
          -13.35
         ],
         "y": [
          6.444154824350709e-8,
          7.68619822082912e-8
         ]
        },
        {
         "fill": "tozeroy",
         "fillcolor": "rgb(79,76,255)",
         "hoverinfo": "skip",
         "line": {
          "color": "rgba(0,0,0,0)"
         },
         "mode": "lines",
         "showlegend": false,
         "type": "scatter",
         "x": [
          -13.35,
          -13.275
         ],
         "y": [
          7.68619822082912e-8,
          9.49870249386321e-8
         ]
        },
        {
         "fill": "tozeroy",
         "fillcolor": "rgb(79,76,255)",
         "hoverinfo": "skip",
         "line": {
          "color": "rgba(0,0,0,0)"
         },
         "mode": "lines",
         "showlegend": false,
         "type": "scatter",
         "x": [
          -13.274999999999999,
          -13.2
         ],
         "y": [
          9.49870249386321e-8,
          1.1311206766897302e-7
         ]
        },
        {
         "fill": "tozeroy",
         "fillcolor": "rgb(79,76,255)",
         "hoverinfo": "skip",
         "line": {
          "color": "rgba(0,0,0,0)"
         },
         "mode": "lines",
         "showlegend": false,
         "type": "scatter",
         "x": [
          -13.2,
          -13.125
         ],
         "y": [
          1.1311206766897302e-7,
          1.3941319715302204e-7
         ]
        },
        {
         "fill": "tozeroy",
         "fillcolor": "rgb(79,76,255)",
         "hoverinfo": "skip",
         "line": {
          "color": "rgba(0,0,0,0)"
         },
         "mode": "lines",
         "showlegend": false,
         "type": "scatter",
         "x": [
          -13.125,
          -13.05
         ],
         "y": [
          1.3941319715302204e-7,
          1.6571432663707104e-7
         ]
        },
        {
         "fill": "tozeroy",
         "fillcolor": "rgb(79,76,255)",
         "hoverinfo": "skip",
         "line": {
          "color": "rgba(0,0,0,0)"
         },
         "mode": "lines",
         "showlegend": false,
         "type": "scatter",
         "x": [
          -13.05,
          -12.975000000000001
         ],
         "y": [
          1.6571432663707104e-7,
          2.037260035789462e-7
         ]
        },
        {
         "fill": "tozeroy",
         "fillcolor": "rgb(79,76,255)",
         "hoverinfo": "skip",
         "line": {
          "color": "rgba(0,0,0,0)"
         },
         "mode": "lines",
         "showlegend": false,
         "type": "scatter",
         "x": [
          -12.975,
          -12.9
         ],
         "y": [
          2.037260035789462e-7,
          2.4173768052082134e-7
         ]
        },
        {
         "fill": "tozeroy",
         "fillcolor": "rgb(79,76,255)",
         "hoverinfo": "skip",
         "line": {
          "color": "rgba(0,0,0,0)"
         },
         "mode": "lines",
         "showlegend": false,
         "type": "scatter",
         "x": [
          -12.9,
          -12.825000000000001
         ],
         "y": [
          2.4173768052082134e-7,
          2.9639867235257596e-7
         ]
        },
        {
         "fill": "tozeroy",
         "fillcolor": "rgb(79,76,255)",
         "hoverinfo": "skip",
         "line": {
          "color": "rgba(0,0,0,0)"
         },
         "mode": "lines",
         "showlegend": false,
         "type": "scatter",
         "x": [
          -12.825,
          -12.75
         ],
         "y": [
          2.9639867235257596e-7,
          3.5105966418433064e-7
         ]
        },
        {
         "fill": "tozeroy",
         "fillcolor": "rgb(79,76,255)",
         "hoverinfo": "skip",
         "line": {
          "color": "rgba(0,0,0,0)"
         },
         "mode": "lines",
         "showlegend": false,
         "type": "scatter",
         "x": [
          -12.75,
          -12.675
         ],
         "y": [
          3.5105966418433064e-7,
          4.292584586859344e-7
         ]
        },
        {
         "fill": "tozeroy",
         "fillcolor": "rgb(79,76,255)",
         "hoverinfo": "skip",
         "line": {
          "color": "rgba(0,0,0,0)"
         },
         "mode": "lines",
         "showlegend": false,
         "type": "scatter",
         "x": [
          -12.674999999999999,
          -12.6
         ],
         "y": [
          4.292584586859344e-7,
          5.074572531875381e-7
         ]
        },
        {
         "fill": "tozeroy",
         "fillcolor": "rgb(79,76,255)",
         "hoverinfo": "skip",
         "line": {
          "color": "rgba(0,0,0,0)"
         },
         "mode": "lines",
         "showlegend": false,
         "type": "scatter",
         "x": [
          -12.6,
          -12.525
         ],
         "y": [
          5.074572531875381e-7,
          6.18844606368862e-7
         ]
        },
        {
         "fill": "tozeroy",
         "fillcolor": "rgb(79,76,255)",
         "hoverinfo": "skip",
         "line": {
          "color": "rgba(0,0,0,0)"
         },
         "mode": "lines",
         "showlegend": false,
         "type": "scatter",
         "x": [
          -12.524999999999999,
          -12.45
         ],
         "y": [
          6.18844606368862e-7,
          7.30231959550186e-7
         ]
        },
        {
         "fill": "tozeroy",
         "fillcolor": "rgb(79,76,255)",
         "hoverinfo": "skip",
         "line": {
          "color": "rgba(0,0,0,0)"
         },
         "mode": "lines",
         "showlegend": false,
         "type": "scatter",
         "x": [
          -12.45,
          -12.375
         ],
         "y": [
          7.30231959550186e-7,
          8.88087916716053e-7
         ]
        },
        {
         "fill": "tozeroy",
         "fillcolor": "rgb(79,76,255)",
         "hoverinfo": "skip",
         "line": {
          "color": "rgba(0,0,0,0)"
         },
         "mode": "lines",
         "showlegend": false,
         "type": "scatter",
         "x": [
          -12.375,
          -12.3
         ],
         "y": [
          8.88087916716053e-7,
          0.00000104594387388192
         ]
        },
        {
         "fill": "tozeroy",
         "fillcolor": "rgb(79,76,255)",
         "hoverinfo": "skip",
         "line": {
          "color": "rgba(0,0,0,0)"
         },
         "mode": "lines",
         "showlegend": false,
         "type": "scatter",
         "x": [
          -12.3,
          -12.225000000000001
         ],
         "y": [
          0.00000104594387388192,
          0.0000012685754026210813
         ]
        },
        {
         "fill": "tozeroy",
         "fillcolor": "rgb(79,76,255)",
         "hoverinfo": "skip",
         "line": {
          "color": "rgba(0,0,0,0)"
         },
         "mode": "lines",
         "showlegend": false,
         "type": "scatter",
         "x": [
          -12.225,
          -12.15
         ],
         "y": [
          0.0000012685754026210813,
          0.000001491206931360243
         ]
        },
        {
         "fill": "tozeroy",
         "fillcolor": "rgb(79,76,255)",
         "hoverinfo": "skip",
         "line": {
          "color": "rgba(0,0,0,0)"
         },
         "mode": "lines",
         "showlegend": false,
         "type": "scatter",
         "x": [
          -12.15,
          -12.075000000000001
         ],
         "y": [
          0.000001491206931360243,
          0.0000018036935260230611
         ]
        },
        {
         "fill": "tozeroy",
         "fillcolor": "rgb(79,76,255)",
         "hoverinfo": "skip",
         "line": {
          "color": "rgba(0,0,0,0)"
         },
         "mode": "lines",
         "showlegend": false,
         "type": "scatter",
         "x": [
          -12.075,
          -12
         ],
         "y": [
          0.0000018036935260230611,
          0.0000021161801206858795
         ]
        },
        {
         "fill": "tozeroy",
         "fillcolor": "rgb(79,76,255)",
         "hoverinfo": "skip",
         "line": {
          "color": "rgba(0,0,0,0)"
         },
         "mode": "lines",
         "showlegend": false,
         "type": "scatter",
         "x": [
          -12,
          -11.925
         ],
         "y": [
          0.0000021161801206858795,
          0.0000025526574852901134
         ]
        },
        {
         "fill": "tozeroy",
         "fillcolor": "rgb(79,76,255)",
         "hoverinfo": "skip",
         "line": {
          "color": "rgba(0,0,0,0)"
         },
         "mode": "lines",
         "showlegend": false,
         "type": "scatter",
         "x": [
          -11.924999999999999,
          -11.85
         ],
         "y": [
          0.0000025526574852901134,
          0.0000029891348498943474
         ]
        },
        {
         "fill": "tozeroy",
         "fillcolor": "rgb(79,76,255)",
         "hoverinfo": "skip",
         "line": {
          "color": "rgba(0,0,0,0)"
         },
         "mode": "lines",
         "showlegend": false,
         "type": "scatter",
         "x": [
          -11.85,
          -11.775
         ],
         "y": [
          0.0000029891348498943474,
          0.0000035958524795858214
         ]
        },
        {
         "fill": "tozeroy",
         "fillcolor": "rgb(79,76,255)",
         "hoverinfo": "skip",
         "line": {
          "color": "rgba(0,0,0,0)"
         },
         "mode": "lines",
         "showlegend": false,
         "type": "scatter",
         "x": [
          -11.774999999999999,
          -11.7
         ],
         "y": [
          0.0000035958524795858214,
          0.000004202570109277295
         ]
        },
        {
         "fill": "tozeroy",
         "fillcolor": "rgb(79,76,255)",
         "hoverinfo": "skip",
         "line": {
          "color": "rgba(0,0,0,0)"
         },
         "mode": "lines",
         "showlegend": false,
         "type": "scatter",
         "x": [
          -11.7,
          -11.625
         ],
         "y": [
          0.000004202570109277295,
          0.00000504177607247263
         ]
        },
        {
         "fill": "tozeroy",
         "fillcolor": "rgb(79,76,255)",
         "hoverinfo": "skip",
         "line": {
          "color": "rgba(0,0,0,0)"
         },
         "mode": "lines",
         "showlegend": false,
         "type": "scatter",
         "x": [
          -11.625,
          -11.55
         ],
         "y": [
          0.00000504177607247263,
          0.000005880982035667965
         ]
        },
        {
         "fill": "tozeroy",
         "fillcolor": "rgb(79,76,255)",
         "hoverinfo": "skip",
         "line": {
          "color": "rgba(0,0,0,0)"
         },
         "mode": "lines",
         "showlegend": false,
         "type": "scatter",
         "x": [
          -11.55,
          -11.475000000000001
         ],
         "y": [
          0.000005880982035667965,
          0.0000070362266036625
         ]
        },
        {
         "fill": "tozeroy",
         "fillcolor": "rgb(79,76,255)",
         "hoverinfo": "skip",
         "line": {
          "color": "rgba(0,0,0,0)"
         },
         "mode": "lines",
         "showlegend": false,
         "type": "scatter",
         "x": [
          -11.475,
          -11.4
         ],
         "y": [
          0.0000070362266036625,
          0.000008191471171657034
         ]
        },
        {
         "fill": "tozeroy",
         "fillcolor": "rgb(79,76,255)",
         "hoverinfo": "skip",
         "line": {
          "color": "rgba(0,0,0,0)"
         },
         "mode": "lines",
         "showlegend": false,
         "type": "scatter",
         "x": [
          -11.4,
          -11.325000000000001
         ],
         "y": [
          0.000008191471171657034,
          0.000009773878881232026
         ]
        },
        {
         "fill": "tozeroy",
         "fillcolor": "rgb(79,76,255)",
         "hoverinfo": "skip",
         "line": {
          "color": "rgba(0,0,0,0)"
         },
         "mode": "lines",
         "showlegend": false,
         "type": "scatter",
         "x": [
          -11.325,
          -11.25
         ],
         "y": [
          0.000009773878881232026,
          0.000011356286590807019
         ]
        },
        {
         "fill": "tozeroy",
         "fillcolor": "rgb(79,76,255)",
         "hoverinfo": "skip",
         "line": {
          "color": "rgba(0,0,0,0)"
         },
         "mode": "lines",
         "showlegend": false,
         "type": "scatter",
         "x": [
          -11.25,
          -11.175
         ],
         "y": [
          0.000011356286590807019,
          0.00001351328589419355
         ]
        },
        {
         "fill": "tozeroy",
         "fillcolor": "rgb(79,76,255)",
         "hoverinfo": "skip",
         "line": {
          "color": "rgba(0,0,0,0)"
         },
         "mode": "lines",
         "showlegend": false,
         "type": "scatter",
         "x": [
          -11.174999999999999,
          -11.1
         ],
         "y": [
          0.00001351328589419355,
          0.00001567028519758008
         ]
        },
        {
         "fill": "tozeroy",
         "fillcolor": "rgb(79,76,255)",
         "hoverinfo": "skip",
         "line": {
          "color": "rgba(0,0,0,0)"
         },
         "mode": "lines",
         "showlegend": false,
         "type": "scatter",
         "x": [
          -11.1,
          -11.025
         ],
         "y": [
          0.00001567028519758008,
          0.00001859612029537104
         ]
        },
        {
         "fill": "tozeroy",
         "fillcolor": "rgb(79,76,255)",
         "hoverinfo": "skip",
         "line": {
          "color": "rgba(0,0,0,0)"
         },
         "mode": "lines",
         "showlegend": false,
         "type": "scatter",
         "x": [
          -11.024999999999999,
          -10.95
         ],
         "y": [
          0.00001859612029537104,
          0.000021521955393161996
         ]
        },
        {
         "fill": "tozeroy",
         "fillcolor": "rgb(79,76,255)",
         "hoverinfo": "skip",
         "line": {
          "color": "rgba(0,0,0,0)"
         },
         "mode": "lines",
         "showlegend": false,
         "type": "scatter",
         "x": [
          -10.95,
          -10.875
         ],
         "y": [
          0.000021521955393161996,
          0.000025471114513100266
         ]
        },
        {
         "fill": "tozeroy",
         "fillcolor": "rgb(79,76,255)",
         "hoverinfo": "skip",
         "line": {
          "color": "rgba(0,0,0,0)"
         },
         "mode": "lines",
         "showlegend": false,
         "type": "scatter",
         "x": [
          -10.875,
          -10.8
         ],
         "y": [
          0.000025471114513100266,
          0.000029420273633038536
         ]
        },
        {
         "fill": "tozeroy",
         "fillcolor": "rgb(79,76,255)",
         "hoverinfo": "skip",
         "line": {
          "color": "rgba(0,0,0,0)"
         },
         "mode": "lines",
         "showlegend": false,
         "type": "scatter",
         "x": [
          -10.8,
          -10.725000000000001
         ],
         "y": [
          0.000029420273633038536,
          0.00003472443925947915
         ]
        },
        {
         "fill": "tozeroy",
         "fillcolor": "rgb(79,76,255)",
         "hoverinfo": "skip",
         "line": {
          "color": "rgba(0,0,0,0)"
         },
         "mode": "lines",
         "showlegend": false,
         "type": "scatter",
         "x": [
          -10.725,
          -10.65
         ],
         "y": [
          0.00003472443925947915,
          0.000040028604885919765
         ]
        },
        {
         "fill": "tozeroy",
         "fillcolor": "rgb(79,76,255)",
         "hoverinfo": "skip",
         "line": {
          "color": "rgba(0,0,0,0)"
         },
         "mode": "lines",
         "showlegend": false,
         "type": "scatter",
         "x": [
          -10.65,
          -10.575000000000001
         ],
         "y": [
          0.000040028604885919765,
          0.000047117563054812115
         ]
        },
        {
         "fill": "tozeroy",
         "fillcolor": "rgb(79,76,255)",
         "hoverinfo": "skip",
         "line": {
          "color": "rgba(0,0,0,0)"
         },
         "mode": "lines",
         "showlegend": false,
         "type": "scatter",
         "x": [
          -10.575,
          -10.5
         ],
         "y": [
          0.000047117563054812115,
          0.000054206521223704465
         ]
        },
        {
         "fill": "tozeroy",
         "fillcolor": "rgb(79,76,255)",
         "hoverinfo": "skip",
         "line": {
          "color": "rgba(0,0,0,0)"
         },
         "mode": "lines",
         "showlegend": false,
         "type": "scatter",
         "x": [
          -10.5,
          -10.425
         ],
         "y": [
          0.000054206521223704465,
          0.0000636338240475693
         ]
        },
        {
         "fill": "tozeroy",
         "fillcolor": "rgb(79,76,255)",
         "hoverinfo": "skip",
         "line": {
          "color": "rgba(0,0,0,0)"
         },
         "mode": "lines",
         "showlegend": false,
         "type": "scatter",
         "x": [
          -10.425,
          -10.350000000000001
         ],
         "y": [
          0.0000636338240475693,
          0.00007306112687143412
         ]
        },
        {
         "fill": "tozeroy",
         "fillcolor": "rgb(79,76,255)",
         "hoverinfo": "skip",
         "line": {
          "color": "rgba(0,0,0,0)"
         },
         "mode": "lines",
         "showlegend": false,
         "type": "scatter",
         "x": [
          -10.350000000000001,
          -10.275000000000002
         ],
         "y": [
          0.00007306112687143412,
          0.0000855359440582245
         ]
        },
        {
         "fill": "tozeroy",
         "fillcolor": "rgb(79,76,255)",
         "hoverinfo": "skip",
         "line": {
          "color": "rgba(0,0,0,0)"
         },
         "mode": "lines",
         "showlegend": false,
         "type": "scatter",
         "x": [
          -10.274999999999999,
          -10.2
         ],
         "y": [
          0.0000855359440582245,
          0.00009801076124501488
         ]
        },
        {
         "fill": "tozeroy",
         "fillcolor": "rgb(79,76,255)",
         "hoverinfo": "skip",
         "line": {
          "color": "rgba(0,0,0,0)"
         },
         "mode": "lines",
         "showlegend": false,
         "type": "scatter",
         "x": [
          -10.2,
          -10.125
         ],
         "y": [
          0.00009801076124501488,
          0.00011443583544118415
         ]
        },
        {
         "fill": "tozeroy",
         "fillcolor": "rgb(79,76,255)",
         "hoverinfo": "skip",
         "line": {
          "color": "rgba(0,0,0,0)"
         },
         "mode": "lines",
         "showlegend": false,
         "type": "scatter",
         "x": [
          -10.125,
          -10.05
         ],
         "y": [
          0.00011443583544118415,
          0.00013086090963735343
         ]
        },
        {
         "fill": "tozeroy",
         "fillcolor": "rgb(79,76,255)",
         "hoverinfo": "skip",
         "line": {
          "color": "rgba(0,0,0,0)"
         },
         "mode": "lines",
         "showlegend": false,
         "type": "scatter",
         "x": [
          -10.05,
          -9.975000000000001
         ],
         "y": [
          0.00013086090963735343,
          0.00015237915131770545
         ]
        },
        {
         "fill": "tozeroy",
         "fillcolor": "rgb(79,76,255)",
         "hoverinfo": "skip",
         "line": {
          "color": "rgba(0,0,0,0)"
         },
         "mode": "lines",
         "showlegend": false,
         "type": "scatter",
         "x": [
          -9.975,
          -9.9
         ],
         "y": [
          0.00015237915131770545,
          0.00017389739299805744
         ]
        },
        {
         "fill": "tozeroy",
         "fillcolor": "rgb(79,76,255)",
         "hoverinfo": "skip",
         "line": {
          "color": "rgba(0,0,0,0)"
         },
         "mode": "lines",
         "showlegend": false,
         "type": "scatter",
         "x": [
          -9.9,
          -9.825000000000001
         ],
         "y": [
          0.00017389739299805744,
          0.00020194662800996981
         ]
        },
        {
         "fill": "tozeroy",
         "fillcolor": "rgb(79,76,255)",
         "hoverinfo": "skip",
         "line": {
          "color": "rgba(0,0,0,0)"
         },
         "mode": "lines",
         "showlegend": false,
         "type": "scatter",
         "x": [
          -9.825,
          -9.75
         ],
         "y": [
          0.00020194662800996981,
          0.00022999586302188218
         ]
        },
        {
         "fill": "tozeroy",
         "fillcolor": "rgb(79,76,255)",
         "hoverinfo": "skip",
         "line": {
          "color": "rgba(0,0,0,0)"
         },
         "mode": "lines",
         "showlegend": false,
         "type": "scatter",
         "x": [
          -9.75,
          -9.675
         ],
         "y": [
          0.00022999586302188218,
          0.0002663741002245622
         ]
        },
        {
         "fill": "tozeroy",
         "fillcolor": "rgb(79,76,255)",
         "hoverinfo": "skip",
         "line": {
          "color": "rgba(0,0,0,0)"
         },
         "mode": "lines",
         "showlegend": false,
         "type": "scatter",
         "x": [
          -9.675,
          -9.600000000000001
         ],
         "y": [
          0.0002663741002245622,
          0.0003027523374272422
         ]
        },
        {
         "fill": "tozeroy",
         "fillcolor": "rgb(79,76,255)",
         "hoverinfo": "skip",
         "line": {
          "color": "rgba(0,0,0,0)"
         },
         "mode": "lines",
         "showlegend": false,
         "type": "scatter",
         "x": [
          -9.600000000000001,
          -9.525000000000002
         ],
         "y": [
          0.0003027523374272422,
          0.0003496944261524626
         ]
        },
        {
         "fill": "tozeroy",
         "fillcolor": "rgb(79,76,255)",
         "hoverinfo": "skip",
         "line": {
          "color": "rgba(0,0,0,0)"
         },
         "mode": "lines",
         "showlegend": false,
         "type": "scatter",
         "x": [
          -9.524999999999999,
          -9.45
         ],
         "y": [
          0.0003496944261524626,
          0.000396636514877683
         ]
        },
        {
         "fill": "tozeroy",
         "fillcolor": "rgb(79,76,255)",
         "hoverinfo": "skip",
         "line": {
          "color": "rgba(0,0,0,0)"
         },
         "mode": "lines",
         "showlegend": false,
         "type": "scatter",
         "x": [
          -9.45,
          -9.375
         ],
         "y": [
          0.000396636514877683,
          0.0004569024737750843
         ]
        },
        {
         "fill": "tozeroy",
         "fillcolor": "rgb(79,76,255)",
         "hoverinfo": "skip",
         "line": {
          "color": "rgba(0,0,0,0)"
         },
         "mode": "lines",
         "showlegend": false,
         "type": "scatter",
         "x": [
          -9.375,
          -9.3
         ],
         "y": [
          0.0004569024737750843,
          0.0005171684326724855
         ]
        },
        {
         "fill": "tozeroy",
         "fillcolor": "rgb(79,76,255)",
         "hoverinfo": "skip",
         "line": {
          "color": "rgba(0,0,0,0)"
         },
         "mode": "lines",
         "showlegend": false,
         "type": "scatter",
         "x": [
          -9.3,
          -9.225000000000001
         ],
         "y": [
          0.0005171684326724855,
          0.000594145650784035
         ]
        },
        {
         "fill": "tozeroy",
         "fillcolor": "rgb(79,76,255)",
         "hoverinfo": "skip",
         "line": {
          "color": "rgba(0,0,0,0)"
         },
         "mode": "lines",
         "showlegend": false,
         "type": "scatter",
         "x": [
          -9.225,
          -9.15
         ],
         "y": [
          0.000594145650784035,
          0.0006711228688955844
         ]
        },
        {
         "fill": "tozeroy",
         "fillcolor": "rgb(79,76,255)",
         "hoverinfo": "skip",
         "line": {
          "color": "rgba(0,0,0,0)"
         },
         "mode": "lines",
         "showlegend": false,
         "type": "scatter",
         "x": [
          -9.15,
          -9.075000000000001
         ],
         "y": [
          0.0006711228688955844,
          0.0007689416001202922
         ]
        },
        {
         "fill": "tozeroy",
         "fillcolor": "rgb(79,76,255)",
         "hoverinfo": "skip",
         "line": {
          "color": "rgba(0,0,0,0)"
         },
         "mode": "lines",
         "showlegend": false,
         "type": "scatter",
         "x": [
          -9.075,
          -9
         ],
         "y": [
          0.0007689416001202922,
          0.000866760331345
         ]
        },
        {
         "fill": "tozeroy",
         "fillcolor": "rgb(79,76,255)",
         "hoverinfo": "skip",
         "line": {
          "color": "rgba(0,0,0,0)"
         },
         "mode": "lines",
         "showlegend": false,
         "type": "scatter",
         "x": [
          -9,
          -8.925
         ],
         "y": [
          0.000866760331345,
          0.0009904237414610452
         ]
        },
        {
         "fill": "tozeroy",
         "fillcolor": "rgb(79,76,255)",
         "hoverinfo": "skip",
         "line": {
          "color": "rgba(0,0,0,0)"
         },
         "mode": "lines",
         "showlegend": false,
         "type": "scatter",
         "x": [
          -8.925,
          -8.850000000000001
         ],
         "y": [
          0.0009904237414610452,
          0.0011140871515770902
         ]
        },
        {
         "fill": "tozeroy",
         "fillcolor": "rgb(79,76,255)",
         "hoverinfo": "skip",
         "line": {
          "color": "rgba(0,0,0,0)"
         },
         "mode": "lines",
         "showlegend": false,
         "type": "scatter",
         "x": [
          -8.850000000000001,
          -8.775000000000002
         ],
         "y": [
          0.0011140871515770902,
          0.0012696149216534396
         ]
        },
        {
         "fill": "tozeroy",
         "fillcolor": "rgb(79,76,255)",
         "hoverinfo": "skip",
         "line": {
          "color": "rgba(0,0,0,0)"
         },
         "mode": "lines",
         "showlegend": false,
         "type": "scatter",
         "x": [
          -8.774999999999999,
          -8.7
         ],
         "y": [
          0.0012696149216534396,
          0.001425142691729789
         ]
        },
        {
         "fill": "tozeroy",
         "fillcolor": "rgb(79,76,255)",
         "hoverinfo": "skip",
         "line": {
          "color": "rgba(0,0,0,0)"
         },
         "mode": "lines",
         "showlegend": false,
         "type": "scatter",
         "x": [
          -8.7,
          -8.625
         ],
         "y": [
          0.001425142691729789,
          0.0016197281215226918
         ]
        },
        {
         "fill": "tozeroy",
         "fillcolor": "rgb(79,76,255)",
         "hoverinfo": "skip",
         "line": {
          "color": "rgba(0,0,0,0)"
         },
         "mode": "lines",
         "showlegend": false,
         "type": "scatter",
         "x": [
          -8.625,
          -8.55
         ],
         "y": [
          0.0016197281215226918,
          0.0018143135513155946
         ]
        },
        {
         "fill": "tozeroy",
         "fillcolor": "rgb(79,76,255)",
         "hoverinfo": "skip",
         "line": {
          "color": "rgba(0,0,0,0)"
         },
         "mode": "lines",
         "showlegend": false,
         "type": "scatter",
         "x": [
          -8.55,
          -8.475000000000001
         ],
         "y": [
          0.0018143135513155946,
          0.0020564916839522426
         ]
        },
        {
         "fill": "tozeroy",
         "fillcolor": "rgb(79,76,255)",
         "hoverinfo": "skip",
         "line": {
          "color": "rgba(0,0,0,0)"
         },
         "mode": "lines",
         "showlegend": false,
         "type": "scatter",
         "x": [
          -8.475,
          -8.4
         ],
         "y": [
          0.0020564916839522426,
          0.002298669816588891
         ]
        },
        {
         "fill": "tozeroy",
         "fillcolor": "rgb(79,76,255)",
         "hoverinfo": "skip",
         "line": {
          "color": "rgba(0,0,0,0)"
         },
         "mode": "lines",
         "showlegend": false,
         "type": "scatter",
         "x": [
          -8.4,
          -8.325000000000001
         ],
         "y": [
          0.002298669816588891,
          0.0025984950257243733
         ]
        },
        {
         "fill": "tozeroy",
         "fillcolor": "rgb(79,76,255)",
         "hoverinfo": "skip",
         "line": {
          "color": "rgba(0,0,0,0)"
         },
         "mode": "lines",
         "showlegend": false,
         "type": "scatter",
         "x": [
          -8.325,
          -8.25
         ],
         "y": [
          0.0025984950257243733,
          0.0028983202348598558
         ]
        },
        {
         "fill": "tozeroy",
         "fillcolor": "rgb(79,76,255)",
         "hoverinfo": "skip",
         "line": {
          "color": "rgba(0,0,0,0)"
         },
         "mode": "lines",
         "showlegend": false,
         "type": "scatter",
         "x": [
          -8.25,
          -8.175
         ],
         "y": [
          0.0028983202348598558,
          0.003267548500077636
         ]
        },
        {
         "fill": "tozeroy",
         "fillcolor": "rgb(79,76,255)",
         "hoverinfo": "skip",
         "line": {
          "color": "rgba(0,0,0,0)"
         },
         "mode": "lines",
         "showlegend": false,
         "type": "scatter",
         "x": [
          -8.175,
          -8.100000000000001
         ],
         "y": [
          0.003267548500077636,
          0.0036367767652954156
         ]
        },
        {
         "fill": "tozeroy",
         "fillcolor": "rgb(79,76,255)",
         "hoverinfo": "skip",
         "line": {
          "color": "rgba(0,0,0,0)"
         },
         "mode": "lines",
         "showlegend": false,
         "type": "scatter",
         "x": [
          -8.100000000000001,
          -8.025000000000002
         ],
         "y": [
          0.0036367767652954156,
          0.00408904830476467
         ]
        },
        {
         "fill": "tozeroy",
         "fillcolor": "rgb(79,76,255)",
         "hoverinfo": "skip",
         "line": {
          "color": "rgba(0,0,0,0)"
         },
         "mode": "lines",
         "showlegend": false,
         "type": "scatter",
         "x": [
          -8.025,
          -7.95
         ],
         "y": [
          0.00408904830476467,
          0.0045413198442339235
         ]
        },
        {
         "fill": "tozeroy",
         "fillcolor": "rgb(79,76,255)",
         "hoverinfo": "skip",
         "line": {
          "color": "rgba(0,0,0,0)"
         },
         "mode": "lines",
         "showlegend": false,
         "type": "scatter",
         "x": [
          -7.95,
          -7.875
         ],
         "y": [
          0.0045413198442339235,
          0.00509233564493583
         ]
        },
        {
         "fill": "tozeroy",
         "fillcolor": "rgb(79,76,255)",
         "hoverinfo": "skip",
         "line": {
          "color": "rgba(0,0,0,0)"
         },
         "mode": "lines",
         "showlegend": false,
         "type": "scatter",
         "x": [
          -7.875000000000001,
          -7.800000000000001
         ],
         "y": [
          0.00509233564493583,
          0.005643351445637737
         ]
        },
        {
         "fill": "tozeroy",
         "fillcolor": "rgb(79,76,255)",
         "hoverinfo": "skip",
         "line": {
          "color": "rgba(0,0,0,0)"
         },
         "mode": "lines",
         "showlegend": false,
         "type": "scatter",
         "x": [
          -7.800000000000001,
          -7.7250000000000005
         ],
         "y": [
          0.005643351445637737,
          0.006311035189066758
         ]
        },
        {
         "fill": "tozeroy",
         "fillcolor": "rgb(79,76,255)",
         "hoverinfo": "skip",
         "line": {
          "color": "rgba(0,0,0,0)"
         },
         "mode": "lines",
         "showlegend": false,
         "type": "scatter",
         "x": [
          -7.7250000000000005,
          -7.65
         ],
         "y": [
          0.006311035189066758,
          0.00697871893249578
         ]
        },
        {
         "fill": "tozeroy",
         "fillcolor": "rgb(79,76,255)",
         "hoverinfo": "skip",
         "line": {
          "color": "rgba(0,0,0,0)"
         },
         "mode": "lines",
         "showlegend": false,
         "type": "scatter",
         "x": [
          -7.65,
          -7.575
         ],
         "y": [
          0.00697871893249578,
          0.007783355292505905
         ]
        },
        {
         "fill": "tozeroy",
         "fillcolor": "rgb(79,76,255)",
         "hoverinfo": "skip",
         "line": {
          "color": "rgba(0,0,0,0)"
         },
         "mode": "lines",
         "showlegend": false,
         "type": "scatter",
         "x": [
          -7.575,
          -7.5
         ],
         "y": [
          0.007783355292505905,
          0.00858799165251603
         ]
        },
        {
         "fill": "tozeroy",
         "fillcolor": "rgb(79,76,255)",
         "hoverinfo": "skip",
         "line": {
          "color": "rgba(0,0,0,0)"
         },
         "mode": "lines",
         "showlegend": false,
         "type": "scatter",
         "x": [
          -7.5,
          -7.425
         ],
         "y": [
          0.00858799165251603,
          0.00955232924665106
         ]
        },
        {
         "fill": "tozeroy",
         "fillcolor": "rgb(79,76,255)",
         "hoverinfo": "skip",
         "line": {
          "color": "rgba(0,0,0,0)"
         },
         "mode": "lines",
         "showlegend": false,
         "type": "scatter",
         "x": [
          -7.425000000000001,
          -7.3500000000000005
         ],
         "y": [
          0.00955232924665106,
          0.010516666840786091
         ]
        },
        {
         "fill": "tozeroy",
         "fillcolor": "rgb(79,76,255)",
         "hoverinfo": "skip",
         "line": {
          "color": "rgba(0,0,0,0)"
         },
         "mode": "lines",
         "showlegend": false,
         "type": "scatter",
         "x": [
          -7.3500000000000005,
          -7.275
         ],
         "y": [
          0.010516666840786091,
          0.011665973421699
         ]
        },
        {
         "fill": "tozeroy",
         "fillcolor": "rgb(79,76,255)",
         "hoverinfo": "skip",
         "line": {
          "color": "rgba(0,0,0,0)"
         },
         "mode": "lines",
         "showlegend": false,
         "type": "scatter",
         "x": [
          -7.275,
          -7.2
         ],
         "y": [
          0.011665973421699,
          0.012815280002611909
         ]
        },
        {
         "fill": "tozeroy",
         "fillcolor": "rgb(79,76,255)",
         "hoverinfo": "skip",
         "line": {
          "color": "rgba(0,0,0,0)"
         },
         "mode": "lines",
         "showlegend": false,
         "type": "scatter",
         "x": [
          -7.2,
          -7.125
         ],
         "y": [
          0.012815280002611909,
          0.01417733559024268
         ]
        },
        {
         "fill": "tozeroy",
         "fillcolor": "rgb(79,76,255)",
         "hoverinfo": "skip",
         "line": {
          "color": "rgba(0,0,0,0)"
         },
         "mode": "lines",
         "showlegend": false,
         "type": "scatter",
         "x": [
          -7.125000000000001,
          -7.050000000000001
         ],
         "y": [
          0.01417733559024268,
          0.015539391177873453
         ]
        },
        {
         "fill": "tozeroy",
         "fillcolor": "rgb(79,76,255)",
         "hoverinfo": "skip",
         "line": {
          "color": "rgba(0,0,0,0)"
         },
         "mode": "lines",
         "showlegend": false,
         "type": "scatter",
         "x": [
          -7.050000000000001,
          -6.9750000000000005
         ],
         "y": [
          0.015539391177873453,
          0.017144403750336518
         ]
        },
        {
         "fill": "tozeroy",
         "fillcolor": "rgb(79,76,255)",
         "hoverinfo": "skip",
         "line": {
          "color": "rgba(0,0,0,0)"
         },
         "mode": "lines",
         "showlegend": false,
         "type": "scatter",
         "x": [
          -6.9750000000000005,
          -6.9
         ],
         "y": [
          0.017144403750336518,
          0.01874941632279958
         ]
        },
        {
         "fill": "tozeroy",
         "fillcolor": "rgb(79,76,255)",
         "hoverinfo": "skip",
         "line": {
          "color": "rgba(0,0,0,0)"
         },
         "mode": "lines",
         "showlegend": false,
         "type": "scatter",
         "x": [
          -6.9,
          -6.825
         ],
         "y": [
          0.01874941632279958,
          0.020629844740418814
         ]
        },
        {
         "fill": "tozeroy",
         "fillcolor": "rgb(79,76,255)",
         "hoverinfo": "skip",
         "line": {
          "color": "rgba(0,0,0,0)"
         },
         "mode": "lines",
         "showlegend": false,
         "type": "scatter",
         "x": [
          -6.825,
          -6.75
         ],
         "y": [
          0.020629844740418814,
          0.02251027315803805
         ]
        },
        {
         "fill": "tozeroy",
         "fillcolor": "rgb(79,76,255)",
         "hoverinfo": "skip",
         "line": {
          "color": "rgba(0,0,0,0)"
         },
         "mode": "lines",
         "showlegend": false,
         "type": "scatter",
         "x": [
          -6.75,
          -6.675
         ],
         "y": [
          0.02251027315803805,
          0.024700540685249205
         ]
        },
        {
         "fill": "tozeroy",
         "fillcolor": "rgb(79,76,255)",
         "hoverinfo": "skip",
         "line": {
          "color": "rgba(0,0,0,0)"
         },
         "mode": "lines",
         "showlegend": false,
         "type": "scatter",
         "x": [
          -6.675,
          -6.6
         ],
         "y": [
          0.024700540685249205,
          0.026890808212460357
         ]
        },
        {
         "fill": "tozeroy",
         "fillcolor": "rgb(79,76,255)",
         "hoverinfo": "skip",
         "line": {
          "color": "rgba(0,0,0,0)"
         },
         "mode": "lines",
         "showlegend": false,
         "type": "scatter",
         "x": [
          -6.6,
          -6.5249999999999995
         ],
         "y": [
          0.026890808212460357,
          0.02942689211031641
         ]
        },
        {
         "fill": "tozeroy",
         "fillcolor": "rgb(79,76,255)",
         "hoverinfo": "skip",
         "line": {
          "color": "rgba(0,0,0,0)"
         },
         "mode": "lines",
         "showlegend": false,
         "type": "scatter",
         "x": [
          -6.525000000000001,
          -6.450000000000001
         ],
         "y": [
          0.02942689211031641,
          0.03196297600817246
         ]
        },
        {
         "fill": "tozeroy",
         "fillcolor": "rgb(79,76,255)",
         "hoverinfo": "skip",
         "line": {
          "color": "rgba(0,0,0,0)"
         },
         "mode": "lines",
         "showlegend": false,
         "type": "scatter",
         "x": [
          -6.450000000000001,
          -6.375000000000001
         ],
         "y": [
          0.03196297600817246,
          0.03488185833834742
         ]
        },
        {
         "fill": "tozeroy",
         "fillcolor": "rgb(79,76,255)",
         "hoverinfo": "skip",
         "line": {
          "color": "rgba(0,0,0,0)"
         },
         "mode": "lines",
         "showlegend": false,
         "type": "scatter",
         "x": [
          -6.375000000000001,
          -6.300000000000001
         ],
         "y": [
          0.03488185833834742,
          0.03780074066852238
         ]
        },
        {
         "fill": "tozeroy",
         "fillcolor": "rgb(79,76,255)",
         "hoverinfo": "skip",
         "line": {
          "color": "rgba(0,0,0,0)"
         },
         "mode": "lines",
         "showlegend": false,
         "type": "scatter",
         "x": [
          -6.300000000000001,
          -6.2250000000000005
         ],
         "y": [
          0.03780074066852238,
          0.04113970975256289
         ]
        },
        {
         "fill": "tozeroy",
         "fillcolor": "rgb(79,76,255)",
         "hoverinfo": "skip",
         "line": {
          "color": "rgba(0,0,0,0)"
         },
         "mode": "lines",
         "showlegend": false,
         "type": "scatter",
         "x": [
          -6.2250000000000005,
          -6.15
         ],
         "y": [
          0.04113970975256289,
          0.0444786788366034
         ]
        },
        {
         "fill": "tozeroy",
         "fillcolor": "rgb(79,76,255)",
         "hoverinfo": "skip",
         "line": {
          "color": "rgba(0,0,0,0)"
         },
         "mode": "lines",
         "showlegend": false,
         "type": "scatter",
         "x": [
          -6.15,
          -6.075
         ],
         "y": [
          0.0444786788366034,
          0.04827447245384035
         ]
        },
        {
         "fill": "tozeroy",
         "fillcolor": "rgb(79,76,255)",
         "hoverinfo": "skip",
         "line": {
          "color": "rgba(0,0,0,0)"
         },
         "mode": "lines",
         "showlegend": false,
         "type": "scatter",
         "x": [
          -6.075,
          -6
         ],
         "y": [
          0.04827447245384035,
          0.05207026607107731
         ]
        },
        {
         "fill": "tozeroy",
         "fillcolor": "rgb(79,76,255)",
         "hoverinfo": "skip",
         "line": {
          "color": "rgba(0,0,0,0)"
         },
         "mode": "lines",
         "showlegend": false,
         "type": "scatter",
         "x": [
          -6,
          -5.925
         ],
         "y": [
          0.05207026607107731,
          0.056358053353777554
         ]
        },
        {
         "fill": "tozeroy",
         "fillcolor": "rgb(79,76,255)",
         "hoverinfo": "skip",
         "line": {
          "color": "rgba(0,0,0,0)"
         },
         "mode": "lines",
         "showlegend": false,
         "type": "scatter",
         "x": [
          -5.925,
          -5.85
         ],
         "y": [
          0.056358053353777554,
          0.060645840636477794
         ]
        },
        {
         "fill": "tozeroy",
         "fillcolor": "rgb(79,76,255)",
         "hoverinfo": "skip",
         "line": {
          "color": "rgba(0,0,0,0)"
         },
         "mode": "lines",
         "showlegend": false,
         "type": "scatter",
         "x": [
          -5.85,
          -5.7749999999999995
         ],
         "y": [
          0.060645840636477794,
          0.06545804405355188
         ]
        },
        {
         "fill": "tozeroy",
         "fillcolor": "rgb(79,76,255)",
         "hoverinfo": "skip",
         "line": {
          "color": "rgba(0,0,0,0)"
         },
         "mode": "lines",
         "showlegend": false,
         "type": "scatter",
         "x": [
          -5.775000000000001,
          -5.700000000000001
         ],
         "y": [
          0.06545804405355188,
          0.07027024747062595
         ]
        },
        {
         "fill": "tozeroy",
         "fillcolor": "rgb(79,76,255)",
         "hoverinfo": "skip",
         "line": {
          "color": "rgba(0,0,0,0)"
         },
         "mode": "lines",
         "showlegend": false,
         "type": "scatter",
         "x": [
          -5.700000000000001,
          -5.625000000000001
         ],
         "y": [
          0.07027024747062595,
          0.07563521432024002
         ]
        },
        {
         "fill": "tozeroy",
         "fillcolor": "rgb(79,76,255)",
         "hoverinfo": "skip",
         "line": {
          "color": "rgba(0,0,0,0)"
         },
         "mode": "lines",
         "showlegend": false,
         "type": "scatter",
         "x": [
          -5.625000000000001,
          -5.550000000000001
         ],
         "y": [
          0.07563521432024002,
          0.0810001811698541
         ]
        },
        {
         "fill": "tozeroy",
         "fillcolor": "rgb(79,76,255)",
         "hoverinfo": "skip",
         "line": {
          "color": "rgba(0,0,0,0)"
         },
         "mode": "lines",
         "showlegend": false,
         "type": "scatter",
         "x": [
          -5.550000000000001,
          -5.4750000000000005
         ],
         "y": [
          0.0810001811698541,
          0.08694072002586202
         ]
        },
        {
         "fill": "tozeroy",
         "fillcolor": "rgb(79,76,255)",
         "hoverinfo": "skip",
         "line": {
          "color": "rgba(0,0,0,0)"
         },
         "mode": "lines",
         "showlegend": false,
         "type": "scatter",
         "x": [
          -5.4750000000000005,
          -5.4
         ],
         "y": [
          0.08694072002586202,
          0.09288125888186995
         ]
        },
        {
         "fill": "tozeroy",
         "fillcolor": "rgb(79,76,255)",
         "hoverinfo": "skip",
         "line": {
          "color": "rgba(0,0,0,0)"
         },
         "mode": "lines",
         "showlegend": false,
         "type": "scatter",
         "x": [
          -5.4,
          -5.325
         ],
         "y": [
          0.09288125888186995,
          0.09941306639575895
         ]
        },
        {
         "fill": "tozeroy",
         "fillcolor": "rgb(79,76,255)",
         "hoverinfo": "skip",
         "line": {
          "color": "rgba(0,0,0,0)"
         },
         "mode": "lines",
         "showlegend": false,
         "type": "scatter",
         "x": [
          -5.325,
          -5.25
         ],
         "y": [
          0.09941306639575895,
          0.10594487390964795
         ]
        },
        {
         "fill": "tozeroy",
         "fillcolor": "rgb(79,76,255)",
         "hoverinfo": "skip",
         "line": {
          "color": "rgba(0,0,0,0)"
         },
         "mode": "lines",
         "showlegend": false,
         "type": "scatter",
         "x": [
          -5.25,
          -5.175
         ],
         "y": [
          0.10594487390964795,
          0.11307488485373829
         ]
        },
        {
         "fill": "tozeroy",
         "fillcolor": "rgb(79,76,255)",
         "hoverinfo": "skip",
         "line": {
          "color": "rgba(0,0,0,0)"
         },
         "mode": "lines",
         "showlegend": false,
         "type": "scatter",
         "x": [
          -5.175,
          -5.1
         ],
         "y": [
          0.11307488485373829,
          0.12020489579782864
         ]
        },
        {
         "fill": "tozeroy",
         "fillcolor": "rgb(79,76,255)",
         "hoverinfo": "skip",
         "line": {
          "color": "rgba(0,0,0,0)"
         },
         "mode": "lines",
         "showlegend": false,
         "type": "scatter",
         "x": [
          -5.1,
          -5.0249999999999995
         ],
         "y": [
          0.12020489579782864,
          0.12792959951295638
         ]
        },
        {
         "fill": "tozeroy",
         "fillcolor": "rgb(79,76,255)",
         "hoverinfo": "skip",
         "line": {
          "color": "rgba(0,0,0,0)"
         },
         "mode": "lines",
         "showlegend": false,
         "type": "scatter",
         "x": [
          -5.025000000000001,
          -4.950000000000001
         ],
         "y": [
          0.12792959951295638,
          0.1356543032280841
         ]
        },
        {
         "fill": "tozeroy",
         "fillcolor": "rgb(79,76,255)",
         "hoverinfo": "skip",
         "line": {
          "color": "rgba(0,0,0,0)"
         },
         "mode": "lines",
         "showlegend": false,
         "type": "scatter",
         "x": [
          -4.950000000000001,
          -4.875000000000001
         ],
         "y": [
          0.1356543032280841,
          0.14395807721182735
         ]
        },
        {
         "fill": "tozeroy",
         "fillcolor": "rgb(79,76,255)",
         "hoverinfo": "skip",
         "line": {
          "color": "rgba(0,0,0,0)"
         },
         "mode": "lines",
         "showlegend": false,
         "type": "scatter",
         "x": [
          -4.875000000000001,
          -4.800000000000001
         ],
         "y": [
          0.14395807721182735,
          0.15226185119557056
         ]
        },
        {
         "fill": "tozeroy",
         "fillcolor": "rgb(79,76,255)",
         "hoverinfo": "skip",
         "line": {
          "color": "rgba(0,0,0,0)"
         },
         "mode": "lines",
         "showlegend": false,
         "type": "scatter",
         "x": [
          -4.800000000000001,
          -4.7250000000000005
         ],
         "y": [
          0.15226185119557056,
          0.16111537188224556
         ]
        },
        {
         "fill": "tozeroy",
         "fillcolor": "rgb(79,76,255)",
         "hoverinfo": "skip",
         "line": {
          "color": "rgba(0,0,0,0)"
         },
         "mode": "lines",
         "showlegend": false,
         "type": "scatter",
         "x": [
          -4.7250000000000005,
          -4.65
         ],
         "y": [
          0.16111537188224556,
          0.16996889256892056
         ]
        },
        {
         "fill": "tozeroy",
         "fillcolor": "rgb(79,76,255)",
         "hoverinfo": "skip",
         "line": {
          "color": "rgba(0,0,0,0)"
         },
         "mode": "lines",
         "showlegend": false,
         "type": "scatter",
         "x": [
          -4.65,
          -4.575
         ],
         "y": [
          0.16996889256892056,
          0.1793276888406655
         ]
        },
        {
         "fill": "tozeroy",
         "fillcolor": "rgb(79,76,255)",
         "hoverinfo": "skip",
         "line": {
          "color": "rgba(0,0,0,0)"
         },
         "mode": "lines",
         "showlegend": false,
         "type": "scatter",
         "x": [
          -4.575,
          -4.5
         ],
         "y": [
          0.1793276888406655,
          0.18868648511241043
         ]
        },
        {
         "fill": "tozeroy",
         "fillcolor": "rgb(79,76,255)",
         "hoverinfo": "skip",
         "line": {
          "color": "rgba(0,0,0,0)"
         },
         "mode": "lines",
         "showlegend": false,
         "type": "scatter",
         "x": [
          -4.5,
          -4.425
         ],
         "y": [
          0.18868648511241043,
          0.19848970637834212
         ]
        },
        {
         "fill": "tozeroy",
         "fillcolor": "rgb(79,76,255)",
         "hoverinfo": "skip",
         "line": {
          "color": "rgba(0,0,0,0)"
         },
         "mode": "lines",
         "showlegend": false,
         "type": "scatter",
         "x": [
          -4.425,
          -4.35
         ],
         "y": [
          0.19848970637834212,
          0.20829292764427385
         ]
        },
        {
         "fill": "tozeroy",
         "fillcolor": "rgb(79,76,255)",
         "hoverinfo": "skip",
         "line": {
          "color": "rgba(0,0,0,0)"
         },
         "mode": "lines",
         "showlegend": false,
         "type": "scatter",
         "x": [
          -4.35,
          -4.2749999999999995
         ],
         "y": [
          0.20829292764427385,
          0.21846240024533115
         ]
        },
        {
         "fill": "tozeroy",
         "fillcolor": "rgb(79,76,255)",
         "hoverinfo": "skip",
         "line": {
          "color": "rgba(0,0,0,0)"
         },
         "mode": "lines",
         "showlegend": false,
         "type": "scatter",
         "x": [
          -4.275000000000001,
          -4.200000000000001
         ],
         "y": [
          0.21846240024533115,
          0.22863187284638845
         ]
        },
        {
         "fill": "tozeroy",
         "fillcolor": "rgb(79,76,255)",
         "hoverinfo": "skip",
         "line": {
          "color": "rgba(0,0,0,0)"
         },
         "mode": "lines",
         "showlegend": false,
         "type": "scatter",
         "x": [
          -4.200000000000001,
          -4.125000000000001
         ],
         "y": [
          0.22863187284638845,
          0.23907151866117388
         ]
        },
        {
         "fill": "tozeroy",
         "fillcolor": "rgb(79,76,255)",
         "hoverinfo": "skip",
         "line": {
          "color": "rgba(0,0,0,0)"
         },
         "mode": "lines",
         "showlegend": false,
         "type": "scatter",
         "x": [
          -4.125000000000001,
          -4.050000000000001
         ],
         "y": [
          0.23907151866117388,
          0.2495111644759593
         ]
        },
        {
         "fill": "tozeroy",
         "fillcolor": "rgb(79,76,255)",
         "hoverinfo": "skip",
         "line": {
          "color": "rgba(0,0,0,0)"
         },
         "mode": "lines",
         "showlegend": false,
         "type": "scatter",
         "x": [
          -4.050000000000001,
          -3.9750000000000005
         ],
         "y": [
          0.2495111644759593,
          0.26010685294405506
         ]
        },
        {
         "fill": "tozeroy",
         "fillcolor": "rgb(79,76,255)",
         "hoverinfo": "skip",
         "line": {
          "color": "rgba(0,0,0,0)"
         },
         "mode": "lines",
         "showlegend": false,
         "type": "scatter",
         "x": [
          -3.9750000000000005,
          -3.9000000000000004
         ],
         "y": [
          0.26010685294405506,
          0.27070254141215083
         ]
        },
        {
         "fill": "tozeroy",
         "fillcolor": "rgb(79,76,255)",
         "hoverinfo": "skip",
         "line": {
          "color": "rgba(0,0,0,0)"
         },
         "mode": "lines",
         "showlegend": false,
         "type": "scatter",
         "x": [
          -3.9000000000000004,
          -3.825
         ],
         "y": [
          0.27070254141215083,
          0.281322438493389
         ]
        },
        {
         "fill": "tozeroy",
         "fillcolor": "rgb(79,76,255)",
         "hoverinfo": "skip",
         "line": {
          "color": "rgba(0,0,0,0)"
         },
         "mode": "lines",
         "showlegend": false,
         "type": "scatter",
         "x": [
          -3.825,
          -3.75
         ],
         "y": [
          0.281322438493389,
          0.2919423355746272
         ]
        },
        {
         "fill": "tozeroy",
         "fillcolor": "rgb(79,76,255)",
         "hoverinfo": "skip",
         "line": {
          "color": "rgba(0,0,0,0)"
         },
         "mode": "lines",
         "showlegend": false,
         "type": "scatter",
         "x": [
          -3.75,
          -3.675
         ],
         "y": [
          0.2919423355746272,
          0.30243780386032737
         ]
        },
        {
         "fill": "tozeroy",
         "fillcolor": "rgb(79,76,255)",
         "hoverinfo": "skip",
         "line": {
          "color": "rgba(0,0,0,0)"
         },
         "mode": "lines",
         "showlegend": false,
         "type": "scatter",
         "x": [
          -3.675,
          -3.5999999999999996
         ],
         "y": [
          0.30243780386032737,
          0.3129332721460275
         ]
        },
        {
         "fill": "tozeroy",
         "fillcolor": "rgb(79,76,255)",
         "hoverinfo": "skip",
         "line": {
          "color": "rgba(0,0,0,0)"
         },
         "mode": "lines",
         "showlegend": false,
         "type": "scatter",
         "x": [
          -3.5999999999999996,
          -3.5249999999999995
         ],
         "y": [
          0.3129332721460275,
          0.3231403612505791
         ]
        },
        {
         "fill": "tozeroy",
         "fillcolor": "rgb(79,76,255)",
         "hoverinfo": "skip",
         "line": {
          "color": "rgba(0,0,0,0)"
         },
         "mode": "lines",
         "showlegend": false,
         "type": "scatter",
         "x": [
          -3.5250000000000012,
          -3.450000000000001
         ],
         "y": [
          0.3231403612505791,
          0.3333474503551307
         ]
        },
        {
         "fill": "tozeroy",
         "fillcolor": "rgb(79,76,255)",
         "hoverinfo": "skip",
         "line": {
          "color": "rgba(0,0,0,0)"
         },
         "mode": "lines",
         "showlegend": false,
         "type": "scatter",
         "x": [
          -3.450000000000001,
          -3.375000000000001
         ],
         "y": [
          0.3333474503551307,
          0.3430890003174646
         ]
        },
        {
         "fill": "tozeroy",
         "fillcolor": "rgb(79,76,255)",
         "hoverinfo": "skip",
         "line": {
          "color": "rgba(0,0,0,0)"
         },
         "mode": "lines",
         "showlegend": false,
         "type": "scatter",
         "x": [
          -3.375000000000001,
          -3.3000000000000007
         ],
         "y": [
          0.3430890003174646,
          0.3528305502797985
         ]
        },
        {
         "fill": "tozeroy",
         "fillcolor": "rgb(79,76,255)",
         "hoverinfo": "skip",
         "line": {
          "color": "rgba(0,0,0,0)"
         },
         "mode": "lines",
         "showlegend": false,
         "type": "scatter",
         "x": [
          -3.3000000000000007,
          -3.2250000000000005
         ],
         "y": [
          0.3528305502797985,
          0.36191890895045487
         ]
        },
        {
         "fill": "tozeroy",
         "fillcolor": "rgb(79,76,255)",
         "hoverinfo": "skip",
         "line": {
          "color": "rgba(0,0,0,0)"
         },
         "mode": "lines",
         "showlegend": false,
         "type": "scatter",
         "x": [
          -3.2250000000000005,
          -3.1500000000000004
         ],
         "y": [
          0.36191890895045487,
          0.3710072676211112
         ]
        },
        {
         "fill": "tozeroy",
         "fillcolor": "rgb(79,76,255)",
         "hoverinfo": "skip",
         "line": {
          "color": "rgba(0,0,0,0)"
         },
         "mode": "lines",
         "showlegend": false,
         "type": "scatter",
         "x": [
          -3.1500000000000004,
          -3.075
         ],
         "y": [
          0.3710072676211112,
          0.3792476008867827
         ]
        },
        {
         "fill": "tozeroy",
         "fillcolor": "rgb(79,76,255)",
         "hoverinfo": "skip",
         "line": {
          "color": "rgba(0,0,0,0)"
         },
         "mode": "lines",
         "showlegend": false,
         "type": "scatter",
         "x": [
          -3.075,
          -3
         ],
         "y": [
          0.3792476008867827,
          0.38748793415245425
         ]
        },
        {
         "fill": "tozeroy",
         "fillcolor": "rgb(79,76,255)",
         "hoverinfo": "skip",
         "line": {
          "color": "rgba(0,0,0,0)"
         },
         "mode": "lines",
         "showlegend": false,
         "type": "scatter",
         "x": [
          -3,
          -2.925
         ],
         "y": [
          0.38748793415245425,
          0.3946820829879496
         ]
        },
        {
         "fill": "tozeroy",
         "fillcolor": "rgb(79,76,255)",
         "hoverinfo": "skip",
         "line": {
          "color": "rgba(0,0,0,0)"
         },
         "mode": "lines",
         "showlegend": false,
         "type": "scatter",
         "x": [
          -2.925,
          -2.8499999999999996
         ],
         "y": [
          0.3946820829879496,
          0.40187623182344495
         ]
        },
        {
         "fill": "tozeroy",
         "fillcolor": "rgb(79,76,255)",
         "hoverinfo": "skip",
         "line": {
          "color": "rgba(0,0,0,0)"
         },
         "mode": "lines",
         "showlegend": false,
         "type": "scatter",
         "x": [
          -2.8499999999999996,
          -2.7749999999999995
         ],
         "y": [
          0.40187623182344495,
          0.4078270442817801
         ]
        },
        {
         "fill": "tozeroy",
         "fillcolor": "rgb(79,76,255)",
         "hoverinfo": "skip",
         "line": {
          "color": "rgba(0,0,0,0)"
         },
         "mode": "lines",
         "showlegend": false,
         "type": "scatter",
         "x": [
          -2.7750000000000012,
          -2.700000000000001
         ],
         "y": [
          0.4078270442817801,
          0.4137778567401153
         ]
        },
        {
         "fill": "tozeroy",
         "fillcolor": "rgb(79,76,255)",
         "hoverinfo": "skip",
         "line": {
          "color": "rgba(0,0,0,0)"
         },
         "mode": "lines",
         "showlegend": false,
         "type": "scatter",
         "x": [
          -2.700000000000001,
          -2.625000000000001
         ],
         "y": [
          0.4137778567401153,
          0.4182938988885812
         ]
        },
        {
         "fill": "tozeroy",
         "fillcolor": "rgb(79,76,255)",
         "hoverinfo": "skip",
         "line": {
          "color": "rgba(0,0,0,0)"
         },
         "mode": "lines",
         "showlegend": false,
         "type": "scatter",
         "x": [
          -2.625000000000001,
          -2.5500000000000007
         ],
         "y": [
          0.4182938988885812,
          0.4228099410370471
         ]
        },
        {
         "fill": "tozeroy",
         "fillcolor": "rgb(79,76,255)",
         "hoverinfo": "skip",
         "line": {
          "color": "rgba(0,0,0,0)"
         },
         "mode": "lines",
         "showlegend": false,
         "type": "scatter",
         "x": [
          -2.5500000000000007,
          -2.4750000000000005
         ],
         "y": [
          0.4228099410370471,
          0.4257104668125674
         ]
        },
        {
         "fill": "tozeroy",
         "fillcolor": "rgb(79,76,255)",
         "hoverinfo": "skip",
         "line": {
          "color": "rgba(0,0,0,0)"
         },
         "mode": "lines",
         "showlegend": false,
         "type": "scatter",
         "x": [
          -2.4750000000000005,
          -2.4000000000000004
         ],
         "y": [
          0.4257104668125674,
          0.42861099258808766
         ]
        },
        {
         "fill": "tozeroy",
         "fillcolor": "rgb(79,76,255)",
         "hoverinfo": "skip",
         "line": {
          "color": "rgba(0,0,0,0)"
         },
         "mode": "lines",
         "showlegend": false,
         "type": "scatter",
         "x": [
          -2.4000000000000004,
          -2.325
         ],
         "y": [
          0.42861099258808766,
          0.42973103333796225
         ]
        },
        {
         "fill": "tozeroy",
         "fillcolor": "rgb(79,76,255)",
         "hoverinfo": "skip",
         "line": {
          "color": "rgba(0,0,0,0)"
         },
         "mode": "lines",
         "showlegend": false,
         "type": "scatter",
         "x": [
          -2.325,
          -2.25
         ],
         "y": [
          0.42973103333796225,
          0.43085107408783685
         ]
        },
        {
         "fill": "tozeroy",
         "fillcolor": "rgb(79,76,255)",
         "hoverinfo": "skip",
         "line": {
          "color": "rgba(0,0,0,0)"
         },
         "mode": "lines",
         "showlegend": false,
         "type": "scatter",
         "x": [
          -2.25,
          -2.175
         ],
         "y": [
          0.43085107408783685,
          0.4300464906085071
         ]
        },
        {
         "fill": "tozeroy",
         "fillcolor": "rgb(79,76,255)",
         "hoverinfo": "skip",
         "line": {
          "color": "rgba(0,0,0,0)"
         },
         "mode": "lines",
         "showlegend": false,
         "type": "scatter",
         "x": [
          -2.175,
          -2.0999999999999996
         ],
         "y": [
          0.4300464906085071,
          0.4292419071291773
         ]
        },
        {
         "fill": "tozeroy",
         "fillcolor": "rgb(79,76,255)",
         "hoverinfo": "skip",
         "line": {
          "color": "rgba(0,0,0,0)"
         },
         "mode": "lines",
         "showlegend": false,
         "type": "scatter",
         "x": [
          -2.0999999999999996,
          -2.0249999999999995
         ],
         "y": [
          0.4292419071291773,
          0.4263942381063923
         ]
        },
        {
         "fill": "tozeroy",
         "fillcolor": "rgb(79,76,255)",
         "hoverinfo": "skip",
         "line": {
          "color": "rgba(0,0,0,0)"
         },
         "mode": "lines",
         "showlegend": false,
         "type": "scatter",
         "x": [
          -2.0250000000000012,
          -1.950000000000001
         ],
         "y": [
          0.4263942381063923,
          0.4235465690836073
         ]
        },
        {
         "fill": "tozeroy",
         "fillcolor": "rgb(79,76,255)",
         "hoverinfo": "skip",
         "line": {
          "color": "rgba(0,0,0,0)"
         },
         "mode": "lines",
         "showlegend": false,
         "type": "scatter",
         "x": [
          -1.950000000000001,
          -1.875000000000001
         ],
         "y": [
          0.4235465690836073,
          0.4185675031184462
         ]
        },
        {
         "fill": "tozeroy",
         "fillcolor": "rgb(79,76,255)",
         "hoverinfo": "skip",
         "line": {
          "color": "rgba(0,0,0,0)"
         },
         "mode": "lines",
         "showlegend": false,
         "type": "scatter",
         "x": [
          -1.8750000000000007,
          -1.8000000000000007
         ],
         "y": [
          0.4185675031184462,
          0.4135884371532851
         ]
        },
        {
         "fill": "tozeroy",
         "fillcolor": "rgb(79,76,255)",
         "hoverinfo": "skip",
         "line": {
          "color": "rgba(0,0,0,0)"
         },
         "mode": "lines",
         "showlegend": false,
         "type": "scatter",
         "x": [
          -1.8000000000000007,
          -1.7250000000000008
         ],
         "y": [
          0.4135884371532851,
          0.4064237388411375
         ]
        },
        {
         "fill": "tozeroy",
         "fillcolor": "rgb(79,76,255)",
         "hoverinfo": "skip",
         "line": {
          "color": "rgba(0,0,0,0)"
         },
         "mode": "lines",
         "showlegend": false,
         "type": "scatter",
         "x": [
          -1.7250000000000003,
          -1.6500000000000004
         ],
         "y": [
          0.4064237388411375,
          0.39925904052899
         ]
        },
        {
         "fill": "tozeroy",
         "fillcolor": "rgb(79,76,255)",
         "hoverinfo": "skip",
         "line": {
          "color": "rgba(0,0,0,0)"
         },
         "mode": "lines",
         "showlegend": false,
         "type": "scatter",
         "x": [
          -1.6500000000000004,
          -1.5750000000000004
         ],
         "y": [
          0.39925904052899,
          0.38989176919842183
         ]
        },
        {
         "fill": "tozeroy",
         "fillcolor": "rgb(79,76,255)",
         "hoverinfo": "skip",
         "line": {
          "color": "rgba(0,0,0,0)"
         },
         "mode": "lines",
         "showlegend": false,
         "type": "scatter",
         "x": [
          -1.575,
          -1.5
         ],
         "y": [
          0.38989176919842183,
          0.38052449786785364
         ]
        },
        {
         "fill": "tozeroy",
         "fillcolor": "rgb(79,76,255)",
         "hoverinfo": "skip",
         "line": {
          "color": "rgba(0,0,0,0)"
         },
         "mode": "lines",
         "showlegend": false,
         "type": "scatter",
         "x": [
          -1.5,
          -1.425
         ],
         "y": [
          0.38052449786785364,
          0.3689773747887275
         ]
        },
        {
         "fill": "tozeroy",
         "fillcolor": "rgb(79,76,255)",
         "hoverinfo": "skip",
         "line": {
          "color": "rgba(0,0,0,0)"
         },
         "mode": "lines",
         "showlegend": false,
         "type": "scatter",
         "x": [
          -1.4249999999999996,
          -1.3499999999999996
         ],
         "y": [
          0.3689773747887275,
          0.3574302517096014
         ]
        },
        {
         "fill": "tozeroy",
         "fillcolor": "rgb(79,76,255)",
         "hoverinfo": "skip",
         "line": {
          "color": "rgba(0,0,0,0)"
         },
         "mode": "lines",
         "showlegend": false,
         "type": "scatter",
         "x": [
          -1.3499999999999996,
          -1.2749999999999997
         ],
         "y": [
          0.3574302517096014,
          0.34376705437479393
         ]
        },
        {
         "fill": "tozeroy",
         "fillcolor": "rgb(79,76,255)",
         "hoverinfo": "skip",
         "line": {
          "color": "rgba(0,0,0,0)"
         },
         "mode": "lines",
         "showlegend": false,
         "type": "scatter",
         "x": [
          -1.275000000000001,
          -1.200000000000001
         ],
         "y": [
          0.34376705437479393,
          0.3301038570399865
         ]
        },
        {
         "fill": "tozeroy",
         "fillcolor": "rgb(79,76,255)",
         "hoverinfo": "skip",
         "line": {
          "color": "rgba(0,0,0,0)"
         },
         "mode": "lines",
         "showlegend": false,
         "type": "scatter",
         "x": [
          -1.200000000000001,
          -1.125000000000001
         ],
         "y": [
          0.3301038570399865,
          0.3144297487645933
         ]
        },
        {
         "fill": "tozeroy",
         "fillcolor": "rgb(79,76,255)",
         "hoverinfo": "skip",
         "line": {
          "color": "rgba(0,0,0,0)"
         },
         "mode": "lines",
         "showlegend": false,
         "type": "scatter",
         "x": [
          -1.1250000000000007,
          -1.0500000000000007
         ],
         "y": [
          0.3144297487645933,
          0.29875564048920006
         ]
        },
        {
         "fill": "tozeroy",
         "fillcolor": "rgb(79,76,255)",
         "hoverinfo": "skip",
         "line": {
          "color": "rgba(0,0,0,0)"
         },
         "mode": "lines",
         "showlegend": false,
         "type": "scatter",
         "x": [
          -1.0500000000000007,
          -0.9750000000000008
         ],
         "y": [
          0.29875564048920006,
          0.2812163786003803
         ]
        },
        {
         "fill": "tozeroy",
         "fillcolor": "rgb(79,76,255)",
         "hoverinfo": "skip",
         "line": {
          "color": "rgba(0,0,0,0)"
         },
         "mode": "lines",
         "showlegend": false,
         "type": "scatter",
         "x": [
          -0.9750000000000003,
          -0.9000000000000004
         ],
         "y": [
          0.2812163786003803,
          0.2636771167115605
         ]
        },
        {
         "fill": "tozeroy",
         "fillcolor": "rgb(79,76,255)",
         "hoverinfo": "skip",
         "line": {
          "color": "rgba(0,0,0,0)"
         },
         "mode": "lines",
         "showlegend": false,
         "type": "scatter",
         "x": [
          -0.9000000000000004,
          -0.8250000000000004
         ],
         "y": [
          0.2636771167115605,
          0.2444571207013625
         ]
        },
        {
         "fill": "tozeroy",
         "fillcolor": "rgb(79,76,255)",
         "hoverinfo": "skip",
         "line": {
          "color": "rgba(0,0,0,0)"
         },
         "mode": "lines",
         "showlegend": false,
         "type": "scatter",
         "x": [
          -0.825,
          -0.75
         ],
         "y": [
          0.2444571207013625,
          0.2252371246911645
         ]
        },
        {
         "fill": "tozeroy",
         "fillcolor": "rgb(79,76,255)",
         "hoverinfo": "skip",
         "line": {
          "color": "rgba(0,0,0,0)"
         },
         "mode": "lines",
         "showlegend": false,
         "type": "scatter",
         "x": [
          -0.75,
          -0.675
         ],
         "y": [
          0.2252371246911645,
          0.20455642728241352
         ]
        },
        {
         "fill": "tozeroy",
         "fillcolor": "rgb(79,76,255)",
         "hoverinfo": "skip",
         "line": {
          "color": "rgba(0,0,0,0)"
         },
         "mode": "lines",
         "showlegend": false,
         "type": "scatter",
         "x": [
          -0.6750000000000014,
          -0.6000000000000014
         ],
         "y": [
          0.20455642728241352,
          0.18387572987366257
         ]
        },
        {
         "fill": "tozeroy",
         "fillcolor": "rgb(79,76,255)",
         "hoverinfo": "skip",
         "line": {
          "color": "rgba(0,0,0,0)"
         },
         "mode": "lines",
         "showlegend": false,
         "type": "scatter",
         "x": [
          -0.6000000000000014,
          -0.5250000000000015
         ],
         "y": [
          0.18387572987366257,
          0.16198587442895798
         ]
        },
        {
         "fill": "tozeroy",
         "fillcolor": "rgb(79,76,255)",
         "hoverinfo": "skip",
         "line": {
          "color": "rgba(0,0,0,0)"
         },
         "mode": "lines",
         "showlegend": false,
         "type": "scatter",
         "x": [
          -0.525000000000001,
          -0.45000000000000107
         ],
         "y": [
          0.16198587442895798,
          0.1400960189842534
         ]
        },
        {
         "fill": "tozeroy",
         "fillcolor": "rgb(79,76,255)",
         "hoverinfo": "skip",
         "line": {
          "color": "rgba(0,0,0,0)"
         },
         "mode": "lines",
         "showlegend": false,
         "type": "scatter",
         "x": [
          -0.45000000000000107,
          -0.37500000000000105
         ],
         "y": [
          0.1400960189842534,
          0.11727500720827128
         ]
        },
        {
         "fill": "tozeroy",
         "fillcolor": "rgb(79,76,255)",
         "hoverinfo": "skip",
         "line": {
          "color": "rgba(0,0,0,0)"
         },
         "mode": "lines",
         "showlegend": false,
         "type": "scatter",
         "x": [
          -0.3750000000000007,
          -0.3000000000000007
         ],
         "y": [
          0.11727500720827128,
          0.09445399543228918
         ]
        },
        {
         "fill": "tozeroy",
         "fillcolor": "rgb(79,76,255)",
         "hoverinfo": "skip",
         "line": {
          "color": "rgba(0,0,0,0)"
         },
         "mode": "lines",
         "showlegend": false,
         "type": "scatter",
         "x": [
          -0.3000000000000007,
          -0.2250000000000007
         ],
         "y": [
          0.09445399543228918,
          0.07100042631146239
         ]
        },
        {
         "fill": "tozeroy",
         "fillcolor": "rgb(79,76,255)",
         "hoverinfo": "skip",
         "line": {
          "color": "rgba(0,0,0,0)"
         },
         "mode": "lines",
         "showlegend": false,
         "type": "scatter",
         "x": [
          -0.22500000000000037,
          -0.15000000000000036
         ],
         "y": [
          0.07100042631146239,
          0.04754685719063561
         ]
        },
        {
         "fill": "tozeroy",
         "fillcolor": "rgb(79,76,255)",
         "hoverinfo": "skip",
         "line": {
          "color": "rgba(0,0,0,0)"
         },
         "mode": "lines",
         "showlegend": false,
         "type": "scatter",
         "x": [
          -0.15000000000000036,
          -0.07500000000000036
         ],
         "y": [
          0.04754685719063561,
          0.023773428596613872
         ]
        },
        {
         "fill": "tozeroy",
         "fillcolor": "rgb(150,255,76)",
         "hoverinfo": "skip",
         "line": {
          "color": "rgba(0,0,0,0)"
         },
         "mode": "lines",
         "showlegend": false,
         "type": "scatter",
         "x": [
          -0.075,
          0
         ],
         "y": [
          0.023773428596613872,
          2.59213393283567e-12
         ]
        },
        {
         "fill": "tozeroy",
         "fillcolor": "rgb(150,255,76)",
         "hoverinfo": "skip",
         "line": {
          "color": "rgba(0,0,0,0)"
         },
         "mode": "lines",
         "showlegend": false,
         "type": "scatter",
         "x": [
          0,
          0.075
         ],
         "y": [
          2.59213393283567e-12,
          0.023773428594455356
         ]
        },
        {
         "fill": "tozeroy",
         "fillcolor": "rgb(252,255,76)",
         "hoverinfo": "skip",
         "line": {
          "color": "rgba(0,0,0,0)"
         },
         "mode": "lines",
         "showlegend": false,
         "type": "scatter",
         "x": [
          0.07499999999999858,
          0.14999999999999858
         ],
         "y": [
          0.023773428594455356,
          0.04754685718631858
         ]
        },
        {
         "fill": "tozeroy",
         "fillcolor": "rgb(252,255,76)",
         "hoverinfo": "skip",
         "line": {
          "color": "rgba(0,0,0,0)"
         },
         "mode": "lines",
         "showlegend": false,
         "type": "scatter",
         "x": [
          0.14999999999999858,
          0.2249999999999986
         ],
         "y": [
          0.04754685718631858,
          0.07100042631146113
         ]
        },
        {
         "fill": "tozeroy",
         "fillcolor": "rgb(252,255,76)",
         "hoverinfo": "skip",
         "line": {
          "color": "rgba(0,0,0,0)"
         },
         "mode": "lines",
         "showlegend": false,
         "type": "scatter",
         "x": [
          0.22499999999999892,
          0.29999999999999893
         ],
         "y": [
          0.07100042631146113,
          0.09445399543660368
         ]
        },
        {
         "fill": "tozeroy",
         "fillcolor": "rgb(252,255,76)",
         "hoverinfo": "skip",
         "line": {
          "color": "rgba(0,0,0,0)"
         },
         "mode": "lines",
         "showlegend": false,
         "type": "scatter",
         "x": [
          0.29999999999999893,
          0.37499999999999895
         ],
         "y": [
          0.09445399543660368,
          0.11727500720827053
         ]
        },
        {
         "fill": "tozeroy",
         "fillcolor": "rgb(252,255,76)",
         "hoverinfo": "skip",
         "line": {
          "color": "rgba(0,0,0,0)"
         },
         "mode": "lines",
         "showlegend": false,
         "type": "scatter",
         "x": [
          0.3749999999999993,
          0.4499999999999993
         ],
         "y": [
          0.11727500720827053,
          0.14009601897993737
         ]
        },
        {
         "fill": "tozeroy",
         "fillcolor": "rgb(252,255,76)",
         "hoverinfo": "skip",
         "line": {
          "color": "rgba(0,0,0,0)"
         },
         "mode": "lines",
         "showlegend": false,
         "type": "scatter",
         "x": [
          0.4499999999999993,
          0.5249999999999992
         ],
         "y": [
          0.14009601897993737,
          0.16198587442895632
         ]
        },
        {
         "fill": "tozeroy",
         "fillcolor": "rgb(252,255,76)",
         "hoverinfo": "skip",
         "line": {
          "color": "rgba(0,0,0,0)"
         },
         "mode": "lines",
         "showlegend": false,
         "type": "scatter",
         "x": [
          0.5249999999999997,
          0.5999999999999996
         ],
         "y": [
          0.16198587442895632,
          0.18387572987797526
         ]
        },
        {
         "fill": "tozeroy",
         "fillcolor": "rgb(252,255,76)",
         "hoverinfo": "skip",
         "line": {
          "color": "rgba(0,0,0,0)"
         },
         "mode": "lines",
         "showlegend": false,
         "type": "scatter",
         "x": [
          0.5999999999999996,
          0.6749999999999996
         ],
         "y": [
          0.18387572987797526,
          0.20455642728241336
         ]
        },
        {
         "fill": "tozeroy",
         "fillcolor": "rgb(252,255,76)",
         "hoverinfo": "skip",
         "line": {
          "color": "rgba(0,0,0,0)"
         },
         "mode": "lines",
         "showlegend": false,
         "type": "scatter",
         "x": [
          0.675,
          0.75
         ],
         "y": [
          0.20455642728241336,
          0.22523712468685142
         ]
        },
        {
         "fill": "tozeroy",
         "fillcolor": "rgb(252,255,76)",
         "hoverinfo": "skip",
         "line": {
          "color": "rgba(0,0,0,0)"
         },
         "mode": "lines",
         "showlegend": false,
         "type": "scatter",
         "x": [
          0.75,
          0.825
         ],
         "y": [
          0.22523712468685142,
          0.24445712070136216
         ]
        },
        {
         "fill": "tozeroy",
         "fillcolor": "rgb(252,255,76)",
         "hoverinfo": "skip",
         "line": {
          "color": "rgba(0,0,0,0)"
         },
         "mode": "lines",
         "showlegend": false,
         "type": "scatter",
         "x": [
          0.8249999999999986,
          0.8999999999999986
         ],
         "y": [
          0.24445712070136216,
          0.2636771167158729
         ]
        },
        {
         "fill": "tozeroy",
         "fillcolor": "rgb(252,255,76)",
         "hoverinfo": "skip",
         "line": {
          "color": "rgba(0,0,0,0)"
         },
         "mode": "lines",
         "showlegend": false,
         "type": "scatter",
         "x": [
          0.8999999999999986,
          0.9749999999999985
         ],
         "y": [
          0.2636771167158729,
          0.2812163786003802
         ]
        },
        {
         "fill": "tozeroy",
         "fillcolor": "rgb(252,255,76)",
         "hoverinfo": "skip",
         "line": {
          "color": "rgba(0,0,0,0)"
         },
         "mode": "lines",
         "showlegend": false,
         "type": "scatter",
         "x": [
          0.9750000000000008,
          1.0500000000000007
         ],
         "y": [
          0.2812163786003802,
          0.2987556404848875
         ]
        },
        {
         "fill": "tozeroy",
         "fillcolor": "rgb(252,255,76)",
         "hoverinfo": "skip",
         "line": {
          "color": "rgba(0,0,0,0)"
         },
         "mode": "lines",
         "showlegend": false,
         "type": "scatter",
         "x": [
          1.0500000000000007,
          1.1250000000000007
         ],
         "y": [
          0.2987556404848875,
          0.3144297487645945
         ]
        },
        {
         "fill": "tozeroy",
         "fillcolor": "rgb(252,255,76)",
         "hoverinfo": "skip",
         "line": {
          "color": "rgba(0,0,0,0)"
         },
         "mode": "lines",
         "showlegend": false,
         "type": "scatter",
         "x": [
          1.1249999999999993,
          1.1999999999999993
         ],
         "y": [
          0.3144297487645945,
          0.3301038570443015
         ]
        },
        {
         "fill": "tozeroy",
         "fillcolor": "rgb(252,255,76)",
         "hoverinfo": "skip",
         "line": {
          "color": "rgba(0,0,0,0)"
         },
         "mode": "lines",
         "showlegend": false,
         "type": "scatter",
         "x": [
          1.1999999999999993,
          1.2749999999999992
         ],
         "y": [
          0.3301038570443015,
          0.3437670543747934
         ]
        },
        {
         "fill": "tozeroy",
         "fillcolor": "rgb(252,255,76)",
         "hoverinfo": "skip",
         "line": {
          "color": "rgba(0,0,0,0)"
         },
         "mode": "lines",
         "showlegend": false,
         "type": "scatter",
         "x": [
          1.274999999999998,
          1.3499999999999979
         ],
         "y": [
          0.3437670543747934,
          0.35743025170528525
         ]
        },
        {
         "fill": "tozeroy",
         "fillcolor": "rgb(252,255,76)",
         "hoverinfo": "skip",
         "line": {
          "color": "rgba(0,0,0,0)"
         },
         "mode": "lines",
         "showlegend": false,
         "type": "scatter",
         "x": [
          1.3499999999999979,
          1.4249999999999978
         ],
         "y": [
          0.35743025170528525,
          0.3689773747887276
         ]
        },
        {
         "fill": "tozeroy",
         "fillcolor": "rgb(252,255,76)",
         "hoverinfo": "skip",
         "line": {
          "color": "rgba(0,0,0,0)"
         },
         "mode": "lines",
         "showlegend": false,
         "type": "scatter",
         "x": [
          1.425,
          1.5
         ],
         "y": [
          0.3689773747887276,
          0.3805244978721699
         ]
        },
        {
         "fill": "tozeroy",
         "fillcolor": "rgb(252,255,76)",
         "hoverinfo": "skip",
         "line": {
          "color": "rgba(0,0,0,0)"
         },
         "mode": "lines",
         "showlegend": false,
         "type": "scatter",
         "x": [
          1.5,
          1.575
         ],
         "y": [
          0.3805244978721699,
          0.3898917691984213
         ]
        },
        {
         "fill": "tozeroy",
         "fillcolor": "rgb(252,255,76)",
         "hoverinfo": "skip",
         "line": {
          "color": "rgba(0,0,0,0)"
         },
         "mode": "lines",
         "showlegend": false,
         "type": "scatter",
         "x": [
          1.5749999999999986,
          1.6499999999999986
         ],
         "y": [
          0.3898917691984213,
          0.3992590405246726
         ]
        },
        {
         "fill": "tozeroy",
         "fillcolor": "rgb(252,255,76)",
         "hoverinfo": "skip",
         "line": {
          "color": "rgba(0,0,0,0)"
         },
         "mode": "lines",
         "showlegend": false,
         "type": "scatter",
         "x": [
          1.6499999999999986,
          1.7249999999999985
         ],
         "y": [
          0.3992590405246726,
          0.406423738841137
         ]
        },
        {
         "fill": "tozeroy",
         "fillcolor": "rgb(252,255,76)",
         "hoverinfo": "skip",
         "line": {
          "color": "rgba(0,0,0,0)"
         },
         "mode": "lines",
         "showlegend": false,
         "type": "scatter",
         "x": [
          1.7250000000000008,
          1.8000000000000007
         ],
         "y": [
          0.406423738841137,
          0.41358843715760146
         ]
        },
        {
         "fill": "tozeroy",
         "fillcolor": "rgb(252,255,76)",
         "hoverinfo": "skip",
         "line": {
          "color": "rgba(0,0,0,0)"
         },
         "mode": "lines",
         "showlegend": false,
         "type": "scatter",
         "x": [
          1.8000000000000007,
          1.8750000000000007
         ],
         "y": [
          0.41358843715760146,
          0.4185675031184475
         ]
        },
        {
         "fill": "tozeroy",
         "fillcolor": "rgb(252,255,76)",
         "hoverinfo": "skip",
         "line": {
          "color": "rgba(0,0,0,0)"
         },
         "mode": "lines",
         "showlegend": false,
         "type": "scatter",
         "x": [
          1.8749999999999993,
          1.9499999999999993
         ],
         "y": [
          0.4185675031184475,
          0.42354656907929356
         ]
        },
        {
         "fill": "tozeroy",
         "fillcolor": "rgb(252,255,76)",
         "hoverinfo": "skip",
         "line": {
          "color": "rgba(0,0,0,0)"
         },
         "mode": "lines",
         "showlegend": false,
         "type": "scatter",
         "x": [
          1.9499999999999993,
          2.0249999999999995
         ],
         "y": [
          0.42354656907929356,
          0.426394238106392
         ]
        },
        {
         "fill": "tozeroy",
         "fillcolor": "rgb(252,255,76)",
         "hoverinfo": "skip",
         "line": {
          "color": "rgba(0,0,0,0)"
         },
         "mode": "lines",
         "showlegend": false,
         "type": "scatter",
         "x": [
          2.0249999999999977,
          2.099999999999998
         ],
         "y": [
          0.426394238106392,
          0.42924190713349036
         ]
        },
        {
         "fill": "tozeroy",
         "fillcolor": "rgb(252,255,76)",
         "hoverinfo": "skip",
         "line": {
          "color": "rgba(0,0,0,0)"
         },
         "mode": "lines",
         "showlegend": false,
         "type": "scatter",
         "x": [
          2.099999999999998,
          2.174999999999998
         ],
         "y": [
          0.42924190713349036,
          0.43004649060850764
         ]
        },
        {
         "fill": "tozeroy",
         "fillcolor": "rgb(252,255,76)",
         "hoverinfo": "skip",
         "line": {
          "color": "rgba(0,0,0,0)"
         },
         "mode": "lines",
         "showlegend": false,
         "type": "scatter",
         "x": [
          2.175,
          2.25
         ],
         "y": [
          0.43004649060850764,
          0.43085107408352485
         ]
        },
        {
         "fill": "tozeroy",
         "fillcolor": "rgb(252,255,76)",
         "hoverinfo": "skip",
         "line": {
          "color": "rgba(0,0,0,0)"
         },
         "mode": "lines",
         "showlegend": false,
         "type": "scatter",
         "x": [
          2.25,
          2.325
         ],
         "y": [
          0.43085107408352485,
          0.4297310333379628
         ]
        },
        {
         "fill": "tozeroy",
         "fillcolor": "rgb(252,255,76)",
         "hoverinfo": "skip",
         "line": {
          "color": "rgba(0,0,0,0)"
         },
         "mode": "lines",
         "showlegend": false,
         "type": "scatter",
         "x": [
          2.3249999999999984,
          2.3999999999999986
         ],
         "y": [
          0.4297310333379628,
          0.4286109925924008
         ]
        },
        {
         "fill": "tozeroy",
         "fillcolor": "rgb(252,255,76)",
         "hoverinfo": "skip",
         "line": {
          "color": "rgba(0,0,0,0)"
         },
         "mode": "lines",
         "showlegend": false,
         "type": "scatter",
         "x": [
          2.3999999999999986,
          2.4749999999999988
         ],
         "y": [
          0.4286109925924008,
          0.42571046681256686
         ]
        },
        {
         "fill": "tozeroy",
         "fillcolor": "rgb(252,255,76)",
         "hoverinfo": "skip",
         "line": {
          "color": "rgba(0,0,0,0)"
         },
         "mode": "lines",
         "showlegend": false,
         "type": "scatter",
         "x": [
          2.4750000000000005,
          2.5500000000000007
         ],
         "y": [
          0.42571046681256686,
          0.42280994103273295
         ]
        },
        {
         "fill": "tozeroy",
         "fillcolor": "rgb(252,255,76)",
         "hoverinfo": "skip",
         "line": {
          "color": "rgba(0,0,0,0)"
         },
         "mode": "lines",
         "showlegend": false,
         "type": "scatter",
         "x": [
          2.5500000000000007,
          2.625000000000001
         ],
         "y": [
          0.42280994103273295,
          0.41829389888858226
         ]
        },
        {
         "fill": "tozeroy",
         "fillcolor": "rgb(252,255,76)",
         "hoverinfo": "skip",
         "line": {
          "color": "rgba(0,0,0,0)"
         },
         "mode": "lines",
         "showlegend": false,
         "type": "scatter",
         "x": [
          2.624999999999999,
          2.6999999999999993
         ],
         "y": [
          0.41829389888858226,
          0.4137778567444316
         ]
        },
        {
         "fill": "tozeroy",
         "fillcolor": "rgb(252,255,76)",
         "hoverinfo": "skip",
         "line": {
          "color": "rgba(0,0,0,0)"
         },
         "mode": "lines",
         "showlegend": false,
         "type": "scatter",
         "x": [
          2.6999999999999993,
          2.7749999999999995
         ],
         "y": [
          0.4137778567444316,
          0.4078270442817805
         ]
        },
        {
         "fill": "tozeroy",
         "fillcolor": "rgb(252,255,76)",
         "hoverinfo": "skip",
         "line": {
          "color": "rgba(0,0,0,0)"
         },
         "mode": "lines",
         "showlegend": false,
         "type": "scatter",
         "x": [
          2.7749999999999977,
          2.849999999999998
         ],
         "y": [
          0.4078270442817805,
          0.40187623181912946
         ]
        },
        {
         "fill": "tozeroy",
         "fillcolor": "rgb(252,255,76)",
         "hoverinfo": "skip",
         "line": {
          "color": "rgba(0,0,0,0)"
         },
         "mode": "lines",
         "showlegend": false,
         "type": "scatter",
         "x": [
          2.849999999999998,
          2.924999999999998
         ],
         "y": [
          0.40187623181912946,
          0.3946820829879495
         ]
        },
        {
         "fill": "tozeroy",
         "fillcolor": "rgb(252,255,76)",
         "hoverinfo": "skip",
         "line": {
          "color": "rgba(0,0,0,0)"
         },
         "mode": "lines",
         "showlegend": false,
         "type": "scatter",
         "x": [
          2.925,
          3
         ],
         "y": [
          0.3946820829879495,
          0.38748793415676946
         ]
        },
        {
         "fill": "tozeroy",
         "fillcolor": "rgb(252,255,76)",
         "hoverinfo": "skip",
         "line": {
          "color": "rgba(0,0,0,0)"
         },
         "mode": "lines",
         "showlegend": false,
         "type": "scatter",
         "x": [
          3,
          3.075
         ],
         "y": [
          0.38748793415676946,
          0.3792476008867834
         ]
        },
        {
         "fill": "tozeroy",
         "fillcolor": "rgb(252,255,76)",
         "hoverinfo": "skip",
         "line": {
          "color": "rgba(0,0,0,0)"
         },
         "mode": "lines",
         "showlegend": false,
         "type": "scatter",
         "x": [
          3.0749999999999984,
          3.1499999999999986
         ],
         "y": [
          0.3792476008867834,
          0.3710072676167973
         ]
        },
        {
         "fill": "tozeroy",
         "fillcolor": "rgb(252,255,76)",
         "hoverinfo": "skip",
         "line": {
          "color": "rgba(0,0,0,0)"
         },
         "mode": "lines",
         "showlegend": false,
         "type": "scatter",
         "x": [
          3.1499999999999986,
          3.2249999999999988
         ],
         "y": [
          0.3710072676167973,
          0.36191890895045475
         ]
        },
        {
         "fill": "tozeroy",
         "fillcolor": "rgb(252,255,76)",
         "hoverinfo": "skip",
         "line": {
          "color": "rgba(0,0,0,0)"
         },
         "mode": "lines",
         "showlegend": false,
         "type": "scatter",
         "x": [
          3.2250000000000005,
          3.3000000000000007
         ],
         "y": [
          0.36191890895045475,
          0.3528305502841122
         ]
        },
        {
         "fill": "tozeroy",
         "fillcolor": "rgb(252,255,76)",
         "hoverinfo": "skip",
         "line": {
          "color": "rgba(0,0,0,0)"
         },
         "mode": "lines",
         "showlegend": false,
         "type": "scatter",
         "x": [
          3.3000000000000007,
          3.375000000000001
         ],
         "y": [
          0.3528305502841122,
          0.3430890003174647
         ]
        },
        {
         "fill": "tozeroy",
         "fillcolor": "rgb(252,255,76)",
         "hoverinfo": "skip",
         "line": {
          "color": "rgba(0,0,0,0)"
         },
         "mode": "lines",
         "showlegend": false,
         "type": "scatter",
         "x": [
          3.374999999999999,
          3.4499999999999993
         ],
         "y": [
          0.3430890003174647,
          0.33334745035081714
         ]
        },
        {
         "fill": "tozeroy",
         "fillcolor": "rgb(252,255,76)",
         "hoverinfo": "skip",
         "line": {
          "color": "rgba(0,0,0,0)"
         },
         "mode": "lines",
         "showlegend": false,
         "type": "scatter",
         "x": [
          3.4499999999999993,
          3.5249999999999995
         ],
         "y": [
          0.33334745035081714,
          0.3231403612505789
         ]
        },
        {
         "fill": "tozeroy",
         "fillcolor": "rgb(252,255,76)",
         "hoverinfo": "skip",
         "line": {
          "color": "rgba(0,0,0,0)"
         },
         "mode": "lines",
         "showlegend": false,
         "type": "scatter",
         "x": [
          3.5249999999999977,
          3.599999999999998
         ],
         "y": [
          0.3231403612505789,
          0.31293327215034067
         ]
        },
        {
         "fill": "tozeroy",
         "fillcolor": "rgb(252,255,76)",
         "hoverinfo": "skip",
         "line": {
          "color": "rgba(0,0,0,0)"
         },
         "mode": "lines",
         "showlegend": false,
         "type": "scatter",
         "x": [
          3.599999999999998,
          3.674999999999998
         ],
         "y": [
          0.31293327215034067,
          0.3024378038603269
         ]
        },
        {
         "fill": "tozeroy",
         "fillcolor": "rgb(252,255,76)",
         "hoverinfo": "skip",
         "line": {
          "color": "rgba(0,0,0,0)"
         },
         "mode": "lines",
         "showlegend": false,
         "type": "scatter",
         "x": [
          3.675,
          3.75
         ],
         "y": [
          0.3024378038603269,
          0.29194233557031324
         ]
        },
        {
         "fill": "tozeroy",
         "fillcolor": "rgb(252,255,76)",
         "hoverinfo": "skip",
         "line": {
          "color": "rgba(0,0,0,0)"
         },
         "mode": "lines",
         "showlegend": false,
         "type": "scatter",
         "x": [
          3.75,
          3.825
         ],
         "y": [
          0.29194233557031324,
          0.2813224384933897
         ]
        },
        {
         "fill": "tozeroy",
         "fillcolor": "rgb(252,255,76)",
         "hoverinfo": "skip",
         "line": {
          "color": "rgba(0,0,0,0)"
         },
         "mode": "lines",
         "showlegend": false,
         "type": "scatter",
         "x": [
          3.8249999999999984,
          3.8999999999999986
         ],
         "y": [
          0.2813224384933897,
          0.2707025414164662
         ]
        },
        {
         "fill": "tozeroy",
         "fillcolor": "rgb(252,255,76)",
         "hoverinfo": "skip",
         "line": {
          "color": "rgba(0,0,0,0)"
         },
         "mode": "lines",
         "showlegend": false,
         "type": "scatter",
         "x": [
          3.8999999999999986,
          3.9749999999999988
         ],
         "y": [
          0.2707025414164662,
          0.2601068529440552
         ]
        },
        {
         "fill": "tozeroy",
         "fillcolor": "rgb(252,255,76)",
         "hoverinfo": "skip",
         "line": {
          "color": "rgba(0,0,0,0)"
         },
         "mode": "lines",
         "showlegend": false,
         "type": "scatter",
         "x": [
          3.9750000000000005,
          4.050000000000001
         ],
         "y": [
          0.2601068529440552,
          0.2495111644716442
         ]
        },
        {
         "fill": "tozeroy",
         "fillcolor": "rgb(252,255,76)",
         "hoverinfo": "skip",
         "line": {
          "color": "rgba(0,0,0,0)"
         },
         "mode": "lines",
         "showlegend": false,
         "type": "scatter",
         "x": [
          4.050000000000001,
          4.125000000000001
         ],
         "y": [
          0.2495111644716442,
          0.23907151866117424
         ]
        },
        {
         "fill": "tozeroy",
         "fillcolor": "rgb(252,255,76)",
         "hoverinfo": "skip",
         "line": {
          "color": "rgba(0,0,0,0)"
         },
         "mode": "lines",
         "showlegend": false,
         "type": "scatter",
         "x": [
          4.124999999999999,
          4.199999999999999
         ],
         "y": [
          0.23907151866117424,
          0.22863187285070427
         ]
        },
        {
         "fill": "tozeroy",
         "fillcolor": "rgb(252,255,76)",
         "hoverinfo": "skip",
         "line": {
          "color": "rgba(0,0,0,0)"
         },
         "mode": "lines",
         "showlegend": false,
         "type": "scatter",
         "x": [
          4.199999999999999,
          4.2749999999999995
         ],
         "y": [
          0.22863187285070427,
          0.21846240024533148
         ]
        },
        {
         "fill": "tozeroy",
         "fillcolor": "rgb(252,255,76)",
         "hoverinfo": "skip",
         "line": {
          "color": "rgba(0,0,0,0)"
         },
         "mode": "lines",
         "showlegend": false,
         "type": "scatter",
         "x": [
          4.274999999999998,
          4.349999999999998
         ],
         "y": [
          0.21846240024533148,
          0.20829292763995866
         ]
        },
        {
         "fill": "tozeroy",
         "fillcolor": "rgb(252,255,76)",
         "hoverinfo": "skip",
         "line": {
          "color": "rgba(0,0,0,0)"
         },
         "mode": "lines",
         "showlegend": false,
         "type": "scatter",
         "x": [
          4.349999999999998,
          4.424999999999998
         ],
         "y": [
          0.20829292763995866,
          0.19848970637834135
         ]
        },
        {
         "fill": "tozeroy",
         "fillcolor": "rgb(252,255,76)",
         "hoverinfo": "skip",
         "line": {
          "color": "rgba(0,0,0,0)"
         },
         "mode": "lines",
         "showlegend": false,
         "type": "scatter",
         "x": [
          4.425,
          4.5
         ],
         "y": [
          0.19848970637834135,
          0.18868648511672403
         ]
        },
        {
         "fill": "tozeroy",
         "fillcolor": "rgb(252,255,76)",
         "hoverinfo": "skip",
         "line": {
          "color": "rgba(0,0,0,0)"
         },
         "mode": "lines",
         "showlegend": false,
         "type": "scatter",
         "x": [
          4.5,
          4.575
         ],
         "y": [
          0.18868648511672403,
          0.17932768884066466
         ]
        },
        {
         "fill": "tozeroy",
         "fillcolor": "rgb(252,255,76)",
         "hoverinfo": "skip",
         "line": {
          "color": "rgba(0,0,0,0)"
         },
         "mode": "lines",
         "showlegend": false,
         "type": "scatter",
         "x": [
          4.574999999999998,
          4.649999999999999
         ],
         "y": [
          0.17932768884066466,
          0.1699688925646053
         ]
        },
        {
         "fill": "tozeroy",
         "fillcolor": "rgb(252,255,76)",
         "hoverinfo": "skip",
         "line": {
          "color": "rgba(0,0,0,0)"
         },
         "mode": "lines",
         "showlegend": false,
         "type": "scatter",
         "x": [
          4.649999999999999,
          4.724999999999999
         ],
         "y": [
          0.1699688925646053,
          0.16111537188224412
         ]
        },
        {
         "fill": "tozeroy",
         "fillcolor": "rgb(252,255,76)",
         "hoverinfo": "skip",
         "line": {
          "color": "rgba(0,0,0,0)"
         },
         "mode": "lines",
         "showlegend": false,
         "type": "scatter",
         "x": [
          4.7250000000000005,
          4.800000000000001
         ],
         "y": [
          0.16111537188224412,
          0.15226185119988292
         ]
        },
        {
         "fill": "tozeroy",
         "fillcolor": "rgb(252,255,76)",
         "hoverinfo": "skip",
         "line": {
          "color": "rgba(0,0,0,0)"
         },
         "mode": "lines",
         "showlegend": false,
         "type": "scatter",
         "x": [
          4.800000000000001,
          4.875000000000001
         ],
         "y": [
          0.15226185119988292,
          0.14395807721182635
         ]
        },
        {
         "fill": "tozeroy",
         "fillcolor": "rgb(252,255,76)",
         "hoverinfo": "skip",
         "line": {
          "color": "rgba(0,0,0,0)"
         },
         "mode": "lines",
         "showlegend": false,
         "type": "scatter",
         "x": [
          4.874999999999999,
          4.949999999999999
         ],
         "y": [
          0.14395807721182635,
          0.13565430322376976
         ]
        },
        {
         "fill": "tozeroy",
         "fillcolor": "rgb(252,255,76)",
         "hoverinfo": "skip",
         "line": {
          "color": "rgba(0,0,0,0)"
         },
         "mode": "lines",
         "showlegend": false,
         "type": "scatter",
         "x": [
          4.949999999999999,
          5.0249999999999995
         ],
         "y": [
          0.13565430322376976,
          0.12792959951295585
         ]
        },
        {
         "fill": "tozeroy",
         "fillcolor": "rgb(252,255,76)",
         "hoverinfo": "skip",
         "line": {
          "color": "rgba(0,0,0,0)"
         },
         "mode": "lines",
         "showlegend": false,
         "type": "scatter",
         "x": [
          5.024999999999998,
          5.099999999999998
         ],
         "y": [
          0.12792959951295585,
          0.12020489580214194
         ]
        },
        {
         "fill": "tozeroy",
         "fillcolor": "rgb(252,255,76)",
         "hoverinfo": "skip",
         "line": {
          "color": "rgba(0,0,0,0)"
         },
         "mode": "lines",
         "showlegend": false,
         "type": "scatter",
         "x": [
          5.099999999999998,
          5.174999999999998
         ],
         "y": [
          0.12020489580214194,
          0.11307488485373768
         ]
        },
        {
         "fill": "tozeroy",
         "fillcolor": "rgb(252,255,76)",
         "hoverinfo": "skip",
         "line": {
          "color": "rgba(0,0,0,0)"
         },
         "mode": "lines",
         "showlegend": false,
         "type": "scatter",
         "x": [
          5.175,
          5.25
         ],
         "y": [
          0.11307488485373768,
          0.10594487390533341
         ]
        },
        {
         "fill": "tozeroy",
         "fillcolor": "rgb(252,255,76)",
         "hoverinfo": "skip",
         "line": {
          "color": "rgba(0,0,0,0)"
         },
         "mode": "lines",
         "showlegend": false,
         "type": "scatter",
         "x": [
          5.25,
          5.325
         ],
         "y": [
          0.10594487390533341,
          0.09941306639575934
         ]
        },
        {
         "fill": "tozeroy",
         "fillcolor": "rgb(252,255,76)",
         "hoverinfo": "skip",
         "line": {
          "color": "rgba(0,0,0,0)"
         },
         "mode": "lines",
         "showlegend": false,
         "type": "scatter",
         "x": [
          5.324999999999998,
          5.399999999999999
         ],
         "y": [
          0.09941306639575934,
          0.09288125888618527
         ]
        },
        {
         "fill": "tozeroy",
         "fillcolor": "rgb(252,255,76)",
         "hoverinfo": "skip",
         "line": {
          "color": "rgba(0,0,0,0)"
         },
         "mode": "lines",
         "showlegend": false,
         "type": "scatter",
         "x": [
          5.399999999999999,
          5.474999999999999
         ],
         "y": [
          0.09288125888618527,
          0.08694072002586153
         ]
        },
        {
         "fill": "tozeroy",
         "fillcolor": "rgb(252,255,76)",
         "hoverinfo": "skip",
         "line": {
          "color": "rgba(0,0,0,0)"
         },
         "mode": "lines",
         "showlegend": false,
         "type": "scatter",
         "x": [
          5.4750000000000005,
          5.550000000000001
         ],
         "y": [
          0.08694072002586153,
          0.08100018116553778
         ]
        },
        {
         "fill": "tozeroy",
         "fillcolor": "rgb(252,255,76)",
         "hoverinfo": "skip",
         "line": {
          "color": "rgba(0,0,0,0)"
         },
         "mode": "lines",
         "showlegend": false,
         "type": "scatter",
         "x": [
          5.550000000000001,
          5.625000000000001
         ],
         "y": [
          0.08100018116553778,
          0.0756352143202397
         ]
        },
        {
         "fill": "tozeroy",
         "fillcolor": "rgb(252,255,76)",
         "hoverinfo": "skip",
         "line": {
          "color": "rgba(0,0,0,0)"
         },
         "mode": "lines",
         "showlegend": false,
         "type": "scatter",
         "x": [
          5.624999999999999,
          5.699999999999999
         ],
         "y": [
          0.0756352143202397,
          0.07027024747494161
         ]
        },
        {
         "fill": "tozeroy",
         "fillcolor": "rgb(252,255,76)",
         "hoverinfo": "skip",
         "line": {
          "color": "rgba(0,0,0,0)"
         },
         "mode": "lines",
         "showlegend": false,
         "type": "scatter",
         "x": [
          5.699999999999999,
          5.7749999999999995
         ],
         "y": [
          0.07027024747494161,
          0.06545804405355207
         ]
        },
        {
         "fill": "tozeroy",
         "fillcolor": "rgb(252,255,76)",
         "hoverinfo": "skip",
         "line": {
          "color": "rgba(0,0,0,0)"
         },
         "mode": "lines",
         "showlegend": false,
         "type": "scatter",
         "x": [
          5.774999999999998,
          5.849999999999998
         ],
         "y": [
          0.06545804405355207,
          0.06064584063216255
         ]
        },
        {
         "fill": "tozeroy",
         "fillcolor": "rgb(252,255,76)",
         "hoverinfo": "skip",
         "line": {
          "color": "rgba(0,0,0,0)"
         },
         "mode": "lines",
         "showlegend": false,
         "type": "scatter",
         "x": [
          5.849999999999998,
          5.924999999999998
         ],
         "y": [
          0.06064584063216255,
          0.05635805335377745
         ]
        },
        {
         "fill": "tozeroy",
         "fillcolor": "rgb(252,255,76)",
         "hoverinfo": "skip",
         "line": {
          "color": "rgba(0,0,0,0)"
         },
         "mode": "lines",
         "showlegend": false,
         "type": "scatter",
         "x": [
          5.925,
          6
         ],
         "y": [
          0.05635805335377745,
          0.05207026607539235
         ]
        },
        {
         "fill": "tozeroy",
         "fillcolor": "rgb(252,255,76)",
         "hoverinfo": "skip",
         "line": {
          "color": "rgba(0,0,0,0)"
         },
         "mode": "lines",
         "showlegend": false,
         "type": "scatter",
         "x": [
          6,
          6.075
         ],
         "y": [
          0.05207026607539235,
          0.04827447245384169
         ]
        },
        {
         "fill": "tozeroy",
         "fillcolor": "rgb(252,255,76)",
         "hoverinfo": "skip",
         "line": {
          "color": "rgba(0,0,0,0)"
         },
         "mode": "lines",
         "showlegend": false,
         "type": "scatter",
         "x": [
          6.074999999999998,
          6.149999999999999
         ],
         "y": [
          0.04827447245384169,
          0.044478678832291035
         ]
        },
        {
         "fill": "tozeroy",
         "fillcolor": "rgb(252,255,76)",
         "hoverinfo": "skip",
         "line": {
          "color": "rgba(0,0,0,0)"
         },
         "mode": "lines",
         "showlegend": false,
         "type": "scatter",
         "x": [
          6.149999999999999,
          6.224999999999999
         ],
         "y": [
          0.044478678832291035,
          0.04113970975256432
         ]
        },
        {
         "fill": "tozeroy",
         "fillcolor": "rgb(252,255,76)",
         "hoverinfo": "skip",
         "line": {
          "color": "rgba(0,0,0,0)"
         },
         "mode": "lines",
         "showlegend": false,
         "type": "scatter",
         "x": [
          6.2250000000000005,
          6.300000000000001
         ],
         "y": [
          0.04113970975256432,
          0.037800740672837604
         ]
        },
        {
         "fill": "tozeroy",
         "fillcolor": "rgb(252,255,76)",
         "hoverinfo": "skip",
         "line": {
          "color": "rgba(0,0,0,0)"
         },
         "mode": "lines",
         "showlegend": false,
         "type": "scatter",
         "x": [
          6.300000000000001,
          6.375000000000001
         ],
         "y": [
          0.037800740672837604,
          0.03488185833834974
         ]
        },
        {
         "fill": "tozeroy",
         "fillcolor": "rgb(252,255,76)",
         "hoverinfo": "skip",
         "line": {
          "color": "rgba(0,0,0,0)"
         },
         "mode": "lines",
         "showlegend": false,
         "type": "scatter",
         "x": [
          6.374999999999999,
          6.449999999999999
         ],
         "y": [
          0.03488185833834974,
          0.03196297600386187
         ]
        },
        {
         "fill": "tozeroy",
         "fillcolor": "rgb(252,255,76)",
         "hoverinfo": "skip",
         "line": {
          "color": "rgba(0,0,0,0)"
         },
         "mode": "lines",
         "showlegend": false,
         "type": "scatter",
         "x": [
          6.449999999999999,
          6.5249999999999995
         ],
         "y": [
          0.03196297600386187,
          0.02942689211031857
         ]
        },
        {
         "fill": "tozeroy",
         "fillcolor": "rgb(252,255,76)",
         "hoverinfo": "skip",
         "line": {
          "color": "rgba(0,0,0,0)"
         },
         "mode": "lines",
         "showlegend": false,
         "type": "scatter",
         "x": [
          6.524999999999998,
          6.599999999999998
         ],
         "y": [
          0.02942689211031857,
          0.02689080821677527
         ]
        },
        {
         "fill": "tozeroy",
         "fillcolor": "rgb(252,255,76)",
         "hoverinfo": "skip",
         "line": {
          "color": "rgba(0,0,0,0)"
         },
         "mode": "lines",
         "showlegend": false,
         "type": "scatter",
         "x": [
          6.599999999999998,
          6.674999999999998
         ],
         "y": [
          0.02689080821677527,
          0.02470054068525037
         ]
        },
        {
         "fill": "tozeroy",
         "fillcolor": "rgb(252,255,76)",
         "hoverinfo": "skip",
         "line": {
          "color": "rgba(0,0,0,0)"
         },
         "mode": "lines",
         "showlegend": false,
         "type": "scatter",
         "x": [
          6.675,
          6.75
         ],
         "y": [
          0.02470054068525037,
          0.02251027315372547
         ]
        },
        {
         "fill": "tozeroy",
         "fillcolor": "rgb(252,255,76)",
         "hoverinfo": "skip",
         "line": {
          "color": "rgba(0,0,0,0)"
         },
         "mode": "lines",
         "showlegend": false,
         "type": "scatter",
         "x": [
          6.75,
          6.825
         ],
         "y": [
          0.02251027315372547,
          0.020629844740420695
         ]
        },
        {
         "fill": "tozeroy",
         "fillcolor": "rgb(252,255,76)",
         "hoverinfo": "skip",
         "line": {
          "color": "rgba(0,0,0,0)"
         },
         "mode": "lines",
         "showlegend": false,
         "type": "scatter",
         "x": [
          6.824999999999998,
          6.899999999999999
         ],
         "y": [
          0.020629844740420695,
          0.01874941632711592
         ]
        },
        {
         "fill": "tozeroy",
         "fillcolor": "rgb(252,255,76)",
         "hoverinfo": "skip",
         "line": {
          "color": "rgba(0,0,0,0)"
         },
         "mode": "lines",
         "showlegend": false,
         "type": "scatter",
         "x": [
          6.899999999999999,
          6.974999999999999
         ],
         "y": [
          0.01874941632711592,
          0.0171444037503366
         ]
        },
        {
         "fill": "tozeroy",
         "fillcolor": "rgb(252,255,76)",
         "hoverinfo": "skip",
         "line": {
          "color": "rgba(0,0,0,0)"
         },
         "mode": "lines",
         "showlegend": false,
         "type": "scatter",
         "x": [
          6.9750000000000005,
          7.050000000000001
         ],
         "y": [
          0.0171444037503366,
          0.015539391173557284
         ]
        },
        {
         "fill": "tozeroy",
         "fillcolor": "rgb(252,255,76)",
         "hoverinfo": "skip",
         "line": {
          "color": "rgba(0,0,0,0)"
         },
         "mode": "lines",
         "showlegend": false,
         "type": "scatter",
         "x": [
          7.050000000000001,
          7.125000000000001
         ],
         "y": [
          0.015539391173557284,
          0.014177335590243385
         ]
        },
        {
         "fill": "tozeroy",
         "fillcolor": "rgb(252,255,76)",
         "hoverinfo": "skip",
         "line": {
          "color": "rgba(0,0,0,0)"
         },
         "mode": "lines",
         "showlegend": false,
         "type": "scatter",
         "x": [
          7.124999999999999,
          7.199999999999999
         ],
         "y": [
          0.014177335590243385,
          0.012815280006929487
         ]
        },
        {
         "fill": "tozeroy",
         "fillcolor": "rgb(252,255,76)",
         "hoverinfo": "skip",
         "line": {
          "color": "rgba(0,0,0,0)"
         },
         "mode": "lines",
         "showlegend": false,
         "type": "scatter",
         "x": [
          7.199999999999999,
          7.2749999999999995
         ],
         "y": [
          0.012815280006929487,
          0.011665973421700917
         ]
        },
        {
         "fill": "tozeroy",
         "fillcolor": "rgb(252,255,76)",
         "hoverinfo": "skip",
         "line": {
          "color": "rgba(0,0,0,0)"
         },
         "mode": "lines",
         "showlegend": false,
         "type": "scatter",
         "x": [
          7.274999999999998,
          7.349999999999998
         ],
         "y": [
          0.011665973421700917,
          0.010516666836472347
         ]
        },
        {
         "fill": "tozeroy",
         "fillcolor": "rgb(252,255,76)",
         "hoverinfo": "skip",
         "line": {
          "color": "rgba(0,0,0,0)"
         },
         "mode": "lines",
         "showlegend": false,
         "type": "scatter",
         "x": [
          7.349999999999998,
          7.424999999999998
         ],
         "y": [
          0.010516666836472347,
          0.009552329246651968
         ]
        },
        {
         "fill": "tozeroy",
         "fillcolor": "rgb(252,255,76)",
         "hoverinfo": "skip",
         "line": {
          "color": "rgba(0,0,0,0)"
         },
         "mode": "lines",
         "showlegend": false,
         "type": "scatter",
         "x": [
          7.425,
          7.5
         ],
         "y": [
          0.009552329246651968,
          0.00858799165683159
         ]
        },
        {
         "fill": "tozeroy",
         "fillcolor": "rgb(252,255,76)",
         "hoverinfo": "skip",
         "line": {
          "color": "rgba(0,0,0,0)"
         },
         "mode": "lines",
         "showlegend": false,
         "type": "scatter",
         "x": [
          7.5,
          7.575
         ],
         "y": [
          0.00858799165683159,
          0.007783355292506415
         ]
        },
        {
         "fill": "tozeroy",
         "fillcolor": "rgb(252,255,76)",
         "hoverinfo": "skip",
         "line": {
          "color": "rgba(0,0,0,0)"
         },
         "mode": "lines",
         "showlegend": false,
         "type": "scatter",
         "x": [
          7.574999999999998,
          7.649999999999999
         ],
         "y": [
          0.007783355292506415,
          0.006978718928181241
         ]
        },
        {
         "fill": "tozeroy",
         "fillcolor": "rgb(252,255,76)",
         "hoverinfo": "skip",
         "line": {
          "color": "rgba(0,0,0,0)"
         },
         "mode": "lines",
         "showlegend": false,
         "type": "scatter",
         "x": [
          7.649999999999999,
          7.724999999999999
         ],
         "y": [
          0.006978718928181241,
          0.006311035189065313
         ]
        },
        {
         "fill": "tozeroy",
         "fillcolor": "rgb(252,255,76)",
         "hoverinfo": "skip",
         "line": {
          "color": "rgba(0,0,0,0)"
         },
         "mode": "lines",
         "showlegend": false,
         "type": "scatter",
         "x": [
          7.7250000000000005,
          7.800000000000001
         ],
         "y": [
          0.006311035189065313,
          0.005643351449949386
         ]
        },
        {
         "fill": "tozeroy",
         "fillcolor": "rgb(252,255,76)",
         "hoverinfo": "skip",
         "line": {
          "color": "rgba(0,0,0,0)"
         },
         "mode": "lines",
         "showlegend": false,
         "type": "scatter",
         "x": [
          7.800000000000001,
          7.875000000000001
         ],
         "y": [
          0.005643351449949386,
          0.005092335644933903
         ]
        },
        {
         "fill": "tozeroy",
         "fillcolor": "rgb(252,255,76)",
         "hoverinfo": "skip",
         "line": {
          "color": "rgba(0,0,0,0)"
         },
         "mode": "lines",
         "showlegend": false,
         "type": "scatter",
         "x": [
          7.874999999999999,
          7.949999999999999
         ],
         "y": [
          0.005092335644933903,
          0.004541319839918419
         ]
        },
        {
         "fill": "tozeroy",
         "fillcolor": "rgb(252,255,76)",
         "hoverinfo": "skip",
         "line": {
          "color": "rgba(0,0,0,0)"
         },
         "mode": "lines",
         "showlegend": false,
         "type": "scatter",
         "x": [
          7.949999999999999,
          8.024999999999999
         ],
         "y": [
          0.004541319839918419,
          0.004089048304763225
         ]
        },
        {
         "fill": "tozeroy",
         "fillcolor": "rgb(252,255,76)",
         "hoverinfo": "skip",
         "line": {
          "color": "rgba(0,0,0,0)"
         },
         "mode": "lines",
         "showlegend": false,
         "type": "scatter",
         "x": [
          8.024999999999999,
          8.099999999999998
         ],
         "y": [
          0.004089048304763225,
          0.0036367767696080305
         ]
        },
        {
         "fill": "tozeroy",
         "fillcolor": "rgb(252,255,76)",
         "hoverinfo": "skip",
         "line": {
          "color": "rgba(0,0,0,0)"
         },
         "mode": "lines",
         "showlegend": false,
         "type": "scatter",
         "x": [
          8.099999999999998,
          8.174999999999997
         ],
         "y": [
          0.0036367767696080305,
          0.0032675485000746357
         ]
        },
        {
         "fill": "tozeroy",
         "fillcolor": "rgb(252,255,76)",
         "hoverinfo": "skip",
         "line": {
          "color": "rgba(0,0,0,0)"
         },
         "mode": "lines",
         "showlegend": false,
         "type": "scatter",
         "x": [
          8.175,
          8.25
         ],
         "y": [
          0.0032675485000746357,
          0.0028983202305412413
         ]
        },
        {
         "fill": "tozeroy",
         "fillcolor": "rgb(252,255,76)",
         "hoverinfo": "skip",
         "line": {
          "color": "rgba(0,0,0,0)"
         },
         "mode": "lines",
         "showlegend": false,
         "type": "scatter",
         "x": [
          8.25,
          8.325
         ],
         "y": [
          0.0028983202305412413,
          0.0025984950257224686
         ]
        },
        {
         "fill": "tozeroy",
         "fillcolor": "rgb(252,255,76)",
         "hoverinfo": "skip",
         "line": {
          "color": "rgba(0,0,0,0)"
         },
         "mode": "lines",
         "showlegend": false,
         "type": "scatter",
         "x": [
          8.325,
          8.399999999999999
         ],
         "y": [
          0.0025984950257224686,
          0.0022986698209036954
         ]
        },
        {
         "fill": "tozeroy",
         "fillcolor": "rgb(252,255,76)",
         "hoverinfo": "skip",
         "line": {
          "color": "rgba(0,0,0,0)"
         },
         "mode": "lines",
         "showlegend": false,
         "type": "scatter",
         "x": [
          8.399999999999999,
          8.474999999999998
         ],
         "y": [
          0.0022986698209036954,
          0.0020564916839518545
         ]
        },
        {
         "fill": "tozeroy",
         "fillcolor": "rgb(252,255,76)",
         "hoverinfo": "skip",
         "line": {
          "color": "rgba(0,0,0,0)"
         },
         "mode": "lines",
         "showlegend": false,
         "type": "scatter",
         "x": [
          8.475000000000001,
          8.55
         ],
         "y": [
          0.0020564916839518545,
          0.0018143135470000133
         ]
        },
        {
         "fill": "tozeroy",
         "fillcolor": "rgb(252,255,76)",
         "hoverinfo": "skip",
         "line": {
          "color": "rgba(0,0,0,0)"
         },
         "mode": "lines",
         "showlegend": false,
         "type": "scatter",
         "x": [
          8.55,
          8.625
         ],
         "y": [
          0.0018143135470000133,
          0.0016197281215224557
         ]
        },
        {
         "fill": "tozeroy",
         "fillcolor": "rgb(252,255,76)",
         "hoverinfo": "skip",
         "line": {
          "color": "rgba(0,0,0,0)"
         },
         "mode": "lines",
         "showlegend": false,
         "type": "scatter",
         "x": [
          8.625,
          8.7
         ],
         "y": [
          0.0016197281215224557,
          0.001425142696044898
         ]
        },
        {
         "fill": "tozeroy",
         "fillcolor": "rgb(252,255,76)",
         "hoverinfo": "skip",
         "line": {
          "color": "rgba(0,0,0,0)"
         },
         "mode": "lines",
         "showlegend": false,
         "type": "scatter",
         "x": [
          8.7,
          8.774999999999999
         ],
         "y": [
          0.001425142696044898,
          0.001269614921653056
         ]
        },
        {
         "fill": "tozeroy",
         "fillcolor": "rgb(252,255,76)",
         "hoverinfo": "skip",
         "line": {
          "color": "rgba(0,0,0,0)"
         },
         "mode": "lines",
         "showlegend": false,
         "type": "scatter",
         "x": [
          8.774999999999999,
          8.849999999999998
         ],
         "y": [
          0.001269614921653056,
          0.0011140871472612138
         ]
        },
        {
         "fill": "tozeroy",
         "fillcolor": "rgb(252,255,76)",
         "hoverinfo": "skip",
         "line": {
          "color": "rgba(0,0,0,0)"
         },
         "mode": "lines",
         "showlegend": false,
         "type": "scatter",
         "x": [
          8.849999999999998,
          8.924999999999997
         ],
         "y": [
          0.0011140871472612138,
          0.0009904237414604612
         ]
        },
        {
         "fill": "tozeroy",
         "fillcolor": "rgb(252,255,76)",
         "hoverinfo": "skip",
         "line": {
          "color": "rgba(0,0,0,0)"
         },
         "mode": "lines",
         "showlegend": false,
         "type": "scatter",
         "x": [
          8.925,
          9
         ],
         "y": [
          0.0009904237414604612,
          0.0008667603356597086
         ]
        },
        {
         "fill": "tozeroy",
         "fillcolor": "rgb(252,255,76)",
         "hoverinfo": "skip",
         "line": {
          "color": "rgba(0,0,0,0)"
         },
         "mode": "lines",
         "showlegend": false,
         "type": "scatter",
         "x": [
          9,
          9.075
         ],
         "y": [
          0.0008667603356597086,
          0.0007689416001200248
         ]
        },
        {
         "fill": "tozeroy",
         "fillcolor": "rgb(252,255,76)",
         "hoverinfo": "skip",
         "line": {
          "color": "rgba(0,0,0,0)"
         },
         "mode": "lines",
         "showlegend": false,
         "type": "scatter",
         "x": [
          9.075,
          9.149999999999999
         ],
         "y": [
          0.0007689416001200248,
          0.0006711228645803409
         ]
        },
        {
         "fill": "tozeroy",
         "fillcolor": "rgb(252,255,76)",
         "hoverinfo": "skip",
         "line": {
          "color": "rgba(0,0,0,0)"
         },
         "mode": "lines",
         "showlegend": false,
         "type": "scatter",
         "x": [
          9.149999999999999,
          9.224999999999998
         ],
         "y": [
          0.0006711228645803409,
          0.0005941456507840286
         ]
        },
        {
         "fill": "tozeroy",
         "fillcolor": "rgb(252,255,76)",
         "hoverinfo": "skip",
         "line": {
          "color": "rgba(0,0,0,0)"
         },
         "mode": "lines",
         "showlegend": false,
         "type": "scatter",
         "x": [
          9.225000000000001,
          9.3
         ],
         "y": [
          0.0005941456507840286,
          0.0005171684369877161
         ]
        },
        {
         "fill": "tozeroy",
         "fillcolor": "rgb(252,255,76)",
         "hoverinfo": "skip",
         "line": {
          "color": "rgba(0,0,0,0)"
         },
         "mode": "lines",
         "showlegend": false,
         "type": "scatter",
         "x": [
          9.3,
          9.375
         ],
         "y": [
          0.0005171684369877161,
          0.00045690247377441886
         ]
        },
        {
         "fill": "tozeroy",
         "fillcolor": "rgb(252,255,76)",
         "hoverinfo": "skip",
         "line": {
          "color": "rgba(0,0,0,0)"
         },
         "mode": "lines",
         "showlegend": false,
         "type": "scatter",
         "x": [
          9.375,
          9.45
         ],
         "y": [
          0.00045690247377441886,
          0.0003966365105611216
         ]
        },
        {
         "fill": "tozeroy",
         "fillcolor": "rgb(252,255,76)",
         "hoverinfo": "skip",
         "line": {
          "color": "rgba(0,0,0,0)"
         },
         "mode": "lines",
         "showlegend": false,
         "type": "scatter",
         "x": [
          9.45,
          9.524999999999999
         ],
         "y": [
          0.0003966365105611216,
          0.00034969442615219454
         ]
        },
        {
         "fill": "tozeroy",
         "fillcolor": "rgb(252,255,76)",
         "hoverinfo": "skip",
         "line": {
          "color": "rgba(0,0,0,0)"
         },
         "mode": "lines",
         "showlegend": false,
         "type": "scatter",
         "x": [
          9.524999999999999,
          9.599999999999998
         ],
         "y": [
          0.00034969442615219454,
          0.00030275234174326746
         ]
        },
        {
         "fill": "tozeroy",
         "fillcolor": "rgb(252,255,76)",
         "hoverinfo": "skip",
         "line": {
          "color": "rgba(0,0,0,0)"
         },
         "mode": "lines",
         "showlegend": false,
         "type": "scatter",
         "x": [
          9.599999999999998,
          9.674999999999997
         ],
         "y": [
          0.00030275234174326746,
          0.0002663741002250122
         ]
        },
        {
         "fill": "tozeroy",
         "fillcolor": "rgb(252,255,76)",
         "hoverinfo": "skip",
         "line": {
          "color": "rgba(0,0,0,0)"
         },
         "mode": "lines",
         "showlegend": false,
         "type": "scatter",
         "x": [
          9.675,
          9.75
         ],
         "y": [
          0.0002663741002250122,
          0.00022999585870675694
         ]
        },
        {
         "fill": "tozeroy",
         "fillcolor": "rgb(252,255,76)",
         "hoverinfo": "skip",
         "line": {
          "color": "rgba(0,0,0,0)"
         },
         "mode": "lines",
         "showlegend": false,
         "type": "scatter",
         "x": [
          9.75,
          9.825
         ],
         "y": [
          0.00022999585870675694,
          0.00020194662800935106
         ]
        },
        {
         "fill": "tozeroy",
         "fillcolor": "rgb(252,255,76)",
         "hoverinfo": "skip",
         "line": {
          "color": "rgba(0,0,0,0)"
         },
         "mode": "lines",
         "showlegend": false,
         "type": "scatter",
         "x": [
          9.825,
          9.899999999999999
         ],
         "y": [
          0.00020194662800935106,
          0.00017389739731194515
         ]
        },
        {
         "fill": "tozeroy",
         "fillcolor": "rgb(252,255,76)",
         "hoverinfo": "skip",
         "line": {
          "color": "rgba(0,0,0,0)"
         },
         "mode": "lines",
         "showlegend": false,
         "type": "scatter",
         "x": [
          9.899999999999999,
          9.974999999999998
         ],
         "y": [
          0.00017389739731194515,
          0.00015237915131690384
         ]
        },
        {
         "fill": "tozeroy",
         "fillcolor": "rgb(252,255,76)",
         "hoverinfo": "skip",
         "line": {
          "color": "rgba(0,0,0,0)"
         },
         "mode": "lines",
         "showlegend": false,
         "type": "scatter",
         "x": [
          9.975000000000001,
          10.05
         ],
         "y": [
          0.00015237915131690384,
          0.00013086090532186257
         ]
        },
        {
         "fill": "tozeroy",
         "fillcolor": "rgb(252,255,76)",
         "hoverinfo": "skip",
         "line": {
          "color": "rgba(0,0,0,0)"
         },
         "mode": "lines",
         "showlegend": false,
         "type": "scatter",
         "x": [
          10.05,
          10.125
         ],
         "y": [
          0.00013086090532186257,
          0.00011443583544081502
         ]
        },
        {
         "fill": "tozeroy",
         "fillcolor": "rgb(252,255,76)",
         "hoverinfo": "skip",
         "line": {
          "color": "rgba(0,0,0,0)"
         },
         "mode": "lines",
         "showlegend": false,
         "type": "scatter",
         "x": [
          10.125,
          10.2
         ],
         "y": [
          0.00011443583544081502,
          0.00009801076555976748
         ]
        },
        {
         "fill": "tozeroy",
         "fillcolor": "rgb(252,255,76)",
         "hoverinfo": "skip",
         "line": {
          "color": "rgba(0,0,0,0)"
         },
         "mode": "lines",
         "showlegend": false,
         "type": "scatter",
         "x": [
          10.2,
          10.274999999999999
         ],
         "y": [
          0.00009801076555976748,
          0.00008553594405819211
         ]
        },
        {
         "fill": "tozeroy",
         "fillcolor": "rgb(252,255,76)",
         "hoverinfo": "skip",
         "line": {
          "color": "rgba(0,0,0,0)"
         },
         "mode": "lines",
         "showlegend": false,
         "type": "scatter",
         "x": [
          10.274999999999999,
          10.349999999999998
         ],
         "y": [
          0.00008553594405819211,
          0.00007306112255661673
         ]
        },
        {
         "fill": "tozeroy",
         "fillcolor": "rgb(252,255,76)",
         "hoverinfo": "skip",
         "line": {
          "color": "rgba(0,0,0,0)"
         },
         "mode": "lines",
         "showlegend": false,
         "type": "scatter",
         "x": [
          10.349999999999998,
          10.424999999999997
         ],
         "y": [
          0.00007306112255661673,
          0.00006363382404833794
         ]
        },
        {
         "fill": "tozeroy",
         "fillcolor": "rgb(252,255,76)",
         "hoverinfo": "skip",
         "line": {
          "color": "rgba(0,0,0,0)"
         },
         "mode": "lines",
         "showlegend": false,
         "type": "scatter",
         "x": [
          10.425,
          10.5
         ],
         "y": [
          0.00006363382404833794,
          0.00005420652554005915
         ]
        },
        {
         "fill": "tozeroy",
         "fillcolor": "rgb(252,255,76)",
         "hoverinfo": "skip",
         "line": {
          "color": "rgba(0,0,0,0)"
         },
         "mode": "lines",
         "showlegend": false,
         "type": "scatter",
         "x": [
          10.5,
          10.575
         ],
         "y": [
          0.00005420652554005915,
          0.00004711756305458672
         ]
        },
        {
         "fill": "tozeroy",
         "fillcolor": "rgb(252,255,76)",
         "hoverinfo": "skip",
         "line": {
          "color": "rgba(0,0,0,0)"
         },
         "mode": "lines",
         "showlegend": false,
         "type": "scatter",
         "x": [
          10.575,
          10.649999999999999
         ],
         "y": [
          0.00004711756305458672,
          0.0000400286005691143
         ]
        },
        {
         "fill": "tozeroy",
         "fillcolor": "rgb(252,255,76)",
         "hoverinfo": "skip",
         "line": {
          "color": "rgba(0,0,0,0)"
         },
         "mode": "lines",
         "showlegend": false,
         "type": "scatter",
         "x": [
          10.649999999999999,
          10.724999999999998
         ],
         "y": [
          0.0000400286005691143,
          0.00003472443925933778
         ]
        },
        {
         "fill": "tozeroy",
         "fillcolor": "rgb(252,255,76)",
         "hoverinfo": "skip",
         "line": {
          "color": "rgba(0,0,0,0)"
         },
         "mode": "lines",
         "showlegend": false,
         "type": "scatter",
         "x": [
          10.725000000000001,
          10.8
         ],
         "y": [
          0.00003472443925933778,
          0.000029420277949561265
         ]
        },
        {
         "fill": "tozeroy",
         "fillcolor": "rgb(252,255,76)",
         "hoverinfo": "skip",
         "line": {
          "color": "rgba(0,0,0,0)"
         },
         "mode": "lines",
         "showlegend": false,
         "type": "scatter",
         "x": [
          10.8,
          10.875
         ],
         "y": [
          0.000029420277949561265,
          0.00002547111451237508
         ]
        },
        {
         "fill": "tozeroy",
         "fillcolor": "rgb(252,255,76)",
         "hoverinfo": "skip",
         "line": {
          "color": "rgba(0,0,0,0)"
         },
         "mode": "lines",
         "showlegend": false,
         "type": "scatter",
         "x": [
          10.875,
          10.95
         ],
         "y": [
          0.00002547111451237508,
          0.000021521951075188893
         ]
        },
        {
         "fill": "tozeroy",
         "fillcolor": "rgb(252,255,76)",
         "hoverinfo": "skip",
         "line": {
          "color": "rgba(0,0,0,0)"
         },
         "mode": "lines",
         "showlegend": false,
         "type": "scatter",
         "x": [
          10.95,
          11.024999999999999
         ],
         "y": [
          0.000021521951075188893,
          0.00001859612029411053
         ]
        },
        {
         "fill": "tozeroy",
         "fillcolor": "rgb(252,255,76)",
         "hoverinfo": "skip",
         "line": {
          "color": "rgba(0,0,0,0)"
         },
         "mode": "lines",
         "showlegend": false,
         "type": "scatter",
         "x": [
          11.024999999999999,
          11.099999999999998
         ],
         "y": [
          0.00001859612029411053,
          0.000015670289513032164
         ]
        },
        {
         "fill": "tozeroy",
         "fillcolor": "rgb(252,255,76)",
         "hoverinfo": "skip",
         "line": {
          "color": "rgba(0,0,0,0)"
         },
         "mode": "lines",
         "showlegend": false,
         "type": "scatter",
         "x": [
          11.099999999999998,
          11.174999999999997
         ],
         "y": [
          0.000015670289513032164,
          0.000013513285892827405
         ]
        },
        {
         "fill": "tozeroy",
         "fillcolor": "rgb(252,255,76)",
         "hoverinfo": "skip",
         "line": {
          "color": "rgba(0,0,0,0)"
         },
         "mode": "lines",
         "showlegend": false,
         "type": "scatter",
         "x": [
          11.175,
          11.25
         ],
         "y": [
          0.000013513285892827405,
          0.000011356282272622646
         ]
        },
        {
         "fill": "tozeroy",
         "fillcolor": "rgb(252,255,76)",
         "hoverinfo": "skip",
         "line": {
          "color": "rgba(0,0,0,0)"
         },
         "mode": "lines",
         "showlegend": false,
         "type": "scatter",
         "x": [
          11.25,
          11.325
         ],
         "y": [
          0.000011356282272622646,
          0.000009773878879526776
         ]
        },
        {
         "fill": "tozeroy",
         "fillcolor": "rgb(252,255,76)",
         "hoverinfo": "skip",
         "line": {
          "color": "rgba(0,0,0,0)"
         },
         "mode": "lines",
         "showlegend": false,
         "type": "scatter",
         "x": [
          11.325,
          11.399999999999999
         ],
         "y": [
          0.000009773878879526776,
          0.000008191475486430907
         ]
        },
        {
         "fill": "tozeroy",
         "fillcolor": "rgb(252,255,76)",
         "hoverinfo": "skip",
         "line": {
          "color": "rgba(0,0,0,0)"
         },
         "mode": "lines",
         "showlegend": false,
         "type": "scatter",
         "x": [
          11.399999999999999,
          11.474999999999998
         ],
         "y": [
          0.000008191475486430907,
          0.00000703622660140964
         ]
        },
        {
         "fill": "tozeroy",
         "fillcolor": "rgb(252,255,76)",
         "hoverinfo": "skip",
         "line": {
          "color": "rgba(0,0,0,0)"
         },
         "mode": "lines",
         "showlegend": false,
         "type": "scatter",
         "x": [
          11.475000000000001,
          11.55
         ],
         "y": [
          0.00000703622660140964,
          0.000005880977716388372
         ]
        },
        {
         "fill": "tozeroy",
         "fillcolor": "rgb(252,255,76)",
         "hoverinfo": "skip",
         "line": {
          "color": "rgba(0,0,0,0)"
         },
         "mode": "lines",
         "showlegend": false,
         "type": "scatter",
         "x": [
          11.55,
          11.625
         ],
         "y": [
          0.000005880977716388372,
          0.000005041776070427351
         ]
        },
        {
         "fill": "tozeroy",
         "fillcolor": "rgb(252,255,76)",
         "hoverinfo": "skip",
         "line": {
          "color": "rgba(0,0,0,0)"
         },
         "mode": "lines",
         "showlegend": false,
         "type": "scatter",
         "x": [
          11.625,
          11.7
         ],
         "y": [
          0.000005041776070427351,
          0.00000420257442446633
         ]
        },
        {
         "fill": "tozeroy",
         "fillcolor": "rgb(252,255,76)",
         "hoverinfo": "skip",
         "line": {
          "color": "rgba(0,0,0,0)"
         },
         "mode": "lines",
         "showlegend": false,
         "type": "scatter",
         "x": [
          11.7,
          11.774999999999999
         ],
         "y": [
          0.00000420257442446633,
          0.000003595852477354369
         ]
        },
        {
         "fill": "tozeroy",
         "fillcolor": "rgb(252,255,76)",
         "hoverinfo": "skip",
         "line": {
          "color": "rgba(0,0,0,0)"
         },
         "mode": "lines",
         "showlegend": false,
         "type": "scatter",
         "x": [
          11.774999999999999,
          11.849999999999998
         ],
         "y": [
          0.000003595852477354369,
          0.000002989130530242407
         ]
        },
        {
         "fill": "tozeroy",
         "fillcolor": "rgb(252,255,76)",
         "hoverinfo": "skip",
         "line": {
          "color": "rgba(0,0,0,0)"
         },
         "mode": "lines",
         "showlegend": false,
         "type": "scatter",
         "x": [
          11.849999999999998,
          11.924999999999997
         ],
         "y": [
          0.000002989130530242407,
          0.000002552657483318545
         ]
        },
        {
         "fill": "tozeroy",
         "fillcolor": "rgb(252,255,76)",
         "hoverinfo": "skip",
         "line": {
          "color": "rgba(0,0,0,0)"
         },
         "mode": "lines",
         "showlegend": false,
         "type": "scatter",
         "x": [
          11.925,
          12
         ],
         "y": [
          0.000002552657483318545,
          0.000002116184436394683
         ]
        },
        {
         "fill": "tozeroy",
         "fillcolor": "rgb(252,255,76)",
         "hoverinfo": "skip",
         "line": {
          "color": "rgba(0,0,0,0)"
         },
         "mode": "lines",
         "showlegend": false,
         "type": "scatter",
         "x": [
          12,
          12.075
         ],
         "y": [
          0.000002116184436394683,
          0.0000018036935235053815
         ]
        },
        {
         "fill": "tozeroy",
         "fillcolor": "rgb(252,255,76)",
         "hoverinfo": "skip",
         "line": {
          "color": "rgba(0,0,0,0)"
         },
         "mode": "lines",
         "showlegend": false,
         "type": "scatter",
         "x": [
          12.075,
          12.149999999999999
         ],
         "y": [
          0.0000018036935235053815,
          0.0000014912026106160796
         ]
        },
        {
         "fill": "tozeroy",
         "fillcolor": "rgb(252,255,76)",
         "hoverinfo": "skip",
         "line": {
          "color": "rgba(0,0,0,0)"
         },
         "mode": "lines",
         "showlegend": false,
         "type": "scatter",
         "x": [
          12.149999999999999,
          12.224999999999998
         ],
         "y": [
          0.0000014912026106160796,
          0.0000012685754003803556
         ]
        },
        {
         "fill": "tozeroy",
         "fillcolor": "rgb(252,255,76)",
         "hoverinfo": "skip",
         "line": {
          "color": "rgba(0,0,0,0)"
         },
         "mode": "lines",
         "showlegend": false,
         "type": "scatter",
         "x": [
          12.225000000000001,
          12.3
         ],
         "y": [
          0.0000012685754003803556,
          0.0000010459481901446314
         ]
        },
        {
         "fill": "tozeroy",
         "fillcolor": "rgb(252,255,76)",
         "hoverinfo": "skip",
         "line": {
          "color": "rgba(0,0,0,0)"
         },
         "mode": "lines",
         "showlegend": false,
         "type": "scatter",
         "x": [
          12.3,
          12.375
         ],
         "y": [
          0.0000010459481901446314,
          8.880879138885782e-7
         ]
        },
        {
         "fill": "tozeroy",
         "fillcolor": "rgb(252,255,76)",
         "hoverinfo": "skip",
         "line": {
          "color": "rgba(0,0,0,0)"
         },
         "mode": "lines",
         "showlegend": false,
         "type": "scatter",
         "x": [
          12.375,
          12.45
         ],
         "y": [
          8.880879138885782e-7,
          7.30227637632525e-7
         ]
        },
        {
         "fill": "tozeroy",
         "fillcolor": "rgb(252,255,76)",
         "hoverinfo": "skip",
         "line": {
          "color": "rgba(0,0,0,0)"
         },
         "mode": "lines",
         "showlegend": false,
         "type": "scatter",
         "x": [
          12.45,
          12.524999999999999
         ],
         "y": [
          7.30227637632525e-7,
          6.18844604830034e-7
         ]
        },
        {
         "fill": "tozeroy",
         "fillcolor": "rgb(252,255,76)",
         "hoverinfo": "skip",
         "line": {
          "color": "rgba(0,0,0,0)"
         },
         "mode": "lines",
         "showlegend": false,
         "type": "scatter",
         "x": [
          12.524999999999999,
          12.599999999999998
         ],
         "y": [
          6.18844604830034e-7,
          5.07461572027543e-7
         ]
        },
        {
         "fill": "tozeroy",
         "fillcolor": "rgb(252,255,76)",
         "hoverinfo": "skip",
         "line": {
          "color": "rgba(0,0,0,0)"
         },
         "mode": "lines",
         "showlegend": false,
         "type": "scatter",
         "x": [
          12.599999999999998,
          12.674999999999997
         ],
         "y": [
          5.07461572027543e-7,
          4.2925845707469955e-7
         ]
        },
        {
         "fill": "tozeroy",
         "fillcolor": "rgb(252,255,76)",
         "hoverinfo": "skip",
         "line": {
          "color": "rgba(0,0,0,0)"
         },
         "mode": "lines",
         "showlegend": false,
         "type": "scatter",
         "x": [
          12.675,
          12.75
         ],
         "y": [
          4.2925845707469955e-7,
          3.51055342121856e-7
         ]
        },
        {
         "fill": "tozeroy",
         "fillcolor": "rgb(252,255,76)",
         "hoverinfo": "skip",
         "line": {
          "color": "rgba(0,0,0,0)"
         },
         "mode": "lines",
         "showlegend": false,
         "type": "scatter",
         "x": [
          12.75,
          12.825
         ],
         "y": [
          3.51055342121856e-7,
          2.9639867161213094e-7
         ]
        },
        {
         "fill": "tozeroy",
         "fillcolor": "rgb(252,255,76)",
         "hoverinfo": "skip",
         "line": {
          "color": "rgba(0,0,0,0)"
         },
         "mode": "lines",
         "showlegend": false,
         "type": "scatter",
         "x": [
          12.825,
          12.899999999999999
         ],
         "y": [
          2.9639867161213094e-7,
          2.4174200110240586e-7
         ]
        },
        {
         "fill": "tozeroy",
         "fillcolor": "rgb(252,255,76)",
         "hoverinfo": "skip",
         "line": {
          "color": "rgba(0,0,0,0)"
         },
         "mode": "lines",
         "showlegend": false,
         "type": "scatter",
         "x": [
          12.899999999999999,
          12.974999999999998
         ],
         "y": [
          2.4174200110240586e-7,
          2.03726001359327e-7
         ]
        },
        {
         "fill": "tozeroy",
         "fillcolor": "rgb(252,255,76)",
         "hoverinfo": "skip",
         "line": {
          "color": "rgba(0,0,0,0)"
         },
         "mode": "lines",
         "showlegend": false,
         "type": "scatter",
         "x": [
          12.975000000000001,
          13.05
         ],
         "y": [
          2.03726001359327e-7,
          1.6571000161624815e-7
         ]
        },
        {
         "fill": "tozeroy",
         "fillcolor": "rgb(252,255,76)",
         "hoverinfo": "skip",
         "line": {
          "color": "rgba(0,0,0,0)"
         },
         "mode": "lines",
         "showlegend": false,
         "type": "scatter",
         "x": [
          13.05,
          13.125
         ],
         "y": [
          1.6571000161624815e-7,
          1.3941319735967325e-7
         ]
        },
        {
         "fill": "tozeroy",
         "fillcolor": "rgb(252,255,76)",
         "hoverinfo": "skip",
         "line": {
          "color": "rgba(0,0,0,0)"
         },
         "mode": "lines",
         "showlegend": false,
         "type": "scatter",
         "x": [
          13.125,
          13.2
         ],
         "y": [
          1.3941319735967325e-7,
          1.1311639310309834e-7
         ]
        },
        {
         "fill": "tozeroy",
         "fillcolor": "rgb(252,255,76)",
         "hoverinfo": "skip",
         "line": {
          "color": "rgba(0,0,0,0)"
         },
         "mode": "lines",
         "showlegend": false,
         "type": "scatter",
         "x": [
          13.2,
          13.274999999999999
         ],
         "y": [
          1.1311639310309834e-7,
          9.49870233964497e-8
         ]
        },
        {
         "fill": "tozeroy",
         "fillcolor": "rgb(252,255,76)",
         "hoverinfo": "skip",
         "line": {
          "color": "rgba(0,0,0,0)"
         },
         "mode": "lines",
         "showlegend": false,
         "type": "scatter",
         "x": [
          13.274999999999999,
          13.349999999999998
         ],
         "y": [
          9.49870233964497e-8,
          7.685765368980106e-8
         ]
        },
        {
         "fill": "tozeroy",
         "fillcolor": "rgb(252,255,76)",
         "hoverinfo": "skip",
         "line": {
          "color": "rgba(0,0,0,0)"
         },
         "mode": "lines",
         "showlegend": false,
         "type": "scatter",
         "x": [
          13.349999999999998,
          13.424999999999997
         ],
         "y": [
          7.685765368980106e-8,
          6.44415464606065e-8
         ]
        },
        {
         "fill": "tozeroy",
         "fillcolor": "rgb(252,255,76)",
         "hoverinfo": "skip",
         "line": {
          "color": "rgba(0,0,0,0)"
         },
         "mode": "lines",
         "showlegend": false,
         "type": "scatter",
         "x": [
          13.425,
          13.5
         ],
         "y": [
          6.44415464606065e-8,
          5.202543923141191e-8
         ]
        },
        {
         "fill": "tozeroy",
         "fillcolor": "rgb(252,255,76)",
         "hoverinfo": "skip",
         "line": {
          "color": "rgba(0,0,0,0)"
         },
         "mode": "lines",
         "showlegend": false,
         "type": "scatter",
         "x": [
          13.5,
          13.575
         ],
         "y": [
          5.202543923141191e-8,
          4.35200088563788e-8
         ]
        },
        {
         "fill": "tozeroy",
         "fillcolor": "rgb(252,255,76)",
         "hoverinfo": "skip",
         "line": {
          "color": "rgba(0,0,0,0)"
         },
         "mode": "lines",
         "showlegend": false,
         "type": "scatter",
         "x": [
          13.575,
          13.649999999999999
         ],
         "y": [
          4.35200088563788e-8,
          3.50145784813457e-8
         ]
        },
        {
         "fill": "tozeroy",
         "fillcolor": "rgb(252,255,76)",
         "hoverinfo": "skip",
         "line": {
          "color": "rgba(0,0,0,0)"
         },
         "mode": "lines",
         "showlegend": false,
         "type": "scatter",
         "x": [
          13.649999999999999,
          13.724999999999998
         ],
         "y": [
          3.50145784813457e-8,
          2.9244007044314712e-8
         ]
        },
        {
         "fill": "tozeroy",
         "fillcolor": "rgb(252,255,76)",
         "hoverinfo": "skip",
         "line": {
          "color": "rgba(0,0,0,0)"
         },
         "mode": "lines",
         "showlegend": false,
         "type": "scatter",
         "x": [
          13.724999999999998,
          13.799999999999997
         ],
         "y": [
          2.9244007044314712e-8,
          2.347343560728372e-8
         ]
        },
        {
         "fill": "tozeroy",
         "fillcolor": "rgb(252,255,76)",
         "hoverinfo": "skip",
         "line": {
          "color": "rgba(0,0,0,0)"
         },
         "mode": "lines",
         "showlegend": false,
         "type": "scatter",
         "x": [
          13.799999999999997,
          13.874999999999996
         ],
         "y": [
          2.347343560728372e-8,
          1.9561921037189284e-8
         ]
        },
        {
         "fill": "tozeroy",
         "fillcolor": "rgb(252,255,76)",
         "hoverinfo": "skip",
         "line": {
          "color": "rgba(0,0,0,0)"
         },
         "mode": "lines",
         "showlegend": false,
         "type": "scatter",
         "x": [
          13.875,
          13.95
         ],
         "y": [
          1.9561921037189284e-8,
          1.5650406467094848e-8
         ]
        },
        {
         "fill": "tozeroy",
         "fillcolor": "rgb(252,255,76)",
         "hoverinfo": "skip",
         "line": {
          "color": "rgba(0,0,0,0)"
         },
         "mode": "lines",
         "showlegend": false,
         "type": "scatter",
         "x": [
          13.95,
          14.024999999999999
         ],
         "y": [
          1.5650406467094848e-8,
          1.2962538668605207e-8
         ]
        },
        {
         "fill": "tozeroy",
         "fillcolor": "rgb(252,255,76)",
         "hoverinfo": "skip",
         "line": {
          "color": "rgba(0,0,0,0)"
         },
         "mode": "lines",
         "showlegend": false,
         "type": "scatter",
         "x": [
          14.024999999999999,
          14.099999999999998
         ],
         "y": [
          1.2962538668605207e-8,
          1.0274670870115566e-8
         ]
        },
        {
         "fill": "tozeroy",
         "fillcolor": "rgb(252,255,76)",
         "hoverinfo": "skip",
         "line": {
          "color": "rgba(0,0,0,0)"
         },
         "mode": "lines",
         "showlegend": false,
         "type": "scatter",
         "x": [
          14.099999999999998,
          14.174999999999997
         ],
         "y": [
          1.0274670870115566e-8,
          8.51633599679389e-9
         ]
        },
        {
         "fill": "tozeroy",
         "fillcolor": "rgb(247,255,76)",
         "hoverinfo": "skip",
         "line": {
          "color": "rgba(0,0,0,0)"
         },
         "mode": "lines",
         "showlegend": false,
         "type": "scatter",
         "x": [
          14.175,
          14.25
         ],
         "y": [
          8.51633599679389e-9,
          6.758001123472216e-9
         ]
        },
        {
         "fill": "tozeroy",
         "fillcolor": "rgb(247,255,76)",
         "hoverinfo": "skip",
         "line": {
          "color": "rgba(0,0,0,0)"
         },
         "mode": "lines",
         "showlegend": false,
         "type": "scatter",
         "x": [
          14.25,
          14.325
         ],
         "y": [
          6.758001123472216e-9,
          5.5243149716227145e-9
         ]
        },
        {
         "fill": "tozeroy",
         "fillcolor": "rgb(247,255,76)",
         "hoverinfo": "skip",
         "line": {
          "color": "rgba(0,0,0,0)"
         },
         "mode": "lines",
         "showlegend": false,
         "type": "scatter",
         "x": [
          14.325,
          14.399999999999999
         ],
         "y": [
          5.5243149716227145e-9,
          4.2906288197732125e-9
         ]
        },
        {
         "fill": "tozeroy",
         "fillcolor": "rgb(247,255,76)",
         "hoverinfo": "skip",
         "line": {
          "color": "rgba(0,0,0,0)"
         },
         "mode": "lines",
         "showlegend": false,
         "type": "scatter",
         "x": [
          14.399999999999999,
          14.474999999999998
         ],
         "y": [
          4.2906288197732125e-9,
          3.505962449407476e-9
         ]
        },
        {
         "fill": "tozeroy",
         "fillcolor": "rgb(247,255,76)",
         "hoverinfo": "skip",
         "line": {
          "color": "rgba(0,0,0,0)"
         },
         "mode": "lines",
         "showlegend": false,
         "type": "scatter",
         "x": [
          14.474999999999998,
          14.549999999999997
         ],
         "y": [
          3.505962449407476e-9,
          2.7212960790417402e-9
         ]
        },
        {
         "fill": "tozeroy",
         "fillcolor": "rgb(247,255,76)",
         "hoverinfo": "skip",
         "line": {
          "color": "rgba(0,0,0,0)"
         },
         "mode": "lines",
         "showlegend": false,
         "type": "scatter",
         "x": [
          14.549999999999997,
          14.624999999999996
         ],
         "y": [
          2.7212960790417402e-9,
          2.188429669263202e-9
         ]
        },
        {
         "fill": "tozeroy",
         "fillcolor": "rgb(239,255,76)",
         "hoverinfo": "skip",
         "line": {
          "color": "rgba(0,0,0,0)"
         },
         "mode": "lines",
         "showlegend": false,
         "type": "scatter",
         "x": [
          14.625,
          14.7
         ],
         "y": [
          2.188429669263202e-9,
          1.655563259484664e-9
         ]
        },
        {
         "fill": "tozeroy",
         "fillcolor": "rgb(239,255,76)",
         "hoverinfo": "skip",
         "line": {
          "color": "rgba(0,0,0,0)"
         },
         "mode": "lines",
         "showlegend": false,
         "type": "scatter",
         "x": [
          14.7,
          14.774999999999999
         ],
         "y": [
          1.655563259484664e-9,
          1.308094042988187e-9
         ]
        },
        {
         "fill": "tozeroy",
         "fillcolor": "rgb(226,255,76)",
         "hoverinfo": "skip",
         "line": {
          "color": "rgba(0,0,0,0)"
         },
         "mode": "lines",
         "showlegend": false,
         "type": "scatter",
         "x": [
          14.775,
          14.85
         ],
         "y": [
          1.308094042988187e-9,
          9.606248264917098e-10
         ]
        },
        {
         "customdata": [
          [
           -0.5818407559396291,
           5.301221656569239e-10
          ],
          [
           -0.614504257233921,
           9.65307430757791e-10
          ],
          [
           -0.6363645168601485,
           1.6510436987099583e-9
          ],
          [
           -0.6505175829042985,
           2.7256984204755852e-9
          ],
          [
           -0.6548497894763257,
           4.286263066941701e-9
          ],
          [
           -0.6561024424986339,
           6.76235533033565e-9
          ],
          [
           -0.6590780671240589,
           1.027034265061107e-8
          ],
          [
           -0.6596841087266885,
           1.5654729676018977e-8
          ],
          [
           -0.6591572064260347,
           2.3469107162690046e-8
          ],
          [
           -0.6591613577526294,
           3.501890772104927e-8
          ],
          [
           -0.6591793144534145,
           5.202111427872297e-8
          ],
          [
           -0.6592220499336332,
           7.68619822082912e-8
          ],
          [
           -0.6592617264117324,
           1.1311206766897302e-7
          ],
          [
           -0.6594373750638225,
           1.6571432663707104e-7
          ],
          [
           -0.6596993944605657,
           2.4173768052082134e-7
          ],
          [
           -0.6598828903839352,
           3.5105966418433064e-7
          ],
          [
           -0.6600246430500957,
           5.074572531875381e-7
          ],
          [
           -0.6601414830111244,
           7.30231959550186e-7
          ],
          [
           -0.6602363694639528,
           0.00000104594387388192
          ],
          [
           -0.660273679785661,
           0.000001491206931360243
          ],
          [
           -0.6603001442592681,
           0.0000021161801206858795
          ],
          [
           -0.6603179868734758,
           0.0000029891348498943474
          ],
          [
           -0.6603330607362936,
           0.000004202570109277295
          ],
          [
           -0.6603395413777121,
           0.000005880982035667965
          ],
          [
           -0.6603526376420144,
           0.000008191471171657034
          ],
          [
           -0.6603654648475501,
           0.000011356286590807019
          ],
          [
           -0.6603805701656428,
           0.00001567028519758008
          ],
          [
           -0.6603955052403601,
           0.000021521955393161996
          ],
          [
           -0.6604117317114774,
           0.000029420273633038536
          ],
          [
           -0.6604272553163909,
           0.000040028604885919765
          ],
          [
           -0.660442837924403,
           0.000054206521223704465
          ],
          [
           -0.6604571328132359,
           0.00007306112687143412
          ],
          [
           -0.6604710030191134,
           0.00009801076124501488
          ],
          [
           -0.6604840196258306,
           0.00013086090963735343
          ],
          [
           -0.6604962832811974,
           0.00017389739299805744
          ],
          [
           -0.6605077368871096,
           0.00022999586302188218
          ],
          [
           -0.6605185329181218,
           0.0003027523374272422
          ],
          [
           -0.660528672135266,
           0.000396636514877683
          ],
          [
           -0.6605381204924261,
           0.0005171684326724855
          ],
          [
           -0.6605469653808688,
           0.0006711228688955844
          ],
          [
           -0.6605552346506283,
           0.000866760331345
          ],
          [
           -0.6605629594449216,
           0.0011140871515770902
          ],
          [
           -0.6605701514388046,
           0.001425142691729789
          ],
          [
           -0.6605768501899504,
           0.0018143135513155946
          ],
          [
           -0.6605830716514494,
           0.002298669816588891
          ],
          [
           -0.6605888296339755,
           0.0028983202348598558
          ],
          [
           -0.6605941405401196,
           0.0036367767652954156
          ],
          [
           -0.6605990176882642,
           0.0045413198442339235
          ],
          [
           -0.6606034842615345,
           0.005643351445637737
          ],
          [
           -0.6606075481611732,
           0.00697871893249578
          ],
          [
           -0.6606112347775661,
           0.00858799165251603
          ],
          [
           -0.6606145572201881,
           0.010516666840786091
          ],
          [
           -0.6606175355931059,
           0.012815280002611909
          ],
          [
           -0.6606201842638986,
           0.015539391177873453
          ],
          [
           -0.6606225224125188,
           0.01874941632279958
          ],
          [
           -0.6606245640684545,
           0.02251027315803805
          ],
          [
           -0.6606263254915624,
           0.026890808212460357
          ],
          [
           -0.660627822401154,
           0.03196297600817246
          ],
          [
           -0.6606290705585746,
           0.03780074066852238
          ],
          [
           -0.6606300836636056,
           0.0444786788366034
          ],
          [
           -0.6606308779440725,
           0.05207026607107731
          ],
          [
           -0.6606314662646038,
           0.060645840636477794
          ],
          [
           -0.6606318639879775,
           0.07027024747062595
          ],
          [
           -0.6606320830999861,
           0.0810001811698541
          ],
          [
           -0.6606321375387911,
           0.09288125888186995
          ],
          [
           -0.6606320401313069,
           0.10594487390964795
          ],
          [
           -0.6606318028388076,
           0.12020489579782864
          ],
          [
           -0.6606314380153242,
           0.1356543032280841
          ],
          [
           -0.660630957693415,
           0.15226185119557056
          ],
          [
           -0.6606303730204934,
           0.16996889256892056
          ],
          [
           -0.6606296954247495,
           0.18868648511241043
          ],
          [
           -0.6606289355790943,
           0.20829292764427385
          ],
          [
           -0.6606281039575248,
           0.22863187284638845
          ],
          [
           -0.6606272108078244,
           0.2495111644759593
          ],
          [
           -0.6606262656000342,
           0.27070254141215083
          ],
          [
           -0.6606252779716908,
           0.2919423355746272
          ],
          [
           -0.6606242567623815,
           0.3129332721460275
          ],
          [
           -0.6606232107257429,
           0.3333474503551307
          ],
          [
           -0.6606221481222084,
           0.3528305502797985
          ],
          [
           -0.6606210769355443,
           0.3710072676211112
          ],
          [
           -0.6606200047550412,
           0.38748793415245425
          ],
          [
           -0.6606189388542542,
           0.40187623182344495
          ],
          [
           -0.6606178861477553,
           0.4137778567401153
          ],
          [
           -0.6606168531575535,
           0.4228099410370471
          ],
          [
           -0.660615846132235,
           0.42861099258808766
          ],
          [
           -0.6606148708684051,
           0.43085107408783685
          ],
          [
           -0.6606139328839429,
           0.4292419071291773
          ],
          [
           -0.6606130373034744,
           0.4235465690836073
          ],
          [
           -0.660612188851789,
           0.4135884371532851
          ],
          [
           -0.6606113920325425,
           0.39925904052899
          ],
          [
           -0.6606106508297683,
           0.38052449786785364
          ],
          [
           -0.6606099690892845,
           0.3574302517096014
          ],
          [
           -0.6606093500126924,
           0.3301038570399865
          ],
          [
           -0.6606087968012014,
           0.29875564048920006
          ],
          [
           -0.6606083120344101,
           0.2636771167115605
          ],
          [
           -0.6606078979808944,
           0.2252371246911645
          ],
          [
           -0.6606075565856323,
           0.18387572987366257
          ],
          [
           -0.660607289567545,
           0.1400960189842534
          ],
          [
           -0.6606070977665562,
           0.09445399543228918
          ],
          [
           -0.660606982637894,
           0.04754685719063561
          ],
          [
           0.5261698565532473,
           2.59213393283567e-12
          ],
          [
           0.339393017342881,
           0.04754685718631858
          ],
          [
           0.3393929022431109,
           0.09445399543660368
          ],
          [
           0.33939271042592756,
           0.14009601897993737
          ],
          [
           0.3393924434193358,
           0.18387572987797526
          ],
          [
           0.33939210201504655,
           0.22523712468685142
          ],
          [
           0.3393916879690551,
           0.2636771167158729
          ],
          [
           0.33939120319574,
           0.2987556404848875
          ],
          [
           0.3393906499900772,
           0.3301038570443015
          ],
          [
           0.33939003090816,
           0.35743025170528525
          ],
          [
           0.33938934917263414,
           0.3805244978721699
          ],
          [
           0.3393886079651693,
           0.3992590405246726
          ],
          [
           0.3393878111504212,
           0.41358843715760146
          ],
          [
           0.3393869626943691,
           0.42354656907929356
          ],
          [
           0.3393860671181877,
           0.42924190713349036
          ],
          [
           0.3393851291294752,
           0.43085107408352485
          ],
          [
           0.33938415386989895,
           0.4286109925924008
          ],
          [
           0.3393831468402849,
           0.42280994103273295
          ],
          [
           0.3393821138544534,
           0.4137778567444316
          ],
          [
           0.3393810611434718,
           0.40187623181912946
          ],
          [
           0.33937999524731643,
           0.38748793415676946
          ],
          [
           0.33937892306199147,
           0.3710072676167973
          ],
          [
           0.33937785188038194,
           0.3528305502841122
          ],
          [
           0.33937678927151543,
           0.33334745035081714
          ],
          [
           0.3393757432405406,
           0.31293327215034067
          ],
          [
           0.3393747220251769,
           0.29194233557031324
          ],
          [
           0.33937373440334284,
           0.2707025414164662
          ],
          [
           0.3393727891885145,
           0.2495111644716442
          ],
          [
           0.3393718960464715,
           0.22863187285070427
          ],
          [
           0.33937106441651826,
           0.20829292763995866
          ],
          [
           0.339370304580095,
           0.18868648511672403
          ],
          [
           0.33936962697413,
           0.1699688925646053
          ],
          [
           0.3393690423125879,
           0.15226185119988292
          ],
          [
           0.3393685619779322,
           0.13565430322376976
          ],
          [
           0.3393681971687953,
           0.12020489580214194
          ],
          [
           0.33936795986006274,
           0.10594487390533341
          ],
          [
           0.3393678624710415,
           0.09288125888618527
          ],
          [
           0.33936791688872153,
           0.08100018116553778
          ],
          [
           0.3393681360250226,
           0.07027024747494161
          ],
          [
           0.3393685337203313,
           0.06064584063216255
          ],
          [
           0.3393691220734751,
           0.05207026607539235
          ],
          [
           0.3393699163158453,
           0.044478678832291035
          ],
          [
           0.3393709294656107,
           0.037800740672837604
          ],
          [
           0.33937217757025745,
           0.03196297600386187
          ],
          [
           0.3393736745424515,
           0.02689080821677527
          ],
          [
           0.3393754358909394,
           0.02251027315372547
          ],
          [
           0.3393774776362657,
           0.01874941632711592
          ],
          [
           0.33937981567735076,
           0.015539391173557284
          ],
          [
           0.3393824644782251,
           0.012815280006929487
          ],
          [
           0.33938544269296167,
           0.010516666836472347
          ],
          [
           0.33938876532884793,
           0.00858799165683159
          ],
          [
           0.33939245170794685,
           0.006978718928181241
          ],
          [
           0.33939651590044884,
           0.005643351449949386
          ],
          [
           0.33940098211047076,
           0.004541319839918419
          ],
          [
           0.33940585971129744,
           0.0036367767696080305
          ],
          [
           0.3394111700509126,
           0.0028983202305412413
          ],
          [
           0.33941692874618684,
           0.0022986698209036954
          ],
          [
           0.3394231493065713,
           0.0018143135470000133
          ],
          [
           0.3394298492024564,
           0.001425142696044898
          ],
          [
           0.3394370397356951,
           0.0011140871472612138
          ],
          [
           0.3394447664036813,
           0.0008667603356597086
          ],
          [
           0.33945303325776954,
           0.0006711228645803409
          ],
          [
           0.33946188127474586,
           0.0005171684369877161
          ],
          [
           0.339471325561806,
           0.0003966365105611216
          ],
          [
           0.3394814700989388,
           0.00030275234174326746
          ],
          [
           0.3394922591404733,
           0.00022999585870675694
          ],
          [
           0.3395037219701588,
           0.00017389739731194515
          ],
          [
           0.3395159733932467,
           0.00013086090532186257
          ],
          [
           0.3395290062948534,
           0.00009801076555976748
          ],
          [
           0.3395428546762977,
           0.00007306112255661673
          ],
          [
           0.33955717890910686,
           0.00005420652554005915
          ],
          [
           0.33957272184519066,
           0.0000400286005691143
          ],
          [
           0.33958829929840384,
           0.000029420277949561265
          ],
          [
           0.33960445229366565,
           0.000021521951075188893
          ],
          [
           0.33961948802554137,
           0.000015670289513032164
          ],
          [
           0.3396344547215771,
           0.000011356282272622646
          ],
          [
           0.33964747368568604,
           0.000008191475486430907
          ],
          [
           0.3396603033246341,
           0.000005880977716388372
          ],
          [
           0.33966715636709294,
           0.00000420257442446633
          ],
          [
           0.3396817075783432,
           0.000002989130530242407
          ],
          [
           0.3397002870663134,
           0.000002116184436394683
          ],
          [
           0.3397257081576427,
           0.0000014912026106160796
          ],
          [
           0.33976450278210896,
           0.0000010459481901446314
          ],
          [
           0.3398572687768014,
           7.30227637632525e-7
          ],
          [
           0.3399771524050874,
           5.07461572027543e-7
          ],
          [
           0.3401145153623759,
           3.51055342121856e-7
          ],
          [
           0.34030436905309897,
           2.4174200110240586e-7
          ],
          [
           0.34055714060754544,
           1.6571000161624815e-7
          ],
          [
           0.34074630088823155,
           1.1311639310309834e-7
          ],
          [
           0.34076613761179697,
           7.685765368980106e-8
          ],
          [
           0.3408381341394804,
           5.202543923141191e-8
          ],
          [
           0.3408127268532802,
           3.50145784813457e-8
          ],
          [
           0.3408814587666148,
           2.347343560728372e-8
          ],
          [
           0.34025776498001337,
           1.5650406467094848e-8
          ],
          [
           0.3410102699504403,
           1.0274670870115566e-8
          ],
          [
           0.3437652554188572,
           6.758001123472216e-9
          ],
          [
           0.3453573753999579,
           4.2906288197732125e-9
          ],
          [
           0.3491627321162733,
           2.7212960790417402e-9
          ],
          [
           0.3641227944547305,
           1.655563259484664e-9
          ],
          [
           0.38476047519548046,
           9.606248264917098e-10
          ]
         ],
         "hovertemplate": "x: %{x:.2f} a₀<br>θ: %{customdata[0]:.2f} π<br>ρ: %{customdata[1]:.2e}",
         "line": {
          "color": "black"
         },
         "mode": "lines",
         "name": "",
         "showlegend": false,
         "type": "scatter",
         "x": [
          -15,
          -14.85,
          -14.7,
          -14.55,
          -14.4,
          -14.25,
          -14.1,
          -13.95,
          -13.8,
          -13.65,
          -13.5,
          -13.35,
          -13.2,
          -13.05,
          -12.9,
          -12.75,
          -12.6,
          -12.45,
          -12.3,
          -12.15,
          -12,
          -11.85,
          -11.7,
          -11.55,
          -11.4,
          -11.25,
          -11.1,
          -10.95,
          -10.8,
          -10.65,
          -10.5,
          -10.350000000000001,
          -10.2,
          -10.05,
          -9.9,
          -9.75,
          -9.600000000000001,
          -9.45,
          -9.3,
          -9.15,
          -9,
          -8.850000000000001,
          -8.7,
          -8.55,
          -8.4,
          -8.25,
          -8.100000000000001,
          -7.95,
          -7.800000000000001,
          -7.65,
          -7.5,
          -7.3500000000000005,
          -7.2,
          -7.050000000000001,
          -6.9,
          -6.75,
          -6.6,
          -6.450000000000001,
          -6.300000000000001,
          -6.15,
          -6,
          -5.85,
          -5.700000000000001,
          -5.550000000000001,
          -5.4,
          -5.25,
          -5.1,
          -4.950000000000001,
          -4.800000000000001,
          -4.65,
          -4.5,
          -4.35,
          -4.200000000000001,
          -4.050000000000001,
          -3.9000000000000004,
          -3.75,
          -3.5999999999999996,
          -3.450000000000001,
          -3.3000000000000007,
          -3.1500000000000004,
          -3,
          -2.8499999999999996,
          -2.700000000000001,
          -2.5500000000000007,
          -2.4000000000000004,
          -2.25,
          -2.0999999999999996,
          -1.950000000000001,
          -1.8000000000000007,
          -1.6500000000000004,
          -1.5,
          -1.3499999999999996,
          -1.200000000000001,
          -1.0500000000000007,
          -0.9000000000000004,
          -0.75,
          -0.6000000000000014,
          -0.45000000000000107,
          -0.3000000000000007,
          -0.15000000000000036,
          0,
          0.14999999999999858,
          0.29999999999999893,
          0.4499999999999993,
          0.5999999999999996,
          0.75,
          0.8999999999999986,
          1.0500000000000007,
          1.1999999999999993,
          1.3499999999999979,
          1.5,
          1.6499999999999986,
          1.8000000000000007,
          1.9499999999999993,
          2.099999999999998,
          2.25,
          2.3999999999999986,
          2.5500000000000007,
          2.6999999999999993,
          2.849999999999998,
          3,
          3.1499999999999986,
          3.3000000000000007,
          3.4499999999999993,
          3.599999999999998,
          3.75,
          3.8999999999999986,
          4.050000000000001,
          4.199999999999999,
          4.349999999999998,
          4.5,
          4.649999999999999,
          4.800000000000001,
          4.949999999999999,
          5.099999999999998,
          5.25,
          5.399999999999999,
          5.550000000000001,
          5.699999999999999,
          5.849999999999998,
          6,
          6.149999999999999,
          6.300000000000001,
          6.449999999999999,
          6.599999999999998,
          6.75,
          6.899999999999999,
          7.050000000000001,
          7.199999999999999,
          7.349999999999998,
          7.5,
          7.649999999999999,
          7.800000000000001,
          7.949999999999999,
          8.099999999999998,
          8.25,
          8.399999999999999,
          8.55,
          8.7,
          8.849999999999998,
          9,
          9.149999999999999,
          9.3,
          9.45,
          9.599999999999998,
          9.75,
          9.899999999999999,
          10.05,
          10.2,
          10.349999999999998,
          10.5,
          10.649999999999999,
          10.8,
          10.95,
          11.099999999999998,
          11.25,
          11.399999999999999,
          11.55,
          11.7,
          11.849999999999998,
          12,
          12.149999999999999,
          12.3,
          12.45,
          12.599999999999998,
          12.75,
          12.899999999999999,
          13.05,
          13.2,
          13.349999999999998,
          13.5,
          13.649999999999999,
          13.799999999999997,
          13.95,
          14.099999999999998,
          14.25,
          14.399999999999999,
          14.549999999999997,
          14.7,
          14.85
         ],
         "y": [
          5.301221656569239e-10,
          9.65307430757791e-10,
          1.6510436987099583e-9,
          2.7256984204755852e-9,
          4.286263066941701e-9,
          6.76235533033565e-9,
          1.027034265061107e-8,
          1.5654729676018977e-8,
          2.3469107162690046e-8,
          3.501890772104927e-8,
          5.202111427872297e-8,
          7.68619822082912e-8,
          1.1311206766897302e-7,
          1.6571432663707104e-7,
          2.4173768052082134e-7,
          3.5105966418433064e-7,
          5.074572531875381e-7,
          7.30231959550186e-7,
          0.00000104594387388192,
          0.000001491206931360243,
          0.0000021161801206858795,
          0.0000029891348498943474,
          0.000004202570109277295,
          0.000005880982035667965,
          0.000008191471171657034,
          0.000011356286590807019,
          0.00001567028519758008,
          0.000021521955393161996,
          0.000029420273633038536,
          0.000040028604885919765,
          0.000054206521223704465,
          0.00007306112687143412,
          0.00009801076124501488,
          0.00013086090963735343,
          0.00017389739299805744,
          0.00022999586302188218,
          0.0003027523374272422,
          0.000396636514877683,
          0.0005171684326724855,
          0.0006711228688955844,
          0.000866760331345,
          0.0011140871515770902,
          0.001425142691729789,
          0.0018143135513155946,
          0.002298669816588891,
          0.0028983202348598558,
          0.0036367767652954156,
          0.0045413198442339235,
          0.005643351445637737,
          0.00697871893249578,
          0.00858799165251603,
          0.010516666840786091,
          0.012815280002611909,
          0.015539391177873453,
          0.01874941632279958,
          0.02251027315803805,
          0.026890808212460357,
          0.03196297600817246,
          0.03780074066852238,
          0.0444786788366034,
          0.05207026607107731,
          0.060645840636477794,
          0.07027024747062595,
          0.0810001811698541,
          0.09288125888186995,
          0.10594487390964795,
          0.12020489579782864,
          0.1356543032280841,
          0.15226185119557056,
          0.16996889256892056,
          0.18868648511241043,
          0.20829292764427385,
          0.22863187284638845,
          0.2495111644759593,
          0.27070254141215083,
          0.2919423355746272,
          0.3129332721460275,
          0.3333474503551307,
          0.3528305502797985,
          0.3710072676211112,
          0.38748793415245425,
          0.40187623182344495,
          0.4137778567401153,
          0.4228099410370471,
          0.42861099258808766,
          0.43085107408783685,
          0.4292419071291773,
          0.4235465690836073,
          0.4135884371532851,
          0.39925904052899,
          0.38052449786785364,
          0.3574302517096014,
          0.3301038570399865,
          0.29875564048920006,
          0.2636771167115605,
          0.2252371246911645,
          0.18387572987366257,
          0.1400960189842534,
          0.09445399543228918,
          0.04754685719063561,
          2.59213393283567e-12,
          0.04754685718631858,
          0.09445399543660368,
          0.14009601897993737,
          0.18387572987797526,
          0.22523712468685142,
          0.2636771167158729,
          0.2987556404848875,
          0.3301038570443015,
          0.35743025170528525,
          0.3805244978721699,
          0.3992590405246726,
          0.41358843715760146,
          0.42354656907929356,
          0.42924190713349036,
          0.43085107408352485,
          0.4286109925924008,
          0.42280994103273295,
          0.4137778567444316,
          0.40187623181912946,
          0.38748793415676946,
          0.3710072676167973,
          0.3528305502841122,
          0.33334745035081714,
          0.31293327215034067,
          0.29194233557031324,
          0.2707025414164662,
          0.2495111644716442,
          0.22863187285070427,
          0.20829292763995866,
          0.18868648511672403,
          0.1699688925646053,
          0.15226185119988292,
          0.13565430322376976,
          0.12020489580214194,
          0.10594487390533341,
          0.09288125888618527,
          0.08100018116553778,
          0.07027024747494161,
          0.06064584063216255,
          0.05207026607539235,
          0.044478678832291035,
          0.037800740672837604,
          0.03196297600386187,
          0.02689080821677527,
          0.02251027315372547,
          0.01874941632711592,
          0.015539391173557284,
          0.012815280006929487,
          0.010516666836472347,
          0.00858799165683159,
          0.006978718928181241,
          0.005643351449949386,
          0.004541319839918419,
          0.0036367767696080305,
          0.0028983202305412413,
          0.0022986698209036954,
          0.0018143135470000133,
          0.001425142696044898,
          0.0011140871472612138,
          0.0008667603356597086,
          0.0006711228645803409,
          0.0005171684369877161,
          0.0003966365105611216,
          0.00030275234174326746,
          0.00022999585870675694,
          0.00017389739731194515,
          0.00013086090532186257,
          0.00009801076555976748,
          0.00007306112255661673,
          0.00005420652554005915,
          0.0000400286005691143,
          0.000029420277949561265,
          0.000021521951075188893,
          0.000015670289513032164,
          0.000011356282272622646,
          0.000008191475486430907,
          0.000005880977716388372,
          0.00000420257442446633,
          0.000002989130530242407,
          0.000002116184436394683,
          0.0000014912026106160796,
          0.0000010459481901446314,
          7.30227637632525e-7,
          5.07461572027543e-7,
          3.51055342121856e-7,
          2.4174200110240586e-7,
          1.6571000161624815e-7,
          1.1311639310309834e-7,
          7.685765368980106e-8,
          5.202543923141191e-8,
          3.50145784813457e-8,
          2.347343560728372e-8,
          1.5650406467094848e-8,
          1.0274670870115566e-8,
          6.758001123472216e-9,
          4.2906288197732125e-9,
          2.7212960790417402e-9,
          1.655563259484664e-9,
          9.606248264917098e-10
         ]
        }
       ],
       "layout": {
        "template": {
         "data": {
          "bar": [
           {
            "error_x": {
             "color": "#2a3f5f"
            },
            "error_y": {
             "color": "#2a3f5f"
            },
            "marker": {
             "line": {
              "color": "#E5ECF6",
              "width": 0.5
             },
             "pattern": {
              "fillmode": "overlay",
              "size": 10,
              "solidity": 0.2
             }
            },
            "type": "bar"
           }
          ],
          "barpolar": [
           {
            "marker": {
             "line": {
              "color": "#E5ECF6",
              "width": 0.5
             },
             "pattern": {
              "fillmode": "overlay",
              "size": 10,
              "solidity": 0.2
             }
            },
            "type": "barpolar"
           }
          ],
          "carpet": [
           {
            "aaxis": {
             "endlinecolor": "#2a3f5f",
             "gridcolor": "white",
             "linecolor": "white",
             "minorgridcolor": "white",
             "startlinecolor": "#2a3f5f"
            },
            "baxis": {
             "endlinecolor": "#2a3f5f",
             "gridcolor": "white",
             "linecolor": "white",
             "minorgridcolor": "white",
             "startlinecolor": "#2a3f5f"
            },
            "type": "carpet"
           }
          ],
          "choropleth": [
           {
            "colorbar": {
             "outlinewidth": 0,
             "ticks": ""
            },
            "type": "choropleth"
           }
          ],
          "contour": [
           {
            "colorbar": {
             "outlinewidth": 0,
             "ticks": ""
            },
            "colorscale": [
             [
              0,
              "#0d0887"
             ],
             [
              0.1111111111111111,
              "#46039f"
             ],
             [
              0.2222222222222222,
              "#7201a8"
             ],
             [
              0.3333333333333333,
              "#9c179e"
             ],
             [
              0.4444444444444444,
              "#bd3786"
             ],
             [
              0.5555555555555556,
              "#d8576b"
             ],
             [
              0.6666666666666666,
              "#ed7953"
             ],
             [
              0.7777777777777778,
              "#fb9f3a"
             ],
             [
              0.8888888888888888,
              "#fdca26"
             ],
             [
              1,
              "#f0f921"
             ]
            ],
            "type": "contour"
           }
          ],
          "contourcarpet": [
           {
            "colorbar": {
             "outlinewidth": 0,
             "ticks": ""
            },
            "type": "contourcarpet"
           }
          ],
          "heatmap": [
           {
            "colorbar": {
             "outlinewidth": 0,
             "ticks": ""
            },
            "colorscale": [
             [
              0,
              "#0d0887"
             ],
             [
              0.1111111111111111,
              "#46039f"
             ],
             [
              0.2222222222222222,
              "#7201a8"
             ],
             [
              0.3333333333333333,
              "#9c179e"
             ],
             [
              0.4444444444444444,
              "#bd3786"
             ],
             [
              0.5555555555555556,
              "#d8576b"
             ],
             [
              0.6666666666666666,
              "#ed7953"
             ],
             [
              0.7777777777777778,
              "#fb9f3a"
             ],
             [
              0.8888888888888888,
              "#fdca26"
             ],
             [
              1,
              "#f0f921"
             ]
            ],
            "type": "heatmap"
           }
          ],
          "heatmapgl": [
           {
            "colorbar": {
             "outlinewidth": 0,
             "ticks": ""
            },
            "colorscale": [
             [
              0,
              "#0d0887"
             ],
             [
              0.1111111111111111,
              "#46039f"
             ],
             [
              0.2222222222222222,
              "#7201a8"
             ],
             [
              0.3333333333333333,
              "#9c179e"
             ],
             [
              0.4444444444444444,
              "#bd3786"
             ],
             [
              0.5555555555555556,
              "#d8576b"
             ],
             [
              0.6666666666666666,
              "#ed7953"
             ],
             [
              0.7777777777777778,
              "#fb9f3a"
             ],
             [
              0.8888888888888888,
              "#fdca26"
             ],
             [
              1,
              "#f0f921"
             ]
            ],
            "type": "heatmapgl"
           }
          ],
          "histogram": [
           {
            "marker": {
             "pattern": {
              "fillmode": "overlay",
              "size": 10,
              "solidity": 0.2
             }
            },
            "type": "histogram"
           }
          ],
          "histogram2d": [
           {
            "colorbar": {
             "outlinewidth": 0,
             "ticks": ""
            },
            "colorscale": [
             [
              0,
              "#0d0887"
             ],
             [
              0.1111111111111111,
              "#46039f"
             ],
             [
              0.2222222222222222,
              "#7201a8"
             ],
             [
              0.3333333333333333,
              "#9c179e"
             ],
             [
              0.4444444444444444,
              "#bd3786"
             ],
             [
              0.5555555555555556,
              "#d8576b"
             ],
             [
              0.6666666666666666,
              "#ed7953"
             ],
             [
              0.7777777777777778,
              "#fb9f3a"
             ],
             [
              0.8888888888888888,
              "#fdca26"
             ],
             [
              1,
              "#f0f921"
             ]
            ],
            "type": "histogram2d"
           }
          ],
          "histogram2dcontour": [
           {
            "colorbar": {
             "outlinewidth": 0,
             "ticks": ""
            },
            "colorscale": [
             [
              0,
              "#0d0887"
             ],
             [
              0.1111111111111111,
              "#46039f"
             ],
             [
              0.2222222222222222,
              "#7201a8"
             ],
             [
              0.3333333333333333,
              "#9c179e"
             ],
             [
              0.4444444444444444,
              "#bd3786"
             ],
             [
              0.5555555555555556,
              "#d8576b"
             ],
             [
              0.6666666666666666,
              "#ed7953"
             ],
             [
              0.7777777777777778,
              "#fb9f3a"
             ],
             [
              0.8888888888888888,
              "#fdca26"
             ],
             [
              1,
              "#f0f921"
             ]
            ],
            "type": "histogram2dcontour"
           }
          ],
          "mesh3d": [
           {
            "colorbar": {
             "outlinewidth": 0,
             "ticks": ""
            },
            "type": "mesh3d"
           }
          ],
          "parcoords": [
           {
            "line": {
             "colorbar": {
              "outlinewidth": 0,
              "ticks": ""
             }
            },
            "type": "parcoords"
           }
          ],
          "pie": [
           {
            "automargin": true,
            "type": "pie"
           }
          ],
          "scatter": [
           {
            "fillpattern": {
             "fillmode": "overlay",
             "size": 10,
             "solidity": 0.2
            },
            "type": "scatter"
           }
          ],
          "scatter3d": [
           {
            "line": {
             "colorbar": {
              "outlinewidth": 0,
              "ticks": ""
             }
            },
            "marker": {
             "colorbar": {
              "outlinewidth": 0,
              "ticks": ""
             }
            },
            "type": "scatter3d"
           }
          ],
          "scattercarpet": [
           {
            "marker": {
             "colorbar": {
              "outlinewidth": 0,
              "ticks": ""
             }
            },
            "type": "scattercarpet"
           }
          ],
          "scattergeo": [
           {
            "marker": {
             "colorbar": {
              "outlinewidth": 0,
              "ticks": ""
             }
            },
            "type": "scattergeo"
           }
          ],
          "scattergl": [
           {
            "marker": {
             "colorbar": {
              "outlinewidth": 0,
              "ticks": ""
             }
            },
            "type": "scattergl"
           }
          ],
          "scattermapbox": [
           {
            "marker": {
             "colorbar": {
              "outlinewidth": 0,
              "ticks": ""
             }
            },
            "type": "scattermapbox"
           }
          ],
          "scatterpolar": [
           {
            "marker": {
             "colorbar": {
              "outlinewidth": 0,
              "ticks": ""
             }
            },
            "type": "scatterpolar"
           }
          ],
          "scatterpolargl": [
           {
            "marker": {
             "colorbar": {
              "outlinewidth": 0,
              "ticks": ""
             }
            },
            "type": "scatterpolargl"
           }
          ],
          "scatterternary": [
           {
            "marker": {
             "colorbar": {
              "outlinewidth": 0,
              "ticks": ""
             }
            },
            "type": "scatterternary"
           }
          ],
          "surface": [
           {
            "colorbar": {
             "outlinewidth": 0,
             "ticks": ""
            },
            "colorscale": [
             [
              0,
              "#0d0887"
             ],
             [
              0.1111111111111111,
              "#46039f"
             ],
             [
              0.2222222222222222,
              "#7201a8"
             ],
             [
              0.3333333333333333,
              "#9c179e"
             ],
             [
              0.4444444444444444,
              "#bd3786"
             ],
             [
              0.5555555555555556,
              "#d8576b"
             ],
             [
              0.6666666666666666,
              "#ed7953"
             ],
             [
              0.7777777777777778,
              "#fb9f3a"
             ],
             [
              0.8888888888888888,
              "#fdca26"
             ],
             [
              1,
              "#f0f921"
             ]
            ],
            "type": "surface"
           }
          ],
          "table": [
           {
            "cells": {
             "fill": {
              "color": "#EBF0F8"
             },
             "line": {
              "color": "white"
             }
            },
            "header": {
             "fill": {
              "color": "#C8D4E3"
             },
             "line": {
              "color": "white"
             }
            },
            "type": "table"
           }
          ]
         },
         "layout": {
          "annotationdefaults": {
           "arrowcolor": "#2a3f5f",
           "arrowhead": 0,
           "arrowwidth": 1
          },
          "autotypenumbers": "strict",
          "coloraxis": {
           "colorbar": {
            "outlinewidth": 0,
            "ticks": ""
           }
          },
          "colorscale": {
           "diverging": [
            [
             0,
             "#8e0152"
            ],
            [
             0.1,
             "#c51b7d"
            ],
            [
             0.2,
             "#de77ae"
            ],
            [
             0.3,
             "#f1b6da"
            ],
            [
             0.4,
             "#fde0ef"
            ],
            [
             0.5,
             "#f7f7f7"
            ],
            [
             0.6,
             "#e6f5d0"
            ],
            [
             0.7,
             "#b8e186"
            ],
            [
             0.8,
             "#7fbc41"
            ],
            [
             0.9,
             "#4d9221"
            ],
            [
             1,
             "#276419"
            ]
           ],
           "sequential": [
            [
             0,
             "#0d0887"
            ],
            [
             0.1111111111111111,
             "#46039f"
            ],
            [
             0.2222222222222222,
             "#7201a8"
            ],
            [
             0.3333333333333333,
             "#9c179e"
            ],
            [
             0.4444444444444444,
             "#bd3786"
            ],
            [
             0.5555555555555556,
             "#d8576b"
            ],
            [
             0.6666666666666666,
             "#ed7953"
            ],
            [
             0.7777777777777778,
             "#fb9f3a"
            ],
            [
             0.8888888888888888,
             "#fdca26"
            ],
            [
             1,
             "#f0f921"
            ]
           ],
           "sequentialminus": [
            [
             0,
             "#0d0887"
            ],
            [
             0.1111111111111111,
             "#46039f"
            ],
            [
             0.2222222222222222,
             "#7201a8"
            ],
            [
             0.3333333333333333,
             "#9c179e"
            ],
            [
             0.4444444444444444,
             "#bd3786"
            ],
            [
             0.5555555555555556,
             "#d8576b"
            ],
            [
             0.6666666666666666,
             "#ed7953"
            ],
            [
             0.7777777777777778,
             "#fb9f3a"
            ],
            [
             0.8888888888888888,
             "#fdca26"
            ],
            [
             1,
             "#f0f921"
            ]
           ]
          },
          "colorway": [
           "#636efa",
           "#EF553B",
           "#00cc96",
           "#ab63fa",
           "#FFA15A",
           "#19d3f3",
           "#FF6692",
           "#B6E880",
           "#FF97FF",
           "#FECB52"
          ],
          "font": {
           "color": "#2a3f5f"
          },
          "geo": {
           "bgcolor": "white",
           "lakecolor": "white",
           "landcolor": "#E5ECF6",
           "showlakes": true,
           "showland": true,
           "subunitcolor": "white"
          },
          "hoverlabel": {
           "align": "left"
          },
          "hovermode": "closest",
          "mapbox": {
           "style": "light"
          },
          "paper_bgcolor": "white",
          "plot_bgcolor": "#E5ECF6",
          "polar": {
           "angularaxis": {
            "gridcolor": "white",
            "linecolor": "white",
            "ticks": ""
           },
           "bgcolor": "#E5ECF6",
           "radialaxis": {
            "gridcolor": "white",
            "linecolor": "white",
            "ticks": ""
           }
          },
          "scene": {
           "xaxis": {
            "backgroundcolor": "#E5ECF6",
            "gridcolor": "white",
            "gridwidth": 2,
            "linecolor": "white",
            "showbackground": true,
            "ticks": "",
            "zerolinecolor": "white"
           },
           "yaxis": {
            "backgroundcolor": "#E5ECF6",
            "gridcolor": "white",
            "gridwidth": 2,
            "linecolor": "white",
            "showbackground": true,
            "ticks": "",
            "zerolinecolor": "white"
           },
           "zaxis": {
            "backgroundcolor": "#E5ECF6",
            "gridcolor": "white",
            "gridwidth": 2,
            "linecolor": "white",
            "showbackground": true,
            "ticks": "",
            "zerolinecolor": "white"
           }
          },
          "shapedefaults": {
           "line": {
            "color": "#2a3f5f"
           }
          },
          "ternary": {
           "aaxis": {
            "gridcolor": "white",
            "linecolor": "white",
            "ticks": ""
           },
           "baxis": {
            "gridcolor": "white",
            "linecolor": "white",
            "ticks": ""
           },
           "bgcolor": "#E5ECF6",
           "caxis": {
            "gridcolor": "white",
            "linecolor": "white",
            "ticks": ""
           }
          },
          "title": {
           "x": 0.05
          },
          "xaxis": {
           "automargin": true,
           "gridcolor": "white",
           "linecolor": "white",
           "ticks": "",
           "title": {
            "standoff": 15
           },
           "zerolinecolor": "white",
           "zerolinewidth": 2
          },
          "yaxis": {
           "automargin": true,
           "gridcolor": "white",
           "linecolor": "white",
           "ticks": "",
           "title": {
            "standoff": 15
           },
           "zerolinecolor": "white",
           "zerolinewidth": 2
          }
         }
        },
        "xaxis": {
         "range": [
          -15,
          14.85
         ],
         "showgrid": true,
         "title": {
          "text": "x/a₀"
         }
        },
        "yaxis": {
         "showgrid": true
        }
       }
      }
     },
     "metadata": {},
     "output_type": "display_data"
    }
   ],
   "source": [
    "def a_dag(qm,psi,psi_f):\n",
    "    new_psi = qm.x*psi - 1/omega*sp.fft.ifftn(qm.dif[0]*psi_f)\n",
    "    new_psi = np.sqrt(omega/2)*new_psi\n",
    "    return new_psi\n",
    "\n",
    "qm.psi = a_dag(qm,qm.psi,qm.psi_f)\n",
    "qm.psi_f = sp.fft.fftn(qm.psi)\n",
    "\n",
    "qm.plot_complex_field(qm.psi)\n"
   ]
  },
  {
   "cell_type": "markdown",
   "metadata": {},
   "source": [
    "And the next excited state."
   ]
  },
  {
   "cell_type": "code",
   "execution_count": 14,
   "metadata": {},
   "outputs": [
    {
     "data": {
      "application/vnd.plotly.v1+json": {
       "config": {
        "plotlyServerURL": "https://plot.ly"
       },
       "data": [
        {
         "fill": "tozeroy",
         "fillcolor": "rgb(218,255,76)",
         "hoverinfo": "skip",
         "line": {
          "color": "rgba(0,0,0,0)"
         },
         "mode": "lines",
         "showlegend": false,
         "type": "scatter",
         "x": [
          -15,
          -14.925
         ],
         "y": [
          1.4666890507698874e-8,
          1.0538027711482017e-8
         ]
        },
        {
         "fill": "tozeroy",
         "fillcolor": "rgb(255,249,76)",
         "hoverinfo": "skip",
         "line": {
          "color": "rgba(0,0,0,0)"
         },
         "mode": "lines",
         "showlegend": false,
         "type": "scatter",
         "x": [
          -14.924999999999999,
          -14.85
         ],
         "y": [
          1.0538027711482017e-8,
          6.40916491526516e-9
         ]
        },
        {
         "fill": "tozeroy",
         "fillcolor": "rgb(255,249,76)",
         "hoverinfo": "skip",
         "line": {
          "color": "rgba(0,0,0,0)"
         },
         "mode": "lines",
         "showlegend": false,
         "type": "scatter",
         "x": [
          -14.85,
          -14.775
         ],
         "y": [
          6.40916491526516e-9,
          1.2919541509199878e-8
         ]
        },
        {
         "fill": "tozeroy",
         "fillcolor": "rgb(243,255,76)",
         "hoverinfo": "skip",
         "line": {
          "color": "rgba(0,0,0,0)"
         },
         "mode": "lines",
         "showlegend": false,
         "type": "scatter",
         "x": [
          -14.774999999999999,
          -14.7
         ],
         "y": [
          1.2919541509199878e-8,
          1.9429918103134596e-8
         ]
        },
        {
         "fill": "tozeroy",
         "fillcolor": "rgb(243,255,76)",
         "hoverinfo": "skip",
         "line": {
          "color": "rgba(0,0,0,0)"
         },
         "mode": "lines",
         "showlegend": false,
         "type": "scatter",
         "x": [
          -14.7,
          -14.625
         ],
         "y": [
          1.9429918103134596e-8,
          2.1705723711066335e-8
         ]
        },
        {
         "fill": "tozeroy",
         "fillcolor": "rgb(255,253,76)",
         "hoverinfo": "skip",
         "line": {
          "color": "rgba(0,0,0,0)"
         },
         "mode": "lines",
         "showlegend": false,
         "type": "scatter",
         "x": [
          -14.625,
          -14.55
         ],
         "y": [
          2.1705723711066335e-8,
          2.3981529318998075e-8
         ]
        },
        {
         "fill": "tozeroy",
         "fillcolor": "rgb(255,253,76)",
         "hoverinfo": "skip",
         "line": {
          "color": "rgba(0,0,0,0)"
         },
         "mode": "lines",
         "showlegend": false,
         "type": "scatter",
         "x": [
          -14.55,
          -14.475000000000001
         ],
         "y": [
          2.3981529318998075e-8,
          3.2926095548272926e-8
         ]
        },
        {
         "fill": "tozeroy",
         "fillcolor": "rgb(247,255,76)",
         "hoverinfo": "skip",
         "line": {
          "color": "rgba(0,0,0,0)"
         },
         "mode": "lines",
         "showlegend": false,
         "type": "scatter",
         "x": [
          -14.475,
          -14.4
         ],
         "y": [
          3.2926095548272926e-8,
          4.187066177754778e-8
         ]
        },
        {
         "fill": "tozeroy",
         "fillcolor": "rgb(247,255,76)",
         "hoverinfo": "skip",
         "line": {
          "color": "rgba(0,0,0,0)"
         },
         "mode": "lines",
         "showlegend": false,
         "type": "scatter",
         "x": [
          -14.4,
          -14.325000000000001
         ],
         "y": [
          4.187066177754778e-8,
          5.101241848539226e-8
         ]
        },
        {
         "fill": "tozeroy",
         "fillcolor": "rgb(252,255,76)",
         "hoverinfo": "skip",
         "line": {
          "color": "rgba(0,0,0,0)"
         },
         "mode": "lines",
         "showlegend": false,
         "type": "scatter",
         "x": [
          -14.325,
          -14.25
         ],
         "y": [
          5.101241848539226e-8,
          6.015417519323673e-8
         ]
        },
        {
         "fill": "tozeroy",
         "fillcolor": "rgb(252,255,76)",
         "hoverinfo": "skip",
         "line": {
          "color": "rgba(0,0,0,0)"
         },
         "mode": "lines",
         "showlegend": false,
         "type": "scatter",
         "x": [
          -14.25,
          -14.175
         ],
         "y": [
          6.015417519323673e-8,
          7.608762611238638e-8
         ]
        },
        {
         "fill": "tozeroy",
         "fillcolor": "rgb(252,255,76)",
         "hoverinfo": "skip",
         "line": {
          "color": "rgba(0,0,0,0)"
         },
         "mode": "lines",
         "showlegend": false,
         "type": "scatter",
         "x": [
          -14.174999999999999,
          -14.1
         ],
         "y": [
          7.608762611238638e-8,
          9.202107703153603e-8
         ]
        },
        {
         "fill": "tozeroy",
         "fillcolor": "rgb(252,255,76)",
         "hoverinfo": "skip",
         "line": {
          "color": "rgba(0,0,0,0)"
         },
         "mode": "lines",
         "showlegend": false,
         "type": "scatter",
         "x": [
          -14.1,
          -14.025
         ],
         "y": [
          9.202107703153603e-8,
          1.1444470488458971e-7
         ]
        },
        {
         "fill": "tozeroy",
         "fillcolor": "rgb(252,255,76)",
         "hoverinfo": "skip",
         "line": {
          "color": "rgba(0,0,0,0)"
         },
         "mode": "lines",
         "showlegend": false,
         "type": "scatter",
         "x": [
          -14.024999999999999,
          -13.95
         ],
         "y": [
          1.1444470488458971e-7,
          1.368683327376434e-7
         ]
        },
        {
         "fill": "tozeroy",
         "fillcolor": "rgb(252,255,76)",
         "hoverinfo": "skip",
         "line": {
          "color": "rgba(0,0,0,0)"
         },
         "mode": "lines",
         "showlegend": false,
         "type": "scatter",
         "x": [
          -13.95,
          -13.875
         ],
         "y": [
          1.368683327376434e-7,
          1.6937241616480642e-7
         ]
        },
        {
         "fill": "tozeroy",
         "fillcolor": "rgb(252,255,76)",
         "hoverinfo": "skip",
         "line": {
          "color": "rgba(0,0,0,0)"
         },
         "mode": "lines",
         "showlegend": false,
         "type": "scatter",
         "x": [
          -13.875,
          -13.8
         ],
         "y": [
          1.6937241616480642e-7,
          2.0187649959196945e-7
         ]
        },
        {
         "fill": "tozeroy",
         "fillcolor": "rgb(252,255,76)",
         "hoverinfo": "skip",
         "line": {
          "color": "rgba(0,0,0,0)"
         },
         "mode": "lines",
         "showlegend": false,
         "type": "scatter",
         "x": [
          -13.8,
          -13.725000000000001
         ],
         "y": [
          2.0187649959196945e-7,
          2.4999320444148824e-7
         ]
        },
        {
         "fill": "tozeroy",
         "fillcolor": "rgb(252,255,76)",
         "hoverinfo": "skip",
         "line": {
          "color": "rgba(0,0,0,0)"
         },
         "mode": "lines",
         "showlegend": false,
         "type": "scatter",
         "x": [
          -13.725,
          -13.65
         ],
         "y": [
          2.4999320444148824e-7,
          2.9810990929100706e-7
         ]
        },
        {
         "fill": "tozeroy",
         "fillcolor": "rgb(252,255,76)",
         "hoverinfo": "skip",
         "line": {
          "color": "rgba(0,0,0,0)"
         },
         "mode": "lines",
         "showlegend": false,
         "type": "scatter",
         "x": [
          -13.65,
          -13.575000000000001
         ],
         "y": [
          2.9810990929100706e-7,
          3.678752383367503e-7
         ]
        },
        {
         "fill": "tozeroy",
         "fillcolor": "rgb(252,255,76)",
         "hoverinfo": "skip",
         "line": {
          "color": "rgba(0,0,0,0)"
         },
         "mode": "lines",
         "showlegend": false,
         "type": "scatter",
         "x": [
          -13.575,
          -13.5
         ],
         "y": [
          3.678752383367503e-7,
          4.376405673824936e-7
         ]
        },
        {
         "fill": "tozeroy",
         "fillcolor": "rgb(252,255,76)",
         "hoverinfo": "skip",
         "line": {
          "color": "rgba(0,0,0,0)"
         },
         "mode": "lines",
         "showlegend": false,
         "type": "scatter",
         "x": [
          -13.5,
          -13.425
         ],
         "y": [
          4.376405673824936e-7,
          5.382837917405568e-7
         ]
        },
        {
         "fill": "tozeroy",
         "fillcolor": "rgb(252,255,76)",
         "hoverinfo": "skip",
         "line": {
          "color": "rgba(0,0,0,0)"
         },
         "mode": "lines",
         "showlegend": false,
         "type": "scatter",
         "x": [
          -13.424999999999999,
          -13.35
         ],
         "y": [
          5.382837917405568e-7,
          6.3892701609862e-7
         ]
        },
        {
         "fill": "tozeroy",
         "fillcolor": "rgb(252,255,76)",
         "hoverinfo": "skip",
         "line": {
          "color": "rgba(0,0,0,0)"
         },
         "mode": "lines",
         "showlegend": false,
         "type": "scatter",
         "x": [
          -13.35,
          -13.275
         ],
         "y": [
          6.3892701609862e-7,
          7.84669757361345e-7
         ]
        },
        {
         "fill": "tozeroy",
         "fillcolor": "rgb(252,255,76)",
         "hoverinfo": "skip",
         "line": {
          "color": "rgba(0,0,0,0)"
         },
         "mode": "lines",
         "showlegend": false,
         "type": "scatter",
         "x": [
          -13.274999999999999,
          -13.2
         ],
         "y": [
          7.84669757361345e-7,
          9.304124986240699e-7
         ]
        },
        {
         "fill": "tozeroy",
         "fillcolor": "rgb(252,255,76)",
         "hoverinfo": "skip",
         "line": {
          "color": "rgba(0,0,0,0)"
         },
         "mode": "lines",
         "showlegend": false,
         "type": "scatter",
         "x": [
          -13.2,
          -13.125
         ],
         "y": [
          9.304124986240699e-7,
          0.0000011386606498763196
         ]
        },
        {
         "fill": "tozeroy",
         "fillcolor": "rgb(252,255,76)",
         "hoverinfo": "skip",
         "line": {
          "color": "rgba(0,0,0,0)"
         },
         "mode": "lines",
         "showlegend": false,
         "type": "scatter",
         "x": [
          -13.125,
          -13.05
         ],
         "y": [
          0.0000011386606498763196,
          0.0000013469088011285695
         ]
        },
        {
         "fill": "tozeroy",
         "fillcolor": "rgb(252,255,76)",
         "hoverinfo": "skip",
         "line": {
          "color": "rgba(0,0,0,0)"
         },
         "mode": "lines",
         "showlegend": false,
         "type": "scatter",
         "x": [
          -13.05,
          -12.975000000000001
         ],
         "y": [
          0.0000013469088011285695,
          0.0000016449301151859794
         ]
        },
        {
         "fill": "tozeroy",
         "fillcolor": "rgb(252,255,76)",
         "hoverinfo": "skip",
         "line": {
          "color": "rgba(0,0,0,0)"
         },
         "mode": "lines",
         "showlegend": false,
         "type": "scatter",
         "x": [
          -12.975,
          -12.9
         ],
         "y": [
          0.0000016449301151859794,
          0.0000019429514292433896
         ]
        },
        {
         "fill": "tozeroy",
         "fillcolor": "rgb(252,255,76)",
         "hoverinfo": "skip",
         "line": {
          "color": "rgba(0,0,0,0)"
         },
         "mode": "lines",
         "showlegend": false,
         "type": "scatter",
         "x": [
          -12.9,
          -12.825000000000001
         ],
         "y": [
          0.0000019429514292433896,
          0.0000023650892871031146
         ]
        },
        {
         "fill": "tozeroy",
         "fillcolor": "rgb(252,255,76)",
         "hoverinfo": "skip",
         "line": {
          "color": "rgba(0,0,0,0)"
         },
         "mode": "lines",
         "showlegend": false,
         "type": "scatter",
         "x": [
          -12.825,
          -12.75
         ],
         "y": [
          0.0000023650892871031146,
          0.00000278722714496284
         ]
        },
        {
         "fill": "tozeroy",
         "fillcolor": "rgb(252,255,76)",
         "hoverinfo": "skip",
         "line": {
          "color": "rgba(0,0,0,0)"
         },
         "mode": "lines",
         "showlegend": false,
         "type": "scatter",
         "x": [
          -12.75,
          -12.675
         ],
         "y": [
          0.00000278722714496284,
          0.0000033840928638781406
         ]
        },
        {
         "fill": "tozeroy",
         "fillcolor": "rgb(252,255,76)",
         "hoverinfo": "skip",
         "line": {
          "color": "rgba(0,0,0,0)"
         },
         "mode": "lines",
         "showlegend": false,
         "type": "scatter",
         "x": [
          -12.674999999999999,
          -12.6
         ],
         "y": [
          0.0000033840928638781406,
          0.000003980958582793441
         ]
        },
        {
         "fill": "tozeroy",
         "fillcolor": "rgb(252,255,76)",
         "hoverinfo": "skip",
         "line": {
          "color": "rgba(0,0,0,0)"
         },
         "mode": "lines",
         "showlegend": false,
         "type": "scatter",
         "x": [
          -12.6,
          -12.525
         ],
         "y": [
          0.000003980958582793441,
          0.000004819777030568245
         ]
        },
        {
         "fill": "tozeroy",
         "fillcolor": "rgb(252,255,76)",
         "hoverinfo": "skip",
         "line": {
          "color": "rgba(0,0,0,0)"
         },
         "mode": "lines",
         "showlegend": false,
         "type": "scatter",
         "x": [
          -12.524999999999999,
          -12.45
         ],
         "y": [
          0.000004819777030568245,
          0.000005658595478343048
         ]
        },
        {
         "fill": "tozeroy",
         "fillcolor": "rgb(252,255,76)",
         "hoverinfo": "skip",
         "line": {
          "color": "rgba(0,0,0,0)"
         },
         "mode": "lines",
         "showlegend": false,
         "type": "scatter",
         "x": [
          -12.45,
          -12.375
         ],
         "y": [
          0.000005658595478343048,
          0.000006831376513081794
         ]
        },
        {
         "fill": "tozeroy",
         "fillcolor": "rgb(252,255,76)",
         "hoverinfo": "skip",
         "line": {
          "color": "rgba(0,0,0,0)"
         },
         "mode": "lines",
         "showlegend": false,
         "type": "scatter",
         "x": [
          -12.375,
          -12.3
         ],
         "y": [
          0.000006831376513081794,
          0.00000800415754782054
         ]
        },
        {
         "fill": "tozeroy",
         "fillcolor": "rgb(252,255,76)",
         "hoverinfo": "skip",
         "line": {
          "color": "rgba(0,0,0,0)"
         },
         "mode": "lines",
         "showlegend": false,
         "type": "scatter",
         "x": [
          -12.3,
          -12.225000000000001
         ],
         "y": [
          0.00000800415754782054,
          0.000009636056172083714
         ]
        },
        {
         "fill": "tozeroy",
         "fillcolor": "rgb(252,255,76)",
         "hoverinfo": "skip",
         "line": {
          "color": "rgba(0,0,0,0)"
         },
         "mode": "lines",
         "showlegend": false,
         "type": "scatter",
         "x": [
          -12.225,
          -12.15
         ],
         "y": [
          0.000009636056172083714,
          0.000011267954796346887
         ]
        },
        {
         "fill": "tozeroy",
         "fillcolor": "rgb(252,255,76)",
         "hoverinfo": "skip",
         "line": {
          "color": "rgba(0,0,0,0)"
         },
         "mode": "lines",
         "showlegend": false,
         "type": "scatter",
         "x": [
          -12.15,
          -12.075000000000001
         ],
         "y": [
          0.000011267954796346887,
          0.000013527097257512725
         ]
        },
        {
         "fill": "tozeroy",
         "fillcolor": "rgb(252,255,76)",
         "hoverinfo": "skip",
         "line": {
          "color": "rgba(0,0,0,0)"
         },
         "mode": "lines",
         "showlegend": false,
         "type": "scatter",
         "x": [
          -12.075,
          -12
         ],
         "y": [
          0.000013527097257512725,
          0.000015786239718678563
         ]
        },
        {
         "fill": "tozeroy",
         "fillcolor": "rgb(252,255,76)",
         "hoverinfo": "skip",
         "line": {
          "color": "rgba(0,0,0,0)"
         },
         "mode": "lines",
         "showlegend": false,
         "type": "scatter",
         "x": [
          -12,
          -11.925
         ],
         "y": [
          0.000015786239718678563,
          0.000018898150798856896
         ]
        },
        {
         "fill": "tozeroy",
         "fillcolor": "rgb(252,255,76)",
         "hoverinfo": "skip",
         "line": {
          "color": "rgba(0,0,0,0)"
         },
         "mode": "lines",
         "showlegend": false,
         "type": "scatter",
         "x": [
          -11.924999999999999,
          -11.85
         ],
         "y": [
          0.000018898150798856896,
          0.000022010061879035225
         ]
        },
        {
         "fill": "tozeroy",
         "fillcolor": "rgb(252,255,76)",
         "hoverinfo": "skip",
         "line": {
          "color": "rgba(0,0,0,0)"
         },
         "mode": "lines",
         "showlegend": false,
         "type": "scatter",
         "x": [
          -11.85,
          -11.775
         ],
         "y": [
          0.000022010061879035225,
          0.000026274131977285233
         ]
        },
        {
         "fill": "tozeroy",
         "fillcolor": "rgb(252,255,76)",
         "hoverinfo": "skip",
         "line": {
          "color": "rgba(0,0,0,0)"
         },
         "mode": "lines",
         "showlegend": false,
         "type": "scatter",
         "x": [
          -11.774999999999999,
          -11.7
         ],
         "y": [
          0.000026274131977285233,
          0.000030538202075535244
         ]
        },
        {
         "fill": "tozeroy",
         "fillcolor": "rgb(252,255,76)",
         "hoverinfo": "skip",
         "line": {
          "color": "rgba(0,0,0,0)"
         },
         "mode": "lines",
         "showlegend": false,
         "type": "scatter",
         "x": [
          -11.7,
          -11.625
         ],
         "y": [
          0.000030538202075535244,
          0.0000363522343949096
         ]
        },
        {
         "fill": "tozeroy",
         "fillcolor": "rgb(252,255,76)",
         "hoverinfo": "skip",
         "line": {
          "color": "rgba(0,0,0,0)"
         },
         "mode": "lines",
         "showlegend": false,
         "type": "scatter",
         "x": [
          -11.625,
          -11.55
         ],
         "y": [
          0.0000363522343949096,
          0.00004216626671428396
         ]
        },
        {
         "fill": "tozeroy",
         "fillcolor": "rgb(252,255,76)",
         "hoverinfo": "skip",
         "line": {
          "color": "rgba(0,0,0,0)"
         },
         "mode": "lines",
         "showlegend": false,
         "type": "scatter",
         "x": [
          -11.55,
          -11.475000000000001
         ],
         "y": [
          0.00004216626671428396,
          0.00005005333352388549
         ]
        },
        {
         "fill": "tozeroy",
         "fillcolor": "rgb(252,255,76)",
         "hoverinfo": "skip",
         "line": {
          "color": "rgba(0,0,0,0)"
         },
         "mode": "lines",
         "showlegend": false,
         "type": "scatter",
         "x": [
          -11.475,
          -11.4
         ],
         "y": [
          0.00005005333352388549,
          0.00005794040033348701
         ]
        },
        {
         "fill": "tozeroy",
         "fillcolor": "rgb(252,255,76)",
         "hoverinfo": "skip",
         "line": {
          "color": "rgba(0,0,0,0)"
         },
         "mode": "lines",
         "showlegend": false,
         "type": "scatter",
         "x": [
          -11.4,
          -11.325000000000001
         ],
         "y": [
          0.00005794040033348701,
          0.00006858280097854105
         ]
        },
        {
         "fill": "tozeroy",
         "fillcolor": "rgb(252,255,76)",
         "hoverinfo": "skip",
         "line": {
          "color": "rgba(0,0,0,0)"
         },
         "mode": "lines",
         "showlegend": false,
         "type": "scatter",
         "x": [
          -11.325,
          -11.25
         ],
         "y": [
          0.00006858280097854105,
          0.00007922520162359509
         ]
        },
        {
         "fill": "tozeroy",
         "fillcolor": "rgb(252,255,76)",
         "hoverinfo": "skip",
         "line": {
          "color": "rgba(0,0,0,0)"
         },
         "mode": "lines",
         "showlegend": false,
         "type": "scatter",
         "x": [
          -11.25,
          -11.175
         ],
         "y": [
          0.00007922520162359509,
          0.00009351510515596453
         ]
        },
        {
         "fill": "tozeroy",
         "fillcolor": "rgb(252,255,76)",
         "hoverinfo": "skip",
         "line": {
          "color": "rgba(0,0,0,0)"
         },
         "mode": "lines",
         "showlegend": false,
         "type": "scatter",
         "x": [
          -11.174999999999999,
          -11.1
         ],
         "y": [
          0.00009351510515596453,
          0.00010780500868833398
         ]
        },
        {
         "fill": "tozeroy",
         "fillcolor": "rgb(252,255,76)",
         "hoverinfo": "skip",
         "line": {
          "color": "rgba(0,0,0,0)"
         },
         "mode": "lines",
         "showlegend": false,
         "type": "scatter",
         "x": [
          -11.1,
          -11.025
         ],
         "y": [
          0.00010780500868833398,
          0.00012689050710176867
         ]
        },
        {
         "fill": "tozeroy",
         "fillcolor": "rgb(252,255,76)",
         "hoverinfo": "skip",
         "line": {
          "color": "rgba(0,0,0,0)"
         },
         "mode": "lines",
         "showlegend": false,
         "type": "scatter",
         "x": [
          -11.024999999999999,
          -10.95
         ],
         "y": [
          0.00012689050710176867,
          0.0001459760055152034
         ]
        },
        {
         "fill": "tozeroy",
         "fillcolor": "rgb(252,255,76)",
         "hoverinfo": "skip",
         "line": {
          "color": "rgba(0,0,0,0)"
         },
         "mode": "lines",
         "showlegend": false,
         "type": "scatter",
         "x": [
          -10.95,
          -10.875
         ],
         "y": [
          0.0001459760055152034,
          0.0001713355057207873
         ]
        },
        {
         "fill": "tozeroy",
         "fillcolor": "rgb(252,255,76)",
         "hoverinfo": "skip",
         "line": {
          "color": "rgba(0,0,0,0)"
         },
         "mode": "lines",
         "showlegend": false,
         "type": "scatter",
         "x": [
          -10.875,
          -10.8
         ],
         "y": [
          0.0001713355057207873,
          0.00019669500592637122
         ]
        },
        {
         "fill": "tozeroy",
         "fillcolor": "rgb(252,255,76)",
         "hoverinfo": "skip",
         "line": {
          "color": "rgba(0,0,0,0)"
         },
         "mode": "lines",
         "showlegend": false,
         "type": "scatter",
         "x": [
          -10.8,
          -10.725000000000001
         ],
         "y": [
          0.00019669500592637122,
          0.00023021590837249883
         ]
        },
        {
         "fill": "tozeroy",
         "fillcolor": "rgb(252,255,76)",
         "hoverinfo": "skip",
         "line": {
          "color": "rgba(0,0,0,0)"
         },
         "mode": "lines",
         "showlegend": false,
         "type": "scatter",
         "x": [
          -10.725,
          -10.65
         ],
         "y": [
          0.00023021590837249883,
          0.00026373681081862647
         ]
        },
        {
         "fill": "tozeroy",
         "fillcolor": "rgb(252,255,76)",
         "hoverinfo": "skip",
         "line": {
          "color": "rgba(0,0,0,0)"
         },
         "mode": "lines",
         "showlegend": false,
         "type": "scatter",
         "x": [
          -10.65,
          -10.575000000000001
         ],
         "y": [
          0.00026373681081862647,
          0.0003078132771226044
         ]
        },
        {
         "fill": "tozeroy",
         "fillcolor": "rgb(252,255,76)",
         "hoverinfo": "skip",
         "line": {
          "color": "rgba(0,0,0,0)"
         },
         "mode": "lines",
         "showlegend": false,
         "type": "scatter",
         "x": [
          -10.575,
          -10.5
         ],
         "y": [
          0.0003078132771226044,
          0.00035188974342658237
         ]
        },
        {
         "fill": "tozeroy",
         "fillcolor": "rgb(252,255,76)",
         "hoverinfo": "skip",
         "line": {
          "color": "rgba(0,0,0,0)"
         },
         "mode": "lines",
         "showlegend": false,
         "type": "scatter",
         "x": [
          -10.5,
          -10.425
         ],
         "y": [
          0.00035188974342658237,
          0.0004095408037253821
         ]
        },
        {
         "fill": "tozeroy",
         "fillcolor": "rgb(252,255,76)",
         "hoverinfo": "skip",
         "line": {
          "color": "rgba(0,0,0,0)"
         },
         "mode": "lines",
         "showlegend": false,
         "type": "scatter",
         "x": [
          -10.425,
          -10.350000000000001
         ],
         "y": [
          0.0004095408037253821,
          0.00046719186402418184
         ]
        },
        {
         "fill": "tozeroy",
         "fillcolor": "rgb(252,255,76)",
         "hoverinfo": "skip",
         "line": {
          "color": "rgba(0,0,0,0)"
         },
         "mode": "lines",
         "showlegend": false,
         "type": "scatter",
         "x": [
          -10.350000000000001,
          -10.275000000000002
         ],
         "y": [
          0.00046719186402418184,
          0.0005422008595639165
         ]
        },
        {
         "fill": "tozeroy",
         "fillcolor": "rgb(252,255,76)",
         "hoverinfo": "skip",
         "line": {
          "color": "rgba(0,0,0,0)"
         },
         "mode": "lines",
         "showlegend": false,
         "type": "scatter",
         "x": [
          -10.274999999999999,
          -10.2
         ],
         "y": [
          0.0005422008595639165,
          0.0006172098551036512
         ]
        },
        {
         "fill": "tozeroy",
         "fillcolor": "rgb(252,255,76)",
         "hoverinfo": "skip",
         "line": {
          "color": "rgba(0,0,0,0)"
         },
         "mode": "lines",
         "showlegend": false,
         "type": "scatter",
         "x": [
          -10.2,
          -10.125
         ],
         "y": [
          0.0006172098551036512,
          0.000714281180430639
         ]
        },
        {
         "fill": "tozeroy",
         "fillcolor": "rgb(252,255,76)",
         "hoverinfo": "skip",
         "line": {
          "color": "rgba(0,0,0,0)"
         },
         "mode": "lines",
         "showlegend": false,
         "type": "scatter",
         "x": [
          -10.125,
          -10.05
         ],
         "y": [
          0.000714281180430639,
          0.0008113525057576266
         ]
        },
        {
         "fill": "tozeroy",
         "fillcolor": "rgb(252,255,76)",
         "hoverinfo": "skip",
         "line": {
          "color": "rgba(0,0,0,0)"
         },
         "mode": "lines",
         "showlegend": false,
         "type": "scatter",
         "x": [
          -10.05,
          -9.975000000000001
         ],
         "y": [
          0.0008113525057576266,
          0.0009363090802456209
         ]
        },
        {
         "fill": "tozeroy",
         "fillcolor": "rgb(252,255,76)",
         "hoverinfo": "skip",
         "line": {
          "color": "rgba(0,0,0,0)"
         },
         "mode": "lines",
         "showlegend": false,
         "type": "scatter",
         "x": [
          -9.975,
          -9.9
         ],
         "y": [
          0.0009363090802456209,
          0.001061265654733615
         ]
        },
        {
         "fill": "tozeroy",
         "fillcolor": "rgb(252,255,76)",
         "hoverinfo": "skip",
         "line": {
          "color": "rgba(0,0,0,0)"
         },
         "mode": "lines",
         "showlegend": false,
         "type": "scatter",
         "x": [
          -9.9,
          -9.825000000000001
         ],
         "y": [
          0.001061265654733615,
          0.0012212454435876399
         ]
        },
        {
         "fill": "tozeroy",
         "fillcolor": "rgb(252,255,76)",
         "hoverinfo": "skip",
         "line": {
          "color": "rgba(0,0,0,0)"
         },
         "mode": "lines",
         "showlegend": false,
         "type": "scatter",
         "x": [
          -9.825,
          -9.75
         ],
         "y": [
          0.0012212454435876399,
          0.0013812252324416647
         ]
        },
        {
         "fill": "tozeroy",
         "fillcolor": "rgb(252,255,76)",
         "hoverinfo": "skip",
         "line": {
          "color": "rgba(0,0,0,0)"
         },
         "mode": "lines",
         "showlegend": false,
         "type": "scatter",
         "x": [
          -9.75,
          -9.675
         ],
         "y": [
          0.0013812252324416647,
          0.0015849411741158377
         ]
        },
        {
         "fill": "tozeroy",
         "fillcolor": "rgb(252,255,76)",
         "hoverinfo": "skip",
         "line": {
          "color": "rgba(0,0,0,0)"
         },
         "mode": "lines",
         "showlegend": false,
         "type": "scatter",
         "x": [
          -9.675,
          -9.600000000000001
         ],
         "y": [
          0.0015849411741158377,
          0.0017886571157900107
         ]
        },
        {
         "fill": "tozeroy",
         "fillcolor": "rgb(252,255,76)",
         "hoverinfo": "skip",
         "line": {
          "color": "rgba(0,0,0,0)"
         },
         "mode": "lines",
         "showlegend": false,
         "type": "scatter",
         "x": [
          -9.600000000000001,
          -9.525000000000002
         ],
         "y": [
          0.0017886571157900107,
          0.002046647492309455
         ]
        },
        {
         "fill": "tozeroy",
         "fillcolor": "rgb(252,255,76)",
         "hoverinfo": "skip",
         "line": {
          "color": "rgba(0,0,0,0)"
         },
         "mode": "lines",
         "showlegend": false,
         "type": "scatter",
         "x": [
          -9.524999999999999,
          -9.45
         ],
         "y": [
          0.002046647492309455,
          0.0023046378688288995
         ]
        },
        {
         "fill": "tozeroy",
         "fillcolor": "rgb(252,255,76)",
         "hoverinfo": "skip",
         "line": {
          "color": "rgba(0,0,0,0)"
         },
         "mode": "lines",
         "showlegend": false,
         "type": "scatter",
         "x": [
          -9.45,
          -9.375
         ],
         "y": [
          0.0023046378688288995,
          0.0026295687255995653
         ]
        },
        {
         "fill": "tozeroy",
         "fillcolor": "rgb(252,255,76)",
         "hoverinfo": "skip",
         "line": {
          "color": "rgba(0,0,0,0)"
         },
         "mode": "lines",
         "showlegend": false,
         "type": "scatter",
         "x": [
          -9.375,
          -9.3
         ],
         "y": [
          0.0026295687255995653,
          0.0029544995823702312
         ]
        },
        {
         "fill": "tozeroy",
         "fillcolor": "rgb(252,255,76)",
         "hoverinfo": "skip",
         "line": {
          "color": "rgba(0,0,0,0)"
         },
         "mode": "lines",
         "showlegend": false,
         "type": "scatter",
         "x": [
          -9.3,
          -9.225000000000001
         ],
         "y": [
          0.0029544995823702312,
          0.0033614720946863455
         ]
        },
        {
         "fill": "tozeroy",
         "fillcolor": "rgb(252,255,76)",
         "hoverinfo": "skip",
         "line": {
          "color": "rgba(0,0,0,0)"
         },
         "mode": "lines",
         "showlegend": false,
         "type": "scatter",
         "x": [
          -9.225,
          -9.15
         ],
         "y": [
          0.0033614720946863455,
          0.0037684446070024593
         ]
        },
        {
         "fill": "tozeroy",
         "fillcolor": "rgb(252,255,76)",
         "hoverinfo": "skip",
         "line": {
          "color": "rgba(0,0,0,0)"
         },
         "mode": "lines",
         "showlegend": false,
         "type": "scatter",
         "x": [
          -9.15,
          -9.075000000000001
         ],
         "y": [
          0.0037684446070024593,
          0.004275327698752924
         ]
        },
        {
         "fill": "tozeroy",
         "fillcolor": "rgb(252,255,76)",
         "hoverinfo": "skip",
         "line": {
          "color": "rgba(0,0,0,0)"
         },
         "mode": "lines",
         "showlegend": false,
         "type": "scatter",
         "x": [
          -9.075,
          -9
         ],
         "y": [
          0.004275327698752924,
          0.004782210790503389
         ]
        },
        {
         "fill": "tozeroy",
         "fillcolor": "rgb(252,255,76)",
         "hoverinfo": "skip",
         "line": {
          "color": "rgba(0,0,0,0)"
         },
         "mode": "lines",
         "showlegend": false,
         "type": "scatter",
         "x": [
          -9,
          -8.925
         ],
         "y": [
          0.004782210790503389,
          0.005409973829838386
         ]
        },
        {
         "fill": "tozeroy",
         "fillcolor": "rgb(252,255,76)",
         "hoverinfo": "skip",
         "line": {
          "color": "rgba(0,0,0,0)"
         },
         "mode": "lines",
         "showlegend": false,
         "type": "scatter",
         "x": [
          -8.925,
          -8.850000000000001
         ],
         "y": [
          0.005409973829838386,
          0.006037736869173382
         ]
        },
        {
         "fill": "tozeroy",
         "fillcolor": "rgb(252,255,76)",
         "hoverinfo": "skip",
         "line": {
          "color": "rgba(0,0,0,0)"
         },
         "mode": "lines",
         "showlegend": false,
         "type": "scatter",
         "x": [
          -8.850000000000001,
          -8.775000000000002
         ],
         "y": [
          0.006037736869173382,
          0.006810785217232929
         ]
        },
        {
         "fill": "tozeroy",
         "fillcolor": "rgb(252,255,76)",
         "hoverinfo": "skip",
         "line": {
          "color": "rgba(0,0,0,0)"
         },
         "mode": "lines",
         "showlegend": false,
         "type": "scatter",
         "x": [
          -8.774999999999999,
          -8.7
         ],
         "y": [
          0.006810785217232929,
          0.007583833565292478
         ]
        },
        {
         "fill": "tozeroy",
         "fillcolor": "rgb(252,255,76)",
         "hoverinfo": "skip",
         "line": {
          "color": "rgba(0,0,0,0)"
         },
         "mode": "lines",
         "showlegend": false,
         "type": "scatter",
         "x": [
          -8.7,
          -8.625
         ],
         "y": [
          0.007583833565292478,
          0.008530320119693405
         ]
        },
        {
         "fill": "tozeroy",
         "fillcolor": "rgb(252,255,76)",
         "hoverinfo": "skip",
         "line": {
          "color": "rgba(0,0,0,0)"
         },
         "mode": "lines",
         "showlegend": false,
         "type": "scatter",
         "x": [
          -8.625,
          -8.55
         ],
         "y": [
          0.008530320119693405,
          0.009476806674094332
         ]
        },
        {
         "fill": "tozeroy",
         "fillcolor": "rgb(252,255,76)",
         "hoverinfo": "skip",
         "line": {
          "color": "rgba(0,0,0,0)"
         },
         "mode": "lines",
         "showlegend": false,
         "type": "scatter",
         "x": [
          -8.55,
          -8.475000000000001
         ],
         "y": [
          0.009476806674094332,
          0.010628911296908215
         ]
        },
        {
         "fill": "tozeroy",
         "fillcolor": "rgb(252,255,76)",
         "hoverinfo": "skip",
         "line": {
          "color": "rgba(0,0,0,0)"
         },
         "mode": "lines",
         "showlegend": false,
         "type": "scatter",
         "x": [
          -8.475,
          -8.4
         ],
         "y": [
          0.010628911296908215,
          0.0117810159197221
         ]
        },
        {
         "fill": "tozeroy",
         "fillcolor": "rgb(252,255,76)",
         "hoverinfo": "skip",
         "line": {
          "color": "rgba(0,0,0,0)"
         },
         "mode": "lines",
         "showlegend": false,
         "type": "scatter",
         "x": [
          -8.4,
          -8.325000000000001
         ],
         "y": [
          0.0117810159197221,
          0.01317516832001088
         ]
        },
        {
         "fill": "tozeroy",
         "fillcolor": "rgb(252,255,76)",
         "hoverinfo": "skip",
         "line": {
          "color": "rgba(0,0,0,0)"
         },
         "mode": "lines",
         "showlegend": false,
         "type": "scatter",
         "x": [
          -8.325,
          -8.25
         ],
         "y": [
          0.01317516832001088,
          0.014569320720299659
         ]
        },
        {
         "fill": "tozeroy",
         "fillcolor": "rgb(252,255,76)",
         "hoverinfo": "skip",
         "line": {
          "color": "rgba(0,0,0,0)"
         },
         "mode": "lines",
         "showlegend": false,
         "type": "scatter",
         "x": [
          -8.25,
          -8.175
         ],
         "y": [
          0.014569320720299659,
          0.01624633265396357
         ]
        },
        {
         "fill": "tozeroy",
         "fillcolor": "rgb(252,255,76)",
         "hoverinfo": "skip",
         "line": {
          "color": "rgba(0,0,0,0)"
         },
         "mode": "lines",
         "showlegend": false,
         "type": "scatter",
         "x": [
          -8.175,
          -8.100000000000001
         ],
         "y": [
          0.01624633265396357,
          0.017923344587627482
         ]
        },
        {
         "fill": "tozeroy",
         "fillcolor": "rgb(252,255,76)",
         "hoverinfo": "skip",
         "line": {
          "color": "rgba(0,0,0,0)"
         },
         "mode": "lines",
         "showlegend": false,
         "type": "scatter",
         "x": [
          -8.100000000000001,
          -8.025000000000002
         ],
         "y": [
          0.017923344587627482,
          0.0199284415038965
         ]
        },
        {
         "fill": "tozeroy",
         "fillcolor": "rgb(252,255,76)",
         "hoverinfo": "skip",
         "line": {
          "color": "rgba(0,0,0,0)"
         },
         "mode": "lines",
         "showlegend": false,
         "type": "scatter",
         "x": [
          -8.025,
          -7.95
         ],
         "y": [
          0.0199284415038965,
          0.021933538420165516
         ]
        },
        {
         "fill": "tozeroy",
         "fillcolor": "rgb(252,255,76)",
         "hoverinfo": "skip",
         "line": {
          "color": "rgba(0,0,0,0)"
         },
         "mode": "lines",
         "showlegend": false,
         "type": "scatter",
         "x": [
          -7.95,
          -7.875
         ],
         "y": [
          0.021933538420165516,
          0.02431623981740963
         ]
        },
        {
         "fill": "tozeroy",
         "fillcolor": "rgb(252,255,76)",
         "hoverinfo": "skip",
         "line": {
          "color": "rgba(0,0,0,0)"
         },
         "mode": "lines",
         "showlegend": false,
         "type": "scatter",
         "x": [
          -7.875000000000001,
          -7.800000000000001
         ],
         "y": [
          0.02431623981740963,
          0.02669894121465374
         ]
        },
        {
         "fill": "tozeroy",
         "fillcolor": "rgb(252,255,76)",
         "hoverinfo": "skip",
         "line": {
          "color": "rgba(0,0,0,0)"
         },
         "mode": "lines",
         "showlegend": false,
         "type": "scatter",
         "x": [
          -7.800000000000001,
          -7.7250000000000005
         ],
         "y": [
          0.02669894121465374,
          0.02951276410946152
         ]
        },
        {
         "fill": "tozeroy",
         "fillcolor": "rgb(252,255,76)",
         "hoverinfo": "skip",
         "line": {
          "color": "rgba(0,0,0,0)"
         },
         "mode": "lines",
         "showlegend": false,
         "type": "scatter",
         "x": [
          -7.7250000000000005,
          -7.65
         ],
         "y": [
          0.02951276410946152,
          0.0323265870042693
         ]
        },
        {
         "fill": "tozeroy",
         "fillcolor": "rgb(252,255,76)",
         "hoverinfo": "skip",
         "line": {
          "color": "rgba(0,0,0,0)"
         },
         "mode": "lines",
         "showlegend": false,
         "type": "scatter",
         "x": [
          -7.65,
          -7.575
         ],
         "y": [
          0.0323265870042693,
          0.03562854189235182
         ]
        },
        {
         "fill": "tozeroy",
         "fillcolor": "rgb(252,255,76)",
         "hoverinfo": "skip",
         "line": {
          "color": "rgba(0,0,0,0)"
         },
         "mode": "lines",
         "showlegend": false,
         "type": "scatter",
         "x": [
          -7.575,
          -7.5
         ],
         "y": [
          0.03562854189235182,
          0.038930496780434344
         ]
        },
        {
         "fill": "tozeroy",
         "fillcolor": "rgb(252,255,76)",
         "hoverinfo": "skip",
         "line": {
          "color": "rgba(0,0,0,0)"
         },
         "mode": "lines",
         "showlegend": false,
         "type": "scatter",
         "x": [
          -7.5,
          -7.425
         ],
         "y": [
          0.038930496780434344,
          0.04278032663400829
         ]
        },
        {
         "fill": "tozeroy",
         "fillcolor": "rgb(252,255,76)",
         "hoverinfo": "skip",
         "line": {
          "color": "rgba(0,0,0,0)"
         },
         "mode": "lines",
         "showlegend": false,
         "type": "scatter",
         "x": [
          -7.425000000000001,
          -7.3500000000000005
         ],
         "y": [
          0.04278032663400829,
          0.04663015648758224
         ]
        },
        {
         "fill": "tozeroy",
         "fillcolor": "rgb(252,255,76)",
         "hoverinfo": "skip",
         "line": {
          "color": "rgba(0,0,0,0)"
         },
         "mode": "lines",
         "showlegend": false,
         "type": "scatter",
         "x": [
          -7.3500000000000005,
          -7.275
         ],
         "y": [
          0.04663015648758224,
          0.05108930777652784
         ]
        },
        {
         "fill": "tozeroy",
         "fillcolor": "rgb(252,255,76)",
         "hoverinfo": "skip",
         "line": {
          "color": "rgba(0,0,0,0)"
         },
         "mode": "lines",
         "showlegend": false,
         "type": "scatter",
         "x": [
          -7.275,
          -7.2
         ],
         "y": [
          0.05108930777652784,
          0.055548459065473454
         ]
        },
        {
         "fill": "tozeroy",
         "fillcolor": "rgb(252,255,76)",
         "hoverinfo": "skip",
         "line": {
          "color": "rgba(0,0,0,0)"
         },
         "mode": "lines",
         "showlegend": false,
         "type": "scatter",
         "x": [
          -7.2,
          -7.125
         ],
         "y": [
          0.055548459065473454,
          0.06067872822043864
         ]
        },
        {
         "fill": "tozeroy",
         "fillcolor": "rgb(252,255,76)",
         "hoverinfo": "skip",
         "line": {
          "color": "rgba(0,0,0,0)"
         },
         "mode": "lines",
         "showlegend": false,
         "type": "scatter",
         "x": [
          -7.125000000000001,
          -7.050000000000001
         ],
         "y": [
          0.06067872822043864,
          0.06580899737540383
         ]
        },
        {
         "fill": "tozeroy",
         "fillcolor": "rgb(252,255,76)",
         "hoverinfo": "skip",
         "line": {
          "color": "rgba(0,0,0,0)"
         },
         "mode": "lines",
         "showlegend": false,
         "type": "scatter",
         "x": [
          -7.050000000000001,
          -6.9750000000000005
         ],
         "y": [
          0.06580899737540383,
          0.07167086133929307
         ]
        },
        {
         "fill": "tozeroy",
         "fillcolor": "rgb(252,255,76)",
         "hoverinfo": "skip",
         "line": {
          "color": "rgba(0,0,0,0)"
         },
         "mode": "lines",
         "showlegend": false,
         "type": "scatter",
         "x": [
          -6.9750000000000005,
          -6.9
         ],
         "y": [
          0.07167086133929307,
          0.07753272530318232
         ]
        },
        {
         "fill": "tozeroy",
         "fillcolor": "rgb(252,255,76)",
         "hoverinfo": "skip",
         "line": {
          "color": "rgba(0,0,0,0)"
         },
         "mode": "lines",
         "showlegend": false,
         "type": "scatter",
         "x": [
          -6.9,
          -6.825
         ],
         "y": [
          0.07753272530318232,
          0.08418331602319727
         ]
        },
        {
         "fill": "tozeroy",
         "fillcolor": "rgb(252,255,76)",
         "hoverinfo": "skip",
         "line": {
          "color": "rgba(0,0,0,0)"
         },
         "mode": "lines",
         "showlegend": false,
         "type": "scatter",
         "x": [
          -6.825,
          -6.75
         ],
         "y": [
          0.08418331602319727,
          0.09083390674321222
         ]
        },
        {
         "fill": "tozeroy",
         "fillcolor": "rgb(252,255,76)",
         "hoverinfo": "skip",
         "line": {
          "color": "rgba(0,0,0,0)"
         },
         "mode": "lines",
         "showlegend": false,
         "type": "scatter",
         "x": [
          -6.75,
          -6.675
         ],
         "y": [
          0.09083390674321222,
          0.09832465262659922
         ]
        },
        {
         "fill": "tozeroy",
         "fillcolor": "rgb(252,255,76)",
         "hoverinfo": "skip",
         "line": {
          "color": "rgba(0,0,0,0)"
         },
         "mode": "lines",
         "showlegend": false,
         "type": "scatter",
         "x": [
          -6.675,
          -6.6
         ],
         "y": [
          0.09832465262659922,
          0.10581539850998621
         ]
        },
        {
         "fill": "tozeroy",
         "fillcolor": "rgb(252,255,76)",
         "hoverinfo": "skip",
         "line": {
          "color": "rgba(0,0,0,0)"
         },
         "mode": "lines",
         "showlegend": false,
         "type": "scatter",
         "x": [
          -6.6,
          -6.5249999999999995
         ],
         "y": [
          0.10581539850998621,
          0.11418933008483043
         ]
        },
        {
         "fill": "tozeroy",
         "fillcolor": "rgb(252,255,76)",
         "hoverinfo": "skip",
         "line": {
          "color": "rgba(0,0,0,0)"
         },
         "mode": "lines",
         "showlegend": false,
         "type": "scatter",
         "x": [
          -6.525000000000001,
          -6.450000000000001
         ],
         "y": [
          0.11418933008483043,
          0.12256326165967464
         ]
        },
        {
         "fill": "tozeroy",
         "fillcolor": "rgb(252,255,76)",
         "hoverinfo": "skip",
         "line": {
          "color": "rgba(0,0,0,0)"
         },
         "mode": "lines",
         "showlegend": false,
         "type": "scatter",
         "x": [
          -6.450000000000001,
          -6.375000000000001
         ],
         "y": [
          0.12256326165967464,
          0.13185202701645288
         ]
        },
        {
         "fill": "tozeroy",
         "fillcolor": "rgb(252,255,76)",
         "hoverinfo": "skip",
         "line": {
          "color": "rgba(0,0,0,0)"
         },
         "mode": "lines",
         "showlegend": false,
         "type": "scatter",
         "x": [
          -6.375000000000001,
          -6.300000000000001
         ],
         "y": [
          0.13185202701645288,
          0.14114079237323113
         ]
        },
        {
         "fill": "tozeroy",
         "fillcolor": "rgb(252,255,76)",
         "hoverinfo": "skip",
         "line": {
          "color": "rgba(0,0,0,0)"
         },
         "mode": "lines",
         "showlegend": false,
         "type": "scatter",
         "x": [
          -6.300000000000001,
          -6.2250000000000005
         ],
         "y": [
          0.14114079237323113,
          0.1513614315743652
         ]
        },
        {
         "fill": "tozeroy",
         "fillcolor": "rgb(252,255,76)",
         "hoverinfo": "skip",
         "line": {
          "color": "rgba(0,0,0,0)"
         },
         "mode": "lines",
         "showlegend": false,
         "type": "scatter",
         "x": [
          -6.2250000000000005,
          -6.15
         ],
         "y": [
          0.1513614315743652,
          0.1615820707754993
         ]
        },
        {
         "fill": "tozeroy",
         "fillcolor": "rgb(252,255,76)",
         "hoverinfo": "skip",
         "line": {
          "color": "rgba(0,0,0,0)"
         },
         "mode": "lines",
         "showlegend": false,
         "type": "scatter",
         "x": [
          -6.15,
          -6.075
         ],
         "y": [
          0.1615820707754993,
          0.17273362484922922
         ]
        },
        {
         "fill": "tozeroy",
         "fillcolor": "rgb(252,255,76)",
         "hoverinfo": "skip",
         "line": {
          "color": "rgba(0,0,0,0)"
         },
         "mode": "lines",
         "showlegend": false,
         "type": "scatter",
         "x": [
          -6.075,
          -6
         ],
         "y": [
          0.17273362484922922,
          0.18388517892295916
         ]
        },
        {
         "fill": "tozeroy",
         "fillcolor": "rgb(252,255,76)",
         "hoverinfo": "skip",
         "line": {
          "color": "rgba(0,0,0,0)"
         },
         "mode": "lines",
         "showlegend": false,
         "type": "scatter",
         "x": [
          -6,
          -5.925
         ],
         "y": [
          0.18388517892295916,
          0.19594523251526663
         ]
        },
        {
         "fill": "tozeroy",
         "fillcolor": "rgb(252,255,76)",
         "hoverinfo": "skip",
         "line": {
          "color": "rgba(0,0,0,0)"
         },
         "mode": "lines",
         "showlegend": false,
         "type": "scatter",
         "x": [
          -5.925,
          -5.85
         ],
         "y": [
          0.19594523251526663,
          0.20800528610757407
         ]
        },
        {
         "fill": "tozeroy",
         "fillcolor": "rgb(252,255,76)",
         "hoverinfo": "skip",
         "line": {
          "color": "rgba(0,0,0,0)"
         },
         "mode": "lines",
         "showlegend": false,
         "type": "scatter",
         "x": [
          -5.85,
          -5.7749999999999995
         ],
         "y": [
          0.20800528610757407,
          0.22092656804680622
         ]
        },
        {
         "fill": "tozeroy",
         "fillcolor": "rgb(252,255,76)",
         "hoverinfo": "skip",
         "line": {
          "color": "rgba(0,0,0,0)"
         },
         "mode": "lines",
         "showlegend": false,
         "type": "scatter",
         "x": [
          -5.775000000000001,
          -5.700000000000001
         ],
         "y": [
          0.22092656804680622,
          0.23384784998603833
         ]
        },
        {
         "fill": "tozeroy",
         "fillcolor": "rgb(252,255,76)",
         "hoverinfo": "skip",
         "line": {
          "color": "rgba(0,0,0,0)"
         },
         "mode": "lines",
         "showlegend": false,
         "type": "scatter",
         "x": [
          -5.700000000000001,
          -5.625000000000001
         ],
         "y": [
          0.23384784998603833,
          0.24755503451608596
         ]
        },
        {
         "fill": "tozeroy",
         "fillcolor": "rgb(252,255,76)",
         "hoverinfo": "skip",
         "line": {
          "color": "rgba(0,0,0,0)"
         },
         "mode": "lines",
         "showlegend": false,
         "type": "scatter",
         "x": [
          -5.625000000000001,
          -5.550000000000001
         ],
         "y": [
          0.24755503451608596,
          0.26126221904613356
         ]
        },
        {
         "fill": "tozeroy",
         "fillcolor": "rgb(252,255,76)",
         "hoverinfo": "skip",
         "line": {
          "color": "rgba(0,0,0,0)"
         },
         "mode": "lines",
         "showlegend": false,
         "type": "scatter",
         "x": [
          -5.550000000000001,
          -5.4750000000000005
         ],
         "y": [
          0.26126221904613356,
          0.2756490868561996
         ]
        },
        {
         "fill": "tozeroy",
         "fillcolor": "rgb(252,255,76)",
         "hoverinfo": "skip",
         "line": {
          "color": "rgba(0,0,0,0)"
         },
         "mode": "lines",
         "showlegend": false,
         "type": "scatter",
         "x": [
          -5.4750000000000005,
          -5.4
         ],
         "y": [
          0.2756490868561996,
          0.29003595466626564
         ]
        },
        {
         "fill": "tozeroy",
         "fillcolor": "rgb(252,255,76)",
         "hoverinfo": "skip",
         "line": {
          "color": "rgba(0,0,0,0)"
         },
         "mode": "lines",
         "showlegend": false,
         "type": "scatter",
         "x": [
          -5.4,
          -5.325
         ],
         "y": [
          0.29003595466626564,
          0.30496309827889745
         ]
        },
        {
         "fill": "tozeroy",
         "fillcolor": "rgb(252,255,76)",
         "hoverinfo": "skip",
         "line": {
          "color": "rgba(0,0,0,0)"
         },
         "mode": "lines",
         "showlegend": false,
         "type": "scatter",
         "x": [
          -5.325,
          -5.25
         ],
         "y": [
          0.30496309827889745,
          0.3198902418915293
         ]
        },
        {
         "fill": "tozeroy",
         "fillcolor": "rgb(252,255,76)",
         "hoverinfo": "skip",
         "line": {
          "color": "rgba(0,0,0,0)"
         },
         "mode": "lines",
         "showlegend": false,
         "type": "scatter",
         "x": [
          -5.25,
          -5.175
         ],
         "y": [
          0.3198902418915293,
          0.33518349186416274
         ]
        },
        {
         "fill": "tozeroy",
         "fillcolor": "rgb(252,255,76)",
         "hoverinfo": "skip",
         "line": {
          "color": "rgba(0,0,0,0)"
         },
         "mode": "lines",
         "showlegend": false,
         "type": "scatter",
         "x": [
          -5.175,
          -5.1
         ],
         "y": [
          0.33518349186416274,
          0.3504767418367961
         ]
        },
        {
         "fill": "tozeroy",
         "fillcolor": "rgb(252,255,76)",
         "hoverinfo": "skip",
         "line": {
          "color": "rgba(0,0,0,0)"
         },
         "mode": "lines",
         "showlegend": false,
         "type": "scatter",
         "x": [
          -5.1,
          -5.0249999999999995
         ],
         "y": [
          0.3504767418367961,
          0.36592651027166456
         ]
        },
        {
         "fill": "tozeroy",
         "fillcolor": "rgb(252,255,76)",
         "hoverinfo": "skip",
         "line": {
          "color": "rgba(0,0,0,0)"
         },
         "mode": "lines",
         "showlegend": false,
         "type": "scatter",
         "x": [
          -5.025000000000001,
          -4.950000000000001
         ],
         "y": [
          0.36592651027166456,
          0.381376278706533
         ]
        },
        {
         "fill": "tozeroy",
         "fillcolor": "rgb(252,255,76)",
         "hoverinfo": "skip",
         "line": {
          "color": "rgba(0,0,0,0)"
         },
         "mode": "lines",
         "showlegend": false,
         "type": "scatter",
         "x": [
          -4.950000000000001,
          -4.875000000000001
         ],
         "y": [
          0.381376278706533,
          0.39673798801193993
         ]
        },
        {
         "fill": "tozeroy",
         "fillcolor": "rgb(252,255,76)",
         "hoverinfo": "skip",
         "line": {
          "color": "rgba(0,0,0,0)"
         },
         "mode": "lines",
         "showlegend": false,
         "type": "scatter",
         "x": [
          -4.875000000000001,
          -4.800000000000001
         ],
         "y": [
          0.39673798801193993,
          0.4120996973173469
         ]
        },
        {
         "fill": "tozeroy",
         "fillcolor": "rgb(252,255,76)",
         "hoverinfo": "skip",
         "line": {
          "color": "rgba(0,0,0,0)"
         },
         "mode": "lines",
         "showlegend": false,
         "type": "scatter",
         "x": [
          -4.800000000000001,
          -4.7250000000000005
         ],
         "y": [
          0.4120996973173469,
          0.4270954685671109
         ]
        },
        {
         "fill": "tozeroy",
         "fillcolor": "rgb(252,255,76)",
         "hoverinfo": "skip",
         "line": {
          "color": "rgba(0,0,0,0)"
         },
         "mode": "lines",
         "showlegend": false,
         "type": "scatter",
         "x": [
          -4.7250000000000005,
          -4.65
         ],
         "y": [
          0.4270954685671109,
          0.4420912398168748
         ]
        },
        {
         "fill": "tozeroy",
         "fillcolor": "rgb(252,255,76)",
         "hoverinfo": "skip",
         "line": {
          "color": "rgba(0,0,0,0)"
         },
         "mode": "lines",
         "showlegend": false,
         "type": "scatter",
         "x": [
          -4.65,
          -4.575
         ],
         "y": [
          0.4420912398168748,
          0.4564129544051233
         ]
        },
        {
         "fill": "tozeroy",
         "fillcolor": "rgb(252,255,76)",
         "hoverinfo": "skip",
         "line": {
          "color": "rgba(0,0,0,0)"
         },
         "mode": "lines",
         "showlegend": false,
         "type": "scatter",
         "x": [
          -4.575,
          -4.5
         ],
         "y": [
          0.4564129544051233,
          0.47073466899337174
         ]
        },
        {
         "fill": "tozeroy",
         "fillcolor": "rgb(252,255,76)",
         "hoverinfo": "skip",
         "line": {
          "color": "rgba(0,0,0,0)"
         },
         "mode": "lines",
         "showlegend": false,
         "type": "scatter",
         "x": [
          -4.5,
          -4.425
         ],
         "y": [
          0.47073466899337174,
          0.4840485209569592
         ]
        },
        {
         "fill": "tozeroy",
         "fillcolor": "rgb(252,255,76)",
         "hoverinfo": "skip",
         "line": {
          "color": "rgba(0,0,0,0)"
         },
         "mode": "lines",
         "showlegend": false,
         "type": "scatter",
         "x": [
          -4.425,
          -4.35
         ],
         "y": [
          0.4840485209569592,
          0.4973623729205467
         ]
        },
        {
         "fill": "tozeroy",
         "fillcolor": "rgb(252,255,76)",
         "hoverinfo": "skip",
         "line": {
          "color": "rgba(0,0,0,0)"
         },
         "mode": "lines",
         "showlegend": false,
         "type": "scatter",
         "x": [
          -4.35,
          -4.2749999999999995
         ],
         "y": [
          0.4973623729205467,
          0.5093149254169629
         ]
        },
        {
         "fill": "tozeroy",
         "fillcolor": "rgb(252,255,76)",
         "hoverinfo": "skip",
         "line": {
          "color": "rgba(0,0,0,0)"
         },
         "mode": "lines",
         "showlegend": false,
         "type": "scatter",
         "x": [
          -4.275000000000001,
          -4.200000000000001
         ],
         "y": [
          0.5093149254169629,
          0.5212674779133791
         ]
        },
        {
         "fill": "tozeroy",
         "fillcolor": "rgb(252,255,76)",
         "hoverinfo": "skip",
         "line": {
          "color": "rgba(0,0,0,0)"
         },
         "mode": "lines",
         "showlegend": false,
         "type": "scatter",
         "x": [
          -4.200000000000001,
          -4.125000000000001
         ],
         "y": [
          0.5212674779133791,
          0.5314932341204465
         ]
        },
        {
         "fill": "tozeroy",
         "fillcolor": "rgb(252,255,76)",
         "hoverinfo": "skip",
         "line": {
          "color": "rgba(0,0,0,0)"
         },
         "mode": "lines",
         "showlegend": false,
         "type": "scatter",
         "x": [
          -4.125000000000001,
          -4.050000000000001
         ],
         "y": [
          0.5314932341204465,
          0.5417189903275138
         ]
        },
        {
         "fill": "tozeroy",
         "fillcolor": "rgb(252,255,76)",
         "hoverinfo": "skip",
         "line": {
          "color": "rgba(0,0,0,0)"
         },
         "mode": "lines",
         "showlegend": false,
         "type": "scatter",
         "x": [
          -4.050000000000001,
          -3.9750000000000005
         ],
         "y": [
          0.5417189903275138,
          0.549849372411308
         ]
        },
        {
         "fill": "tozeroy",
         "fillcolor": "rgb(252,255,76)",
         "hoverinfo": "skip",
         "line": {
          "color": "rgba(0,0,0,0)"
         },
         "mode": "lines",
         "showlegend": false,
         "type": "scatter",
         "x": [
          -3.9750000000000005,
          -3.9000000000000004
         ],
         "y": [
          0.549849372411308,
          0.5579797544951022
         ]
        },
        {
         "fill": "tozeroy",
         "fillcolor": "rgb(252,255,76)",
         "hoverinfo": "skip",
         "line": {
          "color": "rgba(0,0,0,0)"
         },
         "mode": "lines",
         "showlegend": false,
         "type": "scatter",
         "x": [
          -3.9000000000000004,
          -3.825
         ],
         "y": [
          0.5579797544951022,
          0.5636533461289406
         ]
        },
        {
         "fill": "tozeroy",
         "fillcolor": "rgb(252,255,76)",
         "hoverinfo": "skip",
         "line": {
          "color": "rgba(0,0,0,0)"
         },
         "mode": "lines",
         "showlegend": false,
         "type": "scatter",
         "x": [
          -3.825,
          -3.75
         ],
         "y": [
          0.5636533461289406,
          0.569326937762779
         ]
        },
        {
         "fill": "tozeroy",
         "fillcolor": "rgb(252,255,76)",
         "hoverinfo": "skip",
         "line": {
          "color": "rgba(0,0,0,0)"
         },
         "mode": "lines",
         "showlegend": false,
         "type": "scatter",
         "x": [
          -3.75,
          -3.675
         ],
         "y": [
          0.569326937762779,
          0.5722007506917433
         ]
        },
        {
         "fill": "tozeroy",
         "fillcolor": "rgb(252,255,76)",
         "hoverinfo": "skip",
         "line": {
          "color": "rgba(0,0,0,0)"
         },
         "mode": "lines",
         "showlegend": false,
         "type": "scatter",
         "x": [
          -3.675,
          -3.5999999999999996
         ],
         "y": [
          0.5722007506917433,
          0.5750745636207074
         ]
        },
        {
         "fill": "tozeroy",
         "fillcolor": "rgb(252,255,76)",
         "hoverinfo": "skip",
         "line": {
          "color": "rgba(0,0,0,0)"
         },
         "mode": "lines",
         "showlegend": false,
         "type": "scatter",
         "x": [
          -3.5999999999999996,
          -3.5249999999999995
         ],
         "y": [
          0.5750745636207074,
          0.5748360236223911
         ]
        },
        {
         "fill": "tozeroy",
         "fillcolor": "rgb(252,255,76)",
         "hoverinfo": "skip",
         "line": {
          "color": "rgba(0,0,0,0)"
         },
         "mode": "lines",
         "showlegend": false,
         "type": "scatter",
         "x": [
          -3.5250000000000012,
          -3.450000000000001
         ],
         "y": [
          0.5748360236223911,
          0.5745974836240747
         ]
        },
        {
         "fill": "tozeroy",
         "fillcolor": "rgb(252,255,76)",
         "hoverinfo": "skip",
         "line": {
          "color": "rgba(0,0,0,0)"
         },
         "mode": "lines",
         "showlegend": false,
         "type": "scatter",
         "x": [
          -3.450000000000001,
          -3.375000000000001
         ],
         "y": [
          0.5745974836240747,
          0.5709767654386013
         ]
        },
        {
         "fill": "tozeroy",
         "fillcolor": "rgb(252,255,76)",
         "hoverinfo": "skip",
         "line": {
          "color": "rgba(0,0,0,0)"
         },
         "mode": "lines",
         "showlegend": false,
         "type": "scatter",
         "x": [
          -3.375000000000001,
          -3.3000000000000007
         ],
         "y": [
          0.5709767654386013,
          0.5673560472531279
         ]
        },
        {
         "fill": "tozeroy",
         "fillcolor": "rgb(252,255,76)",
         "hoverinfo": "skip",
         "line": {
          "color": "rgba(0,0,0,0)"
         },
         "mode": "lines",
         "showlegend": false,
         "type": "scatter",
         "x": [
          -3.3000000000000007,
          -3.2250000000000005
         ],
         "y": [
          0.5673560472531279,
          0.5601383126231854
         ]
        },
        {
         "fill": "tozeroy",
         "fillcolor": "rgb(252,255,76)",
         "hoverinfo": "skip",
         "line": {
          "color": "rgba(0,0,0,0)"
         },
         "mode": "lines",
         "showlegend": false,
         "type": "scatter",
         "x": [
          -3.2250000000000005,
          -3.1500000000000004
         ],
         "y": [
          0.5601383126231854,
          0.5529205779932428
         ]
        },
        {
         "fill": "tozeroy",
         "fillcolor": "rgb(252,255,76)",
         "hoverinfo": "skip",
         "line": {
          "color": "rgba(0,0,0,0)"
         },
         "mode": "lines",
         "showlegend": false,
         "type": "scatter",
         "x": [
          -3.1500000000000004,
          -3.075
         ],
         "y": [
          0.5529205779932428,
          0.5419576602236091
         ]
        },
        {
         "fill": "tozeroy",
         "fillcolor": "rgb(252,255,76)",
         "hoverinfo": "skip",
         "line": {
          "color": "rgba(0,0,0,0)"
         },
         "mode": "lines",
         "showlegend": false,
         "type": "scatter",
         "x": [
          -3.075,
          -3
         ],
         "y": [
          0.5419576602236091,
          0.5309947424539755
         ]
        },
        {
         "fill": "tozeroy",
         "fillcolor": "rgb(252,255,76)",
         "hoverinfo": "skip",
         "line": {
          "color": "rgba(0,0,0,0)"
         },
         "mode": "lines",
         "showlegend": false,
         "type": "scatter",
         "x": [
          -3,
          -2.925
         ],
         "y": [
          0.5309947424539755,
          0.5162157515637031
         ]
        },
        {
         "fill": "tozeroy",
         "fillcolor": "rgb(252,255,76)",
         "hoverinfo": "skip",
         "line": {
          "color": "rgba(0,0,0,0)"
         },
         "mode": "lines",
         "showlegend": false,
         "type": "scatter",
         "x": [
          -2.925,
          -2.8499999999999996
         ],
         "y": [
          0.5162157515637031,
          0.5014367606734307
         ]
        },
        {
         "fill": "tozeroy",
         "fillcolor": "rgb(252,255,76)",
         "hoverinfo": "skip",
         "line": {
          "color": "rgba(0,0,0,0)"
         },
         "mode": "lines",
         "showlegend": false,
         "type": "scatter",
         "x": [
          -2.8499999999999996,
          -2.7749999999999995
         ],
         "y": [
          0.5014367606734307,
          0.48285711709075196
         ]
        },
        {
         "fill": "tozeroy",
         "fillcolor": "rgb(252,255,76)",
         "hoverinfo": "skip",
         "line": {
          "color": "rgba(0,0,0,0)"
         },
         "mode": "lines",
         "showlegend": false,
         "type": "scatter",
         "x": [
          -2.7750000000000012,
          -2.700000000000001
         ],
         "y": [
          0.48285711709075196,
          0.46427747350807325
         ]
        },
        {
         "fill": "tozeroy",
         "fillcolor": "rgb(252,255,76)",
         "hoverinfo": "skip",
         "line": {
          "color": "rgba(0,0,0,0)"
         },
         "mode": "lines",
         "showlegend": false,
         "type": "scatter",
         "x": [
          -2.700000000000001,
          -2.625000000000001
         ],
         "y": [
          0.46427747350807325,
          0.4420058653206706
         ]
        },
        {
         "fill": "tozeroy",
         "fillcolor": "rgb(252,255,76)",
         "hoverinfo": "skip",
         "line": {
          "color": "rgba(0,0,0,0)"
         },
         "mode": "lines",
         "showlegend": false,
         "type": "scatter",
         "x": [
          -2.625000000000001,
          -2.5500000000000007
         ],
         "y": [
          0.4420058653206706,
          0.41973425713326795
         ]
        },
        {
         "fill": "tozeroy",
         "fillcolor": "rgb(252,255,76)",
         "hoverinfo": "skip",
         "line": {
          "color": "rgba(0,0,0,0)"
         },
         "mode": "lines",
         "showlegend": false,
         "type": "scatter",
         "x": [
          -2.5500000000000007,
          -2.4750000000000005
         ],
         "y": [
          0.41973425713326795,
          0.39397708660946906
         ]
        },
        {
         "fill": "tozeroy",
         "fillcolor": "rgb(252,255,76)",
         "hoverinfo": "skip",
         "line": {
          "color": "rgba(0,0,0,0)"
         },
         "mode": "lines",
         "showlegend": false,
         "type": "scatter",
         "x": [
          -2.4750000000000005,
          -2.4000000000000004
         ],
         "y": [
          0.39397708660946906,
          0.3682199160856702
         ]
        },
        {
         "fill": "tozeroy",
         "fillcolor": "rgb(252,255,76)",
         "hoverinfo": "skip",
         "line": {
          "color": "rgba(0,0,0,0)"
         },
         "mode": "lines",
         "showlegend": false,
         "type": "scatter",
         "x": [
          -2.4000000000000004,
          -2.325
         ],
         "y": [
          0.3682199160856702,
          0.3392828422973466
         ]
        },
        {
         "fill": "tozeroy",
         "fillcolor": "rgb(252,255,76)",
         "hoverinfo": "skip",
         "line": {
          "color": "rgba(0,0,0,0)"
         },
         "mode": "lines",
         "showlegend": false,
         "type": "scatter",
         "x": [
          -2.325,
          -2.25
         ],
         "y": [
          0.3392828422973466,
          0.310345768509023
         ]
        },
        {
         "fill": "tozeroy",
         "fillcolor": "rgb(252,255,76)",
         "hoverinfo": "skip",
         "line": {
          "color": "rgba(0,0,0,0)"
         },
         "mode": "lines",
         "showlegend": false,
         "type": "scatter",
         "x": [
          -2.25,
          -2.175
         ],
         "y": [
          0.310345768509023,
          0.27863206262115175
         ]
        },
        {
         "fill": "tozeroy",
         "fillcolor": "rgb(252,255,76)",
         "hoverinfo": "skip",
         "line": {
          "color": "rgba(0,0,0,0)"
         },
         "mode": "lines",
         "showlegend": false,
         "type": "scatter",
         "x": [
          -2.175,
          -2.0999999999999996
         ],
         "y": [
          0.27863206262115175,
          0.2469183567332805
         ]
        },
        {
         "fill": "tozeroy",
         "fillcolor": "rgb(252,255,76)",
         "hoverinfo": "skip",
         "line": {
          "color": "rgba(0,0,0,0)"
         },
         "mode": "lines",
         "showlegend": false,
         "type": "scatter",
         "x": [
          -2.0999999999999996,
          -2.0249999999999995
         ],
         "y": [
          0.2469183567332805,
          0.21292390051281398
         ]
        },
        {
         "fill": "tozeroy",
         "fillcolor": "rgb(252,255,76)",
         "hoverinfo": "skip",
         "line": {
          "color": "rgba(0,0,0,0)"
         },
         "mode": "lines",
         "showlegend": false,
         "type": "scatter",
         "x": [
          -2.0250000000000012,
          -1.950000000000001
         ],
         "y": [
          0.21292390051281398,
          0.17892944429234747
         ]
        },
        {
         "fill": "tozeroy",
         "fillcolor": "rgb(252,255,76)",
         "hoverinfo": "skip",
         "line": {
          "color": "rgba(0,0,0,0)"
         },
         "mode": "lines",
         "showlegend": false,
         "type": "scatter",
         "x": [
          -1.950000000000001,
          -1.875000000000001
         ],
         "y": [
          0.17892944429234747,
          0.1432343108863224
         ]
        },
        {
         "fill": "tozeroy",
         "fillcolor": "rgb(252,255,76)",
         "hoverinfo": "skip",
         "line": {
          "color": "rgba(0,0,0,0)"
         },
         "mode": "lines",
         "showlegend": false,
         "type": "scatter",
         "x": [
          -1.8750000000000007,
          -1.8000000000000007
         ],
         "y": [
          0.1432343108863224,
          0.10753917748029736
         ]
        },
        {
         "fill": "tozeroy",
         "fillcolor": "rgb(252,255,76)",
         "hoverinfo": "skip",
         "line": {
          "color": "rgba(0,0,0,0)"
         },
         "mode": "lines",
         "showlegend": false,
         "type": "scatter",
         "x": [
          -1.8000000000000007,
          -1.7250000000000008
         ],
         "y": [
          0.10753917748029736,
          0.07079590579108713
         ]
        },
        {
         "fill": "tozeroy",
         "fillcolor": "rgb(252,255,76)",
         "hoverinfo": "skip",
         "line": {
          "color": "rgba(0,0,0,0)"
         },
         "mode": "lines",
         "showlegend": false,
         "type": "scatter",
         "x": [
          -1.7250000000000003,
          -1.6500000000000004
         ],
         "y": [
          0.07079590579108713,
          0.034052634101876915
         ]
        },
        {
         "fill": "tozeroy",
         "fillcolor": "rgb(252,255,76)",
         "hoverinfo": "skip",
         "line": {
          "color": "rgba(0,0,0,0)"
         },
         "mode": "lines",
         "showlegend": false,
         "type": "scatter",
         "x": [
          -1.6500000000000004,
          -1.5750000000000004
         ],
         "y": [
          0.034052634101876915,
          0.03708121868303434
         ]
        },
        {
         "fill": "tozeroy",
         "fillcolor": "rgb(79,76,255)",
         "hoverinfo": "skip",
         "line": {
          "color": "rgba(0,0,0,0)"
         },
         "mode": "lines",
         "showlegend": false,
         "type": "scatter",
         "x": [
          -1.575,
          -1.5
         ],
         "y": [
          0.03708121868303434,
          0.040109803264191765
         ]
        },
        {
         "fill": "tozeroy",
         "fillcolor": "rgb(79,76,255)",
         "hoverinfo": "skip",
         "line": {
          "color": "rgba(0,0,0,0)"
         },
         "mode": "lines",
         "showlegend": false,
         "type": "scatter",
         "x": [
          -1.5,
          -1.425
         ],
         "y": [
          0.040109803264191765,
          0.07677860969518462
         ]
        },
        {
         "fill": "tozeroy",
         "fillcolor": "rgb(79,76,255)",
         "hoverinfo": "skip",
         "line": {
          "color": "rgba(0,0,0,0)"
         },
         "mode": "lines",
         "showlegend": false,
         "type": "scatter",
         "x": [
          -1.4249999999999996,
          -1.3499999999999996
         ],
         "y": [
          0.07677860969518462,
          0.11344741612617747
         ]
        },
        {
         "fill": "tozeroy",
         "fillcolor": "rgb(79,76,255)",
         "hoverinfo": "skip",
         "line": {
          "color": "rgba(0,0,0,0)"
         },
         "mode": "lines",
         "showlegend": false,
         "type": "scatter",
         "x": [
          -1.3499999999999996,
          -1.2749999999999997
         ],
         "y": [
          0.11344741612617747,
          0.14893297186696922
         ]
        },
        {
         "fill": "tozeroy",
         "fillcolor": "rgb(79,76,255)",
         "hoverinfo": "skip",
         "line": {
          "color": "rgba(0,0,0,0)"
         },
         "mode": "lines",
         "showlegend": false,
         "type": "scatter",
         "x": [
          -1.275000000000001,
          -1.200000000000001
         ],
         "y": [
          0.14893297186696922,
          0.18441852760776095
         ]
        },
        {
         "fill": "tozeroy",
         "fillcolor": "rgb(79,76,255)",
         "hoverinfo": "skip",
         "line": {
          "color": "rgba(0,0,0,0)"
         },
         "mode": "lines",
         "showlegend": false,
         "type": "scatter",
         "x": [
          -1.200000000000001,
          -1.125000000000001
         ],
         "y": [
          0.18441852760776095,
          0.21795071859466053
         ]
        },
        {
         "fill": "tozeroy",
         "fillcolor": "rgb(79,76,255)",
         "hoverinfo": "skip",
         "line": {
          "color": "rgba(0,0,0,0)"
         },
         "mode": "lines",
         "showlegend": false,
         "type": "scatter",
         "x": [
          -1.1250000000000007,
          -1.0500000000000007
         ],
         "y": [
          0.21795071859466053,
          0.2514829095815601
         ]
        },
        {
         "fill": "tozeroy",
         "fillcolor": "rgb(79,76,255)",
         "hoverinfo": "skip",
         "line": {
          "color": "rgba(0,0,0,0)"
         },
         "mode": "lines",
         "showlegend": false,
         "type": "scatter",
         "x": [
          -1.0500000000000007,
          -0.9750000000000008
         ],
         "y": [
          0.2514829095815601,
          0.28231438115042035
         ]
        },
        {
         "fill": "tozeroy",
         "fillcolor": "rgb(79,76,255)",
         "hoverinfo": "skip",
         "line": {
          "color": "rgba(0,0,0,0)"
         },
         "mode": "lines",
         "showlegend": false,
         "type": "scatter",
         "x": [
          -0.9750000000000003,
          -0.9000000000000004
         ],
         "y": [
          0.28231438115042035,
          0.3131458527192806
         ]
        },
        {
         "fill": "tozeroy",
         "fillcolor": "rgb(79,76,255)",
         "hoverinfo": "skip",
         "line": {
          "color": "rgba(0,0,0,0)"
         },
         "mode": "lines",
         "showlegend": false,
         "type": "scatter",
         "x": [
          -0.9000000000000004,
          -0.8250000000000004
         ],
         "y": [
          0.3131458527192806,
          0.340574063180839
         ]
        },
        {
         "fill": "tozeroy",
         "fillcolor": "rgb(79,76,255)",
         "hoverinfo": "skip",
         "line": {
          "color": "rgba(0,0,0,0)"
         },
         "mode": "lines",
         "showlegend": false,
         "type": "scatter",
         "x": [
          -0.825,
          -0.75
         ],
         "y": [
          0.340574063180839,
          0.3680022736423974
         ]
        },
        {
         "fill": "tozeroy",
         "fillcolor": "rgb(79,76,255)",
         "hoverinfo": "skip",
         "line": {
          "color": "rgba(0,0,0,0)"
         },
         "mode": "lines",
         "showlegend": false,
         "type": "scatter",
         "x": [
          -0.75,
          -0.675
         ],
         "y": [
          0.3680022736423974,
          0.3913907542497107
         ]
        },
        {
         "fill": "tozeroy",
         "fillcolor": "rgb(79,76,255)",
         "hoverinfo": "skip",
         "line": {
          "color": "rgba(0,0,0,0)"
         },
         "mode": "lines",
         "showlegend": false,
         "type": "scatter",
         "x": [
          -0.6750000000000014,
          -0.6000000000000014
         ],
         "y": [
          0.3913907542497107,
          0.41477923485702395
         ]
        },
        {
         "fill": "tozeroy",
         "fillcolor": "rgb(79,76,255)",
         "hoverinfo": "skip",
         "line": {
          "color": "rgba(0,0,0,0)"
         },
         "mode": "lines",
         "showlegend": false,
         "type": "scatter",
         "x": [
          -0.6000000000000014,
          -0.5250000000000015
         ],
         "y": [
          0.41477923485702395,
          0.4335772493318145
         ]
        },
        {
         "fill": "tozeroy",
         "fillcolor": "rgb(79,76,255)",
         "hoverinfo": "skip",
         "line": {
          "color": "rgba(0,0,0,0)"
         },
         "mode": "lines",
         "showlegend": false,
         "type": "scatter",
         "x": [
          -0.525000000000001,
          -0.45000000000000107
         ],
         "y": [
          0.4335772493318145,
          0.45237526380660503
         ]
        },
        {
         "fill": "tozeroy",
         "fillcolor": "rgb(79,76,255)",
         "hoverinfo": "skip",
         "line": {
          "color": "rgba(0,0,0,0)"
         },
         "mode": "lines",
         "showlegend": false,
         "type": "scatter",
         "x": [
          -0.45000000000000107,
          -0.37500000000000105
         ],
         "y": [
          0.45237526380660503,
          0.4661350869081824
         ]
        },
        {
         "fill": "tozeroy",
         "fillcolor": "rgb(79,76,255)",
         "hoverinfo": "skip",
         "line": {
          "color": "rgba(0,0,0,0)"
         },
         "mode": "lines",
         "showlegend": false,
         "type": "scatter",
         "x": [
          -0.3750000000000007,
          -0.3000000000000007
         ],
         "y": [
          0.4661350869081824,
          0.4798949100097598
         ]
        },
        {
         "fill": "tozeroy",
         "fillcolor": "rgb(79,76,255)",
         "hoverinfo": "skip",
         "line": {
          "color": "rgba(0,0,0,0)"
         },
         "mode": "lines",
         "showlegend": false,
         "type": "scatter",
         "x": [
          -0.3000000000000007,
          -0.2250000000000007
         ],
         "y": [
          0.4798949100097598,
          0.4882860538039902
         ]
        },
        {
         "fill": "tozeroy",
         "fillcolor": "rgb(79,76,255)",
         "hoverinfo": "skip",
         "line": {
          "color": "rgba(0,0,0,0)"
         },
         "mode": "lines",
         "showlegend": false,
         "type": "scatter",
         "x": [
          -0.22500000000000037,
          -0.15000000000000036
         ],
         "y": [
          0.4882860538039902,
          0.4966771975982206
         ]
        },
        {
         "fill": "tozeroy",
         "fillcolor": "rgb(79,76,255)",
         "hoverinfo": "skip",
         "line": {
          "color": "rgba(0,0,0,0)"
         },
         "mode": "lines",
         "showlegend": false,
         "type": "scatter",
         "x": [
          -0.15000000000000036,
          -0.07500000000000036
         ],
         "y": [
          0.4966771975982206,
          0.4994970086095965
         ]
        },
        {
         "fill": "tozeroy",
         "fillcolor": "rgb(79,76,255)",
         "hoverinfo": "skip",
         "line": {
          "color": "rgba(0,0,0,0)"
         },
         "mode": "lines",
         "showlegend": false,
         "type": "scatter",
         "x": [
          -0.075,
          0
         ],
         "y": [
          0.4994970086095965,
          0.5023168196209724
         ]
        },
        {
         "fill": "tozeroy",
         "fillcolor": "rgb(79,76,255)",
         "hoverinfo": "skip",
         "line": {
          "color": "rgba(0,0,0,0)"
         },
         "mode": "lines",
         "showlegend": false,
         "type": "scatter",
         "x": [
          0,
          0.075
         ],
         "y": [
          0.5023168196209724,
          0.4994970086083358
         ]
        },
        {
         "fill": "tozeroy",
         "fillcolor": "rgb(79,76,255)",
         "hoverinfo": "skip",
         "line": {
          "color": "rgba(0,0,0,0)"
         },
         "mode": "lines",
         "showlegend": false,
         "type": "scatter",
         "x": [
          0.07499999999999858,
          0.14999999999999858
         ],
         "y": [
          0.4994970086083358,
          0.4966771975956991
         ]
        },
        {
         "fill": "tozeroy",
         "fillcolor": "rgb(79,76,255)",
         "hoverinfo": "skip",
         "line": {
          "color": "rgba(0,0,0,0)"
         },
         "mode": "lines",
         "showlegend": false,
         "type": "scatter",
         "x": [
          0.14999999999999858,
          0.2249999999999986
         ],
         "y": [
          0.4966771975956991,
          0.48828605380523465
         ]
        },
        {
         "fill": "tozeroy",
         "fillcolor": "rgb(79,76,255)",
         "hoverinfo": "skip",
         "line": {
          "color": "rgba(0,0,0,0)"
         },
         "mode": "lines",
         "showlegend": false,
         "type": "scatter",
         "x": [
          0.22499999999999892,
          0.29999999999999893
         ],
         "y": [
          0.48828605380523465,
          0.4798949100147702
         ]
        },
        {
         "fill": "tozeroy",
         "fillcolor": "rgb(79,76,255)",
         "hoverinfo": "skip",
         "line": {
          "color": "rgba(0,0,0,0)"
         },
         "mode": "lines",
         "showlegend": false,
         "type": "scatter",
         "x": [
          0.29999999999999893,
          0.37499999999999895
         ],
         "y": [
          0.4798949100147702,
          0.4661350869069354
         ]
        },
        {
         "fill": "tozeroy",
         "fillcolor": "rgb(79,76,255)",
         "hoverinfo": "skip",
         "line": {
          "color": "rgba(0,0,0,0)"
         },
         "mode": "lines",
         "showlegend": false,
         "type": "scatter",
         "x": [
          0.3749999999999993,
          0.4499999999999993
         ],
         "y": [
          0.4661350869069354,
          0.45237526379910065
         ]
        },
        {
         "fill": "tozeroy",
         "fillcolor": "rgb(79,76,255)",
         "hoverinfo": "skip",
         "line": {
          "color": "rgba(0,0,0,0)"
         },
         "mode": "lines",
         "showlegend": false,
         "type": "scatter",
         "x": [
          0.4499999999999993,
          0.5249999999999992
         ],
         "y": [
          0.45237526379910065,
          0.43357724933305875
         ]
        },
        {
         "fill": "tozeroy",
         "fillcolor": "rgb(79,76,255)",
         "hoverinfo": "skip",
         "line": {
          "color": "rgba(0,0,0,0)"
         },
         "mode": "lines",
         "showlegend": false,
         "type": "scatter",
         "x": [
          0.5249999999999997,
          0.5999999999999996
         ],
         "y": [
          0.43357724933305875,
          0.4147792348670168
         ]
        },
        {
         "fill": "tozeroy",
         "fillcolor": "rgb(79,76,255)",
         "hoverinfo": "skip",
         "line": {
          "color": "rgba(0,0,0,0)"
         },
         "mode": "lines",
         "showlegend": false,
         "type": "scatter",
         "x": [
          0.5999999999999996,
          0.6749999999999996
         ],
         "y": [
          0.4147792348670168,
          0.3913907542484819
         ]
        },
        {
         "fill": "tozeroy",
         "fillcolor": "rgb(79,76,255)",
         "hoverinfo": "skip",
         "line": {
          "color": "rgba(0,0,0,0)"
         },
         "mode": "lines",
         "showlegend": false,
         "type": "scatter",
         "x": [
          0.675,
          0.75
         ],
         "y": [
          0.3913907542484819,
          0.36800227362994703
         ]
        },
        {
         "fill": "tozeroy",
         "fillcolor": "rgb(79,76,255)",
         "hoverinfo": "skip",
         "line": {
          "color": "rgba(0,0,0,0)"
         },
         "mode": "lines",
         "showlegend": false,
         "type": "scatter",
         "x": [
          0.75,
          0.825
         ],
         "y": [
          0.36800227362994703,
          0.3405740631820752
         ]
        },
        {
         "fill": "tozeroy",
         "fillcolor": "rgb(79,76,255)",
         "hoverinfo": "skip",
         "line": {
          "color": "rgba(0,0,0,0)"
         },
         "mode": "lines",
         "showlegend": false,
         "type": "scatter",
         "x": [
          0.8249999999999986,
          0.8999999999999986
         ],
         "y": [
          0.3405740631820752,
          0.3131458527342034
         ]
        },
        {
         "fill": "tozeroy",
         "fillcolor": "rgb(79,76,255)",
         "hoverinfo": "skip",
         "line": {
          "color": "rgba(0,0,0,0)"
         },
         "mode": "lines",
         "showlegend": false,
         "type": "scatter",
         "x": [
          0.8999999999999986,
          0.9749999999999985
         ],
         "y": [
          0.3131458527342034,
          0.2823143811491875
         ]
        },
        {
         "fill": "tozeroy",
         "fillcolor": "rgb(79,76,255)",
         "hoverinfo": "skip",
         "line": {
          "color": "rgba(0,0,0,0)"
         },
         "mode": "lines",
         "showlegend": false,
         "type": "scatter",
         "x": [
          0.9750000000000008,
          1.0500000000000007
         ],
         "y": [
          0.2823143811491875,
          0.25148290956417163
         ]
        },
        {
         "fill": "tozeroy",
         "fillcolor": "rgb(79,76,255)",
         "hoverinfo": "skip",
         "line": {
          "color": "rgba(0,0,0,0)"
         },
         "mode": "lines",
         "showlegend": false,
         "type": "scatter",
         "x": [
          1.0500000000000007,
          1.1250000000000007
         ],
         "y": [
          0.25148290956417163,
          0.21795071859591142
         ]
        },
        {
         "fill": "tozeroy",
         "fillcolor": "rgb(79,76,255)",
         "hoverinfo": "skip",
         "line": {
          "color": "rgba(0,0,0,0)"
         },
         "mode": "lines",
         "showlegend": false,
         "type": "scatter",
         "x": [
          1.1249999999999993,
          1.1999999999999993
         ],
         "y": [
          0.21795071859591142,
          0.18441852762765118
         ]
        },
        {
         "fill": "tozeroy",
         "fillcolor": "rgb(79,76,255)",
         "hoverinfo": "skip",
         "line": {
          "color": "rgba(0,0,0,0)"
         },
         "mode": "lines",
         "showlegend": false,
         "type": "scatter",
         "x": [
          1.1999999999999993,
          1.2749999999999992
         ],
         "y": [
          0.18441852762765118,
          0.14893297186569388
         ]
        },
        {
         "fill": "tozeroy",
         "fillcolor": "rgb(79,76,255)",
         "hoverinfo": "skip",
         "line": {
          "color": "rgba(0,0,0,0)"
         },
         "mode": "lines",
         "showlegend": false,
         "type": "scatter",
         "x": [
          1.274999999999998,
          1.3499999999999979
         ],
         "y": [
          0.14893297186569388,
          0.11344741610373654
         ]
        },
        {
         "fill": "tozeroy",
         "fillcolor": "rgb(79,76,255)",
         "hoverinfo": "skip",
         "line": {
          "color": "rgba(0,0,0,0)"
         },
         "mode": "lines",
         "showlegend": false,
         "type": "scatter",
         "x": [
          1.3499999999999979,
          1.4249999999999978
         ],
         "y": [
          0.11344741610373654,
          0.0767786096964665
         ]
        },
        {
         "fill": "tozeroy",
         "fillcolor": "rgb(79,76,255)",
         "hoverinfo": "skip",
         "line": {
          "color": "rgba(0,0,0,0)"
         },
         "mode": "lines",
         "showlegend": false,
         "type": "scatter",
         "x": [
          1.425,
          1.5
         ],
         "y": [
          0.0767786096964665,
          0.04010980328919645
         ]
        },
        {
         "fill": "tozeroy",
         "fillcolor": "rgb(79,76,255)",
         "hoverinfo": "skip",
         "line": {
          "color": "rgba(0,0,0,0)"
         },
         "mode": "lines",
         "showlegend": false,
         "type": "scatter",
         "x": [
          1.5,
          1.575
         ],
         "y": [
          0.04010980328919645,
          0.03708121870933475
         ]
        },
        {
         "fill": "tozeroy",
         "fillcolor": "rgb(252,255,76)",
         "hoverinfo": "skip",
         "line": {
          "color": "rgba(0,0,0,0)"
         },
         "mode": "lines",
         "showlegend": false,
         "type": "scatter",
         "x": [
          1.5749999999999986,
          1.6499999999999986
         ],
         "y": [
          0.03708121870933475,
          0.03405263412947305
         ]
        },
        {
         "fill": "tozeroy",
         "fillcolor": "rgb(252,255,76)",
         "hoverinfo": "skip",
         "line": {
          "color": "rgba(0,0,0,0)"
         },
         "mode": "lines",
         "showlegend": false,
         "type": "scatter",
         "x": [
          1.6499999999999986,
          1.7249999999999985
         ],
         "y": [
          0.03405263412947305,
          0.07079590578977886
         ]
        },
        {
         "fill": "tozeroy",
         "fillcolor": "rgb(252,255,76)",
         "hoverinfo": "skip",
         "line": {
          "color": "rgba(0,0,0,0)"
         },
         "mode": "lines",
         "showlegend": false,
         "type": "scatter",
         "x": [
          1.7250000000000008,
          1.8000000000000007
         ],
         "y": [
          0.07079590578977886,
          0.10753917745008468
         ]
        },
        {
         "fill": "tozeroy",
         "fillcolor": "rgb(252,255,76)",
         "hoverinfo": "skip",
         "line": {
          "color": "rgba(0,0,0,0)"
         },
         "mode": "lines",
         "showlegend": false,
         "type": "scatter",
         "x": [
          1.8000000000000007,
          1.8750000000000007
         ],
         "y": [
          0.10753917745008468,
          0.14323431088761918
         ]
        },
        {
         "fill": "tozeroy",
         "fillcolor": "rgb(252,255,76)",
         "hoverinfo": "skip",
         "line": {
          "color": "rgba(0,0,0,0)"
         },
         "mode": "lines",
         "showlegend": false,
         "type": "scatter",
         "x": [
          1.8749999999999993,
          1.9499999999999993
         ],
         "y": [
          0.14323431088761918,
          0.17892944432515365
         ]
        },
        {
         "fill": "tozeroy",
         "fillcolor": "rgb(252,255,76)",
         "hoverinfo": "skip",
         "line": {
          "color": "rgba(0,0,0,0)"
         },
         "mode": "lines",
         "showlegend": false,
         "type": "scatter",
         "x": [
          1.9499999999999993,
          2.0249999999999995
         ],
         "y": [
          0.17892944432515365,
          0.212923900511525
         ]
        },
        {
         "fill": "tozeroy",
         "fillcolor": "rgb(252,255,76)",
         "hoverinfo": "skip",
         "line": {
          "color": "rgba(0,0,0,0)"
         },
         "mode": "lines",
         "showlegend": false,
         "type": "scatter",
         "x": [
          2.0249999999999977,
          2.099999999999998
         ],
         "y": [
          0.212923900511525,
          0.2469183566978963
         ]
        },
        {
         "fill": "tozeroy",
         "fillcolor": "rgb(252,255,76)",
         "hoverinfo": "skip",
         "line": {
          "color": "rgba(0,0,0,0)"
         },
         "mode": "lines",
         "showlegend": false,
         "type": "scatter",
         "x": [
          2.099999999999998,
          2.174999999999998
         ],
         "y": [
          0.2469183566978963,
          0.2786320626224444
         ]
        },
        {
         "fill": "tozeroy",
         "fillcolor": "rgb(252,255,76)",
         "hoverinfo": "skip",
         "line": {
          "color": "rgba(0,0,0,0)"
         },
         "mode": "lines",
         "showlegend": false,
         "type": "scatter",
         "x": [
          2.175,
          2.25
         ],
         "y": [
          0.2786320626224444,
          0.3103457685469925
         ]
        },
        {
         "fill": "tozeroy",
         "fillcolor": "rgb(252,255,76)",
         "hoverinfo": "skip",
         "line": {
          "color": "rgba(0,0,0,0)"
         },
         "mode": "lines",
         "showlegend": false,
         "type": "scatter",
         "x": [
          2.25,
          2.325
         ],
         "y": [
          0.3103457685469925,
          0.3392828422960422
         ]
        },
        {
         "fill": "tozeroy",
         "fillcolor": "rgb(252,255,76)",
         "hoverinfo": "skip",
         "line": {
          "color": "rgba(0,0,0,0)"
         },
         "mode": "lines",
         "showlegend": false,
         "type": "scatter",
         "x": [
          2.3249999999999984,
          2.3999999999999986
         ],
         "y": [
          0.3392828422960422,
          0.3682199160450919
         ]
        },
        {
         "fill": "tozeroy",
         "fillcolor": "rgb(252,255,76)",
         "hoverinfo": "skip",
         "line": {
          "color": "rgba(0,0,0,0)"
         },
         "mode": "lines",
         "showlegend": false,
         "type": "scatter",
         "x": [
          2.3999999999999986,
          2.4749999999999988
         ],
         "y": [
          0.3682199160450919,
          0.39397708661079606
         ]
        },
        {
         "fill": "tozeroy",
         "fillcolor": "rgb(252,255,76)",
         "hoverinfo": "skip",
         "line": {
          "color": "rgba(0,0,0,0)"
         },
         "mode": "lines",
         "showlegend": false,
         "type": "scatter",
         "x": [
          2.4750000000000005,
          2.5500000000000007
         ],
         "y": [
          0.39397708661079606,
          0.4197342571765002
         ]
        },
        {
         "fill": "tozeroy",
         "fillcolor": "rgb(252,255,76)",
         "hoverinfo": "skip",
         "line": {
          "color": "rgba(0,0,0,0)"
         },
         "mode": "lines",
         "showlegend": false,
         "type": "scatter",
         "x": [
          2.5500000000000007,
          2.625000000000001
         ],
         "y": [
          0.4197342571765002,
          0.4420058653193143
         ]
        },
        {
         "fill": "tozeroy",
         "fillcolor": "rgb(252,255,76)",
         "hoverinfo": "skip",
         "line": {
          "color": "rgba(0,0,0,0)"
         },
         "mode": "lines",
         "showlegend": false,
         "type": "scatter",
         "x": [
          2.624999999999999,
          2.6999999999999993
         ],
         "y": [
          0.4420058653193143,
          0.46427747346212844
         ]
        },
        {
         "fill": "tozeroy",
         "fillcolor": "rgb(252,255,76)",
         "hoverinfo": "skip",
         "line": {
          "color": "rgba(0,0,0,0)"
         },
         "mode": "lines",
         "showlegend": false,
         "type": "scatter",
         "x": [
          2.6999999999999993,
          2.7749999999999995
         ],
         "y": [
          0.46427747346212844,
          0.4828571170921293
         ]
        },
        {
         "fill": "tozeroy",
         "fillcolor": "rgb(252,255,76)",
         "hoverinfo": "skip",
         "line": {
          "color": "rgba(0,0,0,0)"
         },
         "mode": "lines",
         "showlegend": false,
         "type": "scatter",
         "x": [
          2.7749999999999977,
          2.849999999999998
         ],
         "y": [
          0.4828571170921293,
          0.5014367607221302
         ]
        },
        {
         "fill": "tozeroy",
         "fillcolor": "rgb(252,255,76)",
         "hoverinfo": "skip",
         "line": {
          "color": "rgba(0,0,0,0)"
         },
         "mode": "lines",
         "showlegend": false,
         "type": "scatter",
         "x": [
          2.849999999999998,
          2.924999999999998
         ],
         "y": [
          0.5014367607221302,
          0.5162157515623187
         ]
        },
        {
         "fill": "tozeroy",
         "fillcolor": "rgb(252,255,76)",
         "hoverinfo": "skip",
         "line": {
          "color": "rgba(0,0,0,0)"
         },
         "mode": "lines",
         "showlegend": false,
         "type": "scatter",
         "x": [
          2.925,
          3
         ],
         "y": [
          0.5162157515623187,
          0.5309947424025073
         ]
        },
        {
         "fill": "tozeroy",
         "fillcolor": "rgb(252,255,76)",
         "hoverinfo": "skip",
         "line": {
          "color": "rgba(0,0,0,0)"
         },
         "mode": "lines",
         "showlegend": false,
         "type": "scatter",
         "x": [
          3,
          3.075
         ],
         "y": [
          0.5309947424025073,
          0.5419576602249987
         ]
        },
        {
         "fill": "tozeroy",
         "fillcolor": "rgb(252,255,76)",
         "hoverinfo": "skip",
         "line": {
          "color": "rgba(0,0,0,0)"
         },
         "mode": "lines",
         "showlegend": false,
         "type": "scatter",
         "x": [
          3.0749999999999984,
          3.1499999999999986
         ],
         "y": [
          0.5419576602249987,
          0.5529205780474902
         ]
        },
        {
         "fill": "tozeroy",
         "fillcolor": "rgb(252,255,76)",
         "hoverinfo": "skip",
         "line": {
          "color": "rgba(0,0,0,0)"
         },
         "mode": "lines",
         "showlegend": false,
         "type": "scatter",
         "x": [
          3.1499999999999986,
          3.2249999999999988
         ],
         "y": [
          0.5529205780474902,
          0.5601383126217875
         ]
        },
        {
         "fill": "tozeroy",
         "fillcolor": "rgb(252,255,76)",
         "hoverinfo": "skip",
         "line": {
          "color": "rgba(0,0,0,0)"
         },
         "mode": "lines",
         "showlegend": false,
         "type": "scatter",
         "x": [
          3.2250000000000005,
          3.3000000000000007
         ],
         "y": [
          0.5601383126217875,
          0.5673560471960848
         ]
        },
        {
         "fill": "tozeroy",
         "fillcolor": "rgb(252,255,76)",
         "hoverinfo": "skip",
         "line": {
          "color": "rgba(0,0,0,0)"
         },
         "mode": "lines",
         "showlegend": false,
         "type": "scatter",
         "x": [
          3.3000000000000007,
          3.375000000000001
         ],
         "y": [
          0.5673560471960848,
          0.5709767654400193
         ]
        },
        {
         "fill": "tozeroy",
         "fillcolor": "rgb(252,255,76)",
         "hoverinfo": "skip",
         "line": {
          "color": "rgba(0,0,0,0)"
         },
         "mode": "lines",
         "showlegend": false,
         "type": "scatter",
         "x": [
          3.374999999999999,
          3.4499999999999993
         ],
         "y": [
          0.5709767654400193,
          0.5745974836839539
         ]
        },
        {
         "fill": "tozeroy",
         "fillcolor": "rgb(252,255,76)",
         "hoverinfo": "skip",
         "line": {
          "color": "rgba(0,0,0,0)"
         },
         "mode": "lines",
         "showlegend": false,
         "type": "scatter",
         "x": [
          3.4499999999999993,
          3.5249999999999995
         ],
         "y": [
          0.5745974836839539,
          0.5748360236209592
         ]
        },
        {
         "fill": "tozeroy",
         "fillcolor": "rgb(252,255,76)",
         "hoverinfo": "skip",
         "line": {
          "color": "rgba(0,0,0,0)"
         },
         "mode": "lines",
         "showlegend": false,
         "type": "scatter",
         "x": [
          3.5249999999999977,
          3.599999999999998
         ],
         "y": [
          0.5748360236209592,
          0.5750745635579645
         ]
        },
        {
         "fill": "tozeroy",
         "fillcolor": "rgb(252,255,76)",
         "hoverinfo": "skip",
         "line": {
          "color": "rgba(0,0,0,0)"
         },
         "mode": "lines",
         "showlegend": false,
         "type": "scatter",
         "x": [
          3.599999999999998,
          3.674999999999998
         ],
         "y": [
          0.5750745635579645,
          0.5722007506931924
         ]
        },
        {
         "fill": "tozeroy",
         "fillcolor": "rgb(252,255,76)",
         "hoverinfo": "skip",
         "line": {
          "color": "rgba(0,0,0,0)"
         },
         "mode": "lines",
         "showlegend": false,
         "type": "scatter",
         "x": [
          3.675,
          3.75
         ],
         "y": [
          0.5722007506931924,
          0.5693269378284204
         ]
        },
        {
         "fill": "tozeroy",
         "fillcolor": "rgb(252,255,76)",
         "hoverinfo": "skip",
         "line": {
          "color": "rgba(0,0,0,0)"
         },
         "mode": "lines",
         "showlegend": false,
         "type": "scatter",
         "x": [
          3.75,
          3.825
         ],
         "y": [
          0.5693269378284204,
          0.5636533461274567
         ]
        },
        {
         "fill": "tozeroy",
         "fillcolor": "rgb(252,255,76)",
         "hoverinfo": "skip",
         "line": {
          "color": "rgba(0,0,0,0)"
         },
         "mode": "lines",
         "showlegend": false,
         "type": "scatter",
         "x": [
          3.8249999999999984,
          3.8999999999999986
         ],
         "y": [
          0.5636533461274567,
          0.5579797544264928
         ]
        },
        {
         "fill": "tozeroy",
         "fillcolor": "rgb(252,255,76)",
         "hoverinfo": "skip",
         "line": {
          "color": "rgba(0,0,0,0)"
         },
         "mode": "lines",
         "showlegend": false,
         "type": "scatter",
         "x": [
          3.8999999999999986,
          3.9749999999999988
         ],
         "y": [
          0.5579797544264928,
          0.5498493724128182
         ]
        },
        {
         "fill": "tozeroy",
         "fillcolor": "rgb(252,255,76)",
         "hoverinfo": "skip",
         "line": {
          "color": "rgba(0,0,0,0)"
         },
         "mode": "lines",
         "showlegend": false,
         "type": "scatter",
         "x": [
          3.9750000000000005,
          4.050000000000001
         ],
         "y": [
          0.5498493724128182,
          0.5417189903991436
         ]
        },
        {
         "fill": "tozeroy",
         "fillcolor": "rgb(252,255,76)",
         "hoverinfo": "skip",
         "line": {
          "color": "rgba(0,0,0,0)"
         },
         "mode": "lines",
         "showlegend": false,
         "type": "scatter",
         "x": [
          4.050000000000001,
          4.125000000000001
         ],
         "y": [
          0.5417189903991436,
          0.5314932341189135
         ]
        },
        {
         "fill": "tozeroy",
         "fillcolor": "rgb(252,255,76)",
         "hoverinfo": "skip",
         "line": {
          "color": "rgba(0,0,0,0)"
         },
         "mode": "lines",
         "showlegend": false,
         "type": "scatter",
         "x": [
          4.124999999999999,
          4.199999999999999
         ],
         "y": [
          0.5314932341189135,
          0.5212674778386833
         ]
        },
        {
         "fill": "tozeroy",
         "fillcolor": "rgb(252,255,76)",
         "hoverinfo": "skip",
         "line": {
          "color": "rgba(0,0,0,0)"
         },
         "mode": "lines",
         "showlegend": false,
         "type": "scatter",
         "x": [
          4.199999999999999,
          4.2749999999999995
         ],
         "y": [
          0.5212674778386833,
          0.5093149254185242
         ]
        },
        {
         "fill": "tozeroy",
         "fillcolor": "rgb(252,255,76)",
         "hoverinfo": "skip",
         "line": {
          "color": "rgba(0,0,0,0)"
         },
         "mode": "lines",
         "showlegend": false,
         "type": "scatter",
         "x": [
          4.274999999999998,
          4.349999999999998
         ],
         "y": [
          0.5093149254185242,
          0.497362372998365
         ]
        },
        {
         "fill": "tozeroy",
         "fillcolor": "rgb(252,255,76)",
         "hoverinfo": "skip",
         "line": {
          "color": "rgba(0,0,0,0)"
         },
         "mode": "lines",
         "showlegend": false,
         "type": "scatter",
         "x": [
          4.349999999999998,
          4.424999999999998
         ],
         "y": [
          0.497362372998365,
          0.4840485209553882
         ]
        },
        {
         "fill": "tozeroy",
         "fillcolor": "rgb(252,255,76)",
         "hoverinfo": "skip",
         "line": {
          "color": "rgba(0,0,0,0)"
         },
         "mode": "lines",
         "showlegend": false,
         "type": "scatter",
         "x": [
          4.425,
          4.5
         ],
         "y": [
          0.4840485209553882,
          0.47073466891241134
         ]
        },
        {
         "fill": "tozeroy",
         "fillcolor": "rgb(252,255,76)",
         "hoverinfo": "skip",
         "line": {
          "color": "rgba(0,0,0,0)"
         },
         "mode": "lines",
         "showlegend": false,
         "type": "scatter",
         "x": [
          4.5,
          4.575
         ],
         "y": [
          0.47073466891241134,
          0.45641295440672647
         ]
        },
        {
         "fill": "tozeroy",
         "fillcolor": "rgb(252,255,76)",
         "hoverinfo": "skip",
         "line": {
          "color": "rgba(0,0,0,0)"
         },
         "mode": "lines",
         "showlegend": false,
         "type": "scatter",
         "x": [
          4.574999999999998,
          4.649999999999999
         ],
         "y": [
          0.45641295440672647,
          0.4420912399010416
         ]
        },
        {
         "fill": "tozeroy",
         "fillcolor": "rgb(252,255,76)",
         "hoverinfo": "skip",
         "line": {
          "color": "rgba(0,0,0,0)"
         },
         "mode": "lines",
         "showlegend": false,
         "type": "scatter",
         "x": [
          4.649999999999999,
          4.724999999999999
         ],
         "y": [
          0.4420912399010416,
          0.42709546856548253
         ]
        },
        {
         "fill": "tozeroy",
         "fillcolor": "rgb(252,255,76)",
         "hoverinfo": "skip",
         "line": {
          "color": "rgba(0,0,0,0)"
         },
         "mode": "lines",
         "showlegend": false,
         "type": "scatter",
         "x": [
          4.7250000000000005,
          4.800000000000001
         ],
         "y": [
          0.42709546856548253,
          0.4120996972299234
         ]
        },
        {
         "fill": "tozeroy",
         "fillcolor": "rgb(252,255,76)",
         "hoverinfo": "skip",
         "line": {
          "color": "rgba(0,0,0,0)"
         },
         "mode": "lines",
         "showlegend": false,
         "type": "scatter",
         "x": [
          4.800000000000001,
          4.875000000000001
         ],
         "y": [
          0.4120996972299234,
          0.39673798801358756
         ]
        },
        {
         "fill": "tozeroy",
         "fillcolor": "rgb(252,255,76)",
         "hoverinfo": "skip",
         "line": {
          "color": "rgba(0,0,0,0)"
         },
         "mode": "lines",
         "showlegend": false,
         "type": "scatter",
         "x": [
          4.874999999999999,
          4.949999999999999
         ],
         "y": [
          0.39673798801358756,
          0.3813762787972517
         ]
        },
        {
         "fill": "tozeroy",
         "fillcolor": "rgb(252,255,76)",
         "hoverinfo": "skip",
         "line": {
          "color": "rgba(0,0,0,0)"
         },
         "mode": "lines",
         "showlegend": false,
         "type": "scatter",
         "x": [
          4.949999999999999,
          5.0249999999999995
         ],
         "y": [
          0.3813762787972517,
          0.36592651026997414
         ]
        },
        {
         "fill": "tozeroy",
         "fillcolor": "rgb(252,255,76)",
         "hoverinfo": "skip",
         "line": {
          "color": "rgba(0,0,0,0)"
         },
         "mode": "lines",
         "showlegend": false,
         "type": "scatter",
         "x": [
          5.024999999999998,
          5.099999999999998
         ],
         "y": [
          0.36592651026997414,
          0.3504767417426965
         ]
        },
        {
         "fill": "tozeroy",
         "fillcolor": "rgb(252,255,76)",
         "hoverinfo": "skip",
         "line": {
          "color": "rgba(0,0,0,0)"
         },
         "mode": "lines",
         "showlegend": false,
         "type": "scatter",
         "x": [
          5.099999999999998,
          5.174999999999998
         ],
         "y": [
          0.3504767417426965,
          0.3351834918658805
         ]
        },
        {
         "fill": "tozeroy",
         "fillcolor": "rgb(252,255,76)",
         "hoverinfo": "skip",
         "line": {
          "color": "rgba(0,0,0,0)"
         },
         "mode": "lines",
         "showlegend": false,
         "type": "scatter",
         "x": [
          5.175,
          5.25
         ],
         "y": [
          0.3351834918658805,
          0.3198902419890644
         ]
        },
        {
         "fill": "tozeroy",
         "fillcolor": "rgb(252,255,76)",
         "hoverinfo": "skip",
         "line": {
          "color": "rgba(0,0,0,0)"
         },
         "mode": "lines",
         "showlegend": false,
         "type": "scatter",
         "x": [
          5.25,
          5.325
         ],
         "y": [
          0.3198902419890644,
          0.3049630982771336
         ]
        },
        {
         "fill": "tozeroy",
         "fillcolor": "rgb(252,255,76)",
         "hoverinfo": "skip",
         "line": {
          "color": "rgba(0,0,0,0)"
         },
         "mode": "lines",
         "showlegend": false,
         "type": "scatter",
         "x": [
          5.324999999999998,
          5.399999999999999
         ],
         "y": [
          0.3049630982771336,
          0.29003595456520276
         ]
        },
        {
         "fill": "tozeroy",
         "fillcolor": "rgb(252,255,76)",
         "hoverinfo": "skip",
         "line": {
          "color": "rgba(0,0,0,0)"
         },
         "mode": "lines",
         "showlegend": false,
         "type": "scatter",
         "x": [
          5.399999999999999,
          5.474999999999999
         ],
         "y": [
          0.29003595456520276,
          0.2756490868580109
         ]
        },
        {
         "fill": "tozeroy",
         "fillcolor": "rgb(252,255,76)",
         "hoverinfo": "skip",
         "line": {
          "color": "rgba(0,0,0,0)"
         },
         "mode": "lines",
         "showlegend": false,
         "type": "scatter",
         "x": [
          5.4750000000000005,
          5.550000000000001
         ],
         "y": [
          0.2756490868580109,
          0.2612622191508191
         ]
        },
        {
         "fill": "tozeroy",
         "fillcolor": "rgb(252,255,76)",
         "hoverinfo": "skip",
         "line": {
          "color": "rgba(0,0,0,0)"
         },
         "mode": "lines",
         "showlegend": false,
         "type": "scatter",
         "x": [
          5.550000000000001,
          5.625000000000001
         ],
         "y": [
          0.2612622191508191,
          0.24755503451423233
         ]
        },
        {
         "fill": "tozeroy",
         "fillcolor": "rgb(252,255,76)",
         "hoverinfo": "skip",
         "line": {
          "color": "rgba(0,0,0,0)"
         },
         "mode": "lines",
         "showlegend": false,
         "type": "scatter",
         "x": [
          5.624999999999999,
          5.699999999999999
         ],
         "y": [
          0.24755503451423233,
          0.2338478498776456
         ]
        },
        {
         "fill": "tozeroy",
         "fillcolor": "rgb(252,255,76)",
         "hoverinfo": "skip",
         "line": {
          "color": "rgba(0,0,0,0)"
         },
         "mode": "lines",
         "showlegend": false,
         "type": "scatter",
         "x": [
          5.699999999999999,
          5.7749999999999995
         ],
         "y": [
          0.2338478498776456,
          0.22092656804869365
         ]
        },
        {
         "fill": "tozeroy",
         "fillcolor": "rgb(252,255,76)",
         "hoverinfo": "skip",
         "line": {
          "color": "rgba(0,0,0,0)"
         },
         "mode": "lines",
         "showlegend": false,
         "type": "scatter",
         "x": [
          5.774999999999998,
          5.849999999999998
         ],
         "y": [
          0.22092656804869365,
          0.20800528621974168
         ]
        },
        {
         "fill": "tozeroy",
         "fillcolor": "rgb(252,255,76)",
         "hoverinfo": "skip",
         "line": {
          "color": "rgba(0,0,0,0)"
         },
         "mode": "lines",
         "showlegend": false,
         "type": "scatter",
         "x": [
          5.849999999999998,
          5.924999999999998
         ],
         "y": [
          0.20800528621974168,
          0.19594523251333223
         ]
        },
        {
         "fill": "tozeroy",
         "fillcolor": "rgb(252,255,76)",
         "hoverinfo": "skip",
         "line": {
          "color": "rgba(0,0,0,0)"
         },
         "mode": "lines",
         "showlegend": false,
         "type": "scatter",
         "x": [
          5.925,
          6
         ],
         "y": [
          0.19594523251333223,
          0.18388517880692282
         ]
        },
        {
         "fill": "tozeroy",
         "fillcolor": "rgb(252,255,76)",
         "hoverinfo": "skip",
         "line": {
          "color": "rgba(0,0,0,0)"
         },
         "mode": "lines",
         "showlegend": false,
         "type": "scatter",
         "x": [
          6,
          6.075
         ],
         "y": [
          0.18388517880692282,
          0.17273362485119312
         ]
        },
        {
         "fill": "tozeroy",
         "fillcolor": "rgb(252,255,76)",
         "hoverinfo": "skip",
         "line": {
          "color": "rgba(0,0,0,0)"
         },
         "mode": "lines",
         "showlegend": false,
         "type": "scatter",
         "x": [
          6.074999999999998,
          6.149999999999999
         ],
         "y": [
          0.17273362485119312,
          0.16158207089546342
         ]
        },
        {
         "fill": "tozeroy",
         "fillcolor": "rgb(252,255,76)",
         "hoverinfo": "skip",
         "line": {
          "color": "rgba(0,0,0,0)"
         },
         "mode": "lines",
         "showlegend": false,
         "type": "scatter",
         "x": [
          6.149999999999999,
          6.224999999999999
         ],
         "y": [
          0.16158207089546342,
          0.15136143157234638
         ]
        },
        {
         "fill": "tozeroy",
         "fillcolor": "rgb(252,255,76)",
         "hoverinfo": "skip",
         "line": {
          "color": "rgba(0,0,0,0)"
         },
         "mode": "lines",
         "showlegend": false,
         "type": "scatter",
         "x": [
          6.2250000000000005,
          6.300000000000001
         ],
         "y": [
          0.15136143157234638,
          0.14114079224922932
         ]
        },
        {
         "fill": "tozeroy",
         "fillcolor": "rgb(252,255,76)",
         "hoverinfo": "skip",
         "line": {
          "color": "rgba(0,0,0,0)"
         },
         "mode": "lines",
         "showlegend": false,
         "type": "scatter",
         "x": [
          6.300000000000001,
          6.375000000000001
         ],
         "y": [
          0.14114079224922932,
          0.13185202701851856
         ]
        },
        {
         "fill": "tozeroy",
         "fillcolor": "rgb(252,255,76)",
         "hoverinfo": "skip",
         "line": {
          "color": "rgba(0,0,0,0)"
         },
         "mode": "lines",
         "showlegend": false,
         "type": "scatter",
         "x": [
          6.374999999999999,
          6.449999999999999
         ],
         "y": [
          0.13185202701851856,
          0.12256326178780783
         ]
        },
        {
         "fill": "tozeroy",
         "fillcolor": "rgb(252,255,76)",
         "hoverinfo": "skip",
         "line": {
          "color": "rgba(0,0,0,0)"
         },
         "mode": "lines",
         "showlegend": false,
         "type": "scatter",
         "x": [
          6.449999999999999,
          6.5249999999999995
         ],
         "y": [
          0.12256326178780783,
          0.11418933008272197
         ]
        },
        {
         "fill": "tozeroy",
         "fillcolor": "rgb(252,255,76)",
         "hoverinfo": "skip",
         "line": {
          "color": "rgba(0,0,0,0)"
         },
         "mode": "lines",
         "showlegend": false,
         "type": "scatter",
         "x": [
          6.524999999999998,
          6.599999999999998
         ],
         "y": [
          0.11418933008272197,
          0.10581539837763612
         ]
        },
        {
         "fill": "tozeroy",
         "fillcolor": "rgb(252,255,76)",
         "hoverinfo": "skip",
         "line": {
          "color": "rgba(0,0,0,0)"
         },
         "mode": "lines",
         "showlegend": false,
         "type": "scatter",
         "x": [
          6.599999999999998,
          6.674999999999998
         ],
         "y": [
          0.10581539837763612,
          0.09832465262878523
         ]
        },
        {
         "fill": "tozeroy",
         "fillcolor": "rgb(252,255,76)",
         "hoverinfo": "skip",
         "line": {
          "color": "rgba(0,0,0,0)"
         },
         "mode": "lines",
         "showlegend": false,
         "type": "scatter",
         "x": [
          6.675,
          6.75
         ],
         "y": [
          0.09832465262878523,
          0.09083390687993435
         ]
        },
        {
         "fill": "tozeroy",
         "fillcolor": "rgb(252,255,76)",
         "hoverinfo": "skip",
         "line": {
          "color": "rgba(0,0,0,0)"
         },
         "mode": "lines",
         "showlegend": false,
         "type": "scatter",
         "x": [
          6.75,
          6.825
         ],
         "y": [
          0.09083390687993435,
          0.08418331602095519
         ]
        },
        {
         "fill": "tozeroy",
         "fillcolor": "rgb(252,255,76)",
         "hoverinfo": "skip",
         "line": {
          "color": "rgba(0,0,0,0)"
         },
         "mode": "lines",
         "showlegend": false,
         "type": "scatter",
         "x": [
          6.824999999999998,
          6.899999999999999
         ],
         "y": [
          0.08418331602095519,
          0.07753272516197604
         ]
        },
        {
         "fill": "tozeroy",
         "fillcolor": "rgb(252,255,76)",
         "hoverinfo": "skip",
         "line": {
          "color": "rgba(0,0,0,0)"
         },
         "mode": "lines",
         "showlegend": false,
         "type": "scatter",
         "x": [
          6.899999999999999,
          6.974999999999999
         ],
         "y": [
          0.07753272516197604,
          0.07167086134162755
         ]
        },
        {
         "fill": "tozeroy",
         "fillcolor": "rgb(252,255,76)",
         "hoverinfo": "skip",
         "line": {
          "color": "rgba(0,0,0,0)"
         },
         "mode": "lines",
         "showlegend": false,
         "type": "scatter",
         "x": [
          6.9750000000000005,
          7.050000000000001
         ],
         "y": [
          0.07167086134162755,
          0.06580899752127906
         ]
        },
        {
         "fill": "tozeroy",
         "fillcolor": "rgb(252,255,76)",
         "hoverinfo": "skip",
         "line": {
          "color": "rgba(0,0,0,0)"
         },
         "mode": "lines",
         "showlegend": false,
         "type": "scatter",
         "x": [
          7.050000000000001,
          7.125000000000001
         ],
         "y": [
          0.06580899752127906,
          0.06067872821802868
         ]
        },
        {
         "fill": "tozeroy",
         "fillcolor": "rgb(252,255,76)",
         "hoverinfo": "skip",
         "line": {
          "color": "rgba(0,0,0,0)"
         },
         "mode": "lines",
         "showlegend": false,
         "type": "scatter",
         "x": [
          7.124999999999999,
          7.199999999999999
         ],
         "y": [
          0.06067872821802868,
          0.0555484589147783
         ]
        },
        {
         "fill": "tozeroy",
         "fillcolor": "rgb(252,255,76)",
         "hoverinfo": "skip",
         "line": {
          "color": "rgba(0,0,0,0)"
         },
         "mode": "lines",
         "showlegend": false,
         "type": "scatter",
         "x": [
          7.199999999999999,
          7.2749999999999995
         ],
         "y": [
          0.0555484589147783,
          0.051089307778999345
         ]
        },
        {
         "fill": "tozeroy",
         "fillcolor": "rgb(252,255,76)",
         "hoverinfo": "skip",
         "line": {
          "color": "rgba(0,0,0,0)"
         },
         "mode": "lines",
         "showlegend": false,
         "type": "scatter",
         "x": [
          7.274999999999998,
          7.349999999999998
         ],
         "y": [
          0.051089307778999345,
          0.04663015664322039
         ]
        },
        {
         "fill": "tozeroy",
         "fillcolor": "rgb(252,255,76)",
         "hoverinfo": "skip",
         "line": {
          "color": "rgba(0,0,0,0)"
         },
         "mode": "lines",
         "showlegend": false,
         "type": "scatter",
         "x": [
          7.349999999999998,
          7.424999999999998
         ],
         "y": [
          0.04663015664322039,
          0.042780326631475914
         ]
        },
        {
         "fill": "tozeroy",
         "fillcolor": "rgb(252,255,76)",
         "hoverinfo": "skip",
         "line": {
          "color": "rgba(0,0,0,0)"
         },
         "mode": "lines",
         "showlegend": false,
         "type": "scatter",
         "x": [
          7.425,
          7.5
         ],
         "y": [
          0.042780326631475914,
          0.038930496619731435
         ]
        },
        {
         "fill": "tozeroy",
         "fillcolor": "rgb(252,255,76)",
         "hoverinfo": "skip",
         "line": {
          "color": "rgba(0,0,0,0)"
         },
         "mode": "lines",
         "showlegend": false,
         "type": "scatter",
         "x": [
          7.5,
          7.575
         ],
         "y": [
          0.038930496619731435,
          0.03562854189498927
         ]
        },
        {
         "fill": "tozeroy",
         "fillcolor": "rgb(252,255,76)",
         "hoverinfo": "skip",
         "line": {
          "color": "rgba(0,0,0,0)"
         },
         "mode": "lines",
         "showlegend": false,
         "type": "scatter",
         "x": [
          7.574999999999998,
          7.649999999999999
         ],
         "y": [
          0.03562854189498927,
          0.032326587170247105
         ]
        },
        {
         "fill": "tozeroy",
         "fillcolor": "rgb(252,255,76)",
         "hoverinfo": "skip",
         "line": {
          "color": "rgba(0,0,0,0)"
         },
         "mode": "lines",
         "showlegend": false,
         "type": "scatter",
         "x": [
          7.649999999999999,
          7.724999999999999
         ],
         "y": [
          0.032326587170247105,
          0.029512764106763647
         ]
        },
        {
         "fill": "tozeroy",
         "fillcolor": "rgb(252,255,76)",
         "hoverinfo": "skip",
         "line": {
          "color": "rgba(0,0,0,0)"
         },
         "mode": "lines",
         "showlegend": false,
         "type": "scatter",
         "x": [
          7.7250000000000005,
          7.800000000000001
         ],
         "y": [
          0.029512764106763647,
          0.02669894104328019
         ]
        },
        {
         "fill": "tozeroy",
         "fillcolor": "rgb(252,255,76)",
         "hoverinfo": "skip",
         "line": {
          "color": "rgba(0,0,0,0)"
         },
         "mode": "lines",
         "showlegend": false,
         "type": "scatter",
         "x": [
          7.800000000000001,
          7.875000000000001
         ],
         "y": [
          0.02669894104328019,
          0.024316239820205407
         ]
        },
        {
         "fill": "tozeroy",
         "fillcolor": "rgb(252,255,76)",
         "hoverinfo": "skip",
         "line": {
          "color": "rgba(0,0,0,0)"
         },
         "mode": "lines",
         "showlegend": false,
         "type": "scatter",
         "x": [
          7.874999999999999,
          7.949999999999999
         ],
         "y": [
          0.024316239820205407,
          0.02193353859713063
         ]
        },
        {
         "fill": "tozeroy",
         "fillcolor": "rgb(252,255,76)",
         "hoverinfo": "skip",
         "line": {
          "color": "rgba(0,0,0,0)"
         },
         "mode": "lines",
         "showlegend": false,
         "type": "scatter",
         "x": [
          7.949999999999999,
          8.024999999999999
         ],
         "y": [
          0.02193353859713063,
          0.019928441500989397
         ]
        },
        {
         "fill": "tozeroy",
         "fillcolor": "rgb(252,255,76)",
         "hoverinfo": "skip",
         "line": {
          "color": "rgba(0,0,0,0)"
         },
         "mode": "lines",
         "showlegend": false,
         "type": "scatter",
         "x": [
          8.024999999999999,
          8.099999999999998
         ],
         "y": [
          0.019928441500989397,
          0.017923344404848166
         ]
        },
        {
         "fill": "tozeroy",
         "fillcolor": "rgb(252,255,76)",
         "hoverinfo": "skip",
         "line": {
          "color": "rgba(0,0,0,0)"
         },
         "mode": "lines",
         "showlegend": false,
         "type": "scatter",
         "x": [
          8.099999999999998,
          8.174999999999997
         ],
         "y": [
          0.017923344404848166,
          0.016246332656987772
         ]
        },
        {
         "fill": "tozeroy",
         "fillcolor": "rgb(252,255,76)",
         "hoverinfo": "skip",
         "line": {
          "color": "rgba(0,0,0,0)"
         },
         "mode": "lines",
         "showlegend": false,
         "type": "scatter",
         "x": [
          8.175,
          8.25
         ],
         "y": [
          0.016246332656987772,
          0.014569320909127378
         ]
        },
        {
         "fill": "tozeroy",
         "fillcolor": "rgb(252,255,76)",
         "hoverinfo": "skip",
         "line": {
          "color": "rgba(0,0,0,0)"
         },
         "mode": "lines",
         "showlegend": false,
         "type": "scatter",
         "x": [
          8.25,
          8.325
         ],
         "y": [
          0.014569320909127378,
          0.013175168316841653
         ]
        },
        {
         "fill": "tozeroy",
         "fillcolor": "rgb(252,255,76)",
         "hoverinfo": "skip",
         "line": {
          "color": "rgba(0,0,0,0)"
         },
         "mode": "lines",
         "showlegend": false,
         "type": "scatter",
         "x": [
          8.325,
          8.399999999999999
         ],
         "y": [
          0.013175168316841653,
          0.011781015724555928
         ]
        },
        {
         "fill": "tozeroy",
         "fillcolor": "rgb(252,255,76)",
         "hoverinfo": "skip",
         "line": {
          "color": "rgba(0,0,0,0)"
         },
         "mode": "lines",
         "showlegend": false,
         "type": "scatter",
         "x": [
          8.399999999999999,
          8.474999999999998
         ],
         "y": [
          0.011781015724555928,
          0.010628911300167458
         ]
        },
        {
         "fill": "tozeroy",
         "fillcolor": "rgb(252,255,76)",
         "hoverinfo": "skip",
         "line": {
          "color": "rgba(0,0,0,0)"
         },
         "mode": "lines",
         "showlegend": false,
         "type": "scatter",
         "x": [
          8.475000000000001,
          8.55
         ],
         "y": [
          0.010628911300167458,
          0.00947680687577899
         ]
        },
        {
         "fill": "tozeroy",
         "fillcolor": "rgb(252,255,76)",
         "hoverinfo": "skip",
         "line": {
          "color": "rgba(0,0,0,0)"
         },
         "mode": "lines",
         "showlegend": false,
         "type": "scatter",
         "x": [
          8.55,
          8.625
         ],
         "y": [
          0.00947680687577899,
          0.008530320116292003
         ]
        },
        {
         "fill": "tozeroy",
         "fillcolor": "rgb(252,255,76)",
         "hoverinfo": "skip",
         "line": {
          "color": "rgba(0,0,0,0)"
         },
         "mode": "lines",
         "showlegend": false,
         "type": "scatter",
         "x": [
          8.625,
          8.7
         ],
         "y": [
          0.008530320116292003,
          0.007583833356805015
         ]
        },
        {
         "fill": "tozeroy",
         "fillcolor": "rgb(252,255,76)",
         "hoverinfo": "skip",
         "line": {
          "color": "rgba(0,0,0,0)"
         },
         "mode": "lines",
         "showlegend": false,
         "type": "scatter",
         "x": [
          8.7,
          8.774999999999999
         ],
         "y": [
          0.007583833356805015,
          0.006810785220781185
         ]
        },
        {
         "fill": "tozeroy",
         "fillcolor": "rgb(252,255,76)",
         "hoverinfo": "skip",
         "line": {
          "color": "rgba(0,0,0,0)"
         },
         "mode": "lines",
         "showlegend": false,
         "type": "scatter",
         "x": [
          8.774999999999999,
          8.849999999999998
         ],
         "y": [
          0.006810785220781185,
          0.0060377370847573535
         ]
        },
        {
         "fill": "tozeroy",
         "fillcolor": "rgb(252,255,76)",
         "hoverinfo": "skip",
         "line": {
          "color": "rgba(0,0,0,0)"
         },
         "mode": "lines",
         "showlegend": false,
         "type": "scatter",
         "x": [
          8.849999999999998,
          8.924999999999997
         ],
         "y": [
          0.0060377370847573535,
          0.005409973826134522
         ]
        },
        {
         "fill": "tozeroy",
         "fillcolor": "rgb(252,255,76)",
         "hoverinfo": "skip",
         "line": {
          "color": "rgba(0,0,0,0)"
         },
         "mode": "lines",
         "showlegend": false,
         "type": "scatter",
         "x": [
          8.925,
          9
         ],
         "y": [
          0.005409973826134522,
          0.004782210567511691
         ]
        },
        {
         "fill": "tozeroy",
         "fillcolor": "rgb(252,255,76)",
         "hoverinfo": "skip",
         "line": {
          "color": "rgba(0,0,0,0)"
         },
         "mode": "lines",
         "showlegend": false,
         "type": "scatter",
         "x": [
          9,
          9.075
         ],
         "y": [
          0.004782210567511691,
          0.004275327702616969
         ]
        },
        {
         "fill": "tozeroy",
         "fillcolor": "rgb(252,255,76)",
         "hoverinfo": "skip",
         "line": {
          "color": "rgba(0,0,0,0)"
         },
         "mode": "lines",
         "showlegend": false,
         "type": "scatter",
         "x": [
          9.075,
          9.149999999999999
         ],
         "y": [
          0.004275327702616969,
          0.0037684448377222463
         ]
        },
        {
         "fill": "tozeroy",
         "fillcolor": "rgb(252,255,76)",
         "hoverinfo": "skip",
         "line": {
          "color": "rgba(0,0,0,0)"
         },
         "mode": "lines",
         "showlegend": false,
         "type": "scatter",
         "x": [
          9.149999999999999,
          9.224999999999998
         ],
         "y": [
          0.0037684448377222463,
          0.003361472090637121
         ]
        },
        {
         "fill": "tozeroy",
         "fillcolor": "rgb(252,255,76)",
         "hoverinfo": "skip",
         "line": {
          "color": "rgba(0,0,0,0)"
         },
         "mode": "lines",
         "showlegend": false,
         "type": "scatter",
         "x": [
          9.225000000000001,
          9.3
         ],
         "y": [
          0.003361472090637121,
          0.002954499343551995
         ]
        },
        {
         "fill": "tozeroy",
         "fillcolor": "rgb(252,255,76)",
         "hoverinfo": "skip",
         "line": {
          "color": "rgba(0,0,0,0)"
         },
         "mode": "lines",
         "showlegend": false,
         "type": "scatter",
         "x": [
          9.3,
          9.375
         ],
         "y": [
          0.002954499343551995,
          0.002629568729851586
         ]
        },
        {
         "fill": "tozeroy",
         "fillcolor": "rgb(252,255,76)",
         "hoverinfo": "skip",
         "line": {
          "color": "rgba(0,0,0,0)"
         },
         "mode": "lines",
         "showlegend": false,
         "type": "scatter",
         "x": [
          9.375,
          9.45
         ],
         "y": [
          0.002629568729851586,
          0.002304638116151177
         ]
        },
        {
         "fill": "tozeroy",
         "fillcolor": "rgb(252,255,76)",
         "hoverinfo": "skip",
         "line": {
          "color": "rgba(0,0,0,0)"
         },
         "mode": "lines",
         "showlegend": false,
         "type": "scatter",
         "x": [
          9.45,
          9.524999999999999
         ],
         "y": [
          0.002304638116151177,
          0.0020466474878344854
         ]
        },
        {
         "fill": "tozeroy",
         "fillcolor": "rgb(252,255,76)",
         "hoverinfo": "skip",
         "line": {
          "color": "rgba(0,0,0,0)"
         },
         "mode": "lines",
         "showlegend": false,
         "type": "scatter",
         "x": [
          9.524999999999999,
          9.599999999999998
         ],
         "y": [
          0.0020466474878344854,
          0.0017886568595177938
         ]
        },
        {
         "fill": "tozeroy",
         "fillcolor": "rgb(252,255,76)",
         "hoverinfo": "skip",
         "line": {
          "color": "rgba(0,0,0,0)"
         },
         "mode": "lines",
         "showlegend": false,
         "type": "scatter",
         "x": [
          9.599999999999998,
          9.674999999999997
         ],
         "y": [
          0.0017886568595177938,
          0.0015849411788141329
         ]
        },
        {
         "fill": "tozeroy",
         "fillcolor": "rgb(252,255,76)",
         "hoverinfo": "skip",
         "line": {
          "color": "rgba(0,0,0,0)"
         },
         "mode": "lines",
         "showlegend": false,
         "type": "scatter",
         "x": [
          9.675,
          9.75
         ],
         "y": [
          0.0015849411788141329,
          0.001381225498110472
         ]
        },
        {
         "fill": "tozeroy",
         "fillcolor": "rgb(252,255,76)",
         "hoverinfo": "skip",
         "line": {
          "color": "rgba(0,0,0,0)"
         },
         "mode": "lines",
         "showlegend": false,
         "type": "scatter",
         "x": [
          9.75,
          9.825
         ],
         "y": [
          0.001381225498110472,
          0.0012212454386519495
         ]
        },
        {
         "fill": "tozeroy",
         "fillcolor": "rgb(252,255,76)",
         "hoverinfo": "skip",
         "line": {
          "color": "rgba(0,0,0,0)"
         },
         "mode": "lines",
         "showlegend": false,
         "type": "scatter",
         "x": [
          9.825,
          9.899999999999999
         ],
         "y": [
          0.0012212454386519495,
          0.0010612653791934271
         ]
        },
        {
         "fill": "tozeroy",
         "fillcolor": "rgb(252,255,76)",
         "hoverinfo": "skip",
         "line": {
          "color": "rgba(0,0,0,0)"
         },
         "mode": "lines",
         "showlegend": false,
         "type": "scatter",
         "x": [
          9.899999999999999,
          9.974999999999998
         ],
         "y": [
          0.0010612653791934271,
          0.0009363090854573044
         ]
        },
        {
         "fill": "tozeroy",
         "fillcolor": "rgb(252,255,76)",
         "hoverinfo": "skip",
         "line": {
          "color": "rgba(0,0,0,0)"
         },
         "mode": "lines",
         "showlegend": false,
         "type": "scatter",
         "x": [
          9.975000000000001,
          10.05
         ],
         "y": [
          0.0009363090854573044,
          0.0008113527917211816
         ]
        },
        {
         "fill": "tozeroy",
         "fillcolor": "rgb(252,255,76)",
         "hoverinfo": "skip",
         "line": {
          "color": "rgba(0,0,0,0)"
         },
         "mode": "lines",
         "showlegend": false,
         "type": "scatter",
         "x": [
          10.05,
          10.125
         ],
         "y": [
          0.0008113527917211816,
          0.0007142811749066054
         ]
        },
        {
         "fill": "tozeroy",
         "fillcolor": "rgb(252,255,76)",
         "hoverinfo": "skip",
         "line": {
          "color": "rgba(0,0,0,0)"
         },
         "mode": "lines",
         "showlegend": false,
         "type": "scatter",
         "x": [
          10.125,
          10.2
         ],
         "y": [
          0.0007142811749066054,
          0.0006172095580920292
         ]
        },
        {
         "fill": "tozeroy",
         "fillcolor": "rgb(252,255,76)",
         "hoverinfo": "skip",
         "line": {
          "color": "rgba(0,0,0,0)"
         },
         "mode": "lines",
         "showlegend": false,
         "type": "scatter",
         "x": [
          10.2,
          10.274999999999999
         ],
         "y": [
          0.0006172095580920292,
          0.000542200865407159
         ]
        },
        {
         "fill": "tozeroy",
         "fillcolor": "rgb(252,255,76)",
         "hoverinfo": "skip",
         "line": {
          "color": "rgba(0,0,0,0)"
         },
         "mode": "lines",
         "showlegend": false,
         "type": "scatter",
         "x": [
          10.274999999999999,
          10.349999999999998
         ],
         "y": [
          0.000542200865407159,
          0.0004671921727222889
         ]
        },
        {
         "fill": "tozeroy",
         "fillcolor": "rgb(252,255,76)",
         "hoverinfo": "skip",
         "line": {
          "color": "rgba(0,0,0,0)"
         },
         "mode": "lines",
         "showlegend": false,
         "type": "scatter",
         "x": [
          10.349999999999998,
          10.424999999999997
         ],
         "y": [
          0.0004671921727222889,
          0.00040954079751271484
         ]
        },
        {
         "fill": "tozeroy",
         "fillcolor": "rgb(252,255,76)",
         "hoverinfo": "skip",
         "line": {
          "color": "rgba(0,0,0,0)"
         },
         "mode": "lines",
         "showlegend": false,
         "type": "scatter",
         "x": [
          10.425,
          10.5
         ],
         "y": [
          0.00040954079751271484,
          0.00035188942230314073
         ]
        },
        {
         "fill": "tozeroy",
         "fillcolor": "rgb(252,255,76)",
         "hoverinfo": "skip",
         "line": {
          "color": "rgba(0,0,0,0)"
         },
         "mode": "lines",
         "showlegend": false,
         "type": "scatter",
         "x": [
          10.5,
          10.575
         ],
         "y": [
          0.00035188942230314073,
          0.0003078132837500357
         ]
        },
        {
         "fill": "tozeroy",
         "fillcolor": "rgb(252,255,76)",
         "hoverinfo": "skip",
         "line": {
          "color": "rgba(0,0,0,0)"
         },
         "mode": "lines",
         "showlegend": false,
         "type": "scatter",
         "x": [
          10.575,
          10.649999999999999
         ],
         "y": [
          0.0003078132837500357,
          0.00026373714519693076
         ]
        },
        {
         "fill": "tozeroy",
         "fillcolor": "rgb(252,255,76)",
         "hoverinfo": "skip",
         "line": {
          "color": "rgba(0,0,0,0)"
         },
         "mode": "lines",
         "showlegend": false,
         "type": "scatter",
         "x": [
          10.649999999999999,
          10.724999999999998
         ],
         "y": [
          0.00026373714519693076,
          0.00023021590130360516
         ]
        },
        {
         "fill": "tozeroy",
         "fillcolor": "rgb(252,255,76)",
         "hoverinfo": "skip",
         "line": {
          "color": "rgba(0,0,0,0)"
         },
         "mode": "lines",
         "showlegend": false,
         "type": "scatter",
         "x": [
          10.725000000000001,
          10.8
         ],
         "y": [
          0.00023021590130360516,
          0.00019669465741027956
         ]
        },
        {
         "fill": "tozeroy",
         "fillcolor": "rgb(252,255,76)",
         "hoverinfo": "skip",
         "line": {
          "color": "rgba(0,0,0,0)"
         },
         "mode": "lines",
         "showlegend": false,
         "type": "scatter",
         "x": [
          10.8,
          10.875
         ],
         "y": [
          0.00019669465741027956,
          0.00017133551329062685
         ]
        },
        {
         "fill": "tozeroy",
         "fillcolor": "rgb(252,255,76)",
         "hoverinfo": "skip",
         "line": {
          "color": "rgba(0,0,0,0)"
         },
         "mode": "lines",
         "showlegend": false,
         "type": "scatter",
         "x": [
          10.875,
          10.95
         ],
         "y": [
          0.00017133551329062685,
          0.00014597636917097414
         ]
        },
        {
         "fill": "tozeroy",
         "fillcolor": "rgb(252,255,76)",
         "hoverinfo": "skip",
         "line": {
          "color": "rgba(0,0,0,0)"
         },
         "mode": "lines",
         "showlegend": false,
         "type": "scatter",
         "x": [
          10.95,
          11.024999999999999
         ],
         "y": [
          0.00014597636917097414,
          0.0001268904989841647
         ]
        },
        {
         "fill": "tozeroy",
         "fillcolor": "rgb(252,255,76)",
         "hoverinfo": "skip",
         "line": {
          "color": "rgba(0,0,0,0)"
         },
         "mode": "lines",
         "showlegend": false,
         "type": "scatter",
         "x": [
          11.024999999999999,
          11.099999999999998
         ],
         "y": [
          0.0001268904989841647,
          0.00010780462879735524
         ]
        },
        {
         "fill": "tozeroy",
         "fillcolor": "rgb(252,255,76)",
         "hoverinfo": "skip",
         "line": {
          "color": "rgba(0,0,0,0)"
         },
         "mode": "lines",
         "showlegend": false,
         "type": "scatter",
         "x": [
          11.099999999999998,
          11.174999999999997
         ],
         "y": [
          0.00010780462879735524,
          0.00009351511388523443
         ]
        },
        {
         "fill": "tozeroy",
         "fillcolor": "rgb(252,255,76)",
         "hoverinfo": "skip",
         "line": {
          "color": "rgba(0,0,0,0)"
         },
         "mode": "lines",
         "showlegend": false,
         "type": "scatter",
         "x": [
          11.175,
          11.25
         ],
         "y": [
          0.00009351511388523443,
          0.00007922559897311362
         ]
        },
        {
         "fill": "tozeroy",
         "fillcolor": "rgb(252,255,76)",
         "hoverinfo": "skip",
         "line": {
          "color": "rgba(0,0,0,0)"
         },
         "mode": "lines",
         "showlegend": false,
         "type": "scatter",
         "x": [
          11.25,
          11.325
         ],
         "y": [
          0.00007922559897311362,
          0.00006858279154905083
         ]
        },
        {
         "fill": "tozeroy",
         "fillcolor": "rgb(252,255,76)",
         "hoverinfo": "skip",
         "line": {
          "color": "rgba(0,0,0,0)"
         },
         "mode": "lines",
         "showlegend": false,
         "type": "scatter",
         "x": [
          11.325,
          11.399999999999999
         ],
         "y": [
          0.00006858279154905083,
          0.00005793998412498806
         ]
        },
        {
         "fill": "tozeroy",
         "fillcolor": "rgb(252,255,76)",
         "hoverinfo": "skip",
         "line": {
          "color": "rgba(0,0,0,0)"
         },
         "mode": "lines",
         "showlegend": false,
         "type": "scatter",
         "x": [
          11.399999999999999,
          11.474999999999998
         ],
         "y": [
          0.00005793998412498806,
          0.000050053343734722824
         ]
        },
        {
         "fill": "tozeroy",
         "fillcolor": "rgb(252,255,76)",
         "hoverinfo": "skip",
         "line": {
          "color": "rgba(0,0,0,0)"
         },
         "mode": "lines",
         "showlegend": false,
         "type": "scatter",
         "x": [
          11.475000000000001,
          11.55
         ],
         "y": [
          0.000050053343734722824,
          0.00004216670334445759
         ]
        },
        {
         "fill": "tozeroy",
         "fillcolor": "rgb(252,255,76)",
         "hoverinfo": "skip",
         "line": {
          "color": "rgba(0,0,0,0)"
         },
         "mode": "lines",
         "showlegend": false,
         "type": "scatter",
         "x": [
          11.55,
          11.625
         ],
         "y": [
          0.00004216670334445759,
          0.0000363522232740341
         ]
        },
        {
         "fill": "tozeroy",
         "fillcolor": "rgb(252,255,76)",
         "hoverinfo": "skip",
         "line": {
          "color": "rgba(0,0,0,0)"
         },
         "mode": "lines",
         "showlegend": false,
         "type": "scatter",
         "x": [
          11.625,
          11.7
         ],
         "y": [
          0.0000363522232740341,
          0.00003053774320361061
         ]
        },
        {
         "fill": "tozeroy",
         "fillcolor": "rgb(252,255,76)",
         "hoverinfo": "skip",
         "line": {
          "color": "rgba(0,0,0,0)"
         },
         "mode": "lines",
         "showlegend": false,
         "type": "scatter",
         "x": [
          11.7,
          11.774999999999999
         ],
         "y": [
          0.00003053774320361061,
          0.00002627414410221184
         ]
        },
        {
         "fill": "tozeroy",
         "fillcolor": "rgb(252,255,76)",
         "hoverinfo": "skip",
         "line": {
          "color": "rgba(0,0,0,0)"
         },
         "mode": "lines",
         "showlegend": false,
         "type": "scatter",
         "x": [
          11.774999999999999,
          11.849999999999998
         ],
         "y": [
          0.00002627414410221184,
          0.000022010545000813065
         ]
        },
        {
         "fill": "tozeroy",
         "fillcolor": "rgb(252,255,76)",
         "hoverinfo": "skip",
         "line": {
          "color": "rgba(0,0,0,0)"
         },
         "mode": "lines",
         "showlegend": false,
         "type": "scatter",
         "x": [
          11.849999999999998,
          11.924999999999997
         ],
         "y": [
          0.000022010545000813065,
          0.00001889813747505515
         ]
        },
        {
         "fill": "tozeroy",
         "fillcolor": "rgb(252,255,76)",
         "hoverinfo": "skip",
         "line": {
          "color": "rgba(0,0,0,0)"
         },
         "mode": "lines",
         "showlegend": false,
         "type": "scatter",
         "x": [
          11.925,
          12
         ],
         "y": [
          0.00001889813747505515,
          0.00001578572994929724
         ]
        },
        {
         "fill": "tozeroy",
         "fillcolor": "rgb(252,255,76)",
         "hoverinfo": "skip",
         "line": {
          "color": "rgba(0,0,0,0)"
         },
         "mode": "lines",
         "showlegend": false,
         "type": "scatter",
         "x": [
          12,
          12.075
         ],
         "y": [
          0.00001578572994929724,
          0.000013527111927887722
         ]
        },
        {
         "fill": "tozeroy",
         "fillcolor": "rgb(252,255,76)",
         "hoverinfo": "skip",
         "line": {
          "color": "rgba(0,0,0,0)"
         },
         "mode": "lines",
         "showlegend": false,
         "type": "scatter",
         "x": [
          12.075,
          12.149999999999999
         ],
         "y": [
          0.000013527111927887722,
          0.000011268493906478204
         ]
        },
        {
         "fill": "tozeroy",
         "fillcolor": "rgb(252,255,76)",
         "hoverinfo": "skip",
         "line": {
          "color": "rgba(0,0,0,0)"
         },
         "mode": "lines",
         "showlegend": false,
         "type": "scatter",
         "x": [
          12.149999999999999,
          12.224999999999998
         ],
         "y": [
          0.000011268493906478204,
          0.000009636039892115158
         ]
        },
        {
         "fill": "tozeroy",
         "fillcolor": "rgb(252,255,76)",
         "hoverinfo": "skip",
         "line": {
          "color": "rgba(0,0,0,0)"
         },
         "mode": "lines",
         "showlegend": false,
         "type": "scatter",
         "x": [
          12.225000000000001,
          12.3
         ],
         "y": [
          0.000009636039892115158,
          0.000008003585877752113
         ]
        },
        {
         "fill": "tozeroy",
         "fillcolor": "rgb(252,255,76)",
         "hoverinfo": "skip",
         "line": {
          "color": "rgba(0,0,0,0)"
         },
         "mode": "lines",
         "showlegend": false,
         "type": "scatter",
         "x": [
          12.3,
          12.375
         ],
         "y": [
          0.000008003585877752113,
          0.000006831394639871499
         ]
        },
        {
         "fill": "tozeroy",
         "fillcolor": "rgb(252,255,76)",
         "hoverinfo": "skip",
         "line": {
          "color": "rgba(0,0,0,0)"
         },
         "mode": "lines",
         "showlegend": false,
         "type": "scatter",
         "x": [
          12.375,
          12.45
         ],
         "y": [
          0.000006831394639871499,
          0.0000056592034019908845
         ]
        },
        {
         "fill": "tozeroy",
         "fillcolor": "rgb(252,255,76)",
         "hoverinfo": "skip",
         "line": {
          "color": "rgba(0,0,0,0)"
         },
         "mode": "lines",
         "showlegend": false,
         "type": "scatter",
         "x": [
          12.45,
          12.524999999999999
         ],
         "y": [
          0.0000056592034019908845,
          0.000004819756614114669
         ]
        },
        {
         "fill": "tozeroy",
         "fillcolor": "rgb(252,255,76)",
         "hoverinfo": "skip",
         "line": {
          "color": "rgba(0,0,0,0)"
         },
         "mode": "lines",
         "showlegend": false,
         "type": "scatter",
         "x": [
          12.524999999999999,
          12.599999999999998
         ],
         "y": [
          0.000004819756614114669,
          0.000003980309826238454
         ]
        },
        {
         "fill": "tozeroy",
         "fillcolor": "rgb(252,255,76)",
         "hoverinfo": "skip",
         "line": {
          "color": "rgba(0,0,0,0)"
         },
         "mode": "lines",
         "showlegend": false,
         "type": "scatter",
         "x": [
          12.599999999999998,
          12.674999999999997
         ],
         "y": [
          0.000003980309826238454,
          0.0000033841158947903857
         ]
        },
        {
         "fill": "tozeroy",
         "fillcolor": "rgb(252,255,76)",
         "hoverinfo": "skip",
         "line": {
          "color": "rgba(0,0,0,0)"
         },
         "mode": "lines",
         "showlegend": false,
         "type": "scatter",
         "x": [
          12.675,
          12.75
         ],
         "y": [
          0.0000033841158947903857,
          0.000002787921963342317
         ]
        },
        {
         "fill": "tozeroy",
         "fillcolor": "rgb(252,255,76)",
         "hoverinfo": "skip",
         "line": {
          "color": "rgba(0,0,0,0)"
         },
         "mode": "lines",
         "showlegend": false,
         "type": "scatter",
         "x": [
          12.75,
          12.825
         ],
         "y": [
          0.000002787921963342317,
          0.00000236506296736984
         ]
        },
        {
         "fill": "tozeroy",
         "fillcolor": "rgb(252,255,76)",
         "hoverinfo": "skip",
         "line": {
          "color": "rgba(0,0,0,0)"
         },
         "mode": "lines",
         "showlegend": false,
         "type": "scatter",
         "x": [
          12.825,
          12.899999999999999
         ],
         "y": [
          0.00000236506296736984,
          0.000001942203971397363
         ]
        },
        {
         "fill": "tozeroy",
         "fillcolor": "rgb(252,255,76)",
         "hoverinfo": "skip",
         "line": {
          "color": "rgba(0,0,0,0)"
         },
         "mode": "lines",
         "showlegend": false,
         "type": "scatter",
         "x": [
          12.899999999999999,
          12.974999999999998
         ],
         "y": [
          0.000001942203971397363,
          0.0000016449603885179748
         ]
        },
        {
         "fill": "tozeroy",
         "fillcolor": "rgb(252,255,76)",
         "hoverinfo": "skip",
         "line": {
          "color": "rgba(0,0,0,0)"
         },
         "mode": "lines",
         "showlegend": false,
         "type": "scatter",
         "x": [
          12.975000000000001,
          13.05
         ],
         "y": [
          0.0000016449603885179748,
          0.0000013477168056385865
         ]
        },
        {
         "fill": "tozeroy",
         "fillcolor": "rgb(252,255,76)",
         "hoverinfo": "skip",
         "line": {
          "color": "rgba(0,0,0,0)"
         },
         "mode": "lines",
         "showlegend": false,
         "type": "scatter",
         "x": [
          13.05,
          13.125
         ],
         "y": [
          0.0000013477168056385865,
          0.0000011386252179869135
         ]
        },
        {
         "fill": "tozeroy",
         "fillcolor": "rgb(252,255,76)",
         "hoverinfo": "skip",
         "line": {
          "color": "rgba(0,0,0,0)"
         },
         "mode": "lines",
         "showlegend": false,
         "type": "scatter",
         "x": [
          13.125,
          13.2
         ],
         "y": [
          0.0000011386252179869135,
          9.295336303352406e-7
         ]
        },
        {
         "fill": "tozeroy",
         "fillcolor": "rgb(252,255,76)",
         "hoverinfo": "skip",
         "line": {
          "color": "rgba(0,0,0,0)"
         },
         "mode": "lines",
         "showlegend": false,
         "type": "scatter",
         "x": [
          13.2,
          13.274999999999999
         ],
         "y": [
          9.295336303352406e-7,
          7.847113240948646e-7
         ]
        },
        {
         "fill": "tozeroy",
         "fillcolor": "rgb(252,255,76)",
         "hoverinfo": "skip",
         "line": {
          "color": "rgba(0,0,0,0)"
         },
         "mode": "lines",
         "showlegend": false,
         "type": "scatter",
         "x": [
          13.274999999999999,
          13.349999999999998
         ],
         "y": [
          7.847113240948646e-7,
          6.398890178544886e-7
         ]
        },
        {
         "fill": "tozeroy",
         "fillcolor": "rgb(252,255,76)",
         "hoverinfo": "skip",
         "line": {
          "color": "rgba(0,0,0,0)"
         },
         "mode": "lines",
         "showlegend": false,
         "type": "scatter",
         "x": [
          13.349999999999998,
          13.424999999999997
         ],
         "y": [
          6.398890178544886e-7,
          5.382337955313521e-7
         ]
        },
        {
         "fill": "tozeroy",
         "fillcolor": "rgb(252,255,76)",
         "hoverinfo": "skip",
         "line": {
          "color": "rgba(0,0,0,0)"
         },
         "mode": "lines",
         "showlegend": false,
         "type": "scatter",
         "x": [
          13.425,
          13.5
         ],
         "y": [
          5.382337955313521e-7,
          4.365785732082157e-7
         ]
        },
        {
         "fill": "tozeroy",
         "fillcolor": "rgb(252,255,76)",
         "hoverinfo": "skip",
         "line": {
          "color": "rgba(0,0,0,0)"
         },
         "mode": "lines",
         "showlegend": false,
         "type": "scatter",
         "x": [
          13.5,
          13.575
         ],
         "y": [
          4.365785732082157e-7,
          3.679359137168368e-7
         ]
        },
        {
         "fill": "tozeroy",
         "fillcolor": "rgb(252,255,76)",
         "hoverinfo": "skip",
         "line": {
          "color": "rgba(0,0,0,0)"
         },
         "mode": "lines",
         "showlegend": false,
         "type": "scatter",
         "x": [
          13.575,
          13.649999999999999
         ],
         "y": [
          3.679359137168368e-7,
          2.9929325422545786e-7
         ]
        },
        {
         "fill": "tozeroy",
         "fillcolor": "rgb(252,255,76)",
         "hoverinfo": "skip",
         "line": {
          "color": "rgba(0,0,0,0)"
         },
         "mode": "lines",
         "showlegend": false,
         "type": "scatter",
         "x": [
          13.649999999999999,
          13.724999999999998
         ],
         "y": [
          2.9929325422545786e-7,
          2.499167813844018e-7
         ]
        },
        {
         "fill": "tozeroy",
         "fillcolor": "rgb(252,255,76)",
         "hoverinfo": "skip",
         "line": {
          "color": "rgba(0,0,0,0)"
         },
         "mode": "lines",
         "showlegend": false,
         "type": "scatter",
         "x": [
          13.724999999999998,
          13.799999999999997
         ],
         "y": [
          2.499167813844018e-7,
          2.0054030854334567e-7
         ]
        },
        {
         "fill": "tozeroy",
         "fillcolor": "rgb(252,255,76)",
         "hoverinfo": "skip",
         "line": {
          "color": "rgba(0,0,0,0)"
         },
         "mode": "lines",
         "showlegend": false,
         "type": "scatter",
         "x": [
          13.799999999999997,
          13.874999999999996
         ],
         "y": [
          2.0054030854334567e-7,
          1.694696092832998e-7
         ]
        },
        {
         "fill": "tozeroy",
         "fillcolor": "rgb(252,255,76)",
         "hoverinfo": "skip",
         "line": {
          "color": "rgba(0,0,0,0)"
         },
         "mode": "lines",
         "showlegend": false,
         "type": "scatter",
         "x": [
          13.875,
          13.95
         ],
         "y": [
          1.694696092832998e-7,
          1.3839891002325395e-7
         ]
        },
        {
         "fill": "tozeroy",
         "fillcolor": "rgb(252,255,76)",
         "hoverinfo": "skip",
         "line": {
          "color": "rgba(0,0,0,0)"
         },
         "mode": "lines",
         "showlegend": false,
         "type": "scatter",
         "x": [
          13.95,
          14.024999999999999
         ],
         "y": [
          1.3839891002325395e-7,
          1.1431595017821426e-7
         ]
        },
        {
         "fill": "tozeroy",
         "fillcolor": "rgb(252,255,76)",
         "hoverinfo": "skip",
         "line": {
          "color": "rgba(0,0,0,0)"
         },
         "mode": "lines",
         "showlegend": false,
         "type": "scatter",
         "x": [
          14.024999999999999,
          14.099999999999998
         ],
         "y": [
          1.1431595017821426e-7,
          9.023299033317455e-8
         ]
        },
        {
         "fill": "tozeroy",
         "fillcolor": "rgb(252,255,76)",
         "hoverinfo": "skip",
         "line": {
          "color": "rgba(0,0,0,0)"
         },
         "mode": "lines",
         "showlegend": false,
         "type": "scatter",
         "x": [
          14.099999999999998,
          14.174999999999997
         ],
         "y": [
          9.023299033317455e-8,
          7.627039508795738e-8
         ]
        },
        {
         "fill": "tozeroy",
         "fillcolor": "rgb(252,255,76)",
         "hoverinfo": "skip",
         "line": {
          "color": "rgba(0,0,0,0)"
         },
         "mode": "lines",
         "showlegend": false,
         "type": "scatter",
         "x": [
          14.175,
          14.25
         ],
         "y": [
          7.627039508795738e-8,
          6.230779984274021e-8
         ]
        },
        {
         "fill": "tozeroy",
         "fillcolor": "rgb(252,255,76)",
         "hoverinfo": "skip",
         "line": {
          "color": "rgba(0,0,0,0)"
         },
         "mode": "lines",
         "showlegend": false,
         "type": "scatter",
         "x": [
          14.25,
          14.325
         ],
         "y": [
          6.230779984274021e-8,
          5.073497400114043e-8
         ]
        },
        {
         "fill": "tozeroy",
         "fillcolor": "rgb(252,255,76)",
         "hoverinfo": "skip",
         "line": {
          "color": "rgba(0,0,0,0)"
         },
         "mode": "lines",
         "showlegend": false,
         "type": "scatter",
         "x": [
          14.325,
          14.399999999999999
         ],
         "y": [
          5.073497400114043e-8,
          3.9162148159540645e-8
         ]
        },
        {
         "fill": "tozeroy",
         "fillcolor": "rgb(252,255,76)",
         "hoverinfo": "skip",
         "line": {
          "color": "rgba(0,0,0,0)"
         },
         "mode": "lines",
         "showlegend": false,
         "type": "scatter",
         "x": [
          14.399999999999999,
          14.474999999999998
         ],
         "y": [
          3.9162148159540645e-8,
          3.337236192423402e-8
         ]
        },
        {
         "fill": "tozeroy",
         "fillcolor": "rgb(252,255,76)",
         "hoverinfo": "skip",
         "line": {
          "color": "rgba(0,0,0,0)"
         },
         "mode": "lines",
         "showlegend": false,
         "type": "scatter",
         "x": [
          14.474999999999998,
          14.549999999999997
         ],
         "y": [
          3.337236192423402e-8,
          2.7582575688927392e-8
         ]
        },
        {
         "fill": "tozeroy",
         "fillcolor": "rgb(252,255,76)",
         "hoverinfo": "skip",
         "line": {
          "color": "rgba(0,0,0,0)"
         },
         "mode": "lines",
         "showlegend": false,
         "type": "scatter",
         "x": [
          14.549999999999997,
          14.624999999999996
         ],
         "y": [
          2.7582575688927392e-8,
          2.078878205299298e-8
         ]
        },
        {
         "fill": "tozeroy",
         "fillcolor": "rgb(255,253,76)",
         "hoverinfo": "skip",
         "line": {
          "color": "rgba(0,0,0,0)"
         },
         "mode": "lines",
         "showlegend": false,
         "type": "scatter",
         "x": [
          14.625,
          14.7
         ],
         "y": [
          2.078878205299298e-8,
          1.3994988417058572e-8
         ]
        },
        {
         "fill": "tozeroy",
         "fillcolor": "rgb(255,253,76)",
         "hoverinfo": "skip",
         "line": {
          "color": "rgba(0,0,0,0)"
         },
         "mode": "lines",
         "showlegend": false,
         "type": "scatter",
         "x": [
          14.7,
          14.774999999999999
         ],
         "y": [
          1.3994988417058572e-8,
          1.571487559534714e-8
         ]
        },
        {
         "fill": "tozeroy",
         "fillcolor": "rgb(226,255,76)",
         "hoverinfo": "skip",
         "line": {
          "color": "rgba(0,0,0,0)"
         },
         "mode": "lines",
         "showlegend": false,
         "type": "scatter",
         "x": [
          14.775,
          14.85
         ],
         "y": [
          1.571487559534714e-8,
          1.7434762773635707e-8
         ]
        },
        {
         "customdata": [
          [
           0.39960908573944875,
           1.4666890507698874e-8
          ],
          [
           0.3242890262781432,
           6.40916491526516e-9
          ],
          [
           0.3548238045700044,
           1.9429918103134596e-8
          ],
          [
           0.33229093488326045,
           2.3981529318998075e-8
          ],
          [
           0.3474111391738067,
           4.187066177754778e-8
          ],
          [
           0.3387760012803022,
           6.015417519323673e-8
          ],
          [
           0.3395876204597463,
           9.202107703153603e-8
          ],
          [
           0.3401604830902057,
           1.368683327376434e-7
          ],
          [
           0.341642491936437,
           2.0187649959196945e-7
          ],
          [
           0.3404040344873686,
           2.9810990929100706e-7
          ],
          [
           0.3410467293047197,
           4.376405673824936e-7
          ],
          [
           0.3405510219523905,
           6.3892701609862e-7
          ],
          [
           0.3407626616608988,
           9.304124986240699e-7
          ],
          [
           0.34013466421111255,
           0.0000013469088011285695
          ],
          [
           0.34006873385061887,
           0.0000019429514292433896
          ],
          [
           0.33986205012770376,
           0.00000278722714496284
          ],
          [
           0.33984192004817687,
           0.000003980958582793441
          ],
          [
           0.3396784342327786,
           0.000005658595478343048
          ],
          [
           0.33969508347811106,
           0.00000800415754782054
          ],
          [
           0.339676474642603,
           0.000011267954796346887
          ],
          [
           0.3396774576738179,
           0.000015786239718678563
          ],
          [
           0.33965089458683784,
           0.000022010061879035225
          ],
          [
           0.3396581313626712,
           0.000030538202075535244
          ],
          [
           0.33964406272300646,
           0.00004216626671428396
          ],
          [
           0.33962881977316456,
           0.00005794040033348701
          ],
          [
           0.33961254720457285,
           0.00007922520162359509
          ],
          [
           0.33959701208846915,
           0.00010780500868833398
          ],
          [
           0.33957968761386736,
           0.0001459760055152034
          ],
          [
           0.33956341029391895,
           0.00019669500592637122
          ],
          [
           0.3395475853783379,
           0.00026373681081862647
          ],
          [
           0.3395328904399241,
           0.00035188974342658237
          ],
          [
           0.3395197959610907,
           0.00046719186402418184
          ],
          [
           0.33950633619563236,
           0.0006172098551036512
          ],
          [
           0.33949457901165153,
           0.0008113525057576266
          ],
          [
           0.33948319017815776,
           0.001061265654733615
          ],
          [
           0.3394728174447672,
           0.0013812252324416647
          ],
          [
           0.3394627351823955,
           0.0017886571157900107
          ],
          [
           0.33945359449258844,
           0.0023046378688288995
          ],
          [
           0.3394450155948751,
           0.0029544995823702312
          ],
          [
           0.33943697992675603,
           0.0037684446070024593
          ],
          [
           0.3394294944321019,
           0.004782210790503389
          ],
          [
           0.3394225381773463,
           0.006037736869173382
          ],
          [
           0.3394161081164622,
           0.007583833565292478
          ],
          [
           0.33941010887647904,
           0.009476806674094332
          ],
          [
           0.3394046225217763,
           0.0117810159197221
          ],
          [
           0.3393995623707783,
           0.014569320720299659
          ],
          [
           0.33939497797009593,
           0.017923344587627482
          ],
          [
           0.33939078596488326,
           0.021933538420165516
          ],
          [
           0.33938702227988143,
           0.02669894121465374
          ],
          [
           0.33938363909028624,
           0.0323265870042693
          ],
          [
           0.339380623333961,
           0.038930496780434344
          ],
          [
           0.3393779594569218,
           0.04663015648758224
          ],
          [
           0.3393756295629732,
           0.055548459065473454
          ],
          [
           0.3393736164749846,
           0.06580899737540383
          ],
          [
           0.3393719015843821,
           0.07753272530318232
          ],
          [
           0.33937047560813266,
           0.09083390674321222
          ],
          [
           0.33936931789091673,
           0.10581539850998621
          ],
          [
           0.3393684106158568,
           0.12256326165967464
          ],
          [
           0.3393677451685454,
           0.14114079237323113
          ],
          [
           0.3393673009616915,
           0.1615820707754993
          ],
          [
           0.3393670655972731,
           0.18388517892295916
          ],
          [
           0.33936702596553053,
           0.20800528610757407
          ],
          [
           0.3393671650950086,
           0.23384784998603833
          ],
          [
           0.3393674782164251,
           0.26126221904613356
          ],
          [
           0.3393679411450959,
           0.29003595466626564
          ],
          [
           0.3393685515894804,
           0.3198902418915293
          ],
          [
           0.3393692927468413,
           0.3504767418367961
          ],
          [
           0.33937015379572627,
           0.381376278706533
          ],
          [
           0.3393711231940161,
           0.4120996973173469
          ],
          [
           0.33937219265195884,
           0.4420912398168748
          ],
          [
           0.3393733482051696,
           0.47073466899337174
          ],
          [
           0.3393745853313435,
           0.4973623729205467
          ],
          [
           0.33937589028907317,
           0.5212674779133791
          ],
          [
           0.339377259876025,
           0.5417189903275138
          ],
          [
           0.33937868431933055,
           0.5579797544951022
          ],
          [
           0.3393801590879702,
           0.569326937762779
          ],
          [
           0.33938168020974363,
           0.5750745636207074
          ],
          [
           0.33938324493122146,
           0.5745974836240747
          ],
          [
           0.3393848541647866,
           0.5673560472531279
          ],
          [
           0.3393865117353468,
           0.5529205779932428
          ],
          [
           0.33938822756038745,
           0.5309947424539755
          ],
          [
           0.3393900196184526,
           0.5014367606734307
          ],
          [
           0.3393919207251481,
           0.46427747350807325
          ],
          [
           0.339393988246022,
           0.41973425713326795
          ],
          [
           0.33939632625289295,
           0.3682199160856702
          ],
          [
           0.3393991416554252,
           0.310345768509023
          ],
          [
           0.3394028809911126,
           0.2469183567332805
          ],
          [
           0.33940874077157096,
           0.17892944429234747
          ],
          [
           0.33942118827920353,
           0.10753917748029736
          ],
          [
           0.3394837326289749,
           0.034052634101876915
          ],
          [
           -0.6606818578833207,
           0.040109803264191765
          ],
          [
           -0.6606315868197702,
           0.11344741612617747
          ],
          [
           -0.6606204190002527,
           0.18441852760776095
          ],
          [
           -0.6606153004238022,
           0.2514829095815601
          ],
          [
           -0.6606123041772543,
           0.3131458527192806
          ],
          [
           -0.6606103368062488,
           0.3680022736423974
          ],
          [
           -0.660608979263733,
           0.41477923485702395
          ],
          [
           -0.6606080387208385,
           0.45237526380660503
          ],
          [
           -0.6606074169522543,
           0.4798949100097598
          ],
          [
           -0.6606070595573521,
           0.4966771975982206
          ],
          [
           -0.6606069447550378,
           0.5023168196209724
          ],
          [
           -0.6606070595577094,
           0.4966771975956991
          ],
          [
           -0.660607416951538,
           0.4798949100147702
          ],
          [
           -0.6606080387219809,
           0.45237526379910065
          ],
          [
           -0.6606089792620535,
           0.4147792348670168
          ],
          [
           -0.6606103368086159,
           0.36800227362994703
          ],
          [
           -0.6606123041738989,
           0.3131458527342034
          ],
          [
           -0.660615300428655,
           0.25148290956417163
          ],
          [
           -0.6606204189926461,
           0.18441852762765118
          ],
          [
           -0.6606315868337024,
           0.11344741610373654
          ],
          [
           -0.6606818578394827,
           0.04010980328919645
          ],
          [
           0.3394837326858139,
           0.03405263412947305
          ],
          [
           0.3394211882595137,
           0.10753917745008468
          ],
          [
           0.33940874078440164,
           0.17892944432515365
          ],
          [
           0.33940288098105975,
           0.2469183566978963
          ],
          [
           0.33939914166402013,
           0.3103457685469925
          ],
          [
           0.3393963262451465,
           0.3682199160450919
          ],
          [
           0.3393939882532959,
           0.4197342571765002
          ],
          [
           0.3393919207181652,
           0.46427747346212844
          ],
          [
           0.33939001962530374,
           0.5014367607221302
          ],
          [
           0.33938822755355985,
           0.5309947424025073
          ],
          [
           0.3393865117422594,
           0.5529205780474902
          ],
          [
           0.3393848541576873,
           0.5673560471960848
          ],
          [
           0.3393832449385781,
           0.5745974836839539
          ],
          [
           0.33938168020203163,
           0.5750745635579645
          ],
          [
           0.3393801590961454,
           0.5693269378284204
          ],
          [
           0.3393786843105926,
           0.5579797544264928
          ],
          [
           0.33937725988541734,
           0.5417189903991436
          ],
          [
           0.3393758902789103,
           0.5212674778386833
          ],
          [
           0.33937458534243903,
           0.497362372998365
          ],
          [
           0.3393733481929569,
           0.47073466891241134
          ],
          [
           0.3393721926654896,
           0.4420912399010416
          ],
          [
           0.3393711231789377,
           0.4120996972299234
          ],
          [
           0.33937015381267754,
           0.3813762787972517
          ],
          [
           0.3393692927276653,
           0.3504767417426965
          ],
          [
           0.3393685516112833,
           0.3198902419890644
          ],
          [
           0.3393679411201759,
           0.29003595456520276
          ],
          [
           0.3393674782450945,
           0.2612622191508191
          ],
          [
           0.33936716506177794,
           0.2338478498776456
          ],
          [
           0.3393670260041751,
           0.20800528621974168
          ],
          [
           0.33936706555204055,
           0.18388517880692282
          ],
          [
           0.3393673010149629,
           0.16158207089546342
          ],
          [
           0.33936774510539813,
           0.14114079224922932
          ],
          [
           0.33936841069108303,
           0.12256326178780783
          ],
          [
           0.3393693178007632,
           0.10581539837763612
          ],
          [
           0.33937047571685497,
           0.09083390687993435
          ],
          [
           0.33937190145253265,
           0.07753272516197604
          ],
          [
           0.3393736166356047,
           0.06580899752127906
          ],
          [
           0.3393756293664342,
           0.0555484589147783
          ],
          [
           0.33937795969907236,
           0.04663015664322039
          ],
          [
           0.33938062303417516,
           0.038930496619731435
          ],
          [
           0.3393836394635203,
           0.032326587170247105
          ],
          [
           0.33938702181270936,
           0.02669894104328019
          ],
          [
           0.3393907865533335,
           0.02193353859713063
          ],
          [
           0.33939497722471584,
           0.017923344404848166
          ],
          [
           0.33939956331954735,
           0.014569320909127378
          ],
          [
           0.33940462130814,
           0.011781015724555928
          ],
          [
           0.33941011043841346,
           0.00947680687577899
          ],
          [
           0.3394161060956981,
           0.007583833356805015
          ],
          [
           0.33942254080529344,
           0.0060377370847573535
          ],
          [
           0.33942949099708053,
           0.004782210567511691
          ],
          [
           0.339436984445724,
           0.0037684448377222463
          ],
          [
           0.33944500961758184,
           0.002954499343551995
          ],
          [
           0.33945360244290684,
           0.002304638116151177
          ],
          [
           0.33946272455386806,
           0.0017886568595177938
          ],
          [
           0.3394728317378977,
           0.001381225498110472
          ],
          [
           0.3394831708493907,
           0.0010612653791934271
          ],
          [
           0.33949460529619735,
           0.0008113527917211816
          ],
          [
           0.3395063002511058,
           0.0006172095580920292
          ],
          [
           0.3395198454096637,
           0.0004671921727222889
          ],
          [
           0.3395328220121703,
           0.00035188942230314073
          ],
          [
           0.33954768060335455,
           0.00026373714519693076
          ],
          [
           0.33956327692703286,
           0.00019669465741027956
          ],
          [
           0.33957987543878754,
           0.00014597636917097414
          ],
          [
           0.33959674585209043,
           0.00010780462879735524
          ],
          [
           0.33961292671356375,
           0.00007922559897311362
          ],
          [
           0.3396282750959073,
           0.00005793998412498806
          ],
          [
           0.3396448492314266,
           0.00004216670334445759
          ],
          [
           0.3396569875201508,
           0.00003053774320361061
          ],
          [
           0.3396525693487424,
           0.000022010545000813065
          ],
          [
           0.3396749882503446,
           0.00001578572994929724
          ],
          [
           0.3396801419230169,
           0.000011268493906478204
          ],
          [
           0.3396895965007116,
           0.000008003585877752113
          ],
          [
           0.3396867076565928,
           0.0000056592034019908845
          ],
          [
           0.33982936718571866,
           0.000003980309826238454
          ],
          [
           0.33988128647927257,
           0.000002787921963342317
          ],
          [
           0.34003903778312994,
           0.000001942203971397363
          ],
          [
           0.3401810020811588,
           0.0000013477168056385865
          ],
          [
           0.3406900191657816,
           9.295336303352406e-7
          ],
          [
           0.34066716195017316,
           6.398890178544886e-7
          ],
          [
           0.3408595577650017,
           4.365785732082157e-7
          ],
          [
           0.3407117336408788,
           2.9929325422545786e-7
          ],
          [
           0.34113113975150416,
           2.0054030854334567e-7
          ],
          [
           0.34102852291076663,
           1.3839891002325395e-7
          ],
          [
           0.33801427842673265,
           9.023299033317455e-8
          ],
          [
           0.3415532535006061,
           6.230779984274021e-8
          ],
          [
           0.34245475954259746,
           3.9162148159540645e-8
          ],
          [
           0.3437047442465954,
           2.7582575688927392e-8
          ],
          [
           0.32964626501855454,
           1.3994988417058572e-8
          ],
          [
           0.384270004744424,
           1.7434762773635707e-8
          ]
         ],
         "hovertemplate": "x: %{x:.2f} a₀<br>θ: %{customdata[0]:.2f} π<br>ρ: %{customdata[1]:.2e}",
         "line": {
          "color": "black"
         },
         "mode": "lines",
         "name": "",
         "showlegend": false,
         "type": "scatter",
         "x": [
          -15,
          -14.85,
          -14.7,
          -14.55,
          -14.4,
          -14.25,
          -14.1,
          -13.95,
          -13.8,
          -13.65,
          -13.5,
          -13.35,
          -13.2,
          -13.05,
          -12.9,
          -12.75,
          -12.6,
          -12.45,
          -12.3,
          -12.15,
          -12,
          -11.85,
          -11.7,
          -11.55,
          -11.4,
          -11.25,
          -11.1,
          -10.95,
          -10.8,
          -10.65,
          -10.5,
          -10.350000000000001,
          -10.2,
          -10.05,
          -9.9,
          -9.75,
          -9.600000000000001,
          -9.45,
          -9.3,
          -9.15,
          -9,
          -8.850000000000001,
          -8.7,
          -8.55,
          -8.4,
          -8.25,
          -8.100000000000001,
          -7.95,
          -7.800000000000001,
          -7.65,
          -7.5,
          -7.3500000000000005,
          -7.2,
          -7.050000000000001,
          -6.9,
          -6.75,
          -6.6,
          -6.450000000000001,
          -6.300000000000001,
          -6.15,
          -6,
          -5.85,
          -5.700000000000001,
          -5.550000000000001,
          -5.4,
          -5.25,
          -5.1,
          -4.950000000000001,
          -4.800000000000001,
          -4.65,
          -4.5,
          -4.35,
          -4.200000000000001,
          -4.050000000000001,
          -3.9000000000000004,
          -3.75,
          -3.5999999999999996,
          -3.450000000000001,
          -3.3000000000000007,
          -3.1500000000000004,
          -3,
          -2.8499999999999996,
          -2.700000000000001,
          -2.5500000000000007,
          -2.4000000000000004,
          -2.25,
          -2.0999999999999996,
          -1.950000000000001,
          -1.8000000000000007,
          -1.6500000000000004,
          -1.5,
          -1.3499999999999996,
          -1.200000000000001,
          -1.0500000000000007,
          -0.9000000000000004,
          -0.75,
          -0.6000000000000014,
          -0.45000000000000107,
          -0.3000000000000007,
          -0.15000000000000036,
          0,
          0.14999999999999858,
          0.29999999999999893,
          0.4499999999999993,
          0.5999999999999996,
          0.75,
          0.8999999999999986,
          1.0500000000000007,
          1.1999999999999993,
          1.3499999999999979,
          1.5,
          1.6499999999999986,
          1.8000000000000007,
          1.9499999999999993,
          2.099999999999998,
          2.25,
          2.3999999999999986,
          2.5500000000000007,
          2.6999999999999993,
          2.849999999999998,
          3,
          3.1499999999999986,
          3.3000000000000007,
          3.4499999999999993,
          3.599999999999998,
          3.75,
          3.8999999999999986,
          4.050000000000001,
          4.199999999999999,
          4.349999999999998,
          4.5,
          4.649999999999999,
          4.800000000000001,
          4.949999999999999,
          5.099999999999998,
          5.25,
          5.399999999999999,
          5.550000000000001,
          5.699999999999999,
          5.849999999999998,
          6,
          6.149999999999999,
          6.300000000000001,
          6.449999999999999,
          6.599999999999998,
          6.75,
          6.899999999999999,
          7.050000000000001,
          7.199999999999999,
          7.349999999999998,
          7.5,
          7.649999999999999,
          7.800000000000001,
          7.949999999999999,
          8.099999999999998,
          8.25,
          8.399999999999999,
          8.55,
          8.7,
          8.849999999999998,
          9,
          9.149999999999999,
          9.3,
          9.45,
          9.599999999999998,
          9.75,
          9.899999999999999,
          10.05,
          10.2,
          10.349999999999998,
          10.5,
          10.649999999999999,
          10.8,
          10.95,
          11.099999999999998,
          11.25,
          11.399999999999999,
          11.55,
          11.7,
          11.849999999999998,
          12,
          12.149999999999999,
          12.3,
          12.45,
          12.599999999999998,
          12.75,
          12.899999999999999,
          13.05,
          13.2,
          13.349999999999998,
          13.5,
          13.649999999999999,
          13.799999999999997,
          13.95,
          14.099999999999998,
          14.25,
          14.399999999999999,
          14.549999999999997,
          14.7,
          14.85
         ],
         "y": [
          1.4666890507698874e-8,
          6.40916491526516e-9,
          1.9429918103134596e-8,
          2.3981529318998075e-8,
          4.187066177754778e-8,
          6.015417519323673e-8,
          9.202107703153603e-8,
          1.368683327376434e-7,
          2.0187649959196945e-7,
          2.9810990929100706e-7,
          4.376405673824936e-7,
          6.3892701609862e-7,
          9.304124986240699e-7,
          0.0000013469088011285695,
          0.0000019429514292433896,
          0.00000278722714496284,
          0.000003980958582793441,
          0.000005658595478343048,
          0.00000800415754782054,
          0.000011267954796346887,
          0.000015786239718678563,
          0.000022010061879035225,
          0.000030538202075535244,
          0.00004216626671428396,
          0.00005794040033348701,
          0.00007922520162359509,
          0.00010780500868833398,
          0.0001459760055152034,
          0.00019669500592637122,
          0.00026373681081862647,
          0.00035188974342658237,
          0.00046719186402418184,
          0.0006172098551036512,
          0.0008113525057576266,
          0.001061265654733615,
          0.0013812252324416647,
          0.0017886571157900107,
          0.0023046378688288995,
          0.0029544995823702312,
          0.0037684446070024593,
          0.004782210790503389,
          0.006037736869173382,
          0.007583833565292478,
          0.009476806674094332,
          0.0117810159197221,
          0.014569320720299659,
          0.017923344587627482,
          0.021933538420165516,
          0.02669894121465374,
          0.0323265870042693,
          0.038930496780434344,
          0.04663015648758224,
          0.055548459065473454,
          0.06580899737540383,
          0.07753272530318232,
          0.09083390674321222,
          0.10581539850998621,
          0.12256326165967464,
          0.14114079237323113,
          0.1615820707754993,
          0.18388517892295916,
          0.20800528610757407,
          0.23384784998603833,
          0.26126221904613356,
          0.29003595466626564,
          0.3198902418915293,
          0.3504767418367961,
          0.381376278706533,
          0.4120996973173469,
          0.4420912398168748,
          0.47073466899337174,
          0.4973623729205467,
          0.5212674779133791,
          0.5417189903275138,
          0.5579797544951022,
          0.569326937762779,
          0.5750745636207074,
          0.5745974836240747,
          0.5673560472531279,
          0.5529205779932428,
          0.5309947424539755,
          0.5014367606734307,
          0.46427747350807325,
          0.41973425713326795,
          0.3682199160856702,
          0.310345768509023,
          0.2469183567332805,
          0.17892944429234747,
          0.10753917748029736,
          0.034052634101876915,
          0.040109803264191765,
          0.11344741612617747,
          0.18441852760776095,
          0.2514829095815601,
          0.3131458527192806,
          0.3680022736423974,
          0.41477923485702395,
          0.45237526380660503,
          0.4798949100097598,
          0.4966771975982206,
          0.5023168196209724,
          0.4966771975956991,
          0.4798949100147702,
          0.45237526379910065,
          0.4147792348670168,
          0.36800227362994703,
          0.3131458527342034,
          0.25148290956417163,
          0.18441852762765118,
          0.11344741610373654,
          0.04010980328919645,
          0.03405263412947305,
          0.10753917745008468,
          0.17892944432515365,
          0.2469183566978963,
          0.3103457685469925,
          0.3682199160450919,
          0.4197342571765002,
          0.46427747346212844,
          0.5014367607221302,
          0.5309947424025073,
          0.5529205780474902,
          0.5673560471960848,
          0.5745974836839539,
          0.5750745635579645,
          0.5693269378284204,
          0.5579797544264928,
          0.5417189903991436,
          0.5212674778386833,
          0.497362372998365,
          0.47073466891241134,
          0.4420912399010416,
          0.4120996972299234,
          0.3813762787972517,
          0.3504767417426965,
          0.3198902419890644,
          0.29003595456520276,
          0.2612622191508191,
          0.2338478498776456,
          0.20800528621974168,
          0.18388517880692282,
          0.16158207089546342,
          0.14114079224922932,
          0.12256326178780783,
          0.10581539837763612,
          0.09083390687993435,
          0.07753272516197604,
          0.06580899752127906,
          0.0555484589147783,
          0.04663015664322039,
          0.038930496619731435,
          0.032326587170247105,
          0.02669894104328019,
          0.02193353859713063,
          0.017923344404848166,
          0.014569320909127378,
          0.011781015724555928,
          0.00947680687577899,
          0.007583833356805015,
          0.0060377370847573535,
          0.004782210567511691,
          0.0037684448377222463,
          0.002954499343551995,
          0.002304638116151177,
          0.0017886568595177938,
          0.001381225498110472,
          0.0010612653791934271,
          0.0008113527917211816,
          0.0006172095580920292,
          0.0004671921727222889,
          0.00035188942230314073,
          0.00026373714519693076,
          0.00019669465741027956,
          0.00014597636917097414,
          0.00010780462879735524,
          0.00007922559897311362,
          0.00005793998412498806,
          0.00004216670334445759,
          0.00003053774320361061,
          0.000022010545000813065,
          0.00001578572994929724,
          0.000011268493906478204,
          0.000008003585877752113,
          0.0000056592034019908845,
          0.000003980309826238454,
          0.000002787921963342317,
          0.000001942203971397363,
          0.0000013477168056385865,
          9.295336303352406e-7,
          6.398890178544886e-7,
          4.365785732082157e-7,
          2.9929325422545786e-7,
          2.0054030854334567e-7,
          1.3839891002325395e-7,
          9.023299033317455e-8,
          6.230779984274021e-8,
          3.9162148159540645e-8,
          2.7582575688927392e-8,
          1.3994988417058572e-8,
          1.7434762773635707e-8
         ]
        }
       ],
       "layout": {
        "template": {
         "data": {
          "bar": [
           {
            "error_x": {
             "color": "#2a3f5f"
            },
            "error_y": {
             "color": "#2a3f5f"
            },
            "marker": {
             "line": {
              "color": "#E5ECF6",
              "width": 0.5
             },
             "pattern": {
              "fillmode": "overlay",
              "size": 10,
              "solidity": 0.2
             }
            },
            "type": "bar"
           }
          ],
          "barpolar": [
           {
            "marker": {
             "line": {
              "color": "#E5ECF6",
              "width": 0.5
             },
             "pattern": {
              "fillmode": "overlay",
              "size": 10,
              "solidity": 0.2
             }
            },
            "type": "barpolar"
           }
          ],
          "carpet": [
           {
            "aaxis": {
             "endlinecolor": "#2a3f5f",
             "gridcolor": "white",
             "linecolor": "white",
             "minorgridcolor": "white",
             "startlinecolor": "#2a3f5f"
            },
            "baxis": {
             "endlinecolor": "#2a3f5f",
             "gridcolor": "white",
             "linecolor": "white",
             "minorgridcolor": "white",
             "startlinecolor": "#2a3f5f"
            },
            "type": "carpet"
           }
          ],
          "choropleth": [
           {
            "colorbar": {
             "outlinewidth": 0,
             "ticks": ""
            },
            "type": "choropleth"
           }
          ],
          "contour": [
           {
            "colorbar": {
             "outlinewidth": 0,
             "ticks": ""
            },
            "colorscale": [
             [
              0,
              "#0d0887"
             ],
             [
              0.1111111111111111,
              "#46039f"
             ],
             [
              0.2222222222222222,
              "#7201a8"
             ],
             [
              0.3333333333333333,
              "#9c179e"
             ],
             [
              0.4444444444444444,
              "#bd3786"
             ],
             [
              0.5555555555555556,
              "#d8576b"
             ],
             [
              0.6666666666666666,
              "#ed7953"
             ],
             [
              0.7777777777777778,
              "#fb9f3a"
             ],
             [
              0.8888888888888888,
              "#fdca26"
             ],
             [
              1,
              "#f0f921"
             ]
            ],
            "type": "contour"
           }
          ],
          "contourcarpet": [
           {
            "colorbar": {
             "outlinewidth": 0,
             "ticks": ""
            },
            "type": "contourcarpet"
           }
          ],
          "heatmap": [
           {
            "colorbar": {
             "outlinewidth": 0,
             "ticks": ""
            },
            "colorscale": [
             [
              0,
              "#0d0887"
             ],
             [
              0.1111111111111111,
              "#46039f"
             ],
             [
              0.2222222222222222,
              "#7201a8"
             ],
             [
              0.3333333333333333,
              "#9c179e"
             ],
             [
              0.4444444444444444,
              "#bd3786"
             ],
             [
              0.5555555555555556,
              "#d8576b"
             ],
             [
              0.6666666666666666,
              "#ed7953"
             ],
             [
              0.7777777777777778,
              "#fb9f3a"
             ],
             [
              0.8888888888888888,
              "#fdca26"
             ],
             [
              1,
              "#f0f921"
             ]
            ],
            "type": "heatmap"
           }
          ],
          "heatmapgl": [
           {
            "colorbar": {
             "outlinewidth": 0,
             "ticks": ""
            },
            "colorscale": [
             [
              0,
              "#0d0887"
             ],
             [
              0.1111111111111111,
              "#46039f"
             ],
             [
              0.2222222222222222,
              "#7201a8"
             ],
             [
              0.3333333333333333,
              "#9c179e"
             ],
             [
              0.4444444444444444,
              "#bd3786"
             ],
             [
              0.5555555555555556,
              "#d8576b"
             ],
             [
              0.6666666666666666,
              "#ed7953"
             ],
             [
              0.7777777777777778,
              "#fb9f3a"
             ],
             [
              0.8888888888888888,
              "#fdca26"
             ],
             [
              1,
              "#f0f921"
             ]
            ],
            "type": "heatmapgl"
           }
          ],
          "histogram": [
           {
            "marker": {
             "pattern": {
              "fillmode": "overlay",
              "size": 10,
              "solidity": 0.2
             }
            },
            "type": "histogram"
           }
          ],
          "histogram2d": [
           {
            "colorbar": {
             "outlinewidth": 0,
             "ticks": ""
            },
            "colorscale": [
             [
              0,
              "#0d0887"
             ],
             [
              0.1111111111111111,
              "#46039f"
             ],
             [
              0.2222222222222222,
              "#7201a8"
             ],
             [
              0.3333333333333333,
              "#9c179e"
             ],
             [
              0.4444444444444444,
              "#bd3786"
             ],
             [
              0.5555555555555556,
              "#d8576b"
             ],
             [
              0.6666666666666666,
              "#ed7953"
             ],
             [
              0.7777777777777778,
              "#fb9f3a"
             ],
             [
              0.8888888888888888,
              "#fdca26"
             ],
             [
              1,
              "#f0f921"
             ]
            ],
            "type": "histogram2d"
           }
          ],
          "histogram2dcontour": [
           {
            "colorbar": {
             "outlinewidth": 0,
             "ticks": ""
            },
            "colorscale": [
             [
              0,
              "#0d0887"
             ],
             [
              0.1111111111111111,
              "#46039f"
             ],
             [
              0.2222222222222222,
              "#7201a8"
             ],
             [
              0.3333333333333333,
              "#9c179e"
             ],
             [
              0.4444444444444444,
              "#bd3786"
             ],
             [
              0.5555555555555556,
              "#d8576b"
             ],
             [
              0.6666666666666666,
              "#ed7953"
             ],
             [
              0.7777777777777778,
              "#fb9f3a"
             ],
             [
              0.8888888888888888,
              "#fdca26"
             ],
             [
              1,
              "#f0f921"
             ]
            ],
            "type": "histogram2dcontour"
           }
          ],
          "mesh3d": [
           {
            "colorbar": {
             "outlinewidth": 0,
             "ticks": ""
            },
            "type": "mesh3d"
           }
          ],
          "parcoords": [
           {
            "line": {
             "colorbar": {
              "outlinewidth": 0,
              "ticks": ""
             }
            },
            "type": "parcoords"
           }
          ],
          "pie": [
           {
            "automargin": true,
            "type": "pie"
           }
          ],
          "scatter": [
           {
            "fillpattern": {
             "fillmode": "overlay",
             "size": 10,
             "solidity": 0.2
            },
            "type": "scatter"
           }
          ],
          "scatter3d": [
           {
            "line": {
             "colorbar": {
              "outlinewidth": 0,
              "ticks": ""
             }
            },
            "marker": {
             "colorbar": {
              "outlinewidth": 0,
              "ticks": ""
             }
            },
            "type": "scatter3d"
           }
          ],
          "scattercarpet": [
           {
            "marker": {
             "colorbar": {
              "outlinewidth": 0,
              "ticks": ""
             }
            },
            "type": "scattercarpet"
           }
          ],
          "scattergeo": [
           {
            "marker": {
             "colorbar": {
              "outlinewidth": 0,
              "ticks": ""
             }
            },
            "type": "scattergeo"
           }
          ],
          "scattergl": [
           {
            "marker": {
             "colorbar": {
              "outlinewidth": 0,
              "ticks": ""
             }
            },
            "type": "scattergl"
           }
          ],
          "scattermapbox": [
           {
            "marker": {
             "colorbar": {
              "outlinewidth": 0,
              "ticks": ""
             }
            },
            "type": "scattermapbox"
           }
          ],
          "scatterpolar": [
           {
            "marker": {
             "colorbar": {
              "outlinewidth": 0,
              "ticks": ""
             }
            },
            "type": "scatterpolar"
           }
          ],
          "scatterpolargl": [
           {
            "marker": {
             "colorbar": {
              "outlinewidth": 0,
              "ticks": ""
             }
            },
            "type": "scatterpolargl"
           }
          ],
          "scatterternary": [
           {
            "marker": {
             "colorbar": {
              "outlinewidth": 0,
              "ticks": ""
             }
            },
            "type": "scatterternary"
           }
          ],
          "surface": [
           {
            "colorbar": {
             "outlinewidth": 0,
             "ticks": ""
            },
            "colorscale": [
             [
              0,
              "#0d0887"
             ],
             [
              0.1111111111111111,
              "#46039f"
             ],
             [
              0.2222222222222222,
              "#7201a8"
             ],
             [
              0.3333333333333333,
              "#9c179e"
             ],
             [
              0.4444444444444444,
              "#bd3786"
             ],
             [
              0.5555555555555556,
              "#d8576b"
             ],
             [
              0.6666666666666666,
              "#ed7953"
             ],
             [
              0.7777777777777778,
              "#fb9f3a"
             ],
             [
              0.8888888888888888,
              "#fdca26"
             ],
             [
              1,
              "#f0f921"
             ]
            ],
            "type": "surface"
           }
          ],
          "table": [
           {
            "cells": {
             "fill": {
              "color": "#EBF0F8"
             },
             "line": {
              "color": "white"
             }
            },
            "header": {
             "fill": {
              "color": "#C8D4E3"
             },
             "line": {
              "color": "white"
             }
            },
            "type": "table"
           }
          ]
         },
         "layout": {
          "annotationdefaults": {
           "arrowcolor": "#2a3f5f",
           "arrowhead": 0,
           "arrowwidth": 1
          },
          "autotypenumbers": "strict",
          "coloraxis": {
           "colorbar": {
            "outlinewidth": 0,
            "ticks": ""
           }
          },
          "colorscale": {
           "diverging": [
            [
             0,
             "#8e0152"
            ],
            [
             0.1,
             "#c51b7d"
            ],
            [
             0.2,
             "#de77ae"
            ],
            [
             0.3,
             "#f1b6da"
            ],
            [
             0.4,
             "#fde0ef"
            ],
            [
             0.5,
             "#f7f7f7"
            ],
            [
             0.6,
             "#e6f5d0"
            ],
            [
             0.7,
             "#b8e186"
            ],
            [
             0.8,
             "#7fbc41"
            ],
            [
             0.9,
             "#4d9221"
            ],
            [
             1,
             "#276419"
            ]
           ],
           "sequential": [
            [
             0,
             "#0d0887"
            ],
            [
             0.1111111111111111,
             "#46039f"
            ],
            [
             0.2222222222222222,
             "#7201a8"
            ],
            [
             0.3333333333333333,
             "#9c179e"
            ],
            [
             0.4444444444444444,
             "#bd3786"
            ],
            [
             0.5555555555555556,
             "#d8576b"
            ],
            [
             0.6666666666666666,
             "#ed7953"
            ],
            [
             0.7777777777777778,
             "#fb9f3a"
            ],
            [
             0.8888888888888888,
             "#fdca26"
            ],
            [
             1,
             "#f0f921"
            ]
           ],
           "sequentialminus": [
            [
             0,
             "#0d0887"
            ],
            [
             0.1111111111111111,
             "#46039f"
            ],
            [
             0.2222222222222222,
             "#7201a8"
            ],
            [
             0.3333333333333333,
             "#9c179e"
            ],
            [
             0.4444444444444444,
             "#bd3786"
            ],
            [
             0.5555555555555556,
             "#d8576b"
            ],
            [
             0.6666666666666666,
             "#ed7953"
            ],
            [
             0.7777777777777778,
             "#fb9f3a"
            ],
            [
             0.8888888888888888,
             "#fdca26"
            ],
            [
             1,
             "#f0f921"
            ]
           ]
          },
          "colorway": [
           "#636efa",
           "#EF553B",
           "#00cc96",
           "#ab63fa",
           "#FFA15A",
           "#19d3f3",
           "#FF6692",
           "#B6E880",
           "#FF97FF",
           "#FECB52"
          ],
          "font": {
           "color": "#2a3f5f"
          },
          "geo": {
           "bgcolor": "white",
           "lakecolor": "white",
           "landcolor": "#E5ECF6",
           "showlakes": true,
           "showland": true,
           "subunitcolor": "white"
          },
          "hoverlabel": {
           "align": "left"
          },
          "hovermode": "closest",
          "mapbox": {
           "style": "light"
          },
          "paper_bgcolor": "white",
          "plot_bgcolor": "#E5ECF6",
          "polar": {
           "angularaxis": {
            "gridcolor": "white",
            "linecolor": "white",
            "ticks": ""
           },
           "bgcolor": "#E5ECF6",
           "radialaxis": {
            "gridcolor": "white",
            "linecolor": "white",
            "ticks": ""
           }
          },
          "scene": {
           "xaxis": {
            "backgroundcolor": "#E5ECF6",
            "gridcolor": "white",
            "gridwidth": 2,
            "linecolor": "white",
            "showbackground": true,
            "ticks": "",
            "zerolinecolor": "white"
           },
           "yaxis": {
            "backgroundcolor": "#E5ECF6",
            "gridcolor": "white",
            "gridwidth": 2,
            "linecolor": "white",
            "showbackground": true,
            "ticks": "",
            "zerolinecolor": "white"
           },
           "zaxis": {
            "backgroundcolor": "#E5ECF6",
            "gridcolor": "white",
            "gridwidth": 2,
            "linecolor": "white",
            "showbackground": true,
            "ticks": "",
            "zerolinecolor": "white"
           }
          },
          "shapedefaults": {
           "line": {
            "color": "#2a3f5f"
           }
          },
          "ternary": {
           "aaxis": {
            "gridcolor": "white",
            "linecolor": "white",
            "ticks": ""
           },
           "baxis": {
            "gridcolor": "white",
            "linecolor": "white",
            "ticks": ""
           },
           "bgcolor": "#E5ECF6",
           "caxis": {
            "gridcolor": "white",
            "linecolor": "white",
            "ticks": ""
           }
          },
          "title": {
           "x": 0.05
          },
          "xaxis": {
           "automargin": true,
           "gridcolor": "white",
           "linecolor": "white",
           "ticks": "",
           "title": {
            "standoff": 15
           },
           "zerolinecolor": "white",
           "zerolinewidth": 2
          },
          "yaxis": {
           "automargin": true,
           "gridcolor": "white",
           "linecolor": "white",
           "ticks": "",
           "title": {
            "standoff": 15
           },
           "zerolinecolor": "white",
           "zerolinewidth": 2
          }
         }
        },
        "xaxis": {
         "range": [
          -15,
          14.85
         ],
         "showgrid": true,
         "title": {
          "text": "x/a₀"
         }
        },
        "yaxis": {
         "showgrid": true
        }
       }
      }
     },
     "metadata": {},
     "output_type": "display_data"
    }
   ],
   "source": [
    "qm.psi = a_dag(qm,qm.psi,qm.psi_f)\n",
    "qm.psi_f = sp.fft.fftn(qm.psi)\n",
    "\n",
    "qm.plot_complex_field(qm.psi)"
   ]
  },
  {
   "cell_type": "code",
   "execution_count": 15,
   "metadata": {},
   "outputs": [],
   "source": [
    "for n in range(100):\n",
    "    qm.evolve_schrodinger(3)\n",
    "    fig = qm.plot_complex_field(qm.psi)\n",
    "    cf.tool_save_plot(n, fig)\n",
    "cf.tool_make_animation_gif(n)"
   ]
  },
  {
   "cell_type": "code",
   "execution_count": null,
   "metadata": {},
   "outputs": [],
   "source": []
  }
 ],
 "metadata": {
  "kernelspec": {
   "display_name": "venv",
   "language": "python",
   "name": "python3"
  },
  "language_info": {
   "codemirror_mode": {
    "name": "ipython",
    "version": 3
   },
   "file_extension": ".py",
   "mimetype": "text/x-python",
   "name": "python",
   "nbconvert_exporter": "python",
   "pygments_lexer": "ipython3",
   "version": "3.11.9"
  }
 },
 "nbformat": 4,
 "nbformat_minor": 2
}
