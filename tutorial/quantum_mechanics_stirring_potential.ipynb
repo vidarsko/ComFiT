{
 "cells": [
  {
   "cell_type": "code",
   "execution_count": null,
   "metadata": {},
   "outputs": [],
   "source": [
    "# !pip install comfit -q # Uncomment and run this cell if you are using Google Colab"
   ]
  },
  {
   "cell_type": "code",
   "execution_count": null,
   "metadata": {},
   "outputs": [],
   "source": [
    "import numpy as np\n",
    "import scipy as sp\n",
    "import comfit as cf\n",
    "import plotly.graph_objects as go"
   ]
  },
  {
   "cell_type": "code",
   "execution_count": null,
   "metadata": {},
   "outputs": [],
   "source": [
    "qm = cf.QuantumMechanics(2, xlim=[-40,40], ylim=[-40,40], xRes=201, yRes=201)\n",
    "\n",
    "\n",
    "omega = 0.02\n",
    "\n",
    "R = 16\n",
    "stirring_strength = 5\n",
    "\n",
    "\n",
    "f = 0.01\n",
    "def V_ext(t):\n",
    "    x0, y0 = R * np.cos(f * np.pi * t), R * np.sin(f * np.pi * t)\n",
    "    return  1/2 * omega**2 *(qm.x**2 + qm.y**2) + np.exp(-((qm.x-x0)**2 + (qm.y-y0)**2)) * stirring_strength\n",
    "\n",
    "# qm.V_ext = 1/2 * omega**2 *(qm.x**2 + qm.y**2)\n",
    "qm.V_ext = V_ext"
   ]
  },
  {
   "cell_type": "code",
   "execution_count": null,
   "metadata": {},
   "outputs": [],
   "source": [
    "qm.psi = (omega/np.pi)**(1/4)*np.exp(-omega*(qm.x**2 + qm.y**2)/2)\n",
    "qm.psi_f = sp.fft.fftn(qm.psi)"
   ]
  },
  {
   "cell_type": "code",
   "execution_count": null,
   "metadata": {},
   "outputs": [],
   "source": [
    "qm.plot_complex_field(qm.psi)"
   ]
  },
  {
   "cell_type": "code",
   "execution_count": null,
   "metadata": {},
   "outputs": [],
   "source": [
    "# fig = go.Figure()\n",
    "\n",
    "# for n in range(10):\n",
    "#     qm.evolve_schrodinger(10)\n",
    "#     fig = qm.plot_complex_field(qm.psi)\n",
    "#     qm.tool_save_plot(n, fig)\n",
    "# cf.tool_make_animation_gif(n)"
   ]
  },
  {
   "cell_type": "markdown",
   "metadata": {},
   "source": [
    "OLD"
   ]
  },
  {
   "cell_type": "code",
   "execution_count": null,
   "metadata": {},
   "outputs": [],
   "source": [
    "qm.evolve_schrodinger(100)"
   ]
  },
  {
   "cell_type": "code",
   "execution_count": null,
   "metadata": {},
   "outputs": [],
   "source": [
    "qm.plot_complex_field(qm.psi)"
   ]
  },
  {
   "cell_type": "markdown",
   "metadata": {},
   "source": [
    "Angular momentum operator"
   ]
  },
  {
   "cell_type": "markdown",
   "metadata": {},
   "source": [
    "Fock-Darwin states, plot component over time"
   ]
  },
  {
   "cell_type": "markdown",
   "metadata": {},
   "source": []
  }
 ],
 "metadata": {
  "kernelspec": {
   "display_name": "venv",
   "language": "python",
   "name": "python3"
  },
  "language_info": {
   "codemirror_mode": {
    "name": "ipython",
    "version": 3
   },
   "file_extension": ".py",
   "mimetype": "text/x-python",
   "name": "python",
   "nbconvert_exporter": "python",
   "pygments_lexer": "ipython3",
   "version": "3.10.9"
  }
 },
 "nbformat": 4,
 "nbformat_minor": 2
}
