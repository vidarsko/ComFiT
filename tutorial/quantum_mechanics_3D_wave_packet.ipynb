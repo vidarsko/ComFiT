{
 "cells": [
  {
   "cell_type": "code",
   "execution_count": null,
   "metadata": {},
   "outputs": [],
   "source": [
    "# !pip install comfit -q # Uncomment and run this cell if you are using Google Colab"
   ]
  },
  {
   "cell_type": "markdown",
   "metadata": {},
   "source": [
    "If you find any errors in this tutorial, please raise a issue at [GitHub](https://github.com/vidarsko/ComFiT/issues)."
   ]
  },
  {
   "cell_type": "markdown",
   "metadata": {},
   "source": [
    "# Quantum mechanics: 3D introduction"
   ]
  },
  {
   "cell_type": "markdown",
   "metadata": {},
   "source": [
    "In this tutorial, we will look at a 3D wave packet. "
   ]
  },
  {
   "cell_type": "code",
   "execution_count": null,
   "metadata": {},
   "outputs": [],
   "source": [
    "import comfit as cf\n",
    "import matplotlib.pyplot as plt"
   ]
  },
  {
   "cell_type": "code",
   "execution_count": null,
   "metadata": {},
   "outputs": [],
   "source": [
    "qm = cf.QuantumMechanics(3, xRes=71, yRes=71,zRes=71)\n",
    "\n",
    "qm.conf_initial_condition_Gaussian(position=[0.5*qm.xmax,0.5*qm.ymax,0.35*qm.zmax],width=5)\n",
    "\n",
    "qm.V_ext = qm.conf_harmonic_potential(0.001)\n",
    "\n",
    "qm.evolve_schrodinger(10)\n",
    "\n",
    "qm.plot_complex_field(qm.psi)\n",
    "\n",
    "plt.show()\n",
    "\n",
    "print(qm.psi)\n",
    "\n",
    "\n",
    "for i in range(141):\n",
    "    print(i)\n",
    "\n",
    "    # qm.plot_field(abs(qm.psi))\n",
    "    fig = qm.plot_complex_field(qm.psi)\n",
    "\n",
    "    qm.plot_save(i,fig)\n",
    "\n",
    "    qm.evolve_schrodinger(20)\n",
    "\n",
    "\n",
    "\n",
    "cf.tool_make_animation_gif(140)"
   ]
  },
  {
   "cell_type": "code",
   "execution_count": null,
   "metadata": {},
   "outputs": [],
   "source": []
  }
 ],
 "metadata": {
  "kernelspec": {
   "display_name": "venv",
   "language": "python",
   "name": "python3"
  },
  "language_info": {
   "codemirror_mode": {
    "name": "ipython",
    "version": 3
   },
   "file_extension": ".py",
   "mimetype": "text/x-python",
   "name": "python",
   "nbconvert_exporter": "python",
   "pygments_lexer": "ipython3",
   "version": "3.11.9"
  }
 },
 "nbformat": 4,
 "nbformat_minor": 2
}
