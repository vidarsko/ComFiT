{
 "cells": [
  {
   "cell_type": "markdown",
   "metadata": {},
   "source": [
    "# Quantum mechanics: 3D introduction"
   ]
  },
  {
   "cell_type": "markdown",
   "metadata": {},
   "source": [
    "In this tutorial, we will look at a 3D wave packet. "
   ]
  },
  {
   "cell_type": "code",
   "execution_count": null,
   "metadata": {},
   "outputs": [],
   "source": [
    "import sys\n",
    "from pathlib import Path\n",
    "current_dir = Path().resolve()\n",
    "parent_dir = current_dir.parent\n",
    "sys.path.append(str(parent_dir))\n",
    "import comfit as cf\n",
    "import matplotlib.pyplot as plt\n"
   ]
  },
  {
   "cell_type": "code",
   "execution_count": null,
   "metadata": {},
   "outputs": [],
   "source": [
    "# qm = cf.QuantumMechanics(3, xRes=71, yRes=71,zRes=71)\n",
    "\n",
    "# qm.conf_initial_condition_Gaussian(position=[0.5*qm.xmax,0.5*qm.ymax,0.35*qm.zmax],width=5)\n",
    "\n",
    "# qm.V_ext = qm.conf_harmonic_potential(0.001)\n",
    "\n",
    "# qm.evolve_schrodinger(10)\n",
    "\n",
    "# qm.plot_complex_field(qm.psi)\n",
    "\n",
    "# plt.show()\n",
    "\n",
    "# print(qm.psi)\n",
    "\n",
    "\n",
    "# for i in range(141):\n",
    "#     print(i)\n",
    "\n",
    "#     # qm.plot_field(abs(qm.psi))\n",
    "#     qm.plot_complex_field(qm.psi)\n",
    "\n",
    "#     cf.tool_save_plot(i)\n",
    "\n",
    "#     qm.evolve_schrodinger(20)\n",
    "\n",
    "\n",
    "\n",
    "# cf.tool_make_animation_gif(140)"
   ]
  },
  {
   "cell_type": "code",
   "execution_count": null,
   "metadata": {},
   "outputs": [],
   "source": []
  }
 ],
 "metadata": {
  "kernelspec": {
   "display_name": "COMFIT",
   "language": "python",
   "name": "comfit"
  },
  "language_info": {
   "codemirror_mode": {
    "name": "ipython",
    "version": 3
   },
   "file_extension": ".py",
   "mimetype": "text/x-python",
   "name": "python",
   "nbconvert_exporter": "python",
   "pygments_lexer": "ipython3",
   "version": "3.9.18"
  }
 },
 "nbformat": 4,
 "nbformat_minor": 2
}
