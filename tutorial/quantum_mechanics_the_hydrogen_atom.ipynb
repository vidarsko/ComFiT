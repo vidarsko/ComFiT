{
 "cells": [
  {
   "cell_type": "markdown",
   "metadata": {},
   "source": [
    "# Quantum Mechanics: The hydrogen atom"
   ]
  },
  {
   "cell_type": "markdown",
   "metadata": {},
   "source": [
    "In this tutorial, we will explore the hydrogen atom. We will start by solving the Schrödinger equation for the hydrogen atom, and then we will use the results to calculate the energy levels and the wave functions of the hydrogen atom. We will also visualize the wave functions and the probability density of the hydrogen atom.\n",
    "\n",
    "But first, let's install ComFiT"
   ]
  },
  {
   "cell_type": "code",
   "execution_count": null,
   "metadata": {},
   "outputs": [],
   "source": [
    "!pip install -q comfit"
   ]
  },
  {
   "cell_type": "markdown",
   "metadata": {},
   "source": [
    "Then, we import it."
   ]
  },
  {
   "cell_type": "code",
   "execution_count": null,
   "metadata": {},
   "outputs": [],
   "source": [
    "import sys\n",
    "\n",
    "import comfit as cf\n"
   ]
  },
  {
   "cell_type": "markdown",
   "metadata": {},
   "source": [
    "As explained in the [documentation](https://comfitlib.com/ClassQuantumMechanics/),we are already using natural units for this problem.\n",
    "Let's see why. \n",
    "The Schrödinger equation for the hydrogen atom is given by\n",
    "\n",
    "$$\n",
    "\\left( -\\frac{\\hbar^2}{2m} \\nabla^2 - \\frac{e^2}{4\\pi\\epsilon_0 r} \\right) \\psi = E \\psi,\n",
    "$$\n",
    "\n",
    "where $\\hbar$ is the reduced Planck constant, $m$ is the mass of the electron, $e$ is the elementary charge, $\\epsilon_0$ is the vacuum permittivity, $r$ is the distance from the nucleus, $\\psi$ is the wave function, and $E$ is the energy of the electron. \n",
    "We are expressing the potential in units of the Hartree energy, which is defined as\n",
    "\n",
    "$$\n",
    "E_h = \\frac{e^2}{4\\pi\\epsilon_0 a_0} \n",
    "$$\n",
    "\n",
    "where $a_0$ is the Bohr radius, which means that when expressing the Schroedinger equation in these units, the time-independent Schrödinger equation for the hydrogen atom becomes\n",
    "\n",
    "$$\n",
    "\\left( -\\frac{1}{2} \\nabla^2 - \\frac{1}{r} \\right) \\psi = E \\psi.\n",
    "$$\n",
    "\n",
    "This is the equation that we will have a look at in this tutorial.\n",
    "The solutions to this equation are the energy levels and the wave functions of the hydrogen atom, given by three quantum numbers: $n$, $l$, and $m$. \n",
    "The energy levels are given by\n",
    "\n",
    "$$\n",
    "E_n = -\\frac{1}{2n^2},\n",
    "$$\n",
    "\n",
    "where $n$ is the principal quantum number, and the wave functions are given by\n",
    "\n",
    "$$\n",
    "\\psi_{nlm} = R_{nl}(r) Y_{lm}(\\theta, \\phi),\n",
    "$$\n",
    "\n",
    "where $R_{nl}(r)$ is the radial part of the wave function, and $Y_{lm}(\\theta, \\phi)$ is the spherical harmonic.\n",
    "$R_{nl}(r)$ is given by\n",
    "\n",
    "$$\n",
    "R_{nl}(r) = \\sqrt{\\left(\\frac{2}{n}\\right)^3 \\frac{(n-l-1)!}{2n[(n+l)!]^3}} e^{-r/n} \\left(\\frac{2r}{n}\\right)^l L_{n-l-1}^{2l+1}\\left(\\frac{2r}{n}\\right),\n",
    "$$\n",
    "\n",
    "and $Y_{lm}(\\theta, \\phi)$ is given by\n",
    "\n",
    "$$\n",
    "Y_{lm}(\\theta, \\phi) = (-1)^{m} \\sqrt{\\frac{(2l+1)(l-m)!}{4\\pi(l+m)!}} P_{lm}(\\cos(\\theta)) e^{im\\phi},\n",
    "$$\n",
    "\n",
    "where $L_{n-l-1}^{2l+1}(x)$ is the associated Laguerre polynomial, $P_{lm}(\\cos(\\theta))$ is the associated Legendre polynomial, and $m$ is the magnetic quantum number.\n",
    "\n",
    "\n",
    "A complete treatment of Quantum Mechanics can be found in this [video series by MIT OpenCourseWare](https://www.youtube.com/watch?v=jANZxzetPaQ&list=PLUl4u3cNGP60cspQn3N9dYRPiyVWDd80G&ab_channel=MITOpenCourseWare). \n",
    "The derivation of the ground states for the hydrogen atom are found in videos $\\sim 95 - 110$."
   ]
  },
  {
   "cell_type": "markdown",
   "metadata": {},
   "source": [
    "Let us have a look at the ground state"
   ]
  },
  {
   "cell_type": "code",
   "execution_count": null,
   "metadata": {},
   "outputs": [],
   "source": [
    "axis_limit = 3\n",
    "qm = cf.QuantumMechanics(3,xlim=[-axis_limit,axis_limit],ylim=[-axis_limit,axis_limit],zlim=[-axis_limit,axis_limit],\n",
    "                            xRes=50,yRes=50,zRes=50)\n",
    "qm.conf_hydrogen_state(1, 0, 0)\n",
    "qm.plot_complex_field(qm.psi)"
   ]
  },
  {
   "cell_type": "markdown",
   "metadata": {},
   "source": [
    "A cute little red ball. In order to get an idea of what is happening inside, we can plot a 2D slice. "
   ]
  },
  {
   "cell_type": "code",
   "execution_count": null,
   "metadata": {},
   "outputs": [],
   "source": [
    "qm.plot_complex_field_in_plane(qm.psi,normal_vector=[0,1,0])"
   ]
  },
  {
   "cell_type": "markdown",
   "metadata": {},
   "source": [
    "The magnitude is shown as the intensity of the color and the phase as the color (on the color bar). "
   ]
  },
  {
   "cell_type": "markdown",
   "metadata": {},
   "source": [
    "Now let's look at another state."
   ]
  },
  {
   "cell_type": "code",
   "execution_count": null,
   "metadata": {},
   "outputs": [],
   "source": [
    "axis_limit = 3\n",
    "qm = cf.QuantumMechanics(3,xlim=[-axis_limit,axis_limit],ylim=[-axis_limit,axis_limit],zlim=[-axis_limit,axis_limit])\n",
    "qm.conf_hydrogen_state(2, 0, 0)\n",
    "qm.plot_complex_field(qm.psi)"
   ]
  },
  {
   "cell_type": "markdown",
   "metadata": {},
   "source": [
    "It doesnt seem to have changed much, but such a phase blob plot can be deceiving. We are only showing the isosurface at which the magnitude is 0.5 of _the maximum_. \n",
    "Therefore, this drawn isosurface might not be the same as the one for the ground state.\n",
    "In fact, by plotting the slice, we see the general picture. "
   ]
  },
  {
   "cell_type": "code",
   "execution_count": null,
   "metadata": {},
   "outputs": [],
   "source": [
    "qm.plot_complex_field_in_plane(qm.psi)"
   ]
  },
  {
   "cell_type": "markdown",
   "metadata": {},
   "source": [
    "We see that the function is more spread out, and that the function has picked up another layer with a different phase.\n",
    "We we see this other phase better by reducing the `phase_blob_threshold` parameter to 0.1. \n",
    "The `phase_blob_threshold` parameter is the fraction of the maximum magnitude that the isosurface is drawn at."
   ]
  },
  {
   "cell_type": "code",
   "execution_count": null,
   "metadata": {},
   "outputs": [],
   "source": [
    "axis_limit = 3\n",
    "qm = cf.QuantumMechanics(3,xlim=[-axis_limit,axis_limit],ylim=[-axis_limit,axis_limit],zlim=[-axis_limit,axis_limit])\n",
    "qm.conf_hydrogen_state(2, 0, 0)\n",
    "qm.plot_complex_field(qm.psi,phase_blob_threshold=0.1)"
   ]
  },
  {
   "cell_type": "markdown",
   "metadata": {},
   "source": [
    "Now, let's look at a state which has a non-zero magnetic quantum number."
   ]
  },
  {
   "cell_type": "code",
   "execution_count": null,
   "metadata": {},
   "outputs": [],
   "source": [
    "axis_limit = 10\n",
    "qm = cf.QuantumMechanics(3,xlim=[-axis_limit,axis_limit],ylim=[-axis_limit,axis_limit],zlim=[-axis_limit,axis_limit])\n",
    "qm.conf_hydrogen_state(2, 1, 1)\n",
    "qm.plot_complex_field(qm.psi,phase_blob_threshold=0.2)"
   ]
  },
  {
   "cell_type": "markdown",
   "metadata": {},
   "source": [
    "We see that the magnetic quantum number has caused the function to have a phase gradient along its surface. "
   ]
  },
  {
   "cell_type": "markdown",
   "metadata": {},
   "source": [
    "Let's animate this according to the Schrödinger equation."
   ]
  },
  {
   "cell_type": "code",
   "execution_count": null,
   "metadata": {},
   "outputs": [],
   "source": [
    "# for n in range(50):\n",
    "#     qm.evolve_schrodinger(5)\n",
    "#     qm.plot_complex_field(qm.psi,phase_blob_threshold=0.2)\n",
    "#     cf.tool_save_plot(n)\n",
    "\n",
    "# cf.tool_make_animation_gif(n,name=\"hydrogen_evolution_free\")"
   ]
  },
  {
   "cell_type": "markdown",
   "metadata": {},
   "source": [
    "This did not evolve as expected.\n",
    "The reason is that first, these are ground states only in the inifite system limit and second, we have not yet configured those parameters.\n",
    "Let's do that now."
   ]
  },
  {
   "cell_type": "code",
   "execution_count": null,
   "metadata": {},
   "outputs": [],
   "source": [
    "import numpy as np\n",
    "axis_limit = 30 # almost infinite\n",
    "qm = cf.QuantumMechanics(3,xlim=[-axis_limit,axis_limit],ylim=[-axis_limit,axis_limit],zlim=[-axis_limit,axis_limit])\n",
    "r = np.sqrt(qm.x**2+qm.y**2+qm.z**2)\n",
    "qm.V_ext = -1/r\n",
    "qm.conf_hydrogen_state(2, 1, 1)\n",
    "for n in range(100):\n",
    "    qm.plot_complex_field(qm.psi,phase_blob_threshold=0.2,\n",
    "        xlim=[-axis_limit/3,axis_limit/3],\n",
    "        ylim=[-axis_limit/3,axis_limit/3],\n",
    "        zlim=[-axis_limit/3,axis_limit/3], plot_shadows=False)\n",
    "    if n != 49:\n",
    "        qm.evolve_schrodinger(10)\n",
    "    cf.tool_save_plot(n)\n",
    "cf.tool_make_animation_gif(n,name=\"hydrogen_evolution_bound\")"
   ]
  },
  {
   "cell_type": "markdown",
   "metadata": {},
   "source": [
    "It might be surprising to see that it appears to be rotating clockwise, even though it is supposed to have a postive rotation in the counter-clockwise direction.\n",
    "Lets try the -1 state just to compare."
   ]
  },
  {
   "cell_type": "code",
   "execution_count": null,
   "metadata": {},
   "outputs": [],
   "source": [
    "import numpy as np\n",
    "axis_limit = 30 # almost infinite\n",
    "qm = cf.QuantumMechanics(3,xlim=[-axis_limit,axis_limit],ylim=[-axis_limit,axis_limit],zlim=[-axis_limit,axis_limit])\n",
    "r = np.sqrt(qm.x**2+qm.y**2+qm.z**2)\n",
    "qm.V_ext = -1/r\n",
    "qm.conf_hydrogen_state(2, 1, -1)\n",
    "for n in range(100):\n",
    "    qm.plot_complex_field(qm.psi,phase_blob_threshold=0.2,\n",
    "        xlim=[-axis_limit/3,axis_limit/3],\n",
    "        ylim=[-axis_limit/3,axis_limit/3],\n",
    "        zlim=[-axis_limit/3,axis_limit/3], plot_shadows=False)\n",
    "    if n != 49:\n",
    "        qm.evolve_schrodinger(10)\n",
    "    cf.tool_save_plot(n)\n",
    "cf.tool_make_animation_gif(n,name=\"hydrogen_evolution_bound\")"
   ]
  },
  {
   "cell_type": "code",
   "execution_count": null,
   "metadata": {},
   "outputs": [],
   "source": []
  }
 ],
 "metadata": {
  "kernelspec": {
   "display_name": "COMFIT",
   "language": "python",
   "name": "comfit"
  },
  "language_info": {
   "codemirror_mode": {
    "name": "ipython",
    "version": 3
   },
   "file_extension": ".py",
   "mimetype": "text/x-python",
   "name": "python",
   "nbconvert_exporter": "python",
   "pygments_lexer": "ipython3",
   "version": "3.9.18"
  }
 },
 "nbformat": 4,
 "nbformat_minor": 2
}
