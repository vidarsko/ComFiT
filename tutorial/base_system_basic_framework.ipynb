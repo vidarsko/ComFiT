{
 "cells": [
  {
   "cell_type": "markdown",
   "id": "5ddf8ab7-c24a-4efb-9be7-dd0e5358f166",
   "metadata": {},
   "source": [
    "# Base System: Basic framework\n",
    "This tutorial is meant to introduce the very basic functionality of the comfit Python package, including how to initiate a `BaseSystem`, calculating derivatives and plotting."
   ]
  },
  {
   "cell_type": "markdown",
   "id": "9893c5d5-f15d-49db-af64-7a404f687ddd",
   "metadata": {},
   "source": [
    "The class underlying everything is the class called \"BaseSystem\". Every other model (classes located in the ./models/ folder) are subclasses of BaseSystem. \n",
    "\n",
    "If you have not already, start by installing the comfit package. "
   ]
  },
  {
   "cell_type": "code",
   "execution_count": null,
   "id": "8b8b0938",
   "metadata": {},
   "outputs": [],
   "source": []
  },
  {
   "cell_type": "code",
   "execution_count": null,
   "id": "56543ab4",
   "metadata": {},
   "outputs": [],
   "source": [
    "!pip install comfit -q"
   ]
  },
  {
   "cell_type": "markdown",
   "id": "ce988e47-8a76-41a5-8cf2-1f3596118b2d",
   "metadata": {},
   "source": [
    "We start by importing the package."
   ]
  },
  {
   "cell_type": "code",
   "execution_count": null,
   "id": "210d953d-3898-46f8-bf4b-5d2eaf316421",
   "metadata": {},
   "outputs": [],
   "source": [
    "\n",
    "import comfit as cf\n"
   ]
  },
  {
   "cell_type": "markdown",
   "id": "74be5118-d683-4785-823d-4054c13544a1",
   "metadata": {},
   "source": [
    "## System initialization and plotting\n",
    "\n",
    "Now we can define a system with a given dimension and resolution"
   ]
  },
  {
   "cell_type": "code",
   "execution_count": null,
   "id": "64c5406d-3beb-40db-99a8-f3a4baccabc7",
   "metadata": {},
   "outputs": [],
   "source": [
    "sys1 = cf.BaseSystem(1,xRes=11)"
   ]
  },
  {
   "cell_type": "markdown",
   "id": "55d169f6-6fdd-46e7-bee9-c3fc1ff5b0c6",
   "metadata": {},
   "source": [
    "sys1 is now an instance of the `BaseSystem` class and contains a number of useful parameters and functions. \n",
    "We can always see the current state of the system by printing the instance."
   ]
  },
  {
   "cell_type": "code",
   "execution_count": null,
   "id": "875ee627",
   "metadata": {},
   "outputs": [],
   "source": [
    "print(sys1)"
   ]
  },
  {
   "cell_type": "markdown",
   "id": "a73c42f3-af4b-498b-a4d1-e99f49c48e2b",
   "metadata": {},
   "source": [
    "Now, we can try to do some basic calculating and plotting"
   ]
  },
  {
   "cell_type": "code",
   "execution_count": null,
   "id": "d25706d8-eef4-4c71-9271-05a9b1af8b5a",
   "metadata": {},
   "outputs": [],
   "source": [
    "import numpy as np"
   ]
  },
  {
   "cell_type": "code",
   "execution_count": null,
   "id": "e6b8aa59-b502-491d-bfd1-d2dacbb83d25",
   "metadata": {},
   "outputs": [],
   "source": [
    "y = np.sin(sys1.x)\n",
    "sys1.plot_field(y)"
   ]
  },
  {
   "cell_type": "markdown",
   "id": "048fe020",
   "metadata": {},
   "source": [
    "In many systems, there is an inherent length scale to the problem and displaying the plots with respect to this length scale makes sense. \n",
    "In ComFiT, this length scale is given by the property `a0`. "
   ]
  },
  {
   "cell_type": "markdown",
   "id": "d7d6063c",
   "metadata": {},
   "source": [
    "Setting a property of a class instance is easy, just write \n",
    "\n",
    "```python\n",
    "sys1.property = value\n",
    "```\n",
    "\n",
    "Now, set the property `a0` to $2\\pi$ and remake the previous plot. "
   ]
  },
  {
   "cell_type": "code",
   "execution_count": null,
   "id": "0bd1ac71",
   "metadata": {},
   "outputs": [],
   "source": []
  },
  {
   "cell_type": "markdown",
   "id": "4ee68a85",
   "metadata": {},
   "source": [
    "<details>\n",
    "<summary>Solution</summary>\n",
    "<p>\n",
    "<pre><code>\n",
    "sys1.a0 = 2*np.pi\n",
    "sys1.plot_field(y)\n",
    "</code></pre>\n",
    "</p>\n",
    "</details>\n"
   ]
  },
  {
   "cell_type": "markdown",
   "id": "a07fa481-2d99-48c2-8344-4c0621ab0508",
   "metadata": {},
   "source": [
    "By changing the length scale to $2\\pi$, we get something that clearly shows the periodicity. "
   ]
  },
  {
   "cell_type": "code",
   "execution_count": null,
   "id": "562d1ac3-f94f-4cf3-b61a-c48423c41ffe",
   "metadata": {},
   "outputs": [],
   "source": [
    "\n",
    "sys1.plot_field(y)"
   ]
  },
  {
   "cell_type": "markdown",
   "id": "3c8db0ed-2baf-448f-9725-331ce3179cb4",
   "metadata": {},
   "source": [
    "The function looks quite jagged, which we can fix by increasing the resolution and decreasing the interspacing dx"
   ]
  },
  {
   "cell_type": "code",
   "execution_count": null,
   "id": "de4ca8ea-c286-4b38-951b-ca454258881f",
   "metadata": {},
   "outputs": [],
   "source": [
    "sys2 = cf.BaseSystem(1,xRes=101,dx=0.1)"
   ]
  },
  {
   "cell_type": "code",
   "execution_count": null,
   "id": "58ef7e94-afe3-4282-a517-723c278a15c8",
   "metadata": {},
   "outputs": [],
   "source": [
    "y2 = np.sin(sys2.x)\n",
    "sys2.plot_field(y2)"
   ]
  },
  {
   "cell_type": "markdown",
   "id": "1f305ed1-e100-41da-82f8-11b558a283d5",
   "metadata": {},
   "source": [
    "Lets have a look at a 2D system and plot a 2D function"
   ]
  },
  {
   "cell_type": "code",
   "execution_count": null,
   "id": "c5d58798-9fb9-45ee-8b13-d5c01c1a5804",
   "metadata": {},
   "outputs": [],
   "source": [
    "sys2 = cf.BaseSystem(2,xRes=101,dx=0.1,yRes=101,dy=0.1)\n",
    "field = sys2.x-1 + 0.7*sys2.y-5\n",
    "sys2.plot_field(field)"
   ]
  },
  {
   "cell_type": "markdown",
   "id": "d8c4c361-a33d-48cb-afee-872d526f578b",
   "metadata": {},
   "source": [
    "As you see, the x-array is stored as a $(xRes,1)$ array, while the y-array is stored as $(1,yRes)$. When doing calculations with arrays in this way, it is not necessary to create a meshgrid to produce a 2D matrix. "
   ]
  },
  {
   "cell_type": "markdown",
   "id": "12859384-0b1e-41cb-86af-084e5946a689",
   "metadata": {},
   "source": [
    "### Exercise 1\n",
    "Plot the function \n",
    "$$\n",
    "f(x,y) = \\sin(x+y)\n",
    "$$"
   ]
  },
  {
   "cell_type": "markdown",
   "id": "e11ce816",
   "metadata": {},
   "source": [
    "<details>\n",
    "<summary>Solution</summary>\n",
    "<p>\n",
    "<pre><code>\n",
    "f = np.sin(sys2.x+sys2.y)\n",
    "sys2.plot_field(f)\n",
    "</code></pre>\n",
    "</p>\n",
    "</details>\n"
   ]
  },
  {
   "cell_type": "markdown",
   "id": "ab399732-21e3-44b2-8e7b-303e83113091",
   "metadata": {},
   "source": [
    "### Exercise 2\n",
    "Plot the function \n",
    "$$\n",
    "f(x,y,z) = exp(-(x^2 + y^2 + z^2))\n",
    "$$"
   ]
  },
  {
   "cell_type": "markdown",
   "id": "3e9e533b",
   "metadata": {},
   "source": [
    "<details>\n",
    "<summary>Solution</summary>\n",
    "<p>\n",
    "<pre><code>\n",
    "import numpy as np\n",
    "import matplotlib.pyplot as plt\n",
    "import comfit as cf\n",
    "sys3 = cf.BaseSystem(3,\n",
    "                     xRes=21,dx=0.1, xmin=-1,\n",
    "                     yRes=21,dy=0.1, ymin=-1,\n",
    "                     zRes=21,dz=0.1, zmin=-1)\n",
    "f = np.exp(-sys3.x**2 - sys3.y**2 - sys3.z**2)\n",
    "sys3.plot_field(f,number_of_layers=3)\n",
    "</code></pre>\n",
    "</p>\n",
    "</details>"
   ]
  },
  {
   "cell_type": "markdown",
   "id": "09500bd2",
   "metadata": {},
   "source": [
    "## Derivatives\n",
    "\n",
    "The way that we calculate derivatives in ComFiT is using Fourier transforms. \n",
    "We use that \n",
    "\n",
    "$$\n",
    "(\\partial_i f )_{\\mathfrak f} = \\mathfrak i k_i f_{\\mathfrak f},\n",
    "$$\n",
    "\n",
    "where $f$ is a funciton of real space, $()_{\\mathfrak f}$ denotes the Fourier transform of $()$, $\\mathfrak i$ is the imaginary unit (`1j` in python), and $k_i$ is the wavevector in the $i$-direction.\n",
    "The idea then, is to fourier transform $f$, multiply by $\\mathfrak i k_i$, and then transform back to real space (note the subtle difference between $i$ and $\\mathfrak i$).\n",
    "\n",
    "\n",
    "As this requires Fourier transforms, we will use the `scipy` package to do the Fourier transforms."
   ]
  },
  {
   "cell_type": "code",
   "execution_count": null,
   "id": "65f0cb8e",
   "metadata": {},
   "outputs": [],
   "source": [
    "import scipy as sp"
   ]
  },
  {
   "cell_type": "markdown",
   "id": "983b60b2",
   "metadata": {},
   "source": [
    "Now, let's calculate and plot the derivative of $\\sin(x)$."
   ]
  },
  {
   "cell_type": "code",
   "execution_count": null,
   "id": "e8b86b07",
   "metadata": {},
   "outputs": [],
   "source": [
    "sys1 = cf.BaseSystem(1, xlim=[0,2*np.pi], xRes=100)"
   ]
  },
  {
   "cell_type": "code",
   "execution_count": null,
   "id": "005f887a",
   "metadata": {},
   "outputs": [],
   "source": [
    "f = np.sin(sys1.x)"
   ]
  },
  {
   "cell_type": "code",
   "execution_count": null,
   "id": "862df2dc",
   "metadata": {},
   "outputs": [],
   "source": [
    "dfdx = sp.fft.ifftn(1j*sys1.k[0]*sp.fft.fftn(f))"
   ]
  },
  {
   "cell_type": "markdown",
   "id": "7aab9e8b",
   "metadata": {},
   "source": [
    "Lets plot and see"
   ]
  },
  {
   "cell_type": "code",
   "execution_count": null,
   "id": "8fc05837",
   "metadata": {},
   "outputs": [],
   "source": [
    "sys1.plot_field(dfdx)"
   ]
  },
  {
   "cell_type": "markdown",
   "id": "e649c19f",
   "metadata": {},
   "source": [
    "Looks like cosine if you ask me. "
   ]
  },
  {
   "cell_type": "markdown",
   "id": "a212ae8d",
   "metadata": {},
   "source": [
    "Now, the combination $\\mathfrak i k_i$ is often used, so it is defined as a property `dif[i]` in the `BaseSystem` class."
   ]
  },
  {
   "cell_type": "markdown",
   "id": "022b2709",
   "metadata": {},
   "source": [
    "In higher dimensions, derivatives are gradients, so lets calculate the gradient of the 2D function we plotted earlier."
   ]
  },
  {
   "cell_type": "code",
   "execution_count": null,
   "id": "b1134855",
   "metadata": {},
   "outputs": [],
   "source": [
    "sys2 = cf.BaseSystem(2, xlim=[0,2*np.pi], xRes=100, ylim=[0,2*np.pi], yRes=100)\n",
    "f = np.sin(sys2.x + sys2.y)\n",
    "f_f = sp.fft.fftn(f)\n",
    "gradf = [sp.fft.ifftn(sys2.dif[0]*f_f), sp.fft.ifftn(sys2.dif[1]*f_f)]"
   ]
  },
  {
   "cell_type": "markdown",
   "id": "32cac22b",
   "metadata": {},
   "source": [
    "The gradient is a vector field, so we need to plot it as such."
   ]
  },
  {
   "cell_type": "code",
   "execution_count": null,
   "id": "0e0d4502",
   "metadata": {},
   "outputs": [],
   "source": [
    "sys2.plot_vector_field(gradf)"
   ]
  },
  {
   "cell_type": "markdown",
   "id": "f3e14d41",
   "metadata": {},
   "source": [
    "Now, you are surely noticing the warning produced in this plot. \n",
    "This is because the procedure of fourier transforming and then transforming back to real space is not perfect, and can sometimes lead to small imaginary parts in the result.\n",
    "This is not a problem, and can be safely ignored.\n",
    "\n",
    "### Exercise 3\n",
    " \n",
    "Calculate the Laplacian of the 2D function $f(x,y) = \\sin(x+y)$ and plot it."
   ]
  },
  {
   "cell_type": "code",
   "execution_count": null,
   "id": "893c802b",
   "metadata": {},
   "outputs": [],
   "source": []
  },
  {
   "cell_type": "markdown",
   "id": "18965223",
   "metadata": {},
   "source": [
    "## Animations\n",
    "\n",
    "ComFiT has a built-in function for creating animations of the system.\n",
    "This is done by exporting a series of plots and then combining them into a video.\n",
    "Let's try to create an animation of the 2D function $f(x,y) = \\sin(a*x+y)$, where a goes from $0$ to $1$."
   ]
  },
  {
   "cell_type": "code",
   "execution_count": null,
   "id": "b52b58a4",
   "metadata": {},
   "outputs": [],
   "source": [
    "\n",
    "a_values = np.linspace(0,1,100)\n",
    "for n in range(len(a_values)):\n",
    "    sys2.plot_field(np.sin(sys2.x + a_values[n]*sys2.y))\n",
    "    cf.tool_save_plot(n)\n",
    "cf.tool_make_animation_gif(n)"
   ]
  },
  {
   "cell_type": "markdown",
   "id": "22a59284",
   "metadata": {},
   "source": [
    "The output animation is saved as `YYMMDD_HHMM - output_animation.gif` in the working directory."
   ]
  },
  {
   "cell_type": "markdown",
   "id": "bcae8724",
   "metadata": {},
   "source": []
  }
 ],
 "metadata": {
  "kernelspec": {
   "display_name": "COMFIT",
   "language": "python",
   "name": "comfit"
  },
  "language_info": {
   "codemirror_mode": {
    "name": "ipython",
    "version": 3
   },
   "file_extension": ".py",
   "mimetype": "text/x-python",
   "name": "python",
   "nbconvert_exporter": "python",
   "pygments_lexer": "ipython3",
   "version": "3.9.18"
  }
 },
 "nbformat": 4,
 "nbformat_minor": 5
}
