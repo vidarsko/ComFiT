{
 "cells": [
  {
   "cell_type": "code",
   "execution_count": null,
   "metadata": {},
   "outputs": [],
   "source": [
    "!pip install comfit -q  # Only run this cell if you are running on Google Colab"
   ]
  },
  {
   "cell_type": "code",
   "execution_count": null,
   "metadata": {},
   "outputs": [],
   "source": [
    "import comfit as cf\n",
    "import numpy as np\n",
    "import scipy as sp\n",
    "\n",
    "import plotly.graph_objects as go"
   ]
  },
  {
   "cell_type": "code",
   "execution_count": null,
   "metadata": {},
   "outputs": [],
   "source": [
    "pfc = cf.PhaseFieldCrystal2DSquare(21,21, plot_lib='matplotlib')\n",
    "pfc.plot_lib='plotly'\n",
    "\n",
    "pfc.conf_create_polycrystal(type='four_grain')\n",
    "pfc.plot_field(pfc.psi)"
   ]
  },
  {
   "cell_type": "code",
   "execution_count": null,
   "metadata": {},
   "outputs": [],
   "source": [
    "external_force_density = np.zeros((2,pfc.xRes,pfc.yRes))\n",
    "external_force_density[0] = 1*np.sin(2*np.pi*pfc.y/pfc.xmax)\n",
    "external_force_density[0] = 2*np.sin(2*np.pi*pfc.y/pfc.xmax)\n",
    "pfc.plot_vector_field(external_force_density)"
   ]
  },
  {
   "cell_type": "code",
   "execution_count": null,
   "metadata": {},
   "outputs": [],
   "source": [
    "\n",
    "pfc = cf.PhaseFieldCrystal2DSquare(21,21, plot_lib='matplotlib')\n",
    "\n",
    "pfc.conf_create_polycrystal(type='four_grain')\n",
    "pfc.external_force_density_f = sp.fft.fftn(0.01*external_force_density, axes=(1,2))\n",
    "\n",
    "fig = pfc.plot_field(pfc.psi)\n",
    "\n",
    "frames = []\n",
    "for n in range(100):\n",
    "    pfc.evolve_PFC_hydrodynamic(10)\n",
    "    frames.append(go.Frame(data=pfc.plot_field(pfc.psi[0]).data))\n",
    "\n",
    "fig.frames = frames\n",
    "\n",
    "# Step 4: Add play and pause buttons\n",
    "fig.update_layout(\n",
    "    updatemenus=[\n",
    "        {\n",
    "            'buttons': [\n",
    "                {\n",
    "                    'args': [None, {'frame': {'duration': 100, 'redraw': True}, 'fromcurrent': True}],\n",
    "                    'label': 'Play',\n",
    "                    'method': 'animate'\n",
    "                },\n",
    "                {\n",
    "                    'args': [[None], {'frame': {'duration': 0, 'redraw': False}, 'mode': 'immediate'}],\n",
    "                    'label': 'Pause',\n",
    "                    'method': 'animate'\n",
    "                }\n",
    "            ],\n",
    "            'direction': 'left',\n",
    "            'pad': {'r': 10, 't': 87},\n",
    "            'showactive': False,\n",
    "            'type': 'buttons',\n",
    "            'x': 0.1,\n",
    "            'xanchor': 'right',\n",
    "            'y': 0,\n",
    "            'yanchor': 'top'\n",
    "        }\n",
    "    ]\n",
    ")\n",
    "\n",
    "# Step 5: Show the animated plot\n",
    "fig.show()\n",
    "\n"
   ]
  },
  {
   "cell_type": "code",
   "execution_count": null,
   "metadata": {},
   "outputs": [],
   "source": []
  }
 ],
 "metadata": {
  "kernelspec": {
   "display_name": "venv",
   "language": "python",
   "name": "python3"
  },
  "language_info": {
   "codemirror_mode": {
    "name": "ipython",
    "version": 3
   },
   "file_extension": ".py",
   "mimetype": "text/x-python",
   "name": "python",
   "nbconvert_exporter": "python",
   "pygments_lexer": "ipython3",
   "version": "3.12.2"
  }
 },
 "nbformat": 4,
 "nbformat_minor": 2
}
